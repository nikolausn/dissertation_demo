{
 "cells": [
  {
   "cell_type": "code",
   "execution_count": null,
   "metadata": {
    "colab": {
     "base_uri": "https://localhost:8080/"
    },
    "id": "_0027zOwOZBk",
    "outputId": "62b34acd-9493-4da8-e315-0365e23f8c03"
   },
   "outputs": [
    {
     "name": "stdout",
     "output_type": "stream",
     "text": [
      "Looking in indexes: https://pypi.org/simple, https://us-python.pkg.dev/colab-wheels/public/simple/\n",
      "Requirement already satisfied: xgboost in /usr/local/lib/python3.10/dist-packages (1.7.5)\n",
      "Requirement already satisfied: numpy in /usr/local/lib/python3.10/dist-packages (from xgboost) (1.22.4)\n",
      "Requirement already satisfied: scipy in /usr/local/lib/python3.10/dist-packages (from xgboost) (1.10.1)\n"
     ]
    }
   ],
   "source": [
    "!pip install xgboost"
   ]
  },
  {
   "cell_type": "code",
   "execution_count": null,
   "metadata": {
    "id": "5UtJS1GpagLk"
   },
   "outputs": [],
   "source": [
    "import pandas as pd\n",
    "import numpy   as np\n",
    "import xgboost as xgb"
   ]
  },
  {
   "cell_type": "code",
   "execution_count": null,
   "metadata": {
    "colab": {
     "base_uri": "https://localhost:8080/"
    },
    "id": "ECscGZEr8VmH",
    "outputId": "ea84f92d-5ab1-4d01-f718-6075120bb0de"
   },
   "outputs": [
    {
     "data": {
      "text/plain": [
       "1010.0"
      ]
     },
     "execution_count": 6,
     "metadata": {},
     "output_type": "execute_result"
    }
   ],
   "source": [
    "# preparing categorical value\n",
    "original_ds = pd.read_csv(\"chicago_listings.csv\")\n",
    "\n",
    "room_type_dict = sorted(original_ds[\"room_type\"].unique().tolist()+[\"other\"])\n",
    "room_cat = pd.CategoricalDtype(categories=room_type_dict)\n",
    "\n",
    "neighbourhood_dict = sorted(original_ds[\"neighbourhood\"].unique().tolist()+[\"other\"])\n",
    "neigh_cat = pd.CategoricalDtype(categories=neighbourhood_dict)\n",
    "\n",
    "over_priced = np.quantile(original_ds.price,.99)\n",
    "over_priced"
   ]
  },
  {
   "cell_type": "code",
   "execution_count": null,
   "metadata": {
    "id": "8fHQChDe8O5v"
   },
   "outputs": [],
   "source": [
    "def feature_engineering(airbnb_pd):\n",
    "  try:\n",
    "    airbnb_pd = airbnb_pd[(airbnb_pd.id_flag==0)&\n",
    "            (airbnb_pd.neighbourhood_flag==0)&(airbnb_pd.latitude_flag==0)&\n",
    "          (airbnb_pd.longitude_flag==0)&(airbnb_pd.minimum_nights_flag==0)&\n",
    "          (airbnb_pd.number_of_reviews_flag==0)&\n",
    "          (airbnb_pd.room_type_flag==0)\n",
    "          ]\n",
    "  except:\n",
    "    pass\n",
    "  airbnb_pd = airbnb_pd[airbnb_pd.price<over_priced]\n",
    "  airbnb_pd = airbnb_pd[airbnb_pd.price.isna()==False].copy().reset_index()\n",
    "\n",
    "  airbnb_pd[\"latitude\"] = airbnb_pd.latitude.fillna(0)\n",
    "  airbnb_pd[\"longitude\"] = airbnb_pd.longitude.fillna(0)\n",
    "  airbnb_pd[\"number_of_reviews\"] = airbnb_pd.number_of_reviews.fillna(0)\n",
    "  airbnb_pd[\"minimum_nights\"] = airbnb_pd.minimum_nights.fillna(0)\n",
    "  airbnb_pd[\"reviews_per_month\"] = airbnb_pd.reviews_per_month.fillna(0)\n",
    "\n",
    "  airbnb_pd.loc[:,\"latitude\"] = airbnb_pd.latitude.astype(float)\n",
    "  airbnb_pd.loc[:,\"longitude\"] = airbnb_pd.longitude.astype(float)\n",
    "  airbnb_pd.loc[:,\"number_of_reviews\"] = airbnb_pd.number_of_reviews.astype(int)\n",
    "  airbnb_pd.loc[:,\"minimum_nights\"] = airbnb_pd.minimum_nights.astype(int)\n",
    "  airbnb_pd.loc[:,\"reviews_per_month\"] = airbnb_pd.reviews_per_month.astype(float)\n",
    "\n",
    "  X_test = airbnb_pd[[\"latitude\",\"longitude\",\"minimum_nights\",\"number_of_reviews\"]]\n",
    "  room_cat = pd.CategoricalDtype(categories=room_type_dict)\n",
    "  airbnb_pd.room_type = airbnb_pd.room_type.astype(room_cat)\n",
    "  X_test =pd.concat([X_test,pd.get_dummies(airbnb_pd.room_type,columns=room_type_dict,prefix=\"room_type\",dummy_na=True,)],axis=1)\n",
    "  neigh_cat = pd.CategoricalDtype(categories=neighbourhood_dict)\n",
    "  airbnb_pd.neighbourhood = airbnb_pd.neighbourhood.astype(neigh_cat)\n",
    "  X_test = pd.concat([X_test,pd.get_dummies(airbnb_pd.neighbourhood,columns=neighbourhood_dict,prefix=\"neighbourhood\",dummy_na=True)],axis=1)\n",
    "\n",
    "  y_test = airbnb_pd[[\"price\"]]\n",
    "  return X_test,y_test,airbnb_pd"
   ]
  },
  {
   "cell_type": "code",
   "execution_count": null,
   "metadata": {
    "id": "rbFsQLuk9Q3q"
   },
   "outputs": [],
   "source": [
    "def transform_file(file_name):\n",
    "  airbnb_pd = pd.read_csv(file_name)\n",
    "  return feature_engineering(airbnb_pd)"
   ]
  },
  {
   "cell_type": "code",
   "execution_count": null,
   "metadata": {
    "id": "hwNoySZd71u8"
   },
   "outputs": [],
   "source": [
    "import os\n",
    "from sklearn.metrics import mean_squared_log_error,mean_squared_error\n",
    "from tqdm import tqdm\n",
    "\n",
    "dir = \"split_variation\"\n",
    "\n",
    "compiled_results = []\n",
    "\n",
    "for dd in tqdm(os.listdir(dir)):\n",
    "  #print(dd)\n",
    "  d_split = f\"{dir}/{dd}\"\n",
    "  # read original first\n",
    "  X_train, y_train, _ = transform_file(f\"{d_split}/train_original.csv\")\n",
    "  # read test file\n",
    "  X_test, y_test, _ = transform_file(f\"{d_split}/test.csv\")\n",
    "  # original performance\n",
    "\n",
    "  regressor=xgb.XGBRegressor(learning_rate = 0.005,\n",
    "                            n_estimators  = 500,\n",
    "                            max_depth     = 7,\n",
    "                            eval_metric='rmsle')\n",
    "\n",
    "  regressor.fit(X_train, y_train)\n",
    "\n",
    "  predictions = regressor.predict(X_test)\n",
    "  RMSE = np.sqrt(mean_squared_error(y_test, predictions))\n",
    "  predictions[predictions<0] = 0\n",
    "  RMSLE = np.sqrt(mean_squared_log_error(y_test, predictions))\n",
    "  #print(\"The score is %.5f\" % RMSE )\n",
    "  compiled_results.append((dd,\"original\",RMSE,RMSLE))\n",
    "  for fl in tqdm(os.listdir(d_split)):\n",
    "    if fl.find(\"cleaned\") >= 0:\n",
    "      #print(fl)\n",
    "      X_train, y_train, _ = transform_file(f\"{d_split}/{fl}\")\n",
    "      regressor=xgb.XGBRegressor(learning_rate = 0.005,\n",
    "                            n_estimators  = 500,\n",
    "                            max_depth     = 7,\n",
    "                            eval_metric='rmsle')\n",
    "\n",
    "      regressor.fit(X_train, y_train)\n",
    "\n",
    "      predictions = regressor.predict(X_test)\n",
    "      RMSE = np.sqrt( mean_squared_error(y_test, predictions))\n",
    "      predictions[predictions<0] = 0\n",
    "      RMSLE = np.sqrt(mean_squared_log_error(y_test, predictions))\n",
    "      # predictions\n",
    "      #print(\"The score is %.5f\" % RMSE )\n",
    "      compiled_results.append((dd,fl,RMSE,RMSLE))\n",
    "      #break\n",
    "\n"
   ]
  },
  {
   "cell_type": "code",
   "execution_count": null,
   "metadata": {
    "colab": {
     "base_uri": "https://localhost:8080/"
    },
    "id": "Ndb9ESBM8kG6",
    "outputId": "2b1af480-f42e-448b-a7c1-2d5f97222c66"
   },
   "outputs": [
    {
     "name": "stderr",
     "output_type": "stream",
     "text": [
      "  0%|          | 0/10 [00:00<?, ?it/s]\n",
      "  0%|          | 0/58 [00:00<?, ?it/s]\u001b[A\n",
      " 19%|█▉        | 11/58 [00:00<00:00, 84.57it/s]\u001b[A"
     ]
    },
    {
     "name": "stdout",
     "output_type": "stream",
     "text": [
      "train_noise_40.csv_cleaned_baseline.csv\n",
      "train_noise_30.csv_cleaned_baseline.csv\n",
      "train_noise_15.csv_cleaned_baseline.csv\n",
      "train_noise_25.csv_cleaned_baseline.csv\n",
      "train_noise_10.csv_cleaned_baseline.csv\n",
      "train_noise_35.csv_cleaned_baseline.csv\n",
      "train_noise_5.csv_cleaned_baseline.csv\n",
      "train_noise_20.csv_cleaned_baseline.csv\n",
      "train_noise_15.csv_cleaned_baselineAverage.csv\n",
      "train_noise_40.csv_cleaned_baselineAverage.csv\n"
     ]
    },
    {
     "name": "stderr",
     "output_type": "stream",
     "text": [
      "\n",
      " 34%|███▍      | 20/58 [00:03<00:08,  4.34it/s]\u001b[A"
     ]
    },
    {
     "name": "stdout",
     "output_type": "stream",
     "text": [
      "train_noise_30.csv_cleaned_baselineAverage.csv\n",
      "train_noise_25.csv_cleaned_baselineAverage.csv\n",
      "train_noise_5.csv_cleaned_baselineAverage.csv\n",
      "train_noise_10.csv_cleaned_baselineAverage.csv\n"
     ]
    },
    {
     "name": "stderr",
     "output_type": "stream",
     "text": [
      "\n",
      " 41%|████▏     | 24/58 [00:06<00:10,  3.10it/s]\u001b[A"
     ]
    },
    {
     "name": "stdout",
     "output_type": "stream",
     "text": [
      "train_noise_35.csv_cleaned_baselineAverage.csv\n",
      "train_noise_20.csv_cleaned_baselineAverage.csv\n",
      "train_noise_40.csv_cleaned_curatorC1.csv\n"
     ]
    },
    {
     "name": "stderr",
     "output_type": "stream",
     "text": [
      "<ipython-input-15-a8ec1c88f09f>:22: DeprecationWarning: In a future version, `df.iloc[:, i] = newvals` will attempt to set the values inplace instead of always setting a new array. To retain the old behavior, use either `df[df.columns[i]] = newvals` or, if columns are non-unique, `df.isetitem(i, newvals)`\n",
      "  airbnb_pd.loc[:,\"number_of_reviews\"] = airbnb_pd.number_of_reviews.astype(int)\n",
      "<ipython-input-15-a8ec1c88f09f>:23: DeprecationWarning: In a future version, `df.iloc[:, i] = newvals` will attempt to set the values inplace instead of always setting a new array. To retain the old behavior, use either `df[df.columns[i]] = newvals` or, if columns are non-unique, `df.isetitem(i, newvals)`\n",
      "  airbnb_pd.loc[:,\"minimum_nights\"] = airbnb_pd.minimum_nights.astype(int)\n",
      "\n",
      " 47%|████▋     | 27/58 [00:07<00:10,  3.02it/s]\u001b[A"
     ]
    },
    {
     "name": "stdout",
     "output_type": "stream",
     "text": [
      "train_noise_30.csv_cleaned_curatorC1.csv\n"
     ]
    },
    {
     "name": "stderr",
     "output_type": "stream",
     "text": [
      "<ipython-input-15-a8ec1c88f09f>:22: DeprecationWarning: In a future version, `df.iloc[:, i] = newvals` will attempt to set the values inplace instead of always setting a new array. To retain the old behavior, use either `df[df.columns[i]] = newvals` or, if columns are non-unique, `df.isetitem(i, newvals)`\n",
      "  airbnb_pd.loc[:,\"number_of_reviews\"] = airbnb_pd.number_of_reviews.astype(int)\n",
      "<ipython-input-15-a8ec1c88f09f>:23: DeprecationWarning: In a future version, `df.iloc[:, i] = newvals` will attempt to set the values inplace instead of always setting a new array. To retain the old behavior, use either `df[df.columns[i]] = newvals` or, if columns are non-unique, `df.isetitem(i, newvals)`\n",
      "  airbnb_pd.loc[:,\"minimum_nights\"] = airbnb_pd.minimum_nights.astype(int)\n"
     ]
    },
    {
     "name": "stdout",
     "output_type": "stream",
     "text": [
      "train_noise_15.csv_cleaned_curatorC1.csv\n"
     ]
    },
    {
     "name": "stderr",
     "output_type": "stream",
     "text": [
      "<ipython-input-15-a8ec1c88f09f>:22: DeprecationWarning: In a future version, `df.iloc[:, i] = newvals` will attempt to set the values inplace instead of always setting a new array. To retain the old behavior, use either `df[df.columns[i]] = newvals` or, if columns are non-unique, `df.isetitem(i, newvals)`\n",
      "  airbnb_pd.loc[:,\"number_of_reviews\"] = airbnb_pd.number_of_reviews.astype(int)\n",
      "<ipython-input-15-a8ec1c88f09f>:23: DeprecationWarning: In a future version, `df.iloc[:, i] = newvals` will attempt to set the values inplace instead of always setting a new array. To retain the old behavior, use either `df[df.columns[i]] = newvals` or, if columns are non-unique, `df.isetitem(i, newvals)`\n",
      "  airbnb_pd.loc[:,\"minimum_nights\"] = airbnb_pd.minimum_nights.astype(int)\n",
      "\n",
      " 50%|█████     | 29/58 [00:08<00:09,  3.01it/s]\u001b[A"
     ]
    },
    {
     "name": "stdout",
     "output_type": "stream",
     "text": [
      "train_noise_25.csv_cleaned_curatorC1.csv\n"
     ]
    },
    {
     "name": "stderr",
     "output_type": "stream",
     "text": [
      "<ipython-input-15-a8ec1c88f09f>:22: DeprecationWarning: In a future version, `df.iloc[:, i] = newvals` will attempt to set the values inplace instead of always setting a new array. To retain the old behavior, use either `df[df.columns[i]] = newvals` or, if columns are non-unique, `df.isetitem(i, newvals)`\n",
      "  airbnb_pd.loc[:,\"number_of_reviews\"] = airbnb_pd.number_of_reviews.astype(int)\n",
      "<ipython-input-15-a8ec1c88f09f>:23: DeprecationWarning: In a future version, `df.iloc[:, i] = newvals` will attempt to set the values inplace instead of always setting a new array. To retain the old behavior, use either `df[df.columns[i]] = newvals` or, if columns are non-unique, `df.isetitem(i, newvals)`\n",
      "  airbnb_pd.loc[:,\"minimum_nights\"] = airbnb_pd.minimum_nights.astype(int)\n",
      "\n",
      " 52%|█████▏    | 30/58 [00:08<00:09,  2.93it/s]\u001b[A"
     ]
    },
    {
     "name": "stdout",
     "output_type": "stream",
     "text": [
      "train_noise_10.csv_cleaned_curatorC1.csv\n"
     ]
    },
    {
     "name": "stderr",
     "output_type": "stream",
     "text": [
      "<ipython-input-15-a8ec1c88f09f>:22: DeprecationWarning: In a future version, `df.iloc[:, i] = newvals` will attempt to set the values inplace instead of always setting a new array. To retain the old behavior, use either `df[df.columns[i]] = newvals` or, if columns are non-unique, `df.isetitem(i, newvals)`\n",
      "  airbnb_pd.loc[:,\"number_of_reviews\"] = airbnb_pd.number_of_reviews.astype(int)\n",
      "<ipython-input-15-a8ec1c88f09f>:23: DeprecationWarning: In a future version, `df.iloc[:, i] = newvals` will attempt to set the values inplace instead of always setting a new array. To retain the old behavior, use either `df[df.columns[i]] = newvals` or, if columns are non-unique, `df.isetitem(i, newvals)`\n",
      "  airbnb_pd.loc[:,\"minimum_nights\"] = airbnb_pd.minimum_nights.astype(int)\n",
      "\n",
      " 53%|█████▎    | 31/58 [00:08<00:09,  2.92it/s]\u001b[A"
     ]
    },
    {
     "name": "stdout",
     "output_type": "stream",
     "text": [
      "train_noise_5.csv_cleaned_curatorC1.csv\n"
     ]
    },
    {
     "name": "stderr",
     "output_type": "stream",
     "text": [
      "<ipython-input-15-a8ec1c88f09f>:22: DeprecationWarning: In a future version, `df.iloc[:, i] = newvals` will attempt to set the values inplace instead of always setting a new array. To retain the old behavior, use either `df[df.columns[i]] = newvals` or, if columns are non-unique, `df.isetitem(i, newvals)`\n",
      "  airbnb_pd.loc[:,\"number_of_reviews\"] = airbnb_pd.number_of_reviews.astype(int)\n",
      "<ipython-input-15-a8ec1c88f09f>:23: DeprecationWarning: In a future version, `df.iloc[:, i] = newvals` will attempt to set the values inplace instead of always setting a new array. To retain the old behavior, use either `df[df.columns[i]] = newvals` or, if columns are non-unique, `df.isetitem(i, newvals)`\n",
      "  airbnb_pd.loc[:,\"minimum_nights\"] = airbnb_pd.minimum_nights.astype(int)\n",
      "\n",
      " 55%|█████▌    | 32/58 [00:09<00:09,  2.75it/s]\u001b[A"
     ]
    },
    {
     "name": "stdout",
     "output_type": "stream",
     "text": [
      "train_noise_35.csv_cleaned_curatorC1.csv\n"
     ]
    },
    {
     "name": "stderr",
     "output_type": "stream",
     "text": [
      "<ipython-input-15-a8ec1c88f09f>:22: DeprecationWarning: In a future version, `df.iloc[:, i] = newvals` will attempt to set the values inplace instead of always setting a new array. To retain the old behavior, use either `df[df.columns[i]] = newvals` or, if columns are non-unique, `df.isetitem(i, newvals)`\n",
      "  airbnb_pd.loc[:,\"number_of_reviews\"] = airbnb_pd.number_of_reviews.astype(int)\n",
      "<ipython-input-15-a8ec1c88f09f>:23: DeprecationWarning: In a future version, `df.iloc[:, i] = newvals` will attempt to set the values inplace instead of always setting a new array. To retain the old behavior, use either `df[df.columns[i]] = newvals` or, if columns are non-unique, `df.isetitem(i, newvals)`\n",
      "  airbnb_pd.loc[:,\"minimum_nights\"] = airbnb_pd.minimum_nights.astype(int)\n",
      "\n",
      " 57%|█████▋    | 33/58 [00:09<00:09,  2.59it/s]\u001b[A"
     ]
    },
    {
     "name": "stdout",
     "output_type": "stream",
     "text": [
      "train_noise_20.csv_cleaned_curatorC1.csv\n"
     ]
    },
    {
     "name": "stderr",
     "output_type": "stream",
     "text": [
      "<ipython-input-15-a8ec1c88f09f>:22: DeprecationWarning: In a future version, `df.iloc[:, i] = newvals` will attempt to set the values inplace instead of always setting a new array. To retain the old behavior, use either `df[df.columns[i]] = newvals` or, if columns are non-unique, `df.isetitem(i, newvals)`\n",
      "  airbnb_pd.loc[:,\"number_of_reviews\"] = airbnb_pd.number_of_reviews.astype(int)\n",
      "<ipython-input-15-a8ec1c88f09f>:23: DeprecationWarning: In a future version, `df.iloc[:, i] = newvals` will attempt to set the values inplace instead of always setting a new array. To retain the old behavior, use either `df[df.columns[i]] = newvals` or, if columns are non-unique, `df.isetitem(i, newvals)`\n",
      "  airbnb_pd.loc[:,\"minimum_nights\"] = airbnb_pd.minimum_nights.astype(int)\n",
      "\n",
      " 59%|█████▊    | 34/58 [00:10<00:09,  2.55it/s]\u001b[A"
     ]
    },
    {
     "name": "stdout",
     "output_type": "stream",
     "text": [
      "train_noise_40.csv_cleaned_curatorC2.csv\n"
     ]
    },
    {
     "name": "stderr",
     "output_type": "stream",
     "text": [
      "<ipython-input-15-a8ec1c88f09f>:20: DeprecationWarning: In a future version, `df.iloc[:, i] = newvals` will attempt to set the values inplace instead of always setting a new array. To retain the old behavior, use either `df[df.columns[i]] = newvals` or, if columns are non-unique, `df.isetitem(i, newvals)`\n",
      "  airbnb_pd.loc[:,\"latitude\"] = airbnb_pd.latitude.astype(float)\n",
      "<ipython-input-15-a8ec1c88f09f>:21: DeprecationWarning: In a future version, `df.iloc[:, i] = newvals` will attempt to set the values inplace instead of always setting a new array. To retain the old behavior, use either `df[df.columns[i]] = newvals` or, if columns are non-unique, `df.isetitem(i, newvals)`\n",
      "  airbnb_pd.loc[:,\"longitude\"] = airbnb_pd.longitude.astype(float)\n",
      "<ipython-input-15-a8ec1c88f09f>:22: DeprecationWarning: In a future version, `df.iloc[:, i] = newvals` will attempt to set the values inplace instead of always setting a new array. To retain the old behavior, use either `df[df.columns[i]] = newvals` or, if columns are non-unique, `df.isetitem(i, newvals)`\n",
      "  airbnb_pd.loc[:,\"number_of_reviews\"] = airbnb_pd.number_of_reviews.astype(int)\n",
      "<ipython-input-15-a8ec1c88f09f>:23: DeprecationWarning: In a future version, `df.iloc[:, i] = newvals` will attempt to set the values inplace instead of always setting a new array. To retain the old behavior, use either `df[df.columns[i]] = newvals` or, if columns are non-unique, `df.isetitem(i, newvals)`\n",
      "  airbnb_pd.loc[:,\"minimum_nights\"] = airbnb_pd.minimum_nights.astype(int)\n",
      "\n",
      " 60%|██████    | 35/58 [00:10<00:08,  2.62it/s]\u001b[A"
     ]
    },
    {
     "name": "stdout",
     "output_type": "stream",
     "text": [
      "train_noise_30.csv_cleaned_curatorC2.csv\n"
     ]
    },
    {
     "name": "stderr",
     "output_type": "stream",
     "text": [
      "<ipython-input-15-a8ec1c88f09f>:20: DeprecationWarning: In a future version, `df.iloc[:, i] = newvals` will attempt to set the values inplace instead of always setting a new array. To retain the old behavior, use either `df[df.columns[i]] = newvals` or, if columns are non-unique, `df.isetitem(i, newvals)`\n",
      "  airbnb_pd.loc[:,\"latitude\"] = airbnb_pd.latitude.astype(float)\n",
      "<ipython-input-15-a8ec1c88f09f>:21: DeprecationWarning: In a future version, `df.iloc[:, i] = newvals` will attempt to set the values inplace instead of always setting a new array. To retain the old behavior, use either `df[df.columns[i]] = newvals` or, if columns are non-unique, `df.isetitem(i, newvals)`\n",
      "  airbnb_pd.loc[:,\"longitude\"] = airbnb_pd.longitude.astype(float)\n",
      "<ipython-input-15-a8ec1c88f09f>:22: DeprecationWarning: In a future version, `df.iloc[:, i] = newvals` will attempt to set the values inplace instead of always setting a new array. To retain the old behavior, use either `df[df.columns[i]] = newvals` or, if columns are non-unique, `df.isetitem(i, newvals)`\n",
      "  airbnb_pd.loc[:,\"number_of_reviews\"] = airbnb_pd.number_of_reviews.astype(int)\n",
      "<ipython-input-15-a8ec1c88f09f>:23: DeprecationWarning: In a future version, `df.iloc[:, i] = newvals` will attempt to set the values inplace instead of always setting a new array. To retain the old behavior, use either `df[df.columns[i]] = newvals` or, if columns are non-unique, `df.isetitem(i, newvals)`\n",
      "  airbnb_pd.loc[:,\"minimum_nights\"] = airbnb_pd.minimum_nights.astype(int)\n",
      "\n",
      " 62%|██████▏   | 36/58 [00:10<00:08,  2.64it/s]\u001b[A"
     ]
    },
    {
     "name": "stdout",
     "output_type": "stream",
     "text": [
      "train_noise_15.csv_cleaned_curatorC2.csv\n"
     ]
    },
    {
     "name": "stderr",
     "output_type": "stream",
     "text": [
      "<ipython-input-15-a8ec1c88f09f>:20: DeprecationWarning: In a future version, `df.iloc[:, i] = newvals` will attempt to set the values inplace instead of always setting a new array. To retain the old behavior, use either `df[df.columns[i]] = newvals` or, if columns are non-unique, `df.isetitem(i, newvals)`\n",
      "  airbnb_pd.loc[:,\"latitude\"] = airbnb_pd.latitude.astype(float)\n",
      "<ipython-input-15-a8ec1c88f09f>:21: DeprecationWarning: In a future version, `df.iloc[:, i] = newvals` will attempt to set the values inplace instead of always setting a new array. To retain the old behavior, use either `df[df.columns[i]] = newvals` or, if columns are non-unique, `df.isetitem(i, newvals)`\n",
      "  airbnb_pd.loc[:,\"longitude\"] = airbnb_pd.longitude.astype(float)\n",
      "<ipython-input-15-a8ec1c88f09f>:22: DeprecationWarning: In a future version, `df.iloc[:, i] = newvals` will attempt to set the values inplace instead of always setting a new array. To retain the old behavior, use either `df[df.columns[i]] = newvals` or, if columns are non-unique, `df.isetitem(i, newvals)`\n",
      "  airbnb_pd.loc[:,\"number_of_reviews\"] = airbnb_pd.number_of_reviews.astype(int)\n",
      "<ipython-input-15-a8ec1c88f09f>:23: DeprecationWarning: In a future version, `df.iloc[:, i] = newvals` will attempt to set the values inplace instead of always setting a new array. To retain the old behavior, use either `df[df.columns[i]] = newvals` or, if columns are non-unique, `df.isetitem(i, newvals)`\n",
      "  airbnb_pd.loc[:,\"minimum_nights\"] = airbnb_pd.minimum_nights.astype(int)\n",
      "\n",
      " 64%|██████▍   | 37/58 [00:11<00:08,  2.57it/s]\u001b[A"
     ]
    },
    {
     "name": "stdout",
     "output_type": "stream",
     "text": [
      "train_noise_25.csv_cleaned_curatorC2.csv\n"
     ]
    },
    {
     "name": "stderr",
     "output_type": "stream",
     "text": [
      "<ipython-input-15-a8ec1c88f09f>:20: DeprecationWarning: In a future version, `df.iloc[:, i] = newvals` will attempt to set the values inplace instead of always setting a new array. To retain the old behavior, use either `df[df.columns[i]] = newvals` or, if columns are non-unique, `df.isetitem(i, newvals)`\n",
      "  airbnb_pd.loc[:,\"latitude\"] = airbnb_pd.latitude.astype(float)\n",
      "<ipython-input-15-a8ec1c88f09f>:21: DeprecationWarning: In a future version, `df.iloc[:, i] = newvals` will attempt to set the values inplace instead of always setting a new array. To retain the old behavior, use either `df[df.columns[i]] = newvals` or, if columns are non-unique, `df.isetitem(i, newvals)`\n",
      "  airbnb_pd.loc[:,\"longitude\"] = airbnb_pd.longitude.astype(float)\n",
      "<ipython-input-15-a8ec1c88f09f>:22: DeprecationWarning: In a future version, `df.iloc[:, i] = newvals` will attempt to set the values inplace instead of always setting a new array. To retain the old behavior, use either `df[df.columns[i]] = newvals` or, if columns are non-unique, `df.isetitem(i, newvals)`\n",
      "  airbnb_pd.loc[:,\"number_of_reviews\"] = airbnb_pd.number_of_reviews.astype(int)\n",
      "<ipython-input-15-a8ec1c88f09f>:23: DeprecationWarning: In a future version, `df.iloc[:, i] = newvals` will attempt to set the values inplace instead of always setting a new array. To retain the old behavior, use either `df[df.columns[i]] = newvals` or, if columns are non-unique, `df.isetitem(i, newvals)`\n",
      "  airbnb_pd.loc[:,\"minimum_nights\"] = airbnb_pd.minimum_nights.astype(int)\n",
      "\n",
      " 66%|██████▌   | 38/58 [00:11<00:07,  2.61it/s]\u001b[A"
     ]
    },
    {
     "name": "stdout",
     "output_type": "stream",
     "text": [
      "train_noise_10.csv_cleaned_curatorC2.csv\n"
     ]
    },
    {
     "name": "stderr",
     "output_type": "stream",
     "text": [
      "<ipython-input-15-a8ec1c88f09f>:20: DeprecationWarning: In a future version, `df.iloc[:, i] = newvals` will attempt to set the values inplace instead of always setting a new array. To retain the old behavior, use either `df[df.columns[i]] = newvals` or, if columns are non-unique, `df.isetitem(i, newvals)`\n",
      "  airbnb_pd.loc[:,\"latitude\"] = airbnb_pd.latitude.astype(float)\n",
      "<ipython-input-15-a8ec1c88f09f>:21: DeprecationWarning: In a future version, `df.iloc[:, i] = newvals` will attempt to set the values inplace instead of always setting a new array. To retain the old behavior, use either `df[df.columns[i]] = newvals` or, if columns are non-unique, `df.isetitem(i, newvals)`\n",
      "  airbnb_pd.loc[:,\"longitude\"] = airbnb_pd.longitude.astype(float)\n",
      "<ipython-input-15-a8ec1c88f09f>:22: DeprecationWarning: In a future version, `df.iloc[:, i] = newvals` will attempt to set the values inplace instead of always setting a new array. To retain the old behavior, use either `df[df.columns[i]] = newvals` or, if columns are non-unique, `df.isetitem(i, newvals)`\n",
      "  airbnb_pd.loc[:,\"number_of_reviews\"] = airbnb_pd.number_of_reviews.astype(int)\n",
      "<ipython-input-15-a8ec1c88f09f>:23: DeprecationWarning: In a future version, `df.iloc[:, i] = newvals` will attempt to set the values inplace instead of always setting a new array. To retain the old behavior, use either `df[df.columns[i]] = newvals` or, if columns are non-unique, `df.isetitem(i, newvals)`\n",
      "  airbnb_pd.loc[:,\"minimum_nights\"] = airbnb_pd.minimum_nights.astype(int)\n",
      "\n",
      " 67%|██████▋   | 39/58 [00:12<00:07,  2.67it/s]\u001b[A"
     ]
    },
    {
     "name": "stdout",
     "output_type": "stream",
     "text": [
      "train_noise_5.csv_cleaned_curatorC2.csv\n"
     ]
    },
    {
     "name": "stderr",
     "output_type": "stream",
     "text": [
      "<ipython-input-15-a8ec1c88f09f>:20: DeprecationWarning: In a future version, `df.iloc[:, i] = newvals` will attempt to set the values inplace instead of always setting a new array. To retain the old behavior, use either `df[df.columns[i]] = newvals` or, if columns are non-unique, `df.isetitem(i, newvals)`\n",
      "  airbnb_pd.loc[:,\"latitude\"] = airbnb_pd.latitude.astype(float)\n",
      "<ipython-input-15-a8ec1c88f09f>:21: DeprecationWarning: In a future version, `df.iloc[:, i] = newvals` will attempt to set the values inplace instead of always setting a new array. To retain the old behavior, use either `df[df.columns[i]] = newvals` or, if columns are non-unique, `df.isetitem(i, newvals)`\n",
      "  airbnb_pd.loc[:,\"longitude\"] = airbnb_pd.longitude.astype(float)\n",
      "<ipython-input-15-a8ec1c88f09f>:22: DeprecationWarning: In a future version, `df.iloc[:, i] = newvals` will attempt to set the values inplace instead of always setting a new array. To retain the old behavior, use either `df[df.columns[i]] = newvals` or, if columns are non-unique, `df.isetitem(i, newvals)`\n",
      "  airbnb_pd.loc[:,\"number_of_reviews\"] = airbnb_pd.number_of_reviews.astype(int)\n",
      "<ipython-input-15-a8ec1c88f09f>:23: DeprecationWarning: In a future version, `df.iloc[:, i] = newvals` will attempt to set the values inplace instead of always setting a new array. To retain the old behavior, use either `df[df.columns[i]] = newvals` or, if columns are non-unique, `df.isetitem(i, newvals)`\n",
      "  airbnb_pd.loc[:,\"minimum_nights\"] = airbnb_pd.minimum_nights.astype(int)\n",
      "\n",
      " 69%|██████▉   | 40/58 [00:12<00:06,  2.59it/s]\u001b[A"
     ]
    },
    {
     "name": "stdout",
     "output_type": "stream",
     "text": [
      "train_noise_35.csv_cleaned_curatorC2.csv\n"
     ]
    },
    {
     "name": "stderr",
     "output_type": "stream",
     "text": [
      "<ipython-input-15-a8ec1c88f09f>:20: DeprecationWarning: In a future version, `df.iloc[:, i] = newvals` will attempt to set the values inplace instead of always setting a new array. To retain the old behavior, use either `df[df.columns[i]] = newvals` or, if columns are non-unique, `df.isetitem(i, newvals)`\n",
      "  airbnb_pd.loc[:,\"latitude\"] = airbnb_pd.latitude.astype(float)\n",
      "<ipython-input-15-a8ec1c88f09f>:21: DeprecationWarning: In a future version, `df.iloc[:, i] = newvals` will attempt to set the values inplace instead of always setting a new array. To retain the old behavior, use either `df[df.columns[i]] = newvals` or, if columns are non-unique, `df.isetitem(i, newvals)`\n",
      "  airbnb_pd.loc[:,\"longitude\"] = airbnb_pd.longitude.astype(float)\n",
      "<ipython-input-15-a8ec1c88f09f>:22: DeprecationWarning: In a future version, `df.iloc[:, i] = newvals` will attempt to set the values inplace instead of always setting a new array. To retain the old behavior, use either `df[df.columns[i]] = newvals` or, if columns are non-unique, `df.isetitem(i, newvals)`\n",
      "  airbnb_pd.loc[:,\"number_of_reviews\"] = airbnb_pd.number_of_reviews.astype(int)\n",
      "<ipython-input-15-a8ec1c88f09f>:23: DeprecationWarning: In a future version, `df.iloc[:, i] = newvals` will attempt to set the values inplace instead of always setting a new array. To retain the old behavior, use either `df[df.columns[i]] = newvals` or, if columns are non-unique, `df.isetitem(i, newvals)`\n",
      "  airbnb_pd.loc[:,\"minimum_nights\"] = airbnb_pd.minimum_nights.astype(int)\n",
      "\n",
      " 71%|███████   | 41/58 [00:12<00:06,  2.64it/s]\u001b[A"
     ]
    },
    {
     "name": "stdout",
     "output_type": "stream",
     "text": [
      "train_noise_20.csv_cleaned_curatorC2.csv\n"
     ]
    },
    {
     "name": "stderr",
     "output_type": "stream",
     "text": [
      "<ipython-input-15-a8ec1c88f09f>:20: DeprecationWarning: In a future version, `df.iloc[:, i] = newvals` will attempt to set the values inplace instead of always setting a new array. To retain the old behavior, use either `df[df.columns[i]] = newvals` or, if columns are non-unique, `df.isetitem(i, newvals)`\n",
      "  airbnb_pd.loc[:,\"latitude\"] = airbnb_pd.latitude.astype(float)\n",
      "<ipython-input-15-a8ec1c88f09f>:21: DeprecationWarning: In a future version, `df.iloc[:, i] = newvals` will attempt to set the values inplace instead of always setting a new array. To retain the old behavior, use either `df[df.columns[i]] = newvals` or, if columns are non-unique, `df.isetitem(i, newvals)`\n",
      "  airbnb_pd.loc[:,\"longitude\"] = airbnb_pd.longitude.astype(float)\n",
      "<ipython-input-15-a8ec1c88f09f>:22: DeprecationWarning: In a future version, `df.iloc[:, i] = newvals` will attempt to set the values inplace instead of always setting a new array. To retain the old behavior, use either `df[df.columns[i]] = newvals` or, if columns are non-unique, `df.isetitem(i, newvals)`\n",
      "  airbnb_pd.loc[:,\"number_of_reviews\"] = airbnb_pd.number_of_reviews.astype(int)\n",
      "<ipython-input-15-a8ec1c88f09f>:23: DeprecationWarning: In a future version, `df.iloc[:, i] = newvals` will attempt to set the values inplace instead of always setting a new array. To retain the old behavior, use either `df[df.columns[i]] = newvals` or, if columns are non-unique, `df.isetitem(i, newvals)`\n",
      "  airbnb_pd.loc[:,\"minimum_nights\"] = airbnb_pd.minimum_nights.astype(int)\n",
      "\n",
      " 72%|███████▏  | 42/58 [00:13<00:06,  2.61it/s]\u001b[A"
     ]
    },
    {
     "name": "stdout",
     "output_type": "stream",
     "text": [
      "train_noise_40.csv_cleaned_curatorC3.csv\n"
     ]
    },
    {
     "name": "stderr",
     "output_type": "stream",
     "text": [
      "<ipython-input-15-a8ec1c88f09f>:20: DeprecationWarning: In a future version, `df.iloc[:, i] = newvals` will attempt to set the values inplace instead of always setting a new array. To retain the old behavior, use either `df[df.columns[i]] = newvals` or, if columns are non-unique, `df.isetitem(i, newvals)`\n",
      "  airbnb_pd.loc[:,\"latitude\"] = airbnb_pd.latitude.astype(float)\n",
      "<ipython-input-15-a8ec1c88f09f>:21: DeprecationWarning: In a future version, `df.iloc[:, i] = newvals` will attempt to set the values inplace instead of always setting a new array. To retain the old behavior, use either `df[df.columns[i]] = newvals` or, if columns are non-unique, `df.isetitem(i, newvals)`\n",
      "  airbnb_pd.loc[:,\"longitude\"] = airbnb_pd.longitude.astype(float)\n",
      "<ipython-input-15-a8ec1c88f09f>:22: DeprecationWarning: In a future version, `df.iloc[:, i] = newvals` will attempt to set the values inplace instead of always setting a new array. To retain the old behavior, use either `df[df.columns[i]] = newvals` or, if columns are non-unique, `df.isetitem(i, newvals)`\n",
      "  airbnb_pd.loc[:,\"number_of_reviews\"] = airbnb_pd.number_of_reviews.astype(int)\n",
      "<ipython-input-15-a8ec1c88f09f>:23: DeprecationWarning: In a future version, `df.iloc[:, i] = newvals` will attempt to set the values inplace instead of always setting a new array. To retain the old behavior, use either `df[df.columns[i]] = newvals` or, if columns are non-unique, `df.isetitem(i, newvals)`\n",
      "  airbnb_pd.loc[:,\"minimum_nights\"] = airbnb_pd.minimum_nights.astype(int)\n",
      "\n",
      " 74%|███████▍  | 43/58 [00:13<00:05,  2.66it/s]\u001b[A"
     ]
    },
    {
     "name": "stdout",
     "output_type": "stream",
     "text": [
      "train_noise_30.csv_cleaned_curatorC3.csv\n"
     ]
    },
    {
     "name": "stderr",
     "output_type": "stream",
     "text": [
      "<ipython-input-15-a8ec1c88f09f>:20: DeprecationWarning: In a future version, `df.iloc[:, i] = newvals` will attempt to set the values inplace instead of always setting a new array. To retain the old behavior, use either `df[df.columns[i]] = newvals` or, if columns are non-unique, `df.isetitem(i, newvals)`\n",
      "  airbnb_pd.loc[:,\"latitude\"] = airbnb_pd.latitude.astype(float)\n",
      "<ipython-input-15-a8ec1c88f09f>:21: DeprecationWarning: In a future version, `df.iloc[:, i] = newvals` will attempt to set the values inplace instead of always setting a new array. To retain the old behavior, use either `df[df.columns[i]] = newvals` or, if columns are non-unique, `df.isetitem(i, newvals)`\n",
      "  airbnb_pd.loc[:,\"longitude\"] = airbnb_pd.longitude.astype(float)\n",
      "<ipython-input-15-a8ec1c88f09f>:22: DeprecationWarning: In a future version, `df.iloc[:, i] = newvals` will attempt to set the values inplace instead of always setting a new array. To retain the old behavior, use either `df[df.columns[i]] = newvals` or, if columns are non-unique, `df.isetitem(i, newvals)`\n",
      "  airbnb_pd.loc[:,\"number_of_reviews\"] = airbnb_pd.number_of_reviews.astype(int)\n",
      "<ipython-input-15-a8ec1c88f09f>:23: DeprecationWarning: In a future version, `df.iloc[:, i] = newvals` will attempt to set the values inplace instead of always setting a new array. To retain the old behavior, use either `df[df.columns[i]] = newvals` or, if columns are non-unique, `df.isetitem(i, newvals)`\n",
      "  airbnb_pd.loc[:,\"minimum_nights\"] = airbnb_pd.minimum_nights.astype(int)\n",
      "\n",
      " 76%|███████▌  | 44/58 [00:13<00:05,  2.64it/s]\u001b[A"
     ]
    },
    {
     "name": "stdout",
     "output_type": "stream",
     "text": [
      "train_noise_15.csv_cleaned_curatorC3.csv\n"
     ]
    },
    {
     "name": "stderr",
     "output_type": "stream",
     "text": [
      "<ipython-input-15-a8ec1c88f09f>:20: DeprecationWarning: In a future version, `df.iloc[:, i] = newvals` will attempt to set the values inplace instead of always setting a new array. To retain the old behavior, use either `df[df.columns[i]] = newvals` or, if columns are non-unique, `df.isetitem(i, newvals)`\n",
      "  airbnb_pd.loc[:,\"latitude\"] = airbnb_pd.latitude.astype(float)\n",
      "<ipython-input-15-a8ec1c88f09f>:21: DeprecationWarning: In a future version, `df.iloc[:, i] = newvals` will attempt to set the values inplace instead of always setting a new array. To retain the old behavior, use either `df[df.columns[i]] = newvals` or, if columns are non-unique, `df.isetitem(i, newvals)`\n",
      "  airbnb_pd.loc[:,\"longitude\"] = airbnb_pd.longitude.astype(float)\n",
      "<ipython-input-15-a8ec1c88f09f>:22: DeprecationWarning: In a future version, `df.iloc[:, i] = newvals` will attempt to set the values inplace instead of always setting a new array. To retain the old behavior, use either `df[df.columns[i]] = newvals` or, if columns are non-unique, `df.isetitem(i, newvals)`\n",
      "  airbnb_pd.loc[:,\"number_of_reviews\"] = airbnb_pd.number_of_reviews.astype(int)\n",
      "<ipython-input-15-a8ec1c88f09f>:23: DeprecationWarning: In a future version, `df.iloc[:, i] = newvals` will attempt to set the values inplace instead of always setting a new array. To retain the old behavior, use either `df[df.columns[i]] = newvals` or, if columns are non-unique, `df.isetitem(i, newvals)`\n",
      "  airbnb_pd.loc[:,\"minimum_nights\"] = airbnb_pd.minimum_nights.astype(int)\n",
      "\n",
      " 78%|███████▊  | 45/58 [00:14<00:04,  2.68it/s]\u001b[A"
     ]
    },
    {
     "name": "stdout",
     "output_type": "stream",
     "text": [
      "train_noise_25.csv_cleaned_curatorC3.csv\n"
     ]
    },
    {
     "name": "stderr",
     "output_type": "stream",
     "text": [
      "<ipython-input-15-a8ec1c88f09f>:20: DeprecationWarning: In a future version, `df.iloc[:, i] = newvals` will attempt to set the values inplace instead of always setting a new array. To retain the old behavior, use either `df[df.columns[i]] = newvals` or, if columns are non-unique, `df.isetitem(i, newvals)`\n",
      "  airbnb_pd.loc[:,\"latitude\"] = airbnb_pd.latitude.astype(float)\n",
      "<ipython-input-15-a8ec1c88f09f>:21: DeprecationWarning: In a future version, `df.iloc[:, i] = newvals` will attempt to set the values inplace instead of always setting a new array. To retain the old behavior, use either `df[df.columns[i]] = newvals` or, if columns are non-unique, `df.isetitem(i, newvals)`\n",
      "  airbnb_pd.loc[:,\"longitude\"] = airbnb_pd.longitude.astype(float)\n",
      "<ipython-input-15-a8ec1c88f09f>:22: DeprecationWarning: In a future version, `df.iloc[:, i] = newvals` will attempt to set the values inplace instead of always setting a new array. To retain the old behavior, use either `df[df.columns[i]] = newvals` or, if columns are non-unique, `df.isetitem(i, newvals)`\n",
      "  airbnb_pd.loc[:,\"number_of_reviews\"] = airbnb_pd.number_of_reviews.astype(int)\n",
      "<ipython-input-15-a8ec1c88f09f>:23: DeprecationWarning: In a future version, `df.iloc[:, i] = newvals` will attempt to set the values inplace instead of always setting a new array. To retain the old behavior, use either `df[df.columns[i]] = newvals` or, if columns are non-unique, `df.isetitem(i, newvals)`\n",
      "  airbnb_pd.loc[:,\"minimum_nights\"] = airbnb_pd.minimum_nights.astype(int)\n",
      "\n",
      " 79%|███████▉  | 46/58 [00:14<00:04,  2.71it/s]\u001b[A"
     ]
    },
    {
     "name": "stdout",
     "output_type": "stream",
     "text": [
      "train_noise_10.csv_cleaned_curatorC3.csv\n"
     ]
    },
    {
     "name": "stderr",
     "output_type": "stream",
     "text": [
      "<ipython-input-15-a8ec1c88f09f>:20: DeprecationWarning: In a future version, `df.iloc[:, i] = newvals` will attempt to set the values inplace instead of always setting a new array. To retain the old behavior, use either `df[df.columns[i]] = newvals` or, if columns are non-unique, `df.isetitem(i, newvals)`\n",
      "  airbnb_pd.loc[:,\"latitude\"] = airbnb_pd.latitude.astype(float)\n",
      "<ipython-input-15-a8ec1c88f09f>:21: DeprecationWarning: In a future version, `df.iloc[:, i] = newvals` will attempt to set the values inplace instead of always setting a new array. To retain the old behavior, use either `df[df.columns[i]] = newvals` or, if columns are non-unique, `df.isetitem(i, newvals)`\n",
      "  airbnb_pd.loc[:,\"longitude\"] = airbnb_pd.longitude.astype(float)\n",
      "<ipython-input-15-a8ec1c88f09f>:22: DeprecationWarning: In a future version, `df.iloc[:, i] = newvals` will attempt to set the values inplace instead of always setting a new array. To retain the old behavior, use either `df[df.columns[i]] = newvals` or, if columns are non-unique, `df.isetitem(i, newvals)`\n",
      "  airbnb_pd.loc[:,\"number_of_reviews\"] = airbnb_pd.number_of_reviews.astype(int)\n",
      "<ipython-input-15-a8ec1c88f09f>:23: DeprecationWarning: In a future version, `df.iloc[:, i] = newvals` will attempt to set the values inplace instead of always setting a new array. To retain the old behavior, use either `df[df.columns[i]] = newvals` or, if columns are non-unique, `df.isetitem(i, newvals)`\n",
      "  airbnb_pd.loc[:,\"minimum_nights\"] = airbnb_pd.minimum_nights.astype(int)\n",
      "\n",
      " 81%|████████  | 47/58 [00:14<00:03,  2.81it/s]\u001b[A"
     ]
    },
    {
     "name": "stdout",
     "output_type": "stream",
     "text": [
      "train_noise_5.csv_cleaned_curatorC3.csv\n"
     ]
    },
    {
     "name": "stderr",
     "output_type": "stream",
     "text": [
      "<ipython-input-15-a8ec1c88f09f>:20: DeprecationWarning: In a future version, `df.iloc[:, i] = newvals` will attempt to set the values inplace instead of always setting a new array. To retain the old behavior, use either `df[df.columns[i]] = newvals` or, if columns are non-unique, `df.isetitem(i, newvals)`\n",
      "  airbnb_pd.loc[:,\"latitude\"] = airbnb_pd.latitude.astype(float)\n",
      "<ipython-input-15-a8ec1c88f09f>:21: DeprecationWarning: In a future version, `df.iloc[:, i] = newvals` will attempt to set the values inplace instead of always setting a new array. To retain the old behavior, use either `df[df.columns[i]] = newvals` or, if columns are non-unique, `df.isetitem(i, newvals)`\n",
      "  airbnb_pd.loc[:,\"longitude\"] = airbnb_pd.longitude.astype(float)\n",
      "<ipython-input-15-a8ec1c88f09f>:22: DeprecationWarning: In a future version, `df.iloc[:, i] = newvals` will attempt to set the values inplace instead of always setting a new array. To retain the old behavior, use either `df[df.columns[i]] = newvals` or, if columns are non-unique, `df.isetitem(i, newvals)`\n",
      "  airbnb_pd.loc[:,\"number_of_reviews\"] = airbnb_pd.number_of_reviews.astype(int)\n",
      "<ipython-input-15-a8ec1c88f09f>:23: DeprecationWarning: In a future version, `df.iloc[:, i] = newvals` will attempt to set the values inplace instead of always setting a new array. To retain the old behavior, use either `df[df.columns[i]] = newvals` or, if columns are non-unique, `df.isetitem(i, newvals)`\n",
      "  airbnb_pd.loc[:,\"minimum_nights\"] = airbnb_pd.minimum_nights.astype(int)\n",
      "\n",
      " 83%|████████▎ | 48/58 [00:15<00:03,  2.86it/s]\u001b[A"
     ]
    },
    {
     "name": "stdout",
     "output_type": "stream",
     "text": [
      "train_noise_35.csv_cleaned_curatorC3.csv\n"
     ]
    },
    {
     "name": "stderr",
     "output_type": "stream",
     "text": [
      "<ipython-input-15-a8ec1c88f09f>:20: DeprecationWarning: In a future version, `df.iloc[:, i] = newvals` will attempt to set the values inplace instead of always setting a new array. To retain the old behavior, use either `df[df.columns[i]] = newvals` or, if columns are non-unique, `df.isetitem(i, newvals)`\n",
      "  airbnb_pd.loc[:,\"latitude\"] = airbnb_pd.latitude.astype(float)\n",
      "<ipython-input-15-a8ec1c88f09f>:21: DeprecationWarning: In a future version, `df.iloc[:, i] = newvals` will attempt to set the values inplace instead of always setting a new array. To retain the old behavior, use either `df[df.columns[i]] = newvals` or, if columns are non-unique, `df.isetitem(i, newvals)`\n",
      "  airbnb_pd.loc[:,\"longitude\"] = airbnb_pd.longitude.astype(float)\n",
      "<ipython-input-15-a8ec1c88f09f>:22: DeprecationWarning: In a future version, `df.iloc[:, i] = newvals` will attempt to set the values inplace instead of always setting a new array. To retain the old behavior, use either `df[df.columns[i]] = newvals` or, if columns are non-unique, `df.isetitem(i, newvals)`\n",
      "  airbnb_pd.loc[:,\"number_of_reviews\"] = airbnb_pd.number_of_reviews.astype(int)\n",
      "<ipython-input-15-a8ec1c88f09f>:23: DeprecationWarning: In a future version, `df.iloc[:, i] = newvals` will attempt to set the values inplace instead of always setting a new array. To retain the old behavior, use either `df[df.columns[i]] = newvals` or, if columns are non-unique, `df.isetitem(i, newvals)`\n",
      "  airbnb_pd.loc[:,\"minimum_nights\"] = airbnb_pd.minimum_nights.astype(int)\n",
      "\n",
      " 84%|████████▍ | 49/58 [00:15<00:03,  2.84it/s]\u001b[A"
     ]
    },
    {
     "name": "stdout",
     "output_type": "stream",
     "text": [
      "train_noise_20.csv_cleaned_curatorC3.csv\n"
     ]
    },
    {
     "name": "stderr",
     "output_type": "stream",
     "text": [
      "<ipython-input-15-a8ec1c88f09f>:20: DeprecationWarning: In a future version, `df.iloc[:, i] = newvals` will attempt to set the values inplace instead of always setting a new array. To retain the old behavior, use either `df[df.columns[i]] = newvals` or, if columns are non-unique, `df.isetitem(i, newvals)`\n",
      "  airbnb_pd.loc[:,\"latitude\"] = airbnb_pd.latitude.astype(float)\n",
      "<ipython-input-15-a8ec1c88f09f>:21: DeprecationWarning: In a future version, `df.iloc[:, i] = newvals` will attempt to set the values inplace instead of always setting a new array. To retain the old behavior, use either `df[df.columns[i]] = newvals` or, if columns are non-unique, `df.isetitem(i, newvals)`\n",
      "  airbnb_pd.loc[:,\"longitude\"] = airbnb_pd.longitude.astype(float)\n",
      "<ipython-input-15-a8ec1c88f09f>:22: DeprecationWarning: In a future version, `df.iloc[:, i] = newvals` will attempt to set the values inplace instead of always setting a new array. To retain the old behavior, use either `df[df.columns[i]] = newvals` or, if columns are non-unique, `df.isetitem(i, newvals)`\n",
      "  airbnb_pd.loc[:,\"number_of_reviews\"] = airbnb_pd.number_of_reviews.astype(int)\n",
      "<ipython-input-15-a8ec1c88f09f>:23: DeprecationWarning: In a future version, `df.iloc[:, i] = newvals` will attempt to set the values inplace instead of always setting a new array. To retain the old behavior, use either `df[df.columns[i]] = newvals` or, if columns are non-unique, `df.isetitem(i, newvals)`\n",
      "  airbnb_pd.loc[:,\"minimum_nights\"] = airbnb_pd.minimum_nights.astype(int)\n",
      "\n",
      " 86%|████████▌ | 50/58 [00:16<00:02,  2.68it/s]\u001b[A"
     ]
    },
    {
     "name": "stdout",
     "output_type": "stream",
     "text": [
      "train_noise_40.csv_cleaned_curatorMerge.csv\n"
     ]
    },
    {
     "name": "stderr",
     "output_type": "stream",
     "text": [
      "<ipython-input-15-a8ec1c88f09f>:22: DeprecationWarning: In a future version, `df.iloc[:, i] = newvals` will attempt to set the values inplace instead of always setting a new array. To retain the old behavior, use either `df[df.columns[i]] = newvals` or, if columns are non-unique, `df.isetitem(i, newvals)`\n",
      "  airbnb_pd.loc[:,\"number_of_reviews\"] = airbnb_pd.number_of_reviews.astype(int)\n",
      "<ipython-input-15-a8ec1c88f09f>:23: DeprecationWarning: In a future version, `df.iloc[:, i] = newvals` will attempt to set the values inplace instead of always setting a new array. To retain the old behavior, use either `df[df.columns[i]] = newvals` or, if columns are non-unique, `df.isetitem(i, newvals)`\n",
      "  airbnb_pd.loc[:,\"minimum_nights\"] = airbnb_pd.minimum_nights.astype(int)\n",
      "\n",
      " 88%|████████▊ | 51/58 [00:16<00:02,  2.45it/s]\u001b[A"
     ]
    },
    {
     "name": "stdout",
     "output_type": "stream",
     "text": [
      "train_noise_30.csv_cleaned_curatorMerge.csv\n"
     ]
    },
    {
     "name": "stderr",
     "output_type": "stream",
     "text": [
      "<ipython-input-15-a8ec1c88f09f>:22: DeprecationWarning: In a future version, `df.iloc[:, i] = newvals` will attempt to set the values inplace instead of always setting a new array. To retain the old behavior, use either `df[df.columns[i]] = newvals` or, if columns are non-unique, `df.isetitem(i, newvals)`\n",
      "  airbnb_pd.loc[:,\"number_of_reviews\"] = airbnb_pd.number_of_reviews.astype(int)\n",
      "<ipython-input-15-a8ec1c88f09f>:23: DeprecationWarning: In a future version, `df.iloc[:, i] = newvals` will attempt to set the values inplace instead of always setting a new array. To retain the old behavior, use either `df[df.columns[i]] = newvals` or, if columns are non-unique, `df.isetitem(i, newvals)`\n",
      "  airbnb_pd.loc[:,\"minimum_nights\"] = airbnb_pd.minimum_nights.astype(int)\n",
      "\n",
      " 90%|████████▉ | 52/58 [00:17<00:02,  2.26it/s]\u001b[A"
     ]
    },
    {
     "name": "stdout",
     "output_type": "stream",
     "text": [
      "train_noise_15.csv_cleaned_curatorMerge.csv\n"
     ]
    },
    {
     "name": "stderr",
     "output_type": "stream",
     "text": [
      "<ipython-input-15-a8ec1c88f09f>:22: DeprecationWarning: In a future version, `df.iloc[:, i] = newvals` will attempt to set the values inplace instead of always setting a new array. To retain the old behavior, use either `df[df.columns[i]] = newvals` or, if columns are non-unique, `df.isetitem(i, newvals)`\n",
      "  airbnb_pd.loc[:,\"number_of_reviews\"] = airbnb_pd.number_of_reviews.astype(int)\n",
      "<ipython-input-15-a8ec1c88f09f>:23: DeprecationWarning: In a future version, `df.iloc[:, i] = newvals` will attempt to set the values inplace instead of always setting a new array. To retain the old behavior, use either `df[df.columns[i]] = newvals` or, if columns are non-unique, `df.isetitem(i, newvals)`\n",
      "  airbnb_pd.loc[:,\"minimum_nights\"] = airbnb_pd.minimum_nights.astype(int)\n",
      "\n",
      " 91%|█████████▏| 53/58 [00:17<00:02,  2.02it/s]\u001b[A"
     ]
    },
    {
     "name": "stdout",
     "output_type": "stream",
     "text": [
      "train_noise_25.csv_cleaned_curatorMerge.csv\n"
     ]
    },
    {
     "name": "stderr",
     "output_type": "stream",
     "text": [
      "<ipython-input-15-a8ec1c88f09f>:22: DeprecationWarning: In a future version, `df.iloc[:, i] = newvals` will attempt to set the values inplace instead of always setting a new array. To retain the old behavior, use either `df[df.columns[i]] = newvals` or, if columns are non-unique, `df.isetitem(i, newvals)`\n",
      "  airbnb_pd.loc[:,\"number_of_reviews\"] = airbnb_pd.number_of_reviews.astype(int)\n",
      "<ipython-input-15-a8ec1c88f09f>:23: DeprecationWarning: In a future version, `df.iloc[:, i] = newvals` will attempt to set the values inplace instead of always setting a new array. To retain the old behavior, use either `df[df.columns[i]] = newvals` or, if columns are non-unique, `df.isetitem(i, newvals)`\n",
      "  airbnb_pd.loc[:,\"minimum_nights\"] = airbnb_pd.minimum_nights.astype(int)\n",
      "\n",
      " 93%|█████████▎| 54/58 [00:18<00:01,  2.05it/s]\u001b[A"
     ]
    },
    {
     "name": "stdout",
     "output_type": "stream",
     "text": [
      "train_noise_10.csv_cleaned_curatorMerge.csv\n"
     ]
    },
    {
     "name": "stderr",
     "output_type": "stream",
     "text": [
      "<ipython-input-15-a8ec1c88f09f>:22: DeprecationWarning: In a future version, `df.iloc[:, i] = newvals` will attempt to set the values inplace instead of always setting a new array. To retain the old behavior, use either `df[df.columns[i]] = newvals` or, if columns are non-unique, `df.isetitem(i, newvals)`\n",
      "  airbnb_pd.loc[:,\"number_of_reviews\"] = airbnb_pd.number_of_reviews.astype(int)\n",
      "<ipython-input-15-a8ec1c88f09f>:23: DeprecationWarning: In a future version, `df.iloc[:, i] = newvals` will attempt to set the values inplace instead of always setting a new array. To retain the old behavior, use either `df[df.columns[i]] = newvals` or, if columns are non-unique, `df.isetitem(i, newvals)`\n",
      "  airbnb_pd.loc[:,\"minimum_nights\"] = airbnb_pd.minimum_nights.astype(int)\n",
      "\n",
      " 95%|█████████▍| 55/58 [00:18<00:01,  2.22it/s]\u001b[A"
     ]
    },
    {
     "name": "stdout",
     "output_type": "stream",
     "text": [
      "train_noise_5.csv_cleaned_curatorMerge.csv\n"
     ]
    },
    {
     "name": "stderr",
     "output_type": "stream",
     "text": [
      "<ipython-input-15-a8ec1c88f09f>:22: DeprecationWarning: In a future version, `df.iloc[:, i] = newvals` will attempt to set the values inplace instead of always setting a new array. To retain the old behavior, use either `df[df.columns[i]] = newvals` or, if columns are non-unique, `df.isetitem(i, newvals)`\n",
      "  airbnb_pd.loc[:,\"number_of_reviews\"] = airbnb_pd.number_of_reviews.astype(int)\n",
      "<ipython-input-15-a8ec1c88f09f>:23: DeprecationWarning: In a future version, `df.iloc[:, i] = newvals` will attempt to set the values inplace instead of always setting a new array. To retain the old behavior, use either `df[df.columns[i]] = newvals` or, if columns are non-unique, `df.isetitem(i, newvals)`\n",
      "  airbnb_pd.loc[:,\"minimum_nights\"] = airbnb_pd.minimum_nights.astype(int)\n",
      "\n",
      " 97%|█████████▋| 56/58 [00:18<00:00,  2.33it/s]\u001b[A"
     ]
    },
    {
     "name": "stdout",
     "output_type": "stream",
     "text": [
      "train_noise_35.csv_cleaned_curatorMerge.csv\n"
     ]
    },
    {
     "name": "stderr",
     "output_type": "stream",
     "text": [
      "<ipython-input-15-a8ec1c88f09f>:22: DeprecationWarning: In a future version, `df.iloc[:, i] = newvals` will attempt to set the values inplace instead of always setting a new array. To retain the old behavior, use either `df[df.columns[i]] = newvals` or, if columns are non-unique, `df.isetitem(i, newvals)`\n",
      "  airbnb_pd.loc[:,\"number_of_reviews\"] = airbnb_pd.number_of_reviews.astype(int)\n",
      "<ipython-input-15-a8ec1c88f09f>:23: DeprecationWarning: In a future version, `df.iloc[:, i] = newvals` will attempt to set the values inplace instead of always setting a new array. To retain the old behavior, use either `df[df.columns[i]] = newvals` or, if columns are non-unique, `df.isetitem(i, newvals)`\n",
      "  airbnb_pd.loc[:,\"minimum_nights\"] = airbnb_pd.minimum_nights.astype(int)\n",
      "\n",
      " 98%|█████████▊| 57/58 [00:19<00:00,  2.40it/s]\u001b[A"
     ]
    },
    {
     "name": "stdout",
     "output_type": "stream",
     "text": [
      "train_noise_20.csv_cleaned_curatorMerge.csv\n"
     ]
    },
    {
     "name": "stderr",
     "output_type": "stream",
     "text": [
      "<ipython-input-15-a8ec1c88f09f>:22: DeprecationWarning: In a future version, `df.iloc[:, i] = newvals` will attempt to set the values inplace instead of always setting a new array. To retain the old behavior, use either `df[df.columns[i]] = newvals` or, if columns are non-unique, `df.isetitem(i, newvals)`\n",
      "  airbnb_pd.loc[:,\"number_of_reviews\"] = airbnb_pd.number_of_reviews.astype(int)\n",
      "<ipython-input-15-a8ec1c88f09f>:23: DeprecationWarning: In a future version, `df.iloc[:, i] = newvals` will attempt to set the values inplace instead of always setting a new array. To retain the old behavior, use either `df[df.columns[i]] = newvals` or, if columns are non-unique, `df.isetitem(i, newvals)`\n",
      "  airbnb_pd.loc[:,\"minimum_nights\"] = airbnb_pd.minimum_nights.astype(int)\n",
      "\n",
      "100%|██████████| 58/58 [00:19<00:00,  2.94it/s]\n",
      " 10%|█         | 1/10 [00:19<02:59, 19.89s/it]\n",
      "  0%|          | 0/58 [00:00<?, ?it/s]\u001b[A"
     ]
    },
    {
     "name": "stdout",
     "output_type": "stream",
     "text": [
      "train_noise_40.csv_cleaned_baseline.csv\n",
      "train_noise_30.csv_cleaned_baseline.csv\n"
     ]
    },
    {
     "name": "stderr",
     "output_type": "stream",
     "text": [
      "\n",
      " 21%|██        | 12/58 [00:00<00:01, 34.24it/s]\u001b[A"
     ]
    },
    {
     "name": "stdout",
     "output_type": "stream",
     "text": [
      "train_noise_15.csv_cleaned_baseline.csv\n",
      "train_noise_25.csv_cleaned_baseline.csv\n",
      "train_noise_10.csv_cleaned_baseline.csv\n",
      "train_noise_5.csv_cleaned_baseline.csv\n"
     ]
    },
    {
     "name": "stderr",
     "output_type": "stream",
     "text": [
      "\n",
      " 28%|██▊       | 16/58 [00:01<00:04,  9.07it/s]\u001b[A"
     ]
    },
    {
     "name": "stdout",
     "output_type": "stream",
     "text": [
      "train_noise_20.csv_cleaned_baseline.csv\n",
      "train_noise_35.csv_cleaned_baseline.csv\n"
     ]
    },
    {
     "name": "stderr",
     "output_type": "stream",
     "text": [
      "\n",
      " 31%|███       | 18/58 [00:02<00:05,  7.10it/s]\u001b[A"
     ]
    },
    {
     "name": "stdout",
     "output_type": "stream",
     "text": [
      "train_noise_30.csv_cleaned_baselineAverage.csv\n",
      "train_noise_40.csv_cleaned_baselineAverage.csv\n"
     ]
    },
    {
     "name": "stderr",
     "output_type": "stream",
     "text": [
      "\n",
      " 34%|███▍      | 20/58 [00:02<00:07,  5.23it/s]\u001b[A"
     ]
    },
    {
     "name": "stdout",
     "output_type": "stream",
     "text": [
      "train_noise_15.csv_cleaned_baselineAverage.csv\n"
     ]
    },
    {
     "name": "stderr",
     "output_type": "stream",
     "text": [
      "\n",
      " 36%|███▌      | 21/58 [00:03<00:07,  4.77it/s]\u001b[A"
     ]
    },
    {
     "name": "stdout",
     "output_type": "stream",
     "text": [
      "train_noise_25.csv_cleaned_baselineAverage.csv\n"
     ]
    },
    {
     "name": "stderr",
     "output_type": "stream",
     "text": [
      "\n",
      " 38%|███▊      | 22/58 [00:03<00:08,  4.26it/s]\u001b[A"
     ]
    },
    {
     "name": "stdout",
     "output_type": "stream",
     "text": [
      "train_noise_35.csv_cleaned_baselineAverage.csv\n"
     ]
    },
    {
     "name": "stderr",
     "output_type": "stream",
     "text": [
      "\n",
      " 40%|███▉      | 23/58 [00:03<00:08,  4.06it/s]\u001b[A"
     ]
    },
    {
     "name": "stdout",
     "output_type": "stream",
     "text": [
      "train_noise_10.csv_cleaned_baselineAverage.csv\n"
     ]
    },
    {
     "name": "stderr",
     "output_type": "stream",
     "text": [
      "\n",
      " 41%|████▏     | 24/58 [00:04<00:08,  3.78it/s]\u001b[A"
     ]
    },
    {
     "name": "stdout",
     "output_type": "stream",
     "text": [
      "train_noise_5.csv_cleaned_baselineAverage.csv\n"
     ]
    },
    {
     "name": "stderr",
     "output_type": "stream",
     "text": [
      "\n",
      " 43%|████▎     | 25/58 [00:04<00:09,  3.54it/s]\u001b[A"
     ]
    },
    {
     "name": "stdout",
     "output_type": "stream",
     "text": [
      "train_noise_20.csv_cleaned_baselineAverage.csv\n"
     ]
    },
    {
     "name": "stderr",
     "output_type": "stream",
     "text": [
      "\n",
      " 45%|████▍     | 26/58 [00:04<00:09,  3.51it/s]\u001b[A"
     ]
    },
    {
     "name": "stdout",
     "output_type": "stream",
     "text": [
      "train_noise_40.csv_cleaned_curatorC1.csv\n"
     ]
    },
    {
     "name": "stderr",
     "output_type": "stream",
     "text": [
      "<ipython-input-15-a8ec1c88f09f>:22: DeprecationWarning: In a future version, `df.iloc[:, i] = newvals` will attempt to set the values inplace instead of always setting a new array. To retain the old behavior, use either `df[df.columns[i]] = newvals` or, if columns are non-unique, `df.isetitem(i, newvals)`\n",
      "  airbnb_pd.loc[:,\"number_of_reviews\"] = airbnb_pd.number_of_reviews.astype(int)\n",
      "<ipython-input-15-a8ec1c88f09f>:23: DeprecationWarning: In a future version, `df.iloc[:, i] = newvals` will attempt to set the values inplace instead of always setting a new array. To retain the old behavior, use either `df[df.columns[i]] = newvals` or, if columns are non-unique, `df.isetitem(i, newvals)`\n",
      "  airbnb_pd.loc[:,\"minimum_nights\"] = airbnb_pd.minimum_nights.astype(int)\n",
      "\n",
      " 47%|████▋     | 27/58 [00:05<00:09,  3.38it/s]\u001b[A"
     ]
    },
    {
     "name": "stdout",
     "output_type": "stream",
     "text": [
      "train_noise_30.csv_cleaned_curatorC1.csv\n"
     ]
    },
    {
     "name": "stderr",
     "output_type": "stream",
     "text": [
      "<ipython-input-15-a8ec1c88f09f>:22: DeprecationWarning: In a future version, `df.iloc[:, i] = newvals` will attempt to set the values inplace instead of always setting a new array. To retain the old behavior, use either `df[df.columns[i]] = newvals` or, if columns are non-unique, `df.isetitem(i, newvals)`\n",
      "  airbnb_pd.loc[:,\"number_of_reviews\"] = airbnb_pd.number_of_reviews.astype(int)\n",
      "<ipython-input-15-a8ec1c88f09f>:23: DeprecationWarning: In a future version, `df.iloc[:, i] = newvals` will attempt to set the values inplace instead of always setting a new array. To retain the old behavior, use either `df[df.columns[i]] = newvals` or, if columns are non-unique, `df.isetitem(i, newvals)`\n",
      "  airbnb_pd.loc[:,\"minimum_nights\"] = airbnb_pd.minimum_nights.astype(int)\n",
      "\n",
      " 48%|████▊     | 28/58 [00:05<00:09,  3.25it/s]\u001b[A"
     ]
    },
    {
     "name": "stdout",
     "output_type": "stream",
     "text": [
      "train_noise_15.csv_cleaned_curatorC1.csv\n"
     ]
    },
    {
     "name": "stderr",
     "output_type": "stream",
     "text": [
      "<ipython-input-15-a8ec1c88f09f>:22: DeprecationWarning: In a future version, `df.iloc[:, i] = newvals` will attempt to set the values inplace instead of always setting a new array. To retain the old behavior, use either `df[df.columns[i]] = newvals` or, if columns are non-unique, `df.isetitem(i, newvals)`\n",
      "  airbnb_pd.loc[:,\"number_of_reviews\"] = airbnb_pd.number_of_reviews.astype(int)\n",
      "<ipython-input-15-a8ec1c88f09f>:23: DeprecationWarning: In a future version, `df.iloc[:, i] = newvals` will attempt to set the values inplace instead of always setting a new array. To retain the old behavior, use either `df[df.columns[i]] = newvals` or, if columns are non-unique, `df.isetitem(i, newvals)`\n",
      "  airbnb_pd.loc[:,\"minimum_nights\"] = airbnb_pd.minimum_nights.astype(int)\n",
      "\n",
      " 50%|█████     | 29/58 [00:05<00:09,  3.14it/s]\u001b[A"
     ]
    },
    {
     "name": "stdout",
     "output_type": "stream",
     "text": [
      "train_noise_10.csv_cleaned_curatorC1.csv\n"
     ]
    },
    {
     "name": "stderr",
     "output_type": "stream",
     "text": [
      "<ipython-input-15-a8ec1c88f09f>:22: DeprecationWarning: In a future version, `df.iloc[:, i] = newvals` will attempt to set the values inplace instead of always setting a new array. To retain the old behavior, use either `df[df.columns[i]] = newvals` or, if columns are non-unique, `df.isetitem(i, newvals)`\n",
      "  airbnb_pd.loc[:,\"number_of_reviews\"] = airbnb_pd.number_of_reviews.astype(int)\n",
      "<ipython-input-15-a8ec1c88f09f>:23: DeprecationWarning: In a future version, `df.iloc[:, i] = newvals` will attempt to set the values inplace instead of always setting a new array. To retain the old behavior, use either `df[df.columns[i]] = newvals` or, if columns are non-unique, `df.isetitem(i, newvals)`\n",
      "  airbnb_pd.loc[:,\"minimum_nights\"] = airbnb_pd.minimum_nights.astype(int)\n",
      "\n",
      " 52%|█████▏    | 30/58 [00:06<00:08,  3.20it/s]\u001b[A"
     ]
    },
    {
     "name": "stdout",
     "output_type": "stream",
     "text": [
      "train_noise_25.csv_cleaned_curatorC1.csv\n"
     ]
    },
    {
     "name": "stderr",
     "output_type": "stream",
     "text": [
      "<ipython-input-15-a8ec1c88f09f>:22: DeprecationWarning: In a future version, `df.iloc[:, i] = newvals` will attempt to set the values inplace instead of always setting a new array. To retain the old behavior, use either `df[df.columns[i]] = newvals` or, if columns are non-unique, `df.isetitem(i, newvals)`\n",
      "  airbnb_pd.loc[:,\"number_of_reviews\"] = airbnb_pd.number_of_reviews.astype(int)\n",
      "<ipython-input-15-a8ec1c88f09f>:23: DeprecationWarning: In a future version, `df.iloc[:, i] = newvals` will attempt to set the values inplace instead of always setting a new array. To retain the old behavior, use either `df[df.columns[i]] = newvals` or, if columns are non-unique, `df.isetitem(i, newvals)`\n",
      "  airbnb_pd.loc[:,\"minimum_nights\"] = airbnb_pd.minimum_nights.astype(int)\n",
      "\n",
      " 53%|█████▎    | 31/58 [00:06<00:08,  3.23it/s]\u001b[A"
     ]
    },
    {
     "name": "stdout",
     "output_type": "stream",
     "text": [
      "train_noise_5.csv_cleaned_curatorC1.csv\n"
     ]
    },
    {
     "name": "stderr",
     "output_type": "stream",
     "text": [
      "<ipython-input-15-a8ec1c88f09f>:22: DeprecationWarning: In a future version, `df.iloc[:, i] = newvals` will attempt to set the values inplace instead of always setting a new array. To retain the old behavior, use either `df[df.columns[i]] = newvals` or, if columns are non-unique, `df.isetitem(i, newvals)`\n",
      "  airbnb_pd.loc[:,\"number_of_reviews\"] = airbnb_pd.number_of_reviews.astype(int)\n",
      "<ipython-input-15-a8ec1c88f09f>:23: DeprecationWarning: In a future version, `df.iloc[:, i] = newvals` will attempt to set the values inplace instead of always setting a new array. To retain the old behavior, use either `df[df.columns[i]] = newvals` or, if columns are non-unique, `df.isetitem(i, newvals)`\n",
      "  airbnb_pd.loc[:,\"minimum_nights\"] = airbnb_pd.minimum_nights.astype(int)\n",
      "\n",
      " 55%|█████▌    | 32/58 [00:06<00:08,  3.24it/s]\u001b[A"
     ]
    },
    {
     "name": "stdout",
     "output_type": "stream",
     "text": [
      "train_noise_35.csv_cleaned_curatorC1.csv\n"
     ]
    },
    {
     "name": "stderr",
     "output_type": "stream",
     "text": [
      "<ipython-input-15-a8ec1c88f09f>:22: DeprecationWarning: In a future version, `df.iloc[:, i] = newvals` will attempt to set the values inplace instead of always setting a new array. To retain the old behavior, use either `df[df.columns[i]] = newvals` or, if columns are non-unique, `df.isetitem(i, newvals)`\n",
      "  airbnb_pd.loc[:,\"number_of_reviews\"] = airbnb_pd.number_of_reviews.astype(int)\n",
      "<ipython-input-15-a8ec1c88f09f>:23: DeprecationWarning: In a future version, `df.iloc[:, i] = newvals` will attempt to set the values inplace instead of always setting a new array. To retain the old behavior, use either `df[df.columns[i]] = newvals` or, if columns are non-unique, `df.isetitem(i, newvals)`\n",
      "  airbnb_pd.loc[:,\"minimum_nights\"] = airbnb_pd.minimum_nights.astype(int)\n",
      "\n",
      " 57%|█████▋    | 33/58 [00:06<00:07,  3.31it/s]\u001b[A"
     ]
    },
    {
     "name": "stdout",
     "output_type": "stream",
     "text": [
      "train_noise_20.csv_cleaned_curatorC1.csv\n"
     ]
    },
    {
     "name": "stderr",
     "output_type": "stream",
     "text": [
      "<ipython-input-15-a8ec1c88f09f>:22: DeprecationWarning: In a future version, `df.iloc[:, i] = newvals` will attempt to set the values inplace instead of always setting a new array. To retain the old behavior, use either `df[df.columns[i]] = newvals` or, if columns are non-unique, `df.isetitem(i, newvals)`\n",
      "  airbnb_pd.loc[:,\"number_of_reviews\"] = airbnb_pd.number_of_reviews.astype(int)\n",
      "<ipython-input-15-a8ec1c88f09f>:23: DeprecationWarning: In a future version, `df.iloc[:, i] = newvals` will attempt to set the values inplace instead of always setting a new array. To retain the old behavior, use either `df[df.columns[i]] = newvals` or, if columns are non-unique, `df.isetitem(i, newvals)`\n",
      "  airbnb_pd.loc[:,\"minimum_nights\"] = airbnb_pd.minimum_nights.astype(int)\n",
      "\n",
      " 59%|█████▊    | 34/58 [00:07<00:07,  3.16it/s]\u001b[A"
     ]
    },
    {
     "name": "stdout",
     "output_type": "stream",
     "text": [
      "train_noise_40.csv_cleaned_curatorC2.csv\n"
     ]
    },
    {
     "name": "stderr",
     "output_type": "stream",
     "text": [
      "<ipython-input-15-a8ec1c88f09f>:20: DeprecationWarning: In a future version, `df.iloc[:, i] = newvals` will attempt to set the values inplace instead of always setting a new array. To retain the old behavior, use either `df[df.columns[i]] = newvals` or, if columns are non-unique, `df.isetitem(i, newvals)`\n",
      "  airbnb_pd.loc[:,\"latitude\"] = airbnb_pd.latitude.astype(float)\n",
      "<ipython-input-15-a8ec1c88f09f>:21: DeprecationWarning: In a future version, `df.iloc[:, i] = newvals` will attempt to set the values inplace instead of always setting a new array. To retain the old behavior, use either `df[df.columns[i]] = newvals` or, if columns are non-unique, `df.isetitem(i, newvals)`\n",
      "  airbnb_pd.loc[:,\"longitude\"] = airbnb_pd.longitude.astype(float)\n",
      "<ipython-input-15-a8ec1c88f09f>:22: DeprecationWarning: In a future version, `df.iloc[:, i] = newvals` will attempt to set the values inplace instead of always setting a new array. To retain the old behavior, use either `df[df.columns[i]] = newvals` or, if columns are non-unique, `df.isetitem(i, newvals)`\n",
      "  airbnb_pd.loc[:,\"number_of_reviews\"] = airbnb_pd.number_of_reviews.astype(int)\n",
      "<ipython-input-15-a8ec1c88f09f>:23: DeprecationWarning: In a future version, `df.iloc[:, i] = newvals` will attempt to set the values inplace instead of always setting a new array. To retain the old behavior, use either `df[df.columns[i]] = newvals` or, if columns are non-unique, `df.isetitem(i, newvals)`\n",
      "  airbnb_pd.loc[:,\"minimum_nights\"] = airbnb_pd.minimum_nights.astype(int)\n",
      "\n",
      " 60%|██████    | 35/58 [00:07<00:07,  3.14it/s]\u001b[A"
     ]
    },
    {
     "name": "stdout",
     "output_type": "stream",
     "text": [
      "train_noise_30.csv_cleaned_curatorC2.csv\n"
     ]
    },
    {
     "name": "stderr",
     "output_type": "stream",
     "text": [
      "<ipython-input-15-a8ec1c88f09f>:20: DeprecationWarning: In a future version, `df.iloc[:, i] = newvals` will attempt to set the values inplace instead of always setting a new array. To retain the old behavior, use either `df[df.columns[i]] = newvals` or, if columns are non-unique, `df.isetitem(i, newvals)`\n",
      "  airbnb_pd.loc[:,\"latitude\"] = airbnb_pd.latitude.astype(float)\n",
      "<ipython-input-15-a8ec1c88f09f>:21: DeprecationWarning: In a future version, `df.iloc[:, i] = newvals` will attempt to set the values inplace instead of always setting a new array. To retain the old behavior, use either `df[df.columns[i]] = newvals` or, if columns are non-unique, `df.isetitem(i, newvals)`\n",
      "  airbnb_pd.loc[:,\"longitude\"] = airbnb_pd.longitude.astype(float)\n",
      "<ipython-input-15-a8ec1c88f09f>:22: DeprecationWarning: In a future version, `df.iloc[:, i] = newvals` will attempt to set the values inplace instead of always setting a new array. To retain the old behavior, use either `df[df.columns[i]] = newvals` or, if columns are non-unique, `df.isetitem(i, newvals)`\n",
      "  airbnb_pd.loc[:,\"number_of_reviews\"] = airbnb_pd.number_of_reviews.astype(int)\n",
      "<ipython-input-15-a8ec1c88f09f>:23: DeprecationWarning: In a future version, `df.iloc[:, i] = newvals` will attempt to set the values inplace instead of always setting a new array. To retain the old behavior, use either `df[df.columns[i]] = newvals` or, if columns are non-unique, `df.isetitem(i, newvals)`\n",
      "  airbnb_pd.loc[:,\"minimum_nights\"] = airbnb_pd.minimum_nights.astype(int)\n",
      "\n",
      " 62%|██████▏   | 36/58 [00:07<00:06,  3.30it/s]\u001b[A"
     ]
    },
    {
     "name": "stdout",
     "output_type": "stream",
     "text": [
      "train_noise_15.csv_cleaned_curatorC2.csv\n"
     ]
    },
    {
     "name": "stderr",
     "output_type": "stream",
     "text": [
      "<ipython-input-15-a8ec1c88f09f>:20: DeprecationWarning: In a future version, `df.iloc[:, i] = newvals` will attempt to set the values inplace instead of always setting a new array. To retain the old behavior, use either `df[df.columns[i]] = newvals` or, if columns are non-unique, `df.isetitem(i, newvals)`\n",
      "  airbnb_pd.loc[:,\"latitude\"] = airbnb_pd.latitude.astype(float)\n",
      "<ipython-input-15-a8ec1c88f09f>:21: DeprecationWarning: In a future version, `df.iloc[:, i] = newvals` will attempt to set the values inplace instead of always setting a new array. To retain the old behavior, use either `df[df.columns[i]] = newvals` or, if columns are non-unique, `df.isetitem(i, newvals)`\n",
      "  airbnb_pd.loc[:,\"longitude\"] = airbnb_pd.longitude.astype(float)\n",
      "<ipython-input-15-a8ec1c88f09f>:22: DeprecationWarning: In a future version, `df.iloc[:, i] = newvals` will attempt to set the values inplace instead of always setting a new array. To retain the old behavior, use either `df[df.columns[i]] = newvals` or, if columns are non-unique, `df.isetitem(i, newvals)`\n",
      "  airbnb_pd.loc[:,\"number_of_reviews\"] = airbnb_pd.number_of_reviews.astype(int)\n",
      "<ipython-input-15-a8ec1c88f09f>:23: DeprecationWarning: In a future version, `df.iloc[:, i] = newvals` will attempt to set the values inplace instead of always setting a new array. To retain the old behavior, use either `df[df.columns[i]] = newvals` or, if columns are non-unique, `df.isetitem(i, newvals)`\n",
      "  airbnb_pd.loc[:,\"minimum_nights\"] = airbnb_pd.minimum_nights.astype(int)\n",
      "\n",
      " 64%|██████▍   | 37/58 [00:08<00:06,  3.34it/s]\u001b[A"
     ]
    },
    {
     "name": "stdout",
     "output_type": "stream",
     "text": [
      "train_noise_25.csv_cleaned_curatorC2.csv\n"
     ]
    },
    {
     "name": "stderr",
     "output_type": "stream",
     "text": [
      "<ipython-input-15-a8ec1c88f09f>:20: DeprecationWarning: In a future version, `df.iloc[:, i] = newvals` will attempt to set the values inplace instead of always setting a new array. To retain the old behavior, use either `df[df.columns[i]] = newvals` or, if columns are non-unique, `df.isetitem(i, newvals)`\n",
      "  airbnb_pd.loc[:,\"latitude\"] = airbnb_pd.latitude.astype(float)\n",
      "<ipython-input-15-a8ec1c88f09f>:21: DeprecationWarning: In a future version, `df.iloc[:, i] = newvals` will attempt to set the values inplace instead of always setting a new array. To retain the old behavior, use either `df[df.columns[i]] = newvals` or, if columns are non-unique, `df.isetitem(i, newvals)`\n",
      "  airbnb_pd.loc[:,\"longitude\"] = airbnb_pd.longitude.astype(float)\n",
      "<ipython-input-15-a8ec1c88f09f>:22: DeprecationWarning: In a future version, `df.iloc[:, i] = newvals` will attempt to set the values inplace instead of always setting a new array. To retain the old behavior, use either `df[df.columns[i]] = newvals` or, if columns are non-unique, `df.isetitem(i, newvals)`\n",
      "  airbnb_pd.loc[:,\"number_of_reviews\"] = airbnb_pd.number_of_reviews.astype(int)\n",
      "<ipython-input-15-a8ec1c88f09f>:23: DeprecationWarning: In a future version, `df.iloc[:, i] = newvals` will attempt to set the values inplace instead of always setting a new array. To retain the old behavior, use either `df[df.columns[i]] = newvals` or, if columns are non-unique, `df.isetitem(i, newvals)`\n",
      "  airbnb_pd.loc[:,\"minimum_nights\"] = airbnb_pd.minimum_nights.astype(int)\n",
      "\n",
      " 66%|██████▌   | 38/58 [00:08<00:05,  3.44it/s]\u001b[A"
     ]
    },
    {
     "name": "stdout",
     "output_type": "stream",
     "text": [
      "train_noise_10.csv_cleaned_curatorC2.csv\n"
     ]
    },
    {
     "name": "stderr",
     "output_type": "stream",
     "text": [
      "<ipython-input-15-a8ec1c88f09f>:20: DeprecationWarning: In a future version, `df.iloc[:, i] = newvals` will attempt to set the values inplace instead of always setting a new array. To retain the old behavior, use either `df[df.columns[i]] = newvals` or, if columns are non-unique, `df.isetitem(i, newvals)`\n",
      "  airbnb_pd.loc[:,\"latitude\"] = airbnb_pd.latitude.astype(float)\n",
      "<ipython-input-15-a8ec1c88f09f>:21: DeprecationWarning: In a future version, `df.iloc[:, i] = newvals` will attempt to set the values inplace instead of always setting a new array. To retain the old behavior, use either `df[df.columns[i]] = newvals` or, if columns are non-unique, `df.isetitem(i, newvals)`\n",
      "  airbnb_pd.loc[:,\"longitude\"] = airbnb_pd.longitude.astype(float)\n",
      "<ipython-input-15-a8ec1c88f09f>:22: DeprecationWarning: In a future version, `df.iloc[:, i] = newvals` will attempt to set the values inplace instead of always setting a new array. To retain the old behavior, use either `df[df.columns[i]] = newvals` or, if columns are non-unique, `df.isetitem(i, newvals)`\n",
      "  airbnb_pd.loc[:,\"number_of_reviews\"] = airbnb_pd.number_of_reviews.astype(int)\n",
      "<ipython-input-15-a8ec1c88f09f>:23: DeprecationWarning: In a future version, `df.iloc[:, i] = newvals` will attempt to set the values inplace instead of always setting a new array. To retain the old behavior, use either `df[df.columns[i]] = newvals` or, if columns are non-unique, `df.isetitem(i, newvals)`\n",
      "  airbnb_pd.loc[:,\"minimum_nights\"] = airbnb_pd.minimum_nights.astype(int)\n",
      "\n",
      " 67%|██████▋   | 39/58 [00:08<00:06,  3.15it/s]\u001b[A"
     ]
    },
    {
     "name": "stdout",
     "output_type": "stream",
     "text": [
      "train_noise_5.csv_cleaned_curatorC2.csv\n"
     ]
    },
    {
     "name": "stderr",
     "output_type": "stream",
     "text": [
      "<ipython-input-15-a8ec1c88f09f>:20: DeprecationWarning: In a future version, `df.iloc[:, i] = newvals` will attempt to set the values inplace instead of always setting a new array. To retain the old behavior, use either `df[df.columns[i]] = newvals` or, if columns are non-unique, `df.isetitem(i, newvals)`\n",
      "  airbnb_pd.loc[:,\"latitude\"] = airbnb_pd.latitude.astype(float)\n",
      "<ipython-input-15-a8ec1c88f09f>:21: DeprecationWarning: In a future version, `df.iloc[:, i] = newvals` will attempt to set the values inplace instead of always setting a new array. To retain the old behavior, use either `df[df.columns[i]] = newvals` or, if columns are non-unique, `df.isetitem(i, newvals)`\n",
      "  airbnb_pd.loc[:,\"longitude\"] = airbnb_pd.longitude.astype(float)\n",
      "<ipython-input-15-a8ec1c88f09f>:22: DeprecationWarning: In a future version, `df.iloc[:, i] = newvals` will attempt to set the values inplace instead of always setting a new array. To retain the old behavior, use either `df[df.columns[i]] = newvals` or, if columns are non-unique, `df.isetitem(i, newvals)`\n",
      "  airbnb_pd.loc[:,\"number_of_reviews\"] = airbnb_pd.number_of_reviews.astype(int)\n",
      "<ipython-input-15-a8ec1c88f09f>:23: DeprecationWarning: In a future version, `df.iloc[:, i] = newvals` will attempt to set the values inplace instead of always setting a new array. To retain the old behavior, use either `df[df.columns[i]] = newvals` or, if columns are non-unique, `df.isetitem(i, newvals)`\n",
      "  airbnb_pd.loc[:,\"minimum_nights\"] = airbnb_pd.minimum_nights.astype(int)\n",
      "\n",
      " 69%|██████▉   | 40/58 [00:09<00:05,  3.22it/s]\u001b[A"
     ]
    },
    {
     "name": "stdout",
     "output_type": "stream",
     "text": [
      "train_noise_35.csv_cleaned_curatorC2.csv\n"
     ]
    },
    {
     "name": "stderr",
     "output_type": "stream",
     "text": [
      "<ipython-input-15-a8ec1c88f09f>:20: DeprecationWarning: In a future version, `df.iloc[:, i] = newvals` will attempt to set the values inplace instead of always setting a new array. To retain the old behavior, use either `df[df.columns[i]] = newvals` or, if columns are non-unique, `df.isetitem(i, newvals)`\n",
      "  airbnb_pd.loc[:,\"latitude\"] = airbnb_pd.latitude.astype(float)\n",
      "<ipython-input-15-a8ec1c88f09f>:21: DeprecationWarning: In a future version, `df.iloc[:, i] = newvals` will attempt to set the values inplace instead of always setting a new array. To retain the old behavior, use either `df[df.columns[i]] = newvals` or, if columns are non-unique, `df.isetitem(i, newvals)`\n",
      "  airbnb_pd.loc[:,\"longitude\"] = airbnb_pd.longitude.astype(float)\n",
      "<ipython-input-15-a8ec1c88f09f>:22: DeprecationWarning: In a future version, `df.iloc[:, i] = newvals` will attempt to set the values inplace instead of always setting a new array. To retain the old behavior, use either `df[df.columns[i]] = newvals` or, if columns are non-unique, `df.isetitem(i, newvals)`\n",
      "  airbnb_pd.loc[:,\"number_of_reviews\"] = airbnb_pd.number_of_reviews.astype(int)\n",
      "<ipython-input-15-a8ec1c88f09f>:23: DeprecationWarning: In a future version, `df.iloc[:, i] = newvals` will attempt to set the values inplace instead of always setting a new array. To retain the old behavior, use either `df[df.columns[i]] = newvals` or, if columns are non-unique, `df.isetitem(i, newvals)`\n",
      "  airbnb_pd.loc[:,\"minimum_nights\"] = airbnb_pd.minimum_nights.astype(int)\n",
      "\n",
      " 71%|███████   | 41/58 [00:09<00:05,  3.19it/s]\u001b[A"
     ]
    },
    {
     "name": "stdout",
     "output_type": "stream",
     "text": [
      "train_noise_20.csv_cleaned_curatorC2.csv\n"
     ]
    },
    {
     "name": "stderr",
     "output_type": "stream",
     "text": [
      "<ipython-input-15-a8ec1c88f09f>:20: DeprecationWarning: In a future version, `df.iloc[:, i] = newvals` will attempt to set the values inplace instead of always setting a new array. To retain the old behavior, use either `df[df.columns[i]] = newvals` or, if columns are non-unique, `df.isetitem(i, newvals)`\n",
      "  airbnb_pd.loc[:,\"latitude\"] = airbnb_pd.latitude.astype(float)\n",
      "<ipython-input-15-a8ec1c88f09f>:21: DeprecationWarning: In a future version, `df.iloc[:, i] = newvals` will attempt to set the values inplace instead of always setting a new array. To retain the old behavior, use either `df[df.columns[i]] = newvals` or, if columns are non-unique, `df.isetitem(i, newvals)`\n",
      "  airbnb_pd.loc[:,\"longitude\"] = airbnb_pd.longitude.astype(float)\n",
      "<ipython-input-15-a8ec1c88f09f>:22: DeprecationWarning: In a future version, `df.iloc[:, i] = newvals` will attempt to set the values inplace instead of always setting a new array. To retain the old behavior, use either `df[df.columns[i]] = newvals` or, if columns are non-unique, `df.isetitem(i, newvals)`\n",
      "  airbnb_pd.loc[:,\"number_of_reviews\"] = airbnb_pd.number_of_reviews.astype(int)\n",
      "<ipython-input-15-a8ec1c88f09f>:23: DeprecationWarning: In a future version, `df.iloc[:, i] = newvals` will attempt to set the values inplace instead of always setting a new array. To retain the old behavior, use either `df[df.columns[i]] = newvals` or, if columns are non-unique, `df.isetitem(i, newvals)`\n",
      "  airbnb_pd.loc[:,\"minimum_nights\"] = airbnb_pd.minimum_nights.astype(int)\n",
      "\n",
      " 72%|███████▏  | 42/58 [00:09<00:05,  3.18it/s]\u001b[A"
     ]
    },
    {
     "name": "stdout",
     "output_type": "stream",
     "text": [
      "train_noise_40.csv_cleaned_curatorC3.csv\n"
     ]
    },
    {
     "name": "stderr",
     "output_type": "stream",
     "text": [
      "<ipython-input-15-a8ec1c88f09f>:20: DeprecationWarning: In a future version, `df.iloc[:, i] = newvals` will attempt to set the values inplace instead of always setting a new array. To retain the old behavior, use either `df[df.columns[i]] = newvals` or, if columns are non-unique, `df.isetitem(i, newvals)`\n",
      "  airbnb_pd.loc[:,\"latitude\"] = airbnb_pd.latitude.astype(float)\n",
      "<ipython-input-15-a8ec1c88f09f>:21: DeprecationWarning: In a future version, `df.iloc[:, i] = newvals` will attempt to set the values inplace instead of always setting a new array. To retain the old behavior, use either `df[df.columns[i]] = newvals` or, if columns are non-unique, `df.isetitem(i, newvals)`\n",
      "  airbnb_pd.loc[:,\"longitude\"] = airbnb_pd.longitude.astype(float)\n",
      "<ipython-input-15-a8ec1c88f09f>:22: DeprecationWarning: In a future version, `df.iloc[:, i] = newvals` will attempt to set the values inplace instead of always setting a new array. To retain the old behavior, use either `df[df.columns[i]] = newvals` or, if columns are non-unique, `df.isetitem(i, newvals)`\n",
      "  airbnb_pd.loc[:,\"number_of_reviews\"] = airbnb_pd.number_of_reviews.astype(int)\n",
      "<ipython-input-15-a8ec1c88f09f>:23: DeprecationWarning: In a future version, `df.iloc[:, i] = newvals` will attempt to set the values inplace instead of always setting a new array. To retain the old behavior, use either `df[df.columns[i]] = newvals` or, if columns are non-unique, `df.isetitem(i, newvals)`\n",
      "  airbnb_pd.loc[:,\"minimum_nights\"] = airbnb_pd.minimum_nights.astype(int)\n",
      "\n",
      " 74%|███████▍  | 43/58 [00:10<00:04,  3.26it/s]\u001b[A"
     ]
    },
    {
     "name": "stdout",
     "output_type": "stream",
     "text": [
      "train_noise_30.csv_cleaned_curatorC3.csv\n"
     ]
    },
    {
     "name": "stderr",
     "output_type": "stream",
     "text": [
      "<ipython-input-15-a8ec1c88f09f>:20: DeprecationWarning: In a future version, `df.iloc[:, i] = newvals` will attempt to set the values inplace instead of always setting a new array. To retain the old behavior, use either `df[df.columns[i]] = newvals` or, if columns are non-unique, `df.isetitem(i, newvals)`\n",
      "  airbnb_pd.loc[:,\"latitude\"] = airbnb_pd.latitude.astype(float)\n",
      "<ipython-input-15-a8ec1c88f09f>:21: DeprecationWarning: In a future version, `df.iloc[:, i] = newvals` will attempt to set the values inplace instead of always setting a new array. To retain the old behavior, use either `df[df.columns[i]] = newvals` or, if columns are non-unique, `df.isetitem(i, newvals)`\n",
      "  airbnb_pd.loc[:,\"longitude\"] = airbnb_pd.longitude.astype(float)\n",
      "<ipython-input-15-a8ec1c88f09f>:22: DeprecationWarning: In a future version, `df.iloc[:, i] = newvals` will attempt to set the values inplace instead of always setting a new array. To retain the old behavior, use either `df[df.columns[i]] = newvals` or, if columns are non-unique, `df.isetitem(i, newvals)`\n",
      "  airbnb_pd.loc[:,\"number_of_reviews\"] = airbnb_pd.number_of_reviews.astype(int)\n",
      "<ipython-input-15-a8ec1c88f09f>:23: DeprecationWarning: In a future version, `df.iloc[:, i] = newvals` will attempt to set the values inplace instead of always setting a new array. To retain the old behavior, use either `df[df.columns[i]] = newvals` or, if columns are non-unique, `df.isetitem(i, newvals)`\n",
      "  airbnb_pd.loc[:,\"minimum_nights\"] = airbnb_pd.minimum_nights.astype(int)\n",
      "\n",
      " 76%|███████▌  | 44/58 [00:10<00:04,  3.01it/s]\u001b[A"
     ]
    },
    {
     "name": "stdout",
     "output_type": "stream",
     "text": [
      "train_noise_15.csv_cleaned_curatorC3.csv\n"
     ]
    },
    {
     "name": "stderr",
     "output_type": "stream",
     "text": [
      "<ipython-input-15-a8ec1c88f09f>:20: DeprecationWarning: In a future version, `df.iloc[:, i] = newvals` will attempt to set the values inplace instead of always setting a new array. To retain the old behavior, use either `df[df.columns[i]] = newvals` or, if columns are non-unique, `df.isetitem(i, newvals)`\n",
      "  airbnb_pd.loc[:,\"latitude\"] = airbnb_pd.latitude.astype(float)\n",
      "<ipython-input-15-a8ec1c88f09f>:21: DeprecationWarning: In a future version, `df.iloc[:, i] = newvals` will attempt to set the values inplace instead of always setting a new array. To retain the old behavior, use either `df[df.columns[i]] = newvals` or, if columns are non-unique, `df.isetitem(i, newvals)`\n",
      "  airbnb_pd.loc[:,\"longitude\"] = airbnb_pd.longitude.astype(float)\n",
      "<ipython-input-15-a8ec1c88f09f>:22: DeprecationWarning: In a future version, `df.iloc[:, i] = newvals` will attempt to set the values inplace instead of always setting a new array. To retain the old behavior, use either `df[df.columns[i]] = newvals` or, if columns are non-unique, `df.isetitem(i, newvals)`\n",
      "  airbnb_pd.loc[:,\"number_of_reviews\"] = airbnb_pd.number_of_reviews.astype(int)\n",
      "<ipython-input-15-a8ec1c88f09f>:23: DeprecationWarning: In a future version, `df.iloc[:, i] = newvals` will attempt to set the values inplace instead of always setting a new array. To retain the old behavior, use either `df[df.columns[i]] = newvals` or, if columns are non-unique, `df.isetitem(i, newvals)`\n",
      "  airbnb_pd.loc[:,\"minimum_nights\"] = airbnb_pd.minimum_nights.astype(int)\n",
      "\n",
      " 78%|███████▊  | 45/58 [00:10<00:04,  2.83it/s]\u001b[A"
     ]
    },
    {
     "name": "stdout",
     "output_type": "stream",
     "text": [
      "train_noise_25.csv_cleaned_curatorC3.csv\n"
     ]
    },
    {
     "name": "stderr",
     "output_type": "stream",
     "text": [
      "<ipython-input-15-a8ec1c88f09f>:20: DeprecationWarning: In a future version, `df.iloc[:, i] = newvals` will attempt to set the values inplace instead of always setting a new array. To retain the old behavior, use either `df[df.columns[i]] = newvals` or, if columns are non-unique, `df.isetitem(i, newvals)`\n",
      "  airbnb_pd.loc[:,\"latitude\"] = airbnb_pd.latitude.astype(float)\n",
      "<ipython-input-15-a8ec1c88f09f>:21: DeprecationWarning: In a future version, `df.iloc[:, i] = newvals` will attempt to set the values inplace instead of always setting a new array. To retain the old behavior, use either `df[df.columns[i]] = newvals` or, if columns are non-unique, `df.isetitem(i, newvals)`\n",
      "  airbnb_pd.loc[:,\"longitude\"] = airbnb_pd.longitude.astype(float)\n",
      "<ipython-input-15-a8ec1c88f09f>:22: DeprecationWarning: In a future version, `df.iloc[:, i] = newvals` will attempt to set the values inplace instead of always setting a new array. To retain the old behavior, use either `df[df.columns[i]] = newvals` or, if columns are non-unique, `df.isetitem(i, newvals)`\n",
      "  airbnb_pd.loc[:,\"number_of_reviews\"] = airbnb_pd.number_of_reviews.astype(int)\n",
      "<ipython-input-15-a8ec1c88f09f>:23: DeprecationWarning: In a future version, `df.iloc[:, i] = newvals` will attempt to set the values inplace instead of always setting a new array. To retain the old behavior, use either `df[df.columns[i]] = newvals` or, if columns are non-unique, `df.isetitem(i, newvals)`\n",
      "  airbnb_pd.loc[:,\"minimum_nights\"] = airbnb_pd.minimum_nights.astype(int)\n",
      "\n",
      " 79%|███████▉  | 46/58 [00:11<00:04,  2.87it/s]\u001b[A"
     ]
    },
    {
     "name": "stdout",
     "output_type": "stream",
     "text": [
      "train_noise_10.csv_cleaned_curatorC3.csv\n"
     ]
    },
    {
     "name": "stderr",
     "output_type": "stream",
     "text": [
      "<ipython-input-15-a8ec1c88f09f>:20: DeprecationWarning: In a future version, `df.iloc[:, i] = newvals` will attempt to set the values inplace instead of always setting a new array. To retain the old behavior, use either `df[df.columns[i]] = newvals` or, if columns are non-unique, `df.isetitem(i, newvals)`\n",
      "  airbnb_pd.loc[:,\"latitude\"] = airbnb_pd.latitude.astype(float)\n",
      "<ipython-input-15-a8ec1c88f09f>:21: DeprecationWarning: In a future version, `df.iloc[:, i] = newvals` will attempt to set the values inplace instead of always setting a new array. To retain the old behavior, use either `df[df.columns[i]] = newvals` or, if columns are non-unique, `df.isetitem(i, newvals)`\n",
      "  airbnb_pd.loc[:,\"longitude\"] = airbnb_pd.longitude.astype(float)\n",
      "<ipython-input-15-a8ec1c88f09f>:22: DeprecationWarning: In a future version, `df.iloc[:, i] = newvals` will attempt to set the values inplace instead of always setting a new array. To retain the old behavior, use either `df[df.columns[i]] = newvals` or, if columns are non-unique, `df.isetitem(i, newvals)`\n",
      "  airbnb_pd.loc[:,\"number_of_reviews\"] = airbnb_pd.number_of_reviews.astype(int)\n",
      "<ipython-input-15-a8ec1c88f09f>:23: DeprecationWarning: In a future version, `df.iloc[:, i] = newvals` will attempt to set the values inplace instead of always setting a new array. To retain the old behavior, use either `df[df.columns[i]] = newvals` or, if columns are non-unique, `df.isetitem(i, newvals)`\n",
      "  airbnb_pd.loc[:,\"minimum_nights\"] = airbnb_pd.minimum_nights.astype(int)\n",
      "\n",
      " 81%|████████  | 47/58 [00:11<00:03,  2.84it/s]\u001b[A"
     ]
    },
    {
     "name": "stdout",
     "output_type": "stream",
     "text": [
      "train_noise_5.csv_cleaned_curatorC3.csv\n"
     ]
    },
    {
     "name": "stderr",
     "output_type": "stream",
     "text": [
      "<ipython-input-15-a8ec1c88f09f>:20: DeprecationWarning: In a future version, `df.iloc[:, i] = newvals` will attempt to set the values inplace instead of always setting a new array. To retain the old behavior, use either `df[df.columns[i]] = newvals` or, if columns are non-unique, `df.isetitem(i, newvals)`\n",
      "  airbnb_pd.loc[:,\"latitude\"] = airbnb_pd.latitude.astype(float)\n",
      "<ipython-input-15-a8ec1c88f09f>:21: DeprecationWarning: In a future version, `df.iloc[:, i] = newvals` will attempt to set the values inplace instead of always setting a new array. To retain the old behavior, use either `df[df.columns[i]] = newvals` or, if columns are non-unique, `df.isetitem(i, newvals)`\n",
      "  airbnb_pd.loc[:,\"longitude\"] = airbnb_pd.longitude.astype(float)\n",
      "<ipython-input-15-a8ec1c88f09f>:22: DeprecationWarning: In a future version, `df.iloc[:, i] = newvals` will attempt to set the values inplace instead of always setting a new array. To retain the old behavior, use either `df[df.columns[i]] = newvals` or, if columns are non-unique, `df.isetitem(i, newvals)`\n",
      "  airbnb_pd.loc[:,\"number_of_reviews\"] = airbnb_pd.number_of_reviews.astype(int)\n",
      "<ipython-input-15-a8ec1c88f09f>:23: DeprecationWarning: In a future version, `df.iloc[:, i] = newvals` will attempt to set the values inplace instead of always setting a new array. To retain the old behavior, use either `df[df.columns[i]] = newvals` or, if columns are non-unique, `df.isetitem(i, newvals)`\n",
      "  airbnb_pd.loc[:,\"minimum_nights\"] = airbnb_pd.minimum_nights.astype(int)\n",
      "\n",
      " 83%|████████▎ | 48/58 [00:11<00:03,  2.86it/s]\u001b[A"
     ]
    },
    {
     "name": "stdout",
     "output_type": "stream",
     "text": [
      "train_noise_35.csv_cleaned_curatorC3.csv\n"
     ]
    },
    {
     "name": "stderr",
     "output_type": "stream",
     "text": [
      "<ipython-input-15-a8ec1c88f09f>:20: DeprecationWarning: In a future version, `df.iloc[:, i] = newvals` will attempt to set the values inplace instead of always setting a new array. To retain the old behavior, use either `df[df.columns[i]] = newvals` or, if columns are non-unique, `df.isetitem(i, newvals)`\n",
      "  airbnb_pd.loc[:,\"latitude\"] = airbnb_pd.latitude.astype(float)\n",
      "<ipython-input-15-a8ec1c88f09f>:21: DeprecationWarning: In a future version, `df.iloc[:, i] = newvals` will attempt to set the values inplace instead of always setting a new array. To retain the old behavior, use either `df[df.columns[i]] = newvals` or, if columns are non-unique, `df.isetitem(i, newvals)`\n",
      "  airbnb_pd.loc[:,\"longitude\"] = airbnb_pd.longitude.astype(float)\n",
      "<ipython-input-15-a8ec1c88f09f>:22: DeprecationWarning: In a future version, `df.iloc[:, i] = newvals` will attempt to set the values inplace instead of always setting a new array. To retain the old behavior, use either `df[df.columns[i]] = newvals` or, if columns are non-unique, `df.isetitem(i, newvals)`\n",
      "  airbnb_pd.loc[:,\"number_of_reviews\"] = airbnb_pd.number_of_reviews.astype(int)\n",
      "<ipython-input-15-a8ec1c88f09f>:23: DeprecationWarning: In a future version, `df.iloc[:, i] = newvals` will attempt to set the values inplace instead of always setting a new array. To retain the old behavior, use either `df[df.columns[i]] = newvals` or, if columns are non-unique, `df.isetitem(i, newvals)`\n",
      "  airbnb_pd.loc[:,\"minimum_nights\"] = airbnb_pd.minimum_nights.astype(int)\n",
      "\n",
      " 84%|████████▍ | 49/58 [00:12<00:03,  2.89it/s]\u001b[A"
     ]
    },
    {
     "name": "stdout",
     "output_type": "stream",
     "text": [
      "train_noise_20.csv_cleaned_curatorC3.csv\n"
     ]
    },
    {
     "name": "stderr",
     "output_type": "stream",
     "text": [
      "<ipython-input-15-a8ec1c88f09f>:20: DeprecationWarning: In a future version, `df.iloc[:, i] = newvals` will attempt to set the values inplace instead of always setting a new array. To retain the old behavior, use either `df[df.columns[i]] = newvals` or, if columns are non-unique, `df.isetitem(i, newvals)`\n",
      "  airbnb_pd.loc[:,\"latitude\"] = airbnb_pd.latitude.astype(float)\n",
      "<ipython-input-15-a8ec1c88f09f>:21: DeprecationWarning: In a future version, `df.iloc[:, i] = newvals` will attempt to set the values inplace instead of always setting a new array. To retain the old behavior, use either `df[df.columns[i]] = newvals` or, if columns are non-unique, `df.isetitem(i, newvals)`\n",
      "  airbnb_pd.loc[:,\"longitude\"] = airbnb_pd.longitude.astype(float)\n",
      "<ipython-input-15-a8ec1c88f09f>:22: DeprecationWarning: In a future version, `df.iloc[:, i] = newvals` will attempt to set the values inplace instead of always setting a new array. To retain the old behavior, use either `df[df.columns[i]] = newvals` or, if columns are non-unique, `df.isetitem(i, newvals)`\n",
      "  airbnb_pd.loc[:,\"number_of_reviews\"] = airbnb_pd.number_of_reviews.astype(int)\n",
      "<ipython-input-15-a8ec1c88f09f>:23: DeprecationWarning: In a future version, `df.iloc[:, i] = newvals` will attempt to set the values inplace instead of always setting a new array. To retain the old behavior, use either `df[df.columns[i]] = newvals` or, if columns are non-unique, `df.isetitem(i, newvals)`\n",
      "  airbnb_pd.loc[:,\"minimum_nights\"] = airbnb_pd.minimum_nights.astype(int)\n",
      "\n",
      " 86%|████████▌ | 50/58 [00:12<00:02,  2.82it/s]\u001b[A"
     ]
    },
    {
     "name": "stdout",
     "output_type": "stream",
     "text": [
      "train_noise_40.csv_cleaned_curatorMerge.csv\n"
     ]
    },
    {
     "name": "stderr",
     "output_type": "stream",
     "text": [
      "<ipython-input-15-a8ec1c88f09f>:22: DeprecationWarning: In a future version, `df.iloc[:, i] = newvals` will attempt to set the values inplace instead of always setting a new array. To retain the old behavior, use either `df[df.columns[i]] = newvals` or, if columns are non-unique, `df.isetitem(i, newvals)`\n",
      "  airbnb_pd.loc[:,\"number_of_reviews\"] = airbnb_pd.number_of_reviews.astype(int)\n",
      "<ipython-input-15-a8ec1c88f09f>:23: DeprecationWarning: In a future version, `df.iloc[:, i] = newvals` will attempt to set the values inplace instead of always setting a new array. To retain the old behavior, use either `df[df.columns[i]] = newvals` or, if columns are non-unique, `df.isetitem(i, newvals)`\n",
      "  airbnb_pd.loc[:,\"minimum_nights\"] = airbnb_pd.minimum_nights.astype(int)\n",
      "\n",
      " 88%|████████▊ | 51/58 [00:12<00:02,  2.81it/s]\u001b[A"
     ]
    },
    {
     "name": "stdout",
     "output_type": "stream",
     "text": [
      "train_noise_30.csv_cleaned_curatorMerge.csv\n"
     ]
    },
    {
     "name": "stderr",
     "output_type": "stream",
     "text": [
      "<ipython-input-15-a8ec1c88f09f>:22: DeprecationWarning: In a future version, `df.iloc[:, i] = newvals` will attempt to set the values inplace instead of always setting a new array. To retain the old behavior, use either `df[df.columns[i]] = newvals` or, if columns are non-unique, `df.isetitem(i, newvals)`\n",
      "  airbnb_pd.loc[:,\"number_of_reviews\"] = airbnb_pd.number_of_reviews.astype(int)\n",
      "<ipython-input-15-a8ec1c88f09f>:23: DeprecationWarning: In a future version, `df.iloc[:, i] = newvals` will attempt to set the values inplace instead of always setting a new array. To retain the old behavior, use either `df[df.columns[i]] = newvals` or, if columns are non-unique, `df.isetitem(i, newvals)`\n",
      "  airbnb_pd.loc[:,\"minimum_nights\"] = airbnb_pd.minimum_nights.astype(int)\n",
      "\n",
      " 90%|████████▉ | 52/58 [00:13<00:02,  2.79it/s]\u001b[A"
     ]
    },
    {
     "name": "stdout",
     "output_type": "stream",
     "text": [
      "train_noise_15.csv_cleaned_curatorMerge.csv\n"
     ]
    },
    {
     "name": "stderr",
     "output_type": "stream",
     "text": [
      "<ipython-input-15-a8ec1c88f09f>:22: DeprecationWarning: In a future version, `df.iloc[:, i] = newvals` will attempt to set the values inplace instead of always setting a new array. To retain the old behavior, use either `df[df.columns[i]] = newvals` or, if columns are non-unique, `df.isetitem(i, newvals)`\n",
      "  airbnb_pd.loc[:,\"number_of_reviews\"] = airbnb_pd.number_of_reviews.astype(int)\n",
      "<ipython-input-15-a8ec1c88f09f>:23: DeprecationWarning: In a future version, `df.iloc[:, i] = newvals` will attempt to set the values inplace instead of always setting a new array. To retain the old behavior, use either `df[df.columns[i]] = newvals` or, if columns are non-unique, `df.isetitem(i, newvals)`\n",
      "  airbnb_pd.loc[:,\"minimum_nights\"] = airbnb_pd.minimum_nights.astype(int)\n",
      "\n",
      " 91%|█████████▏| 53/58 [00:13<00:01,  2.94it/s]\u001b[A"
     ]
    },
    {
     "name": "stdout",
     "output_type": "stream",
     "text": [
      "train_noise_25.csv_cleaned_curatorMerge.csv\n"
     ]
    },
    {
     "name": "stderr",
     "output_type": "stream",
     "text": [
      "<ipython-input-15-a8ec1c88f09f>:22: DeprecationWarning: In a future version, `df.iloc[:, i] = newvals` will attempt to set the values inplace instead of always setting a new array. To retain the old behavior, use either `df[df.columns[i]] = newvals` or, if columns are non-unique, `df.isetitem(i, newvals)`\n",
      "  airbnb_pd.loc[:,\"number_of_reviews\"] = airbnb_pd.number_of_reviews.astype(int)\n",
      "<ipython-input-15-a8ec1c88f09f>:23: DeprecationWarning: In a future version, `df.iloc[:, i] = newvals` will attempt to set the values inplace instead of always setting a new array. To retain the old behavior, use either `df[df.columns[i]] = newvals` or, if columns are non-unique, `df.isetitem(i, newvals)`\n",
      "  airbnb_pd.loc[:,\"minimum_nights\"] = airbnb_pd.minimum_nights.astype(int)\n",
      "\n",
      " 93%|█████████▎| 54/58 [00:13<00:01,  2.98it/s]\u001b[A"
     ]
    },
    {
     "name": "stdout",
     "output_type": "stream",
     "text": [
      "train_noise_10.csv_cleaned_curatorMerge.csv\n"
     ]
    },
    {
     "name": "stderr",
     "output_type": "stream",
     "text": [
      "<ipython-input-15-a8ec1c88f09f>:22: DeprecationWarning: In a future version, `df.iloc[:, i] = newvals` will attempt to set the values inplace instead of always setting a new array. To retain the old behavior, use either `df[df.columns[i]] = newvals` or, if columns are non-unique, `df.isetitem(i, newvals)`\n",
      "  airbnb_pd.loc[:,\"number_of_reviews\"] = airbnb_pd.number_of_reviews.astype(int)\n",
      "<ipython-input-15-a8ec1c88f09f>:23: DeprecationWarning: In a future version, `df.iloc[:, i] = newvals` will attempt to set the values inplace instead of always setting a new array. To retain the old behavior, use either `df[df.columns[i]] = newvals` or, if columns are non-unique, `df.isetitem(i, newvals)`\n",
      "  airbnb_pd.loc[:,\"minimum_nights\"] = airbnb_pd.minimum_nights.astype(int)\n",
      "\n",
      " 95%|█████████▍| 55/58 [00:14<00:00,  3.06it/s]\u001b[A"
     ]
    },
    {
     "name": "stdout",
     "output_type": "stream",
     "text": [
      "train_noise_5.csv_cleaned_curatorMerge.csv\n"
     ]
    },
    {
     "name": "stderr",
     "output_type": "stream",
     "text": [
      "<ipython-input-15-a8ec1c88f09f>:22: DeprecationWarning: In a future version, `df.iloc[:, i] = newvals` will attempt to set the values inplace instead of always setting a new array. To retain the old behavior, use either `df[df.columns[i]] = newvals` or, if columns are non-unique, `df.isetitem(i, newvals)`\n",
      "  airbnb_pd.loc[:,\"number_of_reviews\"] = airbnb_pd.number_of_reviews.astype(int)\n",
      "<ipython-input-15-a8ec1c88f09f>:23: DeprecationWarning: In a future version, `df.iloc[:, i] = newvals` will attempt to set the values inplace instead of always setting a new array. To retain the old behavior, use either `df[df.columns[i]] = newvals` or, if columns are non-unique, `df.isetitem(i, newvals)`\n",
      "  airbnb_pd.loc[:,\"minimum_nights\"] = airbnb_pd.minimum_nights.astype(int)\n",
      "\n",
      " 97%|█████████▋| 56/58 [00:14<00:00,  3.11it/s]\u001b[A"
     ]
    },
    {
     "name": "stdout",
     "output_type": "stream",
     "text": [
      "train_noise_35.csv_cleaned_curatorMerge.csv\n"
     ]
    },
    {
     "name": "stderr",
     "output_type": "stream",
     "text": [
      "<ipython-input-15-a8ec1c88f09f>:22: DeprecationWarning: In a future version, `df.iloc[:, i] = newvals` will attempt to set the values inplace instead of always setting a new array. To retain the old behavior, use either `df[df.columns[i]] = newvals` or, if columns are non-unique, `df.isetitem(i, newvals)`\n",
      "  airbnb_pd.loc[:,\"number_of_reviews\"] = airbnb_pd.number_of_reviews.astype(int)\n",
      "<ipython-input-15-a8ec1c88f09f>:23: DeprecationWarning: In a future version, `df.iloc[:, i] = newvals` will attempt to set the values inplace instead of always setting a new array. To retain the old behavior, use either `df[df.columns[i]] = newvals` or, if columns are non-unique, `df.isetitem(i, newvals)`\n",
      "  airbnb_pd.loc[:,\"minimum_nights\"] = airbnb_pd.minimum_nights.astype(int)\n",
      "\n",
      " 98%|█████████▊| 57/58 [00:14<00:00,  3.10it/s]\u001b[A"
     ]
    },
    {
     "name": "stdout",
     "output_type": "stream",
     "text": [
      "train_noise_20.csv_cleaned_curatorMerge.csv\n"
     ]
    },
    {
     "name": "stderr",
     "output_type": "stream",
     "text": [
      "<ipython-input-15-a8ec1c88f09f>:22: DeprecationWarning: In a future version, `df.iloc[:, i] = newvals` will attempt to set the values inplace instead of always setting a new array. To retain the old behavior, use either `df[df.columns[i]] = newvals` or, if columns are non-unique, `df.isetitem(i, newvals)`\n",
      "  airbnb_pd.loc[:,\"number_of_reviews\"] = airbnb_pd.number_of_reviews.astype(int)\n",
      "<ipython-input-15-a8ec1c88f09f>:23: DeprecationWarning: In a future version, `df.iloc[:, i] = newvals` will attempt to set the values inplace instead of always setting a new array. To retain the old behavior, use either `df[df.columns[i]] = newvals` or, if columns are non-unique, `df.isetitem(i, newvals)`\n",
      "  airbnb_pd.loc[:,\"minimum_nights\"] = airbnb_pd.minimum_nights.astype(int)\n",
      "\n",
      "100%|██████████| 58/58 [00:15<00:00,  3.80it/s]\n",
      " 20%|██        | 2/10 [00:35<02:17, 17.24s/it]\n",
      "  0%|          | 0/58 [00:00<?, ?it/s]\u001b[A"
     ]
    },
    {
     "name": "stdout",
     "output_type": "stream",
     "text": [
      "train_noise_40.csv_cleaned_baseline.csv\n",
      "train_noise_15.csv_cleaned_baseline.csv\n"
     ]
    },
    {
     "name": "stderr",
     "output_type": "stream",
     "text": [
      "\n",
      " 21%|██        | 12/58 [00:00<00:01, 32.87it/s]\u001b[A"
     ]
    },
    {
     "name": "stdout",
     "output_type": "stream",
     "text": [
      "train_noise_30.csv_cleaned_baseline.csv\n",
      "train_noise_5.csv_cleaned_baseline.csv\n",
      "train_noise_10.csv_cleaned_baseline.csv\n",
      "train_noise_25.csv_cleaned_baseline.csv\n"
     ]
    },
    {
     "name": "stderr",
     "output_type": "stream",
     "text": [
      "\n",
      " 28%|██▊       | 16/58 [00:01<00:05,  8.13it/s]\u001b[A"
     ]
    },
    {
     "name": "stdout",
     "output_type": "stream",
     "text": [
      "train_noise_20.csv_cleaned_baseline.csv\n",
      "train_noise_35.csv_cleaned_baseline.csv\n"
     ]
    },
    {
     "name": "stderr",
     "output_type": "stream",
     "text": [
      "\n",
      " 31%|███       | 18/58 [00:02<00:06,  6.22it/s]\u001b[A"
     ]
    },
    {
     "name": "stdout",
     "output_type": "stream",
     "text": [
      "train_noise_40.csv_cleaned_baselineAverage.csv\n"
     ]
    },
    {
     "name": "stderr",
     "output_type": "stream",
     "text": [
      "\n",
      " 33%|███▎      | 19/58 [00:02<00:07,  5.57it/s]\u001b[A"
     ]
    },
    {
     "name": "stdout",
     "output_type": "stream",
     "text": [
      "train_noise_15.csv_cleaned_baselineAverage.csv\n"
     ]
    },
    {
     "name": "stderr",
     "output_type": "stream",
     "text": [
      "\n",
      " 34%|███▍      | 20/58 [00:02<00:07,  4.98it/s]\u001b[A"
     ]
    },
    {
     "name": "stdout",
     "output_type": "stream",
     "text": [
      "train_noise_30.csv_cleaned_baselineAverage.csv\n"
     ]
    },
    {
     "name": "stderr",
     "output_type": "stream",
     "text": [
      "\n",
      " 36%|███▌      | 21/58 [00:03<00:08,  4.50it/s]\u001b[A"
     ]
    },
    {
     "name": "stdout",
     "output_type": "stream",
     "text": [
      "train_noise_25.csv_cleaned_baselineAverage.csv\n"
     ]
    },
    {
     "name": "stderr",
     "output_type": "stream",
     "text": [
      "\n",
      " 38%|███▊      | 22/58 [00:03<00:08,  4.17it/s]\u001b[A"
     ]
    },
    {
     "name": "stdout",
     "output_type": "stream",
     "text": [
      "train_noise_10.csv_cleaned_baselineAverage.csv\n"
     ]
    },
    {
     "name": "stderr",
     "output_type": "stream",
     "text": [
      "\n",
      " 40%|███▉      | 23/58 [00:03<00:09,  3.81it/s]\u001b[A"
     ]
    },
    {
     "name": "stdout",
     "output_type": "stream",
     "text": [
      "train_noise_5.csv_cleaned_baselineAverage.csv\n"
     ]
    },
    {
     "name": "stderr",
     "output_type": "stream",
     "text": [
      "\n",
      " 41%|████▏     | 24/58 [00:04<00:09,  3.63it/s]\u001b[A"
     ]
    },
    {
     "name": "stdout",
     "output_type": "stream",
     "text": [
      "train_noise_35.csv_cleaned_baselineAverage.csv\n"
     ]
    },
    {
     "name": "stderr",
     "output_type": "stream",
     "text": [
      "\n",
      " 43%|████▎     | 25/58 [00:04<00:09,  3.45it/s]\u001b[A"
     ]
    },
    {
     "name": "stdout",
     "output_type": "stream",
     "text": [
      "train_noise_20.csv_cleaned_baselineAverage.csv\n"
     ]
    },
    {
     "name": "stderr",
     "output_type": "stream",
     "text": [
      "\n",
      " 45%|████▍     | 26/58 [00:04<00:09,  3.39it/s]\u001b[A"
     ]
    },
    {
     "name": "stdout",
     "output_type": "stream",
     "text": [
      "train_noise_40.csv_cleaned_curatorC1.csv\n"
     ]
    },
    {
     "name": "stderr",
     "output_type": "stream",
     "text": [
      "<ipython-input-15-a8ec1c88f09f>:22: DeprecationWarning: In a future version, `df.iloc[:, i] = newvals` will attempt to set the values inplace instead of always setting a new array. To retain the old behavior, use either `df[df.columns[i]] = newvals` or, if columns are non-unique, `df.isetitem(i, newvals)`\n",
      "  airbnb_pd.loc[:,\"number_of_reviews\"] = airbnb_pd.number_of_reviews.astype(int)\n",
      "<ipython-input-15-a8ec1c88f09f>:23: DeprecationWarning: In a future version, `df.iloc[:, i] = newvals` will attempt to set the values inplace instead of always setting a new array. To retain the old behavior, use either `df[df.columns[i]] = newvals` or, if columns are non-unique, `df.isetitem(i, newvals)`\n",
      "  airbnb_pd.loc[:,\"minimum_nights\"] = airbnb_pd.minimum_nights.astype(int)\n",
      "\n",
      " 47%|████▋     | 27/58 [00:05<00:09,  3.25it/s]\u001b[A"
     ]
    },
    {
     "name": "stdout",
     "output_type": "stream",
     "text": [
      "train_noise_30.csv_cleaned_curatorC1.csv\n"
     ]
    },
    {
     "name": "stderr",
     "output_type": "stream",
     "text": [
      "<ipython-input-15-a8ec1c88f09f>:22: DeprecationWarning: In a future version, `df.iloc[:, i] = newvals` will attempt to set the values inplace instead of always setting a new array. To retain the old behavior, use either `df[df.columns[i]] = newvals` or, if columns are non-unique, `df.isetitem(i, newvals)`\n",
      "  airbnb_pd.loc[:,\"number_of_reviews\"] = airbnb_pd.number_of_reviews.astype(int)\n",
      "<ipython-input-15-a8ec1c88f09f>:23: DeprecationWarning: In a future version, `df.iloc[:, i] = newvals` will attempt to set the values inplace instead of always setting a new array. To retain the old behavior, use either `df[df.columns[i]] = newvals` or, if columns are non-unique, `df.isetitem(i, newvals)`\n",
      "  airbnb_pd.loc[:,\"minimum_nights\"] = airbnb_pd.minimum_nights.astype(int)\n",
      "\n",
      " 48%|████▊     | 28/58 [00:05<00:09,  3.02it/s]\u001b[A"
     ]
    },
    {
     "name": "stdout",
     "output_type": "stream",
     "text": [
      "train_noise_15.csv_cleaned_curatorC1.csv\n"
     ]
    },
    {
     "name": "stderr",
     "output_type": "stream",
     "text": [
      "<ipython-input-15-a8ec1c88f09f>:22: DeprecationWarning: In a future version, `df.iloc[:, i] = newvals` will attempt to set the values inplace instead of always setting a new array. To retain the old behavior, use either `df[df.columns[i]] = newvals` or, if columns are non-unique, `df.isetitem(i, newvals)`\n",
      "  airbnb_pd.loc[:,\"number_of_reviews\"] = airbnb_pd.number_of_reviews.astype(int)\n",
      "<ipython-input-15-a8ec1c88f09f>:23: DeprecationWarning: In a future version, `df.iloc[:, i] = newvals` will attempt to set the values inplace instead of always setting a new array. To retain the old behavior, use either `df[df.columns[i]] = newvals` or, if columns are non-unique, `df.isetitem(i, newvals)`\n",
      "  airbnb_pd.loc[:,\"minimum_nights\"] = airbnb_pd.minimum_nights.astype(int)\n",
      "\n",
      " 50%|█████     | 29/58 [00:05<00:09,  2.92it/s]\u001b[A"
     ]
    },
    {
     "name": "stdout",
     "output_type": "stream",
     "text": [
      "train_noise_25.csv_cleaned_curatorC1.csv\n"
     ]
    },
    {
     "name": "stderr",
     "output_type": "stream",
     "text": [
      "<ipython-input-15-a8ec1c88f09f>:22: DeprecationWarning: In a future version, `df.iloc[:, i] = newvals` will attempt to set the values inplace instead of always setting a new array. To retain the old behavior, use either `df[df.columns[i]] = newvals` or, if columns are non-unique, `df.isetitem(i, newvals)`\n",
      "  airbnb_pd.loc[:,\"number_of_reviews\"] = airbnb_pd.number_of_reviews.astype(int)\n",
      "<ipython-input-15-a8ec1c88f09f>:23: DeprecationWarning: In a future version, `df.iloc[:, i] = newvals` will attempt to set the values inplace instead of always setting a new array. To retain the old behavior, use either `df[df.columns[i]] = newvals` or, if columns are non-unique, `df.isetitem(i, newvals)`\n",
      "  airbnb_pd.loc[:,\"minimum_nights\"] = airbnb_pd.minimum_nights.astype(int)\n",
      "\n",
      " 52%|█████▏    | 30/58 [00:06<00:08,  3.12it/s]\u001b[A"
     ]
    },
    {
     "name": "stdout",
     "output_type": "stream",
     "text": [
      "train_noise_10.csv_cleaned_curatorC1.csv\n"
     ]
    },
    {
     "name": "stderr",
     "output_type": "stream",
     "text": [
      "<ipython-input-15-a8ec1c88f09f>:22: DeprecationWarning: In a future version, `df.iloc[:, i] = newvals` will attempt to set the values inplace instead of always setting a new array. To retain the old behavior, use either `df[df.columns[i]] = newvals` or, if columns are non-unique, `df.isetitem(i, newvals)`\n",
      "  airbnb_pd.loc[:,\"number_of_reviews\"] = airbnb_pd.number_of_reviews.astype(int)\n",
      "<ipython-input-15-a8ec1c88f09f>:23: DeprecationWarning: In a future version, `df.iloc[:, i] = newvals` will attempt to set the values inplace instead of always setting a new array. To retain the old behavior, use either `df[df.columns[i]] = newvals` or, if columns are non-unique, `df.isetitem(i, newvals)`\n",
      "  airbnb_pd.loc[:,\"minimum_nights\"] = airbnb_pd.minimum_nights.astype(int)\n",
      "\n",
      " 53%|█████▎    | 31/58 [00:06<00:08,  3.23it/s]\u001b[A"
     ]
    },
    {
     "name": "stdout",
     "output_type": "stream",
     "text": [
      "train_noise_5.csv_cleaned_curatorC1.csv\n"
     ]
    },
    {
     "name": "stderr",
     "output_type": "stream",
     "text": [
      "<ipython-input-15-a8ec1c88f09f>:22: DeprecationWarning: In a future version, `df.iloc[:, i] = newvals` will attempt to set the values inplace instead of always setting a new array. To retain the old behavior, use either `df[df.columns[i]] = newvals` or, if columns are non-unique, `df.isetitem(i, newvals)`\n",
      "  airbnb_pd.loc[:,\"number_of_reviews\"] = airbnb_pd.number_of_reviews.astype(int)\n",
      "<ipython-input-15-a8ec1c88f09f>:23: DeprecationWarning: In a future version, `df.iloc[:, i] = newvals` will attempt to set the values inplace instead of always setting a new array. To retain the old behavior, use either `df[df.columns[i]] = newvals` or, if columns are non-unique, `df.isetitem(i, newvals)`\n",
      "  airbnb_pd.loc[:,\"minimum_nights\"] = airbnb_pd.minimum_nights.astype(int)\n",
      "\n",
      " 55%|█████▌    | 32/58 [00:06<00:08,  3.25it/s]\u001b[A"
     ]
    },
    {
     "name": "stdout",
     "output_type": "stream",
     "text": [
      "train_noise_20.csv_cleaned_curatorC1.csv\n"
     ]
    },
    {
     "name": "stderr",
     "output_type": "stream",
     "text": [
      "<ipython-input-15-a8ec1c88f09f>:22: DeprecationWarning: In a future version, `df.iloc[:, i] = newvals` will attempt to set the values inplace instead of always setting a new array. To retain the old behavior, use either `df[df.columns[i]] = newvals` or, if columns are non-unique, `df.isetitem(i, newvals)`\n",
      "  airbnb_pd.loc[:,\"number_of_reviews\"] = airbnb_pd.number_of_reviews.astype(int)\n",
      "<ipython-input-15-a8ec1c88f09f>:23: DeprecationWarning: In a future version, `df.iloc[:, i] = newvals` will attempt to set the values inplace instead of always setting a new array. To retain the old behavior, use either `df[df.columns[i]] = newvals` or, if columns are non-unique, `df.isetitem(i, newvals)`\n",
      "  airbnb_pd.loc[:,\"minimum_nights\"] = airbnb_pd.minimum_nights.astype(int)\n",
      "\n",
      " 57%|█████▋    | 33/58 [00:07<00:07,  3.34it/s]\u001b[A"
     ]
    },
    {
     "name": "stdout",
     "output_type": "stream",
     "text": [
      "train_noise_35.csv_cleaned_curatorC1.csv\n"
     ]
    },
    {
     "name": "stderr",
     "output_type": "stream",
     "text": [
      "<ipython-input-15-a8ec1c88f09f>:22: DeprecationWarning: In a future version, `df.iloc[:, i] = newvals` will attempt to set the values inplace instead of always setting a new array. To retain the old behavior, use either `df[df.columns[i]] = newvals` or, if columns are non-unique, `df.isetitem(i, newvals)`\n",
      "  airbnb_pd.loc[:,\"number_of_reviews\"] = airbnb_pd.number_of_reviews.astype(int)\n",
      "<ipython-input-15-a8ec1c88f09f>:23: DeprecationWarning: In a future version, `df.iloc[:, i] = newvals` will attempt to set the values inplace instead of always setting a new array. To retain the old behavior, use either `df[df.columns[i]] = newvals` or, if columns are non-unique, `df.isetitem(i, newvals)`\n",
      "  airbnb_pd.loc[:,\"minimum_nights\"] = airbnb_pd.minimum_nights.astype(int)\n",
      "\n",
      " 59%|█████▊    | 34/58 [00:07<00:06,  3.45it/s]\u001b[A"
     ]
    },
    {
     "name": "stdout",
     "output_type": "stream",
     "text": [
      "train_noise_40.csv_cleaned_curatorC2.csv\n"
     ]
    },
    {
     "name": "stderr",
     "output_type": "stream",
     "text": [
      "<ipython-input-15-a8ec1c88f09f>:20: DeprecationWarning: In a future version, `df.iloc[:, i] = newvals` will attempt to set the values inplace instead of always setting a new array. To retain the old behavior, use either `df[df.columns[i]] = newvals` or, if columns are non-unique, `df.isetitem(i, newvals)`\n",
      "  airbnb_pd.loc[:,\"latitude\"] = airbnb_pd.latitude.astype(float)\n",
      "<ipython-input-15-a8ec1c88f09f>:21: DeprecationWarning: In a future version, `df.iloc[:, i] = newvals` will attempt to set the values inplace instead of always setting a new array. To retain the old behavior, use either `df[df.columns[i]] = newvals` or, if columns are non-unique, `df.isetitem(i, newvals)`\n",
      "  airbnb_pd.loc[:,\"longitude\"] = airbnb_pd.longitude.astype(float)\n",
      "<ipython-input-15-a8ec1c88f09f>:22: DeprecationWarning: In a future version, `df.iloc[:, i] = newvals` will attempt to set the values inplace instead of always setting a new array. To retain the old behavior, use either `df[df.columns[i]] = newvals` or, if columns are non-unique, `df.isetitem(i, newvals)`\n",
      "  airbnb_pd.loc[:,\"number_of_reviews\"] = airbnb_pd.number_of_reviews.astype(int)\n",
      "<ipython-input-15-a8ec1c88f09f>:23: DeprecationWarning: In a future version, `df.iloc[:, i] = newvals` will attempt to set the values inplace instead of always setting a new array. To retain the old behavior, use either `df[df.columns[i]] = newvals` or, if columns are non-unique, `df.isetitem(i, newvals)`\n",
      "  airbnb_pd.loc[:,\"minimum_nights\"] = airbnb_pd.minimum_nights.astype(int)\n",
      "\n",
      " 60%|██████    | 35/58 [00:07<00:06,  3.33it/s]\u001b[A"
     ]
    },
    {
     "name": "stdout",
     "output_type": "stream",
     "text": [
      "train_noise_30.csv_cleaned_curatorC2.csv\n"
     ]
    },
    {
     "name": "stderr",
     "output_type": "stream",
     "text": [
      "<ipython-input-15-a8ec1c88f09f>:20: DeprecationWarning: In a future version, `df.iloc[:, i] = newvals` will attempt to set the values inplace instead of always setting a new array. To retain the old behavior, use either `df[df.columns[i]] = newvals` or, if columns are non-unique, `df.isetitem(i, newvals)`\n",
      "  airbnb_pd.loc[:,\"latitude\"] = airbnb_pd.latitude.astype(float)\n",
      "<ipython-input-15-a8ec1c88f09f>:21: DeprecationWarning: In a future version, `df.iloc[:, i] = newvals` will attempt to set the values inplace instead of always setting a new array. To retain the old behavior, use either `df[df.columns[i]] = newvals` or, if columns are non-unique, `df.isetitem(i, newvals)`\n",
      "  airbnb_pd.loc[:,\"longitude\"] = airbnb_pd.longitude.astype(float)\n",
      "<ipython-input-15-a8ec1c88f09f>:22: DeprecationWarning: In a future version, `df.iloc[:, i] = newvals` will attempt to set the values inplace instead of always setting a new array. To retain the old behavior, use either `df[df.columns[i]] = newvals` or, if columns are non-unique, `df.isetitem(i, newvals)`\n",
      "  airbnb_pd.loc[:,\"number_of_reviews\"] = airbnb_pd.number_of_reviews.astype(int)\n",
      "<ipython-input-15-a8ec1c88f09f>:23: DeprecationWarning: In a future version, `df.iloc[:, i] = newvals` will attempt to set the values inplace instead of always setting a new array. To retain the old behavior, use either `df[df.columns[i]] = newvals` or, if columns are non-unique, `df.isetitem(i, newvals)`\n",
      "  airbnb_pd.loc[:,\"minimum_nights\"] = airbnb_pd.minimum_nights.astype(int)\n",
      "\n",
      " 62%|██████▏   | 36/58 [00:08<00:07,  2.94it/s]\u001b[A"
     ]
    },
    {
     "name": "stdout",
     "output_type": "stream",
     "text": [
      "train_noise_15.csv_cleaned_curatorC2.csv\n"
     ]
    },
    {
     "name": "stderr",
     "output_type": "stream",
     "text": [
      "<ipython-input-15-a8ec1c88f09f>:20: DeprecationWarning: In a future version, `df.iloc[:, i] = newvals` will attempt to set the values inplace instead of always setting a new array. To retain the old behavior, use either `df[df.columns[i]] = newvals` or, if columns are non-unique, `df.isetitem(i, newvals)`\n",
      "  airbnb_pd.loc[:,\"latitude\"] = airbnb_pd.latitude.astype(float)\n",
      "<ipython-input-15-a8ec1c88f09f>:21: DeprecationWarning: In a future version, `df.iloc[:, i] = newvals` will attempt to set the values inplace instead of always setting a new array. To retain the old behavior, use either `df[df.columns[i]] = newvals` or, if columns are non-unique, `df.isetitem(i, newvals)`\n",
      "  airbnb_pd.loc[:,\"longitude\"] = airbnb_pd.longitude.astype(float)\n",
      "<ipython-input-15-a8ec1c88f09f>:22: DeprecationWarning: In a future version, `df.iloc[:, i] = newvals` will attempt to set the values inplace instead of always setting a new array. To retain the old behavior, use either `df[df.columns[i]] = newvals` or, if columns are non-unique, `df.isetitem(i, newvals)`\n",
      "  airbnb_pd.loc[:,\"number_of_reviews\"] = airbnb_pd.number_of_reviews.astype(int)\n",
      "<ipython-input-15-a8ec1c88f09f>:23: DeprecationWarning: In a future version, `df.iloc[:, i] = newvals` will attempt to set the values inplace instead of always setting a new array. To retain the old behavior, use either `df[df.columns[i]] = newvals` or, if columns are non-unique, `df.isetitem(i, newvals)`\n",
      "  airbnb_pd.loc[:,\"minimum_nights\"] = airbnb_pd.minimum_nights.astype(int)\n",
      "\n",
      " 64%|██████▍   | 37/58 [00:08<00:06,  3.07it/s]\u001b[A"
     ]
    },
    {
     "name": "stdout",
     "output_type": "stream",
     "text": [
      "train_noise_25.csv_cleaned_curatorC2.csv\n"
     ]
    },
    {
     "name": "stderr",
     "output_type": "stream",
     "text": [
      "<ipython-input-15-a8ec1c88f09f>:20: DeprecationWarning: In a future version, `df.iloc[:, i] = newvals` will attempt to set the values inplace instead of always setting a new array. To retain the old behavior, use either `df[df.columns[i]] = newvals` or, if columns are non-unique, `df.isetitem(i, newvals)`\n",
      "  airbnb_pd.loc[:,\"latitude\"] = airbnb_pd.latitude.astype(float)\n",
      "<ipython-input-15-a8ec1c88f09f>:21: DeprecationWarning: In a future version, `df.iloc[:, i] = newvals` will attempt to set the values inplace instead of always setting a new array. To retain the old behavior, use either `df[df.columns[i]] = newvals` or, if columns are non-unique, `df.isetitem(i, newvals)`\n",
      "  airbnb_pd.loc[:,\"longitude\"] = airbnb_pd.longitude.astype(float)\n",
      "<ipython-input-15-a8ec1c88f09f>:22: DeprecationWarning: In a future version, `df.iloc[:, i] = newvals` will attempt to set the values inplace instead of always setting a new array. To retain the old behavior, use either `df[df.columns[i]] = newvals` or, if columns are non-unique, `df.isetitem(i, newvals)`\n",
      "  airbnb_pd.loc[:,\"number_of_reviews\"] = airbnb_pd.number_of_reviews.astype(int)\n",
      "<ipython-input-15-a8ec1c88f09f>:23: DeprecationWarning: In a future version, `df.iloc[:, i] = newvals` will attempt to set the values inplace instead of always setting a new array. To retain the old behavior, use either `df[df.columns[i]] = newvals` or, if columns are non-unique, `df.isetitem(i, newvals)`\n",
      "  airbnb_pd.loc[:,\"minimum_nights\"] = airbnb_pd.minimum_nights.astype(int)\n",
      "\n",
      " 66%|██████▌   | 38/58 [00:08<00:06,  2.86it/s]\u001b[A"
     ]
    },
    {
     "name": "stdout",
     "output_type": "stream",
     "text": [
      "train_noise_10.csv_cleaned_curatorC2.csv\n"
     ]
    },
    {
     "name": "stderr",
     "output_type": "stream",
     "text": [
      "<ipython-input-15-a8ec1c88f09f>:20: DeprecationWarning: In a future version, `df.iloc[:, i] = newvals` will attempt to set the values inplace instead of always setting a new array. To retain the old behavior, use either `df[df.columns[i]] = newvals` or, if columns are non-unique, `df.isetitem(i, newvals)`\n",
      "  airbnb_pd.loc[:,\"latitude\"] = airbnb_pd.latitude.astype(float)\n",
      "<ipython-input-15-a8ec1c88f09f>:21: DeprecationWarning: In a future version, `df.iloc[:, i] = newvals` will attempt to set the values inplace instead of always setting a new array. To retain the old behavior, use either `df[df.columns[i]] = newvals` or, if columns are non-unique, `df.isetitem(i, newvals)`\n",
      "  airbnb_pd.loc[:,\"longitude\"] = airbnb_pd.longitude.astype(float)\n",
      "<ipython-input-15-a8ec1c88f09f>:22: DeprecationWarning: In a future version, `df.iloc[:, i] = newvals` will attempt to set the values inplace instead of always setting a new array. To retain the old behavior, use either `df[df.columns[i]] = newvals` or, if columns are non-unique, `df.isetitem(i, newvals)`\n",
      "  airbnb_pd.loc[:,\"number_of_reviews\"] = airbnb_pd.number_of_reviews.astype(int)\n",
      "<ipython-input-15-a8ec1c88f09f>:23: DeprecationWarning: In a future version, `df.iloc[:, i] = newvals` will attempt to set the values inplace instead of always setting a new array. To retain the old behavior, use either `df[df.columns[i]] = newvals` or, if columns are non-unique, `df.isetitem(i, newvals)`\n",
      "  airbnb_pd.loc[:,\"minimum_nights\"] = airbnb_pd.minimum_nights.astype(int)\n",
      "\n",
      " 67%|██████▋   | 39/58 [00:09<00:06,  2.85it/s]\u001b[A"
     ]
    },
    {
     "name": "stdout",
     "output_type": "stream",
     "text": [
      "train_noise_5.csv_cleaned_curatorC2.csv\n"
     ]
    },
    {
     "name": "stderr",
     "output_type": "stream",
     "text": [
      "<ipython-input-15-a8ec1c88f09f>:20: DeprecationWarning: In a future version, `df.iloc[:, i] = newvals` will attempt to set the values inplace instead of always setting a new array. To retain the old behavior, use either `df[df.columns[i]] = newvals` or, if columns are non-unique, `df.isetitem(i, newvals)`\n",
      "  airbnb_pd.loc[:,\"latitude\"] = airbnb_pd.latitude.astype(float)\n",
      "<ipython-input-15-a8ec1c88f09f>:21: DeprecationWarning: In a future version, `df.iloc[:, i] = newvals` will attempt to set the values inplace instead of always setting a new array. To retain the old behavior, use either `df[df.columns[i]] = newvals` or, if columns are non-unique, `df.isetitem(i, newvals)`\n",
      "  airbnb_pd.loc[:,\"longitude\"] = airbnb_pd.longitude.astype(float)\n",
      "<ipython-input-15-a8ec1c88f09f>:22: DeprecationWarning: In a future version, `df.iloc[:, i] = newvals` will attempt to set the values inplace instead of always setting a new array. To retain the old behavior, use either `df[df.columns[i]] = newvals` or, if columns are non-unique, `df.isetitem(i, newvals)`\n",
      "  airbnb_pd.loc[:,\"number_of_reviews\"] = airbnb_pd.number_of_reviews.astype(int)\n",
      "<ipython-input-15-a8ec1c88f09f>:23: DeprecationWarning: In a future version, `df.iloc[:, i] = newvals` will attempt to set the values inplace instead of always setting a new array. To retain the old behavior, use either `df[df.columns[i]] = newvals` or, if columns are non-unique, `df.isetitem(i, newvals)`\n",
      "  airbnb_pd.loc[:,\"minimum_nights\"] = airbnb_pd.minimum_nights.astype(int)\n",
      "\n",
      " 69%|██████▉   | 40/58 [00:09<00:06,  2.95it/s]\u001b[A"
     ]
    },
    {
     "name": "stdout",
     "output_type": "stream",
     "text": [
      "train_noise_35.csv_cleaned_curatorC2.csv\n"
     ]
    },
    {
     "name": "stderr",
     "output_type": "stream",
     "text": [
      "<ipython-input-15-a8ec1c88f09f>:20: DeprecationWarning: In a future version, `df.iloc[:, i] = newvals` will attempt to set the values inplace instead of always setting a new array. To retain the old behavior, use either `df[df.columns[i]] = newvals` or, if columns are non-unique, `df.isetitem(i, newvals)`\n",
      "  airbnb_pd.loc[:,\"latitude\"] = airbnb_pd.latitude.astype(float)\n",
      "<ipython-input-15-a8ec1c88f09f>:21: DeprecationWarning: In a future version, `df.iloc[:, i] = newvals` will attempt to set the values inplace instead of always setting a new array. To retain the old behavior, use either `df[df.columns[i]] = newvals` or, if columns are non-unique, `df.isetitem(i, newvals)`\n",
      "  airbnb_pd.loc[:,\"longitude\"] = airbnb_pd.longitude.astype(float)\n",
      "<ipython-input-15-a8ec1c88f09f>:22: DeprecationWarning: In a future version, `df.iloc[:, i] = newvals` will attempt to set the values inplace instead of always setting a new array. To retain the old behavior, use either `df[df.columns[i]] = newvals` or, if columns are non-unique, `df.isetitem(i, newvals)`\n",
      "  airbnb_pd.loc[:,\"number_of_reviews\"] = airbnb_pd.number_of_reviews.astype(int)\n",
      "<ipython-input-15-a8ec1c88f09f>:23: DeprecationWarning: In a future version, `df.iloc[:, i] = newvals` will attempt to set the values inplace instead of always setting a new array. To retain the old behavior, use either `df[df.columns[i]] = newvals` or, if columns are non-unique, `df.isetitem(i, newvals)`\n",
      "  airbnb_pd.loc[:,\"minimum_nights\"] = airbnb_pd.minimum_nights.astype(int)\n",
      "\n",
      " 71%|███████   | 41/58 [00:09<00:05,  2.91it/s]\u001b[A"
     ]
    },
    {
     "name": "stdout",
     "output_type": "stream",
     "text": [
      "train_noise_20.csv_cleaned_curatorC2.csv\n"
     ]
    },
    {
     "name": "stderr",
     "output_type": "stream",
     "text": [
      "<ipython-input-15-a8ec1c88f09f>:20: DeprecationWarning: In a future version, `df.iloc[:, i] = newvals` will attempt to set the values inplace instead of always setting a new array. To retain the old behavior, use either `df[df.columns[i]] = newvals` or, if columns are non-unique, `df.isetitem(i, newvals)`\n",
      "  airbnb_pd.loc[:,\"latitude\"] = airbnb_pd.latitude.astype(float)\n",
      "<ipython-input-15-a8ec1c88f09f>:21: DeprecationWarning: In a future version, `df.iloc[:, i] = newvals` will attempt to set the values inplace instead of always setting a new array. To retain the old behavior, use either `df[df.columns[i]] = newvals` or, if columns are non-unique, `df.isetitem(i, newvals)`\n",
      "  airbnb_pd.loc[:,\"longitude\"] = airbnb_pd.longitude.astype(float)\n",
      "<ipython-input-15-a8ec1c88f09f>:22: DeprecationWarning: In a future version, `df.iloc[:, i] = newvals` will attempt to set the values inplace instead of always setting a new array. To retain the old behavior, use either `df[df.columns[i]] = newvals` or, if columns are non-unique, `df.isetitem(i, newvals)`\n",
      "  airbnb_pd.loc[:,\"number_of_reviews\"] = airbnb_pd.number_of_reviews.astype(int)\n",
      "<ipython-input-15-a8ec1c88f09f>:23: DeprecationWarning: In a future version, `df.iloc[:, i] = newvals` will attempt to set the values inplace instead of always setting a new array. To retain the old behavior, use either `df[df.columns[i]] = newvals` or, if columns are non-unique, `df.isetitem(i, newvals)`\n",
      "  airbnb_pd.loc[:,\"minimum_nights\"] = airbnb_pd.minimum_nights.astype(int)\n",
      "\n",
      " 72%|███████▏  | 42/58 [00:10<00:05,  2.87it/s]\u001b[A"
     ]
    },
    {
     "name": "stdout",
     "output_type": "stream",
     "text": [
      "train_noise_40.csv_cleaned_curatorC3.csv\n"
     ]
    },
    {
     "name": "stderr",
     "output_type": "stream",
     "text": [
      "<ipython-input-15-a8ec1c88f09f>:20: DeprecationWarning: In a future version, `df.iloc[:, i] = newvals` will attempt to set the values inplace instead of always setting a new array. To retain the old behavior, use either `df[df.columns[i]] = newvals` or, if columns are non-unique, `df.isetitem(i, newvals)`\n",
      "  airbnb_pd.loc[:,\"latitude\"] = airbnb_pd.latitude.astype(float)\n",
      "<ipython-input-15-a8ec1c88f09f>:21: DeprecationWarning: In a future version, `df.iloc[:, i] = newvals` will attempt to set the values inplace instead of always setting a new array. To retain the old behavior, use either `df[df.columns[i]] = newvals` or, if columns are non-unique, `df.isetitem(i, newvals)`\n",
      "  airbnb_pd.loc[:,\"longitude\"] = airbnb_pd.longitude.astype(float)\n",
      "<ipython-input-15-a8ec1c88f09f>:22: DeprecationWarning: In a future version, `df.iloc[:, i] = newvals` will attempt to set the values inplace instead of always setting a new array. To retain the old behavior, use either `df[df.columns[i]] = newvals` or, if columns are non-unique, `df.isetitem(i, newvals)`\n",
      "  airbnb_pd.loc[:,\"number_of_reviews\"] = airbnb_pd.number_of_reviews.astype(int)\n",
      "<ipython-input-15-a8ec1c88f09f>:23: DeprecationWarning: In a future version, `df.iloc[:, i] = newvals` will attempt to set the values inplace instead of always setting a new array. To retain the old behavior, use either `df[df.columns[i]] = newvals` or, if columns are non-unique, `df.isetitem(i, newvals)`\n",
      "  airbnb_pd.loc[:,\"minimum_nights\"] = airbnb_pd.minimum_nights.astype(int)\n",
      "\n",
      " 74%|███████▍  | 43/58 [00:10<00:05,  2.92it/s]\u001b[A"
     ]
    },
    {
     "name": "stdout",
     "output_type": "stream",
     "text": [
      "train_noise_30.csv_cleaned_curatorC3.csv\n"
     ]
    },
    {
     "name": "stderr",
     "output_type": "stream",
     "text": [
      "<ipython-input-15-a8ec1c88f09f>:20: DeprecationWarning: In a future version, `df.iloc[:, i] = newvals` will attempt to set the values inplace instead of always setting a new array. To retain the old behavior, use either `df[df.columns[i]] = newvals` or, if columns are non-unique, `df.isetitem(i, newvals)`\n",
      "  airbnb_pd.loc[:,\"latitude\"] = airbnb_pd.latitude.astype(float)\n",
      "<ipython-input-15-a8ec1c88f09f>:21: DeprecationWarning: In a future version, `df.iloc[:, i] = newvals` will attempt to set the values inplace instead of always setting a new array. To retain the old behavior, use either `df[df.columns[i]] = newvals` or, if columns are non-unique, `df.isetitem(i, newvals)`\n",
      "  airbnb_pd.loc[:,\"longitude\"] = airbnb_pd.longitude.astype(float)\n",
      "<ipython-input-15-a8ec1c88f09f>:22: DeprecationWarning: In a future version, `df.iloc[:, i] = newvals` will attempt to set the values inplace instead of always setting a new array. To retain the old behavior, use either `df[df.columns[i]] = newvals` or, if columns are non-unique, `df.isetitem(i, newvals)`\n",
      "  airbnb_pd.loc[:,\"number_of_reviews\"] = airbnb_pd.number_of_reviews.astype(int)\n",
      "<ipython-input-15-a8ec1c88f09f>:23: DeprecationWarning: In a future version, `df.iloc[:, i] = newvals` will attempt to set the values inplace instead of always setting a new array. To retain the old behavior, use either `df[df.columns[i]] = newvals` or, if columns are non-unique, `df.isetitem(i, newvals)`\n",
      "  airbnb_pd.loc[:,\"minimum_nights\"] = airbnb_pd.minimum_nights.astype(int)\n",
      "\n",
      " 76%|███████▌  | 44/58 [00:10<00:05,  2.75it/s]\u001b[A"
     ]
    },
    {
     "name": "stdout",
     "output_type": "stream",
     "text": [
      "train_noise_15.csv_cleaned_curatorC3.csv\n"
     ]
    },
    {
     "name": "stderr",
     "output_type": "stream",
     "text": [
      "<ipython-input-15-a8ec1c88f09f>:20: DeprecationWarning: In a future version, `df.iloc[:, i] = newvals` will attempt to set the values inplace instead of always setting a new array. To retain the old behavior, use either `df[df.columns[i]] = newvals` or, if columns are non-unique, `df.isetitem(i, newvals)`\n",
      "  airbnb_pd.loc[:,\"latitude\"] = airbnb_pd.latitude.astype(float)\n",
      "<ipython-input-15-a8ec1c88f09f>:21: DeprecationWarning: In a future version, `df.iloc[:, i] = newvals` will attempt to set the values inplace instead of always setting a new array. To retain the old behavior, use either `df[df.columns[i]] = newvals` or, if columns are non-unique, `df.isetitem(i, newvals)`\n",
      "  airbnb_pd.loc[:,\"longitude\"] = airbnb_pd.longitude.astype(float)\n",
      "<ipython-input-15-a8ec1c88f09f>:22: DeprecationWarning: In a future version, `df.iloc[:, i] = newvals` will attempt to set the values inplace instead of always setting a new array. To retain the old behavior, use either `df[df.columns[i]] = newvals` or, if columns are non-unique, `df.isetitem(i, newvals)`\n",
      "  airbnb_pd.loc[:,\"number_of_reviews\"] = airbnb_pd.number_of_reviews.astype(int)\n",
      "<ipython-input-15-a8ec1c88f09f>:23: DeprecationWarning: In a future version, `df.iloc[:, i] = newvals` will attempt to set the values inplace instead of always setting a new array. To retain the old behavior, use either `df[df.columns[i]] = newvals` or, if columns are non-unique, `df.isetitem(i, newvals)`\n",
      "  airbnb_pd.loc[:,\"minimum_nights\"] = airbnb_pd.minimum_nights.astype(int)\n",
      "\n",
      " 78%|███████▊  | 45/58 [00:11<00:04,  2.91it/s]\u001b[A"
     ]
    },
    {
     "name": "stdout",
     "output_type": "stream",
     "text": [
      "train_noise_25.csv_cleaned_curatorC3.csv\n"
     ]
    },
    {
     "name": "stderr",
     "output_type": "stream",
     "text": [
      "<ipython-input-15-a8ec1c88f09f>:20: DeprecationWarning: In a future version, `df.iloc[:, i] = newvals` will attempt to set the values inplace instead of always setting a new array. To retain the old behavior, use either `df[df.columns[i]] = newvals` or, if columns are non-unique, `df.isetitem(i, newvals)`\n",
      "  airbnb_pd.loc[:,\"latitude\"] = airbnb_pd.latitude.astype(float)\n",
      "<ipython-input-15-a8ec1c88f09f>:21: DeprecationWarning: In a future version, `df.iloc[:, i] = newvals` will attempt to set the values inplace instead of always setting a new array. To retain the old behavior, use either `df[df.columns[i]] = newvals` or, if columns are non-unique, `df.isetitem(i, newvals)`\n",
      "  airbnb_pd.loc[:,\"longitude\"] = airbnb_pd.longitude.astype(float)\n",
      "<ipython-input-15-a8ec1c88f09f>:22: DeprecationWarning: In a future version, `df.iloc[:, i] = newvals` will attempt to set the values inplace instead of always setting a new array. To retain the old behavior, use either `df[df.columns[i]] = newvals` or, if columns are non-unique, `df.isetitem(i, newvals)`\n",
      "  airbnb_pd.loc[:,\"number_of_reviews\"] = airbnb_pd.number_of_reviews.astype(int)\n",
      "<ipython-input-15-a8ec1c88f09f>:23: DeprecationWarning: In a future version, `df.iloc[:, i] = newvals` will attempt to set the values inplace instead of always setting a new array. To retain the old behavior, use either `df[df.columns[i]] = newvals` or, if columns are non-unique, `df.isetitem(i, newvals)`\n",
      "  airbnb_pd.loc[:,\"minimum_nights\"] = airbnb_pd.minimum_nights.astype(int)\n",
      "\n",
      " 79%|███████▉  | 46/58 [00:11<00:04,  2.90it/s]\u001b[A"
     ]
    },
    {
     "name": "stdout",
     "output_type": "stream",
     "text": [
      "train_noise_10.csv_cleaned_curatorC3.csv\n"
     ]
    },
    {
     "name": "stderr",
     "output_type": "stream",
     "text": [
      "<ipython-input-15-a8ec1c88f09f>:20: DeprecationWarning: In a future version, `df.iloc[:, i] = newvals` will attempt to set the values inplace instead of always setting a new array. To retain the old behavior, use either `df[df.columns[i]] = newvals` or, if columns are non-unique, `df.isetitem(i, newvals)`\n",
      "  airbnb_pd.loc[:,\"latitude\"] = airbnb_pd.latitude.astype(float)\n",
      "<ipython-input-15-a8ec1c88f09f>:21: DeprecationWarning: In a future version, `df.iloc[:, i] = newvals` will attempt to set the values inplace instead of always setting a new array. To retain the old behavior, use either `df[df.columns[i]] = newvals` or, if columns are non-unique, `df.isetitem(i, newvals)`\n",
      "  airbnb_pd.loc[:,\"longitude\"] = airbnb_pd.longitude.astype(float)\n",
      "<ipython-input-15-a8ec1c88f09f>:22: DeprecationWarning: In a future version, `df.iloc[:, i] = newvals` will attempt to set the values inplace instead of always setting a new array. To retain the old behavior, use either `df[df.columns[i]] = newvals` or, if columns are non-unique, `df.isetitem(i, newvals)`\n",
      "  airbnb_pd.loc[:,\"number_of_reviews\"] = airbnb_pd.number_of_reviews.astype(int)\n",
      "<ipython-input-15-a8ec1c88f09f>:23: DeprecationWarning: In a future version, `df.iloc[:, i] = newvals` will attempt to set the values inplace instead of always setting a new array. To retain the old behavior, use either `df[df.columns[i]] = newvals` or, if columns are non-unique, `df.isetitem(i, newvals)`\n",
      "  airbnb_pd.loc[:,\"minimum_nights\"] = airbnb_pd.minimum_nights.astype(int)\n",
      "\n",
      " 81%|████████  | 47/58 [00:11<00:03,  2.87it/s]\u001b[A"
     ]
    },
    {
     "name": "stdout",
     "output_type": "stream",
     "text": [
      "train_noise_5.csv_cleaned_curatorC3.csv\n"
     ]
    },
    {
     "name": "stderr",
     "output_type": "stream",
     "text": [
      "<ipython-input-15-a8ec1c88f09f>:20: DeprecationWarning: In a future version, `df.iloc[:, i] = newvals` will attempt to set the values inplace instead of always setting a new array. To retain the old behavior, use either `df[df.columns[i]] = newvals` or, if columns are non-unique, `df.isetitem(i, newvals)`\n",
      "  airbnb_pd.loc[:,\"latitude\"] = airbnb_pd.latitude.astype(float)\n",
      "<ipython-input-15-a8ec1c88f09f>:21: DeprecationWarning: In a future version, `df.iloc[:, i] = newvals` will attempt to set the values inplace instead of always setting a new array. To retain the old behavior, use either `df[df.columns[i]] = newvals` or, if columns are non-unique, `df.isetitem(i, newvals)`\n",
      "  airbnb_pd.loc[:,\"longitude\"] = airbnb_pd.longitude.astype(float)\n",
      "<ipython-input-15-a8ec1c88f09f>:22: DeprecationWarning: In a future version, `df.iloc[:, i] = newvals` will attempt to set the values inplace instead of always setting a new array. To retain the old behavior, use either `df[df.columns[i]] = newvals` or, if columns are non-unique, `df.isetitem(i, newvals)`\n",
      "  airbnb_pd.loc[:,\"number_of_reviews\"] = airbnb_pd.number_of_reviews.astype(int)\n",
      "<ipython-input-15-a8ec1c88f09f>:23: DeprecationWarning: In a future version, `df.iloc[:, i] = newvals` will attempt to set the values inplace instead of always setting a new array. To retain the old behavior, use either `df[df.columns[i]] = newvals` or, if columns are non-unique, `df.isetitem(i, newvals)`\n",
      "  airbnb_pd.loc[:,\"minimum_nights\"] = airbnb_pd.minimum_nights.astype(int)\n",
      "\n",
      " 83%|████████▎ | 48/58 [00:12<00:03,  2.90it/s]\u001b[A"
     ]
    },
    {
     "name": "stdout",
     "output_type": "stream",
     "text": [
      "train_noise_35.csv_cleaned_curatorC3.csv\n"
     ]
    },
    {
     "name": "stderr",
     "output_type": "stream",
     "text": [
      "<ipython-input-15-a8ec1c88f09f>:20: DeprecationWarning: In a future version, `df.iloc[:, i] = newvals` will attempt to set the values inplace instead of always setting a new array. To retain the old behavior, use either `df[df.columns[i]] = newvals` or, if columns are non-unique, `df.isetitem(i, newvals)`\n",
      "  airbnb_pd.loc[:,\"latitude\"] = airbnb_pd.latitude.astype(float)\n",
      "<ipython-input-15-a8ec1c88f09f>:21: DeprecationWarning: In a future version, `df.iloc[:, i] = newvals` will attempt to set the values inplace instead of always setting a new array. To retain the old behavior, use either `df[df.columns[i]] = newvals` or, if columns are non-unique, `df.isetitem(i, newvals)`\n",
      "  airbnb_pd.loc[:,\"longitude\"] = airbnb_pd.longitude.astype(float)\n",
      "<ipython-input-15-a8ec1c88f09f>:22: DeprecationWarning: In a future version, `df.iloc[:, i] = newvals` will attempt to set the values inplace instead of always setting a new array. To retain the old behavior, use either `df[df.columns[i]] = newvals` or, if columns are non-unique, `df.isetitem(i, newvals)`\n",
      "  airbnb_pd.loc[:,\"number_of_reviews\"] = airbnb_pd.number_of_reviews.astype(int)\n",
      "<ipython-input-15-a8ec1c88f09f>:23: DeprecationWarning: In a future version, `df.iloc[:, i] = newvals` will attempt to set the values inplace instead of always setting a new array. To retain the old behavior, use either `df[df.columns[i]] = newvals` or, if columns are non-unique, `df.isetitem(i, newvals)`\n",
      "  airbnb_pd.loc[:,\"minimum_nights\"] = airbnb_pd.minimum_nights.astype(int)\n",
      "\n",
      " 84%|████████▍ | 49/58 [00:12<00:03,  2.88it/s]\u001b[A"
     ]
    },
    {
     "name": "stdout",
     "output_type": "stream",
     "text": [
      "train_noise_20.csv_cleaned_curatorC3.csv\n"
     ]
    },
    {
     "name": "stderr",
     "output_type": "stream",
     "text": [
      "<ipython-input-15-a8ec1c88f09f>:20: DeprecationWarning: In a future version, `df.iloc[:, i] = newvals` will attempt to set the values inplace instead of always setting a new array. To retain the old behavior, use either `df[df.columns[i]] = newvals` or, if columns are non-unique, `df.isetitem(i, newvals)`\n",
      "  airbnb_pd.loc[:,\"latitude\"] = airbnb_pd.latitude.astype(float)\n",
      "<ipython-input-15-a8ec1c88f09f>:21: DeprecationWarning: In a future version, `df.iloc[:, i] = newvals` will attempt to set the values inplace instead of always setting a new array. To retain the old behavior, use either `df[df.columns[i]] = newvals` or, if columns are non-unique, `df.isetitem(i, newvals)`\n",
      "  airbnb_pd.loc[:,\"longitude\"] = airbnb_pd.longitude.astype(float)\n",
      "<ipython-input-15-a8ec1c88f09f>:22: DeprecationWarning: In a future version, `df.iloc[:, i] = newvals` will attempt to set the values inplace instead of always setting a new array. To retain the old behavior, use either `df[df.columns[i]] = newvals` or, if columns are non-unique, `df.isetitem(i, newvals)`\n",
      "  airbnb_pd.loc[:,\"number_of_reviews\"] = airbnb_pd.number_of_reviews.astype(int)\n",
      "<ipython-input-15-a8ec1c88f09f>:23: DeprecationWarning: In a future version, `df.iloc[:, i] = newvals` will attempt to set the values inplace instead of always setting a new array. To retain the old behavior, use either `df[df.columns[i]] = newvals` or, if columns are non-unique, `df.isetitem(i, newvals)`\n",
      "  airbnb_pd.loc[:,\"minimum_nights\"] = airbnb_pd.minimum_nights.astype(int)\n",
      "\n",
      " 86%|████████▌ | 50/58 [00:12<00:02,  3.00it/s]\u001b[A"
     ]
    },
    {
     "name": "stdout",
     "output_type": "stream",
     "text": [
      "train_noise_40.csv_cleaned_curatorMerge.csv\n"
     ]
    },
    {
     "name": "stderr",
     "output_type": "stream",
     "text": [
      "<ipython-input-15-a8ec1c88f09f>:22: DeprecationWarning: In a future version, `df.iloc[:, i] = newvals` will attempt to set the values inplace instead of always setting a new array. To retain the old behavior, use either `df[df.columns[i]] = newvals` or, if columns are non-unique, `df.isetitem(i, newvals)`\n",
      "  airbnb_pd.loc[:,\"number_of_reviews\"] = airbnb_pd.number_of_reviews.astype(int)\n",
      "<ipython-input-15-a8ec1c88f09f>:23: DeprecationWarning: In a future version, `df.iloc[:, i] = newvals` will attempt to set the values inplace instead of always setting a new array. To retain the old behavior, use either `df[df.columns[i]] = newvals` or, if columns are non-unique, `df.isetitem(i, newvals)`\n",
      "  airbnb_pd.loc[:,\"minimum_nights\"] = airbnb_pd.minimum_nights.astype(int)\n",
      "\n",
      " 88%|████████▊ | 51/58 [00:13<00:02,  2.92it/s]\u001b[A"
     ]
    },
    {
     "name": "stdout",
     "output_type": "stream",
     "text": [
      "train_noise_30.csv_cleaned_curatorMerge.csv\n"
     ]
    },
    {
     "name": "stderr",
     "output_type": "stream",
     "text": [
      "<ipython-input-15-a8ec1c88f09f>:22: DeprecationWarning: In a future version, `df.iloc[:, i] = newvals` will attempt to set the values inplace instead of always setting a new array. To retain the old behavior, use either `df[df.columns[i]] = newvals` or, if columns are non-unique, `df.isetitem(i, newvals)`\n",
      "  airbnb_pd.loc[:,\"number_of_reviews\"] = airbnb_pd.number_of_reviews.astype(int)\n",
      "<ipython-input-15-a8ec1c88f09f>:23: DeprecationWarning: In a future version, `df.iloc[:, i] = newvals` will attempt to set the values inplace instead of always setting a new array. To retain the old behavior, use either `df[df.columns[i]] = newvals` or, if columns are non-unique, `df.isetitem(i, newvals)`\n",
      "  airbnb_pd.loc[:,\"minimum_nights\"] = airbnb_pd.minimum_nights.astype(int)\n",
      "\n",
      " 90%|████████▉ | 52/58 [00:13<00:02,  3.00it/s]\u001b[A"
     ]
    },
    {
     "name": "stdout",
     "output_type": "stream",
     "text": [
      "train_noise_15.csv_cleaned_curatorMerge.csv\n"
     ]
    },
    {
     "name": "stderr",
     "output_type": "stream",
     "text": [
      "<ipython-input-15-a8ec1c88f09f>:22: DeprecationWarning: In a future version, `df.iloc[:, i] = newvals` will attempt to set the values inplace instead of always setting a new array. To retain the old behavior, use either `df[df.columns[i]] = newvals` or, if columns are non-unique, `df.isetitem(i, newvals)`\n",
      "  airbnb_pd.loc[:,\"number_of_reviews\"] = airbnb_pd.number_of_reviews.astype(int)\n",
      "<ipython-input-15-a8ec1c88f09f>:23: DeprecationWarning: In a future version, `df.iloc[:, i] = newvals` will attempt to set the values inplace instead of always setting a new array. To retain the old behavior, use either `df[df.columns[i]] = newvals` or, if columns are non-unique, `df.isetitem(i, newvals)`\n",
      "  airbnb_pd.loc[:,\"minimum_nights\"] = airbnb_pd.minimum_nights.astype(int)\n",
      "\n",
      " 91%|█████████▏| 53/58 [00:13<00:01,  2.94it/s]\u001b[A"
     ]
    },
    {
     "name": "stdout",
     "output_type": "stream",
     "text": [
      "train_noise_25.csv_cleaned_curatorMerge.csv\n"
     ]
    },
    {
     "name": "stderr",
     "output_type": "stream",
     "text": [
      "<ipython-input-15-a8ec1c88f09f>:22: DeprecationWarning: In a future version, `df.iloc[:, i] = newvals` will attempt to set the values inplace instead of always setting a new array. To retain the old behavior, use either `df[df.columns[i]] = newvals` or, if columns are non-unique, `df.isetitem(i, newvals)`\n",
      "  airbnb_pd.loc[:,\"number_of_reviews\"] = airbnb_pd.number_of_reviews.astype(int)\n",
      "<ipython-input-15-a8ec1c88f09f>:23: DeprecationWarning: In a future version, `df.iloc[:, i] = newvals` will attempt to set the values inplace instead of always setting a new array. To retain the old behavior, use either `df[df.columns[i]] = newvals` or, if columns are non-unique, `df.isetitem(i, newvals)`\n",
      "  airbnb_pd.loc[:,\"minimum_nights\"] = airbnb_pd.minimum_nights.astype(int)\n",
      "\n",
      " 93%|█████████▎| 54/58 [00:14<00:01,  3.05it/s]\u001b[A"
     ]
    },
    {
     "name": "stdout",
     "output_type": "stream",
     "text": [
      "train_noise_10.csv_cleaned_curatorMerge.csv\n"
     ]
    },
    {
     "name": "stderr",
     "output_type": "stream",
     "text": [
      "<ipython-input-15-a8ec1c88f09f>:22: DeprecationWarning: In a future version, `df.iloc[:, i] = newvals` will attempt to set the values inplace instead of always setting a new array. To retain the old behavior, use either `df[df.columns[i]] = newvals` or, if columns are non-unique, `df.isetitem(i, newvals)`\n",
      "  airbnb_pd.loc[:,\"number_of_reviews\"] = airbnb_pd.number_of_reviews.astype(int)\n",
      "<ipython-input-15-a8ec1c88f09f>:23: DeprecationWarning: In a future version, `df.iloc[:, i] = newvals` will attempt to set the values inplace instead of always setting a new array. To retain the old behavior, use either `df[df.columns[i]] = newvals` or, if columns are non-unique, `df.isetitem(i, newvals)`\n",
      "  airbnb_pd.loc[:,\"minimum_nights\"] = airbnb_pd.minimum_nights.astype(int)\n",
      "\n",
      " 95%|█████████▍| 55/58 [00:14<00:00,  3.06it/s]\u001b[A"
     ]
    },
    {
     "name": "stdout",
     "output_type": "stream",
     "text": [
      "train_noise_5.csv_cleaned_curatorMerge.csv\n"
     ]
    },
    {
     "name": "stderr",
     "output_type": "stream",
     "text": [
      "<ipython-input-15-a8ec1c88f09f>:22: DeprecationWarning: In a future version, `df.iloc[:, i] = newvals` will attempt to set the values inplace instead of always setting a new array. To retain the old behavior, use either `df[df.columns[i]] = newvals` or, if columns are non-unique, `df.isetitem(i, newvals)`\n",
      "  airbnb_pd.loc[:,\"number_of_reviews\"] = airbnb_pd.number_of_reviews.astype(int)\n",
      "<ipython-input-15-a8ec1c88f09f>:23: DeprecationWarning: In a future version, `df.iloc[:, i] = newvals` will attempt to set the values inplace instead of always setting a new array. To retain the old behavior, use either `df[df.columns[i]] = newvals` or, if columns are non-unique, `df.isetitem(i, newvals)`\n",
      "  airbnb_pd.loc[:,\"minimum_nights\"] = airbnb_pd.minimum_nights.astype(int)\n",
      "\n",
      " 97%|█████████▋| 56/58 [00:14<00:00,  3.26it/s]\u001b[A"
     ]
    },
    {
     "name": "stdout",
     "output_type": "stream",
     "text": [
      "train_noise_35.csv_cleaned_curatorMerge.csv\n"
     ]
    },
    {
     "name": "stderr",
     "output_type": "stream",
     "text": [
      "<ipython-input-15-a8ec1c88f09f>:22: DeprecationWarning: In a future version, `df.iloc[:, i] = newvals` will attempt to set the values inplace instead of always setting a new array. To retain the old behavior, use either `df[df.columns[i]] = newvals` or, if columns are non-unique, `df.isetitem(i, newvals)`\n",
      "  airbnb_pd.loc[:,\"number_of_reviews\"] = airbnb_pd.number_of_reviews.astype(int)\n",
      "<ipython-input-15-a8ec1c88f09f>:23: DeprecationWarning: In a future version, `df.iloc[:, i] = newvals` will attempt to set the values inplace instead of always setting a new array. To retain the old behavior, use either `df[df.columns[i]] = newvals` or, if columns are non-unique, `df.isetitem(i, newvals)`\n",
      "  airbnb_pd.loc[:,\"minimum_nights\"] = airbnb_pd.minimum_nights.astype(int)\n",
      "\n",
      " 98%|█████████▊| 57/58 [00:15<00:00,  3.33it/s]\u001b[A"
     ]
    },
    {
     "name": "stdout",
     "output_type": "stream",
     "text": [
      "train_noise_20.csv_cleaned_curatorMerge.csv\n"
     ]
    },
    {
     "name": "stderr",
     "output_type": "stream",
     "text": [
      "<ipython-input-15-a8ec1c88f09f>:22: DeprecationWarning: In a future version, `df.iloc[:, i] = newvals` will attempt to set the values inplace instead of always setting a new array. To retain the old behavior, use either `df[df.columns[i]] = newvals` or, if columns are non-unique, `df.isetitem(i, newvals)`\n",
      "  airbnb_pd.loc[:,\"number_of_reviews\"] = airbnb_pd.number_of_reviews.astype(int)\n",
      "<ipython-input-15-a8ec1c88f09f>:23: DeprecationWarning: In a future version, `df.iloc[:, i] = newvals` will attempt to set the values inplace instead of always setting a new array. To retain the old behavior, use either `df[df.columns[i]] = newvals` or, if columns are non-unique, `df.isetitem(i, newvals)`\n",
      "  airbnb_pd.loc[:,\"minimum_nights\"] = airbnb_pd.minimum_nights.astype(int)\n",
      "\n",
      "100%|██████████| 58/58 [00:15<00:00,  3.75it/s]\n",
      " 30%|███       | 3/10 [00:50<01:55, 16.48s/it]\n",
      "  0%|          | 0/58 [00:00<?, ?it/s]\u001b[A"
     ]
    },
    {
     "name": "stdout",
     "output_type": "stream",
     "text": [
      "train_noise_40.csv_cleaned_baseline.csv\n",
      "train_noise_25.csv_cleaned_baseline.csv\n"
     ]
    },
    {
     "name": "stderr",
     "output_type": "stream",
     "text": [
      "\n",
      " 21%|██        | 12/58 [00:00<00:01, 34.86it/s]\u001b[A"
     ]
    },
    {
     "name": "stdout",
     "output_type": "stream",
     "text": [
      "train_noise_30.csv_cleaned_baseline.csv\n",
      "train_noise_15.csv_cleaned_baseline.csv\n",
      "train_noise_5.csv_cleaned_baseline.csv\n",
      "train_noise_10.csv_cleaned_baseline.csv\n"
     ]
    },
    {
     "name": "stderr",
     "output_type": "stream",
     "text": [
      "\n",
      " 28%|██▊       | 16/58 [00:01<00:04,  9.11it/s]\u001b[A"
     ]
    },
    {
     "name": "stdout",
     "output_type": "stream",
     "text": [
      "train_noise_20.csv_cleaned_baseline.csv\n",
      "train_noise_35.csv_cleaned_baseline.csv\n"
     ]
    },
    {
     "name": "stderr",
     "output_type": "stream",
     "text": [
      "\n",
      " 31%|███       | 18/58 [00:02<00:05,  6.90it/s]\u001b[A"
     ]
    },
    {
     "name": "stdout",
     "output_type": "stream",
     "text": [
      "train_noise_30.csv_cleaned_baselineAverage.csv\n",
      "train_noise_15.csv_cleaned_baselineAverage.csv\n"
     ]
    },
    {
     "name": "stderr",
     "output_type": "stream",
     "text": [
      "\n",
      " 34%|███▍      | 20/58 [00:02<00:07,  5.12it/s]\u001b[A"
     ]
    },
    {
     "name": "stdout",
     "output_type": "stream",
     "text": [
      "train_noise_40.csv_cleaned_baselineAverage.csv\n"
     ]
    },
    {
     "name": "stderr",
     "output_type": "stream",
     "text": [
      "\n",
      " 36%|███▌      | 21/58 [00:03<00:07,  4.65it/s]\u001b[A"
     ]
    },
    {
     "name": "stdout",
     "output_type": "stream",
     "text": [
      "train_noise_25.csv_cleaned_baselineAverage.csv\n"
     ]
    },
    {
     "name": "stderr",
     "output_type": "stream",
     "text": [
      "\n",
      " 38%|███▊      | 22/58 [00:03<00:08,  4.33it/s]\u001b[A"
     ]
    },
    {
     "name": "stdout",
     "output_type": "stream",
     "text": [
      "train_noise_5.csv_cleaned_baselineAverage.csv\n"
     ]
    },
    {
     "name": "stderr",
     "output_type": "stream",
     "text": [
      "\n",
      " 40%|███▉      | 23/58 [00:03<00:08,  4.06it/s]\u001b[A"
     ]
    },
    {
     "name": "stdout",
     "output_type": "stream",
     "text": [
      "train_noise_10.csv_cleaned_baselineAverage.csv\n"
     ]
    },
    {
     "name": "stderr",
     "output_type": "stream",
     "text": [
      "\n",
      " 41%|████▏     | 24/58 [00:04<00:08,  3.88it/s]\u001b[A"
     ]
    },
    {
     "name": "stdout",
     "output_type": "stream",
     "text": [
      "train_noise_35.csv_cleaned_baselineAverage.csv\n"
     ]
    },
    {
     "name": "stderr",
     "output_type": "stream",
     "text": [
      "\n",
      " 43%|████▎     | 25/58 [00:04<00:08,  3.79it/s]\u001b[A"
     ]
    },
    {
     "name": "stdout",
     "output_type": "stream",
     "text": [
      "train_noise_20.csv_cleaned_baselineAverage.csv\n"
     ]
    },
    {
     "name": "stderr",
     "output_type": "stream",
     "text": [
      "\n",
      " 45%|████▍     | 26/58 [00:04<00:09,  3.48it/s]\u001b[A"
     ]
    },
    {
     "name": "stdout",
     "output_type": "stream",
     "text": [
      "train_noise_40.csv_cleaned_curatorC1.csv\n"
     ]
    },
    {
     "name": "stderr",
     "output_type": "stream",
     "text": [
      "<ipython-input-15-a8ec1c88f09f>:22: DeprecationWarning: In a future version, `df.iloc[:, i] = newvals` will attempt to set the values inplace instead of always setting a new array. To retain the old behavior, use either `df[df.columns[i]] = newvals` or, if columns are non-unique, `df.isetitem(i, newvals)`\n",
      "  airbnb_pd.loc[:,\"number_of_reviews\"] = airbnb_pd.number_of_reviews.astype(int)\n",
      "<ipython-input-15-a8ec1c88f09f>:23: DeprecationWarning: In a future version, `df.iloc[:, i] = newvals` will attempt to set the values inplace instead of always setting a new array. To retain the old behavior, use either `df[df.columns[i]] = newvals` or, if columns are non-unique, `df.isetitem(i, newvals)`\n",
      "  airbnb_pd.loc[:,\"minimum_nights\"] = airbnb_pd.minimum_nights.astype(int)\n",
      "\n",
      " 47%|████▋     | 27/58 [00:05<00:09,  3.39it/s]\u001b[A"
     ]
    },
    {
     "name": "stdout",
     "output_type": "stream",
     "text": [
      "train_noise_30.csv_cleaned_curatorC1.csv\n"
     ]
    },
    {
     "name": "stderr",
     "output_type": "stream",
     "text": [
      "<ipython-input-15-a8ec1c88f09f>:22: DeprecationWarning: In a future version, `df.iloc[:, i] = newvals` will attempt to set the values inplace instead of always setting a new array. To retain the old behavior, use either `df[df.columns[i]] = newvals` or, if columns are non-unique, `df.isetitem(i, newvals)`\n",
      "  airbnb_pd.loc[:,\"number_of_reviews\"] = airbnb_pd.number_of_reviews.astype(int)\n",
      "<ipython-input-15-a8ec1c88f09f>:23: DeprecationWarning: In a future version, `df.iloc[:, i] = newvals` will attempt to set the values inplace instead of always setting a new array. To retain the old behavior, use either `df[df.columns[i]] = newvals` or, if columns are non-unique, `df.isetitem(i, newvals)`\n",
      "  airbnb_pd.loc[:,\"minimum_nights\"] = airbnb_pd.minimum_nights.astype(int)\n",
      "\n",
      " 48%|████▊     | 28/58 [00:05<00:09,  3.29it/s]\u001b[A"
     ]
    },
    {
     "name": "stdout",
     "output_type": "stream",
     "text": [
      "train_noise_15.csv_cleaned_curatorC1.csv\n"
     ]
    },
    {
     "name": "stderr",
     "output_type": "stream",
     "text": [
      "<ipython-input-15-a8ec1c88f09f>:22: DeprecationWarning: In a future version, `df.iloc[:, i] = newvals` will attempt to set the values inplace instead of always setting a new array. To retain the old behavior, use either `df[df.columns[i]] = newvals` or, if columns are non-unique, `df.isetitem(i, newvals)`\n",
      "  airbnb_pd.loc[:,\"number_of_reviews\"] = airbnb_pd.number_of_reviews.astype(int)\n",
      "<ipython-input-15-a8ec1c88f09f>:23: DeprecationWarning: In a future version, `df.iloc[:, i] = newvals` will attempt to set the values inplace instead of always setting a new array. To retain the old behavior, use either `df[df.columns[i]] = newvals` or, if columns are non-unique, `df.isetitem(i, newvals)`\n",
      "  airbnb_pd.loc[:,\"minimum_nights\"] = airbnb_pd.minimum_nights.astype(int)\n",
      "\n",
      " 50%|█████     | 29/58 [00:05<00:09,  3.17it/s]\u001b[A"
     ]
    },
    {
     "name": "stdout",
     "output_type": "stream",
     "text": [
      "train_noise_25.csv_cleaned_curatorC1.csv\n"
     ]
    },
    {
     "name": "stderr",
     "output_type": "stream",
     "text": [
      "<ipython-input-15-a8ec1c88f09f>:22: DeprecationWarning: In a future version, `df.iloc[:, i] = newvals` will attempt to set the values inplace instead of always setting a new array. To retain the old behavior, use either `df[df.columns[i]] = newvals` or, if columns are non-unique, `df.isetitem(i, newvals)`\n",
      "  airbnb_pd.loc[:,\"number_of_reviews\"] = airbnb_pd.number_of_reviews.astype(int)\n",
      "<ipython-input-15-a8ec1c88f09f>:23: DeprecationWarning: In a future version, `df.iloc[:, i] = newvals` will attempt to set the values inplace instead of always setting a new array. To retain the old behavior, use either `df[df.columns[i]] = newvals` or, if columns are non-unique, `df.isetitem(i, newvals)`\n",
      "  airbnb_pd.loc[:,\"minimum_nights\"] = airbnb_pd.minimum_nights.astype(int)\n",
      "\n",
      " 52%|█████▏    | 30/58 [00:06<00:09,  2.96it/s]\u001b[A"
     ]
    },
    {
     "name": "stdout",
     "output_type": "stream",
     "text": [
      "train_noise_10.csv_cleaned_curatorC1.csv\n"
     ]
    },
    {
     "name": "stderr",
     "output_type": "stream",
     "text": [
      "<ipython-input-15-a8ec1c88f09f>:22: DeprecationWarning: In a future version, `df.iloc[:, i] = newvals` will attempt to set the values inplace instead of always setting a new array. To retain the old behavior, use either `df[df.columns[i]] = newvals` or, if columns are non-unique, `df.isetitem(i, newvals)`\n",
      "  airbnb_pd.loc[:,\"number_of_reviews\"] = airbnb_pd.number_of_reviews.astype(int)\n",
      "<ipython-input-15-a8ec1c88f09f>:23: DeprecationWarning: In a future version, `df.iloc[:, i] = newvals` will attempt to set the values inplace instead of always setting a new array. To retain the old behavior, use either `df[df.columns[i]] = newvals` or, if columns are non-unique, `df.isetitem(i, newvals)`\n",
      "  airbnb_pd.loc[:,\"minimum_nights\"] = airbnb_pd.minimum_nights.astype(int)\n",
      "\n",
      " 53%|█████▎    | 31/58 [00:06<00:09,  2.96it/s]\u001b[A"
     ]
    },
    {
     "name": "stdout",
     "output_type": "stream",
     "text": [
      "train_noise_5.csv_cleaned_curatorC1.csv\n"
     ]
    },
    {
     "name": "stderr",
     "output_type": "stream",
     "text": [
      "<ipython-input-15-a8ec1c88f09f>:22: DeprecationWarning: In a future version, `df.iloc[:, i] = newvals` will attempt to set the values inplace instead of always setting a new array. To retain the old behavior, use either `df[df.columns[i]] = newvals` or, if columns are non-unique, `df.isetitem(i, newvals)`\n",
      "  airbnb_pd.loc[:,\"number_of_reviews\"] = airbnb_pd.number_of_reviews.astype(int)\n",
      "<ipython-input-15-a8ec1c88f09f>:23: DeprecationWarning: In a future version, `df.iloc[:, i] = newvals` will attempt to set the values inplace instead of always setting a new array. To retain the old behavior, use either `df[df.columns[i]] = newvals` or, if columns are non-unique, `df.isetitem(i, newvals)`\n",
      "  airbnb_pd.loc[:,\"minimum_nights\"] = airbnb_pd.minimum_nights.astype(int)\n",
      "\n",
      " 55%|█████▌    | 32/58 [00:06<00:09,  2.84it/s]\u001b[A"
     ]
    },
    {
     "name": "stdout",
     "output_type": "stream",
     "text": [
      "train_noise_35.csv_cleaned_curatorC1.csv\n"
     ]
    },
    {
     "name": "stderr",
     "output_type": "stream",
     "text": [
      "<ipython-input-15-a8ec1c88f09f>:22: DeprecationWarning: In a future version, `df.iloc[:, i] = newvals` will attempt to set the values inplace instead of always setting a new array. To retain the old behavior, use either `df[df.columns[i]] = newvals` or, if columns are non-unique, `df.isetitem(i, newvals)`\n",
      "  airbnb_pd.loc[:,\"number_of_reviews\"] = airbnb_pd.number_of_reviews.astype(int)\n",
      "<ipython-input-15-a8ec1c88f09f>:23: DeprecationWarning: In a future version, `df.iloc[:, i] = newvals` will attempt to set the values inplace instead of always setting a new array. To retain the old behavior, use either `df[df.columns[i]] = newvals` or, if columns are non-unique, `df.isetitem(i, newvals)`\n",
      "  airbnb_pd.loc[:,\"minimum_nights\"] = airbnb_pd.minimum_nights.astype(int)\n",
      "\n",
      " 57%|█████▋    | 33/58 [00:07<00:08,  2.89it/s]\u001b[A"
     ]
    },
    {
     "name": "stdout",
     "output_type": "stream",
     "text": [
      "train_noise_20.csv_cleaned_curatorC1.csv\n"
     ]
    },
    {
     "name": "stderr",
     "output_type": "stream",
     "text": [
      "<ipython-input-15-a8ec1c88f09f>:22: DeprecationWarning: In a future version, `df.iloc[:, i] = newvals` will attempt to set the values inplace instead of always setting a new array. To retain the old behavior, use either `df[df.columns[i]] = newvals` or, if columns are non-unique, `df.isetitem(i, newvals)`\n",
      "  airbnb_pd.loc[:,\"number_of_reviews\"] = airbnb_pd.number_of_reviews.astype(int)\n",
      "<ipython-input-15-a8ec1c88f09f>:23: DeprecationWarning: In a future version, `df.iloc[:, i] = newvals` will attempt to set the values inplace instead of always setting a new array. To retain the old behavior, use either `df[df.columns[i]] = newvals` or, if columns are non-unique, `df.isetitem(i, newvals)`\n",
      "  airbnb_pd.loc[:,\"minimum_nights\"] = airbnb_pd.minimum_nights.astype(int)\n",
      "\n",
      " 59%|█████▊    | 34/58 [00:07<00:08,  2.90it/s]\u001b[A"
     ]
    },
    {
     "name": "stdout",
     "output_type": "stream",
     "text": [
      "train_noise_40.csv_cleaned_curatorC2.csv\n"
     ]
    },
    {
     "name": "stderr",
     "output_type": "stream",
     "text": [
      "<ipython-input-15-a8ec1c88f09f>:20: DeprecationWarning: In a future version, `df.iloc[:, i] = newvals` will attempt to set the values inplace instead of always setting a new array. To retain the old behavior, use either `df[df.columns[i]] = newvals` or, if columns are non-unique, `df.isetitem(i, newvals)`\n",
      "  airbnb_pd.loc[:,\"latitude\"] = airbnb_pd.latitude.astype(float)\n",
      "<ipython-input-15-a8ec1c88f09f>:21: DeprecationWarning: In a future version, `df.iloc[:, i] = newvals` will attempt to set the values inplace instead of always setting a new array. To retain the old behavior, use either `df[df.columns[i]] = newvals` or, if columns are non-unique, `df.isetitem(i, newvals)`\n",
      "  airbnb_pd.loc[:,\"longitude\"] = airbnb_pd.longitude.astype(float)\n",
      "<ipython-input-15-a8ec1c88f09f>:22: DeprecationWarning: In a future version, `df.iloc[:, i] = newvals` will attempt to set the values inplace instead of always setting a new array. To retain the old behavior, use either `df[df.columns[i]] = newvals` or, if columns are non-unique, `df.isetitem(i, newvals)`\n",
      "  airbnb_pd.loc[:,\"number_of_reviews\"] = airbnb_pd.number_of_reviews.astype(int)\n",
      "<ipython-input-15-a8ec1c88f09f>:23: DeprecationWarning: In a future version, `df.iloc[:, i] = newvals` will attempt to set the values inplace instead of always setting a new array. To retain the old behavior, use either `df[df.columns[i]] = newvals` or, if columns are non-unique, `df.isetitem(i, newvals)`\n",
      "  airbnb_pd.loc[:,\"minimum_nights\"] = airbnb_pd.minimum_nights.astype(int)\n",
      "\n",
      " 60%|██████    | 35/58 [00:07<00:08,  2.86it/s]\u001b[A"
     ]
    },
    {
     "name": "stdout",
     "output_type": "stream",
     "text": [
      "train_noise_30.csv_cleaned_curatorC2.csv\n"
     ]
    },
    {
     "name": "stderr",
     "output_type": "stream",
     "text": [
      "<ipython-input-15-a8ec1c88f09f>:20: DeprecationWarning: In a future version, `df.iloc[:, i] = newvals` will attempt to set the values inplace instead of always setting a new array. To retain the old behavior, use either `df[df.columns[i]] = newvals` or, if columns are non-unique, `df.isetitem(i, newvals)`\n",
      "  airbnb_pd.loc[:,\"latitude\"] = airbnb_pd.latitude.astype(float)\n",
      "<ipython-input-15-a8ec1c88f09f>:21: DeprecationWarning: In a future version, `df.iloc[:, i] = newvals` will attempt to set the values inplace instead of always setting a new array. To retain the old behavior, use either `df[df.columns[i]] = newvals` or, if columns are non-unique, `df.isetitem(i, newvals)`\n",
      "  airbnb_pd.loc[:,\"longitude\"] = airbnb_pd.longitude.astype(float)\n",
      "<ipython-input-15-a8ec1c88f09f>:22: DeprecationWarning: In a future version, `df.iloc[:, i] = newvals` will attempt to set the values inplace instead of always setting a new array. To retain the old behavior, use either `df[df.columns[i]] = newvals` or, if columns are non-unique, `df.isetitem(i, newvals)`\n",
      "  airbnb_pd.loc[:,\"number_of_reviews\"] = airbnb_pd.number_of_reviews.astype(int)\n",
      "<ipython-input-15-a8ec1c88f09f>:23: DeprecationWarning: In a future version, `df.iloc[:, i] = newvals` will attempt to set the values inplace instead of always setting a new array. To retain the old behavior, use either `df[df.columns[i]] = newvals` or, if columns are non-unique, `df.isetitem(i, newvals)`\n",
      "  airbnb_pd.loc[:,\"minimum_nights\"] = airbnb_pd.minimum_nights.astype(int)\n",
      "\n",
      " 62%|██████▏   | 36/58 [00:08<00:08,  2.71it/s]\u001b[A"
     ]
    },
    {
     "name": "stdout",
     "output_type": "stream",
     "text": [
      "train_noise_15.csv_cleaned_curatorC2.csv\n"
     ]
    },
    {
     "name": "stderr",
     "output_type": "stream",
     "text": [
      "<ipython-input-15-a8ec1c88f09f>:20: DeprecationWarning: In a future version, `df.iloc[:, i] = newvals` will attempt to set the values inplace instead of always setting a new array. To retain the old behavior, use either `df[df.columns[i]] = newvals` or, if columns are non-unique, `df.isetitem(i, newvals)`\n",
      "  airbnb_pd.loc[:,\"latitude\"] = airbnb_pd.latitude.astype(float)\n",
      "<ipython-input-15-a8ec1c88f09f>:21: DeprecationWarning: In a future version, `df.iloc[:, i] = newvals` will attempt to set the values inplace instead of always setting a new array. To retain the old behavior, use either `df[df.columns[i]] = newvals` or, if columns are non-unique, `df.isetitem(i, newvals)`\n",
      "  airbnb_pd.loc[:,\"longitude\"] = airbnb_pd.longitude.astype(float)\n",
      "<ipython-input-15-a8ec1c88f09f>:22: DeprecationWarning: In a future version, `df.iloc[:, i] = newvals` will attempt to set the values inplace instead of always setting a new array. To retain the old behavior, use either `df[df.columns[i]] = newvals` or, if columns are non-unique, `df.isetitem(i, newvals)`\n",
      "  airbnb_pd.loc[:,\"number_of_reviews\"] = airbnb_pd.number_of_reviews.astype(int)\n",
      "<ipython-input-15-a8ec1c88f09f>:23: DeprecationWarning: In a future version, `df.iloc[:, i] = newvals` will attempt to set the values inplace instead of always setting a new array. To retain the old behavior, use either `df[df.columns[i]] = newvals` or, if columns are non-unique, `df.isetitem(i, newvals)`\n",
      "  airbnb_pd.loc[:,\"minimum_nights\"] = airbnb_pd.minimum_nights.astype(int)\n",
      "\n",
      " 64%|██████▍   | 37/58 [00:08<00:07,  2.80it/s]\u001b[A"
     ]
    },
    {
     "name": "stdout",
     "output_type": "stream",
     "text": [
      "train_noise_25.csv_cleaned_curatorC2.csv\n"
     ]
    },
    {
     "name": "stderr",
     "output_type": "stream",
     "text": [
      "<ipython-input-15-a8ec1c88f09f>:20: DeprecationWarning: In a future version, `df.iloc[:, i] = newvals` will attempt to set the values inplace instead of always setting a new array. To retain the old behavior, use either `df[df.columns[i]] = newvals` or, if columns are non-unique, `df.isetitem(i, newvals)`\n",
      "  airbnb_pd.loc[:,\"latitude\"] = airbnb_pd.latitude.astype(float)\n",
      "<ipython-input-15-a8ec1c88f09f>:21: DeprecationWarning: In a future version, `df.iloc[:, i] = newvals` will attempt to set the values inplace instead of always setting a new array. To retain the old behavior, use either `df[df.columns[i]] = newvals` or, if columns are non-unique, `df.isetitem(i, newvals)`\n",
      "  airbnb_pd.loc[:,\"longitude\"] = airbnb_pd.longitude.astype(float)\n",
      "<ipython-input-15-a8ec1c88f09f>:22: DeprecationWarning: In a future version, `df.iloc[:, i] = newvals` will attempt to set the values inplace instead of always setting a new array. To retain the old behavior, use either `df[df.columns[i]] = newvals` or, if columns are non-unique, `df.isetitem(i, newvals)`\n",
      "  airbnb_pd.loc[:,\"number_of_reviews\"] = airbnb_pd.number_of_reviews.astype(int)\n",
      "<ipython-input-15-a8ec1c88f09f>:23: DeprecationWarning: In a future version, `df.iloc[:, i] = newvals` will attempt to set the values inplace instead of always setting a new array. To retain the old behavior, use either `df[df.columns[i]] = newvals` or, if columns are non-unique, `df.isetitem(i, newvals)`\n",
      "  airbnb_pd.loc[:,\"minimum_nights\"] = airbnb_pd.minimum_nights.astype(int)\n",
      "\n",
      " 66%|██████▌   | 38/58 [00:08<00:06,  2.95it/s]\u001b[A"
     ]
    },
    {
     "name": "stdout",
     "output_type": "stream",
     "text": [
      "train_noise_10.csv_cleaned_curatorC2.csv\n"
     ]
    },
    {
     "name": "stderr",
     "output_type": "stream",
     "text": [
      "<ipython-input-15-a8ec1c88f09f>:20: DeprecationWarning: In a future version, `df.iloc[:, i] = newvals` will attempt to set the values inplace instead of always setting a new array. To retain the old behavior, use either `df[df.columns[i]] = newvals` or, if columns are non-unique, `df.isetitem(i, newvals)`\n",
      "  airbnb_pd.loc[:,\"latitude\"] = airbnb_pd.latitude.astype(float)\n",
      "<ipython-input-15-a8ec1c88f09f>:21: DeprecationWarning: In a future version, `df.iloc[:, i] = newvals` will attempt to set the values inplace instead of always setting a new array. To retain the old behavior, use either `df[df.columns[i]] = newvals` or, if columns are non-unique, `df.isetitem(i, newvals)`\n",
      "  airbnb_pd.loc[:,\"longitude\"] = airbnb_pd.longitude.astype(float)\n",
      "<ipython-input-15-a8ec1c88f09f>:22: DeprecationWarning: In a future version, `df.iloc[:, i] = newvals` will attempt to set the values inplace instead of always setting a new array. To retain the old behavior, use either `df[df.columns[i]] = newvals` or, if columns are non-unique, `df.isetitem(i, newvals)`\n",
      "  airbnb_pd.loc[:,\"number_of_reviews\"] = airbnb_pd.number_of_reviews.astype(int)\n",
      "<ipython-input-15-a8ec1c88f09f>:23: DeprecationWarning: In a future version, `df.iloc[:, i] = newvals` will attempt to set the values inplace instead of always setting a new array. To retain the old behavior, use either `df[df.columns[i]] = newvals` or, if columns are non-unique, `df.isetitem(i, newvals)`\n",
      "  airbnb_pd.loc[:,\"minimum_nights\"] = airbnb_pd.minimum_nights.astype(int)\n",
      "\n",
      " 67%|██████▋   | 39/58 [00:09<00:06,  2.89it/s]\u001b[A"
     ]
    },
    {
     "name": "stdout",
     "output_type": "stream",
     "text": [
      "train_noise_5.csv_cleaned_curatorC2.csv\n"
     ]
    },
    {
     "name": "stderr",
     "output_type": "stream",
     "text": [
      "<ipython-input-15-a8ec1c88f09f>:20: DeprecationWarning: In a future version, `df.iloc[:, i] = newvals` will attempt to set the values inplace instead of always setting a new array. To retain the old behavior, use either `df[df.columns[i]] = newvals` or, if columns are non-unique, `df.isetitem(i, newvals)`\n",
      "  airbnb_pd.loc[:,\"latitude\"] = airbnb_pd.latitude.astype(float)\n",
      "<ipython-input-15-a8ec1c88f09f>:21: DeprecationWarning: In a future version, `df.iloc[:, i] = newvals` will attempt to set the values inplace instead of always setting a new array. To retain the old behavior, use either `df[df.columns[i]] = newvals` or, if columns are non-unique, `df.isetitem(i, newvals)`\n",
      "  airbnb_pd.loc[:,\"longitude\"] = airbnb_pd.longitude.astype(float)\n",
      "<ipython-input-15-a8ec1c88f09f>:22: DeprecationWarning: In a future version, `df.iloc[:, i] = newvals` will attempt to set the values inplace instead of always setting a new array. To retain the old behavior, use either `df[df.columns[i]] = newvals` or, if columns are non-unique, `df.isetitem(i, newvals)`\n",
      "  airbnb_pd.loc[:,\"number_of_reviews\"] = airbnb_pd.number_of_reviews.astype(int)\n",
      "<ipython-input-15-a8ec1c88f09f>:23: DeprecationWarning: In a future version, `df.iloc[:, i] = newvals` will attempt to set the values inplace instead of always setting a new array. To retain the old behavior, use either `df[df.columns[i]] = newvals` or, if columns are non-unique, `df.isetitem(i, newvals)`\n",
      "  airbnb_pd.loc[:,\"minimum_nights\"] = airbnb_pd.minimum_nights.astype(int)\n",
      "\n",
      " 69%|██████▉   | 40/58 [00:09<00:05,  3.02it/s]\u001b[A"
     ]
    },
    {
     "name": "stdout",
     "output_type": "stream",
     "text": [
      "train_noise_35.csv_cleaned_curatorC2.csv\n"
     ]
    },
    {
     "name": "stderr",
     "output_type": "stream",
     "text": [
      "<ipython-input-15-a8ec1c88f09f>:20: DeprecationWarning: In a future version, `df.iloc[:, i] = newvals` will attempt to set the values inplace instead of always setting a new array. To retain the old behavior, use either `df[df.columns[i]] = newvals` or, if columns are non-unique, `df.isetitem(i, newvals)`\n",
      "  airbnb_pd.loc[:,\"latitude\"] = airbnb_pd.latitude.astype(float)\n",
      "<ipython-input-15-a8ec1c88f09f>:21: DeprecationWarning: In a future version, `df.iloc[:, i] = newvals` will attempt to set the values inplace instead of always setting a new array. To retain the old behavior, use either `df[df.columns[i]] = newvals` or, if columns are non-unique, `df.isetitem(i, newvals)`\n",
      "  airbnb_pd.loc[:,\"longitude\"] = airbnb_pd.longitude.astype(float)\n",
      "<ipython-input-15-a8ec1c88f09f>:22: DeprecationWarning: In a future version, `df.iloc[:, i] = newvals` will attempt to set the values inplace instead of always setting a new array. To retain the old behavior, use either `df[df.columns[i]] = newvals` or, if columns are non-unique, `df.isetitem(i, newvals)`\n",
      "  airbnb_pd.loc[:,\"number_of_reviews\"] = airbnb_pd.number_of_reviews.astype(int)\n",
      "<ipython-input-15-a8ec1c88f09f>:23: DeprecationWarning: In a future version, `df.iloc[:, i] = newvals` will attempt to set the values inplace instead of always setting a new array. To retain the old behavior, use either `df[df.columns[i]] = newvals` or, if columns are non-unique, `df.isetitem(i, newvals)`\n",
      "  airbnb_pd.loc[:,\"minimum_nights\"] = airbnb_pd.minimum_nights.astype(int)\n",
      "\n",
      " 71%|███████   | 41/58 [00:09<00:05,  2.98it/s]\u001b[A"
     ]
    },
    {
     "name": "stdout",
     "output_type": "stream",
     "text": [
      "train_noise_20.csv_cleaned_curatorC2.csv\n"
     ]
    },
    {
     "name": "stderr",
     "output_type": "stream",
     "text": [
      "<ipython-input-15-a8ec1c88f09f>:20: DeprecationWarning: In a future version, `df.iloc[:, i] = newvals` will attempt to set the values inplace instead of always setting a new array. To retain the old behavior, use either `df[df.columns[i]] = newvals` or, if columns are non-unique, `df.isetitem(i, newvals)`\n",
      "  airbnb_pd.loc[:,\"latitude\"] = airbnb_pd.latitude.astype(float)\n",
      "<ipython-input-15-a8ec1c88f09f>:21: DeprecationWarning: In a future version, `df.iloc[:, i] = newvals` will attempt to set the values inplace instead of always setting a new array. To retain the old behavior, use either `df[df.columns[i]] = newvals` or, if columns are non-unique, `df.isetitem(i, newvals)`\n",
      "  airbnb_pd.loc[:,\"longitude\"] = airbnb_pd.longitude.astype(float)\n",
      "<ipython-input-15-a8ec1c88f09f>:22: DeprecationWarning: In a future version, `df.iloc[:, i] = newvals` will attempt to set the values inplace instead of always setting a new array. To retain the old behavior, use either `df[df.columns[i]] = newvals` or, if columns are non-unique, `df.isetitem(i, newvals)`\n",
      "  airbnb_pd.loc[:,\"number_of_reviews\"] = airbnb_pd.number_of_reviews.astype(int)\n",
      "<ipython-input-15-a8ec1c88f09f>:23: DeprecationWarning: In a future version, `df.iloc[:, i] = newvals` will attempt to set the values inplace instead of always setting a new array. To retain the old behavior, use either `df[df.columns[i]] = newvals` or, if columns are non-unique, `df.isetitem(i, newvals)`\n",
      "  airbnb_pd.loc[:,\"minimum_nights\"] = airbnb_pd.minimum_nights.astype(int)\n",
      "\n",
      " 72%|███████▏  | 42/58 [00:10<00:05,  3.12it/s]\u001b[A"
     ]
    },
    {
     "name": "stdout",
     "output_type": "stream",
     "text": [
      "train_noise_40.csv_cleaned_curatorC3.csv\n"
     ]
    },
    {
     "name": "stderr",
     "output_type": "stream",
     "text": [
      "<ipython-input-15-a8ec1c88f09f>:20: DeprecationWarning: In a future version, `df.iloc[:, i] = newvals` will attempt to set the values inplace instead of always setting a new array. To retain the old behavior, use either `df[df.columns[i]] = newvals` or, if columns are non-unique, `df.isetitem(i, newvals)`\n",
      "  airbnb_pd.loc[:,\"latitude\"] = airbnb_pd.latitude.astype(float)\n",
      "<ipython-input-15-a8ec1c88f09f>:21: DeprecationWarning: In a future version, `df.iloc[:, i] = newvals` will attempt to set the values inplace instead of always setting a new array. To retain the old behavior, use either `df[df.columns[i]] = newvals` or, if columns are non-unique, `df.isetitem(i, newvals)`\n",
      "  airbnb_pd.loc[:,\"longitude\"] = airbnb_pd.longitude.astype(float)\n",
      "<ipython-input-15-a8ec1c88f09f>:22: DeprecationWarning: In a future version, `df.iloc[:, i] = newvals` will attempt to set the values inplace instead of always setting a new array. To retain the old behavior, use either `df[df.columns[i]] = newvals` or, if columns are non-unique, `df.isetitem(i, newvals)`\n",
      "  airbnb_pd.loc[:,\"number_of_reviews\"] = airbnb_pd.number_of_reviews.astype(int)\n",
      "<ipython-input-15-a8ec1c88f09f>:23: DeprecationWarning: In a future version, `df.iloc[:, i] = newvals` will attempt to set the values inplace instead of always setting a new array. To retain the old behavior, use either `df[df.columns[i]] = newvals` or, if columns are non-unique, `df.isetitem(i, newvals)`\n",
      "  airbnb_pd.loc[:,\"minimum_nights\"] = airbnb_pd.minimum_nights.astype(int)\n",
      "\n",
      " 74%|███████▍  | 43/58 [00:10<00:04,  3.07it/s]\u001b[A"
     ]
    },
    {
     "name": "stdout",
     "output_type": "stream",
     "text": [
      "train_noise_30.csv_cleaned_curatorC3.csv\n"
     ]
    },
    {
     "name": "stderr",
     "output_type": "stream",
     "text": [
      "<ipython-input-15-a8ec1c88f09f>:20: DeprecationWarning: In a future version, `df.iloc[:, i] = newvals` will attempt to set the values inplace instead of always setting a new array. To retain the old behavior, use either `df[df.columns[i]] = newvals` or, if columns are non-unique, `df.isetitem(i, newvals)`\n",
      "  airbnb_pd.loc[:,\"latitude\"] = airbnb_pd.latitude.astype(float)\n",
      "<ipython-input-15-a8ec1c88f09f>:21: DeprecationWarning: In a future version, `df.iloc[:, i] = newvals` will attempt to set the values inplace instead of always setting a new array. To retain the old behavior, use either `df[df.columns[i]] = newvals` or, if columns are non-unique, `df.isetitem(i, newvals)`\n",
      "  airbnb_pd.loc[:,\"longitude\"] = airbnb_pd.longitude.astype(float)\n",
      "<ipython-input-15-a8ec1c88f09f>:22: DeprecationWarning: In a future version, `df.iloc[:, i] = newvals` will attempt to set the values inplace instead of always setting a new array. To retain the old behavior, use either `df[df.columns[i]] = newvals` or, if columns are non-unique, `df.isetitem(i, newvals)`\n",
      "  airbnb_pd.loc[:,\"number_of_reviews\"] = airbnb_pd.number_of_reviews.astype(int)\n",
      "<ipython-input-15-a8ec1c88f09f>:23: DeprecationWarning: In a future version, `df.iloc[:, i] = newvals` will attempt to set the values inplace instead of always setting a new array. To retain the old behavior, use either `df[df.columns[i]] = newvals` or, if columns are non-unique, `df.isetitem(i, newvals)`\n",
      "  airbnb_pd.loc[:,\"minimum_nights\"] = airbnb_pd.minimum_nights.astype(int)\n",
      "\n",
      " 76%|███████▌  | 44/58 [00:10<00:04,  3.05it/s]\u001b[A"
     ]
    },
    {
     "name": "stdout",
     "output_type": "stream",
     "text": [
      "train_noise_15.csv_cleaned_curatorC3.csv\n"
     ]
    },
    {
     "name": "stderr",
     "output_type": "stream",
     "text": [
      "<ipython-input-15-a8ec1c88f09f>:20: DeprecationWarning: In a future version, `df.iloc[:, i] = newvals` will attempt to set the values inplace instead of always setting a new array. To retain the old behavior, use either `df[df.columns[i]] = newvals` or, if columns are non-unique, `df.isetitem(i, newvals)`\n",
      "  airbnb_pd.loc[:,\"latitude\"] = airbnb_pd.latitude.astype(float)\n",
      "<ipython-input-15-a8ec1c88f09f>:21: DeprecationWarning: In a future version, `df.iloc[:, i] = newvals` will attempt to set the values inplace instead of always setting a new array. To retain the old behavior, use either `df[df.columns[i]] = newvals` or, if columns are non-unique, `df.isetitem(i, newvals)`\n",
      "  airbnb_pd.loc[:,\"longitude\"] = airbnb_pd.longitude.astype(float)\n",
      "<ipython-input-15-a8ec1c88f09f>:22: DeprecationWarning: In a future version, `df.iloc[:, i] = newvals` will attempt to set the values inplace instead of always setting a new array. To retain the old behavior, use either `df[df.columns[i]] = newvals` or, if columns are non-unique, `df.isetitem(i, newvals)`\n",
      "  airbnb_pd.loc[:,\"number_of_reviews\"] = airbnb_pd.number_of_reviews.astype(int)\n",
      "<ipython-input-15-a8ec1c88f09f>:23: DeprecationWarning: In a future version, `df.iloc[:, i] = newvals` will attempt to set the values inplace instead of always setting a new array. To retain the old behavior, use either `df[df.columns[i]] = newvals` or, if columns are non-unique, `df.isetitem(i, newvals)`\n",
      "  airbnb_pd.loc[:,\"minimum_nights\"] = airbnb_pd.minimum_nights.astype(int)\n",
      "\n",
      " 78%|███████▊  | 45/58 [00:11<00:04,  2.98it/s]\u001b[A"
     ]
    },
    {
     "name": "stdout",
     "output_type": "stream",
     "text": [
      "train_noise_25.csv_cleaned_curatorC3.csv\n"
     ]
    },
    {
     "name": "stderr",
     "output_type": "stream",
     "text": [
      "<ipython-input-15-a8ec1c88f09f>:20: DeprecationWarning: In a future version, `df.iloc[:, i] = newvals` will attempt to set the values inplace instead of always setting a new array. To retain the old behavior, use either `df[df.columns[i]] = newvals` or, if columns are non-unique, `df.isetitem(i, newvals)`\n",
      "  airbnb_pd.loc[:,\"latitude\"] = airbnb_pd.latitude.astype(float)\n",
      "<ipython-input-15-a8ec1c88f09f>:21: DeprecationWarning: In a future version, `df.iloc[:, i] = newvals` will attempt to set the values inplace instead of always setting a new array. To retain the old behavior, use either `df[df.columns[i]] = newvals` or, if columns are non-unique, `df.isetitem(i, newvals)`\n",
      "  airbnb_pd.loc[:,\"longitude\"] = airbnb_pd.longitude.astype(float)\n",
      "<ipython-input-15-a8ec1c88f09f>:22: DeprecationWarning: In a future version, `df.iloc[:, i] = newvals` will attempt to set the values inplace instead of always setting a new array. To retain the old behavior, use either `df[df.columns[i]] = newvals` or, if columns are non-unique, `df.isetitem(i, newvals)`\n",
      "  airbnb_pd.loc[:,\"number_of_reviews\"] = airbnb_pd.number_of_reviews.astype(int)\n",
      "<ipython-input-15-a8ec1c88f09f>:23: DeprecationWarning: In a future version, `df.iloc[:, i] = newvals` will attempt to set the values inplace instead of always setting a new array. To retain the old behavior, use either `df[df.columns[i]] = newvals` or, if columns are non-unique, `df.isetitem(i, newvals)`\n",
      "  airbnb_pd.loc[:,\"minimum_nights\"] = airbnb_pd.minimum_nights.astype(int)\n",
      "\n",
      " 79%|███████▉  | 46/58 [00:11<00:03,  3.01it/s]\u001b[A"
     ]
    },
    {
     "name": "stdout",
     "output_type": "stream",
     "text": [
      "train_noise_10.csv_cleaned_curatorC3.csv\n"
     ]
    },
    {
     "name": "stderr",
     "output_type": "stream",
     "text": [
      "<ipython-input-15-a8ec1c88f09f>:20: DeprecationWarning: In a future version, `df.iloc[:, i] = newvals` will attempt to set the values inplace instead of always setting a new array. To retain the old behavior, use either `df[df.columns[i]] = newvals` or, if columns are non-unique, `df.isetitem(i, newvals)`\n",
      "  airbnb_pd.loc[:,\"latitude\"] = airbnb_pd.latitude.astype(float)\n",
      "<ipython-input-15-a8ec1c88f09f>:21: DeprecationWarning: In a future version, `df.iloc[:, i] = newvals` will attempt to set the values inplace instead of always setting a new array. To retain the old behavior, use either `df[df.columns[i]] = newvals` or, if columns are non-unique, `df.isetitem(i, newvals)`\n",
      "  airbnb_pd.loc[:,\"longitude\"] = airbnb_pd.longitude.astype(float)\n",
      "<ipython-input-15-a8ec1c88f09f>:22: DeprecationWarning: In a future version, `df.iloc[:, i] = newvals` will attempt to set the values inplace instead of always setting a new array. To retain the old behavior, use either `df[df.columns[i]] = newvals` or, if columns are non-unique, `df.isetitem(i, newvals)`\n",
      "  airbnb_pd.loc[:,\"number_of_reviews\"] = airbnb_pd.number_of_reviews.astype(int)\n",
      "<ipython-input-15-a8ec1c88f09f>:23: DeprecationWarning: In a future version, `df.iloc[:, i] = newvals` will attempt to set the values inplace instead of always setting a new array. To retain the old behavior, use either `df[df.columns[i]] = newvals` or, if columns are non-unique, `df.isetitem(i, newvals)`\n",
      "  airbnb_pd.loc[:,\"minimum_nights\"] = airbnb_pd.minimum_nights.astype(int)\n",
      "\n",
      " 81%|████████  | 47/58 [00:11<00:03,  3.13it/s]\u001b[A"
     ]
    },
    {
     "name": "stdout",
     "output_type": "stream",
     "text": [
      "train_noise_5.csv_cleaned_curatorC3.csv\n"
     ]
    },
    {
     "name": "stderr",
     "output_type": "stream",
     "text": [
      "<ipython-input-15-a8ec1c88f09f>:20: DeprecationWarning: In a future version, `df.iloc[:, i] = newvals` will attempt to set the values inplace instead of always setting a new array. To retain the old behavior, use either `df[df.columns[i]] = newvals` or, if columns are non-unique, `df.isetitem(i, newvals)`\n",
      "  airbnb_pd.loc[:,\"latitude\"] = airbnb_pd.latitude.astype(float)\n",
      "<ipython-input-15-a8ec1c88f09f>:21: DeprecationWarning: In a future version, `df.iloc[:, i] = newvals` will attempt to set the values inplace instead of always setting a new array. To retain the old behavior, use either `df[df.columns[i]] = newvals` or, if columns are non-unique, `df.isetitem(i, newvals)`\n",
      "  airbnb_pd.loc[:,\"longitude\"] = airbnb_pd.longitude.astype(float)\n",
      "<ipython-input-15-a8ec1c88f09f>:22: DeprecationWarning: In a future version, `df.iloc[:, i] = newvals` will attempt to set the values inplace instead of always setting a new array. To retain the old behavior, use either `df[df.columns[i]] = newvals` or, if columns are non-unique, `df.isetitem(i, newvals)`\n",
      "  airbnb_pd.loc[:,\"number_of_reviews\"] = airbnb_pd.number_of_reviews.astype(int)\n",
      "<ipython-input-15-a8ec1c88f09f>:23: DeprecationWarning: In a future version, `df.iloc[:, i] = newvals` will attempt to set the values inplace instead of always setting a new array. To retain the old behavior, use either `df[df.columns[i]] = newvals` or, if columns are non-unique, `df.isetitem(i, newvals)`\n",
      "  airbnb_pd.loc[:,\"minimum_nights\"] = airbnb_pd.minimum_nights.astype(int)\n",
      "\n",
      " 83%|████████▎ | 48/58 [00:12<00:03,  3.04it/s]\u001b[A"
     ]
    },
    {
     "name": "stdout",
     "output_type": "stream",
     "text": [
      "train_noise_35.csv_cleaned_curatorC3.csv\n"
     ]
    },
    {
     "name": "stderr",
     "output_type": "stream",
     "text": [
      "<ipython-input-15-a8ec1c88f09f>:20: DeprecationWarning: In a future version, `df.iloc[:, i] = newvals` will attempt to set the values inplace instead of always setting a new array. To retain the old behavior, use either `df[df.columns[i]] = newvals` or, if columns are non-unique, `df.isetitem(i, newvals)`\n",
      "  airbnb_pd.loc[:,\"latitude\"] = airbnb_pd.latitude.astype(float)\n",
      "<ipython-input-15-a8ec1c88f09f>:21: DeprecationWarning: In a future version, `df.iloc[:, i] = newvals` will attempt to set the values inplace instead of always setting a new array. To retain the old behavior, use either `df[df.columns[i]] = newvals` or, if columns are non-unique, `df.isetitem(i, newvals)`\n",
      "  airbnb_pd.loc[:,\"longitude\"] = airbnb_pd.longitude.astype(float)\n",
      "<ipython-input-15-a8ec1c88f09f>:22: DeprecationWarning: In a future version, `df.iloc[:, i] = newvals` will attempt to set the values inplace instead of always setting a new array. To retain the old behavior, use either `df[df.columns[i]] = newvals` or, if columns are non-unique, `df.isetitem(i, newvals)`\n",
      "  airbnb_pd.loc[:,\"number_of_reviews\"] = airbnb_pd.number_of_reviews.astype(int)\n",
      "<ipython-input-15-a8ec1c88f09f>:23: DeprecationWarning: In a future version, `df.iloc[:, i] = newvals` will attempt to set the values inplace instead of always setting a new array. To retain the old behavior, use either `df[df.columns[i]] = newvals` or, if columns are non-unique, `df.isetitem(i, newvals)`\n",
      "  airbnb_pd.loc[:,\"minimum_nights\"] = airbnb_pd.minimum_nights.astype(int)\n",
      "\n",
      " 84%|████████▍ | 49/58 [00:12<00:02,  3.02it/s]\u001b[A"
     ]
    },
    {
     "name": "stdout",
     "output_type": "stream",
     "text": [
      "train_noise_20.csv_cleaned_curatorC3.csv\n"
     ]
    },
    {
     "name": "stderr",
     "output_type": "stream",
     "text": [
      "<ipython-input-15-a8ec1c88f09f>:20: DeprecationWarning: In a future version, `df.iloc[:, i] = newvals` will attempt to set the values inplace instead of always setting a new array. To retain the old behavior, use either `df[df.columns[i]] = newvals` or, if columns are non-unique, `df.isetitem(i, newvals)`\n",
      "  airbnb_pd.loc[:,\"latitude\"] = airbnb_pd.latitude.astype(float)\n",
      "<ipython-input-15-a8ec1c88f09f>:21: DeprecationWarning: In a future version, `df.iloc[:, i] = newvals` will attempt to set the values inplace instead of always setting a new array. To retain the old behavior, use either `df[df.columns[i]] = newvals` or, if columns are non-unique, `df.isetitem(i, newvals)`\n",
      "  airbnb_pd.loc[:,\"longitude\"] = airbnb_pd.longitude.astype(float)\n",
      "<ipython-input-15-a8ec1c88f09f>:22: DeprecationWarning: In a future version, `df.iloc[:, i] = newvals` will attempt to set the values inplace instead of always setting a new array. To retain the old behavior, use either `df[df.columns[i]] = newvals` or, if columns are non-unique, `df.isetitem(i, newvals)`\n",
      "  airbnb_pd.loc[:,\"number_of_reviews\"] = airbnb_pd.number_of_reviews.astype(int)\n",
      "<ipython-input-15-a8ec1c88f09f>:23: DeprecationWarning: In a future version, `df.iloc[:, i] = newvals` will attempt to set the values inplace instead of always setting a new array. To retain the old behavior, use either `df[df.columns[i]] = newvals` or, if columns are non-unique, `df.isetitem(i, newvals)`\n",
      "  airbnb_pd.loc[:,\"minimum_nights\"] = airbnb_pd.minimum_nights.astype(int)\n",
      "\n",
      " 86%|████████▌ | 50/58 [00:13<00:03,  2.57it/s]\u001b[A"
     ]
    },
    {
     "name": "stdout",
     "output_type": "stream",
     "text": [
      "train_noise_40.csv_cleaned_curatorMerge.csv\n"
     ]
    },
    {
     "name": "stderr",
     "output_type": "stream",
     "text": [
      "<ipython-input-15-a8ec1c88f09f>:22: DeprecationWarning: In a future version, `df.iloc[:, i] = newvals` will attempt to set the values inplace instead of always setting a new array. To retain the old behavior, use either `df[df.columns[i]] = newvals` or, if columns are non-unique, `df.isetitem(i, newvals)`\n",
      "  airbnb_pd.loc[:,\"number_of_reviews\"] = airbnb_pd.number_of_reviews.astype(int)\n",
      "<ipython-input-15-a8ec1c88f09f>:23: DeprecationWarning: In a future version, `df.iloc[:, i] = newvals` will attempt to set the values inplace instead of always setting a new array. To retain the old behavior, use either `df[df.columns[i]] = newvals` or, if columns are non-unique, `df.isetitem(i, newvals)`\n",
      "  airbnb_pd.loc[:,\"minimum_nights\"] = airbnb_pd.minimum_nights.astype(int)\n",
      "\n",
      " 88%|████████▊ | 51/58 [00:13<00:02,  2.54it/s]\u001b[A"
     ]
    },
    {
     "name": "stdout",
     "output_type": "stream",
     "text": [
      "train_noise_30.csv_cleaned_curatorMerge.csv\n"
     ]
    },
    {
     "name": "stderr",
     "output_type": "stream",
     "text": [
      "<ipython-input-15-a8ec1c88f09f>:22: DeprecationWarning: In a future version, `df.iloc[:, i] = newvals` will attempt to set the values inplace instead of always setting a new array. To retain the old behavior, use either `df[df.columns[i]] = newvals` or, if columns are non-unique, `df.isetitem(i, newvals)`\n",
      "  airbnb_pd.loc[:,\"number_of_reviews\"] = airbnb_pd.number_of_reviews.astype(int)\n",
      "<ipython-input-15-a8ec1c88f09f>:23: DeprecationWarning: In a future version, `df.iloc[:, i] = newvals` will attempt to set the values inplace instead of always setting a new array. To retain the old behavior, use either `df[df.columns[i]] = newvals` or, if columns are non-unique, `df.isetitem(i, newvals)`\n",
      "  airbnb_pd.loc[:,\"minimum_nights\"] = airbnb_pd.minimum_nights.astype(int)\n",
      "\n",
      " 90%|████████▉ | 52/58 [00:13<00:02,  2.74it/s]\u001b[A"
     ]
    },
    {
     "name": "stdout",
     "output_type": "stream",
     "text": [
      "train_noise_15.csv_cleaned_curatorMerge.csv\n"
     ]
    },
    {
     "name": "stderr",
     "output_type": "stream",
     "text": [
      "<ipython-input-15-a8ec1c88f09f>:22: DeprecationWarning: In a future version, `df.iloc[:, i] = newvals` will attempt to set the values inplace instead of always setting a new array. To retain the old behavior, use either `df[df.columns[i]] = newvals` or, if columns are non-unique, `df.isetitem(i, newvals)`\n",
      "  airbnb_pd.loc[:,\"number_of_reviews\"] = airbnb_pd.number_of_reviews.astype(int)\n",
      "<ipython-input-15-a8ec1c88f09f>:23: DeprecationWarning: In a future version, `df.iloc[:, i] = newvals` will attempt to set the values inplace instead of always setting a new array. To retain the old behavior, use either `df[df.columns[i]] = newvals` or, if columns are non-unique, `df.isetitem(i, newvals)`\n",
      "  airbnb_pd.loc[:,\"minimum_nights\"] = airbnb_pd.minimum_nights.astype(int)\n",
      "\n",
      " 91%|█████████▏| 53/58 [00:14<00:02,  2.36it/s]\u001b[A"
     ]
    },
    {
     "name": "stdout",
     "output_type": "stream",
     "text": [
      "train_noise_25.csv_cleaned_curatorMerge.csv\n"
     ]
    },
    {
     "name": "stderr",
     "output_type": "stream",
     "text": [
      "<ipython-input-15-a8ec1c88f09f>:22: DeprecationWarning: In a future version, `df.iloc[:, i] = newvals` will attempt to set the values inplace instead of always setting a new array. To retain the old behavior, use either `df[df.columns[i]] = newvals` or, if columns are non-unique, `df.isetitem(i, newvals)`\n",
      "  airbnb_pd.loc[:,\"number_of_reviews\"] = airbnb_pd.number_of_reviews.astype(int)\n",
      "<ipython-input-15-a8ec1c88f09f>:23: DeprecationWarning: In a future version, `df.iloc[:, i] = newvals` will attempt to set the values inplace instead of always setting a new array. To retain the old behavior, use either `df[df.columns[i]] = newvals` or, if columns are non-unique, `df.isetitem(i, newvals)`\n",
      "  airbnb_pd.loc[:,\"minimum_nights\"] = airbnb_pd.minimum_nights.astype(int)\n",
      "\n",
      " 93%|█████████▎| 54/58 [00:14<00:01,  2.57it/s]\u001b[A"
     ]
    },
    {
     "name": "stdout",
     "output_type": "stream",
     "text": [
      "train_noise_10.csv_cleaned_curatorMerge.csv\n"
     ]
    },
    {
     "name": "stderr",
     "output_type": "stream",
     "text": [
      "<ipython-input-15-a8ec1c88f09f>:22: DeprecationWarning: In a future version, `df.iloc[:, i] = newvals` will attempt to set the values inplace instead of always setting a new array. To retain the old behavior, use either `df[df.columns[i]] = newvals` or, if columns are non-unique, `df.isetitem(i, newvals)`\n",
      "  airbnb_pd.loc[:,\"number_of_reviews\"] = airbnb_pd.number_of_reviews.astype(int)\n",
      "<ipython-input-15-a8ec1c88f09f>:23: DeprecationWarning: In a future version, `df.iloc[:, i] = newvals` will attempt to set the values inplace instead of always setting a new array. To retain the old behavior, use either `df[df.columns[i]] = newvals` or, if columns are non-unique, `df.isetitem(i, newvals)`\n",
      "  airbnb_pd.loc[:,\"minimum_nights\"] = airbnb_pd.minimum_nights.astype(int)\n",
      "\n",
      " 95%|█████████▍| 55/58 [00:14<00:01,  2.65it/s]\u001b[A"
     ]
    },
    {
     "name": "stdout",
     "output_type": "stream",
     "text": [
      "train_noise_5.csv_cleaned_curatorMerge.csv\n"
     ]
    },
    {
     "name": "stderr",
     "output_type": "stream",
     "text": [
      "<ipython-input-15-a8ec1c88f09f>:22: DeprecationWarning: In a future version, `df.iloc[:, i] = newvals` will attempt to set the values inplace instead of always setting a new array. To retain the old behavior, use either `df[df.columns[i]] = newvals` or, if columns are non-unique, `df.isetitem(i, newvals)`\n",
      "  airbnb_pd.loc[:,\"number_of_reviews\"] = airbnb_pd.number_of_reviews.astype(int)\n",
      "<ipython-input-15-a8ec1c88f09f>:23: DeprecationWarning: In a future version, `df.iloc[:, i] = newvals` will attempt to set the values inplace instead of always setting a new array. To retain the old behavior, use either `df[df.columns[i]] = newvals` or, if columns are non-unique, `df.isetitem(i, newvals)`\n",
      "  airbnb_pd.loc[:,\"minimum_nights\"] = airbnb_pd.minimum_nights.astype(int)\n",
      "\n",
      " 97%|█████████▋| 56/58 [00:15<00:00,  2.69it/s]\u001b[A"
     ]
    },
    {
     "name": "stdout",
     "output_type": "stream",
     "text": [
      "train_noise_35.csv_cleaned_curatorMerge.csv\n"
     ]
    },
    {
     "name": "stderr",
     "output_type": "stream",
     "text": [
      "<ipython-input-15-a8ec1c88f09f>:22: DeprecationWarning: In a future version, `df.iloc[:, i] = newvals` will attempt to set the values inplace instead of always setting a new array. To retain the old behavior, use either `df[df.columns[i]] = newvals` or, if columns are non-unique, `df.isetitem(i, newvals)`\n",
      "  airbnb_pd.loc[:,\"number_of_reviews\"] = airbnb_pd.number_of_reviews.astype(int)\n",
      "<ipython-input-15-a8ec1c88f09f>:23: DeprecationWarning: In a future version, `df.iloc[:, i] = newvals` will attempt to set the values inplace instead of always setting a new array. To retain the old behavior, use either `df[df.columns[i]] = newvals` or, if columns are non-unique, `df.isetitem(i, newvals)`\n",
      "  airbnb_pd.loc[:,\"minimum_nights\"] = airbnb_pd.minimum_nights.astype(int)\n",
      "\n",
      " 98%|█████████▊| 57/58 [00:15<00:00,  2.77it/s]\u001b[A"
     ]
    },
    {
     "name": "stdout",
     "output_type": "stream",
     "text": [
      "train_noise_20.csv_cleaned_curatorMerge.csv\n"
     ]
    },
    {
     "name": "stderr",
     "output_type": "stream",
     "text": [
      "<ipython-input-15-a8ec1c88f09f>:22: DeprecationWarning: In a future version, `df.iloc[:, i] = newvals` will attempt to set the values inplace instead of always setting a new array. To retain the old behavior, use either `df[df.columns[i]] = newvals` or, if columns are non-unique, `df.isetitem(i, newvals)`\n",
      "  airbnb_pd.loc[:,\"number_of_reviews\"] = airbnb_pd.number_of_reviews.astype(int)\n",
      "<ipython-input-15-a8ec1c88f09f>:23: DeprecationWarning: In a future version, `df.iloc[:, i] = newvals` will attempt to set the values inplace instead of always setting a new array. To retain the old behavior, use either `df[df.columns[i]] = newvals` or, if columns are non-unique, `df.isetitem(i, newvals)`\n",
      "  airbnb_pd.loc[:,\"minimum_nights\"] = airbnb_pd.minimum_nights.astype(int)\n",
      "\n",
      "100%|██████████| 58/58 [00:15<00:00,  3.63it/s]\n",
      " 40%|████      | 4/10 [01:06<01:37, 16.32s/it]\n",
      "  0%|          | 0/58 [00:00<?, ?it/s]\u001b[A"
     ]
    },
    {
     "name": "stdout",
     "output_type": "stream",
     "text": [
      "train_noise_40.csv_cleaned_baseline.csv\n",
      "train_noise_25.csv_cleaned_baseline.csv\n"
     ]
    },
    {
     "name": "stderr",
     "output_type": "stream",
     "text": [
      "\n",
      " 21%|██        | 12/58 [00:00<00:01, 28.04it/s]\u001b[A"
     ]
    },
    {
     "name": "stdout",
     "output_type": "stream",
     "text": [
      "train_noise_15.csv_cleaned_baseline.csv\n",
      "train_noise_30.csv_cleaned_baseline.csv\n",
      "train_noise_5.csv_cleaned_baseline.csv\n"
     ]
    },
    {
     "name": "stderr",
     "output_type": "stream",
     "text": [
      "\n",
      " 26%|██▌       | 15/58 [00:01<00:04,  8.93it/s]\u001b[A"
     ]
    },
    {
     "name": "stdout",
     "output_type": "stream",
     "text": [
      "train_noise_10.csv_cleaned_baseline.csv\n",
      "train_noise_20.csv_cleaned_baseline.csv\n"
     ]
    },
    {
     "name": "stderr",
     "output_type": "stream",
     "text": [
      "\n",
      " 29%|██▉       | 17/58 [00:01<00:05,  6.91it/s]\u001b[A"
     ]
    },
    {
     "name": "stdout",
     "output_type": "stream",
     "text": [
      "train_noise_35.csv_cleaned_baseline.csv\n"
     ]
    },
    {
     "name": "stderr",
     "output_type": "stream",
     "text": [
      "\n",
      " 31%|███       | 18/58 [00:02<00:06,  6.09it/s]\u001b[A"
     ]
    },
    {
     "name": "stdout",
     "output_type": "stream",
     "text": [
      "train_noise_40.csv_cleaned_baselineAverage.csv\n"
     ]
    },
    {
     "name": "stderr",
     "output_type": "stream",
     "text": [
      "\n",
      " 33%|███▎      | 19/58 [00:02<00:07,  5.09it/s]\u001b[A"
     ]
    },
    {
     "name": "stdout",
     "output_type": "stream",
     "text": [
      "train_noise_30.csv_cleaned_baselineAverage.csv\n"
     ]
    },
    {
     "name": "stderr",
     "output_type": "stream",
     "text": [
      "\n",
      " 34%|███▍      | 20/58 [00:03<00:08,  4.40it/s]\u001b[A"
     ]
    },
    {
     "name": "stdout",
     "output_type": "stream",
     "text": [
      "train_noise_15.csv_cleaned_baselineAverage.csv\n"
     ]
    },
    {
     "name": "stderr",
     "output_type": "stream",
     "text": [
      "\n",
      " 36%|███▌      | 21/58 [00:03<00:10,  3.61it/s]\u001b[A"
     ]
    },
    {
     "name": "stdout",
     "output_type": "stream",
     "text": [
      "train_noise_5.csv_cleaned_baselineAverage.csv\n"
     ]
    },
    {
     "name": "stderr",
     "output_type": "stream",
     "text": [
      "\n",
      " 38%|███▊      | 22/58 [00:03<00:11,  3.27it/s]\u001b[A"
     ]
    },
    {
     "name": "stdout",
     "output_type": "stream",
     "text": [
      "train_noise_10.csv_cleaned_baselineAverage.csv\n"
     ]
    },
    {
     "name": "stderr",
     "output_type": "stream",
     "text": [
      "\n",
      " 40%|███▉      | 23/58 [00:04<00:11,  3.12it/s]\u001b[A"
     ]
    },
    {
     "name": "stdout",
     "output_type": "stream",
     "text": [
      "train_noise_25.csv_cleaned_baselineAverage.csv\n"
     ]
    },
    {
     "name": "stderr",
     "output_type": "stream",
     "text": [
      "\n",
      " 41%|████▏     | 24/58 [00:04<00:12,  2.80it/s]\u001b[A"
     ]
    },
    {
     "name": "stdout",
     "output_type": "stream",
     "text": [
      "train_noise_20.csv_cleaned_baselineAverage.csv\n"
     ]
    },
    {
     "name": "stderr",
     "output_type": "stream",
     "text": [
      "\n",
      " 43%|████▎     | 25/58 [00:05<00:12,  2.71it/s]\u001b[A"
     ]
    },
    {
     "name": "stdout",
     "output_type": "stream",
     "text": [
      "train_noise_35.csv_cleaned_baselineAverage.csv\n"
     ]
    },
    {
     "name": "stderr",
     "output_type": "stream",
     "text": [
      "\n",
      " 45%|████▍     | 26/58 [00:05<00:11,  2.76it/s]\u001b[A"
     ]
    },
    {
     "name": "stdout",
     "output_type": "stream",
     "text": [
      "train_noise_30.csv_cleaned_curatorC1.csv\n"
     ]
    },
    {
     "name": "stderr",
     "output_type": "stream",
     "text": [
      "<ipython-input-15-a8ec1c88f09f>:22: DeprecationWarning: In a future version, `df.iloc[:, i] = newvals` will attempt to set the values inplace instead of always setting a new array. To retain the old behavior, use either `df[df.columns[i]] = newvals` or, if columns are non-unique, `df.isetitem(i, newvals)`\n",
      "  airbnb_pd.loc[:,\"number_of_reviews\"] = airbnb_pd.number_of_reviews.astype(int)\n",
      "<ipython-input-15-a8ec1c88f09f>:23: DeprecationWarning: In a future version, `df.iloc[:, i] = newvals` will attempt to set the values inplace instead of always setting a new array. To retain the old behavior, use either `df[df.columns[i]] = newvals` or, if columns are non-unique, `df.isetitem(i, newvals)`\n",
      "  airbnb_pd.loc[:,\"minimum_nights\"] = airbnb_pd.minimum_nights.astype(int)\n",
      "\n",
      " 47%|████▋     | 27/58 [00:05<00:11,  2.80it/s]\u001b[A"
     ]
    },
    {
     "name": "stdout",
     "output_type": "stream",
     "text": [
      "train_noise_40.csv_cleaned_curatorC1.csv\n"
     ]
    },
    {
     "name": "stderr",
     "output_type": "stream",
     "text": [
      "<ipython-input-15-a8ec1c88f09f>:22: DeprecationWarning: In a future version, `df.iloc[:, i] = newvals` will attempt to set the values inplace instead of always setting a new array. To retain the old behavior, use either `df[df.columns[i]] = newvals` or, if columns are non-unique, `df.isetitem(i, newvals)`\n",
      "  airbnb_pd.loc[:,\"number_of_reviews\"] = airbnb_pd.number_of_reviews.astype(int)\n",
      "<ipython-input-15-a8ec1c88f09f>:23: DeprecationWarning: In a future version, `df.iloc[:, i] = newvals` will attempt to set the values inplace instead of always setting a new array. To retain the old behavior, use either `df[df.columns[i]] = newvals` or, if columns are non-unique, `df.isetitem(i, newvals)`\n",
      "  airbnb_pd.loc[:,\"minimum_nights\"] = airbnb_pd.minimum_nights.astype(int)\n",
      "\n",
      " 48%|████▊     | 28/58 [00:06<00:09,  3.02it/s]\u001b[A"
     ]
    },
    {
     "name": "stdout",
     "output_type": "stream",
     "text": [
      "train_noise_25.csv_cleaned_curatorC1.csv\n"
     ]
    },
    {
     "name": "stderr",
     "output_type": "stream",
     "text": [
      "<ipython-input-15-a8ec1c88f09f>:22: DeprecationWarning: In a future version, `df.iloc[:, i] = newvals` will attempt to set the values inplace instead of always setting a new array. To retain the old behavior, use either `df[df.columns[i]] = newvals` or, if columns are non-unique, `df.isetitem(i, newvals)`\n",
      "  airbnb_pd.loc[:,\"number_of_reviews\"] = airbnb_pd.number_of_reviews.astype(int)\n",
      "<ipython-input-15-a8ec1c88f09f>:23: DeprecationWarning: In a future version, `df.iloc[:, i] = newvals` will attempt to set the values inplace instead of always setting a new array. To retain the old behavior, use either `df[df.columns[i]] = newvals` or, if columns are non-unique, `df.isetitem(i, newvals)`\n",
      "  airbnb_pd.loc[:,\"minimum_nights\"] = airbnb_pd.minimum_nights.astype(int)\n",
      "\n",
      " 50%|█████     | 29/58 [00:06<00:09,  3.13it/s]\u001b[A"
     ]
    },
    {
     "name": "stdout",
     "output_type": "stream",
     "text": [
      "train_noise_15.csv_cleaned_curatorC1.csv\n"
     ]
    },
    {
     "name": "stderr",
     "output_type": "stream",
     "text": [
      "<ipython-input-15-a8ec1c88f09f>:22: DeprecationWarning: In a future version, `df.iloc[:, i] = newvals` will attempt to set the values inplace instead of always setting a new array. To retain the old behavior, use either `df[df.columns[i]] = newvals` or, if columns are non-unique, `df.isetitem(i, newvals)`\n",
      "  airbnb_pd.loc[:,\"number_of_reviews\"] = airbnb_pd.number_of_reviews.astype(int)\n",
      "<ipython-input-15-a8ec1c88f09f>:23: DeprecationWarning: In a future version, `df.iloc[:, i] = newvals` will attempt to set the values inplace instead of always setting a new array. To retain the old behavior, use either `df[df.columns[i]] = newvals` or, if columns are non-unique, `df.isetitem(i, newvals)`\n",
      "  airbnb_pd.loc[:,\"minimum_nights\"] = airbnb_pd.minimum_nights.astype(int)\n",
      "\n",
      " 52%|█████▏    | 30/58 [00:06<00:08,  3.19it/s]\u001b[A"
     ]
    },
    {
     "name": "stdout",
     "output_type": "stream",
     "text": [
      "train_noise_5.csv_cleaned_curatorC1.csv\n"
     ]
    },
    {
     "name": "stderr",
     "output_type": "stream",
     "text": [
      "<ipython-input-15-a8ec1c88f09f>:22: DeprecationWarning: In a future version, `df.iloc[:, i] = newvals` will attempt to set the values inplace instead of always setting a new array. To retain the old behavior, use either `df[df.columns[i]] = newvals` or, if columns are non-unique, `df.isetitem(i, newvals)`\n",
      "  airbnb_pd.loc[:,\"number_of_reviews\"] = airbnb_pd.number_of_reviews.astype(int)\n",
      "<ipython-input-15-a8ec1c88f09f>:23: DeprecationWarning: In a future version, `df.iloc[:, i] = newvals` will attempt to set the values inplace instead of always setting a new array. To retain the old behavior, use either `df[df.columns[i]] = newvals` or, if columns are non-unique, `df.isetitem(i, newvals)`\n",
      "  airbnb_pd.loc[:,\"minimum_nights\"] = airbnb_pd.minimum_nights.astype(int)\n",
      "\n",
      " 53%|█████▎    | 31/58 [00:07<00:08,  3.10it/s]\u001b[A"
     ]
    },
    {
     "name": "stdout",
     "output_type": "stream",
     "text": [
      "train_noise_10.csv_cleaned_curatorC1.csv\n"
     ]
    },
    {
     "name": "stderr",
     "output_type": "stream",
     "text": [
      "<ipython-input-15-a8ec1c88f09f>:22: DeprecationWarning: In a future version, `df.iloc[:, i] = newvals` will attempt to set the values inplace instead of always setting a new array. To retain the old behavior, use either `df[df.columns[i]] = newvals` or, if columns are non-unique, `df.isetitem(i, newvals)`\n",
      "  airbnb_pd.loc[:,\"number_of_reviews\"] = airbnb_pd.number_of_reviews.astype(int)\n",
      "<ipython-input-15-a8ec1c88f09f>:23: DeprecationWarning: In a future version, `df.iloc[:, i] = newvals` will attempt to set the values inplace instead of always setting a new array. To retain the old behavior, use either `df[df.columns[i]] = newvals` or, if columns are non-unique, `df.isetitem(i, newvals)`\n",
      "  airbnb_pd.loc[:,\"minimum_nights\"] = airbnb_pd.minimum_nights.astype(int)\n",
      "\n",
      " 55%|█████▌    | 32/58 [00:07<00:08,  3.16it/s]\u001b[A"
     ]
    },
    {
     "name": "stdout",
     "output_type": "stream",
     "text": [
      "train_noise_35.csv_cleaned_curatorC1.csv\n"
     ]
    },
    {
     "name": "stderr",
     "output_type": "stream",
     "text": [
      "<ipython-input-15-a8ec1c88f09f>:22: DeprecationWarning: In a future version, `df.iloc[:, i] = newvals` will attempt to set the values inplace instead of always setting a new array. To retain the old behavior, use either `df[df.columns[i]] = newvals` or, if columns are non-unique, `df.isetitem(i, newvals)`\n",
      "  airbnb_pd.loc[:,\"number_of_reviews\"] = airbnb_pd.number_of_reviews.astype(int)\n",
      "<ipython-input-15-a8ec1c88f09f>:23: DeprecationWarning: In a future version, `df.iloc[:, i] = newvals` will attempt to set the values inplace instead of always setting a new array. To retain the old behavior, use either `df[df.columns[i]] = newvals` or, if columns are non-unique, `df.isetitem(i, newvals)`\n",
      "  airbnb_pd.loc[:,\"minimum_nights\"] = airbnb_pd.minimum_nights.astype(int)\n",
      "\n",
      " 57%|█████▋    | 33/58 [00:07<00:07,  3.14it/s]\u001b[A"
     ]
    },
    {
     "name": "stdout",
     "output_type": "stream",
     "text": [
      "train_noise_20.csv_cleaned_curatorC1.csv\n"
     ]
    },
    {
     "name": "stderr",
     "output_type": "stream",
     "text": [
      "<ipython-input-15-a8ec1c88f09f>:22: DeprecationWarning: In a future version, `df.iloc[:, i] = newvals` will attempt to set the values inplace instead of always setting a new array. To retain the old behavior, use either `df[df.columns[i]] = newvals` or, if columns are non-unique, `df.isetitem(i, newvals)`\n",
      "  airbnb_pd.loc[:,\"number_of_reviews\"] = airbnb_pd.number_of_reviews.astype(int)\n",
      "<ipython-input-15-a8ec1c88f09f>:23: DeprecationWarning: In a future version, `df.iloc[:, i] = newvals` will attempt to set the values inplace instead of always setting a new array. To retain the old behavior, use either `df[df.columns[i]] = newvals` or, if columns are non-unique, `df.isetitem(i, newvals)`\n",
      "  airbnb_pd.loc[:,\"minimum_nights\"] = airbnb_pd.minimum_nights.astype(int)\n",
      "\n",
      " 59%|█████▊    | 34/58 [00:07<00:07,  3.10it/s]\u001b[A"
     ]
    },
    {
     "name": "stdout",
     "output_type": "stream",
     "text": [
      "train_noise_40.csv_cleaned_curatorC2.csv\n"
     ]
    },
    {
     "name": "stderr",
     "output_type": "stream",
     "text": [
      "<ipython-input-15-a8ec1c88f09f>:20: DeprecationWarning: In a future version, `df.iloc[:, i] = newvals` will attempt to set the values inplace instead of always setting a new array. To retain the old behavior, use either `df[df.columns[i]] = newvals` or, if columns are non-unique, `df.isetitem(i, newvals)`\n",
      "  airbnb_pd.loc[:,\"latitude\"] = airbnb_pd.latitude.astype(float)\n",
      "<ipython-input-15-a8ec1c88f09f>:21: DeprecationWarning: In a future version, `df.iloc[:, i] = newvals` will attempt to set the values inplace instead of always setting a new array. To retain the old behavior, use either `df[df.columns[i]] = newvals` or, if columns are non-unique, `df.isetitem(i, newvals)`\n",
      "  airbnb_pd.loc[:,\"longitude\"] = airbnb_pd.longitude.astype(float)\n",
      "<ipython-input-15-a8ec1c88f09f>:22: DeprecationWarning: In a future version, `df.iloc[:, i] = newvals` will attempt to set the values inplace instead of always setting a new array. To retain the old behavior, use either `df[df.columns[i]] = newvals` or, if columns are non-unique, `df.isetitem(i, newvals)`\n",
      "  airbnb_pd.loc[:,\"number_of_reviews\"] = airbnb_pd.number_of_reviews.astype(int)\n",
      "<ipython-input-15-a8ec1c88f09f>:23: DeprecationWarning: In a future version, `df.iloc[:, i] = newvals` will attempt to set the values inplace instead of always setting a new array. To retain the old behavior, use either `df[df.columns[i]] = newvals` or, if columns are non-unique, `df.isetitem(i, newvals)`\n",
      "  airbnb_pd.loc[:,\"minimum_nights\"] = airbnb_pd.minimum_nights.astype(int)\n",
      "\n",
      " 60%|██████    | 35/58 [00:08<00:07,  3.14it/s]\u001b[A"
     ]
    },
    {
     "name": "stdout",
     "output_type": "stream",
     "text": [
      "train_noise_30.csv_cleaned_curatorC2.csv\n"
     ]
    },
    {
     "name": "stderr",
     "output_type": "stream",
     "text": [
      "<ipython-input-15-a8ec1c88f09f>:20: DeprecationWarning: In a future version, `df.iloc[:, i] = newvals` will attempt to set the values inplace instead of always setting a new array. To retain the old behavior, use either `df[df.columns[i]] = newvals` or, if columns are non-unique, `df.isetitem(i, newvals)`\n",
      "  airbnb_pd.loc[:,\"latitude\"] = airbnb_pd.latitude.astype(float)\n",
      "<ipython-input-15-a8ec1c88f09f>:21: DeprecationWarning: In a future version, `df.iloc[:, i] = newvals` will attempt to set the values inplace instead of always setting a new array. To retain the old behavior, use either `df[df.columns[i]] = newvals` or, if columns are non-unique, `df.isetitem(i, newvals)`\n",
      "  airbnb_pd.loc[:,\"longitude\"] = airbnb_pd.longitude.astype(float)\n",
      "<ipython-input-15-a8ec1c88f09f>:22: DeprecationWarning: In a future version, `df.iloc[:, i] = newvals` will attempt to set the values inplace instead of always setting a new array. To retain the old behavior, use either `df[df.columns[i]] = newvals` or, if columns are non-unique, `df.isetitem(i, newvals)`\n",
      "  airbnb_pd.loc[:,\"number_of_reviews\"] = airbnb_pd.number_of_reviews.astype(int)\n",
      "<ipython-input-15-a8ec1c88f09f>:23: DeprecationWarning: In a future version, `df.iloc[:, i] = newvals` will attempt to set the values inplace instead of always setting a new array. To retain the old behavior, use either `df[df.columns[i]] = newvals` or, if columns are non-unique, `df.isetitem(i, newvals)`\n",
      "  airbnb_pd.loc[:,\"minimum_nights\"] = airbnb_pd.minimum_nights.astype(int)\n",
      "\n",
      " 62%|██████▏   | 36/58 [00:08<00:07,  2.91it/s]\u001b[A"
     ]
    },
    {
     "name": "stdout",
     "output_type": "stream",
     "text": [
      "train_noise_15.csv_cleaned_curatorC2.csv\n"
     ]
    },
    {
     "name": "stderr",
     "output_type": "stream",
     "text": [
      "<ipython-input-15-a8ec1c88f09f>:20: DeprecationWarning: In a future version, `df.iloc[:, i] = newvals` will attempt to set the values inplace instead of always setting a new array. To retain the old behavior, use either `df[df.columns[i]] = newvals` or, if columns are non-unique, `df.isetitem(i, newvals)`\n",
      "  airbnb_pd.loc[:,\"latitude\"] = airbnb_pd.latitude.astype(float)\n",
      "<ipython-input-15-a8ec1c88f09f>:21: DeprecationWarning: In a future version, `df.iloc[:, i] = newvals` will attempt to set the values inplace instead of always setting a new array. To retain the old behavior, use either `df[df.columns[i]] = newvals` or, if columns are non-unique, `df.isetitem(i, newvals)`\n",
      "  airbnb_pd.loc[:,\"longitude\"] = airbnb_pd.longitude.astype(float)\n",
      "<ipython-input-15-a8ec1c88f09f>:22: DeprecationWarning: In a future version, `df.iloc[:, i] = newvals` will attempt to set the values inplace instead of always setting a new array. To retain the old behavior, use either `df[df.columns[i]] = newvals` or, if columns are non-unique, `df.isetitem(i, newvals)`\n",
      "  airbnb_pd.loc[:,\"number_of_reviews\"] = airbnb_pd.number_of_reviews.astype(int)\n",
      "<ipython-input-15-a8ec1c88f09f>:23: DeprecationWarning: In a future version, `df.iloc[:, i] = newvals` will attempt to set the values inplace instead of always setting a new array. To retain the old behavior, use either `df[df.columns[i]] = newvals` or, if columns are non-unique, `df.isetitem(i, newvals)`\n",
      "  airbnb_pd.loc[:,\"minimum_nights\"] = airbnb_pd.minimum_nights.astype(int)\n",
      "\n",
      " 64%|██████▍   | 37/58 [00:08<00:06,  3.01it/s]\u001b[A"
     ]
    },
    {
     "name": "stdout",
     "output_type": "stream",
     "text": [
      "train_noise_25.csv_cleaned_curatorC2.csv\n"
     ]
    },
    {
     "name": "stderr",
     "output_type": "stream",
     "text": [
      "<ipython-input-15-a8ec1c88f09f>:20: DeprecationWarning: In a future version, `df.iloc[:, i] = newvals` will attempt to set the values inplace instead of always setting a new array. To retain the old behavior, use either `df[df.columns[i]] = newvals` or, if columns are non-unique, `df.isetitem(i, newvals)`\n",
      "  airbnb_pd.loc[:,\"latitude\"] = airbnb_pd.latitude.astype(float)\n",
      "<ipython-input-15-a8ec1c88f09f>:21: DeprecationWarning: In a future version, `df.iloc[:, i] = newvals` will attempt to set the values inplace instead of always setting a new array. To retain the old behavior, use either `df[df.columns[i]] = newvals` or, if columns are non-unique, `df.isetitem(i, newvals)`\n",
      "  airbnb_pd.loc[:,\"longitude\"] = airbnb_pd.longitude.astype(float)\n",
      "<ipython-input-15-a8ec1c88f09f>:22: DeprecationWarning: In a future version, `df.iloc[:, i] = newvals` will attempt to set the values inplace instead of always setting a new array. To retain the old behavior, use either `df[df.columns[i]] = newvals` or, if columns are non-unique, `df.isetitem(i, newvals)`\n",
      "  airbnb_pd.loc[:,\"number_of_reviews\"] = airbnb_pd.number_of_reviews.astype(int)\n",
      "<ipython-input-15-a8ec1c88f09f>:23: DeprecationWarning: In a future version, `df.iloc[:, i] = newvals` will attempt to set the values inplace instead of always setting a new array. To retain the old behavior, use either `df[df.columns[i]] = newvals` or, if columns are non-unique, `df.isetitem(i, newvals)`\n",
      "  airbnb_pd.loc[:,\"minimum_nights\"] = airbnb_pd.minimum_nights.astype(int)\n",
      "\n",
      " 66%|██████▌   | 38/58 [00:09<00:06,  3.01it/s]\u001b[A"
     ]
    },
    {
     "name": "stdout",
     "output_type": "stream",
     "text": [
      "train_noise_10.csv_cleaned_curatorC2.csv\n"
     ]
    },
    {
     "name": "stderr",
     "output_type": "stream",
     "text": [
      "<ipython-input-15-a8ec1c88f09f>:20: DeprecationWarning: In a future version, `df.iloc[:, i] = newvals` will attempt to set the values inplace instead of always setting a new array. To retain the old behavior, use either `df[df.columns[i]] = newvals` or, if columns are non-unique, `df.isetitem(i, newvals)`\n",
      "  airbnb_pd.loc[:,\"latitude\"] = airbnb_pd.latitude.astype(float)\n",
      "<ipython-input-15-a8ec1c88f09f>:21: DeprecationWarning: In a future version, `df.iloc[:, i] = newvals` will attempt to set the values inplace instead of always setting a new array. To retain the old behavior, use either `df[df.columns[i]] = newvals` or, if columns are non-unique, `df.isetitem(i, newvals)`\n",
      "  airbnb_pd.loc[:,\"longitude\"] = airbnb_pd.longitude.astype(float)\n",
      "<ipython-input-15-a8ec1c88f09f>:22: DeprecationWarning: In a future version, `df.iloc[:, i] = newvals` will attempt to set the values inplace instead of always setting a new array. To retain the old behavior, use either `df[df.columns[i]] = newvals` or, if columns are non-unique, `df.isetitem(i, newvals)`\n",
      "  airbnb_pd.loc[:,\"number_of_reviews\"] = airbnb_pd.number_of_reviews.astype(int)\n",
      "<ipython-input-15-a8ec1c88f09f>:23: DeprecationWarning: In a future version, `df.iloc[:, i] = newvals` will attempt to set the values inplace instead of always setting a new array. To retain the old behavior, use either `df[df.columns[i]] = newvals` or, if columns are non-unique, `df.isetitem(i, newvals)`\n",
      "  airbnb_pd.loc[:,\"minimum_nights\"] = airbnb_pd.minimum_nights.astype(int)\n",
      "\n",
      " 67%|██████▋   | 39/58 [00:09<00:06,  3.05it/s]\u001b[A"
     ]
    },
    {
     "name": "stdout",
     "output_type": "stream",
     "text": [
      "train_noise_5.csv_cleaned_curatorC2.csv\n"
     ]
    },
    {
     "name": "stderr",
     "output_type": "stream",
     "text": [
      "<ipython-input-15-a8ec1c88f09f>:20: DeprecationWarning: In a future version, `df.iloc[:, i] = newvals` will attempt to set the values inplace instead of always setting a new array. To retain the old behavior, use either `df[df.columns[i]] = newvals` or, if columns are non-unique, `df.isetitem(i, newvals)`\n",
      "  airbnb_pd.loc[:,\"latitude\"] = airbnb_pd.latitude.astype(float)\n",
      "<ipython-input-15-a8ec1c88f09f>:21: DeprecationWarning: In a future version, `df.iloc[:, i] = newvals` will attempt to set the values inplace instead of always setting a new array. To retain the old behavior, use either `df[df.columns[i]] = newvals` or, if columns are non-unique, `df.isetitem(i, newvals)`\n",
      "  airbnb_pd.loc[:,\"longitude\"] = airbnb_pd.longitude.astype(float)\n",
      "<ipython-input-15-a8ec1c88f09f>:22: DeprecationWarning: In a future version, `df.iloc[:, i] = newvals` will attempt to set the values inplace instead of always setting a new array. To retain the old behavior, use either `df[df.columns[i]] = newvals` or, if columns are non-unique, `df.isetitem(i, newvals)`\n",
      "  airbnb_pd.loc[:,\"number_of_reviews\"] = airbnb_pd.number_of_reviews.astype(int)\n",
      "<ipython-input-15-a8ec1c88f09f>:23: DeprecationWarning: In a future version, `df.iloc[:, i] = newvals` will attempt to set the values inplace instead of always setting a new array. To retain the old behavior, use either `df[df.columns[i]] = newvals` or, if columns are non-unique, `df.isetitem(i, newvals)`\n",
      "  airbnb_pd.loc[:,\"minimum_nights\"] = airbnb_pd.minimum_nights.astype(int)\n",
      "\n",
      " 69%|██████▉   | 40/58 [00:09<00:05,  3.10it/s]\u001b[A"
     ]
    },
    {
     "name": "stdout",
     "output_type": "stream",
     "text": [
      "train_noise_35.csv_cleaned_curatorC2.csv\n"
     ]
    },
    {
     "name": "stderr",
     "output_type": "stream",
     "text": [
      "<ipython-input-15-a8ec1c88f09f>:20: DeprecationWarning: In a future version, `df.iloc[:, i] = newvals` will attempt to set the values inplace instead of always setting a new array. To retain the old behavior, use either `df[df.columns[i]] = newvals` or, if columns are non-unique, `df.isetitem(i, newvals)`\n",
      "  airbnb_pd.loc[:,\"latitude\"] = airbnb_pd.latitude.astype(float)\n",
      "<ipython-input-15-a8ec1c88f09f>:21: DeprecationWarning: In a future version, `df.iloc[:, i] = newvals` will attempt to set the values inplace instead of always setting a new array. To retain the old behavior, use either `df[df.columns[i]] = newvals` or, if columns are non-unique, `df.isetitem(i, newvals)`\n",
      "  airbnb_pd.loc[:,\"longitude\"] = airbnb_pd.longitude.astype(float)\n",
      "<ipython-input-15-a8ec1c88f09f>:22: DeprecationWarning: In a future version, `df.iloc[:, i] = newvals` will attempt to set the values inplace instead of always setting a new array. To retain the old behavior, use either `df[df.columns[i]] = newvals` or, if columns are non-unique, `df.isetitem(i, newvals)`\n",
      "  airbnb_pd.loc[:,\"number_of_reviews\"] = airbnb_pd.number_of_reviews.astype(int)\n",
      "<ipython-input-15-a8ec1c88f09f>:23: DeprecationWarning: In a future version, `df.iloc[:, i] = newvals` will attempt to set the values inplace instead of always setting a new array. To retain the old behavior, use either `df[df.columns[i]] = newvals` or, if columns are non-unique, `df.isetitem(i, newvals)`\n",
      "  airbnb_pd.loc[:,\"minimum_nights\"] = airbnb_pd.minimum_nights.astype(int)\n",
      "\n",
      " 71%|███████   | 41/58 [00:10<00:05,  3.12it/s]\u001b[A"
     ]
    },
    {
     "name": "stdout",
     "output_type": "stream",
     "text": [
      "train_noise_20.csv_cleaned_curatorC2.csv\n"
     ]
    },
    {
     "name": "stderr",
     "output_type": "stream",
     "text": [
      "<ipython-input-15-a8ec1c88f09f>:20: DeprecationWarning: In a future version, `df.iloc[:, i] = newvals` will attempt to set the values inplace instead of always setting a new array. To retain the old behavior, use either `df[df.columns[i]] = newvals` or, if columns are non-unique, `df.isetitem(i, newvals)`\n",
      "  airbnb_pd.loc[:,\"latitude\"] = airbnb_pd.latitude.astype(float)\n",
      "<ipython-input-15-a8ec1c88f09f>:21: DeprecationWarning: In a future version, `df.iloc[:, i] = newvals` will attempt to set the values inplace instead of always setting a new array. To retain the old behavior, use either `df[df.columns[i]] = newvals` or, if columns are non-unique, `df.isetitem(i, newvals)`\n",
      "  airbnb_pd.loc[:,\"longitude\"] = airbnb_pd.longitude.astype(float)\n",
      "<ipython-input-15-a8ec1c88f09f>:22: DeprecationWarning: In a future version, `df.iloc[:, i] = newvals` will attempt to set the values inplace instead of always setting a new array. To retain the old behavior, use either `df[df.columns[i]] = newvals` or, if columns are non-unique, `df.isetitem(i, newvals)`\n",
      "  airbnb_pd.loc[:,\"number_of_reviews\"] = airbnb_pd.number_of_reviews.astype(int)\n",
      "<ipython-input-15-a8ec1c88f09f>:23: DeprecationWarning: In a future version, `df.iloc[:, i] = newvals` will attempt to set the values inplace instead of always setting a new array. To retain the old behavior, use either `df[df.columns[i]] = newvals` or, if columns are non-unique, `df.isetitem(i, newvals)`\n",
      "  airbnb_pd.loc[:,\"minimum_nights\"] = airbnb_pd.minimum_nights.astype(int)\n",
      "\n",
      " 72%|███████▏  | 42/58 [00:10<00:05,  3.14it/s]\u001b[A"
     ]
    },
    {
     "name": "stdout",
     "output_type": "stream",
     "text": [
      "train_noise_40.csv_cleaned_curatorC3.csv\n"
     ]
    },
    {
     "name": "stderr",
     "output_type": "stream",
     "text": [
      "<ipython-input-15-a8ec1c88f09f>:20: DeprecationWarning: In a future version, `df.iloc[:, i] = newvals` will attempt to set the values inplace instead of always setting a new array. To retain the old behavior, use either `df[df.columns[i]] = newvals` or, if columns are non-unique, `df.isetitem(i, newvals)`\n",
      "  airbnb_pd.loc[:,\"latitude\"] = airbnb_pd.latitude.astype(float)\n",
      "<ipython-input-15-a8ec1c88f09f>:21: DeprecationWarning: In a future version, `df.iloc[:, i] = newvals` will attempt to set the values inplace instead of always setting a new array. To retain the old behavior, use either `df[df.columns[i]] = newvals` or, if columns are non-unique, `df.isetitem(i, newvals)`\n",
      "  airbnb_pd.loc[:,\"longitude\"] = airbnb_pd.longitude.astype(float)\n",
      "<ipython-input-15-a8ec1c88f09f>:22: DeprecationWarning: In a future version, `df.iloc[:, i] = newvals` will attempt to set the values inplace instead of always setting a new array. To retain the old behavior, use either `df[df.columns[i]] = newvals` or, if columns are non-unique, `df.isetitem(i, newvals)`\n",
      "  airbnb_pd.loc[:,\"number_of_reviews\"] = airbnb_pd.number_of_reviews.astype(int)\n",
      "<ipython-input-15-a8ec1c88f09f>:23: DeprecationWarning: In a future version, `df.iloc[:, i] = newvals` will attempt to set the values inplace instead of always setting a new array. To retain the old behavior, use either `df[df.columns[i]] = newvals` or, if columns are non-unique, `df.isetitem(i, newvals)`\n",
      "  airbnb_pd.loc[:,\"minimum_nights\"] = airbnb_pd.minimum_nights.astype(int)\n",
      "\n",
      " 74%|███████▍  | 43/58 [00:10<00:04,  3.16it/s]\u001b[A"
     ]
    },
    {
     "name": "stdout",
     "output_type": "stream",
     "text": [
      "train_noise_30.csv_cleaned_curatorC3.csv\n"
     ]
    },
    {
     "name": "stderr",
     "output_type": "stream",
     "text": [
      "<ipython-input-15-a8ec1c88f09f>:20: DeprecationWarning: In a future version, `df.iloc[:, i] = newvals` will attempt to set the values inplace instead of always setting a new array. To retain the old behavior, use either `df[df.columns[i]] = newvals` or, if columns are non-unique, `df.isetitem(i, newvals)`\n",
      "  airbnb_pd.loc[:,\"latitude\"] = airbnb_pd.latitude.astype(float)\n",
      "<ipython-input-15-a8ec1c88f09f>:21: DeprecationWarning: In a future version, `df.iloc[:, i] = newvals` will attempt to set the values inplace instead of always setting a new array. To retain the old behavior, use either `df[df.columns[i]] = newvals` or, if columns are non-unique, `df.isetitem(i, newvals)`\n",
      "  airbnb_pd.loc[:,\"longitude\"] = airbnb_pd.longitude.astype(float)\n",
      "<ipython-input-15-a8ec1c88f09f>:22: DeprecationWarning: In a future version, `df.iloc[:, i] = newvals` will attempt to set the values inplace instead of always setting a new array. To retain the old behavior, use either `df[df.columns[i]] = newvals` or, if columns are non-unique, `df.isetitem(i, newvals)`\n",
      "  airbnb_pd.loc[:,\"number_of_reviews\"] = airbnb_pd.number_of_reviews.astype(int)\n",
      "<ipython-input-15-a8ec1c88f09f>:23: DeprecationWarning: In a future version, `df.iloc[:, i] = newvals` will attempt to set the values inplace instead of always setting a new array. To retain the old behavior, use either `df[df.columns[i]] = newvals` or, if columns are non-unique, `df.isetitem(i, newvals)`\n",
      "  airbnb_pd.loc[:,\"minimum_nights\"] = airbnb_pd.minimum_nights.astype(int)\n",
      "\n",
      " 76%|███████▌  | 44/58 [00:11<00:04,  3.13it/s]\u001b[A"
     ]
    },
    {
     "name": "stdout",
     "output_type": "stream",
     "text": [
      "train_noise_15.csv_cleaned_curatorC3.csv\n"
     ]
    },
    {
     "name": "stderr",
     "output_type": "stream",
     "text": [
      "<ipython-input-15-a8ec1c88f09f>:20: DeprecationWarning: In a future version, `df.iloc[:, i] = newvals` will attempt to set the values inplace instead of always setting a new array. To retain the old behavior, use either `df[df.columns[i]] = newvals` or, if columns are non-unique, `df.isetitem(i, newvals)`\n",
      "  airbnb_pd.loc[:,\"latitude\"] = airbnb_pd.latitude.astype(float)\n",
      "<ipython-input-15-a8ec1c88f09f>:21: DeprecationWarning: In a future version, `df.iloc[:, i] = newvals` will attempt to set the values inplace instead of always setting a new array. To retain the old behavior, use either `df[df.columns[i]] = newvals` or, if columns are non-unique, `df.isetitem(i, newvals)`\n",
      "  airbnb_pd.loc[:,\"longitude\"] = airbnb_pd.longitude.astype(float)\n",
      "<ipython-input-15-a8ec1c88f09f>:22: DeprecationWarning: In a future version, `df.iloc[:, i] = newvals` will attempt to set the values inplace instead of always setting a new array. To retain the old behavior, use either `df[df.columns[i]] = newvals` or, if columns are non-unique, `df.isetitem(i, newvals)`\n",
      "  airbnb_pd.loc[:,\"number_of_reviews\"] = airbnb_pd.number_of_reviews.astype(int)\n",
      "<ipython-input-15-a8ec1c88f09f>:23: DeprecationWarning: In a future version, `df.iloc[:, i] = newvals` will attempt to set the values inplace instead of always setting a new array. To retain the old behavior, use either `df[df.columns[i]] = newvals` or, if columns are non-unique, `df.isetitem(i, newvals)`\n",
      "  airbnb_pd.loc[:,\"minimum_nights\"] = airbnb_pd.minimum_nights.astype(int)\n",
      "\n",
      " 78%|███████▊  | 45/58 [00:11<00:04,  3.00it/s]\u001b[A"
     ]
    },
    {
     "name": "stdout",
     "output_type": "stream",
     "text": [
      "train_noise_25.csv_cleaned_curatorC3.csv\n"
     ]
    },
    {
     "name": "stderr",
     "output_type": "stream",
     "text": [
      "<ipython-input-15-a8ec1c88f09f>:20: DeprecationWarning: In a future version, `df.iloc[:, i] = newvals` will attempt to set the values inplace instead of always setting a new array. To retain the old behavior, use either `df[df.columns[i]] = newvals` or, if columns are non-unique, `df.isetitem(i, newvals)`\n",
      "  airbnb_pd.loc[:,\"latitude\"] = airbnb_pd.latitude.astype(float)\n",
      "<ipython-input-15-a8ec1c88f09f>:21: DeprecationWarning: In a future version, `df.iloc[:, i] = newvals` will attempt to set the values inplace instead of always setting a new array. To retain the old behavior, use either `df[df.columns[i]] = newvals` or, if columns are non-unique, `df.isetitem(i, newvals)`\n",
      "  airbnb_pd.loc[:,\"longitude\"] = airbnb_pd.longitude.astype(float)\n",
      "<ipython-input-15-a8ec1c88f09f>:22: DeprecationWarning: In a future version, `df.iloc[:, i] = newvals` will attempt to set the values inplace instead of always setting a new array. To retain the old behavior, use either `df[df.columns[i]] = newvals` or, if columns are non-unique, `df.isetitem(i, newvals)`\n",
      "  airbnb_pd.loc[:,\"number_of_reviews\"] = airbnb_pd.number_of_reviews.astype(int)\n",
      "<ipython-input-15-a8ec1c88f09f>:23: DeprecationWarning: In a future version, `df.iloc[:, i] = newvals` will attempt to set the values inplace instead of always setting a new array. To retain the old behavior, use either `df[df.columns[i]] = newvals` or, if columns are non-unique, `df.isetitem(i, newvals)`\n",
      "  airbnb_pd.loc[:,\"minimum_nights\"] = airbnb_pd.minimum_nights.astype(int)\n",
      "\n",
      " 79%|███████▉  | 46/58 [00:11<00:04,  2.96it/s]\u001b[A"
     ]
    },
    {
     "name": "stdout",
     "output_type": "stream",
     "text": [
      "train_noise_10.csv_cleaned_curatorC3.csv\n"
     ]
    },
    {
     "name": "stderr",
     "output_type": "stream",
     "text": [
      "<ipython-input-15-a8ec1c88f09f>:20: DeprecationWarning: In a future version, `df.iloc[:, i] = newvals` will attempt to set the values inplace instead of always setting a new array. To retain the old behavior, use either `df[df.columns[i]] = newvals` or, if columns are non-unique, `df.isetitem(i, newvals)`\n",
      "  airbnb_pd.loc[:,\"latitude\"] = airbnb_pd.latitude.astype(float)\n",
      "<ipython-input-15-a8ec1c88f09f>:21: DeprecationWarning: In a future version, `df.iloc[:, i] = newvals` will attempt to set the values inplace instead of always setting a new array. To retain the old behavior, use either `df[df.columns[i]] = newvals` or, if columns are non-unique, `df.isetitem(i, newvals)`\n",
      "  airbnb_pd.loc[:,\"longitude\"] = airbnb_pd.longitude.astype(float)\n",
      "<ipython-input-15-a8ec1c88f09f>:22: DeprecationWarning: In a future version, `df.iloc[:, i] = newvals` will attempt to set the values inplace instead of always setting a new array. To retain the old behavior, use either `df[df.columns[i]] = newvals` or, if columns are non-unique, `df.isetitem(i, newvals)`\n",
      "  airbnb_pd.loc[:,\"number_of_reviews\"] = airbnb_pd.number_of_reviews.astype(int)\n",
      "<ipython-input-15-a8ec1c88f09f>:23: DeprecationWarning: In a future version, `df.iloc[:, i] = newvals` will attempt to set the values inplace instead of always setting a new array. To retain the old behavior, use either `df[df.columns[i]] = newvals` or, if columns are non-unique, `df.isetitem(i, newvals)`\n",
      "  airbnb_pd.loc[:,\"minimum_nights\"] = airbnb_pd.minimum_nights.astype(int)\n",
      "\n",
      " 81%|████████  | 47/58 [00:12<00:03,  2.93it/s]\u001b[A"
     ]
    },
    {
     "name": "stdout",
     "output_type": "stream",
     "text": [
      "train_noise_5.csv_cleaned_curatorC3.csv\n"
     ]
    },
    {
     "name": "stderr",
     "output_type": "stream",
     "text": [
      "<ipython-input-15-a8ec1c88f09f>:20: DeprecationWarning: In a future version, `df.iloc[:, i] = newvals` will attempt to set the values inplace instead of always setting a new array. To retain the old behavior, use either `df[df.columns[i]] = newvals` or, if columns are non-unique, `df.isetitem(i, newvals)`\n",
      "  airbnb_pd.loc[:,\"latitude\"] = airbnb_pd.latitude.astype(float)\n",
      "<ipython-input-15-a8ec1c88f09f>:21: DeprecationWarning: In a future version, `df.iloc[:, i] = newvals` will attempt to set the values inplace instead of always setting a new array. To retain the old behavior, use either `df[df.columns[i]] = newvals` or, if columns are non-unique, `df.isetitem(i, newvals)`\n",
      "  airbnb_pd.loc[:,\"longitude\"] = airbnb_pd.longitude.astype(float)\n",
      "<ipython-input-15-a8ec1c88f09f>:22: DeprecationWarning: In a future version, `df.iloc[:, i] = newvals` will attempt to set the values inplace instead of always setting a new array. To retain the old behavior, use either `df[df.columns[i]] = newvals` or, if columns are non-unique, `df.isetitem(i, newvals)`\n",
      "  airbnb_pd.loc[:,\"number_of_reviews\"] = airbnb_pd.number_of_reviews.astype(int)\n",
      "<ipython-input-15-a8ec1c88f09f>:23: DeprecationWarning: In a future version, `df.iloc[:, i] = newvals` will attempt to set the values inplace instead of always setting a new array. To retain the old behavior, use either `df[df.columns[i]] = newvals` or, if columns are non-unique, `df.isetitem(i, newvals)`\n",
      "  airbnb_pd.loc[:,\"minimum_nights\"] = airbnb_pd.minimum_nights.astype(int)\n",
      "\n",
      " 83%|████████▎ | 48/58 [00:12<00:03,  2.95it/s]\u001b[A"
     ]
    },
    {
     "name": "stdout",
     "output_type": "stream",
     "text": [
      "train_noise_35.csv_cleaned_curatorC3.csv\n"
     ]
    },
    {
     "name": "stderr",
     "output_type": "stream",
     "text": [
      "<ipython-input-15-a8ec1c88f09f>:20: DeprecationWarning: In a future version, `df.iloc[:, i] = newvals` will attempt to set the values inplace instead of always setting a new array. To retain the old behavior, use either `df[df.columns[i]] = newvals` or, if columns are non-unique, `df.isetitem(i, newvals)`\n",
      "  airbnb_pd.loc[:,\"latitude\"] = airbnb_pd.latitude.astype(float)\n",
      "<ipython-input-15-a8ec1c88f09f>:21: DeprecationWarning: In a future version, `df.iloc[:, i] = newvals` will attempt to set the values inplace instead of always setting a new array. To retain the old behavior, use either `df[df.columns[i]] = newvals` or, if columns are non-unique, `df.isetitem(i, newvals)`\n",
      "  airbnb_pd.loc[:,\"longitude\"] = airbnb_pd.longitude.astype(float)\n",
      "<ipython-input-15-a8ec1c88f09f>:22: DeprecationWarning: In a future version, `df.iloc[:, i] = newvals` will attempt to set the values inplace instead of always setting a new array. To retain the old behavior, use either `df[df.columns[i]] = newvals` or, if columns are non-unique, `df.isetitem(i, newvals)`\n",
      "  airbnb_pd.loc[:,\"number_of_reviews\"] = airbnb_pd.number_of_reviews.astype(int)\n",
      "<ipython-input-15-a8ec1c88f09f>:23: DeprecationWarning: In a future version, `df.iloc[:, i] = newvals` will attempt to set the values inplace instead of always setting a new array. To retain the old behavior, use either `df[df.columns[i]] = newvals` or, if columns are non-unique, `df.isetitem(i, newvals)`\n",
      "  airbnb_pd.loc[:,\"minimum_nights\"] = airbnb_pd.minimum_nights.astype(int)\n",
      "\n",
      " 84%|████████▍ | 49/58 [00:12<00:03,  2.97it/s]\u001b[A"
     ]
    },
    {
     "name": "stdout",
     "output_type": "stream",
     "text": [
      "train_noise_20.csv_cleaned_curatorC3.csv\n"
     ]
    },
    {
     "name": "stderr",
     "output_type": "stream",
     "text": [
      "<ipython-input-15-a8ec1c88f09f>:20: DeprecationWarning: In a future version, `df.iloc[:, i] = newvals` will attempt to set the values inplace instead of always setting a new array. To retain the old behavior, use either `df[df.columns[i]] = newvals` or, if columns are non-unique, `df.isetitem(i, newvals)`\n",
      "  airbnb_pd.loc[:,\"latitude\"] = airbnb_pd.latitude.astype(float)\n",
      "<ipython-input-15-a8ec1c88f09f>:21: DeprecationWarning: In a future version, `df.iloc[:, i] = newvals` will attempt to set the values inplace instead of always setting a new array. To retain the old behavior, use either `df[df.columns[i]] = newvals` or, if columns are non-unique, `df.isetitem(i, newvals)`\n",
      "  airbnb_pd.loc[:,\"longitude\"] = airbnb_pd.longitude.astype(float)\n",
      "<ipython-input-15-a8ec1c88f09f>:22: DeprecationWarning: In a future version, `df.iloc[:, i] = newvals` will attempt to set the values inplace instead of always setting a new array. To retain the old behavior, use either `df[df.columns[i]] = newvals` or, if columns are non-unique, `df.isetitem(i, newvals)`\n",
      "  airbnb_pd.loc[:,\"number_of_reviews\"] = airbnb_pd.number_of_reviews.astype(int)\n",
      "<ipython-input-15-a8ec1c88f09f>:23: DeprecationWarning: In a future version, `df.iloc[:, i] = newvals` will attempt to set the values inplace instead of always setting a new array. To retain the old behavior, use either `df[df.columns[i]] = newvals` or, if columns are non-unique, `df.isetitem(i, newvals)`\n",
      "  airbnb_pd.loc[:,\"minimum_nights\"] = airbnb_pd.minimum_nights.astype(int)\n",
      "\n",
      " 86%|████████▌ | 50/58 [00:13<00:02,  3.14it/s]\u001b[A"
     ]
    },
    {
     "name": "stdout",
     "output_type": "stream",
     "text": [
      "train_noise_40.csv_cleaned_curatorMerge.csv\n"
     ]
    },
    {
     "name": "stderr",
     "output_type": "stream",
     "text": [
      "<ipython-input-15-a8ec1c88f09f>:22: DeprecationWarning: In a future version, `df.iloc[:, i] = newvals` will attempt to set the values inplace instead of always setting a new array. To retain the old behavior, use either `df[df.columns[i]] = newvals` or, if columns are non-unique, `df.isetitem(i, newvals)`\n",
      "  airbnb_pd.loc[:,\"number_of_reviews\"] = airbnb_pd.number_of_reviews.astype(int)\n",
      "<ipython-input-15-a8ec1c88f09f>:23: DeprecationWarning: In a future version, `df.iloc[:, i] = newvals` will attempt to set the values inplace instead of always setting a new array. To retain the old behavior, use either `df[df.columns[i]] = newvals` or, if columns are non-unique, `df.isetitem(i, newvals)`\n",
      "  airbnb_pd.loc[:,\"minimum_nights\"] = airbnb_pd.minimum_nights.astype(int)\n",
      "\n",
      " 88%|████████▊ | 51/58 [00:13<00:02,  3.18it/s]\u001b[A"
     ]
    },
    {
     "name": "stdout",
     "output_type": "stream",
     "text": [
      "train_noise_30.csv_cleaned_curatorMerge.csv\n"
     ]
    },
    {
     "name": "stderr",
     "output_type": "stream",
     "text": [
      "<ipython-input-15-a8ec1c88f09f>:22: DeprecationWarning: In a future version, `df.iloc[:, i] = newvals` will attempt to set the values inplace instead of always setting a new array. To retain the old behavior, use either `df[df.columns[i]] = newvals` or, if columns are non-unique, `df.isetitem(i, newvals)`\n",
      "  airbnb_pd.loc[:,\"number_of_reviews\"] = airbnb_pd.number_of_reviews.astype(int)\n",
      "<ipython-input-15-a8ec1c88f09f>:23: DeprecationWarning: In a future version, `df.iloc[:, i] = newvals` will attempt to set the values inplace instead of always setting a new array. To retain the old behavior, use either `df[df.columns[i]] = newvals` or, if columns are non-unique, `df.isetitem(i, newvals)`\n",
      "  airbnb_pd.loc[:,\"minimum_nights\"] = airbnb_pd.minimum_nights.astype(int)\n",
      "\n",
      " 90%|████████▉ | 52/58 [00:13<00:01,  3.17it/s]\u001b[A"
     ]
    },
    {
     "name": "stdout",
     "output_type": "stream",
     "text": [
      "train_noise_15.csv_cleaned_curatorMerge.csv\n"
     ]
    },
    {
     "name": "stderr",
     "output_type": "stream",
     "text": [
      "<ipython-input-15-a8ec1c88f09f>:22: DeprecationWarning: In a future version, `df.iloc[:, i] = newvals` will attempt to set the values inplace instead of always setting a new array. To retain the old behavior, use either `df[df.columns[i]] = newvals` or, if columns are non-unique, `df.isetitem(i, newvals)`\n",
      "  airbnb_pd.loc[:,\"number_of_reviews\"] = airbnb_pd.number_of_reviews.astype(int)\n",
      "<ipython-input-15-a8ec1c88f09f>:23: DeprecationWarning: In a future version, `df.iloc[:, i] = newvals` will attempt to set the values inplace instead of always setting a new array. To retain the old behavior, use either `df[df.columns[i]] = newvals` or, if columns are non-unique, `df.isetitem(i, newvals)`\n",
      "  airbnb_pd.loc[:,\"minimum_nights\"] = airbnb_pd.minimum_nights.astype(int)\n",
      "\n",
      " 91%|█████████▏| 53/58 [00:14<00:01,  3.22it/s]\u001b[A"
     ]
    },
    {
     "name": "stdout",
     "output_type": "stream",
     "text": [
      "train_noise_25.csv_cleaned_curatorMerge.csv\n"
     ]
    },
    {
     "name": "stderr",
     "output_type": "stream",
     "text": [
      "<ipython-input-15-a8ec1c88f09f>:22: DeprecationWarning: In a future version, `df.iloc[:, i] = newvals` will attempt to set the values inplace instead of always setting a new array. To retain the old behavior, use either `df[df.columns[i]] = newvals` or, if columns are non-unique, `df.isetitem(i, newvals)`\n",
      "  airbnb_pd.loc[:,\"number_of_reviews\"] = airbnb_pd.number_of_reviews.astype(int)\n",
      "<ipython-input-15-a8ec1c88f09f>:23: DeprecationWarning: In a future version, `df.iloc[:, i] = newvals` will attempt to set the values inplace instead of always setting a new array. To retain the old behavior, use either `df[df.columns[i]] = newvals` or, if columns are non-unique, `df.isetitem(i, newvals)`\n",
      "  airbnb_pd.loc[:,\"minimum_nights\"] = airbnb_pd.minimum_nights.astype(int)\n",
      "\n",
      " 93%|█████████▎| 54/58 [00:14<00:01,  3.30it/s]\u001b[A"
     ]
    },
    {
     "name": "stdout",
     "output_type": "stream",
     "text": [
      "train_noise_10.csv_cleaned_curatorMerge.csv\n"
     ]
    },
    {
     "name": "stderr",
     "output_type": "stream",
     "text": [
      "<ipython-input-15-a8ec1c88f09f>:22: DeprecationWarning: In a future version, `df.iloc[:, i] = newvals` will attempt to set the values inplace instead of always setting a new array. To retain the old behavior, use either `df[df.columns[i]] = newvals` or, if columns are non-unique, `df.isetitem(i, newvals)`\n",
      "  airbnb_pd.loc[:,\"number_of_reviews\"] = airbnb_pd.number_of_reviews.astype(int)\n",
      "<ipython-input-15-a8ec1c88f09f>:23: DeprecationWarning: In a future version, `df.iloc[:, i] = newvals` will attempt to set the values inplace instead of always setting a new array. To retain the old behavior, use either `df[df.columns[i]] = newvals` or, if columns are non-unique, `df.isetitem(i, newvals)`\n",
      "  airbnb_pd.loc[:,\"minimum_nights\"] = airbnb_pd.minimum_nights.astype(int)\n",
      "\n",
      " 95%|█████████▍| 55/58 [00:14<00:00,  3.15it/s]\u001b[A"
     ]
    },
    {
     "name": "stdout",
     "output_type": "stream",
     "text": [
      "train_noise_5.csv_cleaned_curatorMerge.csv\n"
     ]
    },
    {
     "name": "stderr",
     "output_type": "stream",
     "text": [
      "<ipython-input-15-a8ec1c88f09f>:22: DeprecationWarning: In a future version, `df.iloc[:, i] = newvals` will attempt to set the values inplace instead of always setting a new array. To retain the old behavior, use either `df[df.columns[i]] = newvals` or, if columns are non-unique, `df.isetitem(i, newvals)`\n",
      "  airbnb_pd.loc[:,\"number_of_reviews\"] = airbnb_pd.number_of_reviews.astype(int)\n",
      "<ipython-input-15-a8ec1c88f09f>:23: DeprecationWarning: In a future version, `df.iloc[:, i] = newvals` will attempt to set the values inplace instead of always setting a new array. To retain the old behavior, use either `df[df.columns[i]] = newvals` or, if columns are non-unique, `df.isetitem(i, newvals)`\n",
      "  airbnb_pd.loc[:,\"minimum_nights\"] = airbnb_pd.minimum_nights.astype(int)\n",
      "\n",
      " 97%|█████████▋| 56/58 [00:15<00:00,  3.01it/s]\u001b[A"
     ]
    },
    {
     "name": "stdout",
     "output_type": "stream",
     "text": [
      "train_noise_35.csv_cleaned_curatorMerge.csv\n"
     ]
    },
    {
     "name": "stderr",
     "output_type": "stream",
     "text": [
      "<ipython-input-15-a8ec1c88f09f>:22: DeprecationWarning: In a future version, `df.iloc[:, i] = newvals` will attempt to set the values inplace instead of always setting a new array. To retain the old behavior, use either `df[df.columns[i]] = newvals` or, if columns are non-unique, `df.isetitem(i, newvals)`\n",
      "  airbnb_pd.loc[:,\"number_of_reviews\"] = airbnb_pd.number_of_reviews.astype(int)\n",
      "<ipython-input-15-a8ec1c88f09f>:23: DeprecationWarning: In a future version, `df.iloc[:, i] = newvals` will attempt to set the values inplace instead of always setting a new array. To retain the old behavior, use either `df[df.columns[i]] = newvals` or, if columns are non-unique, `df.isetitem(i, newvals)`\n",
      "  airbnb_pd.loc[:,\"minimum_nights\"] = airbnb_pd.minimum_nights.astype(int)\n",
      "\n",
      " 98%|█████████▊| 57/58 [00:15<00:00,  3.04it/s]\u001b[A"
     ]
    },
    {
     "name": "stdout",
     "output_type": "stream",
     "text": [
      "train_noise_20.csv_cleaned_curatorMerge.csv\n"
     ]
    },
    {
     "name": "stderr",
     "output_type": "stream",
     "text": [
      "<ipython-input-15-a8ec1c88f09f>:22: DeprecationWarning: In a future version, `df.iloc[:, i] = newvals` will attempt to set the values inplace instead of always setting a new array. To retain the old behavior, use either `df[df.columns[i]] = newvals` or, if columns are non-unique, `df.isetitem(i, newvals)`\n",
      "  airbnb_pd.loc[:,\"number_of_reviews\"] = airbnb_pd.number_of_reviews.astype(int)\n",
      "<ipython-input-15-a8ec1c88f09f>:23: DeprecationWarning: In a future version, `df.iloc[:, i] = newvals` will attempt to set the values inplace instead of always setting a new array. To retain the old behavior, use either `df[df.columns[i]] = newvals` or, if columns are non-unique, `df.isetitem(i, newvals)`\n",
      "  airbnb_pd.loc[:,\"minimum_nights\"] = airbnb_pd.minimum_nights.astype(int)\n",
      "\n",
      "100%|██████████| 58/58 [00:15<00:00,  3.64it/s]\n",
      " 50%|█████     | 5/10 [01:22<01:21, 16.22s/it]\n",
      "  0%|          | 0/58 [00:00<?, ?it/s]\u001b[A"
     ]
    },
    {
     "name": "stdout",
     "output_type": "stream",
     "text": [
      "train_noise_40.csv_cleaned_baseline.csv\n",
      "train_noise_30.csv_cleaned_baseline.csv\n"
     ]
    },
    {
     "name": "stderr",
     "output_type": "stream",
     "text": [
      "\n",
      " 21%|██        | 12/58 [00:00<00:02, 18.91it/s]\u001b[A"
     ]
    },
    {
     "name": "stdout",
     "output_type": "stream",
     "text": [
      "train_noise_25.csv_cleaned_baseline.csv\n",
      "train_noise_15.csv_cleaned_baseline.csv\n"
     ]
    },
    {
     "name": "stderr",
     "output_type": "stream",
     "text": [
      "\n",
      " 24%|██▍       | 14/58 [00:01<00:04,  9.29it/s]\u001b[A"
     ]
    },
    {
     "name": "stdout",
     "output_type": "stream",
     "text": [
      "train_noise_5.csv_cleaned_baseline.csv\n"
     ]
    },
    {
     "name": "stderr",
     "output_type": "stream",
     "text": [
      "\n",
      " 26%|██▌       | 15/58 [00:01<00:06,  6.97it/s]\u001b[A"
     ]
    },
    {
     "name": "stdout",
     "output_type": "stream",
     "text": [
      "train_noise_10.csv_cleaned_baseline.csv\n"
     ]
    },
    {
     "name": "stderr",
     "output_type": "stream",
     "text": [
      "\n",
      " 28%|██▊       | 16/58 [00:02<00:06,  6.03it/s]\u001b[A"
     ]
    },
    {
     "name": "stdout",
     "output_type": "stream",
     "text": [
      "train_noise_20.csv_cleaned_baseline.csv\n"
     ]
    },
    {
     "name": "stderr",
     "output_type": "stream",
     "text": [
      "\n",
      " 29%|██▉       | 17/58 [00:02<00:08,  4.82it/s]\u001b[A"
     ]
    },
    {
     "name": "stdout",
     "output_type": "stream",
     "text": [
      "train_noise_35.csv_cleaned_baseline.csv\n"
     ]
    },
    {
     "name": "stderr",
     "output_type": "stream",
     "text": [
      "\n",
      " 31%|███       | 18/58 [00:02<00:08,  4.59it/s]\u001b[A"
     ]
    },
    {
     "name": "stdout",
     "output_type": "stream",
     "text": [
      "train_noise_30.csv_cleaned_baselineAverage.csv\n"
     ]
    },
    {
     "name": "stderr",
     "output_type": "stream",
     "text": [
      "\n",
      " 33%|███▎      | 19/58 [00:03<00:09,  3.99it/s]\u001b[A"
     ]
    },
    {
     "name": "stdout",
     "output_type": "stream",
     "text": [
      "train_noise_40.csv_cleaned_baselineAverage.csv\n"
     ]
    },
    {
     "name": "stderr",
     "output_type": "stream",
     "text": [
      "\n",
      " 34%|███▍      | 20/58 [00:03<00:12,  2.95it/s]\u001b[A"
     ]
    },
    {
     "name": "stdout",
     "output_type": "stream",
     "text": [
      "train_noise_5.csv_cleaned_baselineAverage.csv\n"
     ]
    },
    {
     "name": "stderr",
     "output_type": "stream",
     "text": [
      "\n",
      " 36%|███▌      | 21/58 [00:04<00:12,  2.93it/s]\u001b[A"
     ]
    },
    {
     "name": "stdout",
     "output_type": "stream",
     "text": [
      "train_noise_15.csv_cleaned_baselineAverage.csv\n"
     ]
    },
    {
     "name": "stderr",
     "output_type": "stream",
     "text": [
      "\n",
      " 38%|███▊      | 22/58 [00:04<00:12,  2.97it/s]\u001b[A"
     ]
    },
    {
     "name": "stdout",
     "output_type": "stream",
     "text": [
      "train_noise_25.csv_cleaned_baselineAverage.csv\n"
     ]
    },
    {
     "name": "stderr",
     "output_type": "stream",
     "text": [
      "\n",
      " 40%|███▉      | 23/58 [00:04<00:11,  2.95it/s]\u001b[A"
     ]
    },
    {
     "name": "stdout",
     "output_type": "stream",
     "text": [
      "train_noise_10.csv_cleaned_baselineAverage.csv\n"
     ]
    },
    {
     "name": "stderr",
     "output_type": "stream",
     "text": [
      "\n",
      " 41%|████▏     | 24/58 [00:05<00:11,  2.97it/s]\u001b[A"
     ]
    },
    {
     "name": "stdout",
     "output_type": "stream",
     "text": [
      "train_noise_20.csv_cleaned_baselineAverage.csv\n"
     ]
    },
    {
     "name": "stderr",
     "output_type": "stream",
     "text": [
      "\n",
      " 43%|████▎     | 25/58 [00:05<00:10,  3.01it/s]\u001b[A"
     ]
    },
    {
     "name": "stdout",
     "output_type": "stream",
     "text": [
      "train_noise_35.csv_cleaned_baselineAverage.csv\n"
     ]
    },
    {
     "name": "stderr",
     "output_type": "stream",
     "text": [
      "\n",
      " 45%|████▍     | 26/58 [00:05<00:10,  2.99it/s]\u001b[A"
     ]
    },
    {
     "name": "stdout",
     "output_type": "stream",
     "text": [
      "train_noise_30.csv_cleaned_curatorC1.csv\n"
     ]
    },
    {
     "name": "stderr",
     "output_type": "stream",
     "text": [
      "<ipython-input-15-a8ec1c88f09f>:22: DeprecationWarning: In a future version, `df.iloc[:, i] = newvals` will attempt to set the values inplace instead of always setting a new array. To retain the old behavior, use either `df[df.columns[i]] = newvals` or, if columns are non-unique, `df.isetitem(i, newvals)`\n",
      "  airbnb_pd.loc[:,\"number_of_reviews\"] = airbnb_pd.number_of_reviews.astype(int)\n",
      "<ipython-input-15-a8ec1c88f09f>:23: DeprecationWarning: In a future version, `df.iloc[:, i] = newvals` will attempt to set the values inplace instead of always setting a new array. To retain the old behavior, use either `df[df.columns[i]] = newvals` or, if columns are non-unique, `df.isetitem(i, newvals)`\n",
      "  airbnb_pd.loc[:,\"minimum_nights\"] = airbnb_pd.minimum_nights.astype(int)\n",
      "\n",
      " 47%|████▋     | 27/58 [00:06<00:10,  2.96it/s]\u001b[A"
     ]
    },
    {
     "name": "stdout",
     "output_type": "stream",
     "text": [
      "train_noise_40.csv_cleaned_curatorC1.csv\n"
     ]
    },
    {
     "name": "stderr",
     "output_type": "stream",
     "text": [
      "<ipython-input-15-a8ec1c88f09f>:22: DeprecationWarning: In a future version, `df.iloc[:, i] = newvals` will attempt to set the values inplace instead of always setting a new array. To retain the old behavior, use either `df[df.columns[i]] = newvals` or, if columns are non-unique, `df.isetitem(i, newvals)`\n",
      "  airbnb_pd.loc[:,\"number_of_reviews\"] = airbnb_pd.number_of_reviews.astype(int)\n",
      "<ipython-input-15-a8ec1c88f09f>:23: DeprecationWarning: In a future version, `df.iloc[:, i] = newvals` will attempt to set the values inplace instead of always setting a new array. To retain the old behavior, use either `df[df.columns[i]] = newvals` or, if columns are non-unique, `df.isetitem(i, newvals)`\n",
      "  airbnb_pd.loc[:,\"minimum_nights\"] = airbnb_pd.minimum_nights.astype(int)\n",
      "\n",
      " 48%|████▊     | 28/58 [00:06<00:10,  2.87it/s]\u001b[A"
     ]
    },
    {
     "name": "stdout",
     "output_type": "stream",
     "text": [
      "train_noise_15.csv_cleaned_curatorC1.csv\n"
     ]
    },
    {
     "name": "stderr",
     "output_type": "stream",
     "text": [
      "<ipython-input-15-a8ec1c88f09f>:22: DeprecationWarning: In a future version, `df.iloc[:, i] = newvals` will attempt to set the values inplace instead of always setting a new array. To retain the old behavior, use either `df[df.columns[i]] = newvals` or, if columns are non-unique, `df.isetitem(i, newvals)`\n",
      "  airbnb_pd.loc[:,\"number_of_reviews\"] = airbnb_pd.number_of_reviews.astype(int)\n",
      "<ipython-input-15-a8ec1c88f09f>:23: DeprecationWarning: In a future version, `df.iloc[:, i] = newvals` will attempt to set the values inplace instead of always setting a new array. To retain the old behavior, use either `df[df.columns[i]] = newvals` or, if columns are non-unique, `df.isetitem(i, newvals)`\n",
      "  airbnb_pd.loc[:,\"minimum_nights\"] = airbnb_pd.minimum_nights.astype(int)\n",
      "\n",
      " 50%|█████     | 29/58 [00:06<00:10,  2.87it/s]\u001b[A"
     ]
    },
    {
     "name": "stdout",
     "output_type": "stream",
     "text": [
      "train_noise_10.csv_cleaned_curatorC1.csv\n"
     ]
    },
    {
     "name": "stderr",
     "output_type": "stream",
     "text": [
      "<ipython-input-15-a8ec1c88f09f>:22: DeprecationWarning: In a future version, `df.iloc[:, i] = newvals` will attempt to set the values inplace instead of always setting a new array. To retain the old behavior, use either `df[df.columns[i]] = newvals` or, if columns are non-unique, `df.isetitem(i, newvals)`\n",
      "  airbnb_pd.loc[:,\"number_of_reviews\"] = airbnb_pd.number_of_reviews.astype(int)\n",
      "<ipython-input-15-a8ec1c88f09f>:23: DeprecationWarning: In a future version, `df.iloc[:, i] = newvals` will attempt to set the values inplace instead of always setting a new array. To retain the old behavior, use either `df[df.columns[i]] = newvals` or, if columns are non-unique, `df.isetitem(i, newvals)`\n",
      "  airbnb_pd.loc[:,\"minimum_nights\"] = airbnb_pd.minimum_nights.astype(int)\n",
      "\n",
      " 52%|█████▏    | 30/58 [00:07<00:09,  2.97it/s]\u001b[A"
     ]
    },
    {
     "name": "stdout",
     "output_type": "stream",
     "text": [
      "train_noise_25.csv_cleaned_curatorC1.csv\n"
     ]
    },
    {
     "name": "stderr",
     "output_type": "stream",
     "text": [
      "<ipython-input-15-a8ec1c88f09f>:22: DeprecationWarning: In a future version, `df.iloc[:, i] = newvals` will attempt to set the values inplace instead of always setting a new array. To retain the old behavior, use either `df[df.columns[i]] = newvals` or, if columns are non-unique, `df.isetitem(i, newvals)`\n",
      "  airbnb_pd.loc[:,\"number_of_reviews\"] = airbnb_pd.number_of_reviews.astype(int)\n",
      "<ipython-input-15-a8ec1c88f09f>:23: DeprecationWarning: In a future version, `df.iloc[:, i] = newvals` will attempt to set the values inplace instead of always setting a new array. To retain the old behavior, use either `df[df.columns[i]] = newvals` or, if columns are non-unique, `df.isetitem(i, newvals)`\n",
      "  airbnb_pd.loc[:,\"minimum_nights\"] = airbnb_pd.minimum_nights.astype(int)\n",
      "\n",
      " 53%|█████▎    | 31/58 [00:07<00:09,  2.93it/s]\u001b[A"
     ]
    },
    {
     "name": "stdout",
     "output_type": "stream",
     "text": [
      "train_noise_5.csv_cleaned_curatorC1.csv\n"
     ]
    },
    {
     "name": "stderr",
     "output_type": "stream",
     "text": [
      "<ipython-input-15-a8ec1c88f09f>:22: DeprecationWarning: In a future version, `df.iloc[:, i] = newvals` will attempt to set the values inplace instead of always setting a new array. To retain the old behavior, use either `df[df.columns[i]] = newvals` or, if columns are non-unique, `df.isetitem(i, newvals)`\n",
      "  airbnb_pd.loc[:,\"number_of_reviews\"] = airbnb_pd.number_of_reviews.astype(int)\n",
      "<ipython-input-15-a8ec1c88f09f>:23: DeprecationWarning: In a future version, `df.iloc[:, i] = newvals` will attempt to set the values inplace instead of always setting a new array. To retain the old behavior, use either `df[df.columns[i]] = newvals` or, if columns are non-unique, `df.isetitem(i, newvals)`\n",
      "  airbnb_pd.loc[:,\"minimum_nights\"] = airbnb_pd.minimum_nights.astype(int)\n",
      "\n",
      " 55%|█████▌    | 32/58 [00:07<00:09,  2.83it/s]\u001b[A"
     ]
    },
    {
     "name": "stdout",
     "output_type": "stream",
     "text": [
      "train_noise_20.csv_cleaned_curatorC1.csv\n"
     ]
    },
    {
     "name": "stderr",
     "output_type": "stream",
     "text": [
      "<ipython-input-15-a8ec1c88f09f>:22: DeprecationWarning: In a future version, `df.iloc[:, i] = newvals` will attempt to set the values inplace instead of always setting a new array. To retain the old behavior, use either `df[df.columns[i]] = newvals` or, if columns are non-unique, `df.isetitem(i, newvals)`\n",
      "  airbnb_pd.loc[:,\"number_of_reviews\"] = airbnb_pd.number_of_reviews.astype(int)\n",
      "<ipython-input-15-a8ec1c88f09f>:23: DeprecationWarning: In a future version, `df.iloc[:, i] = newvals` will attempt to set the values inplace instead of always setting a new array. To retain the old behavior, use either `df[df.columns[i]] = newvals` or, if columns are non-unique, `df.isetitem(i, newvals)`\n",
      "  airbnb_pd.loc[:,\"minimum_nights\"] = airbnb_pd.minimum_nights.astype(int)\n",
      "\n",
      " 57%|█████▋    | 33/58 [00:08<00:08,  2.97it/s]\u001b[A"
     ]
    },
    {
     "name": "stdout",
     "output_type": "stream",
     "text": [
      "train_noise_35.csv_cleaned_curatorC1.csv\n"
     ]
    },
    {
     "name": "stderr",
     "output_type": "stream",
     "text": [
      "<ipython-input-15-a8ec1c88f09f>:22: DeprecationWarning: In a future version, `df.iloc[:, i] = newvals` will attempt to set the values inplace instead of always setting a new array. To retain the old behavior, use either `df[df.columns[i]] = newvals` or, if columns are non-unique, `df.isetitem(i, newvals)`\n",
      "  airbnb_pd.loc[:,\"number_of_reviews\"] = airbnb_pd.number_of_reviews.astype(int)\n",
      "<ipython-input-15-a8ec1c88f09f>:23: DeprecationWarning: In a future version, `df.iloc[:, i] = newvals` will attempt to set the values inplace instead of always setting a new array. To retain the old behavior, use either `df[df.columns[i]] = newvals` or, if columns are non-unique, `df.isetitem(i, newvals)`\n",
      "  airbnb_pd.loc[:,\"minimum_nights\"] = airbnb_pd.minimum_nights.astype(int)\n",
      "\n",
      " 59%|█████▊    | 34/58 [00:08<00:07,  3.03it/s]\u001b[A"
     ]
    },
    {
     "name": "stdout",
     "output_type": "stream",
     "text": [
      "train_noise_40.csv_cleaned_curatorC2.csv\n"
     ]
    },
    {
     "name": "stderr",
     "output_type": "stream",
     "text": [
      "<ipython-input-15-a8ec1c88f09f>:20: DeprecationWarning: In a future version, `df.iloc[:, i] = newvals` will attempt to set the values inplace instead of always setting a new array. To retain the old behavior, use either `df[df.columns[i]] = newvals` or, if columns are non-unique, `df.isetitem(i, newvals)`\n",
      "  airbnb_pd.loc[:,\"latitude\"] = airbnb_pd.latitude.astype(float)\n",
      "<ipython-input-15-a8ec1c88f09f>:21: DeprecationWarning: In a future version, `df.iloc[:, i] = newvals` will attempt to set the values inplace instead of always setting a new array. To retain the old behavior, use either `df[df.columns[i]] = newvals` or, if columns are non-unique, `df.isetitem(i, newvals)`\n",
      "  airbnb_pd.loc[:,\"longitude\"] = airbnb_pd.longitude.astype(float)\n",
      "<ipython-input-15-a8ec1c88f09f>:22: DeprecationWarning: In a future version, `df.iloc[:, i] = newvals` will attempt to set the values inplace instead of always setting a new array. To retain the old behavior, use either `df[df.columns[i]] = newvals` or, if columns are non-unique, `df.isetitem(i, newvals)`\n",
      "  airbnb_pd.loc[:,\"number_of_reviews\"] = airbnb_pd.number_of_reviews.astype(int)\n",
      "<ipython-input-15-a8ec1c88f09f>:23: DeprecationWarning: In a future version, `df.iloc[:, i] = newvals` will attempt to set the values inplace instead of always setting a new array. To retain the old behavior, use either `df[df.columns[i]] = newvals` or, if columns are non-unique, `df.isetitem(i, newvals)`\n",
      "  airbnb_pd.loc[:,\"minimum_nights\"] = airbnb_pd.minimum_nights.astype(int)\n",
      "\n",
      " 60%|██████    | 35/58 [00:08<00:07,  2.98it/s]\u001b[A"
     ]
    },
    {
     "name": "stdout",
     "output_type": "stream",
     "text": [
      "train_noise_30.csv_cleaned_curatorC2.csv\n"
     ]
    },
    {
     "name": "stderr",
     "output_type": "stream",
     "text": [
      "<ipython-input-15-a8ec1c88f09f>:20: DeprecationWarning: In a future version, `df.iloc[:, i] = newvals` will attempt to set the values inplace instead of always setting a new array. To retain the old behavior, use either `df[df.columns[i]] = newvals` or, if columns are non-unique, `df.isetitem(i, newvals)`\n",
      "  airbnb_pd.loc[:,\"latitude\"] = airbnb_pd.latitude.astype(float)\n",
      "<ipython-input-15-a8ec1c88f09f>:21: DeprecationWarning: In a future version, `df.iloc[:, i] = newvals` will attempt to set the values inplace instead of always setting a new array. To retain the old behavior, use either `df[df.columns[i]] = newvals` or, if columns are non-unique, `df.isetitem(i, newvals)`\n",
      "  airbnb_pd.loc[:,\"longitude\"] = airbnb_pd.longitude.astype(float)\n",
      "<ipython-input-15-a8ec1c88f09f>:22: DeprecationWarning: In a future version, `df.iloc[:, i] = newvals` will attempt to set the values inplace instead of always setting a new array. To retain the old behavior, use either `df[df.columns[i]] = newvals` or, if columns are non-unique, `df.isetitem(i, newvals)`\n",
      "  airbnb_pd.loc[:,\"number_of_reviews\"] = airbnb_pd.number_of_reviews.astype(int)\n",
      "<ipython-input-15-a8ec1c88f09f>:23: DeprecationWarning: In a future version, `df.iloc[:, i] = newvals` will attempt to set the values inplace instead of always setting a new array. To retain the old behavior, use either `df[df.columns[i]] = newvals` or, if columns are non-unique, `df.isetitem(i, newvals)`\n",
      "  airbnb_pd.loc[:,\"minimum_nights\"] = airbnb_pd.minimum_nights.astype(int)\n",
      "\n",
      " 62%|██████▏   | 36/58 [00:09<00:07,  2.99it/s]\u001b[A"
     ]
    },
    {
     "name": "stdout",
     "output_type": "stream",
     "text": [
      "train_noise_15.csv_cleaned_curatorC2.csv\n"
     ]
    },
    {
     "name": "stderr",
     "output_type": "stream",
     "text": [
      "<ipython-input-15-a8ec1c88f09f>:20: DeprecationWarning: In a future version, `df.iloc[:, i] = newvals` will attempt to set the values inplace instead of always setting a new array. To retain the old behavior, use either `df[df.columns[i]] = newvals` or, if columns are non-unique, `df.isetitem(i, newvals)`\n",
      "  airbnb_pd.loc[:,\"latitude\"] = airbnb_pd.latitude.astype(float)\n",
      "<ipython-input-15-a8ec1c88f09f>:21: DeprecationWarning: In a future version, `df.iloc[:, i] = newvals` will attempt to set the values inplace instead of always setting a new array. To retain the old behavior, use either `df[df.columns[i]] = newvals` or, if columns are non-unique, `df.isetitem(i, newvals)`\n",
      "  airbnb_pd.loc[:,\"longitude\"] = airbnb_pd.longitude.astype(float)\n",
      "<ipython-input-15-a8ec1c88f09f>:22: DeprecationWarning: In a future version, `df.iloc[:, i] = newvals` will attempt to set the values inplace instead of always setting a new array. To retain the old behavior, use either `df[df.columns[i]] = newvals` or, if columns are non-unique, `df.isetitem(i, newvals)`\n",
      "  airbnb_pd.loc[:,\"number_of_reviews\"] = airbnb_pd.number_of_reviews.astype(int)\n",
      "<ipython-input-15-a8ec1c88f09f>:23: DeprecationWarning: In a future version, `df.iloc[:, i] = newvals` will attempt to set the values inplace instead of always setting a new array. To retain the old behavior, use either `df[df.columns[i]] = newvals` or, if columns are non-unique, `df.isetitem(i, newvals)`\n",
      "  airbnb_pd.loc[:,\"minimum_nights\"] = airbnb_pd.minimum_nights.astype(int)\n",
      "\n",
      " 64%|██████▍   | 37/58 [00:09<00:06,  3.02it/s]\u001b[A"
     ]
    },
    {
     "name": "stdout",
     "output_type": "stream",
     "text": [
      "train_noise_25.csv_cleaned_curatorC2.csv\n"
     ]
    },
    {
     "name": "stderr",
     "output_type": "stream",
     "text": [
      "<ipython-input-15-a8ec1c88f09f>:20: DeprecationWarning: In a future version, `df.iloc[:, i] = newvals` will attempt to set the values inplace instead of always setting a new array. To retain the old behavior, use either `df[df.columns[i]] = newvals` or, if columns are non-unique, `df.isetitem(i, newvals)`\n",
      "  airbnb_pd.loc[:,\"latitude\"] = airbnb_pd.latitude.astype(float)\n",
      "<ipython-input-15-a8ec1c88f09f>:21: DeprecationWarning: In a future version, `df.iloc[:, i] = newvals` will attempt to set the values inplace instead of always setting a new array. To retain the old behavior, use either `df[df.columns[i]] = newvals` or, if columns are non-unique, `df.isetitem(i, newvals)`\n",
      "  airbnb_pd.loc[:,\"longitude\"] = airbnb_pd.longitude.astype(float)\n",
      "<ipython-input-15-a8ec1c88f09f>:22: DeprecationWarning: In a future version, `df.iloc[:, i] = newvals` will attempt to set the values inplace instead of always setting a new array. To retain the old behavior, use either `df[df.columns[i]] = newvals` or, if columns are non-unique, `df.isetitem(i, newvals)`\n",
      "  airbnb_pd.loc[:,\"number_of_reviews\"] = airbnb_pd.number_of_reviews.astype(int)\n",
      "<ipython-input-15-a8ec1c88f09f>:23: DeprecationWarning: In a future version, `df.iloc[:, i] = newvals` will attempt to set the values inplace instead of always setting a new array. To retain the old behavior, use either `df[df.columns[i]] = newvals` or, if columns are non-unique, `df.isetitem(i, newvals)`\n",
      "  airbnb_pd.loc[:,\"minimum_nights\"] = airbnb_pd.minimum_nights.astype(int)\n",
      "\n",
      " 66%|██████▌   | 38/58 [00:09<00:06,  2.94it/s]\u001b[A"
     ]
    },
    {
     "name": "stdout",
     "output_type": "stream",
     "text": [
      "train_noise_10.csv_cleaned_curatorC2.csv\n"
     ]
    },
    {
     "name": "stderr",
     "output_type": "stream",
     "text": [
      "<ipython-input-15-a8ec1c88f09f>:20: DeprecationWarning: In a future version, `df.iloc[:, i] = newvals` will attempt to set the values inplace instead of always setting a new array. To retain the old behavior, use either `df[df.columns[i]] = newvals` or, if columns are non-unique, `df.isetitem(i, newvals)`\n",
      "  airbnb_pd.loc[:,\"latitude\"] = airbnb_pd.latitude.astype(float)\n",
      "<ipython-input-15-a8ec1c88f09f>:21: DeprecationWarning: In a future version, `df.iloc[:, i] = newvals` will attempt to set the values inplace instead of always setting a new array. To retain the old behavior, use either `df[df.columns[i]] = newvals` or, if columns are non-unique, `df.isetitem(i, newvals)`\n",
      "  airbnb_pd.loc[:,\"longitude\"] = airbnb_pd.longitude.astype(float)\n",
      "<ipython-input-15-a8ec1c88f09f>:22: DeprecationWarning: In a future version, `df.iloc[:, i] = newvals` will attempt to set the values inplace instead of always setting a new array. To retain the old behavior, use either `df[df.columns[i]] = newvals` or, if columns are non-unique, `df.isetitem(i, newvals)`\n",
      "  airbnb_pd.loc[:,\"number_of_reviews\"] = airbnb_pd.number_of_reviews.astype(int)\n",
      "<ipython-input-15-a8ec1c88f09f>:23: DeprecationWarning: In a future version, `df.iloc[:, i] = newvals` will attempt to set the values inplace instead of always setting a new array. To retain the old behavior, use either `df[df.columns[i]] = newvals` or, if columns are non-unique, `df.isetitem(i, newvals)`\n",
      "  airbnb_pd.loc[:,\"minimum_nights\"] = airbnb_pd.minimum_nights.astype(int)\n",
      "\n",
      " 67%|██████▋   | 39/58 [00:10<00:06,  3.09it/s]\u001b[A"
     ]
    },
    {
     "name": "stdout",
     "output_type": "stream",
     "text": [
      "train_noise_5.csv_cleaned_curatorC2.csv\n"
     ]
    },
    {
     "name": "stderr",
     "output_type": "stream",
     "text": [
      "<ipython-input-15-a8ec1c88f09f>:20: DeprecationWarning: In a future version, `df.iloc[:, i] = newvals` will attempt to set the values inplace instead of always setting a new array. To retain the old behavior, use either `df[df.columns[i]] = newvals` or, if columns are non-unique, `df.isetitem(i, newvals)`\n",
      "  airbnb_pd.loc[:,\"latitude\"] = airbnb_pd.latitude.astype(float)\n",
      "<ipython-input-15-a8ec1c88f09f>:21: DeprecationWarning: In a future version, `df.iloc[:, i] = newvals` will attempt to set the values inplace instead of always setting a new array. To retain the old behavior, use either `df[df.columns[i]] = newvals` or, if columns are non-unique, `df.isetitem(i, newvals)`\n",
      "  airbnb_pd.loc[:,\"longitude\"] = airbnb_pd.longitude.astype(float)\n",
      "<ipython-input-15-a8ec1c88f09f>:22: DeprecationWarning: In a future version, `df.iloc[:, i] = newvals` will attempt to set the values inplace instead of always setting a new array. To retain the old behavior, use either `df[df.columns[i]] = newvals` or, if columns are non-unique, `df.isetitem(i, newvals)`\n",
      "  airbnb_pd.loc[:,\"number_of_reviews\"] = airbnb_pd.number_of_reviews.astype(int)\n",
      "<ipython-input-15-a8ec1c88f09f>:23: DeprecationWarning: In a future version, `df.iloc[:, i] = newvals` will attempt to set the values inplace instead of always setting a new array. To retain the old behavior, use either `df[df.columns[i]] = newvals` or, if columns are non-unique, `df.isetitem(i, newvals)`\n",
      "  airbnb_pd.loc[:,\"minimum_nights\"] = airbnb_pd.minimum_nights.astype(int)\n",
      "\n",
      " 69%|██████▉   | 40/58 [00:10<00:05,  3.04it/s]\u001b[A"
     ]
    },
    {
     "name": "stdout",
     "output_type": "stream",
     "text": [
      "train_noise_35.csv_cleaned_curatorC2.csv\n"
     ]
    },
    {
     "name": "stderr",
     "output_type": "stream",
     "text": [
      "<ipython-input-15-a8ec1c88f09f>:20: DeprecationWarning: In a future version, `df.iloc[:, i] = newvals` will attempt to set the values inplace instead of always setting a new array. To retain the old behavior, use either `df[df.columns[i]] = newvals` or, if columns are non-unique, `df.isetitem(i, newvals)`\n",
      "  airbnb_pd.loc[:,\"latitude\"] = airbnb_pd.latitude.astype(float)\n",
      "<ipython-input-15-a8ec1c88f09f>:21: DeprecationWarning: In a future version, `df.iloc[:, i] = newvals` will attempt to set the values inplace instead of always setting a new array. To retain the old behavior, use either `df[df.columns[i]] = newvals` or, if columns are non-unique, `df.isetitem(i, newvals)`\n",
      "  airbnb_pd.loc[:,\"longitude\"] = airbnb_pd.longitude.astype(float)\n",
      "<ipython-input-15-a8ec1c88f09f>:22: DeprecationWarning: In a future version, `df.iloc[:, i] = newvals` will attempt to set the values inplace instead of always setting a new array. To retain the old behavior, use either `df[df.columns[i]] = newvals` or, if columns are non-unique, `df.isetitem(i, newvals)`\n",
      "  airbnb_pd.loc[:,\"number_of_reviews\"] = airbnb_pd.number_of_reviews.astype(int)\n",
      "<ipython-input-15-a8ec1c88f09f>:23: DeprecationWarning: In a future version, `df.iloc[:, i] = newvals` will attempt to set the values inplace instead of always setting a new array. To retain the old behavior, use either `df[df.columns[i]] = newvals` or, if columns are non-unique, `df.isetitem(i, newvals)`\n",
      "  airbnb_pd.loc[:,\"minimum_nights\"] = airbnb_pd.minimum_nights.astype(int)\n",
      "\n",
      " 71%|███████   | 41/58 [00:10<00:05,  2.98it/s]\u001b[A"
     ]
    },
    {
     "name": "stdout",
     "output_type": "stream",
     "text": [
      "train_noise_20.csv_cleaned_curatorC2.csv\n"
     ]
    },
    {
     "name": "stderr",
     "output_type": "stream",
     "text": [
      "<ipython-input-15-a8ec1c88f09f>:20: DeprecationWarning: In a future version, `df.iloc[:, i] = newvals` will attempt to set the values inplace instead of always setting a new array. To retain the old behavior, use either `df[df.columns[i]] = newvals` or, if columns are non-unique, `df.isetitem(i, newvals)`\n",
      "  airbnb_pd.loc[:,\"latitude\"] = airbnb_pd.latitude.astype(float)\n",
      "<ipython-input-15-a8ec1c88f09f>:21: DeprecationWarning: In a future version, `df.iloc[:, i] = newvals` will attempt to set the values inplace instead of always setting a new array. To retain the old behavior, use either `df[df.columns[i]] = newvals` or, if columns are non-unique, `df.isetitem(i, newvals)`\n",
      "  airbnb_pd.loc[:,\"longitude\"] = airbnb_pd.longitude.astype(float)\n",
      "<ipython-input-15-a8ec1c88f09f>:22: DeprecationWarning: In a future version, `df.iloc[:, i] = newvals` will attempt to set the values inplace instead of always setting a new array. To retain the old behavior, use either `df[df.columns[i]] = newvals` or, if columns are non-unique, `df.isetitem(i, newvals)`\n",
      "  airbnb_pd.loc[:,\"number_of_reviews\"] = airbnb_pd.number_of_reviews.astype(int)\n",
      "<ipython-input-15-a8ec1c88f09f>:23: DeprecationWarning: In a future version, `df.iloc[:, i] = newvals` will attempt to set the values inplace instead of always setting a new array. To retain the old behavior, use either `df[df.columns[i]] = newvals` or, if columns are non-unique, `df.isetitem(i, newvals)`\n",
      "  airbnb_pd.loc[:,\"minimum_nights\"] = airbnb_pd.minimum_nights.astype(int)\n",
      "\n",
      " 72%|███████▏  | 42/58 [00:11<00:05,  3.01it/s]\u001b[A"
     ]
    },
    {
     "name": "stdout",
     "output_type": "stream",
     "text": [
      "train_noise_40.csv_cleaned_curatorC3.csv\n"
     ]
    },
    {
     "name": "stderr",
     "output_type": "stream",
     "text": [
      "<ipython-input-15-a8ec1c88f09f>:20: DeprecationWarning: In a future version, `df.iloc[:, i] = newvals` will attempt to set the values inplace instead of always setting a new array. To retain the old behavior, use either `df[df.columns[i]] = newvals` or, if columns are non-unique, `df.isetitem(i, newvals)`\n",
      "  airbnb_pd.loc[:,\"latitude\"] = airbnb_pd.latitude.astype(float)\n",
      "<ipython-input-15-a8ec1c88f09f>:21: DeprecationWarning: In a future version, `df.iloc[:, i] = newvals` will attempt to set the values inplace instead of always setting a new array. To retain the old behavior, use either `df[df.columns[i]] = newvals` or, if columns are non-unique, `df.isetitem(i, newvals)`\n",
      "  airbnb_pd.loc[:,\"longitude\"] = airbnb_pd.longitude.astype(float)\n",
      "<ipython-input-15-a8ec1c88f09f>:22: DeprecationWarning: In a future version, `df.iloc[:, i] = newvals` will attempt to set the values inplace instead of always setting a new array. To retain the old behavior, use either `df[df.columns[i]] = newvals` or, if columns are non-unique, `df.isetitem(i, newvals)`\n",
      "  airbnb_pd.loc[:,\"number_of_reviews\"] = airbnb_pd.number_of_reviews.astype(int)\n",
      "<ipython-input-15-a8ec1c88f09f>:23: DeprecationWarning: In a future version, `df.iloc[:, i] = newvals` will attempt to set the values inplace instead of always setting a new array. To retain the old behavior, use either `df[df.columns[i]] = newvals` or, if columns are non-unique, `df.isetitem(i, newvals)`\n",
      "  airbnb_pd.loc[:,\"minimum_nights\"] = airbnb_pd.minimum_nights.astype(int)\n",
      "\n",
      " 74%|███████▍  | 43/58 [00:11<00:05,  2.98it/s]\u001b[A"
     ]
    },
    {
     "name": "stdout",
     "output_type": "stream",
     "text": [
      "train_noise_30.csv_cleaned_curatorC3.csv\n"
     ]
    },
    {
     "name": "stderr",
     "output_type": "stream",
     "text": [
      "<ipython-input-15-a8ec1c88f09f>:20: DeprecationWarning: In a future version, `df.iloc[:, i] = newvals` will attempt to set the values inplace instead of always setting a new array. To retain the old behavior, use either `df[df.columns[i]] = newvals` or, if columns are non-unique, `df.isetitem(i, newvals)`\n",
      "  airbnb_pd.loc[:,\"latitude\"] = airbnb_pd.latitude.astype(float)\n",
      "<ipython-input-15-a8ec1c88f09f>:21: DeprecationWarning: In a future version, `df.iloc[:, i] = newvals` will attempt to set the values inplace instead of always setting a new array. To retain the old behavior, use either `df[df.columns[i]] = newvals` or, if columns are non-unique, `df.isetitem(i, newvals)`\n",
      "  airbnb_pd.loc[:,\"longitude\"] = airbnb_pd.longitude.astype(float)\n",
      "<ipython-input-15-a8ec1c88f09f>:22: DeprecationWarning: In a future version, `df.iloc[:, i] = newvals` will attempt to set the values inplace instead of always setting a new array. To retain the old behavior, use either `df[df.columns[i]] = newvals` or, if columns are non-unique, `df.isetitem(i, newvals)`\n",
      "  airbnb_pd.loc[:,\"number_of_reviews\"] = airbnb_pd.number_of_reviews.astype(int)\n",
      "<ipython-input-15-a8ec1c88f09f>:23: DeprecationWarning: In a future version, `df.iloc[:, i] = newvals` will attempt to set the values inplace instead of always setting a new array. To retain the old behavior, use either `df[df.columns[i]] = newvals` or, if columns are non-unique, `df.isetitem(i, newvals)`\n",
      "  airbnb_pd.loc[:,\"minimum_nights\"] = airbnb_pd.minimum_nights.astype(int)\n",
      "\n",
      " 76%|███████▌  | 44/58 [00:11<00:05,  2.59it/s]\u001b[A"
     ]
    },
    {
     "name": "stdout",
     "output_type": "stream",
     "text": [
      "train_noise_15.csv_cleaned_curatorC3.csv\n"
     ]
    },
    {
     "name": "stderr",
     "output_type": "stream",
     "text": [
      "<ipython-input-15-a8ec1c88f09f>:20: DeprecationWarning: In a future version, `df.iloc[:, i] = newvals` will attempt to set the values inplace instead of always setting a new array. To retain the old behavior, use either `df[df.columns[i]] = newvals` or, if columns are non-unique, `df.isetitem(i, newvals)`\n",
      "  airbnb_pd.loc[:,\"latitude\"] = airbnb_pd.latitude.astype(float)\n",
      "<ipython-input-15-a8ec1c88f09f>:21: DeprecationWarning: In a future version, `df.iloc[:, i] = newvals` will attempt to set the values inplace instead of always setting a new array. To retain the old behavior, use either `df[df.columns[i]] = newvals` or, if columns are non-unique, `df.isetitem(i, newvals)`\n",
      "  airbnb_pd.loc[:,\"longitude\"] = airbnb_pd.longitude.astype(float)\n",
      "<ipython-input-15-a8ec1c88f09f>:22: DeprecationWarning: In a future version, `df.iloc[:, i] = newvals` will attempt to set the values inplace instead of always setting a new array. To retain the old behavior, use either `df[df.columns[i]] = newvals` or, if columns are non-unique, `df.isetitem(i, newvals)`\n",
      "  airbnb_pd.loc[:,\"number_of_reviews\"] = airbnb_pd.number_of_reviews.astype(int)\n",
      "<ipython-input-15-a8ec1c88f09f>:23: DeprecationWarning: In a future version, `df.iloc[:, i] = newvals` will attempt to set the values inplace instead of always setting a new array. To retain the old behavior, use either `df[df.columns[i]] = newvals` or, if columns are non-unique, `df.isetitem(i, newvals)`\n",
      "  airbnb_pd.loc[:,\"minimum_nights\"] = airbnb_pd.minimum_nights.astype(int)\n",
      "\n",
      " 78%|███████▊  | 45/58 [00:12<00:04,  2.69it/s]\u001b[A"
     ]
    },
    {
     "name": "stdout",
     "output_type": "stream",
     "text": [
      "train_noise_25.csv_cleaned_curatorC3.csv\n"
     ]
    },
    {
     "name": "stderr",
     "output_type": "stream",
     "text": [
      "<ipython-input-15-a8ec1c88f09f>:20: DeprecationWarning: In a future version, `df.iloc[:, i] = newvals` will attempt to set the values inplace instead of always setting a new array. To retain the old behavior, use either `df[df.columns[i]] = newvals` or, if columns are non-unique, `df.isetitem(i, newvals)`\n",
      "  airbnb_pd.loc[:,\"latitude\"] = airbnb_pd.latitude.astype(float)\n",
      "<ipython-input-15-a8ec1c88f09f>:21: DeprecationWarning: In a future version, `df.iloc[:, i] = newvals` will attempt to set the values inplace instead of always setting a new array. To retain the old behavior, use either `df[df.columns[i]] = newvals` or, if columns are non-unique, `df.isetitem(i, newvals)`\n",
      "  airbnb_pd.loc[:,\"longitude\"] = airbnb_pd.longitude.astype(float)\n",
      "<ipython-input-15-a8ec1c88f09f>:22: DeprecationWarning: In a future version, `df.iloc[:, i] = newvals` will attempt to set the values inplace instead of always setting a new array. To retain the old behavior, use either `df[df.columns[i]] = newvals` or, if columns are non-unique, `df.isetitem(i, newvals)`\n",
      "  airbnb_pd.loc[:,\"number_of_reviews\"] = airbnb_pd.number_of_reviews.astype(int)\n",
      "<ipython-input-15-a8ec1c88f09f>:23: DeprecationWarning: In a future version, `df.iloc[:, i] = newvals` will attempt to set the values inplace instead of always setting a new array. To retain the old behavior, use either `df[df.columns[i]] = newvals` or, if columns are non-unique, `df.isetitem(i, newvals)`\n",
      "  airbnb_pd.loc[:,\"minimum_nights\"] = airbnb_pd.minimum_nights.astype(int)\n",
      "\n",
      " 79%|███████▉  | 46/58 [00:12<00:04,  2.71it/s]\u001b[A"
     ]
    },
    {
     "name": "stdout",
     "output_type": "stream",
     "text": [
      "train_noise_10.csv_cleaned_curatorC3.csv\n"
     ]
    },
    {
     "name": "stderr",
     "output_type": "stream",
     "text": [
      "<ipython-input-15-a8ec1c88f09f>:20: DeprecationWarning: In a future version, `df.iloc[:, i] = newvals` will attempt to set the values inplace instead of always setting a new array. To retain the old behavior, use either `df[df.columns[i]] = newvals` or, if columns are non-unique, `df.isetitem(i, newvals)`\n",
      "  airbnb_pd.loc[:,\"latitude\"] = airbnb_pd.latitude.astype(float)\n",
      "<ipython-input-15-a8ec1c88f09f>:21: DeprecationWarning: In a future version, `df.iloc[:, i] = newvals` will attempt to set the values inplace instead of always setting a new array. To retain the old behavior, use either `df[df.columns[i]] = newvals` or, if columns are non-unique, `df.isetitem(i, newvals)`\n",
      "  airbnb_pd.loc[:,\"longitude\"] = airbnb_pd.longitude.astype(float)\n",
      "<ipython-input-15-a8ec1c88f09f>:22: DeprecationWarning: In a future version, `df.iloc[:, i] = newvals` will attempt to set the values inplace instead of always setting a new array. To retain the old behavior, use either `df[df.columns[i]] = newvals` or, if columns are non-unique, `df.isetitem(i, newvals)`\n",
      "  airbnb_pd.loc[:,\"number_of_reviews\"] = airbnb_pd.number_of_reviews.astype(int)\n",
      "<ipython-input-15-a8ec1c88f09f>:23: DeprecationWarning: In a future version, `df.iloc[:, i] = newvals` will attempt to set the values inplace instead of always setting a new array. To retain the old behavior, use either `df[df.columns[i]] = newvals` or, if columns are non-unique, `df.isetitem(i, newvals)`\n",
      "  airbnb_pd.loc[:,\"minimum_nights\"] = airbnb_pd.minimum_nights.astype(int)\n",
      "\n",
      " 81%|████████  | 47/58 [00:12<00:04,  2.69it/s]\u001b[A"
     ]
    },
    {
     "name": "stdout",
     "output_type": "stream",
     "text": [
      "train_noise_5.csv_cleaned_curatorC3.csv\n"
     ]
    },
    {
     "name": "stderr",
     "output_type": "stream",
     "text": [
      "<ipython-input-15-a8ec1c88f09f>:20: DeprecationWarning: In a future version, `df.iloc[:, i] = newvals` will attempt to set the values inplace instead of always setting a new array. To retain the old behavior, use either `df[df.columns[i]] = newvals` or, if columns are non-unique, `df.isetitem(i, newvals)`\n",
      "  airbnb_pd.loc[:,\"latitude\"] = airbnb_pd.latitude.astype(float)\n",
      "<ipython-input-15-a8ec1c88f09f>:21: DeprecationWarning: In a future version, `df.iloc[:, i] = newvals` will attempt to set the values inplace instead of always setting a new array. To retain the old behavior, use either `df[df.columns[i]] = newvals` or, if columns are non-unique, `df.isetitem(i, newvals)`\n",
      "  airbnb_pd.loc[:,\"longitude\"] = airbnb_pd.longitude.astype(float)\n",
      "<ipython-input-15-a8ec1c88f09f>:22: DeprecationWarning: In a future version, `df.iloc[:, i] = newvals` will attempt to set the values inplace instead of always setting a new array. To retain the old behavior, use either `df[df.columns[i]] = newvals` or, if columns are non-unique, `df.isetitem(i, newvals)`\n",
      "  airbnb_pd.loc[:,\"number_of_reviews\"] = airbnb_pd.number_of_reviews.astype(int)\n",
      "<ipython-input-15-a8ec1c88f09f>:23: DeprecationWarning: In a future version, `df.iloc[:, i] = newvals` will attempt to set the values inplace instead of always setting a new array. To retain the old behavior, use either `df[df.columns[i]] = newvals` or, if columns are non-unique, `df.isetitem(i, newvals)`\n",
      "  airbnb_pd.loc[:,\"minimum_nights\"] = airbnb_pd.minimum_nights.astype(int)\n",
      "\n",
      " 83%|████████▎ | 48/58 [00:13<00:03,  2.68it/s]\u001b[A"
     ]
    },
    {
     "name": "stdout",
     "output_type": "stream",
     "text": [
      "train_noise_35.csv_cleaned_curatorC3.csv\n"
     ]
    },
    {
     "name": "stderr",
     "output_type": "stream",
     "text": [
      "<ipython-input-15-a8ec1c88f09f>:20: DeprecationWarning: In a future version, `df.iloc[:, i] = newvals` will attempt to set the values inplace instead of always setting a new array. To retain the old behavior, use either `df[df.columns[i]] = newvals` or, if columns are non-unique, `df.isetitem(i, newvals)`\n",
      "  airbnb_pd.loc[:,\"latitude\"] = airbnb_pd.latitude.astype(float)\n",
      "<ipython-input-15-a8ec1c88f09f>:21: DeprecationWarning: In a future version, `df.iloc[:, i] = newvals` will attempt to set the values inplace instead of always setting a new array. To retain the old behavior, use either `df[df.columns[i]] = newvals` or, if columns are non-unique, `df.isetitem(i, newvals)`\n",
      "  airbnb_pd.loc[:,\"longitude\"] = airbnb_pd.longitude.astype(float)\n",
      "<ipython-input-15-a8ec1c88f09f>:22: DeprecationWarning: In a future version, `df.iloc[:, i] = newvals` will attempt to set the values inplace instead of always setting a new array. To retain the old behavior, use either `df[df.columns[i]] = newvals` or, if columns are non-unique, `df.isetitem(i, newvals)`\n",
      "  airbnb_pd.loc[:,\"number_of_reviews\"] = airbnb_pd.number_of_reviews.astype(int)\n",
      "<ipython-input-15-a8ec1c88f09f>:23: DeprecationWarning: In a future version, `df.iloc[:, i] = newvals` will attempt to set the values inplace instead of always setting a new array. To retain the old behavior, use either `df[df.columns[i]] = newvals` or, if columns are non-unique, `df.isetitem(i, newvals)`\n",
      "  airbnb_pd.loc[:,\"minimum_nights\"] = airbnb_pd.minimum_nights.astype(int)\n",
      "\n",
      " 84%|████████▍ | 49/58 [00:13<00:03,  2.69it/s]\u001b[A"
     ]
    },
    {
     "name": "stdout",
     "output_type": "stream",
     "text": [
      "train_noise_20.csv_cleaned_curatorC3.csv\n"
     ]
    },
    {
     "name": "stderr",
     "output_type": "stream",
     "text": [
      "<ipython-input-15-a8ec1c88f09f>:20: DeprecationWarning: In a future version, `df.iloc[:, i] = newvals` will attempt to set the values inplace instead of always setting a new array. To retain the old behavior, use either `df[df.columns[i]] = newvals` or, if columns are non-unique, `df.isetitem(i, newvals)`\n",
      "  airbnb_pd.loc[:,\"latitude\"] = airbnb_pd.latitude.astype(float)\n",
      "<ipython-input-15-a8ec1c88f09f>:21: DeprecationWarning: In a future version, `df.iloc[:, i] = newvals` will attempt to set the values inplace instead of always setting a new array. To retain the old behavior, use either `df[df.columns[i]] = newvals` or, if columns are non-unique, `df.isetitem(i, newvals)`\n",
      "  airbnb_pd.loc[:,\"longitude\"] = airbnb_pd.longitude.astype(float)\n",
      "<ipython-input-15-a8ec1c88f09f>:22: DeprecationWarning: In a future version, `df.iloc[:, i] = newvals` will attempt to set the values inplace instead of always setting a new array. To retain the old behavior, use either `df[df.columns[i]] = newvals` or, if columns are non-unique, `df.isetitem(i, newvals)`\n",
      "  airbnb_pd.loc[:,\"number_of_reviews\"] = airbnb_pd.number_of_reviews.astype(int)\n",
      "<ipython-input-15-a8ec1c88f09f>:23: DeprecationWarning: In a future version, `df.iloc[:, i] = newvals` will attempt to set the values inplace instead of always setting a new array. To retain the old behavior, use either `df[df.columns[i]] = newvals` or, if columns are non-unique, `df.isetitem(i, newvals)`\n",
      "  airbnb_pd.loc[:,\"minimum_nights\"] = airbnb_pd.minimum_nights.astype(int)\n",
      "\n",
      " 86%|████████▌ | 50/58 [00:14<00:02,  2.80it/s]\u001b[A"
     ]
    },
    {
     "name": "stdout",
     "output_type": "stream",
     "text": [
      "train_noise_40.csv_cleaned_curatorMerge.csv\n"
     ]
    },
    {
     "name": "stderr",
     "output_type": "stream",
     "text": [
      "<ipython-input-15-a8ec1c88f09f>:22: DeprecationWarning: In a future version, `df.iloc[:, i] = newvals` will attempt to set the values inplace instead of always setting a new array. To retain the old behavior, use either `df[df.columns[i]] = newvals` or, if columns are non-unique, `df.isetitem(i, newvals)`\n",
      "  airbnb_pd.loc[:,\"number_of_reviews\"] = airbnb_pd.number_of_reviews.astype(int)\n",
      "<ipython-input-15-a8ec1c88f09f>:23: DeprecationWarning: In a future version, `df.iloc[:, i] = newvals` will attempt to set the values inplace instead of always setting a new array. To retain the old behavior, use either `df[df.columns[i]] = newvals` or, if columns are non-unique, `df.isetitem(i, newvals)`\n",
      "  airbnb_pd.loc[:,\"minimum_nights\"] = airbnb_pd.minimum_nights.astype(int)\n",
      "\n",
      " 88%|████████▊ | 51/58 [00:14<00:02,  2.82it/s]\u001b[A"
     ]
    },
    {
     "name": "stdout",
     "output_type": "stream",
     "text": [
      "train_noise_30.csv_cleaned_curatorMerge.csv\n"
     ]
    },
    {
     "name": "stderr",
     "output_type": "stream",
     "text": [
      "<ipython-input-15-a8ec1c88f09f>:22: DeprecationWarning: In a future version, `df.iloc[:, i] = newvals` will attempt to set the values inplace instead of always setting a new array. To retain the old behavior, use either `df[df.columns[i]] = newvals` or, if columns are non-unique, `df.isetitem(i, newvals)`\n",
      "  airbnb_pd.loc[:,\"number_of_reviews\"] = airbnb_pd.number_of_reviews.astype(int)\n",
      "<ipython-input-15-a8ec1c88f09f>:23: DeprecationWarning: In a future version, `df.iloc[:, i] = newvals` will attempt to set the values inplace instead of always setting a new array. To retain the old behavior, use either `df[df.columns[i]] = newvals` or, if columns are non-unique, `df.isetitem(i, newvals)`\n",
      "  airbnb_pd.loc[:,\"minimum_nights\"] = airbnb_pd.minimum_nights.astype(int)\n",
      "\n",
      " 90%|████████▉ | 52/58 [00:14<00:02,  2.84it/s]\u001b[A"
     ]
    },
    {
     "name": "stdout",
     "output_type": "stream",
     "text": [
      "train_noise_15.csv_cleaned_curatorMerge.csv\n"
     ]
    },
    {
     "name": "stderr",
     "output_type": "stream",
     "text": [
      "<ipython-input-15-a8ec1c88f09f>:22: DeprecationWarning: In a future version, `df.iloc[:, i] = newvals` will attempt to set the values inplace instead of always setting a new array. To retain the old behavior, use either `df[df.columns[i]] = newvals` or, if columns are non-unique, `df.isetitem(i, newvals)`\n",
      "  airbnb_pd.loc[:,\"number_of_reviews\"] = airbnb_pd.number_of_reviews.astype(int)\n",
      "<ipython-input-15-a8ec1c88f09f>:23: DeprecationWarning: In a future version, `df.iloc[:, i] = newvals` will attempt to set the values inplace instead of always setting a new array. To retain the old behavior, use either `df[df.columns[i]] = newvals` or, if columns are non-unique, `df.isetitem(i, newvals)`\n",
      "  airbnb_pd.loc[:,\"minimum_nights\"] = airbnb_pd.minimum_nights.astype(int)\n",
      "\n",
      " 91%|█████████▏| 53/58 [00:15<00:01,  2.82it/s]\u001b[A"
     ]
    },
    {
     "name": "stdout",
     "output_type": "stream",
     "text": [
      "train_noise_25.csv_cleaned_curatorMerge.csv\n"
     ]
    },
    {
     "name": "stderr",
     "output_type": "stream",
     "text": [
      "<ipython-input-15-a8ec1c88f09f>:22: DeprecationWarning: In a future version, `df.iloc[:, i] = newvals` will attempt to set the values inplace instead of always setting a new array. To retain the old behavior, use either `df[df.columns[i]] = newvals` or, if columns are non-unique, `df.isetitem(i, newvals)`\n",
      "  airbnb_pd.loc[:,\"number_of_reviews\"] = airbnb_pd.number_of_reviews.astype(int)\n",
      "<ipython-input-15-a8ec1c88f09f>:23: DeprecationWarning: In a future version, `df.iloc[:, i] = newvals` will attempt to set the values inplace instead of always setting a new array. To retain the old behavior, use either `df[df.columns[i]] = newvals` or, if columns are non-unique, `df.isetitem(i, newvals)`\n",
      "  airbnb_pd.loc[:,\"minimum_nights\"] = airbnb_pd.minimum_nights.astype(int)\n",
      "\n",
      " 93%|█████████▎| 54/58 [00:15<00:01,  2.86it/s]\u001b[A"
     ]
    },
    {
     "name": "stdout",
     "output_type": "stream",
     "text": [
      "train_noise_10.csv_cleaned_curatorMerge.csv\n"
     ]
    },
    {
     "name": "stderr",
     "output_type": "stream",
     "text": [
      "<ipython-input-15-a8ec1c88f09f>:22: DeprecationWarning: In a future version, `df.iloc[:, i] = newvals` will attempt to set the values inplace instead of always setting a new array. To retain the old behavior, use either `df[df.columns[i]] = newvals` or, if columns are non-unique, `df.isetitem(i, newvals)`\n",
      "  airbnb_pd.loc[:,\"number_of_reviews\"] = airbnb_pd.number_of_reviews.astype(int)\n",
      "<ipython-input-15-a8ec1c88f09f>:23: DeprecationWarning: In a future version, `df.iloc[:, i] = newvals` will attempt to set the values inplace instead of always setting a new array. To retain the old behavior, use either `df[df.columns[i]] = newvals` or, if columns are non-unique, `df.isetitem(i, newvals)`\n",
      "  airbnb_pd.loc[:,\"minimum_nights\"] = airbnb_pd.minimum_nights.astype(int)\n",
      "\n",
      " 95%|█████████▍| 55/58 [00:15<00:01,  2.93it/s]\u001b[A"
     ]
    },
    {
     "name": "stdout",
     "output_type": "stream",
     "text": [
      "train_noise_5.csv_cleaned_curatorMerge.csv\n"
     ]
    },
    {
     "name": "stderr",
     "output_type": "stream",
     "text": [
      "<ipython-input-15-a8ec1c88f09f>:22: DeprecationWarning: In a future version, `df.iloc[:, i] = newvals` will attempt to set the values inplace instead of always setting a new array. To retain the old behavior, use either `df[df.columns[i]] = newvals` or, if columns are non-unique, `df.isetitem(i, newvals)`\n",
      "  airbnb_pd.loc[:,\"number_of_reviews\"] = airbnb_pd.number_of_reviews.astype(int)\n",
      "<ipython-input-15-a8ec1c88f09f>:23: DeprecationWarning: In a future version, `df.iloc[:, i] = newvals` will attempt to set the values inplace instead of always setting a new array. To retain the old behavior, use either `df[df.columns[i]] = newvals` or, if columns are non-unique, `df.isetitem(i, newvals)`\n",
      "  airbnb_pd.loc[:,\"minimum_nights\"] = airbnb_pd.minimum_nights.astype(int)\n",
      "\n",
      " 97%|█████████▋| 56/58 [00:16<00:00,  3.03it/s]\u001b[A"
     ]
    },
    {
     "name": "stdout",
     "output_type": "stream",
     "text": [
      "train_noise_35.csv_cleaned_curatorMerge.csv\n"
     ]
    },
    {
     "name": "stderr",
     "output_type": "stream",
     "text": [
      "<ipython-input-15-a8ec1c88f09f>:22: DeprecationWarning: In a future version, `df.iloc[:, i] = newvals` will attempt to set the values inplace instead of always setting a new array. To retain the old behavior, use either `df[df.columns[i]] = newvals` or, if columns are non-unique, `df.isetitem(i, newvals)`\n",
      "  airbnb_pd.loc[:,\"number_of_reviews\"] = airbnb_pd.number_of_reviews.astype(int)\n",
      "<ipython-input-15-a8ec1c88f09f>:23: DeprecationWarning: In a future version, `df.iloc[:, i] = newvals` will attempt to set the values inplace instead of always setting a new array. To retain the old behavior, use either `df[df.columns[i]] = newvals` or, if columns are non-unique, `df.isetitem(i, newvals)`\n",
      "  airbnb_pd.loc[:,\"minimum_nights\"] = airbnb_pd.minimum_nights.astype(int)\n",
      "\n",
      " 98%|█████████▊| 57/58 [00:16<00:00,  3.08it/s]\u001b[A"
     ]
    },
    {
     "name": "stdout",
     "output_type": "stream",
     "text": [
      "train_noise_20.csv_cleaned_curatorMerge.csv\n"
     ]
    },
    {
     "name": "stderr",
     "output_type": "stream",
     "text": [
      "<ipython-input-15-a8ec1c88f09f>:22: DeprecationWarning: In a future version, `df.iloc[:, i] = newvals` will attempt to set the values inplace instead of always setting a new array. To retain the old behavior, use either `df[df.columns[i]] = newvals` or, if columns are non-unique, `df.isetitem(i, newvals)`\n",
      "  airbnb_pd.loc[:,\"number_of_reviews\"] = airbnb_pd.number_of_reviews.astype(int)\n",
      "<ipython-input-15-a8ec1c88f09f>:23: DeprecationWarning: In a future version, `df.iloc[:, i] = newvals` will attempt to set the values inplace instead of always setting a new array. To retain the old behavior, use either `df[df.columns[i]] = newvals` or, if columns are non-unique, `df.isetitem(i, newvals)`\n",
      "  airbnb_pd.loc[:,\"minimum_nights\"] = airbnb_pd.minimum_nights.astype(int)\n",
      "\n",
      "100%|██████████| 58/58 [00:16<00:00,  3.47it/s]\n",
      " 60%|██████    | 6/10 [01:39<01:05, 16.44s/it]\n",
      "  0%|          | 0/58 [00:00<?, ?it/s]\u001b[A"
     ]
    },
    {
     "name": "stdout",
     "output_type": "stream",
     "text": [
      "train_noise_30.csv_cleaned_baseline.csv\n",
      "train_noise_15.csv_cleaned_baseline.csv\n"
     ]
    },
    {
     "name": "stderr",
     "output_type": "stream",
     "text": [
      "\n",
      " 21%|██        | 12/58 [00:00<00:01, 36.16it/s]\u001b[A"
     ]
    },
    {
     "name": "stdout",
     "output_type": "stream",
     "text": [
      "train_noise_40.csv_cleaned_baseline.csv\n",
      "train_noise_25.csv_cleaned_baseline.csv\n",
      "train_noise_10.csv_cleaned_baseline.csv\n",
      "train_noise_5.csv_cleaned_baseline.csv\n"
     ]
    },
    {
     "name": "stderr",
     "output_type": "stream",
     "text": [
      "\n",
      " 28%|██▊       | 16/58 [00:01<00:04,  8.51it/s]\u001b[A"
     ]
    },
    {
     "name": "stdout",
     "output_type": "stream",
     "text": [
      "train_noise_35.csv_cleaned_baseline.csv\n",
      "train_noise_20.csv_cleaned_baseline.csv\n"
     ]
    },
    {
     "name": "stderr",
     "output_type": "stream",
     "text": [
      "\n",
      " 31%|███       | 18/58 [00:02<00:05,  6.70it/s]\u001b[A"
     ]
    },
    {
     "name": "stdout",
     "output_type": "stream",
     "text": [
      "train_noise_40.csv_cleaned_baselineAverage.csv\n",
      "train_noise_25.csv_cleaned_baselineAverage.csv\n"
     ]
    },
    {
     "name": "stderr",
     "output_type": "stream",
     "text": [
      "\n",
      " 34%|███▍      | 20/58 [00:02<00:07,  5.23it/s]\u001b[A"
     ]
    },
    {
     "name": "stdout",
     "output_type": "stream",
     "text": [
      "train_noise_15.csv_cleaned_baselineAverage.csv\n"
     ]
    },
    {
     "name": "stderr",
     "output_type": "stream",
     "text": [
      "\n",
      " 36%|███▌      | 21/58 [00:03<00:07,  4.80it/s]\u001b[A"
     ]
    },
    {
     "name": "stdout",
     "output_type": "stream",
     "text": [
      "train_noise_30.csv_cleaned_baselineAverage.csv\n"
     ]
    },
    {
     "name": "stderr",
     "output_type": "stream",
     "text": [
      "\n",
      " 38%|███▊      | 22/58 [00:03<00:08,  4.45it/s]\u001b[A"
     ]
    },
    {
     "name": "stdout",
     "output_type": "stream",
     "text": [
      "train_noise_5.csv_cleaned_baselineAverage.csv\n"
     ]
    },
    {
     "name": "stderr",
     "output_type": "stream",
     "text": [
      "\n",
      " 40%|███▉      | 23/58 [00:03<00:08,  4.19it/s]\u001b[A"
     ]
    },
    {
     "name": "stdout",
     "output_type": "stream",
     "text": [
      "train_noise_35.csv_cleaned_baselineAverage.csv\n"
     ]
    },
    {
     "name": "stderr",
     "output_type": "stream",
     "text": [
      "\n",
      " 41%|████▏     | 24/58 [00:04<00:08,  3.81it/s]\u001b[A"
     ]
    },
    {
     "name": "stdout",
     "output_type": "stream",
     "text": [
      "train_noise_10.csv_cleaned_baselineAverage.csv\n"
     ]
    },
    {
     "name": "stderr",
     "output_type": "stream",
     "text": [
      "\n",
      " 43%|████▎     | 25/58 [00:04<00:09,  3.52it/s]\u001b[A"
     ]
    },
    {
     "name": "stdout",
     "output_type": "stream",
     "text": [
      "train_noise_20.csv_cleaned_baselineAverage.csv\n"
     ]
    },
    {
     "name": "stderr",
     "output_type": "stream",
     "text": [
      "\n",
      " 45%|████▍     | 26/58 [00:04<00:09,  3.33it/s]\u001b[A"
     ]
    },
    {
     "name": "stdout",
     "output_type": "stream",
     "text": [
      "train_noise_40.csv_cleaned_curatorC1.csv\n"
     ]
    },
    {
     "name": "stderr",
     "output_type": "stream",
     "text": [
      "<ipython-input-15-a8ec1c88f09f>:22: DeprecationWarning: In a future version, `df.iloc[:, i] = newvals` will attempt to set the values inplace instead of always setting a new array. To retain the old behavior, use either `df[df.columns[i]] = newvals` or, if columns are non-unique, `df.isetitem(i, newvals)`\n",
      "  airbnb_pd.loc[:,\"number_of_reviews\"] = airbnb_pd.number_of_reviews.astype(int)\n",
      "<ipython-input-15-a8ec1c88f09f>:23: DeprecationWarning: In a future version, `df.iloc[:, i] = newvals` will attempt to set the values inplace instead of always setting a new array. To retain the old behavior, use either `df[df.columns[i]] = newvals` or, if columns are non-unique, `df.isetitem(i, newvals)`\n",
      "  airbnb_pd.loc[:,\"minimum_nights\"] = airbnb_pd.minimum_nights.astype(int)\n",
      "\n",
      " 47%|████▋     | 27/58 [00:05<00:09,  3.38it/s]\u001b[A"
     ]
    },
    {
     "name": "stdout",
     "output_type": "stream",
     "text": [
      "train_noise_15.csv_cleaned_curatorC1.csv\n"
     ]
    },
    {
     "name": "stderr",
     "output_type": "stream",
     "text": [
      "<ipython-input-15-a8ec1c88f09f>:22: DeprecationWarning: In a future version, `df.iloc[:, i] = newvals` will attempt to set the values inplace instead of always setting a new array. To retain the old behavior, use either `df[df.columns[i]] = newvals` or, if columns are non-unique, `df.isetitem(i, newvals)`\n",
      "  airbnb_pd.loc[:,\"number_of_reviews\"] = airbnb_pd.number_of_reviews.astype(int)\n",
      "<ipython-input-15-a8ec1c88f09f>:23: DeprecationWarning: In a future version, `df.iloc[:, i] = newvals` will attempt to set the values inplace instead of always setting a new array. To retain the old behavior, use either `df[df.columns[i]] = newvals` or, if columns are non-unique, `df.isetitem(i, newvals)`\n",
      "  airbnb_pd.loc[:,\"minimum_nights\"] = airbnb_pd.minimum_nights.astype(int)\n",
      "\n",
      " 48%|████▊     | 28/58 [00:05<00:09,  3.25it/s]\u001b[A"
     ]
    },
    {
     "name": "stdout",
     "output_type": "stream",
     "text": [
      "train_noise_30.csv_cleaned_curatorC1.csv\n"
     ]
    },
    {
     "name": "stderr",
     "output_type": "stream",
     "text": [
      "<ipython-input-15-a8ec1c88f09f>:22: DeprecationWarning: In a future version, `df.iloc[:, i] = newvals` will attempt to set the values inplace instead of always setting a new array. To retain the old behavior, use either `df[df.columns[i]] = newvals` or, if columns are non-unique, `df.isetitem(i, newvals)`\n",
      "  airbnb_pd.loc[:,\"number_of_reviews\"] = airbnb_pd.number_of_reviews.astype(int)\n",
      "<ipython-input-15-a8ec1c88f09f>:23: DeprecationWarning: In a future version, `df.iloc[:, i] = newvals` will attempt to set the values inplace instead of always setting a new array. To retain the old behavior, use either `df[df.columns[i]] = newvals` or, if columns are non-unique, `df.isetitem(i, newvals)`\n",
      "  airbnb_pd.loc[:,\"minimum_nights\"] = airbnb_pd.minimum_nights.astype(int)\n",
      "\n",
      " 50%|█████     | 29/58 [00:05<00:09,  3.14it/s]\u001b[A"
     ]
    },
    {
     "name": "stdout",
     "output_type": "stream",
     "text": [
      "train_noise_25.csv_cleaned_curatorC1.csv\n"
     ]
    },
    {
     "name": "stderr",
     "output_type": "stream",
     "text": [
      "<ipython-input-15-a8ec1c88f09f>:22: DeprecationWarning: In a future version, `df.iloc[:, i] = newvals` will attempt to set the values inplace instead of always setting a new array. To retain the old behavior, use either `df[df.columns[i]] = newvals` or, if columns are non-unique, `df.isetitem(i, newvals)`\n",
      "  airbnb_pd.loc[:,\"number_of_reviews\"] = airbnb_pd.number_of_reviews.astype(int)\n",
      "<ipython-input-15-a8ec1c88f09f>:23: DeprecationWarning: In a future version, `df.iloc[:, i] = newvals` will attempt to set the values inplace instead of always setting a new array. To retain the old behavior, use either `df[df.columns[i]] = newvals` or, if columns are non-unique, `df.isetitem(i, newvals)`\n",
      "  airbnb_pd.loc[:,\"minimum_nights\"] = airbnb_pd.minimum_nights.astype(int)\n",
      "\n",
      " 52%|█████▏    | 30/58 [00:06<00:08,  3.26it/s]\u001b[A"
     ]
    },
    {
     "name": "stdout",
     "output_type": "stream",
     "text": [
      "train_noise_5.csv_cleaned_curatorC1.csv\n"
     ]
    },
    {
     "name": "stderr",
     "output_type": "stream",
     "text": [
      "<ipython-input-15-a8ec1c88f09f>:22: DeprecationWarning: In a future version, `df.iloc[:, i] = newvals` will attempt to set the values inplace instead of always setting a new array. To retain the old behavior, use either `df[df.columns[i]] = newvals` or, if columns are non-unique, `df.isetitem(i, newvals)`\n",
      "  airbnb_pd.loc[:,\"number_of_reviews\"] = airbnb_pd.number_of_reviews.astype(int)\n",
      "<ipython-input-15-a8ec1c88f09f>:23: DeprecationWarning: In a future version, `df.iloc[:, i] = newvals` will attempt to set the values inplace instead of always setting a new array. To retain the old behavior, use either `df[df.columns[i]] = newvals` or, if columns are non-unique, `df.isetitem(i, newvals)`\n",
      "  airbnb_pd.loc[:,\"minimum_nights\"] = airbnb_pd.minimum_nights.astype(int)\n",
      "\n",
      " 53%|█████▎    | 31/58 [00:06<00:08,  3.22it/s]\u001b[A"
     ]
    },
    {
     "name": "stdout",
     "output_type": "stream",
     "text": [
      "train_noise_10.csv_cleaned_curatorC1.csv\n"
     ]
    },
    {
     "name": "stderr",
     "output_type": "stream",
     "text": [
      "<ipython-input-15-a8ec1c88f09f>:22: DeprecationWarning: In a future version, `df.iloc[:, i] = newvals` will attempt to set the values inplace instead of always setting a new array. To retain the old behavior, use either `df[df.columns[i]] = newvals` or, if columns are non-unique, `df.isetitem(i, newvals)`\n",
      "  airbnb_pd.loc[:,\"number_of_reviews\"] = airbnb_pd.number_of_reviews.astype(int)\n",
      "<ipython-input-15-a8ec1c88f09f>:23: DeprecationWarning: In a future version, `df.iloc[:, i] = newvals` will attempt to set the values inplace instead of always setting a new array. To retain the old behavior, use either `df[df.columns[i]] = newvals` or, if columns are non-unique, `df.isetitem(i, newvals)`\n",
      "  airbnb_pd.loc[:,\"minimum_nights\"] = airbnb_pd.minimum_nights.astype(int)\n",
      "\n",
      " 55%|█████▌    | 32/58 [00:06<00:08,  3.18it/s]\u001b[A"
     ]
    },
    {
     "name": "stdout",
     "output_type": "stream",
     "text": [
      "train_noise_35.csv_cleaned_curatorC1.csv\n"
     ]
    },
    {
     "name": "stderr",
     "output_type": "stream",
     "text": [
      "<ipython-input-15-a8ec1c88f09f>:22: DeprecationWarning: In a future version, `df.iloc[:, i] = newvals` will attempt to set the values inplace instead of always setting a new array. To retain the old behavior, use either `df[df.columns[i]] = newvals` or, if columns are non-unique, `df.isetitem(i, newvals)`\n",
      "  airbnb_pd.loc[:,\"number_of_reviews\"] = airbnb_pd.number_of_reviews.astype(int)\n",
      "<ipython-input-15-a8ec1c88f09f>:23: DeprecationWarning: In a future version, `df.iloc[:, i] = newvals` will attempt to set the values inplace instead of always setting a new array. To retain the old behavior, use either `df[df.columns[i]] = newvals` or, if columns are non-unique, `df.isetitem(i, newvals)`\n",
      "  airbnb_pd.loc[:,\"minimum_nights\"] = airbnb_pd.minimum_nights.astype(int)\n",
      "\n",
      " 57%|█████▋    | 33/58 [00:06<00:07,  3.27it/s]\u001b[A"
     ]
    },
    {
     "name": "stdout",
     "output_type": "stream",
     "text": [
      "train_noise_20.csv_cleaned_curatorC1.csv\n"
     ]
    },
    {
     "name": "stderr",
     "output_type": "stream",
     "text": [
      "<ipython-input-15-a8ec1c88f09f>:22: DeprecationWarning: In a future version, `df.iloc[:, i] = newvals` will attempt to set the values inplace instead of always setting a new array. To retain the old behavior, use either `df[df.columns[i]] = newvals` or, if columns are non-unique, `df.isetitem(i, newvals)`\n",
      "  airbnb_pd.loc[:,\"number_of_reviews\"] = airbnb_pd.number_of_reviews.astype(int)\n",
      "<ipython-input-15-a8ec1c88f09f>:23: DeprecationWarning: In a future version, `df.iloc[:, i] = newvals` will attempt to set the values inplace instead of always setting a new array. To retain the old behavior, use either `df[df.columns[i]] = newvals` or, if columns are non-unique, `df.isetitem(i, newvals)`\n",
      "  airbnb_pd.loc[:,\"minimum_nights\"] = airbnb_pd.minimum_nights.astype(int)\n",
      "\n",
      " 59%|█████▊    | 34/58 [00:07<00:07,  3.15it/s]\u001b[A"
     ]
    },
    {
     "name": "stdout",
     "output_type": "stream",
     "text": [
      "train_noise_40.csv_cleaned_curatorC2.csv\n"
     ]
    },
    {
     "name": "stderr",
     "output_type": "stream",
     "text": [
      "<ipython-input-15-a8ec1c88f09f>:20: DeprecationWarning: In a future version, `df.iloc[:, i] = newvals` will attempt to set the values inplace instead of always setting a new array. To retain the old behavior, use either `df[df.columns[i]] = newvals` or, if columns are non-unique, `df.isetitem(i, newvals)`\n",
      "  airbnb_pd.loc[:,\"latitude\"] = airbnb_pd.latitude.astype(float)\n",
      "<ipython-input-15-a8ec1c88f09f>:21: DeprecationWarning: In a future version, `df.iloc[:, i] = newvals` will attempt to set the values inplace instead of always setting a new array. To retain the old behavior, use either `df[df.columns[i]] = newvals` or, if columns are non-unique, `df.isetitem(i, newvals)`\n",
      "  airbnb_pd.loc[:,\"longitude\"] = airbnb_pd.longitude.astype(float)\n",
      "<ipython-input-15-a8ec1c88f09f>:22: DeprecationWarning: In a future version, `df.iloc[:, i] = newvals` will attempt to set the values inplace instead of always setting a new array. To retain the old behavior, use either `df[df.columns[i]] = newvals` or, if columns are non-unique, `df.isetitem(i, newvals)`\n",
      "  airbnb_pd.loc[:,\"number_of_reviews\"] = airbnb_pd.number_of_reviews.astype(int)\n",
      "<ipython-input-15-a8ec1c88f09f>:23: DeprecationWarning: In a future version, `df.iloc[:, i] = newvals` will attempt to set the values inplace instead of always setting a new array. To retain the old behavior, use either `df[df.columns[i]] = newvals` or, if columns are non-unique, `df.isetitem(i, newvals)`\n",
      "  airbnb_pd.loc[:,\"minimum_nights\"] = airbnb_pd.minimum_nights.astype(int)\n",
      "\n",
      " 60%|██████    | 35/58 [00:07<00:07,  3.18it/s]\u001b[A"
     ]
    },
    {
     "name": "stdout",
     "output_type": "stream",
     "text": [
      "train_noise_30.csv_cleaned_curatorC2.csv\n"
     ]
    },
    {
     "name": "stderr",
     "output_type": "stream",
     "text": [
      "<ipython-input-15-a8ec1c88f09f>:20: DeprecationWarning: In a future version, `df.iloc[:, i] = newvals` will attempt to set the values inplace instead of always setting a new array. To retain the old behavior, use either `df[df.columns[i]] = newvals` or, if columns are non-unique, `df.isetitem(i, newvals)`\n",
      "  airbnb_pd.loc[:,\"latitude\"] = airbnb_pd.latitude.astype(float)\n",
      "<ipython-input-15-a8ec1c88f09f>:21: DeprecationWarning: In a future version, `df.iloc[:, i] = newvals` will attempt to set the values inplace instead of always setting a new array. To retain the old behavior, use either `df[df.columns[i]] = newvals` or, if columns are non-unique, `df.isetitem(i, newvals)`\n",
      "  airbnb_pd.loc[:,\"longitude\"] = airbnb_pd.longitude.astype(float)\n",
      "<ipython-input-15-a8ec1c88f09f>:22: DeprecationWarning: In a future version, `df.iloc[:, i] = newvals` will attempt to set the values inplace instead of always setting a new array. To retain the old behavior, use either `df[df.columns[i]] = newvals` or, if columns are non-unique, `df.isetitem(i, newvals)`\n",
      "  airbnb_pd.loc[:,\"number_of_reviews\"] = airbnb_pd.number_of_reviews.astype(int)\n",
      "<ipython-input-15-a8ec1c88f09f>:23: DeprecationWarning: In a future version, `df.iloc[:, i] = newvals` will attempt to set the values inplace instead of always setting a new array. To retain the old behavior, use either `df[df.columns[i]] = newvals` or, if columns are non-unique, `df.isetitem(i, newvals)`\n",
      "  airbnb_pd.loc[:,\"minimum_nights\"] = airbnb_pd.minimum_nights.astype(int)\n",
      "\n",
      " 62%|██████▏   | 36/58 [00:07<00:07,  3.08it/s]\u001b[A"
     ]
    },
    {
     "name": "stdout",
     "output_type": "stream",
     "text": [
      "train_noise_15.csv_cleaned_curatorC2.csv\n"
     ]
    },
    {
     "name": "stderr",
     "output_type": "stream",
     "text": [
      "<ipython-input-15-a8ec1c88f09f>:20: DeprecationWarning: In a future version, `df.iloc[:, i] = newvals` will attempt to set the values inplace instead of always setting a new array. To retain the old behavior, use either `df[df.columns[i]] = newvals` or, if columns are non-unique, `df.isetitem(i, newvals)`\n",
      "  airbnb_pd.loc[:,\"latitude\"] = airbnb_pd.latitude.astype(float)\n",
      "<ipython-input-15-a8ec1c88f09f>:21: DeprecationWarning: In a future version, `df.iloc[:, i] = newvals` will attempt to set the values inplace instead of always setting a new array. To retain the old behavior, use either `df[df.columns[i]] = newvals` or, if columns are non-unique, `df.isetitem(i, newvals)`\n",
      "  airbnb_pd.loc[:,\"longitude\"] = airbnb_pd.longitude.astype(float)\n",
      "<ipython-input-15-a8ec1c88f09f>:22: DeprecationWarning: In a future version, `df.iloc[:, i] = newvals` will attempt to set the values inplace instead of always setting a new array. To retain the old behavior, use either `df[df.columns[i]] = newvals` or, if columns are non-unique, `df.isetitem(i, newvals)`\n",
      "  airbnb_pd.loc[:,\"number_of_reviews\"] = airbnb_pd.number_of_reviews.astype(int)\n",
      "<ipython-input-15-a8ec1c88f09f>:23: DeprecationWarning: In a future version, `df.iloc[:, i] = newvals` will attempt to set the values inplace instead of always setting a new array. To retain the old behavior, use either `df[df.columns[i]] = newvals` or, if columns are non-unique, `df.isetitem(i, newvals)`\n",
      "  airbnb_pd.loc[:,\"minimum_nights\"] = airbnb_pd.minimum_nights.astype(int)\n",
      "\n",
      " 64%|██████▍   | 37/58 [00:08<00:06,  3.14it/s]\u001b[A"
     ]
    },
    {
     "name": "stdout",
     "output_type": "stream",
     "text": [
      "train_noise_25.csv_cleaned_curatorC2.csv\n"
     ]
    },
    {
     "name": "stderr",
     "output_type": "stream",
     "text": [
      "<ipython-input-15-a8ec1c88f09f>:20: DeprecationWarning: In a future version, `df.iloc[:, i] = newvals` will attempt to set the values inplace instead of always setting a new array. To retain the old behavior, use either `df[df.columns[i]] = newvals` or, if columns are non-unique, `df.isetitem(i, newvals)`\n",
      "  airbnb_pd.loc[:,\"latitude\"] = airbnb_pd.latitude.astype(float)\n",
      "<ipython-input-15-a8ec1c88f09f>:21: DeprecationWarning: In a future version, `df.iloc[:, i] = newvals` will attempt to set the values inplace instead of always setting a new array. To retain the old behavior, use either `df[df.columns[i]] = newvals` or, if columns are non-unique, `df.isetitem(i, newvals)`\n",
      "  airbnb_pd.loc[:,\"longitude\"] = airbnb_pd.longitude.astype(float)\n",
      "<ipython-input-15-a8ec1c88f09f>:22: DeprecationWarning: In a future version, `df.iloc[:, i] = newvals` will attempt to set the values inplace instead of always setting a new array. To retain the old behavior, use either `df[df.columns[i]] = newvals` or, if columns are non-unique, `df.isetitem(i, newvals)`\n",
      "  airbnb_pd.loc[:,\"number_of_reviews\"] = airbnb_pd.number_of_reviews.astype(int)\n",
      "<ipython-input-15-a8ec1c88f09f>:23: DeprecationWarning: In a future version, `df.iloc[:, i] = newvals` will attempt to set the values inplace instead of always setting a new array. To retain the old behavior, use either `df[df.columns[i]] = newvals` or, if columns are non-unique, `df.isetitem(i, newvals)`\n",
      "  airbnb_pd.loc[:,\"minimum_nights\"] = airbnb_pd.minimum_nights.astype(int)\n",
      "\n",
      " 66%|██████▌   | 38/58 [00:08<00:06,  3.05it/s]\u001b[A"
     ]
    },
    {
     "name": "stdout",
     "output_type": "stream",
     "text": [
      "train_noise_10.csv_cleaned_curatorC2.csv\n"
     ]
    },
    {
     "name": "stderr",
     "output_type": "stream",
     "text": [
      "<ipython-input-15-a8ec1c88f09f>:20: DeprecationWarning: In a future version, `df.iloc[:, i] = newvals` will attempt to set the values inplace instead of always setting a new array. To retain the old behavior, use either `df[df.columns[i]] = newvals` or, if columns are non-unique, `df.isetitem(i, newvals)`\n",
      "  airbnb_pd.loc[:,\"latitude\"] = airbnb_pd.latitude.astype(float)\n",
      "<ipython-input-15-a8ec1c88f09f>:21: DeprecationWarning: In a future version, `df.iloc[:, i] = newvals` will attempt to set the values inplace instead of always setting a new array. To retain the old behavior, use either `df[df.columns[i]] = newvals` or, if columns are non-unique, `df.isetitem(i, newvals)`\n",
      "  airbnb_pd.loc[:,\"longitude\"] = airbnb_pd.longitude.astype(float)\n",
      "<ipython-input-15-a8ec1c88f09f>:22: DeprecationWarning: In a future version, `df.iloc[:, i] = newvals` will attempt to set the values inplace instead of always setting a new array. To retain the old behavior, use either `df[df.columns[i]] = newvals` or, if columns are non-unique, `df.isetitem(i, newvals)`\n",
      "  airbnb_pd.loc[:,\"number_of_reviews\"] = airbnb_pd.number_of_reviews.astype(int)\n",
      "<ipython-input-15-a8ec1c88f09f>:23: DeprecationWarning: In a future version, `df.iloc[:, i] = newvals` will attempt to set the values inplace instead of always setting a new array. To retain the old behavior, use either `df[df.columns[i]] = newvals` or, if columns are non-unique, `df.isetitem(i, newvals)`\n",
      "  airbnb_pd.loc[:,\"minimum_nights\"] = airbnb_pd.minimum_nights.astype(int)\n",
      "\n",
      " 67%|██████▋   | 39/58 [00:08<00:06,  3.13it/s]\u001b[A"
     ]
    },
    {
     "name": "stdout",
     "output_type": "stream",
     "text": [
      "train_noise_5.csv_cleaned_curatorC2.csv\n"
     ]
    },
    {
     "name": "stderr",
     "output_type": "stream",
     "text": [
      "<ipython-input-15-a8ec1c88f09f>:20: DeprecationWarning: In a future version, `df.iloc[:, i] = newvals` will attempt to set the values inplace instead of always setting a new array. To retain the old behavior, use either `df[df.columns[i]] = newvals` or, if columns are non-unique, `df.isetitem(i, newvals)`\n",
      "  airbnb_pd.loc[:,\"latitude\"] = airbnb_pd.latitude.astype(float)\n",
      "<ipython-input-15-a8ec1c88f09f>:21: DeprecationWarning: In a future version, `df.iloc[:, i] = newvals` will attempt to set the values inplace instead of always setting a new array. To retain the old behavior, use either `df[df.columns[i]] = newvals` or, if columns are non-unique, `df.isetitem(i, newvals)`\n",
      "  airbnb_pd.loc[:,\"longitude\"] = airbnb_pd.longitude.astype(float)\n",
      "<ipython-input-15-a8ec1c88f09f>:22: DeprecationWarning: In a future version, `df.iloc[:, i] = newvals` will attempt to set the values inplace instead of always setting a new array. To retain the old behavior, use either `df[df.columns[i]] = newvals` or, if columns are non-unique, `df.isetitem(i, newvals)`\n",
      "  airbnb_pd.loc[:,\"number_of_reviews\"] = airbnb_pd.number_of_reviews.astype(int)\n",
      "<ipython-input-15-a8ec1c88f09f>:23: DeprecationWarning: In a future version, `df.iloc[:, i] = newvals` will attempt to set the values inplace instead of always setting a new array. To retain the old behavior, use either `df[df.columns[i]] = newvals` or, if columns are non-unique, `df.isetitem(i, newvals)`\n",
      "  airbnb_pd.loc[:,\"minimum_nights\"] = airbnb_pd.minimum_nights.astype(int)\n",
      "\n",
      " 69%|██████▉   | 40/58 [00:09<00:05,  3.05it/s]\u001b[A"
     ]
    },
    {
     "name": "stdout",
     "output_type": "stream",
     "text": [
      "train_noise_35.csv_cleaned_curatorC2.csv\n"
     ]
    },
    {
     "name": "stderr",
     "output_type": "stream",
     "text": [
      "<ipython-input-15-a8ec1c88f09f>:20: DeprecationWarning: In a future version, `df.iloc[:, i] = newvals` will attempt to set the values inplace instead of always setting a new array. To retain the old behavior, use either `df[df.columns[i]] = newvals` or, if columns are non-unique, `df.isetitem(i, newvals)`\n",
      "  airbnb_pd.loc[:,\"latitude\"] = airbnb_pd.latitude.astype(float)\n",
      "<ipython-input-15-a8ec1c88f09f>:21: DeprecationWarning: In a future version, `df.iloc[:, i] = newvals` will attempt to set the values inplace instead of always setting a new array. To retain the old behavior, use either `df[df.columns[i]] = newvals` or, if columns are non-unique, `df.isetitem(i, newvals)`\n",
      "  airbnb_pd.loc[:,\"longitude\"] = airbnb_pd.longitude.astype(float)\n",
      "<ipython-input-15-a8ec1c88f09f>:22: DeprecationWarning: In a future version, `df.iloc[:, i] = newvals` will attempt to set the values inplace instead of always setting a new array. To retain the old behavior, use either `df[df.columns[i]] = newvals` or, if columns are non-unique, `df.isetitem(i, newvals)`\n",
      "  airbnb_pd.loc[:,\"number_of_reviews\"] = airbnb_pd.number_of_reviews.astype(int)\n",
      "<ipython-input-15-a8ec1c88f09f>:23: DeprecationWarning: In a future version, `df.iloc[:, i] = newvals` will attempt to set the values inplace instead of always setting a new array. To retain the old behavior, use either `df[df.columns[i]] = newvals` or, if columns are non-unique, `df.isetitem(i, newvals)`\n",
      "  airbnb_pd.loc[:,\"minimum_nights\"] = airbnb_pd.minimum_nights.astype(int)\n",
      "\n",
      " 71%|███████   | 41/58 [00:09<00:05,  3.11it/s]\u001b[A"
     ]
    },
    {
     "name": "stdout",
     "output_type": "stream",
     "text": [
      "train_noise_20.csv_cleaned_curatorC2.csv\n"
     ]
    },
    {
     "name": "stderr",
     "output_type": "stream",
     "text": [
      "<ipython-input-15-a8ec1c88f09f>:20: DeprecationWarning: In a future version, `df.iloc[:, i] = newvals` will attempt to set the values inplace instead of always setting a new array. To retain the old behavior, use either `df[df.columns[i]] = newvals` or, if columns are non-unique, `df.isetitem(i, newvals)`\n",
      "  airbnb_pd.loc[:,\"latitude\"] = airbnb_pd.latitude.astype(float)\n",
      "<ipython-input-15-a8ec1c88f09f>:21: DeprecationWarning: In a future version, `df.iloc[:, i] = newvals` will attempt to set the values inplace instead of always setting a new array. To retain the old behavior, use either `df[df.columns[i]] = newvals` or, if columns are non-unique, `df.isetitem(i, newvals)`\n",
      "  airbnb_pd.loc[:,\"longitude\"] = airbnb_pd.longitude.astype(float)\n",
      "<ipython-input-15-a8ec1c88f09f>:22: DeprecationWarning: In a future version, `df.iloc[:, i] = newvals` will attempt to set the values inplace instead of always setting a new array. To retain the old behavior, use either `df[df.columns[i]] = newvals` or, if columns are non-unique, `df.isetitem(i, newvals)`\n",
      "  airbnb_pd.loc[:,\"number_of_reviews\"] = airbnb_pd.number_of_reviews.astype(int)\n",
      "<ipython-input-15-a8ec1c88f09f>:23: DeprecationWarning: In a future version, `df.iloc[:, i] = newvals` will attempt to set the values inplace instead of always setting a new array. To retain the old behavior, use either `df[df.columns[i]] = newvals` or, if columns are non-unique, `df.isetitem(i, newvals)`\n",
      "  airbnb_pd.loc[:,\"minimum_nights\"] = airbnb_pd.minimum_nights.astype(int)\n",
      "\n",
      " 72%|███████▏  | 42/58 [00:09<00:05,  3.13it/s]\u001b[A"
     ]
    },
    {
     "name": "stdout",
     "output_type": "stream",
     "text": [
      "train_noise_40.csv_cleaned_curatorC3.csv\n"
     ]
    },
    {
     "name": "stderr",
     "output_type": "stream",
     "text": [
      "<ipython-input-15-a8ec1c88f09f>:20: DeprecationWarning: In a future version, `df.iloc[:, i] = newvals` will attempt to set the values inplace instead of always setting a new array. To retain the old behavior, use either `df[df.columns[i]] = newvals` or, if columns are non-unique, `df.isetitem(i, newvals)`\n",
      "  airbnb_pd.loc[:,\"latitude\"] = airbnb_pd.latitude.astype(float)\n",
      "<ipython-input-15-a8ec1c88f09f>:21: DeprecationWarning: In a future version, `df.iloc[:, i] = newvals` will attempt to set the values inplace instead of always setting a new array. To retain the old behavior, use either `df[df.columns[i]] = newvals` or, if columns are non-unique, `df.isetitem(i, newvals)`\n",
      "  airbnb_pd.loc[:,\"longitude\"] = airbnb_pd.longitude.astype(float)\n",
      "<ipython-input-15-a8ec1c88f09f>:22: DeprecationWarning: In a future version, `df.iloc[:, i] = newvals` will attempt to set the values inplace instead of always setting a new array. To retain the old behavior, use either `df[df.columns[i]] = newvals` or, if columns are non-unique, `df.isetitem(i, newvals)`\n",
      "  airbnb_pd.loc[:,\"number_of_reviews\"] = airbnb_pd.number_of_reviews.astype(int)\n",
      "<ipython-input-15-a8ec1c88f09f>:23: DeprecationWarning: In a future version, `df.iloc[:, i] = newvals` will attempt to set the values inplace instead of always setting a new array. To retain the old behavior, use either `df[df.columns[i]] = newvals` or, if columns are non-unique, `df.isetitem(i, newvals)`\n",
      "  airbnb_pd.loc[:,\"minimum_nights\"] = airbnb_pd.minimum_nights.astype(int)\n",
      "\n",
      " 74%|███████▍  | 43/58 [00:10<00:05,  2.99it/s]\u001b[A"
     ]
    },
    {
     "name": "stdout",
     "output_type": "stream",
     "text": [
      "train_noise_30.csv_cleaned_curatorC3.csv\n"
     ]
    },
    {
     "name": "stderr",
     "output_type": "stream",
     "text": [
      "<ipython-input-15-a8ec1c88f09f>:20: DeprecationWarning: In a future version, `df.iloc[:, i] = newvals` will attempt to set the values inplace instead of always setting a new array. To retain the old behavior, use either `df[df.columns[i]] = newvals` or, if columns are non-unique, `df.isetitem(i, newvals)`\n",
      "  airbnb_pd.loc[:,\"latitude\"] = airbnb_pd.latitude.astype(float)\n",
      "<ipython-input-15-a8ec1c88f09f>:21: DeprecationWarning: In a future version, `df.iloc[:, i] = newvals` will attempt to set the values inplace instead of always setting a new array. To retain the old behavior, use either `df[df.columns[i]] = newvals` or, if columns are non-unique, `df.isetitem(i, newvals)`\n",
      "  airbnb_pd.loc[:,\"longitude\"] = airbnb_pd.longitude.astype(float)\n",
      "<ipython-input-15-a8ec1c88f09f>:22: DeprecationWarning: In a future version, `df.iloc[:, i] = newvals` will attempt to set the values inplace instead of always setting a new array. To retain the old behavior, use either `df[df.columns[i]] = newvals` or, if columns are non-unique, `df.isetitem(i, newvals)`\n",
      "  airbnb_pd.loc[:,\"number_of_reviews\"] = airbnb_pd.number_of_reviews.astype(int)\n",
      "<ipython-input-15-a8ec1c88f09f>:23: DeprecationWarning: In a future version, `df.iloc[:, i] = newvals` will attempt to set the values inplace instead of always setting a new array. To retain the old behavior, use either `df[df.columns[i]] = newvals` or, if columns are non-unique, `df.isetitem(i, newvals)`\n",
      "  airbnb_pd.loc[:,\"minimum_nights\"] = airbnb_pd.minimum_nights.astype(int)\n",
      "\n",
      " 76%|███████▌  | 44/58 [00:10<00:05,  2.71it/s]\u001b[A"
     ]
    },
    {
     "name": "stdout",
     "output_type": "stream",
     "text": [
      "train_noise_15.csv_cleaned_curatorC3.csv\n"
     ]
    },
    {
     "name": "stderr",
     "output_type": "stream",
     "text": [
      "<ipython-input-15-a8ec1c88f09f>:20: DeprecationWarning: In a future version, `df.iloc[:, i] = newvals` will attempt to set the values inplace instead of always setting a new array. To retain the old behavior, use either `df[df.columns[i]] = newvals` or, if columns are non-unique, `df.isetitem(i, newvals)`\n",
      "  airbnb_pd.loc[:,\"latitude\"] = airbnb_pd.latitude.astype(float)\n",
      "<ipython-input-15-a8ec1c88f09f>:21: DeprecationWarning: In a future version, `df.iloc[:, i] = newvals` will attempt to set the values inplace instead of always setting a new array. To retain the old behavior, use either `df[df.columns[i]] = newvals` or, if columns are non-unique, `df.isetitem(i, newvals)`\n",
      "  airbnb_pd.loc[:,\"longitude\"] = airbnb_pd.longitude.astype(float)\n",
      "<ipython-input-15-a8ec1c88f09f>:22: DeprecationWarning: In a future version, `df.iloc[:, i] = newvals` will attempt to set the values inplace instead of always setting a new array. To retain the old behavior, use either `df[df.columns[i]] = newvals` or, if columns are non-unique, `df.isetitem(i, newvals)`\n",
      "  airbnb_pd.loc[:,\"number_of_reviews\"] = airbnb_pd.number_of_reviews.astype(int)\n",
      "<ipython-input-15-a8ec1c88f09f>:23: DeprecationWarning: In a future version, `df.iloc[:, i] = newvals` will attempt to set the values inplace instead of always setting a new array. To retain the old behavior, use either `df[df.columns[i]] = newvals` or, if columns are non-unique, `df.isetitem(i, newvals)`\n",
      "  airbnb_pd.loc[:,\"minimum_nights\"] = airbnb_pd.minimum_nights.astype(int)\n",
      "\n",
      " 78%|███████▊  | 45/58 [00:11<00:04,  2.78it/s]\u001b[A"
     ]
    },
    {
     "name": "stdout",
     "output_type": "stream",
     "text": [
      "train_noise_25.csv_cleaned_curatorC3.csv\n"
     ]
    },
    {
     "name": "stderr",
     "output_type": "stream",
     "text": [
      "<ipython-input-15-a8ec1c88f09f>:20: DeprecationWarning: In a future version, `df.iloc[:, i] = newvals` will attempt to set the values inplace instead of always setting a new array. To retain the old behavior, use either `df[df.columns[i]] = newvals` or, if columns are non-unique, `df.isetitem(i, newvals)`\n",
      "  airbnb_pd.loc[:,\"latitude\"] = airbnb_pd.latitude.astype(float)\n",
      "<ipython-input-15-a8ec1c88f09f>:21: DeprecationWarning: In a future version, `df.iloc[:, i] = newvals` will attempt to set the values inplace instead of always setting a new array. To retain the old behavior, use either `df[df.columns[i]] = newvals` or, if columns are non-unique, `df.isetitem(i, newvals)`\n",
      "  airbnb_pd.loc[:,\"longitude\"] = airbnb_pd.longitude.astype(float)\n",
      "<ipython-input-15-a8ec1c88f09f>:22: DeprecationWarning: In a future version, `df.iloc[:, i] = newvals` will attempt to set the values inplace instead of always setting a new array. To retain the old behavior, use either `df[df.columns[i]] = newvals` or, if columns are non-unique, `df.isetitem(i, newvals)`\n",
      "  airbnb_pd.loc[:,\"number_of_reviews\"] = airbnb_pd.number_of_reviews.astype(int)\n",
      "<ipython-input-15-a8ec1c88f09f>:23: DeprecationWarning: In a future version, `df.iloc[:, i] = newvals` will attempt to set the values inplace instead of always setting a new array. To retain the old behavior, use either `df[df.columns[i]] = newvals` or, if columns are non-unique, `df.isetitem(i, newvals)`\n",
      "  airbnb_pd.loc[:,\"minimum_nights\"] = airbnb_pd.minimum_nights.astype(int)\n",
      "\n",
      " 79%|███████▉  | 46/58 [00:11<00:04,  2.87it/s]\u001b[A"
     ]
    },
    {
     "name": "stdout",
     "output_type": "stream",
     "text": [
      "train_noise_10.csv_cleaned_curatorC3.csv\n"
     ]
    },
    {
     "name": "stderr",
     "output_type": "stream",
     "text": [
      "<ipython-input-15-a8ec1c88f09f>:20: DeprecationWarning: In a future version, `df.iloc[:, i] = newvals` will attempt to set the values inplace instead of always setting a new array. To retain the old behavior, use either `df[df.columns[i]] = newvals` or, if columns are non-unique, `df.isetitem(i, newvals)`\n",
      "  airbnb_pd.loc[:,\"latitude\"] = airbnb_pd.latitude.astype(float)\n",
      "<ipython-input-15-a8ec1c88f09f>:21: DeprecationWarning: In a future version, `df.iloc[:, i] = newvals` will attempt to set the values inplace instead of always setting a new array. To retain the old behavior, use either `df[df.columns[i]] = newvals` or, if columns are non-unique, `df.isetitem(i, newvals)`\n",
      "  airbnb_pd.loc[:,\"longitude\"] = airbnb_pd.longitude.astype(float)\n",
      "<ipython-input-15-a8ec1c88f09f>:22: DeprecationWarning: In a future version, `df.iloc[:, i] = newvals` will attempt to set the values inplace instead of always setting a new array. To retain the old behavior, use either `df[df.columns[i]] = newvals` or, if columns are non-unique, `df.isetitem(i, newvals)`\n",
      "  airbnb_pd.loc[:,\"number_of_reviews\"] = airbnb_pd.number_of_reviews.astype(int)\n",
      "<ipython-input-15-a8ec1c88f09f>:23: DeprecationWarning: In a future version, `df.iloc[:, i] = newvals` will attempt to set the values inplace instead of always setting a new array. To retain the old behavior, use either `df[df.columns[i]] = newvals` or, if columns are non-unique, `df.isetitem(i, newvals)`\n",
      "  airbnb_pd.loc[:,\"minimum_nights\"] = airbnb_pd.minimum_nights.astype(int)\n",
      "\n",
      " 81%|████████  | 47/58 [00:11<00:04,  2.74it/s]\u001b[A"
     ]
    },
    {
     "name": "stdout",
     "output_type": "stream",
     "text": [
      "train_noise_5.csv_cleaned_curatorC3.csv\n"
     ]
    },
    {
     "name": "stderr",
     "output_type": "stream",
     "text": [
      "<ipython-input-15-a8ec1c88f09f>:20: DeprecationWarning: In a future version, `df.iloc[:, i] = newvals` will attempt to set the values inplace instead of always setting a new array. To retain the old behavior, use either `df[df.columns[i]] = newvals` or, if columns are non-unique, `df.isetitem(i, newvals)`\n",
      "  airbnb_pd.loc[:,\"latitude\"] = airbnb_pd.latitude.astype(float)\n",
      "<ipython-input-15-a8ec1c88f09f>:21: DeprecationWarning: In a future version, `df.iloc[:, i] = newvals` will attempt to set the values inplace instead of always setting a new array. To retain the old behavior, use either `df[df.columns[i]] = newvals` or, if columns are non-unique, `df.isetitem(i, newvals)`\n",
      "  airbnb_pd.loc[:,\"longitude\"] = airbnb_pd.longitude.astype(float)\n",
      "<ipython-input-15-a8ec1c88f09f>:22: DeprecationWarning: In a future version, `df.iloc[:, i] = newvals` will attempt to set the values inplace instead of always setting a new array. To retain the old behavior, use either `df[df.columns[i]] = newvals` or, if columns are non-unique, `df.isetitem(i, newvals)`\n",
      "  airbnb_pd.loc[:,\"number_of_reviews\"] = airbnb_pd.number_of_reviews.astype(int)\n",
      "<ipython-input-15-a8ec1c88f09f>:23: DeprecationWarning: In a future version, `df.iloc[:, i] = newvals` will attempt to set the values inplace instead of always setting a new array. To retain the old behavior, use either `df[df.columns[i]] = newvals` or, if columns are non-unique, `df.isetitem(i, newvals)`\n",
      "  airbnb_pd.loc[:,\"minimum_nights\"] = airbnb_pd.minimum_nights.astype(int)\n",
      "\n",
      " 83%|████████▎ | 48/58 [00:12<00:03,  2.72it/s]\u001b[A"
     ]
    },
    {
     "name": "stdout",
     "output_type": "stream",
     "text": [
      "train_noise_35.csv_cleaned_curatorC3.csv\n"
     ]
    },
    {
     "name": "stderr",
     "output_type": "stream",
     "text": [
      "<ipython-input-15-a8ec1c88f09f>:20: DeprecationWarning: In a future version, `df.iloc[:, i] = newvals` will attempt to set the values inplace instead of always setting a new array. To retain the old behavior, use either `df[df.columns[i]] = newvals` or, if columns are non-unique, `df.isetitem(i, newvals)`\n",
      "  airbnb_pd.loc[:,\"latitude\"] = airbnb_pd.latitude.astype(float)\n",
      "<ipython-input-15-a8ec1c88f09f>:21: DeprecationWarning: In a future version, `df.iloc[:, i] = newvals` will attempt to set the values inplace instead of always setting a new array. To retain the old behavior, use either `df[df.columns[i]] = newvals` or, if columns are non-unique, `df.isetitem(i, newvals)`\n",
      "  airbnb_pd.loc[:,\"longitude\"] = airbnb_pd.longitude.astype(float)\n",
      "<ipython-input-15-a8ec1c88f09f>:22: DeprecationWarning: In a future version, `df.iloc[:, i] = newvals` will attempt to set the values inplace instead of always setting a new array. To retain the old behavior, use either `df[df.columns[i]] = newvals` or, if columns are non-unique, `df.isetitem(i, newvals)`\n",
      "  airbnb_pd.loc[:,\"number_of_reviews\"] = airbnb_pd.number_of_reviews.astype(int)\n",
      "<ipython-input-15-a8ec1c88f09f>:23: DeprecationWarning: In a future version, `df.iloc[:, i] = newvals` will attempt to set the values inplace instead of always setting a new array. To retain the old behavior, use either `df[df.columns[i]] = newvals` or, if columns are non-unique, `df.isetitem(i, newvals)`\n",
      "  airbnb_pd.loc[:,\"minimum_nights\"] = airbnb_pd.minimum_nights.astype(int)\n",
      "\n",
      " 84%|████████▍ | 49/58 [00:12<00:03,  2.83it/s]\u001b[A"
     ]
    },
    {
     "name": "stdout",
     "output_type": "stream",
     "text": [
      "train_noise_20.csv_cleaned_curatorC3.csv\n"
     ]
    },
    {
     "name": "stderr",
     "output_type": "stream",
     "text": [
      "<ipython-input-15-a8ec1c88f09f>:20: DeprecationWarning: In a future version, `df.iloc[:, i] = newvals` will attempt to set the values inplace instead of always setting a new array. To retain the old behavior, use either `df[df.columns[i]] = newvals` or, if columns are non-unique, `df.isetitem(i, newvals)`\n",
      "  airbnb_pd.loc[:,\"latitude\"] = airbnb_pd.latitude.astype(float)\n",
      "<ipython-input-15-a8ec1c88f09f>:21: DeprecationWarning: In a future version, `df.iloc[:, i] = newvals` will attempt to set the values inplace instead of always setting a new array. To retain the old behavior, use either `df[df.columns[i]] = newvals` or, if columns are non-unique, `df.isetitem(i, newvals)`\n",
      "  airbnb_pd.loc[:,\"longitude\"] = airbnb_pd.longitude.astype(float)\n",
      "<ipython-input-15-a8ec1c88f09f>:22: DeprecationWarning: In a future version, `df.iloc[:, i] = newvals` will attempt to set the values inplace instead of always setting a new array. To retain the old behavior, use either `df[df.columns[i]] = newvals` or, if columns are non-unique, `df.isetitem(i, newvals)`\n",
      "  airbnb_pd.loc[:,\"number_of_reviews\"] = airbnb_pd.number_of_reviews.astype(int)\n",
      "<ipython-input-15-a8ec1c88f09f>:23: DeprecationWarning: In a future version, `df.iloc[:, i] = newvals` will attempt to set the values inplace instead of always setting a new array. To retain the old behavior, use either `df[df.columns[i]] = newvals` or, if columns are non-unique, `df.isetitem(i, newvals)`\n",
      "  airbnb_pd.loc[:,\"minimum_nights\"] = airbnb_pd.minimum_nights.astype(int)\n",
      "\n",
      " 86%|████████▌ | 50/58 [00:12<00:02,  2.95it/s]\u001b[A"
     ]
    },
    {
     "name": "stdout",
     "output_type": "stream",
     "text": [
      "train_noise_40.csv_cleaned_curatorMerge.csv\n"
     ]
    },
    {
     "name": "stderr",
     "output_type": "stream",
     "text": [
      "<ipython-input-15-a8ec1c88f09f>:22: DeprecationWarning: In a future version, `df.iloc[:, i] = newvals` will attempt to set the values inplace instead of always setting a new array. To retain the old behavior, use either `df[df.columns[i]] = newvals` or, if columns are non-unique, `df.isetitem(i, newvals)`\n",
      "  airbnb_pd.loc[:,\"number_of_reviews\"] = airbnb_pd.number_of_reviews.astype(int)\n",
      "<ipython-input-15-a8ec1c88f09f>:23: DeprecationWarning: In a future version, `df.iloc[:, i] = newvals` will attempt to set the values inplace instead of always setting a new array. To retain the old behavior, use either `df[df.columns[i]] = newvals` or, if columns are non-unique, `df.isetitem(i, newvals)`\n",
      "  airbnb_pd.loc[:,\"minimum_nights\"] = airbnb_pd.minimum_nights.astype(int)\n",
      "\n",
      " 88%|████████▊ | 51/58 [00:13<00:02,  3.05it/s]\u001b[A"
     ]
    },
    {
     "name": "stdout",
     "output_type": "stream",
     "text": [
      "train_noise_30.csv_cleaned_curatorMerge.csv\n"
     ]
    },
    {
     "name": "stderr",
     "output_type": "stream",
     "text": [
      "<ipython-input-15-a8ec1c88f09f>:22: DeprecationWarning: In a future version, `df.iloc[:, i] = newvals` will attempt to set the values inplace instead of always setting a new array. To retain the old behavior, use either `df[df.columns[i]] = newvals` or, if columns are non-unique, `df.isetitem(i, newvals)`\n",
      "  airbnb_pd.loc[:,\"number_of_reviews\"] = airbnb_pd.number_of_reviews.astype(int)\n",
      "<ipython-input-15-a8ec1c88f09f>:23: DeprecationWarning: In a future version, `df.iloc[:, i] = newvals` will attempt to set the values inplace instead of always setting a new array. To retain the old behavior, use either `df[df.columns[i]] = newvals` or, if columns are non-unique, `df.isetitem(i, newvals)`\n",
      "  airbnb_pd.loc[:,\"minimum_nights\"] = airbnb_pd.minimum_nights.astype(int)\n",
      "\n",
      " 90%|████████▉ | 52/58 [00:13<00:01,  3.08it/s]\u001b[A"
     ]
    },
    {
     "name": "stdout",
     "output_type": "stream",
     "text": [
      "train_noise_15.csv_cleaned_curatorMerge.csv\n"
     ]
    },
    {
     "name": "stderr",
     "output_type": "stream",
     "text": [
      "<ipython-input-15-a8ec1c88f09f>:22: DeprecationWarning: In a future version, `df.iloc[:, i] = newvals` will attempt to set the values inplace instead of always setting a new array. To retain the old behavior, use either `df[df.columns[i]] = newvals` or, if columns are non-unique, `df.isetitem(i, newvals)`\n",
      "  airbnb_pd.loc[:,\"number_of_reviews\"] = airbnb_pd.number_of_reviews.astype(int)\n",
      "<ipython-input-15-a8ec1c88f09f>:23: DeprecationWarning: In a future version, `df.iloc[:, i] = newvals` will attempt to set the values inplace instead of always setting a new array. To retain the old behavior, use either `df[df.columns[i]] = newvals` or, if columns are non-unique, `df.isetitem(i, newvals)`\n",
      "  airbnb_pd.loc[:,\"minimum_nights\"] = airbnb_pd.minimum_nights.astype(int)\n",
      "\n",
      " 91%|█████████▏| 53/58 [00:13<00:01,  3.19it/s]\u001b[A"
     ]
    },
    {
     "name": "stdout",
     "output_type": "stream",
     "text": [
      "train_noise_25.csv_cleaned_curatorMerge.csv\n"
     ]
    },
    {
     "name": "stderr",
     "output_type": "stream",
     "text": [
      "<ipython-input-15-a8ec1c88f09f>:22: DeprecationWarning: In a future version, `df.iloc[:, i] = newvals` will attempt to set the values inplace instead of always setting a new array. To retain the old behavior, use either `df[df.columns[i]] = newvals` or, if columns are non-unique, `df.isetitem(i, newvals)`\n",
      "  airbnb_pd.loc[:,\"number_of_reviews\"] = airbnb_pd.number_of_reviews.astype(int)\n",
      "<ipython-input-15-a8ec1c88f09f>:23: DeprecationWarning: In a future version, `df.iloc[:, i] = newvals` will attempt to set the values inplace instead of always setting a new array. To retain the old behavior, use either `df[df.columns[i]] = newvals` or, if columns are non-unique, `df.isetitem(i, newvals)`\n",
      "  airbnb_pd.loc[:,\"minimum_nights\"] = airbnb_pd.minimum_nights.astype(int)\n",
      "\n",
      " 93%|█████████▎| 54/58 [00:14<00:01,  3.24it/s]\u001b[A"
     ]
    },
    {
     "name": "stdout",
     "output_type": "stream",
     "text": [
      "train_noise_10.csv_cleaned_curatorMerge.csv\n"
     ]
    },
    {
     "name": "stderr",
     "output_type": "stream",
     "text": [
      "<ipython-input-15-a8ec1c88f09f>:22: DeprecationWarning: In a future version, `df.iloc[:, i] = newvals` will attempt to set the values inplace instead of always setting a new array. To retain the old behavior, use either `df[df.columns[i]] = newvals` or, if columns are non-unique, `df.isetitem(i, newvals)`\n",
      "  airbnb_pd.loc[:,\"number_of_reviews\"] = airbnb_pd.number_of_reviews.astype(int)\n",
      "<ipython-input-15-a8ec1c88f09f>:23: DeprecationWarning: In a future version, `df.iloc[:, i] = newvals` will attempt to set the values inplace instead of always setting a new array. To retain the old behavior, use either `df[df.columns[i]] = newvals` or, if columns are non-unique, `df.isetitem(i, newvals)`\n",
      "  airbnb_pd.loc[:,\"minimum_nights\"] = airbnb_pd.minimum_nights.astype(int)\n",
      "\n",
      " 95%|█████████▍| 55/58 [00:14<00:00,  3.37it/s]\u001b[A"
     ]
    },
    {
     "name": "stdout",
     "output_type": "stream",
     "text": [
      "train_noise_5.csv_cleaned_curatorMerge.csv\n"
     ]
    },
    {
     "name": "stderr",
     "output_type": "stream",
     "text": [
      "<ipython-input-15-a8ec1c88f09f>:22: DeprecationWarning: In a future version, `df.iloc[:, i] = newvals` will attempt to set the values inplace instead of always setting a new array. To retain the old behavior, use either `df[df.columns[i]] = newvals` or, if columns are non-unique, `df.isetitem(i, newvals)`\n",
      "  airbnb_pd.loc[:,\"number_of_reviews\"] = airbnb_pd.number_of_reviews.astype(int)\n",
      "<ipython-input-15-a8ec1c88f09f>:23: DeprecationWarning: In a future version, `df.iloc[:, i] = newvals` will attempt to set the values inplace instead of always setting a new array. To retain the old behavior, use either `df[df.columns[i]] = newvals` or, if columns are non-unique, `df.isetitem(i, newvals)`\n",
      "  airbnb_pd.loc[:,\"minimum_nights\"] = airbnb_pd.minimum_nights.astype(int)\n",
      "\n",
      " 97%|█████████▋| 56/58 [00:14<00:00,  3.36it/s]\u001b[A"
     ]
    },
    {
     "name": "stdout",
     "output_type": "stream",
     "text": [
      "train_noise_35.csv_cleaned_curatorMerge.csv\n"
     ]
    },
    {
     "name": "stderr",
     "output_type": "stream",
     "text": [
      "<ipython-input-15-a8ec1c88f09f>:22: DeprecationWarning: In a future version, `df.iloc[:, i] = newvals` will attempt to set the values inplace instead of always setting a new array. To retain the old behavior, use either `df[df.columns[i]] = newvals` or, if columns are non-unique, `df.isetitem(i, newvals)`\n",
      "  airbnb_pd.loc[:,\"number_of_reviews\"] = airbnb_pd.number_of_reviews.astype(int)\n",
      "<ipython-input-15-a8ec1c88f09f>:23: DeprecationWarning: In a future version, `df.iloc[:, i] = newvals` will attempt to set the values inplace instead of always setting a new array. To retain the old behavior, use either `df[df.columns[i]] = newvals` or, if columns are non-unique, `df.isetitem(i, newvals)`\n",
      "  airbnb_pd.loc[:,\"minimum_nights\"] = airbnb_pd.minimum_nights.astype(int)\n",
      "\n",
      " 98%|█████████▊| 57/58 [00:14<00:00,  3.31it/s]\u001b[A"
     ]
    },
    {
     "name": "stdout",
     "output_type": "stream",
     "text": [
      "train_noise_20.csv_cleaned_curatorMerge.csv\n"
     ]
    },
    {
     "name": "stderr",
     "output_type": "stream",
     "text": [
      "<ipython-input-15-a8ec1c88f09f>:22: DeprecationWarning: In a future version, `df.iloc[:, i] = newvals` will attempt to set the values inplace instead of always setting a new array. To retain the old behavior, use either `df[df.columns[i]] = newvals` or, if columns are non-unique, `df.isetitem(i, newvals)`\n",
      "  airbnb_pd.loc[:,\"number_of_reviews\"] = airbnb_pd.number_of_reviews.astype(int)\n",
      "<ipython-input-15-a8ec1c88f09f>:23: DeprecationWarning: In a future version, `df.iloc[:, i] = newvals` will attempt to set the values inplace instead of always setting a new array. To retain the old behavior, use either `df[df.columns[i]] = newvals` or, if columns are non-unique, `df.isetitem(i, newvals)`\n",
      "  airbnb_pd.loc[:,\"minimum_nights\"] = airbnb_pd.minimum_nights.astype(int)\n",
      "\n",
      "100%|██████████| 58/58 [00:15<00:00,  3.82it/s]\n",
      " 70%|███████   | 7/10 [01:55<00:48, 16.07s/it]\n",
      "  0%|          | 0/58 [00:00<?, ?it/s]\u001b[A"
     ]
    },
    {
     "name": "stdout",
     "output_type": "stream",
     "text": [
      "train_noise_30.csv_cleaned_baseline.csv\n",
      "train_noise_40.csv_cleaned_baseline.csv\n"
     ]
    },
    {
     "name": "stderr",
     "output_type": "stream",
     "text": [
      "\n",
      " 21%|██        | 12/58 [00:00<00:01, 29.40it/s]\u001b[A"
     ]
    },
    {
     "name": "stdout",
     "output_type": "stream",
     "text": [
      "train_noise_25.csv_cleaned_baseline.csv\n",
      "train_noise_15.csv_cleaned_baseline.csv\n",
      "train_noise_5.csv_cleaned_baseline.csv\n"
     ]
    },
    {
     "name": "stderr",
     "output_type": "stream",
     "text": [
      "\n",
      " 26%|██▌       | 15/58 [00:01<00:04,  8.75it/s]\u001b[A"
     ]
    },
    {
     "name": "stdout",
     "output_type": "stream",
     "text": [
      "train_noise_35.csv_cleaned_baseline.csv\n",
      "train_noise_10.csv_cleaned_baseline.csv\n"
     ]
    },
    {
     "name": "stderr",
     "output_type": "stream",
     "text": [
      "\n",
      " 29%|██▉       | 17/58 [00:02<00:06,  6.32it/s]\u001b[A"
     ]
    },
    {
     "name": "stdout",
     "output_type": "stream",
     "text": [
      "train_noise_20.csv_cleaned_baseline.csv\n"
     ]
    },
    {
     "name": "stderr",
     "output_type": "stream",
     "text": [
      "\n",
      " 31%|███       | 18/58 [00:02<00:06,  5.72it/s]\u001b[A"
     ]
    },
    {
     "name": "stdout",
     "output_type": "stream",
     "text": [
      "train_noise_40.csv_cleaned_baselineAverage.csv\n"
     ]
    },
    {
     "name": "stderr",
     "output_type": "stream",
     "text": [
      "\n",
      " 33%|███▎      | 19/58 [00:02<00:07,  5.22it/s]\u001b[A"
     ]
    },
    {
     "name": "stdout",
     "output_type": "stream",
     "text": [
      "train_noise_25.csv_cleaned_baselineAverage.csv\n"
     ]
    },
    {
     "name": "stderr",
     "output_type": "stream",
     "text": [
      "\n",
      " 34%|███▍      | 20/58 [00:02<00:07,  4.77it/s]\u001b[A"
     ]
    },
    {
     "name": "stdout",
     "output_type": "stream",
     "text": [
      "train_noise_15.csv_cleaned_baselineAverage.csv\n"
     ]
    },
    {
     "name": "stderr",
     "output_type": "stream",
     "text": [
      "\n",
      " 36%|███▌      | 21/58 [00:03<00:08,  4.30it/s]\u001b[A"
     ]
    },
    {
     "name": "stdout",
     "output_type": "stream",
     "text": [
      "train_noise_30.csv_cleaned_baselineAverage.csv\n"
     ]
    },
    {
     "name": "stderr",
     "output_type": "stream",
     "text": [
      "\n",
      " 38%|███▊      | 22/58 [00:03<00:09,  3.90it/s]\u001b[A"
     ]
    },
    {
     "name": "stdout",
     "output_type": "stream",
     "text": [
      "train_noise_10.csv_cleaned_baselineAverage.csv\n"
     ]
    },
    {
     "name": "stderr",
     "output_type": "stream",
     "text": [
      "\n",
      " 40%|███▉      | 23/58 [00:04<00:10,  3.45it/s]\u001b[A"
     ]
    },
    {
     "name": "stdout",
     "output_type": "stream",
     "text": [
      "train_noise_5.csv_cleaned_baselineAverage.csv\n"
     ]
    },
    {
     "name": "stderr",
     "output_type": "stream",
     "text": [
      "\n",
      " 41%|████▏     | 24/58 [00:04<00:10,  3.21it/s]\u001b[A"
     ]
    },
    {
     "name": "stdout",
     "output_type": "stream",
     "text": [
      "train_noise_35.csv_cleaned_baselineAverage.csv\n"
     ]
    },
    {
     "name": "stderr",
     "output_type": "stream",
     "text": [
      "\n",
      " 43%|████▎     | 25/58 [00:04<00:11,  2.86it/s]\u001b[A"
     ]
    },
    {
     "name": "stdout",
     "output_type": "stream",
     "text": [
      "train_noise_20.csv_cleaned_baselineAverage.csv\n"
     ]
    },
    {
     "name": "stderr",
     "output_type": "stream",
     "text": [
      "\n",
      " 45%|████▍     | 26/58 [00:05<00:10,  3.01it/s]\u001b[A"
     ]
    },
    {
     "name": "stdout",
     "output_type": "stream",
     "text": [
      "train_noise_30.csv_cleaned_curatorC1.csv\n"
     ]
    },
    {
     "name": "stderr",
     "output_type": "stream",
     "text": [
      "<ipython-input-15-a8ec1c88f09f>:22: DeprecationWarning: In a future version, `df.iloc[:, i] = newvals` will attempt to set the values inplace instead of always setting a new array. To retain the old behavior, use either `df[df.columns[i]] = newvals` or, if columns are non-unique, `df.isetitem(i, newvals)`\n",
      "  airbnb_pd.loc[:,\"number_of_reviews\"] = airbnb_pd.number_of_reviews.astype(int)\n",
      "<ipython-input-15-a8ec1c88f09f>:23: DeprecationWarning: In a future version, `df.iloc[:, i] = newvals` will attempt to set the values inplace instead of always setting a new array. To retain the old behavior, use either `df[df.columns[i]] = newvals` or, if columns are non-unique, `df.isetitem(i, newvals)`\n",
      "  airbnb_pd.loc[:,\"minimum_nights\"] = airbnb_pd.minimum_nights.astype(int)\n",
      "\n",
      " 47%|████▋     | 27/58 [00:05<00:10,  3.07it/s]\u001b[A"
     ]
    },
    {
     "name": "stdout",
     "output_type": "stream",
     "text": [
      "train_noise_40.csv_cleaned_curatorC1.csv\n"
     ]
    },
    {
     "name": "stderr",
     "output_type": "stream",
     "text": [
      "<ipython-input-15-a8ec1c88f09f>:22: DeprecationWarning: In a future version, `df.iloc[:, i] = newvals` will attempt to set the values inplace instead of always setting a new array. To retain the old behavior, use either `df[df.columns[i]] = newvals` or, if columns are non-unique, `df.isetitem(i, newvals)`\n",
      "  airbnb_pd.loc[:,\"number_of_reviews\"] = airbnb_pd.number_of_reviews.astype(int)\n",
      "<ipython-input-15-a8ec1c88f09f>:23: DeprecationWarning: In a future version, `df.iloc[:, i] = newvals` will attempt to set the values inplace instead of always setting a new array. To retain the old behavior, use either `df[df.columns[i]] = newvals` or, if columns are non-unique, `df.isetitem(i, newvals)`\n",
      "  airbnb_pd.loc[:,\"minimum_nights\"] = airbnb_pd.minimum_nights.astype(int)\n",
      "\n",
      " 48%|████▊     | 28/58 [00:05<00:09,  3.13it/s]\u001b[A"
     ]
    },
    {
     "name": "stdout",
     "output_type": "stream",
     "text": [
      "train_noise_15.csv_cleaned_curatorC1.csv\n"
     ]
    },
    {
     "name": "stderr",
     "output_type": "stream",
     "text": [
      "<ipython-input-15-a8ec1c88f09f>:22: DeprecationWarning: In a future version, `df.iloc[:, i] = newvals` will attempt to set the values inplace instead of always setting a new array. To retain the old behavior, use either `df[df.columns[i]] = newvals` or, if columns are non-unique, `df.isetitem(i, newvals)`\n",
      "  airbnb_pd.loc[:,\"number_of_reviews\"] = airbnb_pd.number_of_reviews.astype(int)\n",
      "<ipython-input-15-a8ec1c88f09f>:23: DeprecationWarning: In a future version, `df.iloc[:, i] = newvals` will attempt to set the values inplace instead of always setting a new array. To retain the old behavior, use either `df[df.columns[i]] = newvals` or, if columns are non-unique, `df.isetitem(i, newvals)`\n",
      "  airbnb_pd.loc[:,\"minimum_nights\"] = airbnb_pd.minimum_nights.astype(int)\n",
      "\n",
      " 50%|█████     | 29/58 [00:06<00:10,  2.76it/s]\u001b[A"
     ]
    },
    {
     "name": "stdout",
     "output_type": "stream",
     "text": [
      "train_noise_25.csv_cleaned_curatorC1.csv\n"
     ]
    },
    {
     "name": "stderr",
     "output_type": "stream",
     "text": [
      "<ipython-input-15-a8ec1c88f09f>:22: DeprecationWarning: In a future version, `df.iloc[:, i] = newvals` will attempt to set the values inplace instead of always setting a new array. To retain the old behavior, use either `df[df.columns[i]] = newvals` or, if columns are non-unique, `df.isetitem(i, newvals)`\n",
      "  airbnb_pd.loc[:,\"number_of_reviews\"] = airbnb_pd.number_of_reviews.astype(int)\n",
      "<ipython-input-15-a8ec1c88f09f>:23: DeprecationWarning: In a future version, `df.iloc[:, i] = newvals` will attempt to set the values inplace instead of always setting a new array. To retain the old behavior, use either `df[df.columns[i]] = newvals` or, if columns are non-unique, `df.isetitem(i, newvals)`\n",
      "  airbnb_pd.loc[:,\"minimum_nights\"] = airbnb_pd.minimum_nights.astype(int)\n",
      "\n",
      " 52%|█████▏    | 30/58 [00:06<00:09,  2.94it/s]\u001b[A"
     ]
    },
    {
     "name": "stdout",
     "output_type": "stream",
     "text": [
      "train_noise_10.csv_cleaned_curatorC1.csv\n"
     ]
    },
    {
     "name": "stderr",
     "output_type": "stream",
     "text": [
      "<ipython-input-15-a8ec1c88f09f>:22: DeprecationWarning: In a future version, `df.iloc[:, i] = newvals` will attempt to set the values inplace instead of always setting a new array. To retain the old behavior, use either `df[df.columns[i]] = newvals` or, if columns are non-unique, `df.isetitem(i, newvals)`\n",
      "  airbnb_pd.loc[:,\"number_of_reviews\"] = airbnb_pd.number_of_reviews.astype(int)\n",
      "<ipython-input-15-a8ec1c88f09f>:23: DeprecationWarning: In a future version, `df.iloc[:, i] = newvals` will attempt to set the values inplace instead of always setting a new array. To retain the old behavior, use either `df[df.columns[i]] = newvals` or, if columns are non-unique, `df.isetitem(i, newvals)`\n",
      "  airbnb_pd.loc[:,\"minimum_nights\"] = airbnb_pd.minimum_nights.astype(int)\n",
      "\n",
      " 53%|█████▎    | 31/58 [00:06<00:08,  3.08it/s]\u001b[A"
     ]
    },
    {
     "name": "stdout",
     "output_type": "stream",
     "text": [
      "train_noise_35.csv_cleaned_curatorC1.csv\n"
     ]
    },
    {
     "name": "stderr",
     "output_type": "stream",
     "text": [
      "<ipython-input-15-a8ec1c88f09f>:22: DeprecationWarning: In a future version, `df.iloc[:, i] = newvals` will attempt to set the values inplace instead of always setting a new array. To retain the old behavior, use either `df[df.columns[i]] = newvals` or, if columns are non-unique, `df.isetitem(i, newvals)`\n",
      "  airbnb_pd.loc[:,\"number_of_reviews\"] = airbnb_pd.number_of_reviews.astype(int)\n",
      "<ipython-input-15-a8ec1c88f09f>:23: DeprecationWarning: In a future version, `df.iloc[:, i] = newvals` will attempt to set the values inplace instead of always setting a new array. To retain the old behavior, use either `df[df.columns[i]] = newvals` or, if columns are non-unique, `df.isetitem(i, newvals)`\n",
      "  airbnb_pd.loc[:,\"minimum_nights\"] = airbnb_pd.minimum_nights.astype(int)\n",
      "\n",
      " 55%|█████▌    | 32/58 [00:07<00:08,  3.03it/s]\u001b[A"
     ]
    },
    {
     "name": "stdout",
     "output_type": "stream",
     "text": [
      "train_noise_5.csv_cleaned_curatorC1.csv\n"
     ]
    },
    {
     "name": "stderr",
     "output_type": "stream",
     "text": [
      "<ipython-input-15-a8ec1c88f09f>:22: DeprecationWarning: In a future version, `df.iloc[:, i] = newvals` will attempt to set the values inplace instead of always setting a new array. To retain the old behavior, use either `df[df.columns[i]] = newvals` or, if columns are non-unique, `df.isetitem(i, newvals)`\n",
      "  airbnb_pd.loc[:,\"number_of_reviews\"] = airbnb_pd.number_of_reviews.astype(int)\n",
      "<ipython-input-15-a8ec1c88f09f>:23: DeprecationWarning: In a future version, `df.iloc[:, i] = newvals` will attempt to set the values inplace instead of always setting a new array. To retain the old behavior, use either `df[df.columns[i]] = newvals` or, if columns are non-unique, `df.isetitem(i, newvals)`\n",
      "  airbnb_pd.loc[:,\"minimum_nights\"] = airbnb_pd.minimum_nights.astype(int)\n",
      "\n",
      " 57%|█████▋    | 33/58 [00:07<00:08,  2.93it/s]\u001b[A"
     ]
    },
    {
     "name": "stdout",
     "output_type": "stream",
     "text": [
      "train_noise_20.csv_cleaned_curatorC1.csv\n"
     ]
    },
    {
     "name": "stderr",
     "output_type": "stream",
     "text": [
      "<ipython-input-15-a8ec1c88f09f>:22: DeprecationWarning: In a future version, `df.iloc[:, i] = newvals` will attempt to set the values inplace instead of always setting a new array. To retain the old behavior, use either `df[df.columns[i]] = newvals` or, if columns are non-unique, `df.isetitem(i, newvals)`\n",
      "  airbnb_pd.loc[:,\"number_of_reviews\"] = airbnb_pd.number_of_reviews.astype(int)\n",
      "<ipython-input-15-a8ec1c88f09f>:23: DeprecationWarning: In a future version, `df.iloc[:, i] = newvals` will attempt to set the values inplace instead of always setting a new array. To retain the old behavior, use either `df[df.columns[i]] = newvals` or, if columns are non-unique, `df.isetitem(i, newvals)`\n",
      "  airbnb_pd.loc[:,\"minimum_nights\"] = airbnb_pd.minimum_nights.astype(int)\n",
      "\n",
      " 59%|█████▊    | 34/58 [00:07<00:08,  2.89it/s]\u001b[A"
     ]
    },
    {
     "name": "stdout",
     "output_type": "stream",
     "text": [
      "train_noise_40.csv_cleaned_curatorC2.csv\n"
     ]
    },
    {
     "name": "stderr",
     "output_type": "stream",
     "text": [
      "<ipython-input-15-a8ec1c88f09f>:20: DeprecationWarning: In a future version, `df.iloc[:, i] = newvals` will attempt to set the values inplace instead of always setting a new array. To retain the old behavior, use either `df[df.columns[i]] = newvals` or, if columns are non-unique, `df.isetitem(i, newvals)`\n",
      "  airbnb_pd.loc[:,\"latitude\"] = airbnb_pd.latitude.astype(float)\n",
      "<ipython-input-15-a8ec1c88f09f>:21: DeprecationWarning: In a future version, `df.iloc[:, i] = newvals` will attempt to set the values inplace instead of always setting a new array. To retain the old behavior, use either `df[df.columns[i]] = newvals` or, if columns are non-unique, `df.isetitem(i, newvals)`\n",
      "  airbnb_pd.loc[:,\"longitude\"] = airbnb_pd.longitude.astype(float)\n",
      "<ipython-input-15-a8ec1c88f09f>:22: DeprecationWarning: In a future version, `df.iloc[:, i] = newvals` will attempt to set the values inplace instead of always setting a new array. To retain the old behavior, use either `df[df.columns[i]] = newvals` or, if columns are non-unique, `df.isetitem(i, newvals)`\n",
      "  airbnb_pd.loc[:,\"number_of_reviews\"] = airbnb_pd.number_of_reviews.astype(int)\n",
      "<ipython-input-15-a8ec1c88f09f>:23: DeprecationWarning: In a future version, `df.iloc[:, i] = newvals` will attempt to set the values inplace instead of always setting a new array. To retain the old behavior, use either `df[df.columns[i]] = newvals` or, if columns are non-unique, `df.isetitem(i, newvals)`\n",
      "  airbnb_pd.loc[:,\"minimum_nights\"] = airbnb_pd.minimum_nights.astype(int)\n",
      "\n",
      " 60%|██████    | 35/58 [00:08<00:08,  2.86it/s]\u001b[A"
     ]
    },
    {
     "name": "stdout",
     "output_type": "stream",
     "text": [
      "train_noise_30.csv_cleaned_curatorC2.csv\n"
     ]
    },
    {
     "name": "stderr",
     "output_type": "stream",
     "text": [
      "<ipython-input-15-a8ec1c88f09f>:20: DeprecationWarning: In a future version, `df.iloc[:, i] = newvals` will attempt to set the values inplace instead of always setting a new array. To retain the old behavior, use either `df[df.columns[i]] = newvals` or, if columns are non-unique, `df.isetitem(i, newvals)`\n",
      "  airbnb_pd.loc[:,\"latitude\"] = airbnb_pd.latitude.astype(float)\n",
      "<ipython-input-15-a8ec1c88f09f>:21: DeprecationWarning: In a future version, `df.iloc[:, i] = newvals` will attempt to set the values inplace instead of always setting a new array. To retain the old behavior, use either `df[df.columns[i]] = newvals` or, if columns are non-unique, `df.isetitem(i, newvals)`\n",
      "  airbnb_pd.loc[:,\"longitude\"] = airbnb_pd.longitude.astype(float)\n",
      "<ipython-input-15-a8ec1c88f09f>:22: DeprecationWarning: In a future version, `df.iloc[:, i] = newvals` will attempt to set the values inplace instead of always setting a new array. To retain the old behavior, use either `df[df.columns[i]] = newvals` or, if columns are non-unique, `df.isetitem(i, newvals)`\n",
      "  airbnb_pd.loc[:,\"number_of_reviews\"] = airbnb_pd.number_of_reviews.astype(int)\n",
      "<ipython-input-15-a8ec1c88f09f>:23: DeprecationWarning: In a future version, `df.iloc[:, i] = newvals` will attempt to set the values inplace instead of always setting a new array. To retain the old behavior, use either `df[df.columns[i]] = newvals` or, if columns are non-unique, `df.isetitem(i, newvals)`\n",
      "  airbnb_pd.loc[:,\"minimum_nights\"] = airbnb_pd.minimum_nights.astype(int)\n",
      "\n",
      " 62%|██████▏   | 36/58 [00:08<00:07,  2.80it/s]\u001b[A"
     ]
    },
    {
     "name": "stdout",
     "output_type": "stream",
     "text": [
      "train_noise_15.csv_cleaned_curatorC2.csv\n"
     ]
    },
    {
     "name": "stderr",
     "output_type": "stream",
     "text": [
      "<ipython-input-15-a8ec1c88f09f>:20: DeprecationWarning: In a future version, `df.iloc[:, i] = newvals` will attempt to set the values inplace instead of always setting a new array. To retain the old behavior, use either `df[df.columns[i]] = newvals` or, if columns are non-unique, `df.isetitem(i, newvals)`\n",
      "  airbnb_pd.loc[:,\"latitude\"] = airbnb_pd.latitude.astype(float)\n",
      "<ipython-input-15-a8ec1c88f09f>:21: DeprecationWarning: In a future version, `df.iloc[:, i] = newvals` will attempt to set the values inplace instead of always setting a new array. To retain the old behavior, use either `df[df.columns[i]] = newvals` or, if columns are non-unique, `df.isetitem(i, newvals)`\n",
      "  airbnb_pd.loc[:,\"longitude\"] = airbnb_pd.longitude.astype(float)\n",
      "<ipython-input-15-a8ec1c88f09f>:22: DeprecationWarning: In a future version, `df.iloc[:, i] = newvals` will attempt to set the values inplace instead of always setting a new array. To retain the old behavior, use either `df[df.columns[i]] = newvals` or, if columns are non-unique, `df.isetitem(i, newvals)`\n",
      "  airbnb_pd.loc[:,\"number_of_reviews\"] = airbnb_pd.number_of_reviews.astype(int)\n",
      "<ipython-input-15-a8ec1c88f09f>:23: DeprecationWarning: In a future version, `df.iloc[:, i] = newvals` will attempt to set the values inplace instead of always setting a new array. To retain the old behavior, use either `df[df.columns[i]] = newvals` or, if columns are non-unique, `df.isetitem(i, newvals)`\n",
      "  airbnb_pd.loc[:,\"minimum_nights\"] = airbnb_pd.minimum_nights.astype(int)\n",
      "\n",
      " 64%|██████▍   | 37/58 [00:09<00:07,  2.67it/s]\u001b[A"
     ]
    },
    {
     "name": "stdout",
     "output_type": "stream",
     "text": [
      "train_noise_25.csv_cleaned_curatorC2.csv\n"
     ]
    },
    {
     "name": "stderr",
     "output_type": "stream",
     "text": [
      "<ipython-input-15-a8ec1c88f09f>:20: DeprecationWarning: In a future version, `df.iloc[:, i] = newvals` will attempt to set the values inplace instead of always setting a new array. To retain the old behavior, use either `df[df.columns[i]] = newvals` or, if columns are non-unique, `df.isetitem(i, newvals)`\n",
      "  airbnb_pd.loc[:,\"latitude\"] = airbnb_pd.latitude.astype(float)\n",
      "<ipython-input-15-a8ec1c88f09f>:21: DeprecationWarning: In a future version, `df.iloc[:, i] = newvals` will attempt to set the values inplace instead of always setting a new array. To retain the old behavior, use either `df[df.columns[i]] = newvals` or, if columns are non-unique, `df.isetitem(i, newvals)`\n",
      "  airbnb_pd.loc[:,\"longitude\"] = airbnb_pd.longitude.astype(float)\n",
      "<ipython-input-15-a8ec1c88f09f>:22: DeprecationWarning: In a future version, `df.iloc[:, i] = newvals` will attempt to set the values inplace instead of always setting a new array. To retain the old behavior, use either `df[df.columns[i]] = newvals` or, if columns are non-unique, `df.isetitem(i, newvals)`\n",
      "  airbnb_pd.loc[:,\"number_of_reviews\"] = airbnb_pd.number_of_reviews.astype(int)\n",
      "<ipython-input-15-a8ec1c88f09f>:23: DeprecationWarning: In a future version, `df.iloc[:, i] = newvals` will attempt to set the values inplace instead of always setting a new array. To retain the old behavior, use either `df[df.columns[i]] = newvals` or, if columns are non-unique, `df.isetitem(i, newvals)`\n",
      "  airbnb_pd.loc[:,\"minimum_nights\"] = airbnb_pd.minimum_nights.astype(int)\n",
      "\n",
      " 66%|██████▌   | 38/58 [00:09<00:08,  2.38it/s]\u001b[A"
     ]
    },
    {
     "name": "stdout",
     "output_type": "stream",
     "text": [
      "train_noise_10.csv_cleaned_curatorC2.csv\n"
     ]
    },
    {
     "name": "stderr",
     "output_type": "stream",
     "text": [
      "<ipython-input-15-a8ec1c88f09f>:20: DeprecationWarning: In a future version, `df.iloc[:, i] = newvals` will attempt to set the values inplace instead of always setting a new array. To retain the old behavior, use either `df[df.columns[i]] = newvals` or, if columns are non-unique, `df.isetitem(i, newvals)`\n",
      "  airbnb_pd.loc[:,\"latitude\"] = airbnb_pd.latitude.astype(float)\n",
      "<ipython-input-15-a8ec1c88f09f>:21: DeprecationWarning: In a future version, `df.iloc[:, i] = newvals` will attempt to set the values inplace instead of always setting a new array. To retain the old behavior, use either `df[df.columns[i]] = newvals` or, if columns are non-unique, `df.isetitem(i, newvals)`\n",
      "  airbnb_pd.loc[:,\"longitude\"] = airbnb_pd.longitude.astype(float)\n",
      "<ipython-input-15-a8ec1c88f09f>:22: DeprecationWarning: In a future version, `df.iloc[:, i] = newvals` will attempt to set the values inplace instead of always setting a new array. To retain the old behavior, use either `df[df.columns[i]] = newvals` or, if columns are non-unique, `df.isetitem(i, newvals)`\n",
      "  airbnb_pd.loc[:,\"number_of_reviews\"] = airbnb_pd.number_of_reviews.astype(int)\n",
      "<ipython-input-15-a8ec1c88f09f>:23: DeprecationWarning: In a future version, `df.iloc[:, i] = newvals` will attempt to set the values inplace instead of always setting a new array. To retain the old behavior, use either `df[df.columns[i]] = newvals` or, if columns are non-unique, `df.isetitem(i, newvals)`\n",
      "  airbnb_pd.loc[:,\"minimum_nights\"] = airbnb_pd.minimum_nights.astype(int)\n",
      "\n",
      " 67%|██████▋   | 39/58 [00:09<00:07,  2.50it/s]\u001b[A"
     ]
    },
    {
     "name": "stdout",
     "output_type": "stream",
     "text": [
      "train_noise_5.csv_cleaned_curatorC2.csv\n"
     ]
    },
    {
     "name": "stderr",
     "output_type": "stream",
     "text": [
      "<ipython-input-15-a8ec1c88f09f>:20: DeprecationWarning: In a future version, `df.iloc[:, i] = newvals` will attempt to set the values inplace instead of always setting a new array. To retain the old behavior, use either `df[df.columns[i]] = newvals` or, if columns are non-unique, `df.isetitem(i, newvals)`\n",
      "  airbnb_pd.loc[:,\"latitude\"] = airbnb_pd.latitude.astype(float)\n",
      "<ipython-input-15-a8ec1c88f09f>:21: DeprecationWarning: In a future version, `df.iloc[:, i] = newvals` will attempt to set the values inplace instead of always setting a new array. To retain the old behavior, use either `df[df.columns[i]] = newvals` or, if columns are non-unique, `df.isetitem(i, newvals)`\n",
      "  airbnb_pd.loc[:,\"longitude\"] = airbnb_pd.longitude.astype(float)\n",
      "<ipython-input-15-a8ec1c88f09f>:22: DeprecationWarning: In a future version, `df.iloc[:, i] = newvals` will attempt to set the values inplace instead of always setting a new array. To retain the old behavior, use either `df[df.columns[i]] = newvals` or, if columns are non-unique, `df.isetitem(i, newvals)`\n",
      "  airbnb_pd.loc[:,\"number_of_reviews\"] = airbnb_pd.number_of_reviews.astype(int)\n",
      "<ipython-input-15-a8ec1c88f09f>:23: DeprecationWarning: In a future version, `df.iloc[:, i] = newvals` will attempt to set the values inplace instead of always setting a new array. To retain the old behavior, use either `df[df.columns[i]] = newvals` or, if columns are non-unique, `df.isetitem(i, newvals)`\n",
      "  airbnb_pd.loc[:,\"minimum_nights\"] = airbnb_pd.minimum_nights.astype(int)\n",
      "\n",
      " 69%|██████▉   | 40/58 [00:10<00:06,  2.72it/s]\u001b[A"
     ]
    },
    {
     "name": "stdout",
     "output_type": "stream",
     "text": [
      "train_noise_35.csv_cleaned_curatorC2.csv\n"
     ]
    },
    {
     "name": "stderr",
     "output_type": "stream",
     "text": [
      "<ipython-input-15-a8ec1c88f09f>:20: DeprecationWarning: In a future version, `df.iloc[:, i] = newvals` will attempt to set the values inplace instead of always setting a new array. To retain the old behavior, use either `df[df.columns[i]] = newvals` or, if columns are non-unique, `df.isetitem(i, newvals)`\n",
      "  airbnb_pd.loc[:,\"latitude\"] = airbnb_pd.latitude.astype(float)\n",
      "<ipython-input-15-a8ec1c88f09f>:21: DeprecationWarning: In a future version, `df.iloc[:, i] = newvals` will attempt to set the values inplace instead of always setting a new array. To retain the old behavior, use either `df[df.columns[i]] = newvals` or, if columns are non-unique, `df.isetitem(i, newvals)`\n",
      "  airbnb_pd.loc[:,\"longitude\"] = airbnb_pd.longitude.astype(float)\n",
      "<ipython-input-15-a8ec1c88f09f>:22: DeprecationWarning: In a future version, `df.iloc[:, i] = newvals` will attempt to set the values inplace instead of always setting a new array. To retain the old behavior, use either `df[df.columns[i]] = newvals` or, if columns are non-unique, `df.isetitem(i, newvals)`\n",
      "  airbnb_pd.loc[:,\"number_of_reviews\"] = airbnb_pd.number_of_reviews.astype(int)\n",
      "<ipython-input-15-a8ec1c88f09f>:23: DeprecationWarning: In a future version, `df.iloc[:, i] = newvals` will attempt to set the values inplace instead of always setting a new array. To retain the old behavior, use either `df[df.columns[i]] = newvals` or, if columns are non-unique, `df.isetitem(i, newvals)`\n",
      "  airbnb_pd.loc[:,\"minimum_nights\"] = airbnb_pd.minimum_nights.astype(int)\n",
      "\n",
      " 71%|███████   | 41/58 [00:10<00:05,  2.83it/s]\u001b[A"
     ]
    },
    {
     "name": "stdout",
     "output_type": "stream",
     "text": [
      "train_noise_20.csv_cleaned_curatorC2.csv\n"
     ]
    },
    {
     "name": "stderr",
     "output_type": "stream",
     "text": [
      "<ipython-input-15-a8ec1c88f09f>:20: DeprecationWarning: In a future version, `df.iloc[:, i] = newvals` will attempt to set the values inplace instead of always setting a new array. To retain the old behavior, use either `df[df.columns[i]] = newvals` or, if columns are non-unique, `df.isetitem(i, newvals)`\n",
      "  airbnb_pd.loc[:,\"latitude\"] = airbnb_pd.latitude.astype(float)\n",
      "<ipython-input-15-a8ec1c88f09f>:21: DeprecationWarning: In a future version, `df.iloc[:, i] = newvals` will attempt to set the values inplace instead of always setting a new array. To retain the old behavior, use either `df[df.columns[i]] = newvals` or, if columns are non-unique, `df.isetitem(i, newvals)`\n",
      "  airbnb_pd.loc[:,\"longitude\"] = airbnb_pd.longitude.astype(float)\n",
      "<ipython-input-15-a8ec1c88f09f>:22: DeprecationWarning: In a future version, `df.iloc[:, i] = newvals` will attempt to set the values inplace instead of always setting a new array. To retain the old behavior, use either `df[df.columns[i]] = newvals` or, if columns are non-unique, `df.isetitem(i, newvals)`\n",
      "  airbnb_pd.loc[:,\"number_of_reviews\"] = airbnb_pd.number_of_reviews.astype(int)\n",
      "<ipython-input-15-a8ec1c88f09f>:23: DeprecationWarning: In a future version, `df.iloc[:, i] = newvals` will attempt to set the values inplace instead of always setting a new array. To retain the old behavior, use either `df[df.columns[i]] = newvals` or, if columns are non-unique, `df.isetitem(i, newvals)`\n",
      "  airbnb_pd.loc[:,\"minimum_nights\"] = airbnb_pd.minimum_nights.astype(int)\n",
      "\n",
      " 72%|███████▏  | 42/58 [00:10<00:05,  2.89it/s]\u001b[A"
     ]
    },
    {
     "name": "stdout",
     "output_type": "stream",
     "text": [
      "train_noise_40.csv_cleaned_curatorC3.csv\n"
     ]
    },
    {
     "name": "stderr",
     "output_type": "stream",
     "text": [
      "<ipython-input-15-a8ec1c88f09f>:20: DeprecationWarning: In a future version, `df.iloc[:, i] = newvals` will attempt to set the values inplace instead of always setting a new array. To retain the old behavior, use either `df[df.columns[i]] = newvals` or, if columns are non-unique, `df.isetitem(i, newvals)`\n",
      "  airbnb_pd.loc[:,\"latitude\"] = airbnb_pd.latitude.astype(float)\n",
      "<ipython-input-15-a8ec1c88f09f>:21: DeprecationWarning: In a future version, `df.iloc[:, i] = newvals` will attempt to set the values inplace instead of always setting a new array. To retain the old behavior, use either `df[df.columns[i]] = newvals` or, if columns are non-unique, `df.isetitem(i, newvals)`\n",
      "  airbnb_pd.loc[:,\"longitude\"] = airbnb_pd.longitude.astype(float)\n",
      "<ipython-input-15-a8ec1c88f09f>:22: DeprecationWarning: In a future version, `df.iloc[:, i] = newvals` will attempt to set the values inplace instead of always setting a new array. To retain the old behavior, use either `df[df.columns[i]] = newvals` or, if columns are non-unique, `df.isetitem(i, newvals)`\n",
      "  airbnb_pd.loc[:,\"number_of_reviews\"] = airbnb_pd.number_of_reviews.astype(int)\n",
      "<ipython-input-15-a8ec1c88f09f>:23: DeprecationWarning: In a future version, `df.iloc[:, i] = newvals` will attempt to set the values inplace instead of always setting a new array. To retain the old behavior, use either `df[df.columns[i]] = newvals` or, if columns are non-unique, `df.isetitem(i, newvals)`\n",
      "  airbnb_pd.loc[:,\"minimum_nights\"] = airbnb_pd.minimum_nights.astype(int)\n",
      "\n",
      " 74%|███████▍  | 43/58 [00:11<00:05,  3.00it/s]\u001b[A"
     ]
    },
    {
     "name": "stdout",
     "output_type": "stream",
     "text": [
      "train_noise_30.csv_cleaned_curatorC3.csv\n"
     ]
    },
    {
     "name": "stderr",
     "output_type": "stream",
     "text": [
      "<ipython-input-15-a8ec1c88f09f>:20: DeprecationWarning: In a future version, `df.iloc[:, i] = newvals` will attempt to set the values inplace instead of always setting a new array. To retain the old behavior, use either `df[df.columns[i]] = newvals` or, if columns are non-unique, `df.isetitem(i, newvals)`\n",
      "  airbnb_pd.loc[:,\"latitude\"] = airbnb_pd.latitude.astype(float)\n",
      "<ipython-input-15-a8ec1c88f09f>:21: DeprecationWarning: In a future version, `df.iloc[:, i] = newvals` will attempt to set the values inplace instead of always setting a new array. To retain the old behavior, use either `df[df.columns[i]] = newvals` or, if columns are non-unique, `df.isetitem(i, newvals)`\n",
      "  airbnb_pd.loc[:,\"longitude\"] = airbnb_pd.longitude.astype(float)\n",
      "<ipython-input-15-a8ec1c88f09f>:22: DeprecationWarning: In a future version, `df.iloc[:, i] = newvals` will attempt to set the values inplace instead of always setting a new array. To retain the old behavior, use either `df[df.columns[i]] = newvals` or, if columns are non-unique, `df.isetitem(i, newvals)`\n",
      "  airbnb_pd.loc[:,\"number_of_reviews\"] = airbnb_pd.number_of_reviews.astype(int)\n",
      "<ipython-input-15-a8ec1c88f09f>:23: DeprecationWarning: In a future version, `df.iloc[:, i] = newvals` will attempt to set the values inplace instead of always setting a new array. To retain the old behavior, use either `df[df.columns[i]] = newvals` or, if columns are non-unique, `df.isetitem(i, newvals)`\n",
      "  airbnb_pd.loc[:,\"minimum_nights\"] = airbnb_pd.minimum_nights.astype(int)\n",
      "\n",
      " 76%|███████▌  | 44/58 [00:11<00:04,  2.87it/s]\u001b[A"
     ]
    },
    {
     "name": "stdout",
     "output_type": "stream",
     "text": [
      "train_noise_15.csv_cleaned_curatorC3.csv\n"
     ]
    },
    {
     "name": "stderr",
     "output_type": "stream",
     "text": [
      "<ipython-input-15-a8ec1c88f09f>:20: DeprecationWarning: In a future version, `df.iloc[:, i] = newvals` will attempt to set the values inplace instead of always setting a new array. To retain the old behavior, use either `df[df.columns[i]] = newvals` or, if columns are non-unique, `df.isetitem(i, newvals)`\n",
      "  airbnb_pd.loc[:,\"latitude\"] = airbnb_pd.latitude.astype(float)\n",
      "<ipython-input-15-a8ec1c88f09f>:21: DeprecationWarning: In a future version, `df.iloc[:, i] = newvals` will attempt to set the values inplace instead of always setting a new array. To retain the old behavior, use either `df[df.columns[i]] = newvals` or, if columns are non-unique, `df.isetitem(i, newvals)`\n",
      "  airbnb_pd.loc[:,\"longitude\"] = airbnb_pd.longitude.astype(float)\n",
      "<ipython-input-15-a8ec1c88f09f>:22: DeprecationWarning: In a future version, `df.iloc[:, i] = newvals` will attempt to set the values inplace instead of always setting a new array. To retain the old behavior, use either `df[df.columns[i]] = newvals` or, if columns are non-unique, `df.isetitem(i, newvals)`\n",
      "  airbnb_pd.loc[:,\"number_of_reviews\"] = airbnb_pd.number_of_reviews.astype(int)\n",
      "<ipython-input-15-a8ec1c88f09f>:23: DeprecationWarning: In a future version, `df.iloc[:, i] = newvals` will attempt to set the values inplace instead of always setting a new array. To retain the old behavior, use either `df[df.columns[i]] = newvals` or, if columns are non-unique, `df.isetitem(i, newvals)`\n",
      "  airbnb_pd.loc[:,\"minimum_nights\"] = airbnb_pd.minimum_nights.astype(int)\n",
      "\n",
      " 78%|███████▊  | 45/58 [00:11<00:04,  2.86it/s]\u001b[A"
     ]
    },
    {
     "name": "stdout",
     "output_type": "stream",
     "text": [
      "train_noise_25.csv_cleaned_curatorC3.csv\n"
     ]
    },
    {
     "name": "stderr",
     "output_type": "stream",
     "text": [
      "<ipython-input-15-a8ec1c88f09f>:20: DeprecationWarning: In a future version, `df.iloc[:, i] = newvals` will attempt to set the values inplace instead of always setting a new array. To retain the old behavior, use either `df[df.columns[i]] = newvals` or, if columns are non-unique, `df.isetitem(i, newvals)`\n",
      "  airbnb_pd.loc[:,\"latitude\"] = airbnb_pd.latitude.astype(float)\n",
      "<ipython-input-15-a8ec1c88f09f>:21: DeprecationWarning: In a future version, `df.iloc[:, i] = newvals` will attempt to set the values inplace instead of always setting a new array. To retain the old behavior, use either `df[df.columns[i]] = newvals` or, if columns are non-unique, `df.isetitem(i, newvals)`\n",
      "  airbnb_pd.loc[:,\"longitude\"] = airbnb_pd.longitude.astype(float)\n",
      "<ipython-input-15-a8ec1c88f09f>:22: DeprecationWarning: In a future version, `df.iloc[:, i] = newvals` will attempt to set the values inplace instead of always setting a new array. To retain the old behavior, use either `df[df.columns[i]] = newvals` or, if columns are non-unique, `df.isetitem(i, newvals)`\n",
      "  airbnb_pd.loc[:,\"number_of_reviews\"] = airbnb_pd.number_of_reviews.astype(int)\n",
      "<ipython-input-15-a8ec1c88f09f>:23: DeprecationWarning: In a future version, `df.iloc[:, i] = newvals` will attempt to set the values inplace instead of always setting a new array. To retain the old behavior, use either `df[df.columns[i]] = newvals` or, if columns are non-unique, `df.isetitem(i, newvals)`\n",
      "  airbnb_pd.loc[:,\"minimum_nights\"] = airbnb_pd.minimum_nights.astype(int)\n",
      "\n",
      " 79%|███████▉  | 46/58 [00:12<00:04,  2.96it/s]\u001b[A"
     ]
    },
    {
     "name": "stdout",
     "output_type": "stream",
     "text": [
      "train_noise_10.csv_cleaned_curatorC3.csv\n"
     ]
    },
    {
     "name": "stderr",
     "output_type": "stream",
     "text": [
      "<ipython-input-15-a8ec1c88f09f>:20: DeprecationWarning: In a future version, `df.iloc[:, i] = newvals` will attempt to set the values inplace instead of always setting a new array. To retain the old behavior, use either `df[df.columns[i]] = newvals` or, if columns are non-unique, `df.isetitem(i, newvals)`\n",
      "  airbnb_pd.loc[:,\"latitude\"] = airbnb_pd.latitude.astype(float)\n",
      "<ipython-input-15-a8ec1c88f09f>:21: DeprecationWarning: In a future version, `df.iloc[:, i] = newvals` will attempt to set the values inplace instead of always setting a new array. To retain the old behavior, use either `df[df.columns[i]] = newvals` or, if columns are non-unique, `df.isetitem(i, newvals)`\n",
      "  airbnb_pd.loc[:,\"longitude\"] = airbnb_pd.longitude.astype(float)\n",
      "<ipython-input-15-a8ec1c88f09f>:22: DeprecationWarning: In a future version, `df.iloc[:, i] = newvals` will attempt to set the values inplace instead of always setting a new array. To retain the old behavior, use either `df[df.columns[i]] = newvals` or, if columns are non-unique, `df.isetitem(i, newvals)`\n",
      "  airbnb_pd.loc[:,\"number_of_reviews\"] = airbnb_pd.number_of_reviews.astype(int)\n",
      "<ipython-input-15-a8ec1c88f09f>:23: DeprecationWarning: In a future version, `df.iloc[:, i] = newvals` will attempt to set the values inplace instead of always setting a new array. To retain the old behavior, use either `df[df.columns[i]] = newvals` or, if columns are non-unique, `df.isetitem(i, newvals)`\n",
      "  airbnb_pd.loc[:,\"minimum_nights\"] = airbnb_pd.minimum_nights.astype(int)\n",
      "\n",
      " 81%|████████  | 47/58 [00:12<00:03,  3.06it/s]\u001b[A"
     ]
    },
    {
     "name": "stdout",
     "output_type": "stream",
     "text": [
      "train_noise_5.csv_cleaned_curatorC3.csv\n"
     ]
    },
    {
     "name": "stderr",
     "output_type": "stream",
     "text": [
      "<ipython-input-15-a8ec1c88f09f>:20: DeprecationWarning: In a future version, `df.iloc[:, i] = newvals` will attempt to set the values inplace instead of always setting a new array. To retain the old behavior, use either `df[df.columns[i]] = newvals` or, if columns are non-unique, `df.isetitem(i, newvals)`\n",
      "  airbnb_pd.loc[:,\"latitude\"] = airbnb_pd.latitude.astype(float)\n",
      "<ipython-input-15-a8ec1c88f09f>:21: DeprecationWarning: In a future version, `df.iloc[:, i] = newvals` will attempt to set the values inplace instead of always setting a new array. To retain the old behavior, use either `df[df.columns[i]] = newvals` or, if columns are non-unique, `df.isetitem(i, newvals)`\n",
      "  airbnb_pd.loc[:,\"longitude\"] = airbnb_pd.longitude.astype(float)\n",
      "<ipython-input-15-a8ec1c88f09f>:22: DeprecationWarning: In a future version, `df.iloc[:, i] = newvals` will attempt to set the values inplace instead of always setting a new array. To retain the old behavior, use either `df[df.columns[i]] = newvals` or, if columns are non-unique, `df.isetitem(i, newvals)`\n",
      "  airbnb_pd.loc[:,\"number_of_reviews\"] = airbnb_pd.number_of_reviews.astype(int)\n",
      "<ipython-input-15-a8ec1c88f09f>:23: DeprecationWarning: In a future version, `df.iloc[:, i] = newvals` will attempt to set the values inplace instead of always setting a new array. To retain the old behavior, use either `df[df.columns[i]] = newvals` or, if columns are non-unique, `df.isetitem(i, newvals)`\n",
      "  airbnb_pd.loc[:,\"minimum_nights\"] = airbnb_pd.minimum_nights.astype(int)\n",
      "\n",
      " 83%|████████▎ | 48/58 [00:12<00:03,  3.08it/s]\u001b[A"
     ]
    },
    {
     "name": "stdout",
     "output_type": "stream",
     "text": [
      "train_noise_35.csv_cleaned_curatorC3.csv\n"
     ]
    },
    {
     "name": "stderr",
     "output_type": "stream",
     "text": [
      "<ipython-input-15-a8ec1c88f09f>:20: DeprecationWarning: In a future version, `df.iloc[:, i] = newvals` will attempt to set the values inplace instead of always setting a new array. To retain the old behavior, use either `df[df.columns[i]] = newvals` or, if columns are non-unique, `df.isetitem(i, newvals)`\n",
      "  airbnb_pd.loc[:,\"latitude\"] = airbnb_pd.latitude.astype(float)\n",
      "<ipython-input-15-a8ec1c88f09f>:21: DeprecationWarning: In a future version, `df.iloc[:, i] = newvals` will attempt to set the values inplace instead of always setting a new array. To retain the old behavior, use either `df[df.columns[i]] = newvals` or, if columns are non-unique, `df.isetitem(i, newvals)`\n",
      "  airbnb_pd.loc[:,\"longitude\"] = airbnb_pd.longitude.astype(float)\n",
      "<ipython-input-15-a8ec1c88f09f>:22: DeprecationWarning: In a future version, `df.iloc[:, i] = newvals` will attempt to set the values inplace instead of always setting a new array. To retain the old behavior, use either `df[df.columns[i]] = newvals` or, if columns are non-unique, `df.isetitem(i, newvals)`\n",
      "  airbnb_pd.loc[:,\"number_of_reviews\"] = airbnb_pd.number_of_reviews.astype(int)\n",
      "<ipython-input-15-a8ec1c88f09f>:23: DeprecationWarning: In a future version, `df.iloc[:, i] = newvals` will attempt to set the values inplace instead of always setting a new array. To retain the old behavior, use either `df[df.columns[i]] = newvals` or, if columns are non-unique, `df.isetitem(i, newvals)`\n",
      "  airbnb_pd.loc[:,\"minimum_nights\"] = airbnb_pd.minimum_nights.astype(int)\n",
      "\n",
      " 84%|████████▍ | 49/58 [00:13<00:02,  3.11it/s]\u001b[A"
     ]
    },
    {
     "name": "stdout",
     "output_type": "stream",
     "text": [
      "train_noise_20.csv_cleaned_curatorC3.csv\n"
     ]
    },
    {
     "name": "stderr",
     "output_type": "stream",
     "text": [
      "<ipython-input-15-a8ec1c88f09f>:20: DeprecationWarning: In a future version, `df.iloc[:, i] = newvals` will attempt to set the values inplace instead of always setting a new array. To retain the old behavior, use either `df[df.columns[i]] = newvals` or, if columns are non-unique, `df.isetitem(i, newvals)`\n",
      "  airbnb_pd.loc[:,\"latitude\"] = airbnb_pd.latitude.astype(float)\n",
      "<ipython-input-15-a8ec1c88f09f>:21: DeprecationWarning: In a future version, `df.iloc[:, i] = newvals` will attempt to set the values inplace instead of always setting a new array. To retain the old behavior, use either `df[df.columns[i]] = newvals` or, if columns are non-unique, `df.isetitem(i, newvals)`\n",
      "  airbnb_pd.loc[:,\"longitude\"] = airbnb_pd.longitude.astype(float)\n",
      "<ipython-input-15-a8ec1c88f09f>:22: DeprecationWarning: In a future version, `df.iloc[:, i] = newvals` will attempt to set the values inplace instead of always setting a new array. To retain the old behavior, use either `df[df.columns[i]] = newvals` or, if columns are non-unique, `df.isetitem(i, newvals)`\n",
      "  airbnb_pd.loc[:,\"number_of_reviews\"] = airbnb_pd.number_of_reviews.astype(int)\n",
      "<ipython-input-15-a8ec1c88f09f>:23: DeprecationWarning: In a future version, `df.iloc[:, i] = newvals` will attempt to set the values inplace instead of always setting a new array. To retain the old behavior, use either `df[df.columns[i]] = newvals` or, if columns are non-unique, `df.isetitem(i, newvals)`\n",
      "  airbnb_pd.loc[:,\"minimum_nights\"] = airbnb_pd.minimum_nights.astype(int)\n",
      "\n",
      " 86%|████████▌ | 50/58 [00:13<00:02,  3.05it/s]\u001b[A"
     ]
    },
    {
     "name": "stdout",
     "output_type": "stream",
     "text": [
      "train_noise_40.csv_cleaned_curatorMerge.csv\n"
     ]
    },
    {
     "name": "stderr",
     "output_type": "stream",
     "text": [
      "<ipython-input-15-a8ec1c88f09f>:22: DeprecationWarning: In a future version, `df.iloc[:, i] = newvals` will attempt to set the values inplace instead of always setting a new array. To retain the old behavior, use either `df[df.columns[i]] = newvals` or, if columns are non-unique, `df.isetitem(i, newvals)`\n",
      "  airbnb_pd.loc[:,\"number_of_reviews\"] = airbnb_pd.number_of_reviews.astype(int)\n",
      "<ipython-input-15-a8ec1c88f09f>:23: DeprecationWarning: In a future version, `df.iloc[:, i] = newvals` will attempt to set the values inplace instead of always setting a new array. To retain the old behavior, use either `df[df.columns[i]] = newvals` or, if columns are non-unique, `df.isetitem(i, newvals)`\n",
      "  airbnb_pd.loc[:,\"minimum_nights\"] = airbnb_pd.minimum_nights.astype(int)\n",
      "\n",
      " 88%|████████▊ | 51/58 [00:13<00:02,  3.04it/s]\u001b[A"
     ]
    },
    {
     "name": "stdout",
     "output_type": "stream",
     "text": [
      "train_noise_30.csv_cleaned_curatorMerge.csv\n"
     ]
    },
    {
     "name": "stderr",
     "output_type": "stream",
     "text": [
      "<ipython-input-15-a8ec1c88f09f>:22: DeprecationWarning: In a future version, `df.iloc[:, i] = newvals` will attempt to set the values inplace instead of always setting a new array. To retain the old behavior, use either `df[df.columns[i]] = newvals` or, if columns are non-unique, `df.isetitem(i, newvals)`\n",
      "  airbnb_pd.loc[:,\"number_of_reviews\"] = airbnb_pd.number_of_reviews.astype(int)\n",
      "<ipython-input-15-a8ec1c88f09f>:23: DeprecationWarning: In a future version, `df.iloc[:, i] = newvals` will attempt to set the values inplace instead of always setting a new array. To retain the old behavior, use either `df[df.columns[i]] = newvals` or, if columns are non-unique, `df.isetitem(i, newvals)`\n",
      "  airbnb_pd.loc[:,\"minimum_nights\"] = airbnb_pd.minimum_nights.astype(int)\n",
      "\n",
      " 90%|████████▉ | 52/58 [00:14<00:01,  3.08it/s]\u001b[A"
     ]
    },
    {
     "name": "stdout",
     "output_type": "stream",
     "text": [
      "train_noise_15.csv_cleaned_curatorMerge.csv\n"
     ]
    },
    {
     "name": "stderr",
     "output_type": "stream",
     "text": [
      "<ipython-input-15-a8ec1c88f09f>:22: DeprecationWarning: In a future version, `df.iloc[:, i] = newvals` will attempt to set the values inplace instead of always setting a new array. To retain the old behavior, use either `df[df.columns[i]] = newvals` or, if columns are non-unique, `df.isetitem(i, newvals)`\n",
      "  airbnb_pd.loc[:,\"number_of_reviews\"] = airbnb_pd.number_of_reviews.astype(int)\n",
      "<ipython-input-15-a8ec1c88f09f>:23: DeprecationWarning: In a future version, `df.iloc[:, i] = newvals` will attempt to set the values inplace instead of always setting a new array. To retain the old behavior, use either `df[df.columns[i]] = newvals` or, if columns are non-unique, `df.isetitem(i, newvals)`\n",
      "  airbnb_pd.loc[:,\"minimum_nights\"] = airbnb_pd.minimum_nights.astype(int)\n",
      "\n",
      " 91%|█████████▏| 53/58 [00:14<00:01,  3.08it/s]\u001b[A"
     ]
    },
    {
     "name": "stdout",
     "output_type": "stream",
     "text": [
      "train_noise_25.csv_cleaned_curatorMerge.csv\n"
     ]
    },
    {
     "name": "stderr",
     "output_type": "stream",
     "text": [
      "<ipython-input-15-a8ec1c88f09f>:22: DeprecationWarning: In a future version, `df.iloc[:, i] = newvals` will attempt to set the values inplace instead of always setting a new array. To retain the old behavior, use either `df[df.columns[i]] = newvals` or, if columns are non-unique, `df.isetitem(i, newvals)`\n",
      "  airbnb_pd.loc[:,\"number_of_reviews\"] = airbnb_pd.number_of_reviews.astype(int)\n",
      "<ipython-input-15-a8ec1c88f09f>:23: DeprecationWarning: In a future version, `df.iloc[:, i] = newvals` will attempt to set the values inplace instead of always setting a new array. To retain the old behavior, use either `df[df.columns[i]] = newvals` or, if columns are non-unique, `df.isetitem(i, newvals)`\n",
      "  airbnb_pd.loc[:,\"minimum_nights\"] = airbnb_pd.minimum_nights.astype(int)\n",
      "\n",
      " 93%|█████████▎| 54/58 [00:14<00:01,  3.03it/s]\u001b[A"
     ]
    },
    {
     "name": "stdout",
     "output_type": "stream",
     "text": [
      "train_noise_10.csv_cleaned_curatorMerge.csv\n"
     ]
    },
    {
     "name": "stderr",
     "output_type": "stream",
     "text": [
      "<ipython-input-15-a8ec1c88f09f>:22: DeprecationWarning: In a future version, `df.iloc[:, i] = newvals` will attempt to set the values inplace instead of always setting a new array. To retain the old behavior, use either `df[df.columns[i]] = newvals` or, if columns are non-unique, `df.isetitem(i, newvals)`\n",
      "  airbnb_pd.loc[:,\"number_of_reviews\"] = airbnb_pd.number_of_reviews.astype(int)\n",
      "<ipython-input-15-a8ec1c88f09f>:23: DeprecationWarning: In a future version, `df.iloc[:, i] = newvals` will attempt to set the values inplace instead of always setting a new array. To retain the old behavior, use either `df[df.columns[i]] = newvals` or, if columns are non-unique, `df.isetitem(i, newvals)`\n",
      "  airbnb_pd.loc[:,\"minimum_nights\"] = airbnb_pd.minimum_nights.astype(int)\n",
      "\n",
      " 95%|█████████▍| 55/58 [00:15<00:01,  2.88it/s]\u001b[A"
     ]
    },
    {
     "name": "stdout",
     "output_type": "stream",
     "text": [
      "train_noise_5.csv_cleaned_curatorMerge.csv\n"
     ]
    },
    {
     "name": "stderr",
     "output_type": "stream",
     "text": [
      "<ipython-input-15-a8ec1c88f09f>:22: DeprecationWarning: In a future version, `df.iloc[:, i] = newvals` will attempt to set the values inplace instead of always setting a new array. To retain the old behavior, use either `df[df.columns[i]] = newvals` or, if columns are non-unique, `df.isetitem(i, newvals)`\n",
      "  airbnb_pd.loc[:,\"number_of_reviews\"] = airbnb_pd.number_of_reviews.astype(int)\n",
      "<ipython-input-15-a8ec1c88f09f>:23: DeprecationWarning: In a future version, `df.iloc[:, i] = newvals` will attempt to set the values inplace instead of always setting a new array. To retain the old behavior, use either `df[df.columns[i]] = newvals` or, if columns are non-unique, `df.isetitem(i, newvals)`\n",
      "  airbnb_pd.loc[:,\"minimum_nights\"] = airbnb_pd.minimum_nights.astype(int)\n",
      "\n",
      " 97%|█████████▋| 56/58 [00:15<00:00,  2.95it/s]\u001b[A"
     ]
    },
    {
     "name": "stdout",
     "output_type": "stream",
     "text": [
      "train_noise_35.csv_cleaned_curatorMerge.csv\n"
     ]
    },
    {
     "name": "stderr",
     "output_type": "stream",
     "text": [
      "<ipython-input-15-a8ec1c88f09f>:22: DeprecationWarning: In a future version, `df.iloc[:, i] = newvals` will attempt to set the values inplace instead of always setting a new array. To retain the old behavior, use either `df[df.columns[i]] = newvals` or, if columns are non-unique, `df.isetitem(i, newvals)`\n",
      "  airbnb_pd.loc[:,\"number_of_reviews\"] = airbnb_pd.number_of_reviews.astype(int)\n",
      "<ipython-input-15-a8ec1c88f09f>:23: DeprecationWarning: In a future version, `df.iloc[:, i] = newvals` will attempt to set the values inplace instead of always setting a new array. To retain the old behavior, use either `df[df.columns[i]] = newvals` or, if columns are non-unique, `df.isetitem(i, newvals)`\n",
      "  airbnb_pd.loc[:,\"minimum_nights\"] = airbnb_pd.minimum_nights.astype(int)\n",
      "\n",
      " 98%|█████████▊| 57/58 [00:15<00:00,  2.97it/s]\u001b[A"
     ]
    },
    {
     "name": "stdout",
     "output_type": "stream",
     "text": [
      "train_noise_20.csv_cleaned_curatorMerge.csv\n"
     ]
    },
    {
     "name": "stderr",
     "output_type": "stream",
     "text": [
      "<ipython-input-15-a8ec1c88f09f>:22: DeprecationWarning: In a future version, `df.iloc[:, i] = newvals` will attempt to set the values inplace instead of always setting a new array. To retain the old behavior, use either `df[df.columns[i]] = newvals` or, if columns are non-unique, `df.isetitem(i, newvals)`\n",
      "  airbnb_pd.loc[:,\"number_of_reviews\"] = airbnb_pd.number_of_reviews.astype(int)\n",
      "<ipython-input-15-a8ec1c88f09f>:23: DeprecationWarning: In a future version, `df.iloc[:, i] = newvals` will attempt to set the values inplace instead of always setting a new array. To retain the old behavior, use either `df[df.columns[i]] = newvals` or, if columns are non-unique, `df.isetitem(i, newvals)`\n",
      "  airbnb_pd.loc[:,\"minimum_nights\"] = airbnb_pd.minimum_nights.astype(int)\n",
      "\n",
      "100%|██████████| 58/58 [00:16<00:00,  3.59it/s]\n",
      " 80%|████████  | 8/10 [02:11<00:32, 16.13s/it]\n",
      "  0%|          | 0/58 [00:00<?, ?it/s]\u001b[A"
     ]
    },
    {
     "name": "stdout",
     "output_type": "stream",
     "text": [
      "train_noise_30.csv_cleaned_baseline.csv\n",
      "train_noise_15.csv_cleaned_baseline.csv\n"
     ]
    },
    {
     "name": "stderr",
     "output_type": "stream",
     "text": [
      "\n",
      " 21%|██        | 12/58 [00:00<00:01, 29.55it/s]\u001b[A"
     ]
    },
    {
     "name": "stdout",
     "output_type": "stream",
     "text": [
      "train_noise_40.csv_cleaned_baseline.csv\n",
      "train_noise_25.csv_cleaned_baseline.csv\n",
      "train_noise_10.csv_cleaned_baseline.csv\n"
     ]
    },
    {
     "name": "stderr",
     "output_type": "stream",
     "text": [
      "\n",
      " 26%|██▌       | 15/58 [00:01<00:04,  9.01it/s]\u001b[A"
     ]
    },
    {
     "name": "stdout",
     "output_type": "stream",
     "text": [
      "train_noise_5.csv_cleaned_baseline.csv\n",
      "train_noise_35.csv_cleaned_baseline.csv\n"
     ]
    },
    {
     "name": "stderr",
     "output_type": "stream",
     "text": [
      "\n",
      " 29%|██▉       | 17/58 [00:01<00:06,  6.78it/s]\u001b[A"
     ]
    },
    {
     "name": "stdout",
     "output_type": "stream",
     "text": [
      "train_noise_20.csv_cleaned_baseline.csv\n"
     ]
    },
    {
     "name": "stderr",
     "output_type": "stream",
     "text": [
      "\n",
      " 31%|███       | 18/58 [00:02<00:06,  5.99it/s]\u001b[A"
     ]
    },
    {
     "name": "stdout",
     "output_type": "stream",
     "text": [
      "train_noise_15.csv_cleaned_baselineAverage.csv\n"
     ]
    },
    {
     "name": "stderr",
     "output_type": "stream",
     "text": [
      "\n",
      " 33%|███▎      | 19/58 [00:02<00:07,  5.05it/s]\u001b[A"
     ]
    },
    {
     "name": "stdout",
     "output_type": "stream",
     "text": [
      "train_noise_40.csv_cleaned_baselineAverage.csv\n"
     ]
    },
    {
     "name": "stderr",
     "output_type": "stream",
     "text": [
      "\n",
      " 34%|███▍      | 20/58 [00:02<00:08,  4.62it/s]\u001b[A"
     ]
    },
    {
     "name": "stdout",
     "output_type": "stream",
     "text": [
      "train_noise_30.csv_cleaned_baselineAverage.csv\n"
     ]
    },
    {
     "name": "stderr",
     "output_type": "stream",
     "text": [
      "\n",
      " 36%|███▌      | 21/58 [00:03<00:08,  4.13it/s]\u001b[A"
     ]
    },
    {
     "name": "stdout",
     "output_type": "stream",
     "text": [
      "train_noise_5.csv_cleaned_baselineAverage.csv\n"
     ]
    },
    {
     "name": "stderr",
     "output_type": "stream",
     "text": [
      "\n",
      " 38%|███▊      | 22/58 [00:03<00:09,  3.97it/s]\u001b[A"
     ]
    },
    {
     "name": "stdout",
     "output_type": "stream",
     "text": [
      "train_noise_25.csv_cleaned_baselineAverage.csv\n"
     ]
    },
    {
     "name": "stderr",
     "output_type": "stream",
     "text": [
      "\n",
      " 40%|███▉      | 23/58 [00:03<00:09,  3.61it/s]\u001b[A"
     ]
    },
    {
     "name": "stdout",
     "output_type": "stream",
     "text": [
      "train_noise_10.csv_cleaned_baselineAverage.csv\n"
     ]
    },
    {
     "name": "stderr",
     "output_type": "stream",
     "text": [
      "\n",
      " 41%|████▏     | 24/58 [00:04<00:10,  3.35it/s]\u001b[A"
     ]
    },
    {
     "name": "stdout",
     "output_type": "stream",
     "text": [
      "train_noise_35.csv_cleaned_baselineAverage.csv\n"
     ]
    },
    {
     "name": "stderr",
     "output_type": "stream",
     "text": [
      "\n",
      " 43%|████▎     | 25/58 [00:04<00:10,  3.05it/s]\u001b[A"
     ]
    },
    {
     "name": "stdout",
     "output_type": "stream",
     "text": [
      "train_noise_20.csv_cleaned_baselineAverage.csv\n"
     ]
    },
    {
     "name": "stderr",
     "output_type": "stream",
     "text": [
      "\n",
      " 45%|████▍     | 26/58 [00:05<00:10,  3.00it/s]\u001b[A"
     ]
    },
    {
     "name": "stdout",
     "output_type": "stream",
     "text": [
      "train_noise_40.csv_cleaned_curatorC1.csv\n"
     ]
    },
    {
     "name": "stderr",
     "output_type": "stream",
     "text": [
      "<ipython-input-15-a8ec1c88f09f>:22: DeprecationWarning: In a future version, `df.iloc[:, i] = newvals` will attempt to set the values inplace instead of always setting a new array. To retain the old behavior, use either `df[df.columns[i]] = newvals` or, if columns are non-unique, `df.isetitem(i, newvals)`\n",
      "  airbnb_pd.loc[:,\"number_of_reviews\"] = airbnb_pd.number_of_reviews.astype(int)\n",
      "<ipython-input-15-a8ec1c88f09f>:23: DeprecationWarning: In a future version, `df.iloc[:, i] = newvals` will attempt to set the values inplace instead of always setting a new array. To retain the old behavior, use either `df[df.columns[i]] = newvals` or, if columns are non-unique, `df.isetitem(i, newvals)`\n",
      "  airbnb_pd.loc[:,\"minimum_nights\"] = airbnb_pd.minimum_nights.astype(int)\n",
      "\n",
      " 47%|████▋     | 27/58 [00:05<00:10,  2.96it/s]\u001b[A"
     ]
    },
    {
     "name": "stdout",
     "output_type": "stream",
     "text": [
      "train_noise_30.csv_cleaned_curatorC1.csv\n"
     ]
    },
    {
     "name": "stderr",
     "output_type": "stream",
     "text": [
      "<ipython-input-15-a8ec1c88f09f>:22: DeprecationWarning: In a future version, `df.iloc[:, i] = newvals` will attempt to set the values inplace instead of always setting a new array. To retain the old behavior, use either `df[df.columns[i]] = newvals` or, if columns are non-unique, `df.isetitem(i, newvals)`\n",
      "  airbnb_pd.loc[:,\"number_of_reviews\"] = airbnb_pd.number_of_reviews.astype(int)\n",
      "<ipython-input-15-a8ec1c88f09f>:23: DeprecationWarning: In a future version, `df.iloc[:, i] = newvals` will attempt to set the values inplace instead of always setting a new array. To retain the old behavior, use either `df[df.columns[i]] = newvals` or, if columns are non-unique, `df.isetitem(i, newvals)`\n",
      "  airbnb_pd.loc[:,\"minimum_nights\"] = airbnb_pd.minimum_nights.astype(int)\n",
      "\n",
      " 48%|████▊     | 28/58 [00:05<00:10,  2.98it/s]\u001b[A"
     ]
    },
    {
     "name": "stdout",
     "output_type": "stream",
     "text": [
      "train_noise_15.csv_cleaned_curatorC1.csv\n"
     ]
    },
    {
     "name": "stderr",
     "output_type": "stream",
     "text": [
      "<ipython-input-15-a8ec1c88f09f>:22: DeprecationWarning: In a future version, `df.iloc[:, i] = newvals` will attempt to set the values inplace instead of always setting a new array. To retain the old behavior, use either `df[df.columns[i]] = newvals` or, if columns are non-unique, `df.isetitem(i, newvals)`\n",
      "  airbnb_pd.loc[:,\"number_of_reviews\"] = airbnb_pd.number_of_reviews.astype(int)\n",
      "<ipython-input-15-a8ec1c88f09f>:23: DeprecationWarning: In a future version, `df.iloc[:, i] = newvals` will attempt to set the values inplace instead of always setting a new array. To retain the old behavior, use either `df[df.columns[i]] = newvals` or, if columns are non-unique, `df.isetitem(i, newvals)`\n",
      "  airbnb_pd.loc[:,\"minimum_nights\"] = airbnb_pd.minimum_nights.astype(int)\n",
      "\n",
      " 50%|█████     | 29/58 [00:06<00:09,  2.91it/s]\u001b[A"
     ]
    },
    {
     "name": "stdout",
     "output_type": "stream",
     "text": [
      "train_noise_5.csv_cleaned_curatorC1.csv\n"
     ]
    },
    {
     "name": "stderr",
     "output_type": "stream",
     "text": [
      "<ipython-input-15-a8ec1c88f09f>:22: DeprecationWarning: In a future version, `df.iloc[:, i] = newvals` will attempt to set the values inplace instead of always setting a new array. To retain the old behavior, use either `df[df.columns[i]] = newvals` or, if columns are non-unique, `df.isetitem(i, newvals)`\n",
      "  airbnb_pd.loc[:,\"number_of_reviews\"] = airbnb_pd.number_of_reviews.astype(int)\n",
      "<ipython-input-15-a8ec1c88f09f>:23: DeprecationWarning: In a future version, `df.iloc[:, i] = newvals` will attempt to set the values inplace instead of always setting a new array. To retain the old behavior, use either `df[df.columns[i]] = newvals` or, if columns are non-unique, `df.isetitem(i, newvals)`\n",
      "  airbnb_pd.loc[:,\"minimum_nights\"] = airbnb_pd.minimum_nights.astype(int)\n",
      "\n",
      " 52%|█████▏    | 30/58 [00:06<00:10,  2.77it/s]\u001b[A"
     ]
    },
    {
     "name": "stdout",
     "output_type": "stream",
     "text": [
      "train_noise_10.csv_cleaned_curatorC1.csv\n"
     ]
    },
    {
     "name": "stderr",
     "output_type": "stream",
     "text": [
      "<ipython-input-15-a8ec1c88f09f>:22: DeprecationWarning: In a future version, `df.iloc[:, i] = newvals` will attempt to set the values inplace instead of always setting a new array. To retain the old behavior, use either `df[df.columns[i]] = newvals` or, if columns are non-unique, `df.isetitem(i, newvals)`\n",
      "  airbnb_pd.loc[:,\"number_of_reviews\"] = airbnb_pd.number_of_reviews.astype(int)\n",
      "<ipython-input-15-a8ec1c88f09f>:23: DeprecationWarning: In a future version, `df.iloc[:, i] = newvals` will attempt to set the values inplace instead of always setting a new array. To retain the old behavior, use either `df[df.columns[i]] = newvals` or, if columns are non-unique, `df.isetitem(i, newvals)`\n",
      "  airbnb_pd.loc[:,\"minimum_nights\"] = airbnb_pd.minimum_nights.astype(int)\n",
      "\n",
      " 53%|█████▎    | 31/58 [00:06<00:09,  2.79it/s]\u001b[A"
     ]
    },
    {
     "name": "stdout",
     "output_type": "stream",
     "text": [
      "train_noise_25.csv_cleaned_curatorC1.csv\n"
     ]
    },
    {
     "name": "stderr",
     "output_type": "stream",
     "text": [
      "<ipython-input-15-a8ec1c88f09f>:22: DeprecationWarning: In a future version, `df.iloc[:, i] = newvals` will attempt to set the values inplace instead of always setting a new array. To retain the old behavior, use either `df[df.columns[i]] = newvals` or, if columns are non-unique, `df.isetitem(i, newvals)`\n",
      "  airbnb_pd.loc[:,\"number_of_reviews\"] = airbnb_pd.number_of_reviews.astype(int)\n",
      "<ipython-input-15-a8ec1c88f09f>:23: DeprecationWarning: In a future version, `df.iloc[:, i] = newvals` will attempt to set the values inplace instead of always setting a new array. To retain the old behavior, use either `df[df.columns[i]] = newvals` or, if columns are non-unique, `df.isetitem(i, newvals)`\n",
      "  airbnb_pd.loc[:,\"minimum_nights\"] = airbnb_pd.minimum_nights.astype(int)\n",
      "\n",
      " 55%|█████▌    | 32/58 [00:07<00:09,  2.87it/s]\u001b[A"
     ]
    },
    {
     "name": "stdout",
     "output_type": "stream",
     "text": [
      "train_noise_35.csv_cleaned_curatorC1.csv\n"
     ]
    },
    {
     "name": "stderr",
     "output_type": "stream",
     "text": [
      "<ipython-input-15-a8ec1c88f09f>:22: DeprecationWarning: In a future version, `df.iloc[:, i] = newvals` will attempt to set the values inplace instead of always setting a new array. To retain the old behavior, use either `df[df.columns[i]] = newvals` or, if columns are non-unique, `df.isetitem(i, newvals)`\n",
      "  airbnb_pd.loc[:,\"number_of_reviews\"] = airbnb_pd.number_of_reviews.astype(int)\n",
      "<ipython-input-15-a8ec1c88f09f>:23: DeprecationWarning: In a future version, `df.iloc[:, i] = newvals` will attempt to set the values inplace instead of always setting a new array. To retain the old behavior, use either `df[df.columns[i]] = newvals` or, if columns are non-unique, `df.isetitem(i, newvals)`\n",
      "  airbnb_pd.loc[:,\"minimum_nights\"] = airbnb_pd.minimum_nights.astype(int)\n",
      "\n",
      " 57%|█████▋    | 33/58 [00:07<00:08,  3.05it/s]\u001b[A"
     ]
    },
    {
     "name": "stdout",
     "output_type": "stream",
     "text": [
      "train_noise_20.csv_cleaned_curatorC1.csv\n"
     ]
    },
    {
     "name": "stderr",
     "output_type": "stream",
     "text": [
      "<ipython-input-15-a8ec1c88f09f>:22: DeprecationWarning: In a future version, `df.iloc[:, i] = newvals` will attempt to set the values inplace instead of always setting a new array. To retain the old behavior, use either `df[df.columns[i]] = newvals` or, if columns are non-unique, `df.isetitem(i, newvals)`\n",
      "  airbnb_pd.loc[:,\"number_of_reviews\"] = airbnb_pd.number_of_reviews.astype(int)\n",
      "<ipython-input-15-a8ec1c88f09f>:23: DeprecationWarning: In a future version, `df.iloc[:, i] = newvals` will attempt to set the values inplace instead of always setting a new array. To retain the old behavior, use either `df[df.columns[i]] = newvals` or, if columns are non-unique, `df.isetitem(i, newvals)`\n",
      "  airbnb_pd.loc[:,\"minimum_nights\"] = airbnb_pd.minimum_nights.astype(int)\n",
      "\n",
      " 59%|█████▊    | 34/58 [00:07<00:07,  3.17it/s]\u001b[A"
     ]
    },
    {
     "name": "stdout",
     "output_type": "stream",
     "text": [
      "train_noise_40.csv_cleaned_curatorC2.csv\n"
     ]
    },
    {
     "name": "stderr",
     "output_type": "stream",
     "text": [
      "<ipython-input-15-a8ec1c88f09f>:20: DeprecationWarning: In a future version, `df.iloc[:, i] = newvals` will attempt to set the values inplace instead of always setting a new array. To retain the old behavior, use either `df[df.columns[i]] = newvals` or, if columns are non-unique, `df.isetitem(i, newvals)`\n",
      "  airbnb_pd.loc[:,\"latitude\"] = airbnb_pd.latitude.astype(float)\n",
      "<ipython-input-15-a8ec1c88f09f>:21: DeprecationWarning: In a future version, `df.iloc[:, i] = newvals` will attempt to set the values inplace instead of always setting a new array. To retain the old behavior, use either `df[df.columns[i]] = newvals` or, if columns are non-unique, `df.isetitem(i, newvals)`\n",
      "  airbnb_pd.loc[:,\"longitude\"] = airbnb_pd.longitude.astype(float)\n",
      "<ipython-input-15-a8ec1c88f09f>:22: DeprecationWarning: In a future version, `df.iloc[:, i] = newvals` will attempt to set the values inplace instead of always setting a new array. To retain the old behavior, use either `df[df.columns[i]] = newvals` or, if columns are non-unique, `df.isetitem(i, newvals)`\n",
      "  airbnb_pd.loc[:,\"number_of_reviews\"] = airbnb_pd.number_of_reviews.astype(int)\n",
      "<ipython-input-15-a8ec1c88f09f>:23: DeprecationWarning: In a future version, `df.iloc[:, i] = newvals` will attempt to set the values inplace instead of always setting a new array. To retain the old behavior, use either `df[df.columns[i]] = newvals` or, if columns are non-unique, `df.isetitem(i, newvals)`\n",
      "  airbnb_pd.loc[:,\"minimum_nights\"] = airbnb_pd.minimum_nights.astype(int)\n",
      "\n",
      " 60%|██████    | 35/58 [00:08<00:07,  3.15it/s]\u001b[A"
     ]
    },
    {
     "name": "stdout",
     "output_type": "stream",
     "text": [
      "train_noise_30.csv_cleaned_curatorC2.csv\n"
     ]
    },
    {
     "name": "stderr",
     "output_type": "stream",
     "text": [
      "<ipython-input-15-a8ec1c88f09f>:20: DeprecationWarning: In a future version, `df.iloc[:, i] = newvals` will attempt to set the values inplace instead of always setting a new array. To retain the old behavior, use either `df[df.columns[i]] = newvals` or, if columns are non-unique, `df.isetitem(i, newvals)`\n",
      "  airbnb_pd.loc[:,\"latitude\"] = airbnb_pd.latitude.astype(float)\n",
      "<ipython-input-15-a8ec1c88f09f>:21: DeprecationWarning: In a future version, `df.iloc[:, i] = newvals` will attempt to set the values inplace instead of always setting a new array. To retain the old behavior, use either `df[df.columns[i]] = newvals` or, if columns are non-unique, `df.isetitem(i, newvals)`\n",
      "  airbnb_pd.loc[:,\"longitude\"] = airbnb_pd.longitude.astype(float)\n",
      "<ipython-input-15-a8ec1c88f09f>:22: DeprecationWarning: In a future version, `df.iloc[:, i] = newvals` will attempt to set the values inplace instead of always setting a new array. To retain the old behavior, use either `df[df.columns[i]] = newvals` or, if columns are non-unique, `df.isetitem(i, newvals)`\n",
      "  airbnb_pd.loc[:,\"number_of_reviews\"] = airbnb_pd.number_of_reviews.astype(int)\n",
      "<ipython-input-15-a8ec1c88f09f>:23: DeprecationWarning: In a future version, `df.iloc[:, i] = newvals` will attempt to set the values inplace instead of always setting a new array. To retain the old behavior, use either `df[df.columns[i]] = newvals` or, if columns are non-unique, `df.isetitem(i, newvals)`\n",
      "  airbnb_pd.loc[:,\"minimum_nights\"] = airbnb_pd.minimum_nights.astype(int)\n",
      "\n",
      " 62%|██████▏   | 36/58 [00:08<00:06,  3.26it/s]\u001b[A"
     ]
    },
    {
     "name": "stdout",
     "output_type": "stream",
     "text": [
      "train_noise_15.csv_cleaned_curatorC2.csv\n"
     ]
    },
    {
     "name": "stderr",
     "output_type": "stream",
     "text": [
      "<ipython-input-15-a8ec1c88f09f>:20: DeprecationWarning: In a future version, `df.iloc[:, i] = newvals` will attempt to set the values inplace instead of always setting a new array. To retain the old behavior, use either `df[df.columns[i]] = newvals` or, if columns are non-unique, `df.isetitem(i, newvals)`\n",
      "  airbnb_pd.loc[:,\"latitude\"] = airbnb_pd.latitude.astype(float)\n",
      "<ipython-input-15-a8ec1c88f09f>:21: DeprecationWarning: In a future version, `df.iloc[:, i] = newvals` will attempt to set the values inplace instead of always setting a new array. To retain the old behavior, use either `df[df.columns[i]] = newvals` or, if columns are non-unique, `df.isetitem(i, newvals)`\n",
      "  airbnb_pd.loc[:,\"longitude\"] = airbnb_pd.longitude.astype(float)\n",
      "<ipython-input-15-a8ec1c88f09f>:22: DeprecationWarning: In a future version, `df.iloc[:, i] = newvals` will attempt to set the values inplace instead of always setting a new array. To retain the old behavior, use either `df[df.columns[i]] = newvals` or, if columns are non-unique, `df.isetitem(i, newvals)`\n",
      "  airbnb_pd.loc[:,\"number_of_reviews\"] = airbnb_pd.number_of_reviews.astype(int)\n",
      "<ipython-input-15-a8ec1c88f09f>:23: DeprecationWarning: In a future version, `df.iloc[:, i] = newvals` will attempt to set the values inplace instead of always setting a new array. To retain the old behavior, use either `df[df.columns[i]] = newvals` or, if columns are non-unique, `df.isetitem(i, newvals)`\n",
      "  airbnb_pd.loc[:,\"minimum_nights\"] = airbnb_pd.minimum_nights.astype(int)\n",
      "\n",
      " 64%|██████▍   | 37/58 [00:08<00:06,  3.25it/s]\u001b[A"
     ]
    },
    {
     "name": "stdout",
     "output_type": "stream",
     "text": [
      "train_noise_25.csv_cleaned_curatorC2.csv\n"
     ]
    },
    {
     "name": "stderr",
     "output_type": "stream",
     "text": [
      "<ipython-input-15-a8ec1c88f09f>:20: DeprecationWarning: In a future version, `df.iloc[:, i] = newvals` will attempt to set the values inplace instead of always setting a new array. To retain the old behavior, use either `df[df.columns[i]] = newvals` or, if columns are non-unique, `df.isetitem(i, newvals)`\n",
      "  airbnb_pd.loc[:,\"latitude\"] = airbnb_pd.latitude.astype(float)\n",
      "<ipython-input-15-a8ec1c88f09f>:21: DeprecationWarning: In a future version, `df.iloc[:, i] = newvals` will attempt to set the values inplace instead of always setting a new array. To retain the old behavior, use either `df[df.columns[i]] = newvals` or, if columns are non-unique, `df.isetitem(i, newvals)`\n",
      "  airbnb_pd.loc[:,\"longitude\"] = airbnb_pd.longitude.astype(float)\n",
      "<ipython-input-15-a8ec1c88f09f>:22: DeprecationWarning: In a future version, `df.iloc[:, i] = newvals` will attempt to set the values inplace instead of always setting a new array. To retain the old behavior, use either `df[df.columns[i]] = newvals` or, if columns are non-unique, `df.isetitem(i, newvals)`\n",
      "  airbnb_pd.loc[:,\"number_of_reviews\"] = airbnb_pd.number_of_reviews.astype(int)\n",
      "<ipython-input-15-a8ec1c88f09f>:23: DeprecationWarning: In a future version, `df.iloc[:, i] = newvals` will attempt to set the values inplace instead of always setting a new array. To retain the old behavior, use either `df[df.columns[i]] = newvals` or, if columns are non-unique, `df.isetitem(i, newvals)`\n",
      "  airbnb_pd.loc[:,\"minimum_nights\"] = airbnb_pd.minimum_nights.astype(int)\n",
      "\n",
      " 66%|██████▌   | 38/58 [00:08<00:06,  3.27it/s]\u001b[A"
     ]
    },
    {
     "name": "stdout",
     "output_type": "stream",
     "text": [
      "train_noise_10.csv_cleaned_curatorC2.csv\n"
     ]
    },
    {
     "name": "stderr",
     "output_type": "stream",
     "text": [
      "<ipython-input-15-a8ec1c88f09f>:20: DeprecationWarning: In a future version, `df.iloc[:, i] = newvals` will attempt to set the values inplace instead of always setting a new array. To retain the old behavior, use either `df[df.columns[i]] = newvals` or, if columns are non-unique, `df.isetitem(i, newvals)`\n",
      "  airbnb_pd.loc[:,\"latitude\"] = airbnb_pd.latitude.astype(float)\n",
      "<ipython-input-15-a8ec1c88f09f>:21: DeprecationWarning: In a future version, `df.iloc[:, i] = newvals` will attempt to set the values inplace instead of always setting a new array. To retain the old behavior, use either `df[df.columns[i]] = newvals` or, if columns are non-unique, `df.isetitem(i, newvals)`\n",
      "  airbnb_pd.loc[:,\"longitude\"] = airbnb_pd.longitude.astype(float)\n",
      "<ipython-input-15-a8ec1c88f09f>:22: DeprecationWarning: In a future version, `df.iloc[:, i] = newvals` will attempt to set the values inplace instead of always setting a new array. To retain the old behavior, use either `df[df.columns[i]] = newvals` or, if columns are non-unique, `df.isetitem(i, newvals)`\n",
      "  airbnb_pd.loc[:,\"number_of_reviews\"] = airbnb_pd.number_of_reviews.astype(int)\n",
      "<ipython-input-15-a8ec1c88f09f>:23: DeprecationWarning: In a future version, `df.iloc[:, i] = newvals` will attempt to set the values inplace instead of always setting a new array. To retain the old behavior, use either `df[df.columns[i]] = newvals` or, if columns are non-unique, `df.isetitem(i, newvals)`\n",
      "  airbnb_pd.loc[:,\"minimum_nights\"] = airbnb_pd.minimum_nights.astype(int)\n",
      "\n",
      " 67%|██████▋   | 39/58 [00:09<00:05,  3.28it/s]\u001b[A"
     ]
    },
    {
     "name": "stdout",
     "output_type": "stream",
     "text": [
      "train_noise_5.csv_cleaned_curatorC2.csv\n"
     ]
    },
    {
     "name": "stderr",
     "output_type": "stream",
     "text": [
      "<ipython-input-15-a8ec1c88f09f>:20: DeprecationWarning: In a future version, `df.iloc[:, i] = newvals` will attempt to set the values inplace instead of always setting a new array. To retain the old behavior, use either `df[df.columns[i]] = newvals` or, if columns are non-unique, `df.isetitem(i, newvals)`\n",
      "  airbnb_pd.loc[:,\"latitude\"] = airbnb_pd.latitude.astype(float)\n",
      "<ipython-input-15-a8ec1c88f09f>:21: DeprecationWarning: In a future version, `df.iloc[:, i] = newvals` will attempt to set the values inplace instead of always setting a new array. To retain the old behavior, use either `df[df.columns[i]] = newvals` or, if columns are non-unique, `df.isetitem(i, newvals)`\n",
      "  airbnb_pd.loc[:,\"longitude\"] = airbnb_pd.longitude.astype(float)\n",
      "<ipython-input-15-a8ec1c88f09f>:22: DeprecationWarning: In a future version, `df.iloc[:, i] = newvals` will attempt to set the values inplace instead of always setting a new array. To retain the old behavior, use either `df[df.columns[i]] = newvals` or, if columns are non-unique, `df.isetitem(i, newvals)`\n",
      "  airbnb_pd.loc[:,\"number_of_reviews\"] = airbnb_pd.number_of_reviews.astype(int)\n",
      "<ipython-input-15-a8ec1c88f09f>:23: DeprecationWarning: In a future version, `df.iloc[:, i] = newvals` will attempt to set the values inplace instead of always setting a new array. To retain the old behavior, use either `df[df.columns[i]] = newvals` or, if columns are non-unique, `df.isetitem(i, newvals)`\n",
      "  airbnb_pd.loc[:,\"minimum_nights\"] = airbnb_pd.minimum_nights.astype(int)\n",
      "\n",
      " 69%|██████▉   | 40/58 [00:09<00:05,  3.28it/s]\u001b[A"
     ]
    },
    {
     "name": "stdout",
     "output_type": "stream",
     "text": [
      "train_noise_35.csv_cleaned_curatorC2.csv\n"
     ]
    },
    {
     "name": "stderr",
     "output_type": "stream",
     "text": [
      "<ipython-input-15-a8ec1c88f09f>:20: DeprecationWarning: In a future version, `df.iloc[:, i] = newvals` will attempt to set the values inplace instead of always setting a new array. To retain the old behavior, use either `df[df.columns[i]] = newvals` or, if columns are non-unique, `df.isetitem(i, newvals)`\n",
      "  airbnb_pd.loc[:,\"latitude\"] = airbnb_pd.latitude.astype(float)\n",
      "<ipython-input-15-a8ec1c88f09f>:21: DeprecationWarning: In a future version, `df.iloc[:, i] = newvals` will attempt to set the values inplace instead of always setting a new array. To retain the old behavior, use either `df[df.columns[i]] = newvals` or, if columns are non-unique, `df.isetitem(i, newvals)`\n",
      "  airbnb_pd.loc[:,\"longitude\"] = airbnb_pd.longitude.astype(float)\n",
      "<ipython-input-15-a8ec1c88f09f>:22: DeprecationWarning: In a future version, `df.iloc[:, i] = newvals` will attempt to set the values inplace instead of always setting a new array. To retain the old behavior, use either `df[df.columns[i]] = newvals` or, if columns are non-unique, `df.isetitem(i, newvals)`\n",
      "  airbnb_pd.loc[:,\"number_of_reviews\"] = airbnb_pd.number_of_reviews.astype(int)\n",
      "<ipython-input-15-a8ec1c88f09f>:23: DeprecationWarning: In a future version, `df.iloc[:, i] = newvals` will attempt to set the values inplace instead of always setting a new array. To retain the old behavior, use either `df[df.columns[i]] = newvals` or, if columns are non-unique, `df.isetitem(i, newvals)`\n",
      "  airbnb_pd.loc[:,\"minimum_nights\"] = airbnb_pd.minimum_nights.astype(int)\n",
      "\n",
      " 71%|███████   | 41/58 [00:09<00:05,  3.22it/s]\u001b[A"
     ]
    },
    {
     "name": "stdout",
     "output_type": "stream",
     "text": [
      "train_noise_20.csv_cleaned_curatorC2.csv\n"
     ]
    },
    {
     "name": "stderr",
     "output_type": "stream",
     "text": [
      "<ipython-input-15-a8ec1c88f09f>:20: DeprecationWarning: In a future version, `df.iloc[:, i] = newvals` will attempt to set the values inplace instead of always setting a new array. To retain the old behavior, use either `df[df.columns[i]] = newvals` or, if columns are non-unique, `df.isetitem(i, newvals)`\n",
      "  airbnb_pd.loc[:,\"latitude\"] = airbnb_pd.latitude.astype(float)\n",
      "<ipython-input-15-a8ec1c88f09f>:21: DeprecationWarning: In a future version, `df.iloc[:, i] = newvals` will attempt to set the values inplace instead of always setting a new array. To retain the old behavior, use either `df[df.columns[i]] = newvals` or, if columns are non-unique, `df.isetitem(i, newvals)`\n",
      "  airbnb_pd.loc[:,\"longitude\"] = airbnb_pd.longitude.astype(float)\n",
      "<ipython-input-15-a8ec1c88f09f>:22: DeprecationWarning: In a future version, `df.iloc[:, i] = newvals` will attempt to set the values inplace instead of always setting a new array. To retain the old behavior, use either `df[df.columns[i]] = newvals` or, if columns are non-unique, `df.isetitem(i, newvals)`\n",
      "  airbnb_pd.loc[:,\"number_of_reviews\"] = airbnb_pd.number_of_reviews.astype(int)\n",
      "<ipython-input-15-a8ec1c88f09f>:23: DeprecationWarning: In a future version, `df.iloc[:, i] = newvals` will attempt to set the values inplace instead of always setting a new array. To retain the old behavior, use either `df[df.columns[i]] = newvals` or, if columns are non-unique, `df.isetitem(i, newvals)`\n",
      "  airbnb_pd.loc[:,\"minimum_nights\"] = airbnb_pd.minimum_nights.astype(int)\n",
      "\n",
      " 72%|███████▏  | 42/58 [00:10<00:04,  3.25it/s]\u001b[A"
     ]
    },
    {
     "name": "stdout",
     "output_type": "stream",
     "text": [
      "train_noise_40.csv_cleaned_curatorC3.csv\n"
     ]
    },
    {
     "name": "stderr",
     "output_type": "stream",
     "text": [
      "<ipython-input-15-a8ec1c88f09f>:20: DeprecationWarning: In a future version, `df.iloc[:, i] = newvals` will attempt to set the values inplace instead of always setting a new array. To retain the old behavior, use either `df[df.columns[i]] = newvals` or, if columns are non-unique, `df.isetitem(i, newvals)`\n",
      "  airbnb_pd.loc[:,\"latitude\"] = airbnb_pd.latitude.astype(float)\n",
      "<ipython-input-15-a8ec1c88f09f>:21: DeprecationWarning: In a future version, `df.iloc[:, i] = newvals` will attempt to set the values inplace instead of always setting a new array. To retain the old behavior, use either `df[df.columns[i]] = newvals` or, if columns are non-unique, `df.isetitem(i, newvals)`\n",
      "  airbnb_pd.loc[:,\"longitude\"] = airbnb_pd.longitude.astype(float)\n",
      "<ipython-input-15-a8ec1c88f09f>:22: DeprecationWarning: In a future version, `df.iloc[:, i] = newvals` will attempt to set the values inplace instead of always setting a new array. To retain the old behavior, use either `df[df.columns[i]] = newvals` or, if columns are non-unique, `df.isetitem(i, newvals)`\n",
      "  airbnb_pd.loc[:,\"number_of_reviews\"] = airbnb_pd.number_of_reviews.astype(int)\n",
      "<ipython-input-15-a8ec1c88f09f>:23: DeprecationWarning: In a future version, `df.iloc[:, i] = newvals` will attempt to set the values inplace instead of always setting a new array. To retain the old behavior, use either `df[df.columns[i]] = newvals` or, if columns are non-unique, `df.isetitem(i, newvals)`\n",
      "  airbnb_pd.loc[:,\"minimum_nights\"] = airbnb_pd.minimum_nights.astype(int)\n",
      "\n",
      " 74%|███████▍  | 43/58 [00:10<00:04,  3.20it/s]\u001b[A"
     ]
    },
    {
     "name": "stdout",
     "output_type": "stream",
     "text": [
      "train_noise_30.csv_cleaned_curatorC3.csv\n"
     ]
    },
    {
     "name": "stderr",
     "output_type": "stream",
     "text": [
      "<ipython-input-15-a8ec1c88f09f>:20: DeprecationWarning: In a future version, `df.iloc[:, i] = newvals` will attempt to set the values inplace instead of always setting a new array. To retain the old behavior, use either `df[df.columns[i]] = newvals` or, if columns are non-unique, `df.isetitem(i, newvals)`\n",
      "  airbnb_pd.loc[:,\"latitude\"] = airbnb_pd.latitude.astype(float)\n",
      "<ipython-input-15-a8ec1c88f09f>:21: DeprecationWarning: In a future version, `df.iloc[:, i] = newvals` will attempt to set the values inplace instead of always setting a new array. To retain the old behavior, use either `df[df.columns[i]] = newvals` or, if columns are non-unique, `df.isetitem(i, newvals)`\n",
      "  airbnb_pd.loc[:,\"longitude\"] = airbnb_pd.longitude.astype(float)\n",
      "<ipython-input-15-a8ec1c88f09f>:22: DeprecationWarning: In a future version, `df.iloc[:, i] = newvals` will attempt to set the values inplace instead of always setting a new array. To retain the old behavior, use either `df[df.columns[i]] = newvals` or, if columns are non-unique, `df.isetitem(i, newvals)`\n",
      "  airbnb_pd.loc[:,\"number_of_reviews\"] = airbnb_pd.number_of_reviews.astype(int)\n",
      "<ipython-input-15-a8ec1c88f09f>:23: DeprecationWarning: In a future version, `df.iloc[:, i] = newvals` will attempt to set the values inplace instead of always setting a new array. To retain the old behavior, use either `df[df.columns[i]] = newvals` or, if columns are non-unique, `df.isetitem(i, newvals)`\n",
      "  airbnb_pd.loc[:,\"minimum_nights\"] = airbnb_pd.minimum_nights.astype(int)\n",
      "\n",
      " 76%|███████▌  | 44/58 [00:10<00:04,  3.06it/s]\u001b[A"
     ]
    },
    {
     "name": "stdout",
     "output_type": "stream",
     "text": [
      "train_noise_15.csv_cleaned_curatorC3.csv\n"
     ]
    },
    {
     "name": "stderr",
     "output_type": "stream",
     "text": [
      "<ipython-input-15-a8ec1c88f09f>:20: DeprecationWarning: In a future version, `df.iloc[:, i] = newvals` will attempt to set the values inplace instead of always setting a new array. To retain the old behavior, use either `df[df.columns[i]] = newvals` or, if columns are non-unique, `df.isetitem(i, newvals)`\n",
      "  airbnb_pd.loc[:,\"latitude\"] = airbnb_pd.latitude.astype(float)\n",
      "<ipython-input-15-a8ec1c88f09f>:21: DeprecationWarning: In a future version, `df.iloc[:, i] = newvals` will attempt to set the values inplace instead of always setting a new array. To retain the old behavior, use either `df[df.columns[i]] = newvals` or, if columns are non-unique, `df.isetitem(i, newvals)`\n",
      "  airbnb_pd.loc[:,\"longitude\"] = airbnb_pd.longitude.astype(float)\n",
      "<ipython-input-15-a8ec1c88f09f>:22: DeprecationWarning: In a future version, `df.iloc[:, i] = newvals` will attempt to set the values inplace instead of always setting a new array. To retain the old behavior, use either `df[df.columns[i]] = newvals` or, if columns are non-unique, `df.isetitem(i, newvals)`\n",
      "  airbnb_pd.loc[:,\"number_of_reviews\"] = airbnb_pd.number_of_reviews.astype(int)\n",
      "<ipython-input-15-a8ec1c88f09f>:23: DeprecationWarning: In a future version, `df.iloc[:, i] = newvals` will attempt to set the values inplace instead of always setting a new array. To retain the old behavior, use either `df[df.columns[i]] = newvals` or, if columns are non-unique, `df.isetitem(i, newvals)`\n",
      "  airbnb_pd.loc[:,\"minimum_nights\"] = airbnb_pd.minimum_nights.astype(int)\n",
      "\n",
      " 78%|███████▊  | 45/58 [00:11<00:04,  3.06it/s]\u001b[A"
     ]
    },
    {
     "name": "stdout",
     "output_type": "stream",
     "text": [
      "train_noise_25.csv_cleaned_curatorC3.csv\n"
     ]
    },
    {
     "name": "stderr",
     "output_type": "stream",
     "text": [
      "<ipython-input-15-a8ec1c88f09f>:20: DeprecationWarning: In a future version, `df.iloc[:, i] = newvals` will attempt to set the values inplace instead of always setting a new array. To retain the old behavior, use either `df[df.columns[i]] = newvals` or, if columns are non-unique, `df.isetitem(i, newvals)`\n",
      "  airbnb_pd.loc[:,\"latitude\"] = airbnb_pd.latitude.astype(float)\n",
      "<ipython-input-15-a8ec1c88f09f>:21: DeprecationWarning: In a future version, `df.iloc[:, i] = newvals` will attempt to set the values inplace instead of always setting a new array. To retain the old behavior, use either `df[df.columns[i]] = newvals` or, if columns are non-unique, `df.isetitem(i, newvals)`\n",
      "  airbnb_pd.loc[:,\"longitude\"] = airbnb_pd.longitude.astype(float)\n",
      "<ipython-input-15-a8ec1c88f09f>:22: DeprecationWarning: In a future version, `df.iloc[:, i] = newvals` will attempt to set the values inplace instead of always setting a new array. To retain the old behavior, use either `df[df.columns[i]] = newvals` or, if columns are non-unique, `df.isetitem(i, newvals)`\n",
      "  airbnb_pd.loc[:,\"number_of_reviews\"] = airbnb_pd.number_of_reviews.astype(int)\n",
      "<ipython-input-15-a8ec1c88f09f>:23: DeprecationWarning: In a future version, `df.iloc[:, i] = newvals` will attempt to set the values inplace instead of always setting a new array. To retain the old behavior, use either `df[df.columns[i]] = newvals` or, if columns are non-unique, `df.isetitem(i, newvals)`\n",
      "  airbnb_pd.loc[:,\"minimum_nights\"] = airbnb_pd.minimum_nights.astype(int)\n",
      "\n",
      " 79%|███████▉  | 46/58 [00:11<00:03,  3.09it/s]\u001b[A"
     ]
    },
    {
     "name": "stdout",
     "output_type": "stream",
     "text": [
      "train_noise_10.csv_cleaned_curatorC3.csv\n"
     ]
    },
    {
     "name": "stderr",
     "output_type": "stream",
     "text": [
      "<ipython-input-15-a8ec1c88f09f>:20: DeprecationWarning: In a future version, `df.iloc[:, i] = newvals` will attempt to set the values inplace instead of always setting a new array. To retain the old behavior, use either `df[df.columns[i]] = newvals` or, if columns are non-unique, `df.isetitem(i, newvals)`\n",
      "  airbnb_pd.loc[:,\"latitude\"] = airbnb_pd.latitude.astype(float)\n",
      "<ipython-input-15-a8ec1c88f09f>:21: DeprecationWarning: In a future version, `df.iloc[:, i] = newvals` will attempt to set the values inplace instead of always setting a new array. To retain the old behavior, use either `df[df.columns[i]] = newvals` or, if columns are non-unique, `df.isetitem(i, newvals)`\n",
      "  airbnb_pd.loc[:,\"longitude\"] = airbnb_pd.longitude.astype(float)\n",
      "<ipython-input-15-a8ec1c88f09f>:22: DeprecationWarning: In a future version, `df.iloc[:, i] = newvals` will attempt to set the values inplace instead of always setting a new array. To retain the old behavior, use either `df[df.columns[i]] = newvals` or, if columns are non-unique, `df.isetitem(i, newvals)`\n",
      "  airbnb_pd.loc[:,\"number_of_reviews\"] = airbnb_pd.number_of_reviews.astype(int)\n",
      "<ipython-input-15-a8ec1c88f09f>:23: DeprecationWarning: In a future version, `df.iloc[:, i] = newvals` will attempt to set the values inplace instead of always setting a new array. To retain the old behavior, use either `df[df.columns[i]] = newvals` or, if columns are non-unique, `df.isetitem(i, newvals)`\n",
      "  airbnb_pd.loc[:,\"minimum_nights\"] = airbnb_pd.minimum_nights.astype(int)\n",
      "\n",
      " 81%|████████  | 47/58 [00:11<00:03,  3.22it/s]\u001b[A"
     ]
    },
    {
     "name": "stdout",
     "output_type": "stream",
     "text": [
      "train_noise_5.csv_cleaned_curatorC3.csv\n"
     ]
    },
    {
     "name": "stderr",
     "output_type": "stream",
     "text": [
      "<ipython-input-15-a8ec1c88f09f>:20: DeprecationWarning: In a future version, `df.iloc[:, i] = newvals` will attempt to set the values inplace instead of always setting a new array. To retain the old behavior, use either `df[df.columns[i]] = newvals` or, if columns are non-unique, `df.isetitem(i, newvals)`\n",
      "  airbnb_pd.loc[:,\"latitude\"] = airbnb_pd.latitude.astype(float)\n",
      "<ipython-input-15-a8ec1c88f09f>:21: DeprecationWarning: In a future version, `df.iloc[:, i] = newvals` will attempt to set the values inplace instead of always setting a new array. To retain the old behavior, use either `df[df.columns[i]] = newvals` or, if columns are non-unique, `df.isetitem(i, newvals)`\n",
      "  airbnb_pd.loc[:,\"longitude\"] = airbnb_pd.longitude.astype(float)\n",
      "<ipython-input-15-a8ec1c88f09f>:22: DeprecationWarning: In a future version, `df.iloc[:, i] = newvals` will attempt to set the values inplace instead of always setting a new array. To retain the old behavior, use either `df[df.columns[i]] = newvals` or, if columns are non-unique, `df.isetitem(i, newvals)`\n",
      "  airbnb_pd.loc[:,\"number_of_reviews\"] = airbnb_pd.number_of_reviews.astype(int)\n",
      "<ipython-input-15-a8ec1c88f09f>:23: DeprecationWarning: In a future version, `df.iloc[:, i] = newvals` will attempt to set the values inplace instead of always setting a new array. To retain the old behavior, use either `df[df.columns[i]] = newvals` or, if columns are non-unique, `df.isetitem(i, newvals)`\n",
      "  airbnb_pd.loc[:,\"minimum_nights\"] = airbnb_pd.minimum_nights.astype(int)\n",
      "\n",
      " 83%|████████▎ | 48/58 [00:12<00:03,  3.27it/s]\u001b[A"
     ]
    },
    {
     "name": "stdout",
     "output_type": "stream",
     "text": [
      "train_noise_35.csv_cleaned_curatorC3.csv\n"
     ]
    },
    {
     "name": "stderr",
     "output_type": "stream",
     "text": [
      "<ipython-input-15-a8ec1c88f09f>:20: DeprecationWarning: In a future version, `df.iloc[:, i] = newvals` will attempt to set the values inplace instead of always setting a new array. To retain the old behavior, use either `df[df.columns[i]] = newvals` or, if columns are non-unique, `df.isetitem(i, newvals)`\n",
      "  airbnb_pd.loc[:,\"latitude\"] = airbnb_pd.latitude.astype(float)\n",
      "<ipython-input-15-a8ec1c88f09f>:21: DeprecationWarning: In a future version, `df.iloc[:, i] = newvals` will attempt to set the values inplace instead of always setting a new array. To retain the old behavior, use either `df[df.columns[i]] = newvals` or, if columns are non-unique, `df.isetitem(i, newvals)`\n",
      "  airbnb_pd.loc[:,\"longitude\"] = airbnb_pd.longitude.astype(float)\n",
      "<ipython-input-15-a8ec1c88f09f>:22: DeprecationWarning: In a future version, `df.iloc[:, i] = newvals` will attempt to set the values inplace instead of always setting a new array. To retain the old behavior, use either `df[df.columns[i]] = newvals` or, if columns are non-unique, `df.isetitem(i, newvals)`\n",
      "  airbnb_pd.loc[:,\"number_of_reviews\"] = airbnb_pd.number_of_reviews.astype(int)\n",
      "<ipython-input-15-a8ec1c88f09f>:23: DeprecationWarning: In a future version, `df.iloc[:, i] = newvals` will attempt to set the values inplace instead of always setting a new array. To retain the old behavior, use either `df[df.columns[i]] = newvals` or, if columns are non-unique, `df.isetitem(i, newvals)`\n",
      "  airbnb_pd.loc[:,\"minimum_nights\"] = airbnb_pd.minimum_nights.astype(int)\n",
      "\n",
      " 84%|████████▍ | 49/58 [00:12<00:02,  3.34it/s]\u001b[A"
     ]
    },
    {
     "name": "stdout",
     "output_type": "stream",
     "text": [
      "train_noise_20.csv_cleaned_curatorC3.csv\n"
     ]
    },
    {
     "name": "stderr",
     "output_type": "stream",
     "text": [
      "<ipython-input-15-a8ec1c88f09f>:20: DeprecationWarning: In a future version, `df.iloc[:, i] = newvals` will attempt to set the values inplace instead of always setting a new array. To retain the old behavior, use either `df[df.columns[i]] = newvals` or, if columns are non-unique, `df.isetitem(i, newvals)`\n",
      "  airbnb_pd.loc[:,\"latitude\"] = airbnb_pd.latitude.astype(float)\n",
      "<ipython-input-15-a8ec1c88f09f>:21: DeprecationWarning: In a future version, `df.iloc[:, i] = newvals` will attempt to set the values inplace instead of always setting a new array. To retain the old behavior, use either `df[df.columns[i]] = newvals` or, if columns are non-unique, `df.isetitem(i, newvals)`\n",
      "  airbnb_pd.loc[:,\"longitude\"] = airbnb_pd.longitude.astype(float)\n",
      "<ipython-input-15-a8ec1c88f09f>:22: DeprecationWarning: In a future version, `df.iloc[:, i] = newvals` will attempt to set the values inplace instead of always setting a new array. To retain the old behavior, use either `df[df.columns[i]] = newvals` or, if columns are non-unique, `df.isetitem(i, newvals)`\n",
      "  airbnb_pd.loc[:,\"number_of_reviews\"] = airbnb_pd.number_of_reviews.astype(int)\n",
      "<ipython-input-15-a8ec1c88f09f>:23: DeprecationWarning: In a future version, `df.iloc[:, i] = newvals` will attempt to set the values inplace instead of always setting a new array. To retain the old behavior, use either `df[df.columns[i]] = newvals` or, if columns are non-unique, `df.isetitem(i, newvals)`\n",
      "  airbnb_pd.loc[:,\"minimum_nights\"] = airbnb_pd.minimum_nights.astype(int)\n",
      "\n",
      " 86%|████████▌ | 50/58 [00:12<00:02,  3.33it/s]\u001b[A"
     ]
    },
    {
     "name": "stdout",
     "output_type": "stream",
     "text": [
      "train_noise_40.csv_cleaned_curatorMerge.csv\n"
     ]
    },
    {
     "name": "stderr",
     "output_type": "stream",
     "text": [
      "<ipython-input-15-a8ec1c88f09f>:22: DeprecationWarning: In a future version, `df.iloc[:, i] = newvals` will attempt to set the values inplace instead of always setting a new array. To retain the old behavior, use either `df[df.columns[i]] = newvals` or, if columns are non-unique, `df.isetitem(i, newvals)`\n",
      "  airbnb_pd.loc[:,\"number_of_reviews\"] = airbnb_pd.number_of_reviews.astype(int)\n",
      "<ipython-input-15-a8ec1c88f09f>:23: DeprecationWarning: In a future version, `df.iloc[:, i] = newvals` will attempt to set the values inplace instead of always setting a new array. To retain the old behavior, use either `df[df.columns[i]] = newvals` or, if columns are non-unique, `df.isetitem(i, newvals)`\n",
      "  airbnb_pd.loc[:,\"minimum_nights\"] = airbnb_pd.minimum_nights.astype(int)\n",
      "\n",
      " 88%|████████▊ | 51/58 [00:12<00:02,  3.34it/s]\u001b[A"
     ]
    },
    {
     "name": "stdout",
     "output_type": "stream",
     "text": [
      "train_noise_30.csv_cleaned_curatorMerge.csv\n"
     ]
    },
    {
     "name": "stderr",
     "output_type": "stream",
     "text": [
      "<ipython-input-15-a8ec1c88f09f>:22: DeprecationWarning: In a future version, `df.iloc[:, i] = newvals` will attempt to set the values inplace instead of always setting a new array. To retain the old behavior, use either `df[df.columns[i]] = newvals` or, if columns are non-unique, `df.isetitem(i, newvals)`\n",
      "  airbnb_pd.loc[:,\"number_of_reviews\"] = airbnb_pd.number_of_reviews.astype(int)\n",
      "<ipython-input-15-a8ec1c88f09f>:23: DeprecationWarning: In a future version, `df.iloc[:, i] = newvals` will attempt to set the values inplace instead of always setting a new array. To retain the old behavior, use either `df[df.columns[i]] = newvals` or, if columns are non-unique, `df.isetitem(i, newvals)`\n",
      "  airbnb_pd.loc[:,\"minimum_nights\"] = airbnb_pd.minimum_nights.astype(int)\n",
      "\n",
      " 90%|████████▉ | 52/58 [00:13<00:01,  3.09it/s]\u001b[A"
     ]
    },
    {
     "name": "stdout",
     "output_type": "stream",
     "text": [
      "train_noise_15.csv_cleaned_curatorMerge.csv\n"
     ]
    },
    {
     "name": "stderr",
     "output_type": "stream",
     "text": [
      "<ipython-input-15-a8ec1c88f09f>:22: DeprecationWarning: In a future version, `df.iloc[:, i] = newvals` will attempt to set the values inplace instead of always setting a new array. To retain the old behavior, use either `df[df.columns[i]] = newvals` or, if columns are non-unique, `df.isetitem(i, newvals)`\n",
      "  airbnb_pd.loc[:,\"number_of_reviews\"] = airbnb_pd.number_of_reviews.astype(int)\n",
      "<ipython-input-15-a8ec1c88f09f>:23: DeprecationWarning: In a future version, `df.iloc[:, i] = newvals` will attempt to set the values inplace instead of always setting a new array. To retain the old behavior, use either `df[df.columns[i]] = newvals` or, if columns are non-unique, `df.isetitem(i, newvals)`\n",
      "  airbnb_pd.loc[:,\"minimum_nights\"] = airbnb_pd.minimum_nights.astype(int)\n",
      "\n",
      " 91%|█████████▏| 53/58 [00:13<00:01,  2.99it/s]\u001b[A"
     ]
    },
    {
     "name": "stdout",
     "output_type": "stream",
     "text": [
      "train_noise_25.csv_cleaned_curatorMerge.csv\n"
     ]
    },
    {
     "name": "stderr",
     "output_type": "stream",
     "text": [
      "<ipython-input-15-a8ec1c88f09f>:22: DeprecationWarning: In a future version, `df.iloc[:, i] = newvals` will attempt to set the values inplace instead of always setting a new array. To retain the old behavior, use either `df[df.columns[i]] = newvals` or, if columns are non-unique, `df.isetitem(i, newvals)`\n",
      "  airbnb_pd.loc[:,\"number_of_reviews\"] = airbnb_pd.number_of_reviews.astype(int)\n",
      "<ipython-input-15-a8ec1c88f09f>:23: DeprecationWarning: In a future version, `df.iloc[:, i] = newvals` will attempt to set the values inplace instead of always setting a new array. To retain the old behavior, use either `df[df.columns[i]] = newvals` or, if columns are non-unique, `df.isetitem(i, newvals)`\n",
      "  airbnb_pd.loc[:,\"minimum_nights\"] = airbnb_pd.minimum_nights.astype(int)\n",
      "\n",
      " 93%|█████████▎| 54/58 [00:14<00:01,  3.00it/s]\u001b[A"
     ]
    },
    {
     "name": "stdout",
     "output_type": "stream",
     "text": [
      "train_noise_10.csv_cleaned_curatorMerge.csv\n"
     ]
    },
    {
     "name": "stderr",
     "output_type": "stream",
     "text": [
      "<ipython-input-15-a8ec1c88f09f>:22: DeprecationWarning: In a future version, `df.iloc[:, i] = newvals` will attempt to set the values inplace instead of always setting a new array. To retain the old behavior, use either `df[df.columns[i]] = newvals` or, if columns are non-unique, `df.isetitem(i, newvals)`\n",
      "  airbnb_pd.loc[:,\"number_of_reviews\"] = airbnb_pd.number_of_reviews.astype(int)\n",
      "<ipython-input-15-a8ec1c88f09f>:23: DeprecationWarning: In a future version, `df.iloc[:, i] = newvals` will attempt to set the values inplace instead of always setting a new array. To retain the old behavior, use either `df[df.columns[i]] = newvals` or, if columns are non-unique, `df.isetitem(i, newvals)`\n",
      "  airbnb_pd.loc[:,\"minimum_nights\"] = airbnb_pd.minimum_nights.astype(int)\n",
      "\n",
      " 95%|█████████▍| 55/58 [00:14<00:00,  3.12it/s]\u001b[A"
     ]
    },
    {
     "name": "stdout",
     "output_type": "stream",
     "text": [
      "train_noise_5.csv_cleaned_curatorMerge.csv\n"
     ]
    },
    {
     "name": "stderr",
     "output_type": "stream",
     "text": [
      "<ipython-input-15-a8ec1c88f09f>:22: DeprecationWarning: In a future version, `df.iloc[:, i] = newvals` will attempt to set the values inplace instead of always setting a new array. To retain the old behavior, use either `df[df.columns[i]] = newvals` or, if columns are non-unique, `df.isetitem(i, newvals)`\n",
      "  airbnb_pd.loc[:,\"number_of_reviews\"] = airbnb_pd.number_of_reviews.astype(int)\n",
      "<ipython-input-15-a8ec1c88f09f>:23: DeprecationWarning: In a future version, `df.iloc[:, i] = newvals` will attempt to set the values inplace instead of always setting a new array. To retain the old behavior, use either `df[df.columns[i]] = newvals` or, if columns are non-unique, `df.isetitem(i, newvals)`\n",
      "  airbnb_pd.loc[:,\"minimum_nights\"] = airbnb_pd.minimum_nights.astype(int)\n",
      "\n",
      " 97%|█████████▋| 56/58 [00:14<00:00,  3.12it/s]\u001b[A"
     ]
    },
    {
     "name": "stdout",
     "output_type": "stream",
     "text": [
      "train_noise_35.csv_cleaned_curatorMerge.csv\n"
     ]
    },
    {
     "name": "stderr",
     "output_type": "stream",
     "text": [
      "<ipython-input-15-a8ec1c88f09f>:22: DeprecationWarning: In a future version, `df.iloc[:, i] = newvals` will attempt to set the values inplace instead of always setting a new array. To retain the old behavior, use either `df[df.columns[i]] = newvals` or, if columns are non-unique, `df.isetitem(i, newvals)`\n",
      "  airbnb_pd.loc[:,\"number_of_reviews\"] = airbnb_pd.number_of_reviews.astype(int)\n",
      "<ipython-input-15-a8ec1c88f09f>:23: DeprecationWarning: In a future version, `df.iloc[:, i] = newvals` will attempt to set the values inplace instead of always setting a new array. To retain the old behavior, use either `df[df.columns[i]] = newvals` or, if columns are non-unique, `df.isetitem(i, newvals)`\n",
      "  airbnb_pd.loc[:,\"minimum_nights\"] = airbnb_pd.minimum_nights.astype(int)\n",
      "\n",
      " 98%|█████████▊| 57/58 [00:15<00:00,  2.96it/s]\u001b[A"
     ]
    },
    {
     "name": "stdout",
     "output_type": "stream",
     "text": [
      "train_noise_20.csv_cleaned_curatorMerge.csv\n"
     ]
    },
    {
     "name": "stderr",
     "output_type": "stream",
     "text": [
      "<ipython-input-15-a8ec1c88f09f>:22: DeprecationWarning: In a future version, `df.iloc[:, i] = newvals` will attempt to set the values inplace instead of always setting a new array. To retain the old behavior, use either `df[df.columns[i]] = newvals` or, if columns are non-unique, `df.isetitem(i, newvals)`\n",
      "  airbnb_pd.loc[:,\"number_of_reviews\"] = airbnb_pd.number_of_reviews.astype(int)\n",
      "<ipython-input-15-a8ec1c88f09f>:23: DeprecationWarning: In a future version, `df.iloc[:, i] = newvals` will attempt to set the values inplace instead of always setting a new array. To retain the old behavior, use either `df[df.columns[i]] = newvals` or, if columns are non-unique, `df.isetitem(i, newvals)`\n",
      "  airbnb_pd.loc[:,\"minimum_nights\"] = airbnb_pd.minimum_nights.astype(int)\n",
      "\n",
      "100%|██████████| 58/58 [00:15<00:00,  3.78it/s]\n",
      " 90%|█████████ | 9/10 [02:26<00:15, 15.92s/it]\n",
      "  0%|          | 0/58 [00:00<?, ?it/s]\u001b[A"
     ]
    },
    {
     "name": "stdout",
     "output_type": "stream",
     "text": [
      "train_noise_40.csv_cleaned_baseline.csv\n",
      "train_noise_15.csv_cleaned_baseline.csv\n"
     ]
    },
    {
     "name": "stderr",
     "output_type": "stream",
     "text": [
      "\n",
      " 21%|██        | 12/58 [00:00<00:01, 39.83it/s]\u001b[A"
     ]
    },
    {
     "name": "stdout",
     "output_type": "stream",
     "text": [
      "train_noise_30.csv_cleaned_baseline.csv\n",
      "train_noise_10.csv_cleaned_baseline.csv\n",
      "train_noise_25.csv_cleaned_baseline.csv\n",
      "train_noise_35.csv_cleaned_baseline.csv\n"
     ]
    },
    {
     "name": "stderr",
     "output_type": "stream",
     "text": [
      "\n",
      " 28%|██▊       | 16/58 [00:01<00:04,  8.74it/s]\u001b[A"
     ]
    },
    {
     "name": "stdout",
     "output_type": "stream",
     "text": [
      "train_noise_5.csv_cleaned_baseline.csv\n",
      "train_noise_20.csv_cleaned_baseline.csv\n"
     ]
    },
    {
     "name": "stderr",
     "output_type": "stream",
     "text": [
      "\n",
      " 31%|███       | 18/58 [00:02<00:06,  6.41it/s]\u001b[A"
     ]
    },
    {
     "name": "stdout",
     "output_type": "stream",
     "text": [
      "train_noise_40.csv_cleaned_baselineAverage.csv\n",
      "train_noise_30.csv_cleaned_baselineAverage.csv\n"
     ]
    },
    {
     "name": "stderr",
     "output_type": "stream",
     "text": [
      "\n",
      " 34%|███▍      | 20/58 [00:02<00:07,  5.11it/s]\u001b[A"
     ]
    },
    {
     "name": "stdout",
     "output_type": "stream",
     "text": [
      "train_noise_25.csv_cleaned_baselineAverage.csv\n"
     ]
    },
    {
     "name": "stderr",
     "output_type": "stream",
     "text": [
      "\n",
      " 36%|███▌      | 21/58 [00:03<00:08,  4.45it/s]\u001b[A"
     ]
    },
    {
     "name": "stdout",
     "output_type": "stream",
     "text": [
      "train_noise_15.csv_cleaned_baselineAverage.csv\n"
     ]
    },
    {
     "name": "stderr",
     "output_type": "stream",
     "text": [
      "\n",
      " 38%|███▊      | 22/58 [00:03<00:08,  4.13it/s]\u001b[A"
     ]
    },
    {
     "name": "stdout",
     "output_type": "stream",
     "text": [
      "train_noise_5.csv_cleaned_baselineAverage.csv\n"
     ]
    },
    {
     "name": "stderr",
     "output_type": "stream",
     "text": [
      "\n",
      " 40%|███▉      | 23/58 [00:03<00:09,  3.77it/s]\u001b[A"
     ]
    },
    {
     "name": "stdout",
     "output_type": "stream",
     "text": [
      "train_noise_10.csv_cleaned_baselineAverage.csv\n"
     ]
    },
    {
     "name": "stderr",
     "output_type": "stream",
     "text": [
      "\n",
      " 41%|████▏     | 24/58 [00:04<00:09,  3.56it/s]\u001b[A"
     ]
    },
    {
     "name": "stdout",
     "output_type": "stream",
     "text": [
      "train_noise_35.csv_cleaned_baselineAverage.csv\n"
     ]
    },
    {
     "name": "stderr",
     "output_type": "stream",
     "text": [
      "\n",
      " 43%|████▎     | 25/58 [00:04<00:09,  3.34it/s]\u001b[A"
     ]
    },
    {
     "name": "stdout",
     "output_type": "stream",
     "text": [
      "train_noise_20.csv_cleaned_baselineAverage.csv\n"
     ]
    },
    {
     "name": "stderr",
     "output_type": "stream",
     "text": [
      "\n",
      " 45%|████▍     | 26/58 [00:04<00:09,  3.41it/s]\u001b[A"
     ]
    },
    {
     "name": "stdout",
     "output_type": "stream",
     "text": [
      "train_noise_30.csv_cleaned_curatorC1.csv\n"
     ]
    },
    {
     "name": "stderr",
     "output_type": "stream",
     "text": [
      "<ipython-input-15-a8ec1c88f09f>:22: DeprecationWarning: In a future version, `df.iloc[:, i] = newvals` will attempt to set the values inplace instead of always setting a new array. To retain the old behavior, use either `df[df.columns[i]] = newvals` or, if columns are non-unique, `df.isetitem(i, newvals)`\n",
      "  airbnb_pd.loc[:,\"number_of_reviews\"] = airbnb_pd.number_of_reviews.astype(int)\n",
      "<ipython-input-15-a8ec1c88f09f>:23: DeprecationWarning: In a future version, `df.iloc[:, i] = newvals` will attempt to set the values inplace instead of always setting a new array. To retain the old behavior, use either `df[df.columns[i]] = newvals` or, if columns are non-unique, `df.isetitem(i, newvals)`\n",
      "  airbnb_pd.loc[:,\"minimum_nights\"] = airbnb_pd.minimum_nights.astype(int)\n",
      "\n",
      " 47%|████▋     | 27/58 [00:05<00:09,  3.35it/s]\u001b[A"
     ]
    },
    {
     "name": "stdout",
     "output_type": "stream",
     "text": [
      "train_noise_40.csv_cleaned_curatorC1.csv\n"
     ]
    },
    {
     "name": "stderr",
     "output_type": "stream",
     "text": [
      "<ipython-input-15-a8ec1c88f09f>:22: DeprecationWarning: In a future version, `df.iloc[:, i] = newvals` will attempt to set the values inplace instead of always setting a new array. To retain the old behavior, use either `df[df.columns[i]] = newvals` or, if columns are non-unique, `df.isetitem(i, newvals)`\n",
      "  airbnb_pd.loc[:,\"number_of_reviews\"] = airbnb_pd.number_of_reviews.astype(int)\n",
      "<ipython-input-15-a8ec1c88f09f>:23: DeprecationWarning: In a future version, `df.iloc[:, i] = newvals` will attempt to set the values inplace instead of always setting a new array. To retain the old behavior, use either `df[df.columns[i]] = newvals` or, if columns are non-unique, `df.isetitem(i, newvals)`\n",
      "  airbnb_pd.loc[:,\"minimum_nights\"] = airbnb_pd.minimum_nights.astype(int)\n",
      "\n",
      " 48%|████▊     | 28/58 [00:05<00:09,  3.24it/s]\u001b[A"
     ]
    },
    {
     "name": "stdout",
     "output_type": "stream",
     "text": [
      "train_noise_15.csv_cleaned_curatorC1.csv\n"
     ]
    },
    {
     "name": "stderr",
     "output_type": "stream",
     "text": [
      "<ipython-input-15-a8ec1c88f09f>:22: DeprecationWarning: In a future version, `df.iloc[:, i] = newvals` will attempt to set the values inplace instead of always setting a new array. To retain the old behavior, use either `df[df.columns[i]] = newvals` or, if columns are non-unique, `df.isetitem(i, newvals)`\n",
      "  airbnb_pd.loc[:,\"number_of_reviews\"] = airbnb_pd.number_of_reviews.astype(int)\n",
      "<ipython-input-15-a8ec1c88f09f>:23: DeprecationWarning: In a future version, `df.iloc[:, i] = newvals` will attempt to set the values inplace instead of always setting a new array. To retain the old behavior, use either `df[df.columns[i]] = newvals` or, if columns are non-unique, `df.isetitem(i, newvals)`\n",
      "  airbnb_pd.loc[:,\"minimum_nights\"] = airbnb_pd.minimum_nights.astype(int)\n",
      "\n",
      " 50%|█████     | 29/58 [00:05<00:09,  3.15it/s]\u001b[A"
     ]
    },
    {
     "name": "stdout",
     "output_type": "stream",
     "text": [
      "train_noise_25.csv_cleaned_curatorC1.csv\n"
     ]
    },
    {
     "name": "stderr",
     "output_type": "stream",
     "text": [
      "<ipython-input-15-a8ec1c88f09f>:22: DeprecationWarning: In a future version, `df.iloc[:, i] = newvals` will attempt to set the values inplace instead of always setting a new array. To retain the old behavior, use either `df[df.columns[i]] = newvals` or, if columns are non-unique, `df.isetitem(i, newvals)`\n",
      "  airbnb_pd.loc[:,\"number_of_reviews\"] = airbnb_pd.number_of_reviews.astype(int)\n",
      "<ipython-input-15-a8ec1c88f09f>:23: DeprecationWarning: In a future version, `df.iloc[:, i] = newvals` will attempt to set the values inplace instead of always setting a new array. To retain the old behavior, use either `df[df.columns[i]] = newvals` or, if columns are non-unique, `df.isetitem(i, newvals)`\n",
      "  airbnb_pd.loc[:,\"minimum_nights\"] = airbnb_pd.minimum_nights.astype(int)\n",
      "\n",
      " 52%|█████▏    | 30/58 [00:06<00:08,  3.16it/s]\u001b[A"
     ]
    },
    {
     "name": "stdout",
     "output_type": "stream",
     "text": [
      "train_noise_5.csv_cleaned_curatorC1.csv\n"
     ]
    },
    {
     "name": "stderr",
     "output_type": "stream",
     "text": [
      "<ipython-input-15-a8ec1c88f09f>:22: DeprecationWarning: In a future version, `df.iloc[:, i] = newvals` will attempt to set the values inplace instead of always setting a new array. To retain the old behavior, use either `df[df.columns[i]] = newvals` or, if columns are non-unique, `df.isetitem(i, newvals)`\n",
      "  airbnb_pd.loc[:,\"number_of_reviews\"] = airbnb_pd.number_of_reviews.astype(int)\n",
      "<ipython-input-15-a8ec1c88f09f>:23: DeprecationWarning: In a future version, `df.iloc[:, i] = newvals` will attempt to set the values inplace instead of always setting a new array. To retain the old behavior, use either `df[df.columns[i]] = newvals` or, if columns are non-unique, `df.isetitem(i, newvals)`\n",
      "  airbnb_pd.loc[:,\"minimum_nights\"] = airbnb_pd.minimum_nights.astype(int)\n",
      "\n",
      " 53%|█████▎    | 31/58 [00:06<00:08,  3.13it/s]\u001b[A"
     ]
    },
    {
     "name": "stdout",
     "output_type": "stream",
     "text": [
      "train_noise_10.csv_cleaned_curatorC1.csv\n"
     ]
    },
    {
     "name": "stderr",
     "output_type": "stream",
     "text": [
      "<ipython-input-15-a8ec1c88f09f>:22: DeprecationWarning: In a future version, `df.iloc[:, i] = newvals` will attempt to set the values inplace instead of always setting a new array. To retain the old behavior, use either `df[df.columns[i]] = newvals` or, if columns are non-unique, `df.isetitem(i, newvals)`\n",
      "  airbnb_pd.loc[:,\"number_of_reviews\"] = airbnb_pd.number_of_reviews.astype(int)\n",
      "<ipython-input-15-a8ec1c88f09f>:23: DeprecationWarning: In a future version, `df.iloc[:, i] = newvals` will attempt to set the values inplace instead of always setting a new array. To retain the old behavior, use either `df[df.columns[i]] = newvals` or, if columns are non-unique, `df.isetitem(i, newvals)`\n",
      "  airbnb_pd.loc[:,\"minimum_nights\"] = airbnb_pd.minimum_nights.astype(int)\n",
      "\n",
      " 55%|█████▌    | 32/58 [00:06<00:08,  3.22it/s]\u001b[A"
     ]
    },
    {
     "name": "stdout",
     "output_type": "stream",
     "text": [
      "train_noise_35.csv_cleaned_curatorC1.csv\n"
     ]
    },
    {
     "name": "stderr",
     "output_type": "stream",
     "text": [
      "<ipython-input-15-a8ec1c88f09f>:22: DeprecationWarning: In a future version, `df.iloc[:, i] = newvals` will attempt to set the values inplace instead of always setting a new array. To retain the old behavior, use either `df[df.columns[i]] = newvals` or, if columns are non-unique, `df.isetitem(i, newvals)`\n",
      "  airbnb_pd.loc[:,\"number_of_reviews\"] = airbnb_pd.number_of_reviews.astype(int)\n",
      "<ipython-input-15-a8ec1c88f09f>:23: DeprecationWarning: In a future version, `df.iloc[:, i] = newvals` will attempt to set the values inplace instead of always setting a new array. To retain the old behavior, use either `df[df.columns[i]] = newvals` or, if columns are non-unique, `df.isetitem(i, newvals)`\n",
      "  airbnb_pd.loc[:,\"minimum_nights\"] = airbnb_pd.minimum_nights.astype(int)\n",
      "\n",
      " 57%|█████▋    | 33/58 [00:07<00:07,  3.31it/s]\u001b[A"
     ]
    },
    {
     "name": "stdout",
     "output_type": "stream",
     "text": [
      "train_noise_20.csv_cleaned_curatorC1.csv\n"
     ]
    },
    {
     "name": "stderr",
     "output_type": "stream",
     "text": [
      "<ipython-input-15-a8ec1c88f09f>:22: DeprecationWarning: In a future version, `df.iloc[:, i] = newvals` will attempt to set the values inplace instead of always setting a new array. To retain the old behavior, use either `df[df.columns[i]] = newvals` or, if columns are non-unique, `df.isetitem(i, newvals)`\n",
      "  airbnb_pd.loc[:,\"number_of_reviews\"] = airbnb_pd.number_of_reviews.astype(int)\n",
      "<ipython-input-15-a8ec1c88f09f>:23: DeprecationWarning: In a future version, `df.iloc[:, i] = newvals` will attempt to set the values inplace instead of always setting a new array. To retain the old behavior, use either `df[df.columns[i]] = newvals` or, if columns are non-unique, `df.isetitem(i, newvals)`\n",
      "  airbnb_pd.loc[:,\"minimum_nights\"] = airbnb_pd.minimum_nights.astype(int)\n",
      "\n",
      " 59%|█████▊    | 34/58 [00:07<00:07,  3.29it/s]\u001b[A"
     ]
    },
    {
     "name": "stdout",
     "output_type": "stream",
     "text": [
      "train_noise_40.csv_cleaned_curatorC2.csv\n"
     ]
    },
    {
     "name": "stderr",
     "output_type": "stream",
     "text": [
      "<ipython-input-15-a8ec1c88f09f>:20: DeprecationWarning: In a future version, `df.iloc[:, i] = newvals` will attempt to set the values inplace instead of always setting a new array. To retain the old behavior, use either `df[df.columns[i]] = newvals` or, if columns are non-unique, `df.isetitem(i, newvals)`\n",
      "  airbnb_pd.loc[:,\"latitude\"] = airbnb_pd.latitude.astype(float)\n",
      "<ipython-input-15-a8ec1c88f09f>:21: DeprecationWarning: In a future version, `df.iloc[:, i] = newvals` will attempt to set the values inplace instead of always setting a new array. To retain the old behavior, use either `df[df.columns[i]] = newvals` or, if columns are non-unique, `df.isetitem(i, newvals)`\n",
      "  airbnb_pd.loc[:,\"longitude\"] = airbnb_pd.longitude.astype(float)\n",
      "<ipython-input-15-a8ec1c88f09f>:22: DeprecationWarning: In a future version, `df.iloc[:, i] = newvals` will attempt to set the values inplace instead of always setting a new array. To retain the old behavior, use either `df[df.columns[i]] = newvals` or, if columns are non-unique, `df.isetitem(i, newvals)`\n",
      "  airbnb_pd.loc[:,\"number_of_reviews\"] = airbnb_pd.number_of_reviews.astype(int)\n",
      "<ipython-input-15-a8ec1c88f09f>:23: DeprecationWarning: In a future version, `df.iloc[:, i] = newvals` will attempt to set the values inplace instead of always setting a new array. To retain the old behavior, use either `df[df.columns[i]] = newvals` or, if columns are non-unique, `df.isetitem(i, newvals)`\n",
      "  airbnb_pd.loc[:,\"minimum_nights\"] = airbnb_pd.minimum_nights.astype(int)\n",
      "\n",
      " 60%|██████    | 35/58 [00:07<00:07,  3.27it/s]\u001b[A"
     ]
    },
    {
     "name": "stdout",
     "output_type": "stream",
     "text": [
      "train_noise_30.csv_cleaned_curatorC2.csv\n"
     ]
    },
    {
     "name": "stderr",
     "output_type": "stream",
     "text": [
      "<ipython-input-15-a8ec1c88f09f>:20: DeprecationWarning: In a future version, `df.iloc[:, i] = newvals` will attempt to set the values inplace instead of always setting a new array. To retain the old behavior, use either `df[df.columns[i]] = newvals` or, if columns are non-unique, `df.isetitem(i, newvals)`\n",
      "  airbnb_pd.loc[:,\"latitude\"] = airbnb_pd.latitude.astype(float)\n",
      "<ipython-input-15-a8ec1c88f09f>:21: DeprecationWarning: In a future version, `df.iloc[:, i] = newvals` will attempt to set the values inplace instead of always setting a new array. To retain the old behavior, use either `df[df.columns[i]] = newvals` or, if columns are non-unique, `df.isetitem(i, newvals)`\n",
      "  airbnb_pd.loc[:,\"longitude\"] = airbnb_pd.longitude.astype(float)\n",
      "<ipython-input-15-a8ec1c88f09f>:22: DeprecationWarning: In a future version, `df.iloc[:, i] = newvals` will attempt to set the values inplace instead of always setting a new array. To retain the old behavior, use either `df[df.columns[i]] = newvals` or, if columns are non-unique, `df.isetitem(i, newvals)`\n",
      "  airbnb_pd.loc[:,\"number_of_reviews\"] = airbnb_pd.number_of_reviews.astype(int)\n",
      "<ipython-input-15-a8ec1c88f09f>:23: DeprecationWarning: In a future version, `df.iloc[:, i] = newvals` will attempt to set the values inplace instead of always setting a new array. To retain the old behavior, use either `df[df.columns[i]] = newvals` or, if columns are non-unique, `df.isetitem(i, newvals)`\n",
      "  airbnb_pd.loc[:,\"minimum_nights\"] = airbnb_pd.minimum_nights.astype(int)\n",
      "\n",
      " 62%|██████▏   | 36/58 [00:08<00:06,  3.23it/s]\u001b[A"
     ]
    },
    {
     "name": "stdout",
     "output_type": "stream",
     "text": [
      "train_noise_15.csv_cleaned_curatorC2.csv\n"
     ]
    },
    {
     "name": "stderr",
     "output_type": "stream",
     "text": [
      "<ipython-input-15-a8ec1c88f09f>:20: DeprecationWarning: In a future version, `df.iloc[:, i] = newvals` will attempt to set the values inplace instead of always setting a new array. To retain the old behavior, use either `df[df.columns[i]] = newvals` or, if columns are non-unique, `df.isetitem(i, newvals)`\n",
      "  airbnb_pd.loc[:,\"latitude\"] = airbnb_pd.latitude.astype(float)\n",
      "<ipython-input-15-a8ec1c88f09f>:21: DeprecationWarning: In a future version, `df.iloc[:, i] = newvals` will attempt to set the values inplace instead of always setting a new array. To retain the old behavior, use either `df[df.columns[i]] = newvals` or, if columns are non-unique, `df.isetitem(i, newvals)`\n",
      "  airbnb_pd.loc[:,\"longitude\"] = airbnb_pd.longitude.astype(float)\n",
      "<ipython-input-15-a8ec1c88f09f>:22: DeprecationWarning: In a future version, `df.iloc[:, i] = newvals` will attempt to set the values inplace instead of always setting a new array. To retain the old behavior, use either `df[df.columns[i]] = newvals` or, if columns are non-unique, `df.isetitem(i, newvals)`\n",
      "  airbnb_pd.loc[:,\"number_of_reviews\"] = airbnb_pd.number_of_reviews.astype(int)\n",
      "<ipython-input-15-a8ec1c88f09f>:23: DeprecationWarning: In a future version, `df.iloc[:, i] = newvals` will attempt to set the values inplace instead of always setting a new array. To retain the old behavior, use either `df[df.columns[i]] = newvals` or, if columns are non-unique, `df.isetitem(i, newvals)`\n",
      "  airbnb_pd.loc[:,\"minimum_nights\"] = airbnb_pd.minimum_nights.astype(int)\n",
      "\n",
      " 64%|██████▍   | 37/58 [00:08<00:06,  3.23it/s]\u001b[A"
     ]
    },
    {
     "name": "stdout",
     "output_type": "stream",
     "text": [
      "train_noise_25.csv_cleaned_curatorC2.csv\n"
     ]
    },
    {
     "name": "stderr",
     "output_type": "stream",
     "text": [
      "<ipython-input-15-a8ec1c88f09f>:20: DeprecationWarning: In a future version, `df.iloc[:, i] = newvals` will attempt to set the values inplace instead of always setting a new array. To retain the old behavior, use either `df[df.columns[i]] = newvals` or, if columns are non-unique, `df.isetitem(i, newvals)`\n",
      "  airbnb_pd.loc[:,\"latitude\"] = airbnb_pd.latitude.astype(float)\n",
      "<ipython-input-15-a8ec1c88f09f>:21: DeprecationWarning: In a future version, `df.iloc[:, i] = newvals` will attempt to set the values inplace instead of always setting a new array. To retain the old behavior, use either `df[df.columns[i]] = newvals` or, if columns are non-unique, `df.isetitem(i, newvals)`\n",
      "  airbnb_pd.loc[:,\"longitude\"] = airbnb_pd.longitude.astype(float)\n",
      "<ipython-input-15-a8ec1c88f09f>:22: DeprecationWarning: In a future version, `df.iloc[:, i] = newvals` will attempt to set the values inplace instead of always setting a new array. To retain the old behavior, use either `df[df.columns[i]] = newvals` or, if columns are non-unique, `df.isetitem(i, newvals)`\n",
      "  airbnb_pd.loc[:,\"number_of_reviews\"] = airbnb_pd.number_of_reviews.astype(int)\n",
      "<ipython-input-15-a8ec1c88f09f>:23: DeprecationWarning: In a future version, `df.iloc[:, i] = newvals` will attempt to set the values inplace instead of always setting a new array. To retain the old behavior, use either `df[df.columns[i]] = newvals` or, if columns are non-unique, `df.isetitem(i, newvals)`\n",
      "  airbnb_pd.loc[:,\"minimum_nights\"] = airbnb_pd.minimum_nights.astype(int)\n",
      "\n",
      " 66%|██████▌   | 38/58 [00:08<00:06,  3.22it/s]\u001b[A"
     ]
    },
    {
     "name": "stdout",
     "output_type": "stream",
     "text": [
      "train_noise_10.csv_cleaned_curatorC2.csv\n"
     ]
    },
    {
     "name": "stderr",
     "output_type": "stream",
     "text": [
      "<ipython-input-15-a8ec1c88f09f>:20: DeprecationWarning: In a future version, `df.iloc[:, i] = newvals` will attempt to set the values inplace instead of always setting a new array. To retain the old behavior, use either `df[df.columns[i]] = newvals` or, if columns are non-unique, `df.isetitem(i, newvals)`\n",
      "  airbnb_pd.loc[:,\"latitude\"] = airbnb_pd.latitude.astype(float)\n",
      "<ipython-input-15-a8ec1c88f09f>:21: DeprecationWarning: In a future version, `df.iloc[:, i] = newvals` will attempt to set the values inplace instead of always setting a new array. To retain the old behavior, use either `df[df.columns[i]] = newvals` or, if columns are non-unique, `df.isetitem(i, newvals)`\n",
      "  airbnb_pd.loc[:,\"longitude\"] = airbnb_pd.longitude.astype(float)\n",
      "<ipython-input-15-a8ec1c88f09f>:22: DeprecationWarning: In a future version, `df.iloc[:, i] = newvals` will attempt to set the values inplace instead of always setting a new array. To retain the old behavior, use either `df[df.columns[i]] = newvals` or, if columns are non-unique, `df.isetitem(i, newvals)`\n",
      "  airbnb_pd.loc[:,\"number_of_reviews\"] = airbnb_pd.number_of_reviews.astype(int)\n",
      "<ipython-input-15-a8ec1c88f09f>:23: DeprecationWarning: In a future version, `df.iloc[:, i] = newvals` will attempt to set the values inplace instead of always setting a new array. To retain the old behavior, use either `df[df.columns[i]] = newvals` or, if columns are non-unique, `df.isetitem(i, newvals)`\n",
      "  airbnb_pd.loc[:,\"minimum_nights\"] = airbnb_pd.minimum_nights.astype(int)\n",
      "\n",
      " 67%|██████▋   | 39/58 [00:09<00:05,  3.27it/s]\u001b[A"
     ]
    },
    {
     "name": "stdout",
     "output_type": "stream",
     "text": [
      "train_noise_5.csv_cleaned_curatorC2.csv\n"
     ]
    },
    {
     "name": "stderr",
     "output_type": "stream",
     "text": [
      "<ipython-input-15-a8ec1c88f09f>:20: DeprecationWarning: In a future version, `df.iloc[:, i] = newvals` will attempt to set the values inplace instead of always setting a new array. To retain the old behavior, use either `df[df.columns[i]] = newvals` or, if columns are non-unique, `df.isetitem(i, newvals)`\n",
      "  airbnb_pd.loc[:,\"latitude\"] = airbnb_pd.latitude.astype(float)\n",
      "<ipython-input-15-a8ec1c88f09f>:21: DeprecationWarning: In a future version, `df.iloc[:, i] = newvals` will attempt to set the values inplace instead of always setting a new array. To retain the old behavior, use either `df[df.columns[i]] = newvals` or, if columns are non-unique, `df.isetitem(i, newvals)`\n",
      "  airbnb_pd.loc[:,\"longitude\"] = airbnb_pd.longitude.astype(float)\n",
      "<ipython-input-15-a8ec1c88f09f>:22: DeprecationWarning: In a future version, `df.iloc[:, i] = newvals` will attempt to set the values inplace instead of always setting a new array. To retain the old behavior, use either `df[df.columns[i]] = newvals` or, if columns are non-unique, `df.isetitem(i, newvals)`\n",
      "  airbnb_pd.loc[:,\"number_of_reviews\"] = airbnb_pd.number_of_reviews.astype(int)\n",
      "<ipython-input-15-a8ec1c88f09f>:23: DeprecationWarning: In a future version, `df.iloc[:, i] = newvals` will attempt to set the values inplace instead of always setting a new array. To retain the old behavior, use either `df[df.columns[i]] = newvals` or, if columns are non-unique, `df.isetitem(i, newvals)`\n",
      "  airbnb_pd.loc[:,\"minimum_nights\"] = airbnb_pd.minimum_nights.astype(int)\n",
      "\n",
      " 69%|██████▉   | 40/58 [00:09<00:05,  3.23it/s]\u001b[A"
     ]
    },
    {
     "name": "stdout",
     "output_type": "stream",
     "text": [
      "train_noise_35.csv_cleaned_curatorC2.csv\n"
     ]
    },
    {
     "name": "stderr",
     "output_type": "stream",
     "text": [
      "<ipython-input-15-a8ec1c88f09f>:20: DeprecationWarning: In a future version, `df.iloc[:, i] = newvals` will attempt to set the values inplace instead of always setting a new array. To retain the old behavior, use either `df[df.columns[i]] = newvals` or, if columns are non-unique, `df.isetitem(i, newvals)`\n",
      "  airbnb_pd.loc[:,\"latitude\"] = airbnb_pd.latitude.astype(float)\n",
      "<ipython-input-15-a8ec1c88f09f>:21: DeprecationWarning: In a future version, `df.iloc[:, i] = newvals` will attempt to set the values inplace instead of always setting a new array. To retain the old behavior, use either `df[df.columns[i]] = newvals` or, if columns are non-unique, `df.isetitem(i, newvals)`\n",
      "  airbnb_pd.loc[:,\"longitude\"] = airbnb_pd.longitude.astype(float)\n",
      "<ipython-input-15-a8ec1c88f09f>:22: DeprecationWarning: In a future version, `df.iloc[:, i] = newvals` will attempt to set the values inplace instead of always setting a new array. To retain the old behavior, use either `df[df.columns[i]] = newvals` or, if columns are non-unique, `df.isetitem(i, newvals)`\n",
      "  airbnb_pd.loc[:,\"number_of_reviews\"] = airbnb_pd.number_of_reviews.astype(int)\n",
      "<ipython-input-15-a8ec1c88f09f>:23: DeprecationWarning: In a future version, `df.iloc[:, i] = newvals` will attempt to set the values inplace instead of always setting a new array. To retain the old behavior, use either `df[df.columns[i]] = newvals` or, if columns are non-unique, `df.isetitem(i, newvals)`\n",
      "  airbnb_pd.loc[:,\"minimum_nights\"] = airbnb_pd.minimum_nights.astype(int)\n",
      "\n",
      " 71%|███████   | 41/58 [00:09<00:05,  3.25it/s]\u001b[A"
     ]
    },
    {
     "name": "stdout",
     "output_type": "stream",
     "text": [
      "train_noise_20.csv_cleaned_curatorC2.csv\n"
     ]
    },
    {
     "name": "stderr",
     "output_type": "stream",
     "text": [
      "<ipython-input-15-a8ec1c88f09f>:20: DeprecationWarning: In a future version, `df.iloc[:, i] = newvals` will attempt to set the values inplace instead of always setting a new array. To retain the old behavior, use either `df[df.columns[i]] = newvals` or, if columns are non-unique, `df.isetitem(i, newvals)`\n",
      "  airbnb_pd.loc[:,\"latitude\"] = airbnb_pd.latitude.astype(float)\n",
      "<ipython-input-15-a8ec1c88f09f>:21: DeprecationWarning: In a future version, `df.iloc[:, i] = newvals` will attempt to set the values inplace instead of always setting a new array. To retain the old behavior, use either `df[df.columns[i]] = newvals` or, if columns are non-unique, `df.isetitem(i, newvals)`\n",
      "  airbnb_pd.loc[:,\"longitude\"] = airbnb_pd.longitude.astype(float)\n",
      "<ipython-input-15-a8ec1c88f09f>:22: DeprecationWarning: In a future version, `df.iloc[:, i] = newvals` will attempt to set the values inplace instead of always setting a new array. To retain the old behavior, use either `df[df.columns[i]] = newvals` or, if columns are non-unique, `df.isetitem(i, newvals)`\n",
      "  airbnb_pd.loc[:,\"number_of_reviews\"] = airbnb_pd.number_of_reviews.astype(int)\n",
      "<ipython-input-15-a8ec1c88f09f>:23: DeprecationWarning: In a future version, `df.iloc[:, i] = newvals` will attempt to set the values inplace instead of always setting a new array. To retain the old behavior, use either `df[df.columns[i]] = newvals` or, if columns are non-unique, `df.isetitem(i, newvals)`\n",
      "  airbnb_pd.loc[:,\"minimum_nights\"] = airbnb_pd.minimum_nights.astype(int)\n",
      "\n",
      " 72%|███████▏  | 42/58 [00:09<00:04,  3.25it/s]\u001b[A"
     ]
    },
    {
     "name": "stdout",
     "output_type": "stream",
     "text": [
      "train_noise_40.csv_cleaned_curatorC3.csv\n"
     ]
    },
    {
     "name": "stderr",
     "output_type": "stream",
     "text": [
      "<ipython-input-15-a8ec1c88f09f>:20: DeprecationWarning: In a future version, `df.iloc[:, i] = newvals` will attempt to set the values inplace instead of always setting a new array. To retain the old behavior, use either `df[df.columns[i]] = newvals` or, if columns are non-unique, `df.isetitem(i, newvals)`\n",
      "  airbnb_pd.loc[:,\"latitude\"] = airbnb_pd.latitude.astype(float)\n",
      "<ipython-input-15-a8ec1c88f09f>:21: DeprecationWarning: In a future version, `df.iloc[:, i] = newvals` will attempt to set the values inplace instead of always setting a new array. To retain the old behavior, use either `df[df.columns[i]] = newvals` or, if columns are non-unique, `df.isetitem(i, newvals)`\n",
      "  airbnb_pd.loc[:,\"longitude\"] = airbnb_pd.longitude.astype(float)\n",
      "<ipython-input-15-a8ec1c88f09f>:22: DeprecationWarning: In a future version, `df.iloc[:, i] = newvals` will attempt to set the values inplace instead of always setting a new array. To retain the old behavior, use either `df[df.columns[i]] = newvals` or, if columns are non-unique, `df.isetitem(i, newvals)`\n",
      "  airbnb_pd.loc[:,\"number_of_reviews\"] = airbnb_pd.number_of_reviews.astype(int)\n",
      "<ipython-input-15-a8ec1c88f09f>:23: DeprecationWarning: In a future version, `df.iloc[:, i] = newvals` will attempt to set the values inplace instead of always setting a new array. To retain the old behavior, use either `df[df.columns[i]] = newvals` or, if columns are non-unique, `df.isetitem(i, newvals)`\n",
      "  airbnb_pd.loc[:,\"minimum_nights\"] = airbnb_pd.minimum_nights.astype(int)\n",
      "\n",
      " 74%|███████▍  | 43/58 [00:10<00:04,  3.26it/s]\u001b[A"
     ]
    },
    {
     "name": "stdout",
     "output_type": "stream",
     "text": [
      "train_noise_30.csv_cleaned_curatorC3.csv\n"
     ]
    },
    {
     "name": "stderr",
     "output_type": "stream",
     "text": [
      "<ipython-input-15-a8ec1c88f09f>:20: DeprecationWarning: In a future version, `df.iloc[:, i] = newvals` will attempt to set the values inplace instead of always setting a new array. To retain the old behavior, use either `df[df.columns[i]] = newvals` or, if columns are non-unique, `df.isetitem(i, newvals)`\n",
      "  airbnb_pd.loc[:,\"latitude\"] = airbnb_pd.latitude.astype(float)\n",
      "<ipython-input-15-a8ec1c88f09f>:21: DeprecationWarning: In a future version, `df.iloc[:, i] = newvals` will attempt to set the values inplace instead of always setting a new array. To retain the old behavior, use either `df[df.columns[i]] = newvals` or, if columns are non-unique, `df.isetitem(i, newvals)`\n",
      "  airbnb_pd.loc[:,\"longitude\"] = airbnb_pd.longitude.astype(float)\n",
      "<ipython-input-15-a8ec1c88f09f>:22: DeprecationWarning: In a future version, `df.iloc[:, i] = newvals` will attempt to set the values inplace instead of always setting a new array. To retain the old behavior, use either `df[df.columns[i]] = newvals` or, if columns are non-unique, `df.isetitem(i, newvals)`\n",
      "  airbnb_pd.loc[:,\"number_of_reviews\"] = airbnb_pd.number_of_reviews.astype(int)\n",
      "<ipython-input-15-a8ec1c88f09f>:23: DeprecationWarning: In a future version, `df.iloc[:, i] = newvals` will attempt to set the values inplace instead of always setting a new array. To retain the old behavior, use either `df[df.columns[i]] = newvals` or, if columns are non-unique, `df.isetitem(i, newvals)`\n",
      "  airbnb_pd.loc[:,\"minimum_nights\"] = airbnb_pd.minimum_nights.astype(int)\n",
      "\n",
      " 76%|███████▌  | 44/58 [00:10<00:04,  3.15it/s]\u001b[A"
     ]
    },
    {
     "name": "stdout",
     "output_type": "stream",
     "text": [
      "train_noise_15.csv_cleaned_curatorC3.csv\n"
     ]
    },
    {
     "name": "stderr",
     "output_type": "stream",
     "text": [
      "<ipython-input-15-a8ec1c88f09f>:20: DeprecationWarning: In a future version, `df.iloc[:, i] = newvals` will attempt to set the values inplace instead of always setting a new array. To retain the old behavior, use either `df[df.columns[i]] = newvals` or, if columns are non-unique, `df.isetitem(i, newvals)`\n",
      "  airbnb_pd.loc[:,\"latitude\"] = airbnb_pd.latitude.astype(float)\n",
      "<ipython-input-15-a8ec1c88f09f>:21: DeprecationWarning: In a future version, `df.iloc[:, i] = newvals` will attempt to set the values inplace instead of always setting a new array. To retain the old behavior, use either `df[df.columns[i]] = newvals` or, if columns are non-unique, `df.isetitem(i, newvals)`\n",
      "  airbnb_pd.loc[:,\"longitude\"] = airbnb_pd.longitude.astype(float)\n",
      "<ipython-input-15-a8ec1c88f09f>:22: DeprecationWarning: In a future version, `df.iloc[:, i] = newvals` will attempt to set the values inplace instead of always setting a new array. To retain the old behavior, use either `df[df.columns[i]] = newvals` or, if columns are non-unique, `df.isetitem(i, newvals)`\n",
      "  airbnb_pd.loc[:,\"number_of_reviews\"] = airbnb_pd.number_of_reviews.astype(int)\n",
      "<ipython-input-15-a8ec1c88f09f>:23: DeprecationWarning: In a future version, `df.iloc[:, i] = newvals` will attempt to set the values inplace instead of always setting a new array. To retain the old behavior, use either `df[df.columns[i]] = newvals` or, if columns are non-unique, `df.isetitem(i, newvals)`\n",
      "  airbnb_pd.loc[:,\"minimum_nights\"] = airbnb_pd.minimum_nights.astype(int)\n",
      "\n",
      " 78%|███████▊  | 45/58 [00:10<00:04,  3.01it/s]\u001b[A"
     ]
    },
    {
     "name": "stdout",
     "output_type": "stream",
     "text": [
      "train_noise_25.csv_cleaned_curatorC3.csv\n"
     ]
    },
    {
     "name": "stderr",
     "output_type": "stream",
     "text": [
      "<ipython-input-15-a8ec1c88f09f>:20: DeprecationWarning: In a future version, `df.iloc[:, i] = newvals` will attempt to set the values inplace instead of always setting a new array. To retain the old behavior, use either `df[df.columns[i]] = newvals` or, if columns are non-unique, `df.isetitem(i, newvals)`\n",
      "  airbnb_pd.loc[:,\"latitude\"] = airbnb_pd.latitude.astype(float)\n",
      "<ipython-input-15-a8ec1c88f09f>:21: DeprecationWarning: In a future version, `df.iloc[:, i] = newvals` will attempt to set the values inplace instead of always setting a new array. To retain the old behavior, use either `df[df.columns[i]] = newvals` or, if columns are non-unique, `df.isetitem(i, newvals)`\n",
      "  airbnb_pd.loc[:,\"longitude\"] = airbnb_pd.longitude.astype(float)\n",
      "<ipython-input-15-a8ec1c88f09f>:22: DeprecationWarning: In a future version, `df.iloc[:, i] = newvals` will attempt to set the values inplace instead of always setting a new array. To retain the old behavior, use either `df[df.columns[i]] = newvals` or, if columns are non-unique, `df.isetitem(i, newvals)`\n",
      "  airbnb_pd.loc[:,\"number_of_reviews\"] = airbnb_pd.number_of_reviews.astype(int)\n",
      "<ipython-input-15-a8ec1c88f09f>:23: DeprecationWarning: In a future version, `df.iloc[:, i] = newvals` will attempt to set the values inplace instead of always setting a new array. To retain the old behavior, use either `df[df.columns[i]] = newvals` or, if columns are non-unique, `df.isetitem(i, newvals)`\n",
      "  airbnb_pd.loc[:,\"minimum_nights\"] = airbnb_pd.minimum_nights.astype(int)\n",
      "\n",
      " 79%|███████▉  | 46/58 [00:11<00:04,  2.88it/s]\u001b[A"
     ]
    },
    {
     "name": "stdout",
     "output_type": "stream",
     "text": [
      "train_noise_10.csv_cleaned_curatorC3.csv\n"
     ]
    },
    {
     "name": "stderr",
     "output_type": "stream",
     "text": [
      "<ipython-input-15-a8ec1c88f09f>:20: DeprecationWarning: In a future version, `df.iloc[:, i] = newvals` will attempt to set the values inplace instead of always setting a new array. To retain the old behavior, use either `df[df.columns[i]] = newvals` or, if columns are non-unique, `df.isetitem(i, newvals)`\n",
      "  airbnb_pd.loc[:,\"latitude\"] = airbnb_pd.latitude.astype(float)\n",
      "<ipython-input-15-a8ec1c88f09f>:21: DeprecationWarning: In a future version, `df.iloc[:, i] = newvals` will attempt to set the values inplace instead of always setting a new array. To retain the old behavior, use either `df[df.columns[i]] = newvals` or, if columns are non-unique, `df.isetitem(i, newvals)`\n",
      "  airbnb_pd.loc[:,\"longitude\"] = airbnb_pd.longitude.astype(float)\n",
      "<ipython-input-15-a8ec1c88f09f>:22: DeprecationWarning: In a future version, `df.iloc[:, i] = newvals` will attempt to set the values inplace instead of always setting a new array. To retain the old behavior, use either `df[df.columns[i]] = newvals` or, if columns are non-unique, `df.isetitem(i, newvals)`\n",
      "  airbnb_pd.loc[:,\"number_of_reviews\"] = airbnb_pd.number_of_reviews.astype(int)\n",
      "<ipython-input-15-a8ec1c88f09f>:23: DeprecationWarning: In a future version, `df.iloc[:, i] = newvals` will attempt to set the values inplace instead of always setting a new array. To retain the old behavior, use either `df[df.columns[i]] = newvals` or, if columns are non-unique, `df.isetitem(i, newvals)`\n",
      "  airbnb_pd.loc[:,\"minimum_nights\"] = airbnb_pd.minimum_nights.astype(int)\n",
      "\n",
      " 81%|████████  | 47/58 [00:11<00:03,  2.77it/s]\u001b[A"
     ]
    },
    {
     "name": "stdout",
     "output_type": "stream",
     "text": [
      "train_noise_5.csv_cleaned_curatorC3.csv\n"
     ]
    },
    {
     "name": "stderr",
     "output_type": "stream",
     "text": [
      "<ipython-input-15-a8ec1c88f09f>:20: DeprecationWarning: In a future version, `df.iloc[:, i] = newvals` will attempt to set the values inplace instead of always setting a new array. To retain the old behavior, use either `df[df.columns[i]] = newvals` or, if columns are non-unique, `df.isetitem(i, newvals)`\n",
      "  airbnb_pd.loc[:,\"latitude\"] = airbnb_pd.latitude.astype(float)\n",
      "<ipython-input-15-a8ec1c88f09f>:21: DeprecationWarning: In a future version, `df.iloc[:, i] = newvals` will attempt to set the values inplace instead of always setting a new array. To retain the old behavior, use either `df[df.columns[i]] = newvals` or, if columns are non-unique, `df.isetitem(i, newvals)`\n",
      "  airbnb_pd.loc[:,\"longitude\"] = airbnb_pd.longitude.astype(float)\n",
      "<ipython-input-15-a8ec1c88f09f>:22: DeprecationWarning: In a future version, `df.iloc[:, i] = newvals` will attempt to set the values inplace instead of always setting a new array. To retain the old behavior, use either `df[df.columns[i]] = newvals` or, if columns are non-unique, `df.isetitem(i, newvals)`\n",
      "  airbnb_pd.loc[:,\"number_of_reviews\"] = airbnb_pd.number_of_reviews.astype(int)\n",
      "<ipython-input-15-a8ec1c88f09f>:23: DeprecationWarning: In a future version, `df.iloc[:, i] = newvals` will attempt to set the values inplace instead of always setting a new array. To retain the old behavior, use either `df[df.columns[i]] = newvals` or, if columns are non-unique, `df.isetitem(i, newvals)`\n",
      "  airbnb_pd.loc[:,\"minimum_nights\"] = airbnb_pd.minimum_nights.astype(int)\n",
      "\n",
      " 83%|████████▎ | 48/58 [00:12<00:03,  2.96it/s]\u001b[A"
     ]
    },
    {
     "name": "stdout",
     "output_type": "stream",
     "text": [
      "train_noise_35.csv_cleaned_curatorC3.csv\n"
     ]
    },
    {
     "name": "stderr",
     "output_type": "stream",
     "text": [
      "<ipython-input-15-a8ec1c88f09f>:20: DeprecationWarning: In a future version, `df.iloc[:, i] = newvals` will attempt to set the values inplace instead of always setting a new array. To retain the old behavior, use either `df[df.columns[i]] = newvals` or, if columns are non-unique, `df.isetitem(i, newvals)`\n",
      "  airbnb_pd.loc[:,\"latitude\"] = airbnb_pd.latitude.astype(float)\n",
      "<ipython-input-15-a8ec1c88f09f>:21: DeprecationWarning: In a future version, `df.iloc[:, i] = newvals` will attempt to set the values inplace instead of always setting a new array. To retain the old behavior, use either `df[df.columns[i]] = newvals` or, if columns are non-unique, `df.isetitem(i, newvals)`\n",
      "  airbnb_pd.loc[:,\"longitude\"] = airbnb_pd.longitude.astype(float)\n",
      "<ipython-input-15-a8ec1c88f09f>:22: DeprecationWarning: In a future version, `df.iloc[:, i] = newvals` will attempt to set the values inplace instead of always setting a new array. To retain the old behavior, use either `df[df.columns[i]] = newvals` or, if columns are non-unique, `df.isetitem(i, newvals)`\n",
      "  airbnb_pd.loc[:,\"number_of_reviews\"] = airbnb_pd.number_of_reviews.astype(int)\n",
      "<ipython-input-15-a8ec1c88f09f>:23: DeprecationWarning: In a future version, `df.iloc[:, i] = newvals` will attempt to set the values inplace instead of always setting a new array. To retain the old behavior, use either `df[df.columns[i]] = newvals` or, if columns are non-unique, `df.isetitem(i, newvals)`\n",
      "  airbnb_pd.loc[:,\"minimum_nights\"] = airbnb_pd.minimum_nights.astype(int)\n",
      "\n",
      " 84%|████████▍ | 49/58 [00:12<00:02,  3.13it/s]\u001b[A"
     ]
    },
    {
     "name": "stdout",
     "output_type": "stream",
     "text": [
      "train_noise_20.csv_cleaned_curatorC3.csv\n"
     ]
    },
    {
     "name": "stderr",
     "output_type": "stream",
     "text": [
      "<ipython-input-15-a8ec1c88f09f>:20: DeprecationWarning: In a future version, `df.iloc[:, i] = newvals` will attempt to set the values inplace instead of always setting a new array. To retain the old behavior, use either `df[df.columns[i]] = newvals` or, if columns are non-unique, `df.isetitem(i, newvals)`\n",
      "  airbnb_pd.loc[:,\"latitude\"] = airbnb_pd.latitude.astype(float)\n",
      "<ipython-input-15-a8ec1c88f09f>:21: DeprecationWarning: In a future version, `df.iloc[:, i] = newvals` will attempt to set the values inplace instead of always setting a new array. To retain the old behavior, use either `df[df.columns[i]] = newvals` or, if columns are non-unique, `df.isetitem(i, newvals)`\n",
      "  airbnb_pd.loc[:,\"longitude\"] = airbnb_pd.longitude.astype(float)\n",
      "<ipython-input-15-a8ec1c88f09f>:22: DeprecationWarning: In a future version, `df.iloc[:, i] = newvals` will attempt to set the values inplace instead of always setting a new array. To retain the old behavior, use either `df[df.columns[i]] = newvals` or, if columns are non-unique, `df.isetitem(i, newvals)`\n",
      "  airbnb_pd.loc[:,\"number_of_reviews\"] = airbnb_pd.number_of_reviews.astype(int)\n",
      "<ipython-input-15-a8ec1c88f09f>:23: DeprecationWarning: In a future version, `df.iloc[:, i] = newvals` will attempt to set the values inplace instead of always setting a new array. To retain the old behavior, use either `df[df.columns[i]] = newvals` or, if columns are non-unique, `df.isetitem(i, newvals)`\n",
      "  airbnb_pd.loc[:,\"minimum_nights\"] = airbnb_pd.minimum_nights.astype(int)\n",
      "\n",
      " 86%|████████▌ | 50/58 [00:12<00:02,  3.23it/s]\u001b[A"
     ]
    },
    {
     "name": "stdout",
     "output_type": "stream",
     "text": [
      "train_noise_40.csv_cleaned_curatorMerge.csv\n"
     ]
    },
    {
     "name": "stderr",
     "output_type": "stream",
     "text": [
      "<ipython-input-15-a8ec1c88f09f>:22: DeprecationWarning: In a future version, `df.iloc[:, i] = newvals` will attempt to set the values inplace instead of always setting a new array. To retain the old behavior, use either `df[df.columns[i]] = newvals` or, if columns are non-unique, `df.isetitem(i, newvals)`\n",
      "  airbnb_pd.loc[:,\"number_of_reviews\"] = airbnb_pd.number_of_reviews.astype(int)\n",
      "<ipython-input-15-a8ec1c88f09f>:23: DeprecationWarning: In a future version, `df.iloc[:, i] = newvals` will attempt to set the values inplace instead of always setting a new array. To retain the old behavior, use either `df[df.columns[i]] = newvals` or, if columns are non-unique, `df.isetitem(i, newvals)`\n",
      "  airbnb_pd.loc[:,\"minimum_nights\"] = airbnb_pd.minimum_nights.astype(int)\n",
      "\n",
      " 88%|████████▊ | 51/58 [00:12<00:02,  3.27it/s]\u001b[A"
     ]
    },
    {
     "name": "stdout",
     "output_type": "stream",
     "text": [
      "train_noise_30.csv_cleaned_curatorMerge.csv\n"
     ]
    },
    {
     "name": "stderr",
     "output_type": "stream",
     "text": [
      "<ipython-input-15-a8ec1c88f09f>:22: DeprecationWarning: In a future version, `df.iloc[:, i] = newvals` will attempt to set the values inplace instead of always setting a new array. To retain the old behavior, use either `df[df.columns[i]] = newvals` or, if columns are non-unique, `df.isetitem(i, newvals)`\n",
      "  airbnb_pd.loc[:,\"number_of_reviews\"] = airbnb_pd.number_of_reviews.astype(int)\n",
      "<ipython-input-15-a8ec1c88f09f>:23: DeprecationWarning: In a future version, `df.iloc[:, i] = newvals` will attempt to set the values inplace instead of always setting a new array. To retain the old behavior, use either `df[df.columns[i]] = newvals` or, if columns are non-unique, `df.isetitem(i, newvals)`\n",
      "  airbnb_pd.loc[:,\"minimum_nights\"] = airbnb_pd.minimum_nights.astype(int)\n",
      "\n",
      " 90%|████████▉ | 52/58 [00:13<00:01,  3.15it/s]\u001b[A"
     ]
    },
    {
     "name": "stdout",
     "output_type": "stream",
     "text": [
      "train_noise_15.csv_cleaned_curatorMerge.csv\n"
     ]
    },
    {
     "name": "stderr",
     "output_type": "stream",
     "text": [
      "<ipython-input-15-a8ec1c88f09f>:22: DeprecationWarning: In a future version, `df.iloc[:, i] = newvals` will attempt to set the values inplace instead of always setting a new array. To retain the old behavior, use either `df[df.columns[i]] = newvals` or, if columns are non-unique, `df.isetitem(i, newvals)`\n",
      "  airbnb_pd.loc[:,\"number_of_reviews\"] = airbnb_pd.number_of_reviews.astype(int)\n",
      "<ipython-input-15-a8ec1c88f09f>:23: DeprecationWarning: In a future version, `df.iloc[:, i] = newvals` will attempt to set the values inplace instead of always setting a new array. To retain the old behavior, use either `df[df.columns[i]] = newvals` or, if columns are non-unique, `df.isetitem(i, newvals)`\n",
      "  airbnb_pd.loc[:,\"minimum_nights\"] = airbnb_pd.minimum_nights.astype(int)\n",
      "\n",
      " 91%|█████████▏| 53/58 [00:13<00:01,  3.20it/s]\u001b[A"
     ]
    },
    {
     "name": "stdout",
     "output_type": "stream",
     "text": [
      "train_noise_25.csv_cleaned_curatorMerge.csv\n"
     ]
    },
    {
     "name": "stderr",
     "output_type": "stream",
     "text": [
      "<ipython-input-15-a8ec1c88f09f>:22: DeprecationWarning: In a future version, `df.iloc[:, i] = newvals` will attempt to set the values inplace instead of always setting a new array. To retain the old behavior, use either `df[df.columns[i]] = newvals` or, if columns are non-unique, `df.isetitem(i, newvals)`\n",
      "  airbnb_pd.loc[:,\"number_of_reviews\"] = airbnb_pd.number_of_reviews.astype(int)\n",
      "<ipython-input-15-a8ec1c88f09f>:23: DeprecationWarning: In a future version, `df.iloc[:, i] = newvals` will attempt to set the values inplace instead of always setting a new array. To retain the old behavior, use either `df[df.columns[i]] = newvals` or, if columns are non-unique, `df.isetitem(i, newvals)`\n",
      "  airbnb_pd.loc[:,\"minimum_nights\"] = airbnb_pd.minimum_nights.astype(int)\n",
      "\n",
      " 93%|█████████▎| 54/58 [00:13<00:01,  3.22it/s]\u001b[A"
     ]
    },
    {
     "name": "stdout",
     "output_type": "stream",
     "text": [
      "train_noise_10.csv_cleaned_curatorMerge.csv\n"
     ]
    },
    {
     "name": "stderr",
     "output_type": "stream",
     "text": [
      "<ipython-input-15-a8ec1c88f09f>:22: DeprecationWarning: In a future version, `df.iloc[:, i] = newvals` will attempt to set the values inplace instead of always setting a new array. To retain the old behavior, use either `df[df.columns[i]] = newvals` or, if columns are non-unique, `df.isetitem(i, newvals)`\n",
      "  airbnb_pd.loc[:,\"number_of_reviews\"] = airbnb_pd.number_of_reviews.astype(int)\n",
      "<ipython-input-15-a8ec1c88f09f>:23: DeprecationWarning: In a future version, `df.iloc[:, i] = newvals` will attempt to set the values inplace instead of always setting a new array. To retain the old behavior, use either `df[df.columns[i]] = newvals` or, if columns are non-unique, `df.isetitem(i, newvals)`\n",
      "  airbnb_pd.loc[:,\"minimum_nights\"] = airbnb_pd.minimum_nights.astype(int)\n",
      "\n",
      " 95%|█████████▍| 55/58 [00:14<00:00,  3.16it/s]\u001b[A"
     ]
    },
    {
     "name": "stdout",
     "output_type": "stream",
     "text": [
      "train_noise_5.csv_cleaned_curatorMerge.csv\n"
     ]
    },
    {
     "name": "stderr",
     "output_type": "stream",
     "text": [
      "<ipython-input-15-a8ec1c88f09f>:22: DeprecationWarning: In a future version, `df.iloc[:, i] = newvals` will attempt to set the values inplace instead of always setting a new array. To retain the old behavior, use either `df[df.columns[i]] = newvals` or, if columns are non-unique, `df.isetitem(i, newvals)`\n",
      "  airbnb_pd.loc[:,\"number_of_reviews\"] = airbnb_pd.number_of_reviews.astype(int)\n",
      "<ipython-input-15-a8ec1c88f09f>:23: DeprecationWarning: In a future version, `df.iloc[:, i] = newvals` will attempt to set the values inplace instead of always setting a new array. To retain the old behavior, use either `df[df.columns[i]] = newvals` or, if columns are non-unique, `df.isetitem(i, newvals)`\n",
      "  airbnb_pd.loc[:,\"minimum_nights\"] = airbnb_pd.minimum_nights.astype(int)\n",
      "\n",
      " 97%|█████████▋| 56/58 [00:14<00:00,  3.08it/s]\u001b[A"
     ]
    },
    {
     "name": "stdout",
     "output_type": "stream",
     "text": [
      "train_noise_35.csv_cleaned_curatorMerge.csv\n"
     ]
    },
    {
     "name": "stderr",
     "output_type": "stream",
     "text": [
      "<ipython-input-15-a8ec1c88f09f>:22: DeprecationWarning: In a future version, `df.iloc[:, i] = newvals` will attempt to set the values inplace instead of always setting a new array. To retain the old behavior, use either `df[df.columns[i]] = newvals` or, if columns are non-unique, `df.isetitem(i, newvals)`\n",
      "  airbnb_pd.loc[:,\"number_of_reviews\"] = airbnb_pd.number_of_reviews.astype(int)\n",
      "<ipython-input-15-a8ec1c88f09f>:23: DeprecationWarning: In a future version, `df.iloc[:, i] = newvals` will attempt to set the values inplace instead of always setting a new array. To retain the old behavior, use either `df[df.columns[i]] = newvals` or, if columns are non-unique, `df.isetitem(i, newvals)`\n",
      "  airbnb_pd.loc[:,\"minimum_nights\"] = airbnb_pd.minimum_nights.astype(int)\n",
      "\n",
      " 98%|█████████▊| 57/58 [00:14<00:00,  2.92it/s]\u001b[A"
     ]
    },
    {
     "name": "stdout",
     "output_type": "stream",
     "text": [
      "train_noise_20.csv_cleaned_curatorMerge.csv\n"
     ]
    },
    {
     "name": "stderr",
     "output_type": "stream",
     "text": [
      "<ipython-input-15-a8ec1c88f09f>:22: DeprecationWarning: In a future version, `df.iloc[:, i] = newvals` will attempt to set the values inplace instead of always setting a new array. To retain the old behavior, use either `df[df.columns[i]] = newvals` or, if columns are non-unique, `df.isetitem(i, newvals)`\n",
      "  airbnb_pd.loc[:,\"number_of_reviews\"] = airbnb_pd.number_of_reviews.astype(int)\n",
      "<ipython-input-15-a8ec1c88f09f>:23: DeprecationWarning: In a future version, `df.iloc[:, i] = newvals` will attempt to set the values inplace instead of always setting a new array. To retain the old behavior, use either `df[df.columns[i]] = newvals` or, if columns are non-unique, `df.isetitem(i, newvals)`\n",
      "  airbnb_pd.loc[:,\"minimum_nights\"] = airbnb_pd.minimum_nights.astype(int)\n",
      "\n",
      "100%|██████████| 58/58 [00:15<00:00,  3.80it/s]\n",
      "100%|██████████| 10/10 [02:42<00:00, 16.23s/it]\n"
     ]
    }
   ],
   "source": [
    "import os\n",
    "from sklearn.metrics import mean_squared_log_error,mean_squared_error\n",
    "from tqdm import tqdm\n",
    "\n",
    "dir = \"split_variation\"\n",
    "\n",
    "compiled_results = []\n",
    "\n",
    "for dd in tqdm(os.listdir(dir)):\n",
    "  #print(dd)\n",
    "  d_split = f\"{dir}/{dd}\"\n",
    "  # read original first\n",
    "  X_train, y_train, ori_pd = transform_file(f\"{d_split}/train_original.csv\")\n",
    "  # read test file\n",
    "  X_test, y_test, test_pd = transform_file(f\"{d_split}/test.csv\")\n",
    "  # original performance\n",
    "  #compiled_results.append([dd,\"ori\",ori_pd.shape[0]])\n",
    "  #print(\"The score is %.5f\" % RMSE )\n",
    "  for fl in tqdm(os.listdir(d_split)):\n",
    "    if fl.find(\"cleaned\") >= 0:\n",
    "      print(fl)\n",
    "      X_train, y_train, clean_pd = transform_file(f\"{d_split}/{fl}\")\n",
    "      xx = ori_pd.merge(clean_pd,left_on=\"id\",right_on=\"id\",suffixes=(\"\",\"_y\")).loc[:,[\"latitude\",\"longitude\",\"minimum_nights\",\"number_of_reviews\",\"room_type\",\"neighbourhood\"]].reset_index(drop=True)\n",
    "      yy =clean_pd.loc[:,[\"latitude\",\"longitude\",\"minimum_nights\",\"number_of_reviews\",\"room_type\",\"neighbourhood\"]].reset_index(drop=True)\n",
    "      #accuracy = (xx==yy).sum().sum()/(ori_pd.shape[0]*6)\n",
    "      accuracy = (xx!=yy).apply(lambda x:sum(x)>0,axis=1).sum()/(ori_pd.shape[0])\n",
    "      completeness = clean_pd.shape[0]/ori_pd.shape[0]\n",
    "      compiled_results.append([dd,fl,ori_pd.shape[0],clean_pd.shape[0],completeness,accuracy])\n",
    "      #break\n",
    "  #break\n"
   ]
  },
  {
   "cell_type": "code",
   "execution_count": null,
   "metadata": {
    "colab": {
     "base_uri": "https://localhost:8080/",
     "height": 956
    },
    "id": "N6VjHcFkJZ7m",
    "outputId": "0e6899ec-7ddd-4154-e907-781a8f0a1515"
   },
   "outputs": [
    {
     "data": {
      "text/html": [
       "\n",
       "  <div id=\"df-f97165b9-9231-445a-8838-16889c475c2d\">\n",
       "    <div class=\"colab-df-container\">\n",
       "      <div>\n",
       "<style scoped>\n",
       "    .dataframe tbody tr th:only-of-type {\n",
       "        vertical-align: middle;\n",
       "    }\n",
       "\n",
       "    .dataframe tbody tr th {\n",
       "        vertical-align: top;\n",
       "    }\n",
       "\n",
       "    .dataframe thead th {\n",
       "        text-align: right;\n",
       "    }\n",
       "</style>\n",
       "<table border=\"1\" class=\"dataframe\">\n",
       "  <thead>\n",
       "    <tr style=\"text-align: right;\">\n",
       "      <th></th>\n",
       "      <th>index</th>\n",
       "      <th>id</th>\n",
       "      <th>name</th>\n",
       "      <th>host_id</th>\n",
       "      <th>host_name</th>\n",
       "      <th>neighbourhood_group</th>\n",
       "      <th>neighbourhood</th>\n",
       "      <th>latitude</th>\n",
       "      <th>longitude</th>\n",
       "      <th>room_type</th>\n",
       "      <th>price</th>\n",
       "      <th>minimum_nights</th>\n",
       "      <th>number_of_reviews</th>\n",
       "      <th>last_review</th>\n",
       "      <th>reviews_per_month</th>\n",
       "      <th>calculated_host_listings_count</th>\n",
       "      <th>availability_365</th>\n",
       "      <th>number_of_reviews_ltm</th>\n",
       "      <th>license</th>\n",
       "    </tr>\n",
       "  </thead>\n",
       "  <tbody>\n",
       "    <tr>\n",
       "      <th>0</th>\n",
       "      <td>0</td>\n",
       "      <td>2384</td>\n",
       "      <td>Hyde Park - Walk to UChicago</td>\n",
       "      <td>2613</td>\n",
       "      <td>Rebecca</td>\n",
       "      <td>NaN</td>\n",
       "      <td>Hyde Park</td>\n",
       "      <td>41.787900</td>\n",
       "      <td>-87.587800</td>\n",
       "      <td>Private room</td>\n",
       "      <td>84</td>\n",
       "      <td>3</td>\n",
       "      <td>211</td>\n",
       "      <td>2022-11-18</td>\n",
       "      <td>2.18</td>\n",
       "      <td>1</td>\n",
       "      <td>365</td>\n",
       "      <td>19</td>\n",
       "      <td>R17000015609</td>\n",
       "    </tr>\n",
       "    <tr>\n",
       "      <th>1</th>\n",
       "      <td>1</td>\n",
       "      <td>7126</td>\n",
       "      <td>Tiny Studio Apartment 94 Walk Score</td>\n",
       "      <td>17928</td>\n",
       "      <td>Sarah</td>\n",
       "      <td>NaN</td>\n",
       "      <td>West Town</td>\n",
       "      <td>41.902890</td>\n",
       "      <td>-87.681820</td>\n",
       "      <td>Entire home/apt</td>\n",
       "      <td>85</td>\n",
       "      <td>2</td>\n",
       "      <td>475</td>\n",
       "      <td>2022-12-05</td>\n",
       "      <td>2.90</td>\n",
       "      <td>1</td>\n",
       "      <td>325</td>\n",
       "      <td>45</td>\n",
       "      <td>R21000075737</td>\n",
       "    </tr>\n",
       "    <tr>\n",
       "      <th>2</th>\n",
       "      <td>2</td>\n",
       "      <td>1304049</td>\n",
       "      <td>Private room near UIC Medical Dist.</td>\n",
       "      <td>7089017</td>\n",
       "      <td>Sharon</td>\n",
       "      <td>NaN</td>\n",
       "      <td>Near West Side</td>\n",
       "      <td>41.871900</td>\n",
       "      <td>-87.684860</td>\n",
       "      <td>Private room</td>\n",
       "      <td>103</td>\n",
       "      <td>1</td>\n",
       "      <td>118</td>\n",
       "      <td>2022-10-15</td>\n",
       "      <td>1.04</td>\n",
       "      <td>1</td>\n",
       "      <td>363</td>\n",
       "      <td>8</td>\n",
       "      <td>R17000015307</td>\n",
       "    </tr>\n",
       "    <tr>\n",
       "      <th>3</th>\n",
       "      <td>3</td>\n",
       "      <td>3453656</td>\n",
       "      <td>Private large room with your own bathroom</td>\n",
       "      <td>17405364</td>\n",
       "      <td>Jennifer</td>\n",
       "      <td>NaN</td>\n",
       "      <td>Rogers Park</td>\n",
       "      <td>41.999930</td>\n",
       "      <td>-87.668440</td>\n",
       "      <td>Private room</td>\n",
       "      <td>122</td>\n",
       "      <td>14</td>\n",
       "      <td>39</td>\n",
       "      <td>2022-11-07</td>\n",
       "      <td>0.43</td>\n",
       "      <td>2</td>\n",
       "      <td>148</td>\n",
       "      <td>6</td>\n",
       "      <td>R21000073244</td>\n",
       "    </tr>\n",
       "    <tr>\n",
       "      <th>4</th>\n",
       "      <td>4</td>\n",
       "      <td>25879</td>\n",
       "      <td>2/1 One  Block to Fullerton L Red Line Deck &amp; ...</td>\n",
       "      <td>101521</td>\n",
       "      <td>Red</td>\n",
       "      <td>NaN</td>\n",
       "      <td>Lincoln Park</td>\n",
       "      <td>41.926930</td>\n",
       "      <td>-87.657530</td>\n",
       "      <td>Entire home/apt</td>\n",
       "      <td>94</td>\n",
       "      <td>32</td>\n",
       "      <td>50</td>\n",
       "      <td>2022-11-13</td>\n",
       "      <td>0.33</td>\n",
       "      <td>3</td>\n",
       "      <td>289</td>\n",
       "      <td>2</td>\n",
       "      <td>City registration pending</td>\n",
       "    </tr>\n",
       "    <tr>\n",
       "      <th>...</th>\n",
       "      <td>...</td>\n",
       "      <td>...</td>\n",
       "      <td>...</td>\n",
       "      <td>...</td>\n",
       "      <td>...</td>\n",
       "      <td>...</td>\n",
       "      <td>...</td>\n",
       "      <td>...</td>\n",
       "      <td>...</td>\n",
       "      <td>...</td>\n",
       "      <td>...</td>\n",
       "      <td>...</td>\n",
       "      <td>...</td>\n",
       "      <td>...</td>\n",
       "      <td>...</td>\n",
       "      <td>...</td>\n",
       "      <td>...</td>\n",
       "      <td>...</td>\n",
       "      <td>...</td>\n",
       "    </tr>\n",
       "    <tr>\n",
       "      <th>3018</th>\n",
       "      <td>3045</td>\n",
       "      <td>771711408944006841</td>\n",
       "      <td>McCormick Place 2b/2b w optional parking/sleeps 6</td>\n",
       "      <td>395498979</td>\n",
       "      <td>Milan</td>\n",
       "      <td>NaN</td>\n",
       "      <td>Near South Side</td>\n",
       "      <td>41.855460</td>\n",
       "      <td>-87.623740</td>\n",
       "      <td>Entire home/apt</td>\n",
       "      <td>204</td>\n",
       "      <td>2</td>\n",
       "      <td>0</td>\n",
       "      <td>NaN</td>\n",
       "      <td>0.00</td>\n",
       "      <td>56</td>\n",
       "      <td>353</td>\n",
       "      <td>0</td>\n",
       "      <td>2792126</td>\n",
       "    </tr>\n",
       "    <tr>\n",
       "      <th>3019</th>\n",
       "      <td>3046</td>\n",
       "      <td>771803500765098968</td>\n",
       "      <td>3BR Comfy &amp; Bright Chicago Apartment</td>\n",
       "      <td>488113016</td>\n",
       "      <td>Alexis</td>\n",
       "      <td>NaN</td>\n",
       "      <td>North Center</td>\n",
       "      <td>41.951960</td>\n",
       "      <td>-87.677170</td>\n",
       "      <td>Entire home/apt</td>\n",
       "      <td>67</td>\n",
       "      <td>1</td>\n",
       "      <td>0</td>\n",
       "      <td>NaN</td>\n",
       "      <td>0.00</td>\n",
       "      <td>8</td>\n",
       "      <td>57</td>\n",
       "      <td>0</td>\n",
       "      <td>R22000089510</td>\n",
       "    </tr>\n",
       "    <tr>\n",
       "      <th>3020</th>\n",
       "      <td>3047</td>\n",
       "      <td>771833143252848397</td>\n",
       "      <td>Comfy Avondale Flat - Sleeps 4</td>\n",
       "      <td>150639375</td>\n",
       "      <td>Federico</td>\n",
       "      <td>NaN</td>\n",
       "      <td>Avondale</td>\n",
       "      <td>41.934130</td>\n",
       "      <td>-87.721730</td>\n",
       "      <td>Entire home/apt</td>\n",
       "      <td>79</td>\n",
       "      <td>2</td>\n",
       "      <td>0</td>\n",
       "      <td>NaN</td>\n",
       "      <td>0.00</td>\n",
       "      <td>4</td>\n",
       "      <td>347</td>\n",
       "      <td>0</td>\n",
       "      <td>R22000094210</td>\n",
       "    </tr>\n",
       "    <tr>\n",
       "      <th>3021</th>\n",
       "      <td>3048</td>\n",
       "      <td>771860062577897747</td>\n",
       "      <td>Comfy &amp; Artistic 2BR Home in Francisco Ave</td>\n",
       "      <td>488113016</td>\n",
       "      <td>Alexis</td>\n",
       "      <td>NaN</td>\n",
       "      <td>West Ridge</td>\n",
       "      <td>41.996700</td>\n",
       "      <td>-87.701700</td>\n",
       "      <td>Entire home/apt</td>\n",
       "      <td>72</td>\n",
       "      <td>1</td>\n",
       "      <td>0</td>\n",
       "      <td>NaN</td>\n",
       "      <td>0.00</td>\n",
       "      <td>8</td>\n",
       "      <td>63</td>\n",
       "      <td>0</td>\n",
       "      <td>R21000062411</td>\n",
       "    </tr>\n",
       "    <tr>\n",
       "      <th>3022</th>\n",
       "      <td>3049</td>\n",
       "      <td>780251823315015012</td>\n",
       "      <td>Loop 1br w/ gym &amp; doorman, nr L &amp; Grant Park</td>\n",
       "      <td>107434423</td>\n",
       "      <td>Blueground</td>\n",
       "      <td>NaN</td>\n",
       "      <td>Loop</td>\n",
       "      <td>41.877229</td>\n",
       "      <td>-87.629011</td>\n",
       "      <td>Entire home/apt</td>\n",
       "      <td>125</td>\n",
       "      <td>32</td>\n",
       "      <td>0</td>\n",
       "      <td>NaN</td>\n",
       "      <td>0.00</td>\n",
       "      <td>639</td>\n",
       "      <td>323</td>\n",
       "      <td>0</td>\n",
       "      <td>NaN</td>\n",
       "    </tr>\n",
       "  </tbody>\n",
       "</table>\n",
       "<p>3023 rows × 19 columns</p>\n",
       "</div>\n",
       "      <button class=\"colab-df-convert\" onclick=\"convertToInteractive('df-f97165b9-9231-445a-8838-16889c475c2d')\"\n",
       "              title=\"Convert this dataframe to an interactive table.\"\n",
       "              style=\"display:none;\">\n",
       "        \n",
       "  <svg xmlns=\"http://www.w3.org/2000/svg\" height=\"24px\"viewBox=\"0 0 24 24\"\n",
       "       width=\"24px\">\n",
       "    <path d=\"M0 0h24v24H0V0z\" fill=\"none\"/>\n",
       "    <path d=\"M18.56 5.44l.94 2.06.94-2.06 2.06-.94-2.06-.94-.94-2.06-.94 2.06-2.06.94zm-11 1L8.5 8.5l.94-2.06 2.06-.94-2.06-.94L8.5 2.5l-.94 2.06-2.06.94zm10 10l.94 2.06.94-2.06 2.06-.94-2.06-.94-.94-2.06-.94 2.06-2.06.94z\"/><path d=\"M17.41 7.96l-1.37-1.37c-.4-.4-.92-.59-1.43-.59-.52 0-1.04.2-1.43.59L10.3 9.45l-7.72 7.72c-.78.78-.78 2.05 0 2.83L4 21.41c.39.39.9.59 1.41.59.51 0 1.02-.2 1.41-.59l7.78-7.78 2.81-2.81c.8-.78.8-2.07 0-2.86zM5.41 20L4 18.59l7.72-7.72 1.47 1.35L5.41 20z\"/>\n",
       "  </svg>\n",
       "      </button>\n",
       "      \n",
       "  <style>\n",
       "    .colab-df-container {\n",
       "      display:flex;\n",
       "      flex-wrap:wrap;\n",
       "      gap: 12px;\n",
       "    }\n",
       "\n",
       "    .colab-df-convert {\n",
       "      background-color: #E8F0FE;\n",
       "      border: none;\n",
       "      border-radius: 50%;\n",
       "      cursor: pointer;\n",
       "      display: none;\n",
       "      fill: #1967D2;\n",
       "      height: 32px;\n",
       "      padding: 0 0 0 0;\n",
       "      width: 32px;\n",
       "    }\n",
       "\n",
       "    .colab-df-convert:hover {\n",
       "      background-color: #E2EBFA;\n",
       "      box-shadow: 0px 1px 2px rgba(60, 64, 67, 0.3), 0px 1px 3px 1px rgba(60, 64, 67, 0.15);\n",
       "      fill: #174EA6;\n",
       "    }\n",
       "\n",
       "    [theme=dark] .colab-df-convert {\n",
       "      background-color: #3B4455;\n",
       "      fill: #D2E3FC;\n",
       "    }\n",
       "\n",
       "    [theme=dark] .colab-df-convert:hover {\n",
       "      background-color: #434B5C;\n",
       "      box-shadow: 0px 1px 3px 1px rgba(0, 0, 0, 0.15);\n",
       "      filter: drop-shadow(0px 1px 2px rgba(0, 0, 0, 0.3));\n",
       "      fill: #FFFFFF;\n",
       "    }\n",
       "  </style>\n",
       "\n",
       "      <script>\n",
       "        const buttonEl =\n",
       "          document.querySelector('#df-f97165b9-9231-445a-8838-16889c475c2d button.colab-df-convert');\n",
       "        buttonEl.style.display =\n",
       "          google.colab.kernel.accessAllowed ? 'block' : 'none';\n",
       "\n",
       "        async function convertToInteractive(key) {\n",
       "          const element = document.querySelector('#df-f97165b9-9231-445a-8838-16889c475c2d');\n",
       "          const dataTable =\n",
       "            await google.colab.kernel.invokeFunction('convertToInteractive',\n",
       "                                                     [key], {});\n",
       "          if (!dataTable) return;\n",
       "\n",
       "          const docLinkHtml = 'Like what you see? Visit the ' +\n",
       "            '<a target=\"_blank\" href=https://colab.research.google.com/notebooks/data_table.ipynb>data table notebook</a>'\n",
       "            + ' to learn more about interactive tables.';\n",
       "          element.innerHTML = '';\n",
       "          dataTable['output_type'] = 'display_data';\n",
       "          await google.colab.output.renderOutput(dataTable, element);\n",
       "          const docLink = document.createElement('div');\n",
       "          docLink.innerHTML = docLinkHtml;\n",
       "          element.appendChild(docLink);\n",
       "        }\n",
       "      </script>\n",
       "    </div>\n",
       "  </div>\n",
       "  "
      ],
      "text/plain": [
       "      index                  id  \\\n",
       "0         0                2384   \n",
       "1         1                7126   \n",
       "2         2             1304049   \n",
       "3         3             3453656   \n",
       "4         4               25879   \n",
       "...     ...                 ...   \n",
       "3018   3045  771711408944006841   \n",
       "3019   3046  771803500765098968   \n",
       "3020   3047  771833143252848397   \n",
       "3021   3048  771860062577897747   \n",
       "3022   3049  780251823315015012   \n",
       "\n",
       "                                                   name    host_id  \\\n",
       "0                          Hyde Park - Walk to UChicago       2613   \n",
       "1                   Tiny Studio Apartment 94 Walk Score      17928   \n",
       "2                   Private room near UIC Medical Dist.    7089017   \n",
       "3             Private large room with your own bathroom   17405364   \n",
       "4     2/1 One  Block to Fullerton L Red Line Deck & ...     101521   \n",
       "...                                                 ...        ...   \n",
       "3018  McCormick Place 2b/2b w optional parking/sleeps 6  395498979   \n",
       "3019               3BR Comfy & Bright Chicago Apartment  488113016   \n",
       "3020                     Comfy Avondale Flat - Sleeps 4  150639375   \n",
       "3021         Comfy & Artistic 2BR Home in Francisco Ave  488113016   \n",
       "3022       Loop 1br w/ gym & doorman, nr L & Grant Park  107434423   \n",
       "\n",
       "       host_name  neighbourhood_group    neighbourhood   latitude  longitude  \\\n",
       "0        Rebecca                  NaN        Hyde Park  41.787900 -87.587800   \n",
       "1          Sarah                  NaN        West Town  41.902890 -87.681820   \n",
       "2         Sharon                  NaN   Near West Side  41.871900 -87.684860   \n",
       "3       Jennifer                  NaN      Rogers Park  41.999930 -87.668440   \n",
       "4            Red                  NaN     Lincoln Park  41.926930 -87.657530   \n",
       "...          ...                  ...              ...        ...        ...   \n",
       "3018       Milan                  NaN  Near South Side  41.855460 -87.623740   \n",
       "3019      Alexis                  NaN     North Center  41.951960 -87.677170   \n",
       "3020    Federico                  NaN         Avondale  41.934130 -87.721730   \n",
       "3021      Alexis                  NaN       West Ridge  41.996700 -87.701700   \n",
       "3022  Blueground                  NaN             Loop  41.877229 -87.629011   \n",
       "\n",
       "            room_type  price  minimum_nights  number_of_reviews last_review  \\\n",
       "0        Private room     84               3                211  2022-11-18   \n",
       "1     Entire home/apt     85               2                475  2022-12-05   \n",
       "2        Private room    103               1                118  2022-10-15   \n",
       "3        Private room    122              14                 39  2022-11-07   \n",
       "4     Entire home/apt     94              32                 50  2022-11-13   \n",
       "...               ...    ...             ...                ...         ...   \n",
       "3018  Entire home/apt    204               2                  0         NaN   \n",
       "3019  Entire home/apt     67               1                  0         NaN   \n",
       "3020  Entire home/apt     79               2                  0         NaN   \n",
       "3021  Entire home/apt     72               1                  0         NaN   \n",
       "3022  Entire home/apt    125              32                  0         NaN   \n",
       "\n",
       "      reviews_per_month  calculated_host_listings_count  availability_365  \\\n",
       "0                  2.18                               1               365   \n",
       "1                  2.90                               1               325   \n",
       "2                  1.04                               1               363   \n",
       "3                  0.43                               2               148   \n",
       "4                  0.33                               3               289   \n",
       "...                 ...                             ...               ...   \n",
       "3018               0.00                              56               353   \n",
       "3019               0.00                               8                57   \n",
       "3020               0.00                               4               347   \n",
       "3021               0.00                               8                63   \n",
       "3022               0.00                             639               323   \n",
       "\n",
       "      number_of_reviews_ltm                    license  \n",
       "0                        19               R17000015609  \n",
       "1                        45               R21000075737  \n",
       "2                         8               R17000015307  \n",
       "3                         6               R21000073244  \n",
       "4                         2  City registration pending  \n",
       "...                     ...                        ...  \n",
       "3018                      0                    2792126  \n",
       "3019                      0               R22000089510  \n",
       "3020                      0               R22000094210  \n",
       "3021                      0               R21000062411  \n",
       "3022                      0                        NaN  \n",
       "\n",
       "[3023 rows x 19 columns]"
      ]
     },
     "execution_count": 40,
     "metadata": {},
     "output_type": "execute_result"
    }
   ],
   "source": [
    "ori_pd"
   ]
  },
  {
   "cell_type": "code",
   "execution_count": null,
   "metadata": {
    "colab": {
     "base_uri": "https://localhost:8080/",
     "height": 974
    },
    "id": "Qs4YDEcAJpRb",
    "outputId": "a8faf149-6d9f-4386-de6d-8ee2cc8cd5a8"
   },
   "outputs": [
    {
     "data": {
      "text/html": [
       "\n",
       "  <div id=\"df-447d618d-2976-418e-9d68-3de534fab4a1\">\n",
       "    <div class=\"colab-df-container\">\n",
       "      <div>\n",
       "<style scoped>\n",
       "    .dataframe tbody tr th:only-of-type {\n",
       "        vertical-align: middle;\n",
       "    }\n",
       "\n",
       "    .dataframe tbody tr th {\n",
       "        vertical-align: top;\n",
       "    }\n",
       "\n",
       "    .dataframe thead th {\n",
       "        text-align: right;\n",
       "    }\n",
       "</style>\n",
       "<table border=\"1\" class=\"dataframe\">\n",
       "  <thead>\n",
       "    <tr style=\"text-align: right;\">\n",
       "      <th></th>\n",
       "      <th>index</th>\n",
       "      <th>id</th>\n",
       "      <th>name</th>\n",
       "      <th>host_id</th>\n",
       "      <th>host_name</th>\n",
       "      <th>neighbourhood_group</th>\n",
       "      <th>neighbourhood</th>\n",
       "      <th>latitude</th>\n",
       "      <th>longitude</th>\n",
       "      <th>room_type</th>\n",
       "      <th>...</th>\n",
       "      <th>license</th>\n",
       "      <th>id_flag</th>\n",
       "      <th>host_id_flag</th>\n",
       "      <th>neighbourhood_flag</th>\n",
       "      <th>latitude_flag</th>\n",
       "      <th>longitude_flag</th>\n",
       "      <th>minimum_nights_flag</th>\n",
       "      <th>number_of_reviews_flag</th>\n",
       "      <th>last_review_flag</th>\n",
       "      <th>room_type_flag</th>\n",
       "    </tr>\n",
       "  </thead>\n",
       "  <tbody>\n",
       "    <tr>\n",
       "      <th>0</th>\n",
       "      <td>23</td>\n",
       "      <td>349265</td>\n",
       "      <td>Historic Chicago Home - Hyde Park</td>\n",
       "      <td>1517871</td>\n",
       "      <td>Jon</td>\n",
       "      <td>NaN</td>\n",
       "      <td>Hyde Park</td>\n",
       "      <td>41.80086</td>\n",
       "      <td>-87.58948</td>\n",
       "      <td>Entire home/apt</td>\n",
       "      <td>...</td>\n",
       "      <td>R18000030216</td>\n",
       "      <td>0</td>\n",
       "      <td>0</td>\n",
       "      <td>0</td>\n",
       "      <td>0</td>\n",
       "      <td>0</td>\n",
       "      <td>0</td>\n",
       "      <td>0</td>\n",
       "      <td>0</td>\n",
       "      <td>0</td>\n",
       "    </tr>\n",
       "    <tr>\n",
       "      <th>1</th>\n",
       "      <td>30</td>\n",
       "      <td>484898</td>\n",
       "      <td>Charming 1906 cottage Northside</td>\n",
       "      <td>2400107</td>\n",
       "      <td>Allison</td>\n",
       "      <td>NaN</td>\n",
       "      <td>NaN</td>\n",
       "      <td>41.97053</td>\n",
       "      <td>-87.67267</td>\n",
       "      <td>Entire home/apt</td>\n",
       "      <td>...</td>\n",
       "      <td>R17000013890</td>\n",
       "      <td>0</td>\n",
       "      <td>0</td>\n",
       "      <td>0</td>\n",
       "      <td>0</td>\n",
       "      <td>0</td>\n",
       "      <td>0</td>\n",
       "      <td>0</td>\n",
       "      <td>0</td>\n",
       "      <td>0</td>\n",
       "    </tr>\n",
       "    <tr>\n",
       "      <th>2</th>\n",
       "      <td>71</td>\n",
       "      <td>4503414</td>\n",
       "      <td>Private bedroom near the loop and McCormick Place</td>\n",
       "      <td>20059524</td>\n",
       "      <td>(Email hidden by Airbnb)</td>\n",
       "      <td>NaN</td>\n",
       "      <td>Armour Square</td>\n",
       "      <td>41.85643</td>\n",
       "      <td>-87.63134</td>\n",
       "      <td>Private room</td>\n",
       "      <td>...</td>\n",
       "      <td>City registration pending</td>\n",
       "      <td>0</td>\n",
       "      <td>0</td>\n",
       "      <td>0</td>\n",
       "      <td>0</td>\n",
       "      <td>0</td>\n",
       "      <td>0</td>\n",
       "      <td>0</td>\n",
       "      <td>0</td>\n",
       "      <td>0</td>\n",
       "    </tr>\n",
       "    <tr>\n",
       "      <th>3</th>\n",
       "      <td>75</td>\n",
       "      <td>1027741</td>\n",
       "      <td>Chicago Women's Residence Midler Rm</td>\n",
       "      <td>5654677</td>\n",
       "      <td>Urban Art</td>\n",
       "      <td>NaN</td>\n",
       "      <td>South Lawndale</td>\n",
       "      <td>41.85308</td>\n",
       "      <td>-87.70718</td>\n",
       "      <td>Private room</td>\n",
       "      <td>...</td>\n",
       "      <td>R22000076746</td>\n",
       "      <td>0</td>\n",
       "      <td>0</td>\n",
       "      <td>0</td>\n",
       "      <td>0</td>\n",
       "      <td>0</td>\n",
       "      <td>0</td>\n",
       "      <td>0</td>\n",
       "      <td>0</td>\n",
       "      <td>0</td>\n",
       "    </tr>\n",
       "    <tr>\n",
       "      <th>4</th>\n",
       "      <td>92</td>\n",
       "      <td>5576191</td>\n",
       "      <td>Yellow room+ for 1-4 guests @ South Shore bung...</td>\n",
       "      <td>28501460</td>\n",
       "      <td>Delia</td>\n",
       "      <td>NaN</td>\n",
       "      <td>NaN</td>\n",
       "      <td>41.76264</td>\n",
       "      <td>-87.57232</td>\n",
       "      <td>Private room</td>\n",
       "      <td>...</td>\n",
       "      <td>R18000036975</td>\n",
       "      <td>0</td>\n",
       "      <td>0</td>\n",
       "      <td>0</td>\n",
       "      <td>0</td>\n",
       "      <td>0</td>\n",
       "      <td>0</td>\n",
       "      <td>0</td>\n",
       "      <td>0</td>\n",
       "      <td>0</td>\n",
       "    </tr>\n",
       "    <tr>\n",
       "      <th>...</th>\n",
       "      <td>...</td>\n",
       "      <td>...</td>\n",
       "      <td>...</td>\n",
       "      <td>...</td>\n",
       "      <td>...</td>\n",
       "      <td>...</td>\n",
       "      <td>...</td>\n",
       "      <td>...</td>\n",
       "      <td>...</td>\n",
       "      <td>...</td>\n",
       "      <td>...</td>\n",
       "      <td>...</td>\n",
       "      <td>...</td>\n",
       "      <td>...</td>\n",
       "      <td>...</td>\n",
       "      <td>...</td>\n",
       "      <td>...</td>\n",
       "      <td>...</td>\n",
       "      <td>...</td>\n",
       "      <td>...</td>\n",
       "      <td>...</td>\n",
       "    </tr>\n",
       "    <tr>\n",
       "      <th>236</th>\n",
       "      <td>3022</td>\n",
       "      <td>766680180203469794</td>\n",
       "      <td>Fully-equipped 2BR Unit in Wicker Park</td>\n",
       "      <td>480338513</td>\n",
       "      <td>Lane</td>\n",
       "      <td>NaN</td>\n",
       "      <td>NaN</td>\n",
       "      <td>41.90828</td>\n",
       "      <td>-87.66628</td>\n",
       "      <td>Entire home/apt</td>\n",
       "      <td>...</td>\n",
       "      <td>R21000062383</td>\n",
       "      <td>0</td>\n",
       "      <td>0</td>\n",
       "      <td>0</td>\n",
       "      <td>0</td>\n",
       "      <td>0</td>\n",
       "      <td>0</td>\n",
       "      <td>0</td>\n",
       "      <td>0</td>\n",
       "      <td>0</td>\n",
       "    </tr>\n",
       "    <tr>\n",
       "      <th>237</th>\n",
       "      <td>3067</td>\n",
       "      <td>44162298</td>\n",
       "      <td>NaN</td>\n",
       "      <td>169297663</td>\n",
       "      <td>William</td>\n",
       "      <td>NaN</td>\n",
       "      <td>West Town</td>\n",
       "      <td>41.90019</td>\n",
       "      <td>-87.66339</td>\n",
       "      <td>Entire home/apt</td>\n",
       "      <td>...</td>\n",
       "      <td>R22000089131</td>\n",
       "      <td>0</td>\n",
       "      <td>0</td>\n",
       "      <td>0</td>\n",
       "      <td>0</td>\n",
       "      <td>0</td>\n",
       "      <td>0</td>\n",
       "      <td>0</td>\n",
       "      <td>0</td>\n",
       "      <td>0</td>\n",
       "    </tr>\n",
       "    <tr>\n",
       "      <th>238</th>\n",
       "      <td>3743</td>\n",
       "      <td>715575750921525747</td>\n",
       "      <td>NaN</td>\n",
       "      <td>479447879</td>\n",
       "      <td>Roseland</td>\n",
       "      <td>NaN</td>\n",
       "      <td>NaN</td>\n",
       "      <td>41.69145</td>\n",
       "      <td>-87.61866</td>\n",
       "      <td>Private room</td>\n",
       "      <td>...</td>\n",
       "      <td>R22000087608</td>\n",
       "      <td>0</td>\n",
       "      <td>0</td>\n",
       "      <td>0</td>\n",
       "      <td>0</td>\n",
       "      <td>0</td>\n",
       "      <td>0</td>\n",
       "      <td>0</td>\n",
       "      <td>0</td>\n",
       "      <td>0</td>\n",
       "    </tr>\n",
       "    <tr>\n",
       "      <th>239</th>\n",
       "      <td>3793</td>\n",
       "      <td>24085799</td>\n",
       "      <td>NaN</td>\n",
       "      <td>60390549</td>\n",
       "      <td>Zhi</td>\n",
       "      <td>NaN</td>\n",
       "      <td>NaN</td>\n",
       "      <td>41.84786</td>\n",
       "      <td>-87.63127</td>\n",
       "      <td>Private room</td>\n",
       "      <td>...</td>\n",
       "      <td>R17000015797</td>\n",
       "      <td>0</td>\n",
       "      <td>0</td>\n",
       "      <td>0</td>\n",
       "      <td>0</td>\n",
       "      <td>0</td>\n",
       "      <td>0</td>\n",
       "      <td>0</td>\n",
       "      <td>0</td>\n",
       "      <td>0</td>\n",
       "    </tr>\n",
       "    <tr>\n",
       "      <th>240</th>\n",
       "      <td>3929</td>\n",
       "      <td>53313883</td>\n",
       "      <td>NaN</td>\n",
       "      <td>431625764</td>\n",
       "      <td>Sweet Home Of Chicago</td>\n",
       "      <td>NaN</td>\n",
       "      <td>NaN</td>\n",
       "      <td>41.83720</td>\n",
       "      <td>-87.66095</td>\n",
       "      <td>Private room</td>\n",
       "      <td>...</td>\n",
       "      <td>R21000063936</td>\n",
       "      <td>0</td>\n",
       "      <td>0</td>\n",
       "      <td>0</td>\n",
       "      <td>0</td>\n",
       "      <td>0</td>\n",
       "      <td>0</td>\n",
       "      <td>0</td>\n",
       "      <td>0</td>\n",
       "      <td>0</td>\n",
       "    </tr>\n",
       "  </tbody>\n",
       "</table>\n",
       "<p>241 rows × 28 columns</p>\n",
       "</div>\n",
       "      <button class=\"colab-df-convert\" onclick=\"convertToInteractive('df-447d618d-2976-418e-9d68-3de534fab4a1')\"\n",
       "              title=\"Convert this dataframe to an interactive table.\"\n",
       "              style=\"display:none;\">\n",
       "        \n",
       "  <svg xmlns=\"http://www.w3.org/2000/svg\" height=\"24px\"viewBox=\"0 0 24 24\"\n",
       "       width=\"24px\">\n",
       "    <path d=\"M0 0h24v24H0V0z\" fill=\"none\"/>\n",
       "    <path d=\"M18.56 5.44l.94 2.06.94-2.06 2.06-.94-2.06-.94-.94-2.06-.94 2.06-2.06.94zm-11 1L8.5 8.5l.94-2.06 2.06-.94-2.06-.94L8.5 2.5l-.94 2.06-2.06.94zm10 10l.94 2.06.94-2.06 2.06-.94-2.06-.94-.94-2.06-.94 2.06-2.06.94z\"/><path d=\"M17.41 7.96l-1.37-1.37c-.4-.4-.92-.59-1.43-.59-.52 0-1.04.2-1.43.59L10.3 9.45l-7.72 7.72c-.78.78-.78 2.05 0 2.83L4 21.41c.39.39.9.59 1.41.59.51 0 1.02-.2 1.41-.59l7.78-7.78 2.81-2.81c.8-.78.8-2.07 0-2.86zM5.41 20L4 18.59l7.72-7.72 1.47 1.35L5.41 20z\"/>\n",
       "  </svg>\n",
       "      </button>\n",
       "      \n",
       "  <style>\n",
       "    .colab-df-container {\n",
       "      display:flex;\n",
       "      flex-wrap:wrap;\n",
       "      gap: 12px;\n",
       "    }\n",
       "\n",
       "    .colab-df-convert {\n",
       "      background-color: #E8F0FE;\n",
       "      border: none;\n",
       "      border-radius: 50%;\n",
       "      cursor: pointer;\n",
       "      display: none;\n",
       "      fill: #1967D2;\n",
       "      height: 32px;\n",
       "      padding: 0 0 0 0;\n",
       "      width: 32px;\n",
       "    }\n",
       "\n",
       "    .colab-df-convert:hover {\n",
       "      background-color: #E2EBFA;\n",
       "      box-shadow: 0px 1px 2px rgba(60, 64, 67, 0.3), 0px 1px 3px 1px rgba(60, 64, 67, 0.15);\n",
       "      fill: #174EA6;\n",
       "    }\n",
       "\n",
       "    [theme=dark] .colab-df-convert {\n",
       "      background-color: #3B4455;\n",
       "      fill: #D2E3FC;\n",
       "    }\n",
       "\n",
       "    [theme=dark] .colab-df-convert:hover {\n",
       "      background-color: #434B5C;\n",
       "      box-shadow: 0px 1px 3px 1px rgba(0, 0, 0, 0.15);\n",
       "      filter: drop-shadow(0px 1px 2px rgba(0, 0, 0, 0.3));\n",
       "      fill: #FFFFFF;\n",
       "    }\n",
       "  </style>\n",
       "\n",
       "      <script>\n",
       "        const buttonEl =\n",
       "          document.querySelector('#df-447d618d-2976-418e-9d68-3de534fab4a1 button.colab-df-convert');\n",
       "        buttonEl.style.display =\n",
       "          google.colab.kernel.accessAllowed ? 'block' : 'none';\n",
       "\n",
       "        async function convertToInteractive(key) {\n",
       "          const element = document.querySelector('#df-447d618d-2976-418e-9d68-3de534fab4a1');\n",
       "          const dataTable =\n",
       "            await google.colab.kernel.invokeFunction('convertToInteractive',\n",
       "                                                     [key], {});\n",
       "          if (!dataTable) return;\n",
       "\n",
       "          const docLinkHtml = 'Like what you see? Visit the ' +\n",
       "            '<a target=\"_blank\" href=https://colab.research.google.com/notebooks/data_table.ipynb>data table notebook</a>'\n",
       "            + ' to learn more about interactive tables.';\n",
       "          element.innerHTML = '';\n",
       "          dataTable['output_type'] = 'display_data';\n",
       "          await google.colab.output.renderOutput(dataTable, element);\n",
       "          const docLink = document.createElement('div');\n",
       "          docLink.innerHTML = docLinkHtml;\n",
       "          element.appendChild(docLink);\n",
       "        }\n",
       "      </script>\n",
       "    </div>\n",
       "  </div>\n",
       "  "
      ],
      "text/plain": [
       "     index                  id  \\\n",
       "0       23              349265   \n",
       "1       30              484898   \n",
       "2       71             4503414   \n",
       "3       75             1027741   \n",
       "4       92             5576191   \n",
       "..     ...                 ...   \n",
       "236   3022  766680180203469794   \n",
       "237   3067            44162298   \n",
       "238   3743  715575750921525747   \n",
       "239   3793            24085799   \n",
       "240   3929            53313883   \n",
       "\n",
       "                                                  name    host_id  \\\n",
       "0                    Historic Chicago Home - Hyde Park    1517871   \n",
       "1                      Charming 1906 cottage Northside    2400107   \n",
       "2    Private bedroom near the loop and McCormick Place   20059524   \n",
       "3                  Chicago Women's Residence Midler Rm    5654677   \n",
       "4    Yellow room+ for 1-4 guests @ South Shore bung...   28501460   \n",
       "..                                                 ...        ...   \n",
       "236             Fully-equipped 2BR Unit in Wicker Park  480338513   \n",
       "237                                                NaN  169297663   \n",
       "238                                                NaN  479447879   \n",
       "239                                                NaN   60390549   \n",
       "240                                                NaN  431625764   \n",
       "\n",
       "                    host_name  neighbourhood_group   neighbourhood  latitude  \\\n",
       "0                         Jon                  NaN       Hyde Park  41.80086   \n",
       "1                     Allison                  NaN             NaN  41.97053   \n",
       "2    (Email hidden by Airbnb)                  NaN   Armour Square  41.85643   \n",
       "3                   Urban Art                  NaN  South Lawndale  41.85308   \n",
       "4                       Delia                  NaN             NaN  41.76264   \n",
       "..                        ...                  ...             ...       ...   \n",
       "236                      Lane                  NaN             NaN  41.90828   \n",
       "237                   William                  NaN       West Town  41.90019   \n",
       "238                  Roseland                  NaN             NaN  41.69145   \n",
       "239                       Zhi                  NaN             NaN  41.84786   \n",
       "240     Sweet Home Of Chicago                  NaN             NaN  41.83720   \n",
       "\n",
       "     longitude        room_type  ...                    license  id_flag  \\\n",
       "0    -87.58948  Entire home/apt  ...               R18000030216        0   \n",
       "1    -87.67267  Entire home/apt  ...               R17000013890        0   \n",
       "2    -87.63134     Private room  ...  City registration pending        0   \n",
       "3    -87.70718     Private room  ...               R22000076746        0   \n",
       "4    -87.57232     Private room  ...               R18000036975        0   \n",
       "..         ...              ...  ...                        ...      ...   \n",
       "236  -87.66628  Entire home/apt  ...               R21000062383        0   \n",
       "237  -87.66339  Entire home/apt  ...               R22000089131        0   \n",
       "238  -87.61866     Private room  ...               R22000087608        0   \n",
       "239  -87.63127     Private room  ...               R17000015797        0   \n",
       "240  -87.66095     Private room  ...               R21000063936        0   \n",
       "\n",
       "     host_id_flag neighbourhood_flag  latitude_flag  longitude_flag  \\\n",
       "0               0                  0              0               0   \n",
       "1               0                  0              0               0   \n",
       "2               0                  0              0               0   \n",
       "3               0                  0              0               0   \n",
       "4               0                  0              0               0   \n",
       "..            ...                ...            ...             ...   \n",
       "236             0                  0              0               0   \n",
       "237             0                  0              0               0   \n",
       "238             0                  0              0               0   \n",
       "239             0                  0              0               0   \n",
       "240             0                  0              0               0   \n",
       "\n",
       "     minimum_nights_flag  number_of_reviews_flag last_review_flag  \\\n",
       "0                      0                       0                0   \n",
       "1                      0                       0                0   \n",
       "2                      0                       0                0   \n",
       "3                      0                       0                0   \n",
       "4                      0                       0                0   \n",
       "..                   ...                     ...              ...   \n",
       "236                    0                       0                0   \n",
       "237                    0                       0                0   \n",
       "238                    0                       0                0   \n",
       "239                    0                       0                0   \n",
       "240                    0                       0                0   \n",
       "\n",
       "     room_type_flag  \n",
       "0                 0  \n",
       "1                 0  \n",
       "2                 0  \n",
       "3                 0  \n",
       "4                 0  \n",
       "..              ...  \n",
       "236               0  \n",
       "237               0  \n",
       "238               0  \n",
       "239               0  \n",
       "240               0  \n",
       "\n",
       "[241 rows x 28 columns]"
      ]
     },
     "execution_count": 19,
     "metadata": {},
     "output_type": "execute_result"
    }
   ],
   "source": [
    "clean_pd"
   ]
  },
  {
   "cell_type": "code",
   "execution_count": null,
   "metadata": {
    "colab": {
     "base_uri": "https://localhost:8080/",
     "height": 974
    },
    "id": "ycJksVIWFanI",
    "outputId": "655c9e33-7808-4cb1-f897-3e82091e428f"
   },
   "outputs": [
    {
     "data": {
      "text/html": [
       "\n",
       "  <div id=\"df-0487cbb3-7ffb-4af6-ac4b-35917bc2456b\">\n",
       "    <div class=\"colab-df-container\">\n",
       "      <div>\n",
       "<style scoped>\n",
       "    .dataframe tbody tr th:only-of-type {\n",
       "        vertical-align: middle;\n",
       "    }\n",
       "\n",
       "    .dataframe tbody tr th {\n",
       "        vertical-align: top;\n",
       "    }\n",
       "\n",
       "    .dataframe thead th {\n",
       "        text-align: right;\n",
       "    }\n",
       "</style>\n",
       "<table border=\"1\" class=\"dataframe\">\n",
       "  <thead>\n",
       "    <tr style=\"text-align: right;\">\n",
       "      <th></th>\n",
       "      <th>index</th>\n",
       "      <th>id</th>\n",
       "      <th>name</th>\n",
       "      <th>host_id</th>\n",
       "      <th>host_name</th>\n",
       "      <th>neighbourhood_group</th>\n",
       "      <th>neighbourhood</th>\n",
       "      <th>latitude</th>\n",
       "      <th>longitude</th>\n",
       "      <th>room_type</th>\n",
       "      <th>...</th>\n",
       "      <th>license</th>\n",
       "      <th>id_flag</th>\n",
       "      <th>host_id_flag</th>\n",
       "      <th>neighbourhood_flag</th>\n",
       "      <th>latitude_flag</th>\n",
       "      <th>longitude_flag</th>\n",
       "      <th>minimum_nights_flag</th>\n",
       "      <th>number_of_reviews_flag</th>\n",
       "      <th>last_review_flag</th>\n",
       "      <th>room_type_flag</th>\n",
       "    </tr>\n",
       "  </thead>\n",
       "  <tbody>\n",
       "    <tr>\n",
       "      <th>0</th>\n",
       "      <td>23</td>\n",
       "      <td>349265</td>\n",
       "      <td>Historic Chicago Home - Hyde Park</td>\n",
       "      <td>1517871</td>\n",
       "      <td>Jon</td>\n",
       "      <td>NaN</td>\n",
       "      <td>Hyde Park</td>\n",
       "      <td>41.80086</td>\n",
       "      <td>-87.58948</td>\n",
       "      <td>Entire home/apt</td>\n",
       "      <td>...</td>\n",
       "      <td>R18000030216</td>\n",
       "      <td>0</td>\n",
       "      <td>0</td>\n",
       "      <td>0</td>\n",
       "      <td>0</td>\n",
       "      <td>0</td>\n",
       "      <td>0</td>\n",
       "      <td>0</td>\n",
       "      <td>0</td>\n",
       "      <td>0</td>\n",
       "    </tr>\n",
       "    <tr>\n",
       "      <th>1</th>\n",
       "      <td>30</td>\n",
       "      <td>484898</td>\n",
       "      <td>Charming 1906 cottage Northside</td>\n",
       "      <td>2400107</td>\n",
       "      <td>Allison</td>\n",
       "      <td>NaN</td>\n",
       "      <td>NaN</td>\n",
       "      <td>41.97053</td>\n",
       "      <td>-87.67267</td>\n",
       "      <td>Entire home/apt</td>\n",
       "      <td>...</td>\n",
       "      <td>R17000013890</td>\n",
       "      <td>0</td>\n",
       "      <td>0</td>\n",
       "      <td>0</td>\n",
       "      <td>0</td>\n",
       "      <td>0</td>\n",
       "      <td>0</td>\n",
       "      <td>0</td>\n",
       "      <td>0</td>\n",
       "      <td>0</td>\n",
       "    </tr>\n",
       "    <tr>\n",
       "      <th>2</th>\n",
       "      <td>71</td>\n",
       "      <td>4503414</td>\n",
       "      <td>Private bedroom near the loop and McCormick Place</td>\n",
       "      <td>20059524</td>\n",
       "      <td>(Email hidden by Airbnb)</td>\n",
       "      <td>NaN</td>\n",
       "      <td>Armour Square</td>\n",
       "      <td>41.85643</td>\n",
       "      <td>-87.63134</td>\n",
       "      <td>Private room</td>\n",
       "      <td>...</td>\n",
       "      <td>City registration pending</td>\n",
       "      <td>0</td>\n",
       "      <td>0</td>\n",
       "      <td>0</td>\n",
       "      <td>0</td>\n",
       "      <td>0</td>\n",
       "      <td>0</td>\n",
       "      <td>0</td>\n",
       "      <td>0</td>\n",
       "      <td>0</td>\n",
       "    </tr>\n",
       "    <tr>\n",
       "      <th>3</th>\n",
       "      <td>75</td>\n",
       "      <td>1027741</td>\n",
       "      <td>Chicago Women's Residence Midler Rm</td>\n",
       "      <td>5654677</td>\n",
       "      <td>Urban Art</td>\n",
       "      <td>NaN</td>\n",
       "      <td>South Lawndale</td>\n",
       "      <td>41.85308</td>\n",
       "      <td>-87.70718</td>\n",
       "      <td>Private room</td>\n",
       "      <td>...</td>\n",
       "      <td>R22000076746</td>\n",
       "      <td>0</td>\n",
       "      <td>0</td>\n",
       "      <td>0</td>\n",
       "      <td>0</td>\n",
       "      <td>0</td>\n",
       "      <td>0</td>\n",
       "      <td>0</td>\n",
       "      <td>0</td>\n",
       "      <td>0</td>\n",
       "    </tr>\n",
       "    <tr>\n",
       "      <th>4</th>\n",
       "      <td>92</td>\n",
       "      <td>5576191</td>\n",
       "      <td>Yellow room+ for 1-4 guests @ South Shore bung...</td>\n",
       "      <td>28501460</td>\n",
       "      <td>Delia</td>\n",
       "      <td>NaN</td>\n",
       "      <td>NaN</td>\n",
       "      <td>41.76264</td>\n",
       "      <td>-87.57232</td>\n",
       "      <td>Private room</td>\n",
       "      <td>...</td>\n",
       "      <td>R18000036975</td>\n",
       "      <td>0</td>\n",
       "      <td>0</td>\n",
       "      <td>0</td>\n",
       "      <td>0</td>\n",
       "      <td>0</td>\n",
       "      <td>0</td>\n",
       "      <td>0</td>\n",
       "      <td>0</td>\n",
       "      <td>0</td>\n",
       "    </tr>\n",
       "    <tr>\n",
       "      <th>...</th>\n",
       "      <td>...</td>\n",
       "      <td>...</td>\n",
       "      <td>...</td>\n",
       "      <td>...</td>\n",
       "      <td>...</td>\n",
       "      <td>...</td>\n",
       "      <td>...</td>\n",
       "      <td>...</td>\n",
       "      <td>...</td>\n",
       "      <td>...</td>\n",
       "      <td>...</td>\n",
       "      <td>...</td>\n",
       "      <td>...</td>\n",
       "      <td>...</td>\n",
       "      <td>...</td>\n",
       "      <td>...</td>\n",
       "      <td>...</td>\n",
       "      <td>...</td>\n",
       "      <td>...</td>\n",
       "      <td>...</td>\n",
       "      <td>...</td>\n",
       "    </tr>\n",
       "    <tr>\n",
       "      <th>236</th>\n",
       "      <td>3022</td>\n",
       "      <td>766680180203469794</td>\n",
       "      <td>Fully-equipped 2BR Unit in Wicker Park</td>\n",
       "      <td>480338513</td>\n",
       "      <td>Lane</td>\n",
       "      <td>NaN</td>\n",
       "      <td>NaN</td>\n",
       "      <td>41.90828</td>\n",
       "      <td>-87.66628</td>\n",
       "      <td>Entire home/apt</td>\n",
       "      <td>...</td>\n",
       "      <td>R21000062383</td>\n",
       "      <td>0</td>\n",
       "      <td>0</td>\n",
       "      <td>0</td>\n",
       "      <td>0</td>\n",
       "      <td>0</td>\n",
       "      <td>0</td>\n",
       "      <td>0</td>\n",
       "      <td>0</td>\n",
       "      <td>0</td>\n",
       "    </tr>\n",
       "    <tr>\n",
       "      <th>237</th>\n",
       "      <td>3067</td>\n",
       "      <td>44162298</td>\n",
       "      <td>NaN</td>\n",
       "      <td>169297663</td>\n",
       "      <td>William</td>\n",
       "      <td>NaN</td>\n",
       "      <td>West Town</td>\n",
       "      <td>41.90019</td>\n",
       "      <td>-87.66339</td>\n",
       "      <td>Entire home/apt</td>\n",
       "      <td>...</td>\n",
       "      <td>R22000089131</td>\n",
       "      <td>0</td>\n",
       "      <td>0</td>\n",
       "      <td>0</td>\n",
       "      <td>0</td>\n",
       "      <td>0</td>\n",
       "      <td>0</td>\n",
       "      <td>0</td>\n",
       "      <td>0</td>\n",
       "      <td>0</td>\n",
       "    </tr>\n",
       "    <tr>\n",
       "      <th>238</th>\n",
       "      <td>3743</td>\n",
       "      <td>715575750921525747</td>\n",
       "      <td>NaN</td>\n",
       "      <td>479447879</td>\n",
       "      <td>Roseland</td>\n",
       "      <td>NaN</td>\n",
       "      <td>NaN</td>\n",
       "      <td>41.69145</td>\n",
       "      <td>-87.61866</td>\n",
       "      <td>Private room</td>\n",
       "      <td>...</td>\n",
       "      <td>R22000087608</td>\n",
       "      <td>0</td>\n",
       "      <td>0</td>\n",
       "      <td>0</td>\n",
       "      <td>0</td>\n",
       "      <td>0</td>\n",
       "      <td>0</td>\n",
       "      <td>0</td>\n",
       "      <td>0</td>\n",
       "      <td>0</td>\n",
       "    </tr>\n",
       "    <tr>\n",
       "      <th>239</th>\n",
       "      <td>3793</td>\n",
       "      <td>24085799</td>\n",
       "      <td>NaN</td>\n",
       "      <td>60390549</td>\n",
       "      <td>Zhi</td>\n",
       "      <td>NaN</td>\n",
       "      <td>NaN</td>\n",
       "      <td>41.84786</td>\n",
       "      <td>-87.63127</td>\n",
       "      <td>Private room</td>\n",
       "      <td>...</td>\n",
       "      <td>R17000015797</td>\n",
       "      <td>0</td>\n",
       "      <td>0</td>\n",
       "      <td>0</td>\n",
       "      <td>0</td>\n",
       "      <td>0</td>\n",
       "      <td>0</td>\n",
       "      <td>0</td>\n",
       "      <td>0</td>\n",
       "      <td>0</td>\n",
       "    </tr>\n",
       "    <tr>\n",
       "      <th>240</th>\n",
       "      <td>3929</td>\n",
       "      <td>53313883</td>\n",
       "      <td>NaN</td>\n",
       "      <td>431625764</td>\n",
       "      <td>Sweet Home Of Chicago</td>\n",
       "      <td>NaN</td>\n",
       "      <td>NaN</td>\n",
       "      <td>41.83720</td>\n",
       "      <td>-87.66095</td>\n",
       "      <td>Private room</td>\n",
       "      <td>...</td>\n",
       "      <td>R21000063936</td>\n",
       "      <td>0</td>\n",
       "      <td>0</td>\n",
       "      <td>0</td>\n",
       "      <td>0</td>\n",
       "      <td>0</td>\n",
       "      <td>0</td>\n",
       "      <td>0</td>\n",
       "      <td>0</td>\n",
       "      <td>0</td>\n",
       "    </tr>\n",
       "  </tbody>\n",
       "</table>\n",
       "<p>241 rows × 28 columns</p>\n",
       "</div>\n",
       "      <button class=\"colab-df-convert\" onclick=\"convertToInteractive('df-0487cbb3-7ffb-4af6-ac4b-35917bc2456b')\"\n",
       "              title=\"Convert this dataframe to an interactive table.\"\n",
       "              style=\"display:none;\">\n",
       "        \n",
       "  <svg xmlns=\"http://www.w3.org/2000/svg\" height=\"24px\"viewBox=\"0 0 24 24\"\n",
       "       width=\"24px\">\n",
       "    <path d=\"M0 0h24v24H0V0z\" fill=\"none\"/>\n",
       "    <path d=\"M18.56 5.44l.94 2.06.94-2.06 2.06-.94-2.06-.94-.94-2.06-.94 2.06-2.06.94zm-11 1L8.5 8.5l.94-2.06 2.06-.94-2.06-.94L8.5 2.5l-.94 2.06-2.06.94zm10 10l.94 2.06.94-2.06 2.06-.94-2.06-.94-.94-2.06-.94 2.06-2.06.94z\"/><path d=\"M17.41 7.96l-1.37-1.37c-.4-.4-.92-.59-1.43-.59-.52 0-1.04.2-1.43.59L10.3 9.45l-7.72 7.72c-.78.78-.78 2.05 0 2.83L4 21.41c.39.39.9.59 1.41.59.51 0 1.02-.2 1.41-.59l7.78-7.78 2.81-2.81c.8-.78.8-2.07 0-2.86zM5.41 20L4 18.59l7.72-7.72 1.47 1.35L5.41 20z\"/>\n",
       "  </svg>\n",
       "      </button>\n",
       "      \n",
       "  <style>\n",
       "    .colab-df-container {\n",
       "      display:flex;\n",
       "      flex-wrap:wrap;\n",
       "      gap: 12px;\n",
       "    }\n",
       "\n",
       "    .colab-df-convert {\n",
       "      background-color: #E8F0FE;\n",
       "      border: none;\n",
       "      border-radius: 50%;\n",
       "      cursor: pointer;\n",
       "      display: none;\n",
       "      fill: #1967D2;\n",
       "      height: 32px;\n",
       "      padding: 0 0 0 0;\n",
       "      width: 32px;\n",
       "    }\n",
       "\n",
       "    .colab-df-convert:hover {\n",
       "      background-color: #E2EBFA;\n",
       "      box-shadow: 0px 1px 2px rgba(60, 64, 67, 0.3), 0px 1px 3px 1px rgba(60, 64, 67, 0.15);\n",
       "      fill: #174EA6;\n",
       "    }\n",
       "\n",
       "    [theme=dark] .colab-df-convert {\n",
       "      background-color: #3B4455;\n",
       "      fill: #D2E3FC;\n",
       "    }\n",
       "\n",
       "    [theme=dark] .colab-df-convert:hover {\n",
       "      background-color: #434B5C;\n",
       "      box-shadow: 0px 1px 3px 1px rgba(0, 0, 0, 0.15);\n",
       "      filter: drop-shadow(0px 1px 2px rgba(0, 0, 0, 0.3));\n",
       "      fill: #FFFFFF;\n",
       "    }\n",
       "  </style>\n",
       "\n",
       "      <script>\n",
       "        const buttonEl =\n",
       "          document.querySelector('#df-0487cbb3-7ffb-4af6-ac4b-35917bc2456b button.colab-df-convert');\n",
       "        buttonEl.style.display =\n",
       "          google.colab.kernel.accessAllowed ? 'block' : 'none';\n",
       "\n",
       "        async function convertToInteractive(key) {\n",
       "          const element = document.querySelector('#df-0487cbb3-7ffb-4af6-ac4b-35917bc2456b');\n",
       "          const dataTable =\n",
       "            await google.colab.kernel.invokeFunction('convertToInteractive',\n",
       "                                                     [key], {});\n",
       "          if (!dataTable) return;\n",
       "\n",
       "          const docLinkHtml = 'Like what you see? Visit the ' +\n",
       "            '<a target=\"_blank\" href=https://colab.research.google.com/notebooks/data_table.ipynb>data table notebook</a>'\n",
       "            + ' to learn more about interactive tables.';\n",
       "          element.innerHTML = '';\n",
       "          dataTable['output_type'] = 'display_data';\n",
       "          await google.colab.output.renderOutput(dataTable, element);\n",
       "          const docLink = document.createElement('div');\n",
       "          docLink.innerHTML = docLinkHtml;\n",
       "          element.appendChild(docLink);\n",
       "        }\n",
       "      </script>\n",
       "    </div>\n",
       "  </div>\n",
       "  "
      ],
      "text/plain": [
       "     index                  id  \\\n",
       "0       23              349265   \n",
       "1       30              484898   \n",
       "2       71             4503414   \n",
       "3       75             1027741   \n",
       "4       92             5576191   \n",
       "..     ...                 ...   \n",
       "236   3022  766680180203469794   \n",
       "237   3067            44162298   \n",
       "238   3743  715575750921525747   \n",
       "239   3793            24085799   \n",
       "240   3929            53313883   \n",
       "\n",
       "                                                  name    host_id  \\\n",
       "0                    Historic Chicago Home - Hyde Park    1517871   \n",
       "1                      Charming 1906 cottage Northside    2400107   \n",
       "2    Private bedroom near the loop and McCormick Place   20059524   \n",
       "3                  Chicago Women's Residence Midler Rm    5654677   \n",
       "4    Yellow room+ for 1-4 guests @ South Shore bung...   28501460   \n",
       "..                                                 ...        ...   \n",
       "236             Fully-equipped 2BR Unit in Wicker Park  480338513   \n",
       "237                                                NaN  169297663   \n",
       "238                                                NaN  479447879   \n",
       "239                                                NaN   60390549   \n",
       "240                                                NaN  431625764   \n",
       "\n",
       "                    host_name  neighbourhood_group   neighbourhood  latitude  \\\n",
       "0                         Jon                  NaN       Hyde Park  41.80086   \n",
       "1                     Allison                  NaN             NaN  41.97053   \n",
       "2    (Email hidden by Airbnb)                  NaN   Armour Square  41.85643   \n",
       "3                   Urban Art                  NaN  South Lawndale  41.85308   \n",
       "4                       Delia                  NaN             NaN  41.76264   \n",
       "..                        ...                  ...             ...       ...   \n",
       "236                      Lane                  NaN             NaN  41.90828   \n",
       "237                   William                  NaN       West Town  41.90019   \n",
       "238                  Roseland                  NaN             NaN  41.69145   \n",
       "239                       Zhi                  NaN             NaN  41.84786   \n",
       "240     Sweet Home Of Chicago                  NaN             NaN  41.83720   \n",
       "\n",
       "     longitude        room_type  ...                    license  id_flag  \\\n",
       "0    -87.58948  Entire home/apt  ...               R18000030216        0   \n",
       "1    -87.67267  Entire home/apt  ...               R17000013890        0   \n",
       "2    -87.63134     Private room  ...  City registration pending        0   \n",
       "3    -87.70718     Private room  ...               R22000076746        0   \n",
       "4    -87.57232     Private room  ...               R18000036975        0   \n",
       "..         ...              ...  ...                        ...      ...   \n",
       "236  -87.66628  Entire home/apt  ...               R21000062383        0   \n",
       "237  -87.66339  Entire home/apt  ...               R22000089131        0   \n",
       "238  -87.61866     Private room  ...               R22000087608        0   \n",
       "239  -87.63127     Private room  ...               R17000015797        0   \n",
       "240  -87.66095     Private room  ...               R21000063936        0   \n",
       "\n",
       "     host_id_flag neighbourhood_flag  latitude_flag  longitude_flag  \\\n",
       "0               0                  0              0               0   \n",
       "1               0                  0              0               0   \n",
       "2               0                  0              0               0   \n",
       "3               0                  0              0               0   \n",
       "4               0                  0              0               0   \n",
       "..            ...                ...            ...             ...   \n",
       "236             0                  0              0               0   \n",
       "237             0                  0              0               0   \n",
       "238             0                  0              0               0   \n",
       "239             0                  0              0               0   \n",
       "240             0                  0              0               0   \n",
       "\n",
       "     minimum_nights_flag  number_of_reviews_flag last_review_flag  \\\n",
       "0                      0                       0                0   \n",
       "1                      0                       0                0   \n",
       "2                      0                       0                0   \n",
       "3                      0                       0                0   \n",
       "4                      0                       0                0   \n",
       "..                   ...                     ...              ...   \n",
       "236                    0                       0                0   \n",
       "237                    0                       0                0   \n",
       "238                    0                       0                0   \n",
       "239                    0                       0                0   \n",
       "240                    0                       0                0   \n",
       "\n",
       "     room_type_flag  \n",
       "0                 0  \n",
       "1                 0  \n",
       "2                 0  \n",
       "3                 0  \n",
       "4                 0  \n",
       "..              ...  \n",
       "236               0  \n",
       "237               0  \n",
       "238               0  \n",
       "239               0  \n",
       "240               0  \n",
       "\n",
       "[241 rows x 28 columns]"
      ]
     },
     "execution_count": 20,
     "metadata": {},
     "output_type": "execute_result"
    }
   ],
   "source": [
    "clean_pd"
   ]
  },
  {
   "cell_type": "code",
   "execution_count": null,
   "metadata": {
    "id": "iwPmYBrVFeUx"
   },
   "outputs": [],
   "source": [
    "xx = ori_pd.merge(clean_pd,left_on=\"id\",right_on=\"id\",suffixes=(\"\",\"_y\")).loc[:,[\"latitude\",\"longitude\",\"minimum_nights\",\"number_of_reviews\",\"room_type\",\"neighbourhood\"]].reset_index(drop=True)"
   ]
  },
  {
   "cell_type": "code",
   "execution_count": null,
   "metadata": {
    "id": "Wy3sKd3eGNDq"
   },
   "outputs": [],
   "source": [
    "yy =clean_pd.loc[:,[\"latitude\",\"longitude\",\"minimum_nights\",\"number_of_reviews\",\"room_type\",\"neighbourhood\"]].reset_index(drop=True)"
   ]
  },
  {
   "cell_type": "code",
   "execution_count": null,
   "metadata": {
    "colab": {
     "base_uri": "https://localhost:8080/",
     "height": 424
    },
    "id": "ytnE5IlQMQks",
    "outputId": "72e650fd-02f1-46ac-cf63-31113ca3b060"
   },
   "outputs": [
    {
     "data": {
      "text/html": [
       "\n",
       "  <div id=\"df-9a19354a-88e6-4ad9-8459-99acc5cb221c\">\n",
       "    <div class=\"colab-df-container\">\n",
       "      <div>\n",
       "<style scoped>\n",
       "    .dataframe tbody tr th:only-of-type {\n",
       "        vertical-align: middle;\n",
       "    }\n",
       "\n",
       "    .dataframe tbody tr th {\n",
       "        vertical-align: top;\n",
       "    }\n",
       "\n",
       "    .dataframe thead th {\n",
       "        text-align: right;\n",
       "    }\n",
       "</style>\n",
       "<table border=\"1\" class=\"dataframe\">\n",
       "  <thead>\n",
       "    <tr style=\"text-align: right;\">\n",
       "      <th></th>\n",
       "      <th>latitude</th>\n",
       "      <th>longitude</th>\n",
       "      <th>minimum_nights</th>\n",
       "      <th>number_of_reviews</th>\n",
       "      <th>room_type</th>\n",
       "      <th>neighbourhood</th>\n",
       "    </tr>\n",
       "  </thead>\n",
       "  <tbody>\n",
       "    <tr>\n",
       "      <th>0</th>\n",
       "      <td>41.800860</td>\n",
       "      <td>-87.589480</td>\n",
       "      <td>32</td>\n",
       "      <td>9</td>\n",
       "      <td>Entire home/apt</td>\n",
       "      <td>Hyde Park</td>\n",
       "    </tr>\n",
       "    <tr>\n",
       "      <th>1</th>\n",
       "      <td>41.970530</td>\n",
       "      <td>-87.672670</td>\n",
       "      <td>7</td>\n",
       "      <td>17</td>\n",
       "      <td>Entire home/apt</td>\n",
       "      <td>Uptown</td>\n",
       "    </tr>\n",
       "    <tr>\n",
       "      <th>2</th>\n",
       "      <td>41.856430</td>\n",
       "      <td>-87.631340</td>\n",
       "      <td>32</td>\n",
       "      <td>11</td>\n",
       "      <td>Private room</td>\n",
       "      <td>Armour Square</td>\n",
       "    </tr>\n",
       "    <tr>\n",
       "      <th>3</th>\n",
       "      <td>41.853080</td>\n",
       "      <td>-87.707180</td>\n",
       "      <td>32</td>\n",
       "      <td>5</td>\n",
       "      <td>Private room</td>\n",
       "      <td>South Lawndale</td>\n",
       "    </tr>\n",
       "    <tr>\n",
       "      <th>4</th>\n",
       "      <td>41.762640</td>\n",
       "      <td>-87.572320</td>\n",
       "      <td>32</td>\n",
       "      <td>35</td>\n",
       "      <td>Private room</td>\n",
       "      <td>South Shore</td>\n",
       "    </tr>\n",
       "    <tr>\n",
       "      <th>...</th>\n",
       "      <td>...</td>\n",
       "      <td>...</td>\n",
       "      <td>...</td>\n",
       "      <td>...</td>\n",
       "      <td>...</td>\n",
       "      <td>...</td>\n",
       "    </tr>\n",
       "    <tr>\n",
       "      <th>236</th>\n",
       "      <td>41.900338</td>\n",
       "      <td>-87.716728</td>\n",
       "      <td>1</td>\n",
       "      <td>2</td>\n",
       "      <td>Entire home/apt</td>\n",
       "      <td>Humboldt Park</td>\n",
       "    </tr>\n",
       "    <tr>\n",
       "      <th>237</th>\n",
       "      <td>41.936440</td>\n",
       "      <td>-87.644330</td>\n",
       "      <td>1</td>\n",
       "      <td>1</td>\n",
       "      <td>Entire home/apt</td>\n",
       "      <td>Lake View</td>\n",
       "    </tr>\n",
       "    <tr>\n",
       "      <th>238</th>\n",
       "      <td>41.847380</td>\n",
       "      <td>-87.645720</td>\n",
       "      <td>2</td>\n",
       "      <td>4</td>\n",
       "      <td>Private room</td>\n",
       "      <td>Bridgeport</td>\n",
       "    </tr>\n",
       "    <tr>\n",
       "      <th>239</th>\n",
       "      <td>41.907300</td>\n",
       "      <td>-87.666200</td>\n",
       "      <td>1</td>\n",
       "      <td>1</td>\n",
       "      <td>Entire home/apt</td>\n",
       "      <td>West Town</td>\n",
       "    </tr>\n",
       "    <tr>\n",
       "      <th>240</th>\n",
       "      <td>41.908280</td>\n",
       "      <td>-87.666280</td>\n",
       "      <td>1</td>\n",
       "      <td>2</td>\n",
       "      <td>Entire home/apt</td>\n",
       "      <td>West Town</td>\n",
       "    </tr>\n",
       "  </tbody>\n",
       "</table>\n",
       "<p>241 rows × 6 columns</p>\n",
       "</div>\n",
       "      <button class=\"colab-df-convert\" onclick=\"convertToInteractive('df-9a19354a-88e6-4ad9-8459-99acc5cb221c')\"\n",
       "              title=\"Convert this dataframe to an interactive table.\"\n",
       "              style=\"display:none;\">\n",
       "        \n",
       "  <svg xmlns=\"http://www.w3.org/2000/svg\" height=\"24px\"viewBox=\"0 0 24 24\"\n",
       "       width=\"24px\">\n",
       "    <path d=\"M0 0h24v24H0V0z\" fill=\"none\"/>\n",
       "    <path d=\"M18.56 5.44l.94 2.06.94-2.06 2.06-.94-2.06-.94-.94-2.06-.94 2.06-2.06.94zm-11 1L8.5 8.5l.94-2.06 2.06-.94-2.06-.94L8.5 2.5l-.94 2.06-2.06.94zm10 10l.94 2.06.94-2.06 2.06-.94-2.06-.94-.94-2.06-.94 2.06-2.06.94z\"/><path d=\"M17.41 7.96l-1.37-1.37c-.4-.4-.92-.59-1.43-.59-.52 0-1.04.2-1.43.59L10.3 9.45l-7.72 7.72c-.78.78-.78 2.05 0 2.83L4 21.41c.39.39.9.59 1.41.59.51 0 1.02-.2 1.41-.59l7.78-7.78 2.81-2.81c.8-.78.8-2.07 0-2.86zM5.41 20L4 18.59l7.72-7.72 1.47 1.35L5.41 20z\"/>\n",
       "  </svg>\n",
       "      </button>\n",
       "      \n",
       "  <style>\n",
       "    .colab-df-container {\n",
       "      display:flex;\n",
       "      flex-wrap:wrap;\n",
       "      gap: 12px;\n",
       "    }\n",
       "\n",
       "    .colab-df-convert {\n",
       "      background-color: #E8F0FE;\n",
       "      border: none;\n",
       "      border-radius: 50%;\n",
       "      cursor: pointer;\n",
       "      display: none;\n",
       "      fill: #1967D2;\n",
       "      height: 32px;\n",
       "      padding: 0 0 0 0;\n",
       "      width: 32px;\n",
       "    }\n",
       "\n",
       "    .colab-df-convert:hover {\n",
       "      background-color: #E2EBFA;\n",
       "      box-shadow: 0px 1px 2px rgba(60, 64, 67, 0.3), 0px 1px 3px 1px rgba(60, 64, 67, 0.15);\n",
       "      fill: #174EA6;\n",
       "    }\n",
       "\n",
       "    [theme=dark] .colab-df-convert {\n",
       "      background-color: #3B4455;\n",
       "      fill: #D2E3FC;\n",
       "    }\n",
       "\n",
       "    [theme=dark] .colab-df-convert:hover {\n",
       "      background-color: #434B5C;\n",
       "      box-shadow: 0px 1px 3px 1px rgba(0, 0, 0, 0.15);\n",
       "      filter: drop-shadow(0px 1px 2px rgba(0, 0, 0, 0.3));\n",
       "      fill: #FFFFFF;\n",
       "    }\n",
       "  </style>\n",
       "\n",
       "      <script>\n",
       "        const buttonEl =\n",
       "          document.querySelector('#df-9a19354a-88e6-4ad9-8459-99acc5cb221c button.colab-df-convert');\n",
       "        buttonEl.style.display =\n",
       "          google.colab.kernel.accessAllowed ? 'block' : 'none';\n",
       "\n",
       "        async function convertToInteractive(key) {\n",
       "          const element = document.querySelector('#df-9a19354a-88e6-4ad9-8459-99acc5cb221c');\n",
       "          const dataTable =\n",
       "            await google.colab.kernel.invokeFunction('convertToInteractive',\n",
       "                                                     [key], {});\n",
       "          if (!dataTable) return;\n",
       "\n",
       "          const docLinkHtml = 'Like what you see? Visit the ' +\n",
       "            '<a target=\"_blank\" href=https://colab.research.google.com/notebooks/data_table.ipynb>data table notebook</a>'\n",
       "            + ' to learn more about interactive tables.';\n",
       "          element.innerHTML = '';\n",
       "          dataTable['output_type'] = 'display_data';\n",
       "          await google.colab.output.renderOutput(dataTable, element);\n",
       "          const docLink = document.createElement('div');\n",
       "          docLink.innerHTML = docLinkHtml;\n",
       "          element.appendChild(docLink);\n",
       "        }\n",
       "      </script>\n",
       "    </div>\n",
       "  </div>\n",
       "  "
      ],
      "text/plain": [
       "      latitude  longitude  minimum_nights  number_of_reviews        room_type  \\\n",
       "0    41.800860 -87.589480              32                  9  Entire home/apt   \n",
       "1    41.970530 -87.672670               7                 17  Entire home/apt   \n",
       "2    41.856430 -87.631340              32                 11     Private room   \n",
       "3    41.853080 -87.707180              32                  5     Private room   \n",
       "4    41.762640 -87.572320              32                 35     Private room   \n",
       "..         ...        ...             ...                ...              ...   \n",
       "236  41.900338 -87.716728               1                  2  Entire home/apt   \n",
       "237  41.936440 -87.644330               1                  1  Entire home/apt   \n",
       "238  41.847380 -87.645720               2                  4     Private room   \n",
       "239  41.907300 -87.666200               1                  1  Entire home/apt   \n",
       "240  41.908280 -87.666280               1                  2  Entire home/apt   \n",
       "\n",
       "      neighbourhood  \n",
       "0         Hyde Park  \n",
       "1            Uptown  \n",
       "2     Armour Square  \n",
       "3    South Lawndale  \n",
       "4       South Shore  \n",
       "..              ...  \n",
       "236   Humboldt Park  \n",
       "237       Lake View  \n",
       "238      Bridgeport  \n",
       "239       West Town  \n",
       "240       West Town  \n",
       "\n",
       "[241 rows x 6 columns]"
      ]
     },
     "execution_count": 36,
     "metadata": {},
     "output_type": "execute_result"
    }
   ],
   "source": [
    "xx"
   ]
  },
  {
   "cell_type": "code",
   "execution_count": null,
   "metadata": {
    "colab": {
     "base_uri": "https://localhost:8080/"
    },
    "id": "vZrznAKdGNHp",
    "outputId": "a381e8df-0129-43d8-d309-a2bfb49545f3"
   },
   "outputs": [
    {
     "data": {
      "text/plain": [
       "211"
      ]
     },
     "execution_count": 35,
     "metadata": {},
     "output_type": "execute_result"
    }
   ],
   "source": [
    "(xx!=yy).apply(lambda x:sum(x)>0,axis=1).sum() #.sum() #/(2780*6)"
   ]
  },
  {
   "cell_type": "code",
   "execution_count": null,
   "metadata": {
    "id": "ASImMdUMMuVC"
   },
   "outputs": [],
   "source": [
    "dc_metrics_pd = pd.DataFrame(compiled_results,columns=[\"var\",\"clean_file\",\"ori_rows\",\"clean_rows\",\"completeness\",\"accuracy\"])"
   ]
  },
  {
   "cell_type": "code",
   "execution_count": null,
   "metadata": {
    "id": "KbbKtQ6sEAac"
   },
   "outputs": [],
   "source": [
    "#pd.DataFrame(compiled_results,columns=[\"var\",\"clean_file\",\"ori_rows\",\"clean_rows\",\"completeness\",\"accuracy\"]).to_csv(\"completeness_accuracy_cleaned.csv\")"
   ]
  },
  {
   "cell_type": "code",
   "execution_count": null,
   "metadata": {
    "id": "tlTbczcgEW5q"
   },
   "outputs": [],
   "source": [
    "#compiled_results_pd = pd.DataFrame(compiled_results)"
   ]
  },
  {
   "cell_type": "code",
   "execution_count": null,
   "metadata": {
    "colab": {
     "base_uri": "https://localhost:8080/"
    },
    "id": "Rcb1JLorL5Rs",
    "outputId": "083ddd81-2200-4021-fcf3-ac34bb8da4c9"
   },
   "outputs": [
    {
     "data": {
      "text/plain": [
       "Index([0, 1, 2, 3, 'workflow', 'noise'], dtype='object')"
      ]
     },
     "execution_count": 7,
     "metadata": {},
     "output_type": "execute_result"
    }
   ],
   "source": [
    "import pandas as pd\n",
    "compiled_results_pd = pd.read_csv(\"compiled_results_split_all.csv\")\n",
    "compiled_results_pd.columns = [0, 1, 2, 3, 'workflow', 'noise']\n",
    "compiled_results_pd.columns"
   ]
  },
  {
   "cell_type": "code",
   "execution_count": null,
   "metadata": {
    "id": "uAi_G3-VLnsT"
   },
   "outputs": [],
   "source": [
    "dc_metrics_pd = pd.read_csv(\"completeness_accuracy_cleaned.csv\")"
   ]
  },
  {
   "cell_type": "code",
   "execution_count": null,
   "metadata": {
    "id": "a6K_gFpFOBv_"
   },
   "outputs": [],
   "source": [
    "compiled_results_pd.loc[compiled_results_pd[1]!='original',\"workflow\"] = compiled_results_pd[compiled_results_pd[1]!='original'][1].apply(lambda x:x.split(\"cleaned_\")[1])"
   ]
  },
  {
   "cell_type": "code",
   "execution_count": null,
   "metadata": {
    "id": "4132c2_tOldt"
   },
   "outputs": [],
   "source": [
    "compiled_results_pd.loc[compiled_results_pd[1]!='original',\"noise\"] = compiled_results_pd[compiled_results_pd[1]!='original'][1].apply(lambda x:x.split(\"train_noise_\")[1].split(\".\")[0])"
   ]
  },
  {
   "cell_type": "code",
   "execution_count": null,
   "metadata": {
    "id": "EEjP2AFgOyGa"
   },
   "outputs": [],
   "source": [
    "compiled_results_pd=compiled_results_pd.merge(dc_metrics_pd,left_on=[0,1],right_on=[\"var\",\"clean_file\"],how=\"left\")"
   ]
  },
  {
   "cell_type": "code",
   "execution_count": null,
   "metadata": {
    "id": "A9DQiHTXOiM0"
   },
   "outputs": [],
   "source": [
    "compiled_results_ori = compiled_results_pd[compiled_results_pd[1]==\"original\"]\n",
    "compiled_results_noise = compiled_results_pd[compiled_results_pd[1]!=\"original\"]"
   ]
  },
  {
   "cell_type": "code",
   "execution_count": null,
   "metadata": {
    "colab": {
     "base_uri": "https://localhost:8080/"
    },
    "id": "HLZJqETrmxSC",
    "outputId": "cdf3e0ed-ce27-4368-887d-099e12d3e62e"
   },
   "outputs": [
    {
     "name": "stderr",
     "output_type": "stream",
     "text": [
      "<ipython-input-13-2f48a0d9fa91>:1: SettingWithCopyWarning: \n",
      "A value is trying to be set on a copy of a slice from a DataFrame.\n",
      "Try using .loc[row_indexer,col_indexer] = value instead\n",
      "\n",
      "See the caveats in the documentation: https://pandas.pydata.org/pandas-docs/stable/user_guide/indexing.html#returning-a-view-versus-a-copy\n",
      "  compiled_results_noise.loc[:,\"noise\"] = compiled_results_noise.noise.astype(int)\n",
      "<ipython-input-13-2f48a0d9fa91>:1: DeprecationWarning: In a future version, `df.iloc[:, i] = newvals` will attempt to set the values inplace instead of always setting a new array. To retain the old behavior, use either `df[df.columns[i]] = newvals` or, if columns are non-unique, `df.isetitem(i, newvals)`\n",
      "  compiled_results_noise.loc[:,\"noise\"] = compiled_results_noise.noise.astype(int)\n"
     ]
    }
   ],
   "source": [
    "compiled_results_noise.loc[:,\"noise\"] = compiled_results_noise.noise.astype(int)"
   ]
  },
  {
   "cell_type": "code",
   "execution_count": null,
   "metadata": {
    "colab": {
     "base_uri": "https://localhost:8080/",
     "height": 469
    },
    "id": "VhssINQJO0yM",
    "outputId": "66d195ba-1893-448c-cf1c-07b75a4070d4"
   },
   "outputs": [
    {
     "data": {
      "text/plain": [
       "array([[<Axes: title={'center': '3'}>]], dtype=object)"
      ]
     },
     "execution_count": 14,
     "metadata": {},
     "output_type": "execute_result"
    },
    {
     "data": {
      "image/png": "[encoded data removed]",
      "text/plain": [
       "<Figure size 640x480 with 1 Axes>"
      ]
     },
     "metadata": {},
     "output_type": "display_data"
    }
   ],
   "source": [
    "compiled_results_ori[[3]].hist()"
   ]
  },
  {
   "cell_type": "code",
   "execution_count": null,
   "metadata": {
    "id": "A-Pbp9CIO7lO"
   },
   "outputs": [],
   "source": [
    "compiled_results_noise = compiled_results_noise.merge(compiled_results_ori[[0,2,3]],left_on=0,right_on=0)"
   ]
  },
  {
   "cell_type": "code",
   "execution_count": null,
   "metadata": {
    "colab": {
     "base_uri": "https://localhost:8080/",
     "height": 424
    },
    "id": "IcvP2k6qO8xS",
    "outputId": "da913630-4f69-4f2a-f437-bd8e27f7e8c7"
   },
   "outputs": [
    {
     "data": {
      "text/html": [
       "\n",
       "  <div id=\"df-2c486cd8-54aa-4a80-8ead-aa3af77edb36\">\n",
       "    <div class=\"colab-df-container\">\n",
       "      <div>\n",
       "<style scoped>\n",
       "    .dataframe tbody tr th:only-of-type {\n",
       "        vertical-align: middle;\n",
       "    }\n",
       "\n",
       "    .dataframe tbody tr th {\n",
       "        vertical-align: top;\n",
       "    }\n",
       "\n",
       "    .dataframe thead th {\n",
       "        text-align: right;\n",
       "    }\n",
       "</style>\n",
       "<table border=\"1\" class=\"dataframe\">\n",
       "  <thead>\n",
       "    <tr style=\"text-align: right;\">\n",
       "      <th></th>\n",
       "      <th>0</th>\n",
       "      <th>1</th>\n",
       "      <th>2</th>\n",
       "      <th>3</th>\n",
       "      <th>workflow</th>\n",
       "      <th>noise</th>\n",
       "      <th>Unnamed: 0</th>\n",
       "      <th>var</th>\n",
       "      <th>clean_file</th>\n",
       "      <th>ori_rows</th>\n",
       "      <th>clean_rows</th>\n",
       "      <th>completeness</th>\n",
       "      <th>accuracy</th>\n",
       "    </tr>\n",
       "  </thead>\n",
       "  <tbody>\n",
       "    <tr>\n",
       "      <th>0</th>\n",
       "      <td>split_0</td>\n",
       "      <td>original</td>\n",
       "      <td>119.363506</td>\n",
       "      <td>0.564748</td>\n",
       "      <td>NaN</td>\n",
       "      <td>NaN</td>\n",
       "      <td>NaN</td>\n",
       "      <td>NaN</td>\n",
       "      <td>NaN</td>\n",
       "      <td>NaN</td>\n",
       "      <td>NaN</td>\n",
       "      <td>NaN</td>\n",
       "      <td>NaN</td>\n",
       "    </tr>\n",
       "    <tr>\n",
       "      <th>1</th>\n",
       "      <td>split_0</td>\n",
       "      <td>train_noise_40.csv_cleaned_baseline.csv</td>\n",
       "      <td>139.390294</td>\n",
       "      <td>0.705012</td>\n",
       "      <td>baseline.csv</td>\n",
       "      <td>40</td>\n",
       "      <td>0.0</td>\n",
       "      <td>split_0</td>\n",
       "      <td>train_noise_40.csv_cleaned_baseline.csv</td>\n",
       "      <td>3015.0</td>\n",
       "      <td>222.0</td>\n",
       "      <td>0.073632</td>\n",
       "      <td>0.068546</td>\n",
       "    </tr>\n",
       "    <tr>\n",
       "      <th>2</th>\n",
       "      <td>split_0</td>\n",
       "      <td>train_noise_30.csv_cleaned_baseline.csv</td>\n",
       "      <td>125.391370</td>\n",
       "      <td>0.604890</td>\n",
       "      <td>baseline.csv</td>\n",
       "      <td>30</td>\n",
       "      <td>1.0</td>\n",
       "      <td>split_0</td>\n",
       "      <td>train_noise_30.csv_cleaned_baseline.csv</td>\n",
       "      <td>3015.0</td>\n",
       "      <td>462.0</td>\n",
       "      <td>0.153234</td>\n",
       "      <td>0.032338</td>\n",
       "    </tr>\n",
       "    <tr>\n",
       "      <th>3</th>\n",
       "      <td>split_0</td>\n",
       "      <td>train_noise_15.csv_cleaned_baseline.csv</td>\n",
       "      <td>123.282688</td>\n",
       "      <td>0.591287</td>\n",
       "      <td>baseline.csv</td>\n",
       "      <td>15</td>\n",
       "      <td>2.0</td>\n",
       "      <td>split_0</td>\n",
       "      <td>train_noise_15.csv_cleaned_baseline.csv</td>\n",
       "      <td>3015.0</td>\n",
       "      <td>1091.0</td>\n",
       "      <td>0.361857</td>\n",
       "      <td>0.103704</td>\n",
       "    </tr>\n",
       "    <tr>\n",
       "      <th>4</th>\n",
       "      <td>split_0</td>\n",
       "      <td>train_noise_25.csv_cleaned_baseline.csv</td>\n",
       "      <td>124.393162</td>\n",
       "      <td>0.594218</td>\n",
       "      <td>baseline.csv</td>\n",
       "      <td>25</td>\n",
       "      <td>3.0</td>\n",
       "      <td>split_0</td>\n",
       "      <td>train_noise_25.csv_cleaned_baseline.csv</td>\n",
       "      <td>3015.0</td>\n",
       "      <td>610.0</td>\n",
       "      <td>0.202322</td>\n",
       "      <td>0.033444</td>\n",
       "    </tr>\n",
       "    <tr>\n",
       "      <th>...</th>\n",
       "      <td>...</td>\n",
       "      <td>...</td>\n",
       "      <td>...</td>\n",
       "      <td>...</td>\n",
       "      <td>...</td>\n",
       "      <td>...</td>\n",
       "      <td>...</td>\n",
       "      <td>...</td>\n",
       "      <td>...</td>\n",
       "      <td>...</td>\n",
       "      <td>...</td>\n",
       "      <td>...</td>\n",
       "      <td>...</td>\n",
       "    </tr>\n",
       "    <tr>\n",
       "      <th>485</th>\n",
       "      <td>split_3</td>\n",
       "      <td>train_noise_25.csv_cleaned_curatorMerge.csv</td>\n",
       "      <td>116.741344</td>\n",
       "      <td>0.554575</td>\n",
       "      <td>curatorMerge.csv</td>\n",
       "      <td>25</td>\n",
       "      <td>475.0</td>\n",
       "      <td>split_3</td>\n",
       "      <td>train_noise_25.csv_cleaned_curatorMerge.csv</td>\n",
       "      <td>3023.0</td>\n",
       "      <td>2734.0</td>\n",
       "      <td>0.904400</td>\n",
       "      <td>0.904069</td>\n",
       "    </tr>\n",
       "    <tr>\n",
       "      <th>486</th>\n",
       "      <td>split_3</td>\n",
       "      <td>train_noise_10.csv_cleaned_curatorMerge.csv</td>\n",
       "      <td>116.395109</td>\n",
       "      <td>0.554858</td>\n",
       "      <td>curatorMerge.csv</td>\n",
       "      <td>10</td>\n",
       "      <td>476.0</td>\n",
       "      <td>split_3</td>\n",
       "      <td>train_noise_10.csv_cleaned_curatorMerge.csv</td>\n",
       "      <td>3023.0</td>\n",
       "      <td>2903.0</td>\n",
       "      <td>0.960304</td>\n",
       "      <td>0.960249</td>\n",
       "    </tr>\n",
       "    <tr>\n",
       "      <th>487</th>\n",
       "      <td>split_3</td>\n",
       "      <td>train_noise_5.csv_cleaned_curatorMerge.csv</td>\n",
       "      <td>116.328570</td>\n",
       "      <td>0.554773</td>\n",
       "      <td>curatorMerge.csv</td>\n",
       "      <td>5</td>\n",
       "      <td>477.0</td>\n",
       "      <td>split_3</td>\n",
       "      <td>train_noise_5.csv_cleaned_curatorMerge.csv</td>\n",
       "      <td>3023.0</td>\n",
       "      <td>2963.0</td>\n",
       "      <td>0.980152</td>\n",
       "      <td>0.980097</td>\n",
       "    </tr>\n",
       "    <tr>\n",
       "      <th>488</th>\n",
       "      <td>split_3</td>\n",
       "      <td>train_noise_35.csv_cleaned_curatorMerge.csv</td>\n",
       "      <td>117.551430</td>\n",
       "      <td>0.557452</td>\n",
       "      <td>curatorMerge.csv</td>\n",
       "      <td>35</td>\n",
       "      <td>478.0</td>\n",
       "      <td>split_3</td>\n",
       "      <td>train_noise_35.csv_cleaned_curatorMerge.csv</td>\n",
       "      <td>3023.0</td>\n",
       "      <td>2591.0</td>\n",
       "      <td>0.857096</td>\n",
       "      <td>0.856544</td>\n",
       "    </tr>\n",
       "    <tr>\n",
       "      <th>489</th>\n",
       "      <td>split_3</td>\n",
       "      <td>train_noise_20.csv_cleaned_curatorMerge.csv</td>\n",
       "      <td>116.778429</td>\n",
       "      <td>0.557020</td>\n",
       "      <td>curatorMerge.csv</td>\n",
       "      <td>20</td>\n",
       "      <td>479.0</td>\n",
       "      <td>split_3</td>\n",
       "      <td>train_noise_20.csv_cleaned_curatorMerge.csv</td>\n",
       "      <td>3023.0</td>\n",
       "      <td>2777.0</td>\n",
       "      <td>0.918624</td>\n",
       "      <td>0.918569</td>\n",
       "    </tr>\n",
       "  </tbody>\n",
       "</table>\n",
       "<p>490 rows × 13 columns</p>\n",
       "</div>\n",
       "      <button class=\"colab-df-convert\" onclick=\"convertToInteractive('df-2c486cd8-54aa-4a80-8ead-aa3af77edb36')\"\n",
       "              title=\"Convert this dataframe to an interactive table.\"\n",
       "              style=\"display:none;\">\n",
       "        \n",
       "  <svg xmlns=\"http://www.w3.org/2000/svg\" height=\"24px\"viewBox=\"0 0 24 24\"\n",
       "       width=\"24px\">\n",
       "    <path d=\"M0 0h24v24H0V0z\" fill=\"none\"/>\n",
       "    <path d=\"M18.56 5.44l.94 2.06.94-2.06 2.06-.94-2.06-.94-.94-2.06-.94 2.06-2.06.94zm-11 1L8.5 8.5l.94-2.06 2.06-.94-2.06-.94L8.5 2.5l-.94 2.06-2.06.94zm10 10l.94 2.06.94-2.06 2.06-.94-2.06-.94-.94-2.06-.94 2.06-2.06.94z\"/><path d=\"M17.41 7.96l-1.37-1.37c-.4-.4-.92-.59-1.43-.59-.52 0-1.04.2-1.43.59L10.3 9.45l-7.72 7.72c-.78.78-.78 2.05 0 2.83L4 21.41c.39.39.9.59 1.41.59.51 0 1.02-.2 1.41-.59l7.78-7.78 2.81-2.81c.8-.78.8-2.07 0-2.86zM5.41 20L4 18.59l7.72-7.72 1.47 1.35L5.41 20z\"/>\n",
       "  </svg>\n",
       "      </button>\n",
       "      \n",
       "  <style>\n",
       "    .colab-df-container {\n",
       "      display:flex;\n",
       "      flex-wrap:wrap;\n",
       "      gap: 12px;\n",
       "    }\n",
       "\n",
       "    .colab-df-convert {\n",
       "      background-color: #E8F0FE;\n",
       "      border: none;\n",
       "      border-radius: 50%;\n",
       "      cursor: pointer;\n",
       "      display: none;\n",
       "      fill: #1967D2;\n",
       "      height: 32px;\n",
       "      padding: 0 0 0 0;\n",
       "      width: 32px;\n",
       "    }\n",
       "\n",
       "    .colab-df-convert:hover {\n",
       "      background-color: #E2EBFA;\n",
       "      box-shadow: 0px 1px 2px rgba(60, 64, 67, 0.3), 0px 1px 3px 1px rgba(60, 64, 67, 0.15);\n",
       "      fill: #174EA6;\n",
       "    }\n",
       "\n",
       "    [theme=dark] .colab-df-convert {\n",
       "      background-color: #3B4455;\n",
       "      fill: #D2E3FC;\n",
       "    }\n",
       "\n",
       "    [theme=dark] .colab-df-convert:hover {\n",
       "      background-color: #434B5C;\n",
       "      box-shadow: 0px 1px 3px 1px rgba(0, 0, 0, 0.15);\n",
       "      filter: drop-shadow(0px 1px 2px rgba(0, 0, 0, 0.3));\n",
       "      fill: #FFFFFF;\n",
       "    }\n",
       "  </style>\n",
       "\n",
       "      <script>\n",
       "        const buttonEl =\n",
       "          document.querySelector('#df-2c486cd8-54aa-4a80-8ead-aa3af77edb36 button.colab-df-convert');\n",
       "        buttonEl.style.display =\n",
       "          google.colab.kernel.accessAllowed ? 'block' : 'none';\n",
       "\n",
       "        async function convertToInteractive(key) {\n",
       "          const element = document.querySelector('#df-2c486cd8-54aa-4a80-8ead-aa3af77edb36');\n",
       "          const dataTable =\n",
       "            await google.colab.kernel.invokeFunction('convertToInteractive',\n",
       "                                                     [key], {});\n",
       "          if (!dataTable) return;\n",
       "\n",
       "          const docLinkHtml = 'Like what you see? Visit the ' +\n",
       "            '<a target=\"_blank\" href=https://colab.research.google.com/notebooks/data_table.ipynb>data table notebook</a>'\n",
       "            + ' to learn more about interactive tables.';\n",
       "          element.innerHTML = '';\n",
       "          dataTable['output_type'] = 'display_data';\n",
       "          await google.colab.output.renderOutput(dataTable, element);\n",
       "          const docLink = document.createElement('div');\n",
       "          docLink.innerHTML = docLinkHtml;\n",
       "          element.appendChild(docLink);\n",
       "        }\n",
       "      </script>\n",
       "    </div>\n",
       "  </div>\n",
       "  "
      ],
      "text/plain": [
       "           0                                            1           2  \\\n",
       "0    split_0                                     original  119.363506   \n",
       "1    split_0      train_noise_40.csv_cleaned_baseline.csv  139.390294   \n",
       "2    split_0      train_noise_30.csv_cleaned_baseline.csv  125.391370   \n",
       "3    split_0      train_noise_15.csv_cleaned_baseline.csv  123.282688   \n",
       "4    split_0      train_noise_25.csv_cleaned_baseline.csv  124.393162   \n",
       "..       ...                                          ...         ...   \n",
       "485  split_3  train_noise_25.csv_cleaned_curatorMerge.csv  116.741344   \n",
       "486  split_3  train_noise_10.csv_cleaned_curatorMerge.csv  116.395109   \n",
       "487  split_3   train_noise_5.csv_cleaned_curatorMerge.csv  116.328570   \n",
       "488  split_3  train_noise_35.csv_cleaned_curatorMerge.csv  117.551430   \n",
       "489  split_3  train_noise_20.csv_cleaned_curatorMerge.csv  116.778429   \n",
       "\n",
       "            3          workflow noise  Unnamed: 0      var  \\\n",
       "0    0.564748               NaN   NaN         NaN      NaN   \n",
       "1    0.705012      baseline.csv    40         0.0  split_0   \n",
       "2    0.604890      baseline.csv    30         1.0  split_0   \n",
       "3    0.591287      baseline.csv    15         2.0  split_0   \n",
       "4    0.594218      baseline.csv    25         3.0  split_0   \n",
       "..        ...               ...   ...         ...      ...   \n",
       "485  0.554575  curatorMerge.csv    25       475.0  split_3   \n",
       "486  0.554858  curatorMerge.csv    10       476.0  split_3   \n",
       "487  0.554773  curatorMerge.csv     5       477.0  split_3   \n",
       "488  0.557452  curatorMerge.csv    35       478.0  split_3   \n",
       "489  0.557020  curatorMerge.csv    20       479.0  split_3   \n",
       "\n",
       "                                      clean_file  ori_rows  clean_rows  \\\n",
       "0                                            NaN       NaN         NaN   \n",
       "1        train_noise_40.csv_cleaned_baseline.csv    3015.0       222.0   \n",
       "2        train_noise_30.csv_cleaned_baseline.csv    3015.0       462.0   \n",
       "3        train_noise_15.csv_cleaned_baseline.csv    3015.0      1091.0   \n",
       "4        train_noise_25.csv_cleaned_baseline.csv    3015.0       610.0   \n",
       "..                                           ...       ...         ...   \n",
       "485  train_noise_25.csv_cleaned_curatorMerge.csv    3023.0      2734.0   \n",
       "486  train_noise_10.csv_cleaned_curatorMerge.csv    3023.0      2903.0   \n",
       "487   train_noise_5.csv_cleaned_curatorMerge.csv    3023.0      2963.0   \n",
       "488  train_noise_35.csv_cleaned_curatorMerge.csv    3023.0      2591.0   \n",
       "489  train_noise_20.csv_cleaned_curatorMerge.csv    3023.0      2777.0   \n",
       "\n",
       "     completeness  accuracy  \n",
       "0             NaN       NaN  \n",
       "1        0.073632  0.068546  \n",
       "2        0.153234  0.032338  \n",
       "3        0.361857  0.103704  \n",
       "4        0.202322  0.033444  \n",
       "..            ...       ...  \n",
       "485      0.904400  0.904069  \n",
       "486      0.960304  0.960249  \n",
       "487      0.980152  0.980097  \n",
       "488      0.857096  0.856544  \n",
       "489      0.918624  0.918569  \n",
       "\n",
       "[490 rows x 13 columns]"
      ]
     },
     "execution_count": 16,
     "metadata": {},
     "output_type": "execute_result"
    }
   ],
   "source": [
    "compiled_results_pd"
   ]
  },
  {
   "cell_type": "code",
   "execution_count": null,
   "metadata": {
    "colab": {
     "base_uri": "https://localhost:8080/",
     "height": 424
    },
    "id": "VxwOkiitO6CV",
    "outputId": "120c7e4d-d5cd-48e2-95f8-f3f8b41036d5"
   },
   "outputs": [
    {
     "data": {
      "text/html": [
       "\n",
       "  <div id=\"df-b610cb2f-2b1b-4f68-9131-5089e1b05256\">\n",
       "    <div class=\"colab-df-container\">\n",
       "      <div>\n",
       "<style scoped>\n",
       "    .dataframe tbody tr th:only-of-type {\n",
       "        vertical-align: middle;\n",
       "    }\n",
       "\n",
       "    .dataframe tbody tr th {\n",
       "        vertical-align: top;\n",
       "    }\n",
       "\n",
       "    .dataframe thead th {\n",
       "        text-align: right;\n",
       "    }\n",
       "</style>\n",
       "<table border=\"1\" class=\"dataframe\">\n",
       "  <thead>\n",
       "    <tr style=\"text-align: right;\">\n",
       "      <th></th>\n",
       "      <th>0</th>\n",
       "      <th>1</th>\n",
       "      <th>2_x</th>\n",
       "      <th>3_x</th>\n",
       "      <th>workflow</th>\n",
       "      <th>noise</th>\n",
       "      <th>Unnamed: 0</th>\n",
       "      <th>var</th>\n",
       "      <th>clean_file</th>\n",
       "      <th>ori_rows</th>\n",
       "      <th>clean_rows</th>\n",
       "      <th>completeness</th>\n",
       "      <th>accuracy</th>\n",
       "      <th>2_y</th>\n",
       "      <th>3_y</th>\n",
       "    </tr>\n",
       "  </thead>\n",
       "  <tbody>\n",
       "    <tr>\n",
       "      <th>0</th>\n",
       "      <td>split_0</td>\n",
       "      <td>train_noise_40.csv_cleaned_baseline.csv</td>\n",
       "      <td>139.390294</td>\n",
       "      <td>0.705012</td>\n",
       "      <td>baseline.csv</td>\n",
       "      <td>40</td>\n",
       "      <td>0.0</td>\n",
       "      <td>split_0</td>\n",
       "      <td>train_noise_40.csv_cleaned_baseline.csv</td>\n",
       "      <td>3015.0</td>\n",
       "      <td>222.0</td>\n",
       "      <td>0.073632</td>\n",
       "      <td>0.068546</td>\n",
       "      <td>119.363506</td>\n",
       "      <td>0.564748</td>\n",
       "    </tr>\n",
       "    <tr>\n",
       "      <th>1</th>\n",
       "      <td>split_0</td>\n",
       "      <td>train_noise_30.csv_cleaned_baseline.csv</td>\n",
       "      <td>125.391370</td>\n",
       "      <td>0.604890</td>\n",
       "      <td>baseline.csv</td>\n",
       "      <td>30</td>\n",
       "      <td>1.0</td>\n",
       "      <td>split_0</td>\n",
       "      <td>train_noise_30.csv_cleaned_baseline.csv</td>\n",
       "      <td>3015.0</td>\n",
       "      <td>462.0</td>\n",
       "      <td>0.153234</td>\n",
       "      <td>0.032338</td>\n",
       "      <td>119.363506</td>\n",
       "      <td>0.564748</td>\n",
       "    </tr>\n",
       "    <tr>\n",
       "      <th>2</th>\n",
       "      <td>split_0</td>\n",
       "      <td>train_noise_15.csv_cleaned_baseline.csv</td>\n",
       "      <td>123.282688</td>\n",
       "      <td>0.591287</td>\n",
       "      <td>baseline.csv</td>\n",
       "      <td>15</td>\n",
       "      <td>2.0</td>\n",
       "      <td>split_0</td>\n",
       "      <td>train_noise_15.csv_cleaned_baseline.csv</td>\n",
       "      <td>3015.0</td>\n",
       "      <td>1091.0</td>\n",
       "      <td>0.361857</td>\n",
       "      <td>0.103704</td>\n",
       "      <td>119.363506</td>\n",
       "      <td>0.564748</td>\n",
       "    </tr>\n",
       "    <tr>\n",
       "      <th>3</th>\n",
       "      <td>split_0</td>\n",
       "      <td>train_noise_25.csv_cleaned_baseline.csv</td>\n",
       "      <td>124.393162</td>\n",
       "      <td>0.594218</td>\n",
       "      <td>baseline.csv</td>\n",
       "      <td>25</td>\n",
       "      <td>3.0</td>\n",
       "      <td>split_0</td>\n",
       "      <td>train_noise_25.csv_cleaned_baseline.csv</td>\n",
       "      <td>3015.0</td>\n",
       "      <td>610.0</td>\n",
       "      <td>0.202322</td>\n",
       "      <td>0.033444</td>\n",
       "      <td>119.363506</td>\n",
       "      <td>0.564748</td>\n",
       "    </tr>\n",
       "    <tr>\n",
       "      <th>4</th>\n",
       "      <td>split_0</td>\n",
       "      <td>train_noise_10.csv_cleaned_baseline.csv</td>\n",
       "      <td>122.396085</td>\n",
       "      <td>0.568161</td>\n",
       "      <td>baseline.csv</td>\n",
       "      <td>10</td>\n",
       "      <td>4.0</td>\n",
       "      <td>split_0</td>\n",
       "      <td>train_noise_10.csv_cleaned_baseline.csv</td>\n",
       "      <td>3015.0</td>\n",
       "      <td>1419.0</td>\n",
       "      <td>0.470647</td>\n",
       "      <td>0.256440</td>\n",
       "      <td>119.363506</td>\n",
       "      <td>0.564748</td>\n",
       "    </tr>\n",
       "    <tr>\n",
       "      <th>...</th>\n",
       "      <td>...</td>\n",
       "      <td>...</td>\n",
       "      <td>...</td>\n",
       "      <td>...</td>\n",
       "      <td>...</td>\n",
       "      <td>...</td>\n",
       "      <td>...</td>\n",
       "      <td>...</td>\n",
       "      <td>...</td>\n",
       "      <td>...</td>\n",
       "      <td>...</td>\n",
       "      <td>...</td>\n",
       "      <td>...</td>\n",
       "      <td>...</td>\n",
       "      <td>...</td>\n",
       "    </tr>\n",
       "    <tr>\n",
       "      <th>475</th>\n",
       "      <td>split_3</td>\n",
       "      <td>train_noise_25.csv_cleaned_curatorMerge.csv</td>\n",
       "      <td>116.741344</td>\n",
       "      <td>0.554575</td>\n",
       "      <td>curatorMerge.csv</td>\n",
       "      <td>25</td>\n",
       "      <td>475.0</td>\n",
       "      <td>split_3</td>\n",
       "      <td>train_noise_25.csv_cleaned_curatorMerge.csv</td>\n",
       "      <td>3023.0</td>\n",
       "      <td>2734.0</td>\n",
       "      <td>0.904400</td>\n",
       "      <td>0.904069</td>\n",
       "      <td>115.413276</td>\n",
       "      <td>0.551257</td>\n",
       "    </tr>\n",
       "    <tr>\n",
       "      <th>476</th>\n",
       "      <td>split_3</td>\n",
       "      <td>train_noise_10.csv_cleaned_curatorMerge.csv</td>\n",
       "      <td>116.395109</td>\n",
       "      <td>0.554858</td>\n",
       "      <td>curatorMerge.csv</td>\n",
       "      <td>10</td>\n",
       "      <td>476.0</td>\n",
       "      <td>split_3</td>\n",
       "      <td>train_noise_10.csv_cleaned_curatorMerge.csv</td>\n",
       "      <td>3023.0</td>\n",
       "      <td>2903.0</td>\n",
       "      <td>0.960304</td>\n",
       "      <td>0.960249</td>\n",
       "      <td>115.413276</td>\n",
       "      <td>0.551257</td>\n",
       "    </tr>\n",
       "    <tr>\n",
       "      <th>477</th>\n",
       "      <td>split_3</td>\n",
       "      <td>train_noise_5.csv_cleaned_curatorMerge.csv</td>\n",
       "      <td>116.328570</td>\n",
       "      <td>0.554773</td>\n",
       "      <td>curatorMerge.csv</td>\n",
       "      <td>5</td>\n",
       "      <td>477.0</td>\n",
       "      <td>split_3</td>\n",
       "      <td>train_noise_5.csv_cleaned_curatorMerge.csv</td>\n",
       "      <td>3023.0</td>\n",
       "      <td>2963.0</td>\n",
       "      <td>0.980152</td>\n",
       "      <td>0.980097</td>\n",
       "      <td>115.413276</td>\n",
       "      <td>0.551257</td>\n",
       "    </tr>\n",
       "    <tr>\n",
       "      <th>478</th>\n",
       "      <td>split_3</td>\n",
       "      <td>train_noise_35.csv_cleaned_curatorMerge.csv</td>\n",
       "      <td>117.551430</td>\n",
       "      <td>0.557452</td>\n",
       "      <td>curatorMerge.csv</td>\n",
       "      <td>35</td>\n",
       "      <td>478.0</td>\n",
       "      <td>split_3</td>\n",
       "      <td>train_noise_35.csv_cleaned_curatorMerge.csv</td>\n",
       "      <td>3023.0</td>\n",
       "      <td>2591.0</td>\n",
       "      <td>0.857096</td>\n",
       "      <td>0.856544</td>\n",
       "      <td>115.413276</td>\n",
       "      <td>0.551257</td>\n",
       "    </tr>\n",
       "    <tr>\n",
       "      <th>479</th>\n",
       "      <td>split_3</td>\n",
       "      <td>train_noise_20.csv_cleaned_curatorMerge.csv</td>\n",
       "      <td>116.778429</td>\n",
       "      <td>0.557020</td>\n",
       "      <td>curatorMerge.csv</td>\n",
       "      <td>20</td>\n",
       "      <td>479.0</td>\n",
       "      <td>split_3</td>\n",
       "      <td>train_noise_20.csv_cleaned_curatorMerge.csv</td>\n",
       "      <td>3023.0</td>\n",
       "      <td>2777.0</td>\n",
       "      <td>0.918624</td>\n",
       "      <td>0.918569</td>\n",
       "      <td>115.413276</td>\n",
       "      <td>0.551257</td>\n",
       "    </tr>\n",
       "  </tbody>\n",
       "</table>\n",
       "<p>480 rows × 15 columns</p>\n",
       "</div>\n",
       "      <button class=\"colab-df-convert\" onclick=\"convertToInteractive('df-b610cb2f-2b1b-4f68-9131-5089e1b05256')\"\n",
       "              title=\"Convert this dataframe to an interactive table.\"\n",
       "              style=\"display:none;\">\n",
       "        \n",
       "  <svg xmlns=\"http://www.w3.org/2000/svg\" height=\"24px\"viewBox=\"0 0 24 24\"\n",
       "       width=\"24px\">\n",
       "    <path d=\"M0 0h24v24H0V0z\" fill=\"none\"/>\n",
       "    <path d=\"M18.56 5.44l.94 2.06.94-2.06 2.06-.94-2.06-.94-.94-2.06-.94 2.06-2.06.94zm-11 1L8.5 8.5l.94-2.06 2.06-.94-2.06-.94L8.5 2.5l-.94 2.06-2.06.94zm10 10l.94 2.06.94-2.06 2.06-.94-2.06-.94-.94-2.06-.94 2.06-2.06.94z\"/><path d=\"M17.41 7.96l-1.37-1.37c-.4-.4-.92-.59-1.43-.59-.52 0-1.04.2-1.43.59L10.3 9.45l-7.72 7.72c-.78.78-.78 2.05 0 2.83L4 21.41c.39.39.9.59 1.41.59.51 0 1.02-.2 1.41-.59l7.78-7.78 2.81-2.81c.8-.78.8-2.07 0-2.86zM5.41 20L4 18.59l7.72-7.72 1.47 1.35L5.41 20z\"/>\n",
       "  </svg>\n",
       "      </button>\n",
       "      \n",
       "  <style>\n",
       "    .colab-df-container {\n",
       "      display:flex;\n",
       "      flex-wrap:wrap;\n",
       "      gap: 12px;\n",
       "    }\n",
       "\n",
       "    .colab-df-convert {\n",
       "      background-color: #E8F0FE;\n",
       "      border: none;\n",
       "      border-radius: 50%;\n",
       "      cursor: pointer;\n",
       "      display: none;\n",
       "      fill: #1967D2;\n",
       "      height: 32px;\n",
       "      padding: 0 0 0 0;\n",
       "      width: 32px;\n",
       "    }\n",
       "\n",
       "    .colab-df-convert:hover {\n",
       "      background-color: #E2EBFA;\n",
       "      box-shadow: 0px 1px 2px rgba(60, 64, 67, 0.3), 0px 1px 3px 1px rgba(60, 64, 67, 0.15);\n",
       "      fill: #174EA6;\n",
       "    }\n",
       "\n",
       "    [theme=dark] .colab-df-convert {\n",
       "      background-color: #3B4455;\n",
       "      fill: #D2E3FC;\n",
       "    }\n",
       "\n",
       "    [theme=dark] .colab-df-convert:hover {\n",
       "      background-color: #434B5C;\n",
       "      box-shadow: 0px 1px 3px 1px rgba(0, 0, 0, 0.15);\n",
       "      filter: drop-shadow(0px 1px 2px rgba(0, 0, 0, 0.3));\n",
       "      fill: #FFFFFF;\n",
       "    }\n",
       "  </style>\n",
       "\n",
       "      <script>\n",
       "        const buttonEl =\n",
       "          document.querySelector('#df-b610cb2f-2b1b-4f68-9131-5089e1b05256 button.colab-df-convert');\n",
       "        buttonEl.style.display =\n",
       "          google.colab.kernel.accessAllowed ? 'block' : 'none';\n",
       "\n",
       "        async function convertToInteractive(key) {\n",
       "          const element = document.querySelector('#df-b610cb2f-2b1b-4f68-9131-5089e1b05256');\n",
       "          const dataTable =\n",
       "            await google.colab.kernel.invokeFunction('convertToInteractive',\n",
       "                                                     [key], {});\n",
       "          if (!dataTable) return;\n",
       "\n",
       "          const docLinkHtml = 'Like what you see? Visit the ' +\n",
       "            '<a target=\"_blank\" href=https://colab.research.google.com/notebooks/data_table.ipynb>data table notebook</a>'\n",
       "            + ' to learn more about interactive tables.';\n",
       "          element.innerHTML = '';\n",
       "          dataTable['output_type'] = 'display_data';\n",
       "          await google.colab.output.renderOutput(dataTable, element);\n",
       "          const docLink = document.createElement('div');\n",
       "          docLink.innerHTML = docLinkHtml;\n",
       "          element.appendChild(docLink);\n",
       "        }\n",
       "      </script>\n",
       "    </div>\n",
       "  </div>\n",
       "  "
      ],
      "text/plain": [
       "           0                                            1         2_x  \\\n",
       "0    split_0      train_noise_40.csv_cleaned_baseline.csv  139.390294   \n",
       "1    split_0      train_noise_30.csv_cleaned_baseline.csv  125.391370   \n",
       "2    split_0      train_noise_15.csv_cleaned_baseline.csv  123.282688   \n",
       "3    split_0      train_noise_25.csv_cleaned_baseline.csv  124.393162   \n",
       "4    split_0      train_noise_10.csv_cleaned_baseline.csv  122.396085   \n",
       "..       ...                                          ...         ...   \n",
       "475  split_3  train_noise_25.csv_cleaned_curatorMerge.csv  116.741344   \n",
       "476  split_3  train_noise_10.csv_cleaned_curatorMerge.csv  116.395109   \n",
       "477  split_3   train_noise_5.csv_cleaned_curatorMerge.csv  116.328570   \n",
       "478  split_3  train_noise_35.csv_cleaned_curatorMerge.csv  117.551430   \n",
       "479  split_3  train_noise_20.csv_cleaned_curatorMerge.csv  116.778429   \n",
       "\n",
       "          3_x          workflow  noise  Unnamed: 0      var  \\\n",
       "0    0.705012      baseline.csv     40         0.0  split_0   \n",
       "1    0.604890      baseline.csv     30         1.0  split_0   \n",
       "2    0.591287      baseline.csv     15         2.0  split_0   \n",
       "3    0.594218      baseline.csv     25         3.0  split_0   \n",
       "4    0.568161      baseline.csv     10         4.0  split_0   \n",
       "..        ...               ...    ...         ...      ...   \n",
       "475  0.554575  curatorMerge.csv     25       475.0  split_3   \n",
       "476  0.554858  curatorMerge.csv     10       476.0  split_3   \n",
       "477  0.554773  curatorMerge.csv      5       477.0  split_3   \n",
       "478  0.557452  curatorMerge.csv     35       478.0  split_3   \n",
       "479  0.557020  curatorMerge.csv     20       479.0  split_3   \n",
       "\n",
       "                                      clean_file  ori_rows  clean_rows  \\\n",
       "0        train_noise_40.csv_cleaned_baseline.csv    3015.0       222.0   \n",
       "1        train_noise_30.csv_cleaned_baseline.csv    3015.0       462.0   \n",
       "2        train_noise_15.csv_cleaned_baseline.csv    3015.0      1091.0   \n",
       "3        train_noise_25.csv_cleaned_baseline.csv    3015.0       610.0   \n",
       "4        train_noise_10.csv_cleaned_baseline.csv    3015.0      1419.0   \n",
       "..                                           ...       ...         ...   \n",
       "475  train_noise_25.csv_cleaned_curatorMerge.csv    3023.0      2734.0   \n",
       "476  train_noise_10.csv_cleaned_curatorMerge.csv    3023.0      2903.0   \n",
       "477   train_noise_5.csv_cleaned_curatorMerge.csv    3023.0      2963.0   \n",
       "478  train_noise_35.csv_cleaned_curatorMerge.csv    3023.0      2591.0   \n",
       "479  train_noise_20.csv_cleaned_curatorMerge.csv    3023.0      2777.0   \n",
       "\n",
       "     completeness  accuracy         2_y       3_y  \n",
       "0        0.073632  0.068546  119.363506  0.564748  \n",
       "1        0.153234  0.032338  119.363506  0.564748  \n",
       "2        0.361857  0.103704  119.363506  0.564748  \n",
       "3        0.202322  0.033444  119.363506  0.564748  \n",
       "4        0.470647  0.256440  119.363506  0.564748  \n",
       "..            ...       ...         ...       ...  \n",
       "475      0.904400  0.904069  115.413276  0.551257  \n",
       "476      0.960304  0.960249  115.413276  0.551257  \n",
       "477      0.980152  0.980097  115.413276  0.551257  \n",
       "478      0.857096  0.856544  115.413276  0.551257  \n",
       "479      0.918624  0.918569  115.413276  0.551257  \n",
       "\n",
       "[480 rows x 15 columns]"
      ]
     },
     "execution_count": 17,
     "metadata": {},
     "output_type": "execute_result"
    }
   ],
   "source": [
    "compiled_results_noise"
   ]
  },
  {
   "cell_type": "code",
   "execution_count": null,
   "metadata": {
    "colab": {
     "base_uri": "https://localhost:8080/"
    },
    "id": "YICBZjRtNr7G",
    "outputId": "db11ab8a-4689-4757-86a2-c42bd6bac04d"
   },
   "outputs": [
    {
     "data": {
      "text/plain": [
       "117.4163290906815"
      ]
     },
     "execution_count": 18,
     "metadata": {},
     "output_type": "execute_result"
    }
   ],
   "source": [
    "compiled_results_noise[\"2_y\"].unique().mean()"
   ]
  },
  {
   "cell_type": "code",
   "execution_count": null,
   "metadata": {
    "id": "mry6fcuHPVJW"
   },
   "outputs": [],
   "source": [
    "compiled_results_noise[\"abs_delta_rmse\"] = compiled_results_noise.apply(lambda x: abs(x[\"2_x\"] - x[\"2_y\"]) ,axis=1)\n",
    "compiled_results_noise[\"abs_delta_rmsle\"] = compiled_results_noise.apply(lambda x: abs(x[\"3_x\"] - x[\"3_y\"]) ,axis=1)\n",
    "compiled_results_noise[\"delta_rmse\"] = compiled_results_noise.apply(lambda x: x[\"2_x\"] - x[\"2_y\"] ,axis=1)\n",
    "compiled_results_noise[\"delta_rmsle\"] = compiled_results_noise.apply(lambda x: x[\"3_x\"] - x[\"3_y\"] ,axis=1)"
   ]
  },
  {
   "cell_type": "code",
   "execution_count": null,
   "metadata": {
    "colab": {
     "base_uri": "https://localhost:8080/",
     "height": 1000
    },
    "id": "Kti8bayxQ6h9",
    "outputId": "e06469b3-677c-4611-aeb1-04283a2c0717"
   },
   "outputs": [
    {
     "data": {
      "text/html": [
       "\n",
       "  <div id=\"df-70871fed-7886-4b41-b2f9-b2c6cd888059\">\n",
       "    <div class=\"colab-df-container\">\n",
       "      <div>\n",
       "<style scoped>\n",
       "    .dataframe tbody tr th:only-of-type {\n",
       "        vertical-align: middle;\n",
       "    }\n",
       "\n",
       "    .dataframe tbody tr th {\n",
       "        vertical-align: top;\n",
       "    }\n",
       "\n",
       "    .dataframe thead th {\n",
       "        text-align: right;\n",
       "    }\n",
       "</style>\n",
       "<table border=\"1\" class=\"dataframe\">\n",
       "  <thead>\n",
       "    <tr style=\"text-align: right;\">\n",
       "      <th></th>\n",
       "      <th></th>\n",
       "      <th>2_x_mean</th>\n",
       "      <th>3_x_mean</th>\n",
       "      <th>delta_rmse_mean</th>\n",
       "      <th>delta_rmsle_mean</th>\n",
       "      <th>2_x_std</th>\n",
       "      <th>3_x_std</th>\n",
       "      <th>delta_rmse_std</th>\n",
       "      <th>delta_rmsle_std</th>\n",
       "    </tr>\n",
       "    <tr>\n",
       "      <th>workflow</th>\n",
       "      <th>noise</th>\n",
       "      <th></th>\n",
       "      <th></th>\n",
       "      <th></th>\n",
       "      <th></th>\n",
       "      <th></th>\n",
       "      <th></th>\n",
       "      <th></th>\n",
       "      <th></th>\n",
       "    </tr>\n",
       "  </thead>\n",
       "  <tbody>\n",
       "    <tr>\n",
       "      <th rowspan=\"8\" valign=\"top\">baseline.csv</th>\n",
       "      <th>5</th>\n",
       "      <td>121.260545</td>\n",
       "      <td>0.571571</td>\n",
       "      <td>3.844216</td>\n",
       "      <td>0.018073</td>\n",
       "      <td>2.081839</td>\n",
       "      <td>0.007627</td>\n",
       "      <td>1.527401</td>\n",
       "      <td>0.008471</td>\n",
       "    </tr>\n",
       "    <tr>\n",
       "      <th>10</th>\n",
       "      <td>122.306205</td>\n",
       "      <td>0.576674</td>\n",
       "      <td>4.889875</td>\n",
       "      <td>0.023177</td>\n",
       "      <td>1.808380</td>\n",
       "      <td>0.005060</td>\n",
       "      <td>1.556932</td>\n",
       "      <td>0.008626</td>\n",
       "    </tr>\n",
       "    <tr>\n",
       "      <th>15</th>\n",
       "      <td>122.926988</td>\n",
       "      <td>0.585961</td>\n",
       "      <td>5.510659</td>\n",
       "      <td>0.032463</td>\n",
       "      <td>2.463678</td>\n",
       "      <td>0.011437</td>\n",
       "      <td>1.880763</td>\n",
       "      <td>0.011758</td>\n",
       "    </tr>\n",
       "    <tr>\n",
       "      <th>20</th>\n",
       "      <td>124.508293</td>\n",
       "      <td>0.593210</td>\n",
       "      <td>7.091964</td>\n",
       "      <td>0.039712</td>\n",
       "      <td>2.804299</td>\n",
       "      <td>0.011537</td>\n",
       "      <td>1.907674</td>\n",
       "      <td>0.007171</td>\n",
       "    </tr>\n",
       "    <tr>\n",
       "      <th>25</th>\n",
       "      <td>128.796545</td>\n",
       "      <td>0.615333</td>\n",
       "      <td>11.380216</td>\n",
       "      <td>0.061836</td>\n",
       "      <td>4.900737</td>\n",
       "      <td>0.017840</td>\n",
       "      <td>5.456137</td>\n",
       "      <td>0.018763</td>\n",
       "    </tr>\n",
       "    <tr>\n",
       "      <th>30</th>\n",
       "      <td>129.487370</td>\n",
       "      <td>0.622321</td>\n",
       "      <td>12.071041</td>\n",
       "      <td>0.068824</td>\n",
       "      <td>5.721321</td>\n",
       "      <td>0.017217</td>\n",
       "      <td>5.864756</td>\n",
       "      <td>0.018792</td>\n",
       "    </tr>\n",
       "    <tr>\n",
       "      <th>35</th>\n",
       "      <td>132.521405</td>\n",
       "      <td>0.646918</td>\n",
       "      <td>15.105076</td>\n",
       "      <td>0.093421</td>\n",
       "      <td>6.839385</td>\n",
       "      <td>0.024580</td>\n",
       "      <td>7.107096</td>\n",
       "      <td>0.025269</td>\n",
       "    </tr>\n",
       "    <tr>\n",
       "      <th>40</th>\n",
       "      <td>138.543793</td>\n",
       "      <td>0.677504</td>\n",
       "      <td>21.127464</td>\n",
       "      <td>0.124007</td>\n",
       "      <td>7.978921</td>\n",
       "      <td>0.026417</td>\n",
       "      <td>8.610738</td>\n",
       "      <td>0.025114</td>\n",
       "    </tr>\n",
       "    <tr>\n",
       "      <th rowspan=\"8\" valign=\"top\">baselineAverage.csv</th>\n",
       "      <th>5</th>\n",
       "      <td>118.410110</td>\n",
       "      <td>0.561106</td>\n",
       "      <td>0.993781</td>\n",
       "      <td>0.007609</td>\n",
       "      <td>1.972354</td>\n",
       "      <td>0.005561</td>\n",
       "      <td>0.582540</td>\n",
       "      <td>0.005091</td>\n",
       "    </tr>\n",
       "    <tr>\n",
       "      <th>10</th>\n",
       "      <td>119.109524</td>\n",
       "      <td>0.565298</td>\n",
       "      <td>1.693195</td>\n",
       "      <td>0.011800</td>\n",
       "      <td>2.312056</td>\n",
       "      <td>0.006087</td>\n",
       "      <td>0.730839</td>\n",
       "      <td>0.005230</td>\n",
       "    </tr>\n",
       "    <tr>\n",
       "      <th>15</th>\n",
       "      <td>119.552737</td>\n",
       "      <td>0.566848</td>\n",
       "      <td>2.136408</td>\n",
       "      <td>0.013350</td>\n",
       "      <td>1.974177</td>\n",
       "      <td>0.007265</td>\n",
       "      <td>1.155012</td>\n",
       "      <td>0.005397</td>\n",
       "    </tr>\n",
       "    <tr>\n",
       "      <th>20</th>\n",
       "      <td>120.041591</td>\n",
       "      <td>0.571610</td>\n",
       "      <td>2.625261</td>\n",
       "      <td>0.018112</td>\n",
       "      <td>1.825536</td>\n",
       "      <td>0.005975</td>\n",
       "      <td>1.480949</td>\n",
       "      <td>0.006809</td>\n",
       "    </tr>\n",
       "    <tr>\n",
       "      <th>25</th>\n",
       "      <td>120.485007</td>\n",
       "      <td>0.572372</td>\n",
       "      <td>3.068678</td>\n",
       "      <td>0.018874</td>\n",
       "      <td>2.506584</td>\n",
       "      <td>0.007287</td>\n",
       "      <td>1.456404</td>\n",
       "      <td>0.005689</td>\n",
       "    </tr>\n",
       "    <tr>\n",
       "      <th>30</th>\n",
       "      <td>120.600164</td>\n",
       "      <td>0.573835</td>\n",
       "      <td>3.183835</td>\n",
       "      <td>0.020338</td>\n",
       "      <td>1.912715</td>\n",
       "      <td>0.006167</td>\n",
       "      <td>1.320020</td>\n",
       "      <td>0.005224</td>\n",
       "    </tr>\n",
       "    <tr>\n",
       "      <th>35</th>\n",
       "      <td>120.856798</td>\n",
       "      <td>0.575072</td>\n",
       "      <td>3.440469</td>\n",
       "      <td>0.021574</td>\n",
       "      <td>2.205700</td>\n",
       "      <td>0.007375</td>\n",
       "      <td>1.159024</td>\n",
       "      <td>0.004651</td>\n",
       "    </tr>\n",
       "    <tr>\n",
       "      <th>40</th>\n",
       "      <td>120.829282</td>\n",
       "      <td>0.578939</td>\n",
       "      <td>3.412953</td>\n",
       "      <td>0.025441</td>\n",
       "      <td>2.006367</td>\n",
       "      <td>0.005922</td>\n",
       "      <td>1.255674</td>\n",
       "      <td>0.007743</td>\n",
       "    </tr>\n",
       "    <tr>\n",
       "      <th rowspan=\"8\" valign=\"top\">curatorC1.csv</th>\n",
       "      <th>5</th>\n",
       "      <td>118.364898</td>\n",
       "      <td>0.558481</td>\n",
       "      <td>0.948569</td>\n",
       "      <td>0.004983</td>\n",
       "      <td>1.926109</td>\n",
       "      <td>0.003749</td>\n",
       "      <td>0.922665</td>\n",
       "      <td>0.005206</td>\n",
       "    </tr>\n",
       "    <tr>\n",
       "      <th>10</th>\n",
       "      <td>119.034239</td>\n",
       "      <td>0.561934</td>\n",
       "      <td>1.617910</td>\n",
       "      <td>0.008437</td>\n",
       "      <td>2.500738</td>\n",
       "      <td>0.004857</td>\n",
       "      <td>0.908589</td>\n",
       "      <td>0.004867</td>\n",
       "    </tr>\n",
       "    <tr>\n",
       "      <th>15</th>\n",
       "      <td>119.062308</td>\n",
       "      <td>0.560309</td>\n",
       "      <td>1.645979</td>\n",
       "      <td>0.006811</td>\n",
       "      <td>2.192957</td>\n",
       "      <td>0.005601</td>\n",
       "      <td>0.733158</td>\n",
       "      <td>0.003979</td>\n",
       "    </tr>\n",
       "    <tr>\n",
       "      <th>20</th>\n",
       "      <td>119.198770</td>\n",
       "      <td>0.563559</td>\n",
       "      <td>1.782440</td>\n",
       "      <td>0.010062</td>\n",
       "      <td>2.276145</td>\n",
       "      <td>0.006707</td>\n",
       "      <td>1.205917</td>\n",
       "      <td>0.007333</td>\n",
       "    </tr>\n",
       "    <tr>\n",
       "      <th>25</th>\n",
       "      <td>119.262726</td>\n",
       "      <td>0.562555</td>\n",
       "      <td>1.846397</td>\n",
       "      <td>0.009057</td>\n",
       "      <td>1.855694</td>\n",
       "      <td>0.005526</td>\n",
       "      <td>1.259252</td>\n",
       "      <td>0.007091</td>\n",
       "    </tr>\n",
       "    <tr>\n",
       "      <th>30</th>\n",
       "      <td>119.699651</td>\n",
       "      <td>0.566304</td>\n",
       "      <td>2.283322</td>\n",
       "      <td>0.012807</td>\n",
       "      <td>1.892906</td>\n",
       "      <td>0.005933</td>\n",
       "      <td>0.971231</td>\n",
       "      <td>0.005282</td>\n",
       "    </tr>\n",
       "    <tr>\n",
       "      <th>35</th>\n",
       "      <td>120.018481</td>\n",
       "      <td>0.566254</td>\n",
       "      <td>2.602152</td>\n",
       "      <td>0.012757</td>\n",
       "      <td>2.266622</td>\n",
       "      <td>0.008695</td>\n",
       "      <td>1.014589</td>\n",
       "      <td>0.005366</td>\n",
       "    </tr>\n",
       "    <tr>\n",
       "      <th>40</th>\n",
       "      <td>120.495245</td>\n",
       "      <td>0.569942</td>\n",
       "      <td>3.078916</td>\n",
       "      <td>0.016444</td>\n",
       "      <td>1.407227</td>\n",
       "      <td>0.005276</td>\n",
       "      <td>2.099880</td>\n",
       "      <td>0.008384</td>\n",
       "    </tr>\n",
       "    <tr>\n",
       "      <th rowspan=\"8\" valign=\"top\">curatorC2.csv</th>\n",
       "      <th>5</th>\n",
       "      <td>118.437691</td>\n",
       "      <td>0.558607</td>\n",
       "      <td>1.021362</td>\n",
       "      <td>0.005110</td>\n",
       "      <td>1.942481</td>\n",
       "      <td>0.004047</td>\n",
       "      <td>0.849580</td>\n",
       "      <td>0.005147</td>\n",
       "    </tr>\n",
       "    <tr>\n",
       "      <th>10</th>\n",
       "      <td>119.256763</td>\n",
       "      <td>0.564094</td>\n",
       "      <td>1.840434</td>\n",
       "      <td>0.010597</td>\n",
       "      <td>2.348118</td>\n",
       "      <td>0.004427</td>\n",
       "      <td>0.894583</td>\n",
       "      <td>0.004526</td>\n",
       "    </tr>\n",
       "    <tr>\n",
       "      <th>15</th>\n",
       "      <td>119.786884</td>\n",
       "      <td>0.565383</td>\n",
       "      <td>2.370555</td>\n",
       "      <td>0.011886</td>\n",
       "      <td>2.270117</td>\n",
       "      <td>0.006647</td>\n",
       "      <td>1.196581</td>\n",
       "      <td>0.006975</td>\n",
       "    </tr>\n",
       "    <tr>\n",
       "      <th>20</th>\n",
       "      <td>119.988921</td>\n",
       "      <td>0.566857</td>\n",
       "      <td>2.572592</td>\n",
       "      <td>0.013359</td>\n",
       "      <td>1.928924</td>\n",
       "      <td>0.007770</td>\n",
       "      <td>1.516258</td>\n",
       "      <td>0.007994</td>\n",
       "    </tr>\n",
       "    <tr>\n",
       "      <th>25</th>\n",
       "      <td>120.351575</td>\n",
       "      <td>0.568930</td>\n",
       "      <td>2.935246</td>\n",
       "      <td>0.015432</td>\n",
       "      <td>2.246419</td>\n",
       "      <td>0.008037</td>\n",
       "      <td>1.810627</td>\n",
       "      <td>0.009934</td>\n",
       "    </tr>\n",
       "    <tr>\n",
       "      <th>30</th>\n",
       "      <td>120.723795</td>\n",
       "      <td>0.571471</td>\n",
       "      <td>3.307466</td>\n",
       "      <td>0.017974</td>\n",
       "      <td>1.172864</td>\n",
       "      <td>0.008380</td>\n",
       "      <td>1.481505</td>\n",
       "      <td>0.009514</td>\n",
       "    </tr>\n",
       "    <tr>\n",
       "      <th>35</th>\n",
       "      <td>120.863471</td>\n",
       "      <td>0.574255</td>\n",
       "      <td>3.447142</td>\n",
       "      <td>0.020757</td>\n",
       "      <td>2.135903</td>\n",
       "      <td>0.010463</td>\n",
       "      <td>1.372855</td>\n",
       "      <td>0.009566</td>\n",
       "    </tr>\n",
       "    <tr>\n",
       "      <th>40</th>\n",
       "      <td>122.106158</td>\n",
       "      <td>0.581906</td>\n",
       "      <td>4.689829</td>\n",
       "      <td>0.028409</td>\n",
       "      <td>1.422873</td>\n",
       "      <td>0.005749</td>\n",
       "      <td>1.346554</td>\n",
       "      <td>0.008611</td>\n",
       "    </tr>\n",
       "    <tr>\n",
       "      <th rowspan=\"8\" valign=\"top\">curatorC3.csv</th>\n",
       "      <th>5</th>\n",
       "      <td>118.420018</td>\n",
       "      <td>0.558552</td>\n",
       "      <td>1.003689</td>\n",
       "      <td>0.005054</td>\n",
       "      <td>2.254986</td>\n",
       "      <td>0.004921</td>\n",
       "      <td>0.656706</td>\n",
       "      <td>0.002818</td>\n",
       "    </tr>\n",
       "    <tr>\n",
       "      <th>10</th>\n",
       "      <td>118.822032</td>\n",
       "      <td>0.560617</td>\n",
       "      <td>1.405703</td>\n",
       "      <td>0.007120</td>\n",
       "      <td>2.046106</td>\n",
       "      <td>0.005353</td>\n",
       "      <td>0.701851</td>\n",
       "      <td>0.003862</td>\n",
       "    </tr>\n",
       "    <tr>\n",
       "      <th>15</th>\n",
       "      <td>119.408920</td>\n",
       "      <td>0.564252</td>\n",
       "      <td>1.992591</td>\n",
       "      <td>0.010754</td>\n",
       "      <td>2.200128</td>\n",
       "      <td>0.005750</td>\n",
       "      <td>0.995653</td>\n",
       "      <td>0.004881</td>\n",
       "    </tr>\n",
       "    <tr>\n",
       "      <th>20</th>\n",
       "      <td>119.014227</td>\n",
       "      <td>0.561151</td>\n",
       "      <td>1.597898</td>\n",
       "      <td>0.007654</td>\n",
       "      <td>1.671309</td>\n",
       "      <td>0.004875</td>\n",
       "      <td>1.081575</td>\n",
       "      <td>0.005703</td>\n",
       "    </tr>\n",
       "    <tr>\n",
       "      <th>25</th>\n",
       "      <td>119.097004</td>\n",
       "      <td>0.562341</td>\n",
       "      <td>1.680675</td>\n",
       "      <td>0.008843</td>\n",
       "      <td>1.855034</td>\n",
       "      <td>0.005412</td>\n",
       "      <td>1.358529</td>\n",
       "      <td>0.008588</td>\n",
       "    </tr>\n",
       "    <tr>\n",
       "      <th>30</th>\n",
       "      <td>119.987072</td>\n",
       "      <td>0.566554</td>\n",
       "      <td>2.570743</td>\n",
       "      <td>0.013057</td>\n",
       "      <td>1.841222</td>\n",
       "      <td>0.005209</td>\n",
       "      <td>0.859995</td>\n",
       "      <td>0.005654</td>\n",
       "    </tr>\n",
       "    <tr>\n",
       "      <th>35</th>\n",
       "      <td>119.948209</td>\n",
       "      <td>0.566945</td>\n",
       "      <td>2.531880</td>\n",
       "      <td>0.013447</td>\n",
       "      <td>2.451810</td>\n",
       "      <td>0.009302</td>\n",
       "      <td>1.497758</td>\n",
       "      <td>0.006909</td>\n",
       "    </tr>\n",
       "    <tr>\n",
       "      <th>40</th>\n",
       "      <td>120.398796</td>\n",
       "      <td>0.570718</td>\n",
       "      <td>2.982467</td>\n",
       "      <td>0.017220</td>\n",
       "      <td>1.875243</td>\n",
       "      <td>0.007033</td>\n",
       "      <td>1.202612</td>\n",
       "      <td>0.007883</td>\n",
       "    </tr>\n",
       "    <tr>\n",
       "      <th rowspan=\"8\" valign=\"top\">curatorMerge.csv</th>\n",
       "      <th>5</th>\n",
       "      <td>118.380875</td>\n",
       "      <td>0.558346</td>\n",
       "      <td>0.964546</td>\n",
       "      <td>0.004849</td>\n",
       "      <td>2.152393</td>\n",
       "      <td>0.004552</td>\n",
       "      <td>0.651421</td>\n",
       "      <td>0.003042</td>\n",
       "    </tr>\n",
       "    <tr>\n",
       "      <th>10</th>\n",
       "      <td>118.483660</td>\n",
       "      <td>0.558830</td>\n",
       "      <td>1.067331</td>\n",
       "      <td>0.005333</td>\n",
       "      <td>2.291177</td>\n",
       "      <td>0.004180</td>\n",
       "      <td>0.874006</td>\n",
       "      <td>0.004996</td>\n",
       "    </tr>\n",
       "    <tr>\n",
       "      <th>15</th>\n",
       "      <td>118.454796</td>\n",
       "      <td>0.558105</td>\n",
       "      <td>1.038467</td>\n",
       "      <td>0.004607</td>\n",
       "      <td>2.294212</td>\n",
       "      <td>0.005520</td>\n",
       "      <td>0.678768</td>\n",
       "      <td>0.003894</td>\n",
       "    </tr>\n",
       "    <tr>\n",
       "      <th>20</th>\n",
       "      <td>118.749524</td>\n",
       "      <td>0.560146</td>\n",
       "      <td>1.333195</td>\n",
       "      <td>0.006649</td>\n",
       "      <td>2.416294</td>\n",
       "      <td>0.004607</td>\n",
       "      <td>0.885658</td>\n",
       "      <td>0.004272</td>\n",
       "    </tr>\n",
       "    <tr>\n",
       "      <th>25</th>\n",
       "      <td>118.840388</td>\n",
       "      <td>0.559411</td>\n",
       "      <td>1.424059</td>\n",
       "      <td>0.005914</td>\n",
       "      <td>1.942317</td>\n",
       "      <td>0.004838</td>\n",
       "      <td>0.653098</td>\n",
       "      <td>0.003643</td>\n",
       "    </tr>\n",
       "    <tr>\n",
       "      <th>30</th>\n",
       "      <td>118.641973</td>\n",
       "      <td>0.559706</td>\n",
       "      <td>1.225644</td>\n",
       "      <td>0.006208</td>\n",
       "      <td>1.906536</td>\n",
       "      <td>0.004159</td>\n",
       "      <td>0.661357</td>\n",
       "      <td>0.004344</td>\n",
       "    </tr>\n",
       "    <tr>\n",
       "      <th>35</th>\n",
       "      <td>119.070082</td>\n",
       "      <td>0.561420</td>\n",
       "      <td>1.653753</td>\n",
       "      <td>0.007923</td>\n",
       "      <td>2.031375</td>\n",
       "      <td>0.005084</td>\n",
       "      <td>0.755662</td>\n",
       "      <td>0.003329</td>\n",
       "    </tr>\n",
       "    <tr>\n",
       "      <th>40</th>\n",
       "      <td>118.750376</td>\n",
       "      <td>0.560902</td>\n",
       "      <td>1.334047</td>\n",
       "      <td>0.007404</td>\n",
       "      <td>1.792639</td>\n",
       "      <td>0.002864</td>\n",
       "      <td>0.879763</td>\n",
       "      <td>0.004454</td>\n",
       "    </tr>\n",
       "  </tbody>\n",
       "</table>\n",
       "</div>\n",
       "      <button class=\"colab-df-convert\" onclick=\"convertToInteractive('df-70871fed-7886-4b41-b2f9-b2c6cd888059')\"\n",
       "              title=\"Convert this dataframe to an interactive table.\"\n",
       "              style=\"display:none;\">\n",
       "        \n",
       "  <svg xmlns=\"http://www.w3.org/2000/svg\" height=\"24px\"viewBox=\"0 0 24 24\"\n",
       "       width=\"24px\">\n",
       "    <path d=\"M0 0h24v24H0V0z\" fill=\"none\"/>\n",
       "    <path d=\"M18.56 5.44l.94 2.06.94-2.06 2.06-.94-2.06-.94-.94-2.06-.94 2.06-2.06.94zm-11 1L8.5 8.5l.94-2.06 2.06-.94-2.06-.94L8.5 2.5l-.94 2.06-2.06.94zm10 10l.94 2.06.94-2.06 2.06-.94-2.06-.94-.94-2.06-.94 2.06-2.06.94z\"/><path d=\"M17.41 7.96l-1.37-1.37c-.4-.4-.92-.59-1.43-.59-.52 0-1.04.2-1.43.59L10.3 9.45l-7.72 7.72c-.78.78-.78 2.05 0 2.83L4 21.41c.39.39.9.59 1.41.59.51 0 1.02-.2 1.41-.59l7.78-7.78 2.81-2.81c.8-.78.8-2.07 0-2.86zM5.41 20L4 18.59l7.72-7.72 1.47 1.35L5.41 20z\"/>\n",
       "  </svg>\n",
       "      </button>\n",
       "      \n",
       "  <style>\n",
       "    .colab-df-container {\n",
       "      display:flex;\n",
       "      flex-wrap:wrap;\n",
       "      gap: 12px;\n",
       "    }\n",
       "\n",
       "    .colab-df-convert {\n",
       "      background-color: #E8F0FE;\n",
       "      border: none;\n",
       "      border-radius: 50%;\n",
       "      cursor: pointer;\n",
       "      display: none;\n",
       "      fill: #1967D2;\n",
       "      height: 32px;\n",
       "      padding: 0 0 0 0;\n",
       "      width: 32px;\n",
       "    }\n",
       "\n",
       "    .colab-df-convert:hover {\n",
       "      background-color: #E2EBFA;\n",
       "      box-shadow: 0px 1px 2px rgba(60, 64, 67, 0.3), 0px 1px 3px 1px rgba(60, 64, 67, 0.15);\n",
       "      fill: #174EA6;\n",
       "    }\n",
       "\n",
       "    [theme=dark] .colab-df-convert {\n",
       "      background-color: #3B4455;\n",
       "      fill: #D2E3FC;\n",
       "    }\n",
       "\n",
       "    [theme=dark] .colab-df-convert:hover {\n",
       "      background-color: #434B5C;\n",
       "      box-shadow: 0px 1px 3px 1px rgba(0, 0, 0, 0.15);\n",
       "      filter: drop-shadow(0px 1px 2px rgba(0, 0, 0, 0.3));\n",
       "      fill: #FFFFFF;\n",
       "    }\n",
       "  </style>\n",
       "\n",
       "      <script>\n",
       "        const buttonEl =\n",
       "          document.querySelector('#df-70871fed-7886-4b41-b2f9-b2c6cd888059 button.colab-df-convert');\n",
       "        buttonEl.style.display =\n",
       "          google.colab.kernel.accessAllowed ? 'block' : 'none';\n",
       "\n",
       "        async function convertToInteractive(key) {\n",
       "          const element = document.querySelector('#df-70871fed-7886-4b41-b2f9-b2c6cd888059');\n",
       "          const dataTable =\n",
       "            await google.colab.kernel.invokeFunction('convertToInteractive',\n",
       "                                                     [key], {});\n",
       "          if (!dataTable) return;\n",
       "\n",
       "          const docLinkHtml = 'Like what you see? Visit the ' +\n",
       "            '<a target=\"_blank\" href=https://colab.research.google.com/notebooks/data_table.ipynb>data table notebook</a>'\n",
       "            + ' to learn more about interactive tables.';\n",
       "          element.innerHTML = '';\n",
       "          dataTable['output_type'] = 'display_data';\n",
       "          await google.colab.output.renderOutput(dataTable, element);\n",
       "          const docLink = document.createElement('div');\n",
       "          docLink.innerHTML = docLinkHtml;\n",
       "          element.appendChild(docLink);\n",
       "        }\n",
       "      </script>\n",
       "    </div>\n",
       "  </div>\n",
       "  "
      ],
      "text/plain": [
       "                             2_x_mean  3_x_mean  delta_rmse_mean  \\\n",
       "workflow            noise                                          \n",
       "baseline.csv        5      121.260545  0.571571         3.844216   \n",
       "                    10     122.306205  0.576674         4.889875   \n",
       "                    15     122.926988  0.585961         5.510659   \n",
       "                    20     124.508293  0.593210         7.091964   \n",
       "                    25     128.796545  0.615333        11.380216   \n",
       "                    30     129.487370  0.622321        12.071041   \n",
       "                    35     132.521405  0.646918        15.105076   \n",
       "                    40     138.543793  0.677504        21.127464   \n",
       "baselineAverage.csv 5      118.410110  0.561106         0.993781   \n",
       "                    10     119.109524  0.565298         1.693195   \n",
       "                    15     119.552737  0.566848         2.136408   \n",
       "                    20     120.041591  0.571610         2.625261   \n",
       "                    25     120.485007  0.572372         3.068678   \n",
       "                    30     120.600164  0.573835         3.183835   \n",
       "                    35     120.856798  0.575072         3.440469   \n",
       "                    40     120.829282  0.578939         3.412953   \n",
       "curatorC1.csv       5      118.364898  0.558481         0.948569   \n",
       "                    10     119.034239  0.561934         1.617910   \n",
       "                    15     119.062308  0.560309         1.645979   \n",
       "                    20     119.198770  0.563559         1.782440   \n",
       "                    25     119.262726  0.562555         1.846397   \n",
       "                    30     119.699651  0.566304         2.283322   \n",
       "                    35     120.018481  0.566254         2.602152   \n",
       "                    40     120.495245  0.569942         3.078916   \n",
       "curatorC2.csv       5      118.437691  0.558607         1.021362   \n",
       "                    10     119.256763  0.564094         1.840434   \n",
       "                    15     119.786884  0.565383         2.370555   \n",
       "                    20     119.988921  0.566857         2.572592   \n",
       "                    25     120.351575  0.568930         2.935246   \n",
       "                    30     120.723795  0.571471         3.307466   \n",
       "                    35     120.863471  0.574255         3.447142   \n",
       "                    40     122.106158  0.581906         4.689829   \n",
       "curatorC3.csv       5      118.420018  0.558552         1.003689   \n",
       "                    10     118.822032  0.560617         1.405703   \n",
       "                    15     119.408920  0.564252         1.992591   \n",
       "                    20     119.014227  0.561151         1.597898   \n",
       "                    25     119.097004  0.562341         1.680675   \n",
       "                    30     119.987072  0.566554         2.570743   \n",
       "                    35     119.948209  0.566945         2.531880   \n",
       "                    40     120.398796  0.570718         2.982467   \n",
       "curatorMerge.csv    5      118.380875  0.558346         0.964546   \n",
       "                    10     118.483660  0.558830         1.067331   \n",
       "                    15     118.454796  0.558105         1.038467   \n",
       "                    20     118.749524  0.560146         1.333195   \n",
       "                    25     118.840388  0.559411         1.424059   \n",
       "                    30     118.641973  0.559706         1.225644   \n",
       "                    35     119.070082  0.561420         1.653753   \n",
       "                    40     118.750376  0.560902         1.334047   \n",
       "\n",
       "                           delta_rmsle_mean   2_x_std   3_x_std  \\\n",
       "workflow            noise                                         \n",
       "baseline.csv        5              0.018073  2.081839  0.007627   \n",
       "                    10             0.023177  1.808380  0.005060   \n",
       "                    15             0.032463  2.463678  0.011437   \n",
       "                    20             0.039712  2.804299  0.011537   \n",
       "                    25             0.061836  4.900737  0.017840   \n",
       "                    30             0.068824  5.721321  0.017217   \n",
       "                    35             0.093421  6.839385  0.024580   \n",
       "                    40             0.124007  7.978921  0.026417   \n",
       "baselineAverage.csv 5              0.007609  1.972354  0.005561   \n",
       "                    10             0.011800  2.312056  0.006087   \n",
       "                    15             0.013350  1.974177  0.007265   \n",
       "                    20             0.018112  1.825536  0.005975   \n",
       "                    25             0.018874  2.506584  0.007287   \n",
       "                    30             0.020338  1.912715  0.006167   \n",
       "                    35             0.021574  2.205700  0.007375   \n",
       "                    40             0.025441  2.006367  0.005922   \n",
       "curatorC1.csv       5              0.004983  1.926109  0.003749   \n",
       "                    10             0.008437  2.500738  0.004857   \n",
       "                    15             0.006811  2.192957  0.005601   \n",
       "                    20             0.010062  2.276145  0.006707   \n",
       "                    25             0.009057  1.855694  0.005526   \n",
       "                    30             0.012807  1.892906  0.005933   \n",
       "                    35             0.012757  2.266622  0.008695   \n",
       "                    40             0.016444  1.407227  0.005276   \n",
       "curatorC2.csv       5              0.005110  1.942481  0.004047   \n",
       "                    10             0.010597  2.348118  0.004427   \n",
       "                    15             0.011886  2.270117  0.006647   \n",
       "                    20             0.013359  1.928924  0.007770   \n",
       "                    25             0.015432  2.246419  0.008037   \n",
       "                    30             0.017974  1.172864  0.008380   \n",
       "                    35             0.020757  2.135903  0.010463   \n",
       "                    40             0.028409  1.422873  0.005749   \n",
       "curatorC3.csv       5              0.005054  2.254986  0.004921   \n",
       "                    10             0.007120  2.046106  0.005353   \n",
       "                    15             0.010754  2.200128  0.005750   \n",
       "                    20             0.007654  1.671309  0.004875   \n",
       "                    25             0.008843  1.855034  0.005412   \n",
       "                    30             0.013057  1.841222  0.005209   \n",
       "                    35             0.013447  2.451810  0.009302   \n",
       "                    40             0.017220  1.875243  0.007033   \n",
       "curatorMerge.csv    5              0.004849  2.152393  0.004552   \n",
       "                    10             0.005333  2.291177  0.004180   \n",
       "                    15             0.004607  2.294212  0.005520   \n",
       "                    20             0.006649  2.416294  0.004607   \n",
       "                    25             0.005914  1.942317  0.004838   \n",
       "                    30             0.006208  1.906536  0.004159   \n",
       "                    35             0.007923  2.031375  0.005084   \n",
       "                    40             0.007404  1.792639  0.002864   \n",
       "\n",
       "                           delta_rmse_std  delta_rmsle_std  \n",
       "workflow            noise                                   \n",
       "baseline.csv        5            1.527401         0.008471  \n",
       "                    10           1.556932         0.008626  \n",
       "                    15           1.880763         0.011758  \n",
       "                    20           1.907674         0.007171  \n",
       "                    25           5.456137         0.018763  \n",
       "                    30           5.864756         0.018792  \n",
       "                    35           7.107096         0.025269  \n",
       "                    40           8.610738         0.025114  \n",
       "baselineAverage.csv 5            0.582540         0.005091  \n",
       "                    10           0.730839         0.005230  \n",
       "                    15           1.155012         0.005397  \n",
       "                    20           1.480949         0.006809  \n",
       "                    25           1.456404         0.005689  \n",
       "                    30           1.320020         0.005224  \n",
       "                    35           1.159024         0.004651  \n",
       "                    40           1.255674         0.007743  \n",
       "curatorC1.csv       5            0.922665         0.005206  \n",
       "                    10           0.908589         0.004867  \n",
       "                    15           0.733158         0.003979  \n",
       "                    20           1.205917         0.007333  \n",
       "                    25           1.259252         0.007091  \n",
       "                    30           0.971231         0.005282  \n",
       "                    35           1.014589         0.005366  \n",
       "                    40           2.099880         0.008384  \n",
       "curatorC2.csv       5            0.849580         0.005147  \n",
       "                    10           0.894583         0.004526  \n",
       "                    15           1.196581         0.006975  \n",
       "                    20           1.516258         0.007994  \n",
       "                    25           1.810627         0.009934  \n",
       "                    30           1.481505         0.009514  \n",
       "                    35           1.372855         0.009566  \n",
       "                    40           1.346554         0.008611  \n",
       "curatorC3.csv       5            0.656706         0.002818  \n",
       "                    10           0.701851         0.003862  \n",
       "                    15           0.995653         0.004881  \n",
       "                    20           1.081575         0.005703  \n",
       "                    25           1.358529         0.008588  \n",
       "                    30           0.859995         0.005654  \n",
       "                    35           1.497758         0.006909  \n",
       "                    40           1.202612         0.007883  \n",
       "curatorMerge.csv    5            0.651421         0.003042  \n",
       "                    10           0.874006         0.004996  \n",
       "                    15           0.678768         0.003894  \n",
       "                    20           0.885658         0.004272  \n",
       "                    25           0.653098         0.003643  \n",
       "                    30           0.661357         0.004344  \n",
       "                    35           0.755662         0.003329  \n",
       "                    40           0.879763         0.004454  "
      ]
     },
     "execution_count": 20,
     "metadata": {},
     "output_type": "execute_result"
    }
   ],
   "source": [
    "xx_compiled = compiled_results_noise.groupby([\"workflow\",\"noise\"])[[\"2_x\",\"3_x\",\"delta_rmse\",\"delta_rmsle\"]].mean().merge(compiled_results_noise.groupby([\"workflow\",\"noise\"])[[\"2_x\",\"3_x\",\"delta_rmse\",\"delta_rmsle\"]].std(),left_index=True,right_index=True,suffixes=(\"_mean\",\"_std\"))\n",
    "xx_compiled"
   ]
  },
  {
   "cell_type": "code",
   "execution_count": null,
   "metadata": {
    "colab": {
     "base_uri": "https://localhost:8080/",
     "height": 300
    },
    "id": "u1ozxIDLnQAM",
    "outputId": "e6fd72ee-082b-4286-8117-9b3df9b59859"
   },
   "outputs": [
    {
     "data": {
      "text/html": [
       "\n",
       "  <div id=\"df-9624fca2-bcb4-4dec-a6af-57d6f23c5d4a\">\n",
       "    <div class=\"colab-df-container\">\n",
       "      <div>\n",
       "<style scoped>\n",
       "    .dataframe tbody tr th:only-of-type {\n",
       "        vertical-align: middle;\n",
       "    }\n",
       "\n",
       "    .dataframe tbody tr th {\n",
       "        vertical-align: top;\n",
       "    }\n",
       "\n",
       "    .dataframe thead tr th {\n",
       "        text-align: left;\n",
       "    }\n",
       "\n",
       "    .dataframe thead tr:last-of-type th {\n",
       "        text-align: right;\n",
       "    }\n",
       "</style>\n",
       "<table border=\"1\" class=\"dataframe\">\n",
       "  <thead>\n",
       "    <tr>\n",
       "      <th></th>\n",
       "      <th colspan=\"8\" halign=\"left\">delta_rmse_mean</th>\n",
       "      <th colspan=\"8\" halign=\"left\">delta_rmse_std</th>\n",
       "    </tr>\n",
       "    <tr>\n",
       "      <th>noise</th>\n",
       "      <th>5</th>\n",
       "      <th>10</th>\n",
       "      <th>15</th>\n",
       "      <th>20</th>\n",
       "      <th>25</th>\n",
       "      <th>30</th>\n",
       "      <th>35</th>\n",
       "      <th>40</th>\n",
       "      <th>5</th>\n",
       "      <th>10</th>\n",
       "      <th>15</th>\n",
       "      <th>20</th>\n",
       "      <th>25</th>\n",
       "      <th>30</th>\n",
       "      <th>35</th>\n",
       "      <th>40</th>\n",
       "    </tr>\n",
       "    <tr>\n",
       "      <th>workflow</th>\n",
       "      <th></th>\n",
       "      <th></th>\n",
       "      <th></th>\n",
       "      <th></th>\n",
       "      <th></th>\n",
       "      <th></th>\n",
       "      <th></th>\n",
       "      <th></th>\n",
       "      <th></th>\n",
       "      <th></th>\n",
       "      <th></th>\n",
       "      <th></th>\n",
       "      <th></th>\n",
       "      <th></th>\n",
       "      <th></th>\n",
       "      <th></th>\n",
       "    </tr>\n",
       "  </thead>\n",
       "  <tbody>\n",
       "    <tr>\n",
       "      <th>baseline.csv</th>\n",
       "      <td>3.844216</td>\n",
       "      <td>4.889875</td>\n",
       "      <td>5.510659</td>\n",
       "      <td>7.091964</td>\n",
       "      <td>11.380216</td>\n",
       "      <td>12.071041</td>\n",
       "      <td>15.105076</td>\n",
       "      <td>21.127464</td>\n",
       "      <td>1.527401</td>\n",
       "      <td>1.556932</td>\n",
       "      <td>1.880763</td>\n",
       "      <td>1.907674</td>\n",
       "      <td>5.456137</td>\n",
       "      <td>5.864756</td>\n",
       "      <td>7.107096</td>\n",
       "      <td>8.610738</td>\n",
       "    </tr>\n",
       "    <tr>\n",
       "      <th>baselineAverage.csv</th>\n",
       "      <td>0.993781</td>\n",
       "      <td>1.693195</td>\n",
       "      <td>2.136408</td>\n",
       "      <td>2.625261</td>\n",
       "      <td>3.068678</td>\n",
       "      <td>3.183835</td>\n",
       "      <td>3.440469</td>\n",
       "      <td>3.412953</td>\n",
       "      <td>0.582540</td>\n",
       "      <td>0.730839</td>\n",
       "      <td>1.155012</td>\n",
       "      <td>1.480949</td>\n",
       "      <td>1.456404</td>\n",
       "      <td>1.320020</td>\n",
       "      <td>1.159024</td>\n",
       "      <td>1.255674</td>\n",
       "    </tr>\n",
       "    <tr>\n",
       "      <th>curatorC1.csv</th>\n",
       "      <td>0.948569</td>\n",
       "      <td>1.617910</td>\n",
       "      <td>1.645979</td>\n",
       "      <td>1.782440</td>\n",
       "      <td>1.846397</td>\n",
       "      <td>2.283322</td>\n",
       "      <td>2.602152</td>\n",
       "      <td>3.078916</td>\n",
       "      <td>0.922665</td>\n",
       "      <td>0.908589</td>\n",
       "      <td>0.733158</td>\n",
       "      <td>1.205917</td>\n",
       "      <td>1.259252</td>\n",
       "      <td>0.971231</td>\n",
       "      <td>1.014589</td>\n",
       "      <td>2.099880</td>\n",
       "    </tr>\n",
       "    <tr>\n",
       "      <th>curatorC2.csv</th>\n",
       "      <td>1.021362</td>\n",
       "      <td>1.840434</td>\n",
       "      <td>2.370555</td>\n",
       "      <td>2.572592</td>\n",
       "      <td>2.935246</td>\n",
       "      <td>3.307466</td>\n",
       "      <td>3.447142</td>\n",
       "      <td>4.689829</td>\n",
       "      <td>0.849580</td>\n",
       "      <td>0.894583</td>\n",
       "      <td>1.196581</td>\n",
       "      <td>1.516258</td>\n",
       "      <td>1.810627</td>\n",
       "      <td>1.481505</td>\n",
       "      <td>1.372855</td>\n",
       "      <td>1.346554</td>\n",
       "    </tr>\n",
       "    <tr>\n",
       "      <th>curatorC3.csv</th>\n",
       "      <td>1.003689</td>\n",
       "      <td>1.405703</td>\n",
       "      <td>1.992591</td>\n",
       "      <td>1.597898</td>\n",
       "      <td>1.680675</td>\n",
       "      <td>2.570743</td>\n",
       "      <td>2.531880</td>\n",
       "      <td>2.982467</td>\n",
       "      <td>0.656706</td>\n",
       "      <td>0.701851</td>\n",
       "      <td>0.995653</td>\n",
       "      <td>1.081575</td>\n",
       "      <td>1.358529</td>\n",
       "      <td>0.859995</td>\n",
       "      <td>1.497758</td>\n",
       "      <td>1.202612</td>\n",
       "    </tr>\n",
       "    <tr>\n",
       "      <th>curatorMerge.csv</th>\n",
       "      <td>0.964546</td>\n",
       "      <td>1.067331</td>\n",
       "      <td>1.038467</td>\n",
       "      <td>1.333195</td>\n",
       "      <td>1.424059</td>\n",
       "      <td>1.225644</td>\n",
       "      <td>1.653753</td>\n",
       "      <td>1.334047</td>\n",
       "      <td>0.651421</td>\n",
       "      <td>0.874006</td>\n",
       "      <td>0.678768</td>\n",
       "      <td>0.885658</td>\n",
       "      <td>0.653098</td>\n",
       "      <td>0.661357</td>\n",
       "      <td>0.755662</td>\n",
       "      <td>0.879763</td>\n",
       "    </tr>\n",
       "  </tbody>\n",
       "</table>\n",
       "</div>\n",
       "      <button class=\"colab-df-convert\" onclick=\"convertToInteractive('df-9624fca2-bcb4-4dec-a6af-57d6f23c5d4a')\"\n",
       "              title=\"Convert this dataframe to an interactive table.\"\n",
       "              style=\"display:none;\">\n",
       "        \n",
       "  <svg xmlns=\"http://www.w3.org/2000/svg\" height=\"24px\"viewBox=\"0 0 24 24\"\n",
       "       width=\"24px\">\n",
       "    <path d=\"M0 0h24v24H0V0z\" fill=\"none\"/>\n",
       "    <path d=\"M18.56 5.44l.94 2.06.94-2.06 2.06-.94-2.06-.94-.94-2.06-.94 2.06-2.06.94zm-11 1L8.5 8.5l.94-2.06 2.06-.94-2.06-.94L8.5 2.5l-.94 2.06-2.06.94zm10 10l.94 2.06.94-2.06 2.06-.94-2.06-.94-.94-2.06-.94 2.06-2.06.94z\"/><path d=\"M17.41 7.96l-1.37-1.37c-.4-.4-.92-.59-1.43-.59-.52 0-1.04.2-1.43.59L10.3 9.45l-7.72 7.72c-.78.78-.78 2.05 0 2.83L4 21.41c.39.39.9.59 1.41.59.51 0 1.02-.2 1.41-.59l7.78-7.78 2.81-2.81c.8-.78.8-2.07 0-2.86zM5.41 20L4 18.59l7.72-7.72 1.47 1.35L5.41 20z\"/>\n",
       "  </svg>\n",
       "      </button>\n",
       "      \n",
       "  <style>\n",
       "    .colab-df-container {\n",
       "      display:flex;\n",
       "      flex-wrap:wrap;\n",
       "      gap: 12px;\n",
       "    }\n",
       "\n",
       "    .colab-df-convert {\n",
       "      background-color: #E8F0FE;\n",
       "      border: none;\n",
       "      border-radius: 50%;\n",
       "      cursor: pointer;\n",
       "      display: none;\n",
       "      fill: #1967D2;\n",
       "      height: 32px;\n",
       "      padding: 0 0 0 0;\n",
       "      width: 32px;\n",
       "    }\n",
       "\n",
       "    .colab-df-convert:hover {\n",
       "      background-color: #E2EBFA;\n",
       "      box-shadow: 0px 1px 2px rgba(60, 64, 67, 0.3), 0px 1px 3px 1px rgba(60, 64, 67, 0.15);\n",
       "      fill: #174EA6;\n",
       "    }\n",
       "\n",
       "    [theme=dark] .colab-df-convert {\n",
       "      background-color: #3B4455;\n",
       "      fill: #D2E3FC;\n",
       "    }\n",
       "\n",
       "    [theme=dark] .colab-df-convert:hover {\n",
       "      background-color: #434B5C;\n",
       "      box-shadow: 0px 1px 3px 1px rgba(0, 0, 0, 0.15);\n",
       "      filter: drop-shadow(0px 1px 2px rgba(0, 0, 0, 0.3));\n",
       "      fill: #FFFFFF;\n",
       "    }\n",
       "  </style>\n",
       "\n",
       "      <script>\n",
       "        const buttonEl =\n",
       "          document.querySelector('#df-9624fca2-bcb4-4dec-a6af-57d6f23c5d4a button.colab-df-convert');\n",
       "        buttonEl.style.display =\n",
       "          google.colab.kernel.accessAllowed ? 'block' : 'none';\n",
       "\n",
       "        async function convertToInteractive(key) {\n",
       "          const element = document.querySelector('#df-9624fca2-bcb4-4dec-a6af-57d6f23c5d4a');\n",
       "          const dataTable =\n",
       "            await google.colab.kernel.invokeFunction('convertToInteractive',\n",
       "                                                     [key], {});\n",
       "          if (!dataTable) return;\n",
       "\n",
       "          const docLinkHtml = 'Like what you see? Visit the ' +\n",
       "            '<a target=\"_blank\" href=https://colab.research.google.com/notebooks/data_table.ipynb>data table notebook</a>'\n",
       "            + ' to learn more about interactive tables.';\n",
       "          element.innerHTML = '';\n",
       "          dataTable['output_type'] = 'display_data';\n",
       "          await google.colab.output.renderOutput(dataTable, element);\n",
       "          const docLink = document.createElement('div');\n",
       "          docLink.innerHTML = docLinkHtml;\n",
       "          element.appendChild(docLink);\n",
       "        }\n",
       "      </script>\n",
       "    </div>\n",
       "  </div>\n",
       "  "
      ],
      "text/plain": [
       "                    delta_rmse_mean                                           \\\n",
       "noise                            5         10        15        20         25   \n",
       "workflow                                                                       \n",
       "baseline.csv               3.844216  4.889875  5.510659  7.091964  11.380216   \n",
       "baselineAverage.csv        0.993781  1.693195  2.136408  2.625261   3.068678   \n",
       "curatorC1.csv              0.948569  1.617910  1.645979  1.782440   1.846397   \n",
       "curatorC2.csv              1.021362  1.840434  2.370555  2.572592   2.935246   \n",
       "curatorC3.csv              1.003689  1.405703  1.992591  1.597898   1.680675   \n",
       "curatorMerge.csv           0.964546  1.067331  1.038467  1.333195   1.424059   \n",
       "\n",
       "                                                     delta_rmse_std            \\\n",
       "noise                       30         35         40             5         10   \n",
       "workflow                                                                        \n",
       "baseline.csv         12.071041  15.105076  21.127464       1.527401  1.556932   \n",
       "baselineAverage.csv   3.183835   3.440469   3.412953       0.582540  0.730839   \n",
       "curatorC1.csv         2.283322   2.602152   3.078916       0.922665  0.908589   \n",
       "curatorC2.csv         3.307466   3.447142   4.689829       0.849580  0.894583   \n",
       "curatorC3.csv         2.570743   2.531880   2.982467       0.656706  0.701851   \n",
       "curatorMerge.csv      1.225644   1.653753   1.334047       0.651421  0.874006   \n",
       "\n",
       "                                                                       \\\n",
       "noise                      15        20        25        30        35   \n",
       "workflow                                                                \n",
       "baseline.csv         1.880763  1.907674  5.456137  5.864756  7.107096   \n",
       "baselineAverage.csv  1.155012  1.480949  1.456404  1.320020  1.159024   \n",
       "curatorC1.csv        0.733158  1.205917  1.259252  0.971231  1.014589   \n",
       "curatorC2.csv        1.196581  1.516258  1.810627  1.481505  1.372855   \n",
       "curatorC3.csv        0.995653  1.081575  1.358529  0.859995  1.497758   \n",
       "curatorMerge.csv     0.678768  0.885658  0.653098  0.661357  0.755662   \n",
       "\n",
       "                               \n",
       "noise                      40  \n",
       "workflow                       \n",
       "baseline.csv         8.610738  \n",
       "baselineAverage.csv  1.255674  \n",
       "curatorC1.csv        2.099880  \n",
       "curatorC2.csv        1.346554  \n",
       "curatorC3.csv        1.202612  \n",
       "curatorMerge.csv     0.879763  "
      ]
     },
     "execution_count": 21,
     "metadata": {},
     "output_type": "execute_result"
    }
   ],
   "source": [
    "xx_compiled[[\"delta_rmse_mean\",\"delta_rmse_std\"]].reset_index().pivot(index=\"workflow\",columns=\"noise\",values=[\"delta_rmse_mean\",\"delta_rmse_std\"]) #transpose() (index='noise', columns=\"workflow\", values='delta_rmse')"
   ]
  },
  {
   "cell_type": "code",
   "execution_count": null,
   "metadata": {
    "colab": {
     "base_uri": "https://localhost:8080/",
     "height": 505
    },
    "id": "nLRzp3cnODpA",
    "outputId": "8efbfc68-f5de-41f1-912f-ebd741a05237"
   },
   "outputs": [
    {
     "data": {
      "text/html": [
       "\n",
       "  <div id=\"df-f18a4da8-c9ca-46d2-9931-d869bbbc4106\">\n",
       "    <div class=\"colab-df-container\">\n",
       "      <div>\n",
       "<style scoped>\n",
       "    .dataframe tbody tr th:only-of-type {\n",
       "        vertical-align: middle;\n",
       "    }\n",
       "\n",
       "    .dataframe tbody tr th {\n",
       "        vertical-align: top;\n",
       "    }\n",
       "\n",
       "    .dataframe thead th {\n",
       "        text-align: right;\n",
       "    }\n",
       "</style>\n",
       "<table border=\"1\" class=\"dataframe\">\n",
       "  <thead>\n",
       "    <tr style=\"text-align: right;\">\n",
       "      <th></th>\n",
       "      <th>0</th>\n",
       "      <th>1</th>\n",
       "      <th>2_x</th>\n",
       "      <th>3_x</th>\n",
       "      <th>workflow</th>\n",
       "      <th>noise</th>\n",
       "      <th>Unnamed: 0</th>\n",
       "      <th>var</th>\n",
       "      <th>clean_file</th>\n",
       "      <th>ori_rows</th>\n",
       "      <th>clean_rows</th>\n",
       "      <th>completeness</th>\n",
       "      <th>accuracy</th>\n",
       "      <th>2_y</th>\n",
       "      <th>3_y</th>\n",
       "      <th>abs_delta_rmse</th>\n",
       "      <th>abs_delta_rmsle</th>\n",
       "      <th>delta_rmse</th>\n",
       "      <th>delta_rmsle</th>\n",
       "    </tr>\n",
       "  </thead>\n",
       "  <tbody>\n",
       "    <tr>\n",
       "      <th>0</th>\n",
       "      <td>split_0</td>\n",
       "      <td>train_noise_40.csv_cleaned_baseline.csv</td>\n",
       "      <td>139.390294</td>\n",
       "      <td>0.705012</td>\n",
       "      <td>baseline.csv</td>\n",
       "      <td>40</td>\n",
       "      <td>0.0</td>\n",
       "      <td>split_0</td>\n",
       "      <td>train_noise_40.csv_cleaned_baseline.csv</td>\n",
       "      <td>3015.0</td>\n",
       "      <td>222.0</td>\n",
       "      <td>0.073632</td>\n",
       "      <td>0.068546</td>\n",
       "      <td>119.363506</td>\n",
       "      <td>0.564748</td>\n",
       "      <td>20.026789</td>\n",
       "      <td>0.140264</td>\n",
       "      <td>20.026789</td>\n",
       "      <td>0.140264</td>\n",
       "    </tr>\n",
       "    <tr>\n",
       "      <th>1</th>\n",
       "      <td>split_0</td>\n",
       "      <td>train_noise_30.csv_cleaned_baseline.csv</td>\n",
       "      <td>125.391370</td>\n",
       "      <td>0.604890</td>\n",
       "      <td>baseline.csv</td>\n",
       "      <td>30</td>\n",
       "      <td>1.0</td>\n",
       "      <td>split_0</td>\n",
       "      <td>train_noise_30.csv_cleaned_baseline.csv</td>\n",
       "      <td>3015.0</td>\n",
       "      <td>462.0</td>\n",
       "      <td>0.153234</td>\n",
       "      <td>0.032338</td>\n",
       "      <td>119.363506</td>\n",
       "      <td>0.564748</td>\n",
       "      <td>6.027865</td>\n",
       "      <td>0.040142</td>\n",
       "      <td>6.027865</td>\n",
       "      <td>0.040142</td>\n",
       "    </tr>\n",
       "    <tr>\n",
       "      <th>2</th>\n",
       "      <td>split_0</td>\n",
       "      <td>train_noise_15.csv_cleaned_baseline.csv</td>\n",
       "      <td>123.282688</td>\n",
       "      <td>0.591287</td>\n",
       "      <td>baseline.csv</td>\n",
       "      <td>15</td>\n",
       "      <td>2.0</td>\n",
       "      <td>split_0</td>\n",
       "      <td>train_noise_15.csv_cleaned_baseline.csv</td>\n",
       "      <td>3015.0</td>\n",
       "      <td>1091.0</td>\n",
       "      <td>0.361857</td>\n",
       "      <td>0.103704</td>\n",
       "      <td>119.363506</td>\n",
       "      <td>0.564748</td>\n",
       "      <td>3.919182</td>\n",
       "      <td>0.026539</td>\n",
       "      <td>3.919182</td>\n",
       "      <td>0.026539</td>\n",
       "    </tr>\n",
       "    <tr>\n",
       "      <th>3</th>\n",
       "      <td>split_0</td>\n",
       "      <td>train_noise_25.csv_cleaned_baseline.csv</td>\n",
       "      <td>124.393162</td>\n",
       "      <td>0.594218</td>\n",
       "      <td>baseline.csv</td>\n",
       "      <td>25</td>\n",
       "      <td>3.0</td>\n",
       "      <td>split_0</td>\n",
       "      <td>train_noise_25.csv_cleaned_baseline.csv</td>\n",
       "      <td>3015.0</td>\n",
       "      <td>610.0</td>\n",
       "      <td>0.202322</td>\n",
       "      <td>0.033444</td>\n",
       "      <td>119.363506</td>\n",
       "      <td>0.564748</td>\n",
       "      <td>5.029656</td>\n",
       "      <td>0.029471</td>\n",
       "      <td>5.029656</td>\n",
       "      <td>0.029471</td>\n",
       "    </tr>\n",
       "    <tr>\n",
       "      <th>4</th>\n",
       "      <td>split_0</td>\n",
       "      <td>train_noise_10.csv_cleaned_baseline.csv</td>\n",
       "      <td>122.396085</td>\n",
       "      <td>0.568161</td>\n",
       "      <td>baseline.csv</td>\n",
       "      <td>10</td>\n",
       "      <td>4.0</td>\n",
       "      <td>split_0</td>\n",
       "      <td>train_noise_10.csv_cleaned_baseline.csv</td>\n",
       "      <td>3015.0</td>\n",
       "      <td>1419.0</td>\n",
       "      <td>0.470647</td>\n",
       "      <td>0.256440</td>\n",
       "      <td>119.363506</td>\n",
       "      <td>0.564748</td>\n",
       "      <td>3.032579</td>\n",
       "      <td>0.003413</td>\n",
       "      <td>3.032579</td>\n",
       "      <td>0.003413</td>\n",
       "    </tr>\n",
       "    <tr>\n",
       "      <th>...</th>\n",
       "      <td>...</td>\n",
       "      <td>...</td>\n",
       "      <td>...</td>\n",
       "      <td>...</td>\n",
       "      <td>...</td>\n",
       "      <td>...</td>\n",
       "      <td>...</td>\n",
       "      <td>...</td>\n",
       "      <td>...</td>\n",
       "      <td>...</td>\n",
       "      <td>...</td>\n",
       "      <td>...</td>\n",
       "      <td>...</td>\n",
       "      <td>...</td>\n",
       "      <td>...</td>\n",
       "      <td>...</td>\n",
       "      <td>...</td>\n",
       "      <td>...</td>\n",
       "      <td>...</td>\n",
       "    </tr>\n",
       "    <tr>\n",
       "      <th>475</th>\n",
       "      <td>split_3</td>\n",
       "      <td>train_noise_25.csv_cleaned_curatorMerge.csv</td>\n",
       "      <td>116.741344</td>\n",
       "      <td>0.554575</td>\n",
       "      <td>curatorMerge.csv</td>\n",
       "      <td>25</td>\n",
       "      <td>475.0</td>\n",
       "      <td>split_3</td>\n",
       "      <td>train_noise_25.csv_cleaned_curatorMerge.csv</td>\n",
       "      <td>3023.0</td>\n",
       "      <td>2734.0</td>\n",
       "      <td>0.904400</td>\n",
       "      <td>0.904069</td>\n",
       "      <td>115.413276</td>\n",
       "      <td>0.551257</td>\n",
       "      <td>1.328068</td>\n",
       "      <td>0.003318</td>\n",
       "      <td>1.328068</td>\n",
       "      <td>0.003318</td>\n",
       "    </tr>\n",
       "    <tr>\n",
       "      <th>476</th>\n",
       "      <td>split_3</td>\n",
       "      <td>train_noise_10.csv_cleaned_curatorMerge.csv</td>\n",
       "      <td>116.395109</td>\n",
       "      <td>0.554858</td>\n",
       "      <td>curatorMerge.csv</td>\n",
       "      <td>10</td>\n",
       "      <td>476.0</td>\n",
       "      <td>split_3</td>\n",
       "      <td>train_noise_10.csv_cleaned_curatorMerge.csv</td>\n",
       "      <td>3023.0</td>\n",
       "      <td>2903.0</td>\n",
       "      <td>0.960304</td>\n",
       "      <td>0.960249</td>\n",
       "      <td>115.413276</td>\n",
       "      <td>0.551257</td>\n",
       "      <td>0.981833</td>\n",
       "      <td>0.003601</td>\n",
       "      <td>0.981833</td>\n",
       "      <td>0.003601</td>\n",
       "    </tr>\n",
       "    <tr>\n",
       "      <th>477</th>\n",
       "      <td>split_3</td>\n",
       "      <td>train_noise_5.csv_cleaned_curatorMerge.csv</td>\n",
       "      <td>116.328570</td>\n",
       "      <td>0.554773</td>\n",
       "      <td>curatorMerge.csv</td>\n",
       "      <td>5</td>\n",
       "      <td>477.0</td>\n",
       "      <td>split_3</td>\n",
       "      <td>train_noise_5.csv_cleaned_curatorMerge.csv</td>\n",
       "      <td>3023.0</td>\n",
       "      <td>2963.0</td>\n",
       "      <td>0.980152</td>\n",
       "      <td>0.980097</td>\n",
       "      <td>115.413276</td>\n",
       "      <td>0.551257</td>\n",
       "      <td>0.915294</td>\n",
       "      <td>0.003516</td>\n",
       "      <td>0.915294</td>\n",
       "      <td>0.003516</td>\n",
       "    </tr>\n",
       "    <tr>\n",
       "      <th>478</th>\n",
       "      <td>split_3</td>\n",
       "      <td>train_noise_35.csv_cleaned_curatorMerge.csv</td>\n",
       "      <td>117.551430</td>\n",
       "      <td>0.557452</td>\n",
       "      <td>curatorMerge.csv</td>\n",
       "      <td>35</td>\n",
       "      <td>478.0</td>\n",
       "      <td>split_3</td>\n",
       "      <td>train_noise_35.csv_cleaned_curatorMerge.csv</td>\n",
       "      <td>3023.0</td>\n",
       "      <td>2591.0</td>\n",
       "      <td>0.857096</td>\n",
       "      <td>0.856544</td>\n",
       "      <td>115.413276</td>\n",
       "      <td>0.551257</td>\n",
       "      <td>2.138154</td>\n",
       "      <td>0.006195</td>\n",
       "      <td>2.138154</td>\n",
       "      <td>0.006195</td>\n",
       "    </tr>\n",
       "    <tr>\n",
       "      <th>479</th>\n",
       "      <td>split_3</td>\n",
       "      <td>train_noise_20.csv_cleaned_curatorMerge.csv</td>\n",
       "      <td>116.778429</td>\n",
       "      <td>0.557020</td>\n",
       "      <td>curatorMerge.csv</td>\n",
       "      <td>20</td>\n",
       "      <td>479.0</td>\n",
       "      <td>split_3</td>\n",
       "      <td>train_noise_20.csv_cleaned_curatorMerge.csv</td>\n",
       "      <td>3023.0</td>\n",
       "      <td>2777.0</td>\n",
       "      <td>0.918624</td>\n",
       "      <td>0.918569</td>\n",
       "      <td>115.413276</td>\n",
       "      <td>0.551257</td>\n",
       "      <td>1.365152</td>\n",
       "      <td>0.005763</td>\n",
       "      <td>1.365152</td>\n",
       "      <td>0.005763</td>\n",
       "    </tr>\n",
       "  </tbody>\n",
       "</table>\n",
       "<p>480 rows × 19 columns</p>\n",
       "</div>\n",
       "      <button class=\"colab-df-convert\" onclick=\"convertToInteractive('df-f18a4da8-c9ca-46d2-9931-d869bbbc4106')\"\n",
       "              title=\"Convert this dataframe to an interactive table.\"\n",
       "              style=\"display:none;\">\n",
       "        \n",
       "  <svg xmlns=\"http://www.w3.org/2000/svg\" height=\"24px\"viewBox=\"0 0 24 24\"\n",
       "       width=\"24px\">\n",
       "    <path d=\"M0 0h24v24H0V0z\" fill=\"none\"/>\n",
       "    <path d=\"M18.56 5.44l.94 2.06.94-2.06 2.06-.94-2.06-.94-.94-2.06-.94 2.06-2.06.94zm-11 1L8.5 8.5l.94-2.06 2.06-.94-2.06-.94L8.5 2.5l-.94 2.06-2.06.94zm10 10l.94 2.06.94-2.06 2.06-.94-2.06-.94-.94-2.06-.94 2.06-2.06.94z\"/><path d=\"M17.41 7.96l-1.37-1.37c-.4-.4-.92-.59-1.43-.59-.52 0-1.04.2-1.43.59L10.3 9.45l-7.72 7.72c-.78.78-.78 2.05 0 2.83L4 21.41c.39.39.9.59 1.41.59.51 0 1.02-.2 1.41-.59l7.78-7.78 2.81-2.81c.8-.78.8-2.07 0-2.86zM5.41 20L4 18.59l7.72-7.72 1.47 1.35L5.41 20z\"/>\n",
       "  </svg>\n",
       "      </button>\n",
       "      \n",
       "  <style>\n",
       "    .colab-df-container {\n",
       "      display:flex;\n",
       "      flex-wrap:wrap;\n",
       "      gap: 12px;\n",
       "    }\n",
       "\n",
       "    .colab-df-convert {\n",
       "      background-color: #E8F0FE;\n",
       "      border: none;\n",
       "      border-radius: 50%;\n",
       "      cursor: pointer;\n",
       "      display: none;\n",
       "      fill: #1967D2;\n",
       "      height: 32px;\n",
       "      padding: 0 0 0 0;\n",
       "      width: 32px;\n",
       "    }\n",
       "\n",
       "    .colab-df-convert:hover {\n",
       "      background-color: #E2EBFA;\n",
       "      box-shadow: 0px 1px 2px rgba(60, 64, 67, 0.3), 0px 1px 3px 1px rgba(60, 64, 67, 0.15);\n",
       "      fill: #174EA6;\n",
       "    }\n",
       "\n",
       "    [theme=dark] .colab-df-convert {\n",
       "      background-color: #3B4455;\n",
       "      fill: #D2E3FC;\n",
       "    }\n",
       "\n",
       "    [theme=dark] .colab-df-convert:hover {\n",
       "      background-color: #434B5C;\n",
       "      box-shadow: 0px 1px 3px 1px rgba(0, 0, 0, 0.15);\n",
       "      filter: drop-shadow(0px 1px 2px rgba(0, 0, 0, 0.3));\n",
       "      fill: #FFFFFF;\n",
       "    }\n",
       "  </style>\n",
       "\n",
       "      <script>\n",
       "        const buttonEl =\n",
       "          document.querySelector('#df-f18a4da8-c9ca-46d2-9931-d869bbbc4106 button.colab-df-convert');\n",
       "        buttonEl.style.display =\n",
       "          google.colab.kernel.accessAllowed ? 'block' : 'none';\n",
       "\n",
       "        async function convertToInteractive(key) {\n",
       "          const element = document.querySelector('#df-f18a4da8-c9ca-46d2-9931-d869bbbc4106');\n",
       "          const dataTable =\n",
       "            await google.colab.kernel.invokeFunction('convertToInteractive',\n",
       "                                                     [key], {});\n",
       "          if (!dataTable) return;\n",
       "\n",
       "          const docLinkHtml = 'Like what you see? Visit the ' +\n",
       "            '<a target=\"_blank\" href=https://colab.research.google.com/notebooks/data_table.ipynb>data table notebook</a>'\n",
       "            + ' to learn more about interactive tables.';\n",
       "          element.innerHTML = '';\n",
       "          dataTable['output_type'] = 'display_data';\n",
       "          await google.colab.output.renderOutput(dataTable, element);\n",
       "          const docLink = document.createElement('div');\n",
       "          docLink.innerHTML = docLinkHtml;\n",
       "          element.appendChild(docLink);\n",
       "        }\n",
       "      </script>\n",
       "    </div>\n",
       "  </div>\n",
       "  "
      ],
      "text/plain": [
       "           0                                            1         2_x  \\\n",
       "0    split_0      train_noise_40.csv_cleaned_baseline.csv  139.390294   \n",
       "1    split_0      train_noise_30.csv_cleaned_baseline.csv  125.391370   \n",
       "2    split_0      train_noise_15.csv_cleaned_baseline.csv  123.282688   \n",
       "3    split_0      train_noise_25.csv_cleaned_baseline.csv  124.393162   \n",
       "4    split_0      train_noise_10.csv_cleaned_baseline.csv  122.396085   \n",
       "..       ...                                          ...         ...   \n",
       "475  split_3  train_noise_25.csv_cleaned_curatorMerge.csv  116.741344   \n",
       "476  split_3  train_noise_10.csv_cleaned_curatorMerge.csv  116.395109   \n",
       "477  split_3   train_noise_5.csv_cleaned_curatorMerge.csv  116.328570   \n",
       "478  split_3  train_noise_35.csv_cleaned_curatorMerge.csv  117.551430   \n",
       "479  split_3  train_noise_20.csv_cleaned_curatorMerge.csv  116.778429   \n",
       "\n",
       "          3_x          workflow  noise  Unnamed: 0      var  \\\n",
       "0    0.705012      baseline.csv     40         0.0  split_0   \n",
       "1    0.604890      baseline.csv     30         1.0  split_0   \n",
       "2    0.591287      baseline.csv     15         2.0  split_0   \n",
       "3    0.594218      baseline.csv     25         3.0  split_0   \n",
       "4    0.568161      baseline.csv     10         4.0  split_0   \n",
       "..        ...               ...    ...         ...      ...   \n",
       "475  0.554575  curatorMerge.csv     25       475.0  split_3   \n",
       "476  0.554858  curatorMerge.csv     10       476.0  split_3   \n",
       "477  0.554773  curatorMerge.csv      5       477.0  split_3   \n",
       "478  0.557452  curatorMerge.csv     35       478.0  split_3   \n",
       "479  0.557020  curatorMerge.csv     20       479.0  split_3   \n",
       "\n",
       "                                      clean_file  ori_rows  clean_rows  \\\n",
       "0        train_noise_40.csv_cleaned_baseline.csv    3015.0       222.0   \n",
       "1        train_noise_30.csv_cleaned_baseline.csv    3015.0       462.0   \n",
       "2        train_noise_15.csv_cleaned_baseline.csv    3015.0      1091.0   \n",
       "3        train_noise_25.csv_cleaned_baseline.csv    3015.0       610.0   \n",
       "4        train_noise_10.csv_cleaned_baseline.csv    3015.0      1419.0   \n",
       "..                                           ...       ...         ...   \n",
       "475  train_noise_25.csv_cleaned_curatorMerge.csv    3023.0      2734.0   \n",
       "476  train_noise_10.csv_cleaned_curatorMerge.csv    3023.0      2903.0   \n",
       "477   train_noise_5.csv_cleaned_curatorMerge.csv    3023.0      2963.0   \n",
       "478  train_noise_35.csv_cleaned_curatorMerge.csv    3023.0      2591.0   \n",
       "479  train_noise_20.csv_cleaned_curatorMerge.csv    3023.0      2777.0   \n",
       "\n",
       "     completeness  accuracy         2_y       3_y  abs_delta_rmse  \\\n",
       "0        0.073632  0.068546  119.363506  0.564748       20.026789   \n",
       "1        0.153234  0.032338  119.363506  0.564748        6.027865   \n",
       "2        0.361857  0.103704  119.363506  0.564748        3.919182   \n",
       "3        0.202322  0.033444  119.363506  0.564748        5.029656   \n",
       "4        0.470647  0.256440  119.363506  0.564748        3.032579   \n",
       "..            ...       ...         ...       ...             ...   \n",
       "475      0.904400  0.904069  115.413276  0.551257        1.328068   \n",
       "476      0.960304  0.960249  115.413276  0.551257        0.981833   \n",
       "477      0.980152  0.980097  115.413276  0.551257        0.915294   \n",
       "478      0.857096  0.856544  115.413276  0.551257        2.138154   \n",
       "479      0.918624  0.918569  115.413276  0.551257        1.365152   \n",
       "\n",
       "     abs_delta_rmsle  delta_rmse  delta_rmsle  \n",
       "0           0.140264   20.026789     0.140264  \n",
       "1           0.040142    6.027865     0.040142  \n",
       "2           0.026539    3.919182     0.026539  \n",
       "3           0.029471    5.029656     0.029471  \n",
       "4           0.003413    3.032579     0.003413  \n",
       "..               ...         ...          ...  \n",
       "475         0.003318    1.328068     0.003318  \n",
       "476         0.003601    0.981833     0.003601  \n",
       "477         0.003516    0.915294     0.003516  \n",
       "478         0.006195    2.138154     0.006195  \n",
       "479         0.005763    1.365152     0.005763  \n",
       "\n",
       "[480 rows x 19 columns]"
      ]
     },
     "execution_count": 22,
     "metadata": {},
     "output_type": "execute_result"
    }
   ],
   "source": [
    "compiled_results_noise"
   ]
  },
  {
   "cell_type": "code",
   "execution_count": null,
   "metadata": {
    "id": "ukQkjmRgPbPl"
   },
   "outputs": [],
   "source": [
    "import statsmodels.api as sm"
   ]
  },
  {
   "cell_type": "code",
   "execution_count": null,
   "metadata": {
    "colab": {
     "base_uri": "https://localhost:8080/"
    },
    "id": "8QP-XGUINVwi",
    "outputId": "3ed05139-97fe-4d97-b9f1-d1a5d20b3fa6"
   },
   "outputs": [
    {
     "name": "stdout",
     "output_type": "stream",
     "text": [
      "                                 OLS Regression Results                                \n",
      "=======================================================================================\n",
      "Dep. Variable:                      y   R-squared (uncentered):                   0.839\n",
      "Model:                            OLS   Adj. R-squared (uncentered):              0.837\n",
      "Method:                 Least Squares   F-statistic:                              412.8\n",
      "Date:                Sun, 04 Jun 2023   Prob (F-statistic):                    4.15e-33\n",
      "Time:                        15:03:17   Log-Likelihood:                         -242.42\n",
      "No. Observations:                  80   AIC:                                      486.8\n",
      "Df Residuals:                      79   BIC:                                      489.2\n",
      "Df Model:                           1                                                  \n",
      "Covariance Type:            nonrobust                                                  \n",
      "==============================================================================\n",
      "                 coef    std err          t      P>|t|      [0.025      0.975]\n",
      "------------------------------------------------------------------------------\n",
      "x1             0.4535      0.022     20.319      0.000       0.409       0.498\n",
      "==============================================================================\n",
      "Omnibus:                       56.500   Durbin-Watson:                   1.761\n",
      "Prob(Omnibus):                  0.000   Jarque-Bera (JB):              273.912\n",
      "Skew:                           2.161   Prob(JB):                     3.32e-60\n",
      "Kurtosis:                      10.968   Cond. No.                         1.00\n",
      "==============================================================================\n",
      "\n",
      "Notes:\n",
      "[1] R² is computed without centering (uncentered) since the model does not contain a constant.\n",
      "[2] Standard Errors assume that the covariance matrix of the errors is correctly specified.\n"
     ]
    }
   ],
   "source": [
    "#X_train = sm.add_constant(compiled_results_noise[compiled_results_noise.workflow==\"baseline.csv\"][[\"noise\"]].values, prepend=False)\n",
    "X_train = compiled_results_noise[compiled_results_noise.workflow==\"baseline.csv\"][[\"noise\"]].values\n",
    "y_train = compiled_results_noise[compiled_results_noise.workflow==\"baseline.csv\"][\"delta_rmse\"].values\n",
    "# Fit and summarize OLS model\n",
    "mod = sm.OLS(y_train, X_train)\n",
    "res = mod.fit()\n",
    "print(res.summary())"
   ]
  },
  {
   "cell_type": "code",
   "execution_count": null,
   "metadata": {
    "colab": {
     "base_uri": "https://localhost:8080/"
    },
    "id": "YS34ou_bQXJD",
    "outputId": "c996d6e5-ecf1-4339-f6bd-f511316e3837"
   },
   "outputs": [
    {
     "name": "stdout",
     "output_type": "stream",
     "text": [
      "                                 OLS Regression Results                                \n",
      "=======================================================================================\n",
      "Dep. Variable:                      y   R-squared (uncentered):                   0.822\n",
      "Model:                            OLS   Adj. R-squared (uncentered):              0.820\n",
      "Method:                 Least Squares   F-statistic:                              365.4\n",
      "Date:                Sun, 04 Jun 2023   Prob (F-statistic):                    2.31e-31\n",
      "Time:                        15:03:31   Log-Likelihood:                         -130.27\n",
      "No. Observations:                  80   AIC:                                      262.5\n",
      "Df Residuals:                      79   BIC:                                      264.9\n",
      "Df Model:                           1                                                  \n",
      "Covariance Type:            nonrobust                                                  \n",
      "==============================================================================\n",
      "                 coef    std err          t      P>|t|      [0.025      0.975]\n",
      "------------------------------------------------------------------------------\n",
      "x1             0.1050      0.005     19.115      0.000       0.094       0.116\n",
      "==============================================================================\n",
      "Omnibus:                        0.758   Durbin-Watson:                   1.323\n",
      "Prob(Omnibus):                  0.684   Jarque-Bera (JB):                0.301\n",
      "Skew:                          -0.085   Prob(JB):                        0.860\n",
      "Kurtosis:                       3.248   Cond. No.                         1.00\n",
      "==============================================================================\n",
      "\n",
      "Notes:\n",
      "[1] R² is computed without centering (uncentered) since the model does not contain a constant.\n",
      "[2] Standard Errors assume that the covariance matrix of the errors is correctly specified.\n"
     ]
    }
   ],
   "source": [
    "#X_train = sm.add_constant(compiled_results_noise[compiled_results_noise.workflow==\"baselineAverage.csv\"][[\"noise\"]].values, prepend=False)\n",
    "X_train = compiled_results_noise[compiled_results_noise.workflow==\"baselineAverage.csv\"][[\"noise\"]].values\n",
    "y_train = compiled_results_noise[compiled_results_noise.workflow==\"baselineAverage.csv\"][\"delta_rmse\"].values\n",
    "# Fit and summarize OLS model\n",
    "mod = sm.OLS(y_train, X_train)\n",
    "res = mod.fit()\n",
    "print(res.summary())"
   ]
  },
  {
   "cell_type": "code",
   "execution_count": null,
   "metadata": {
    "colab": {
     "base_uri": "https://localhost:8080/"
    },
    "id": "BJ10_cAtQdqz",
    "outputId": "e7f34929-398c-4c00-f962-042dd7fb748b"
   },
   "outputs": [
    {
     "name": "stdout",
     "output_type": "stream",
     "text": [
      "                                 OLS Regression Results                                \n",
      "=======================================================================================\n",
      "Dep. Variable:                      y   R-squared (uncentered):                   0.737\n",
      "Model:                            OLS   Adj. R-squared (uncentered):              0.734\n",
      "Method:                 Least Squares   F-statistic:                              221.5\n",
      "Date:                Sun, 04 Jun 2023   Prob (F-statistic):                    1.25e-24\n",
      "Time:                        15:03:35   Log-Likelihood:                         -128.94\n",
      "No. Observations:                  80   AIC:                                      259.9\n",
      "Df Residuals:                      79   BIC:                                      262.3\n",
      "Df Model:                           1                                                  \n",
      "Covariance Type:            nonrobust                                                  \n",
      "==============================================================================\n",
      "                 coef    std err          t      P>|t|      [0.025      0.975]\n",
      "------------------------------------------------------------------------------\n",
      "x1             0.0804      0.005     14.883      0.000       0.070       0.091\n",
      "==============================================================================\n",
      "Omnibus:                        0.828   Durbin-Watson:                   1.572\n",
      "Prob(Omnibus):                  0.661   Jarque-Bera (JB):                0.605\n",
      "Skew:                          -0.213   Prob(JB):                        0.739\n",
      "Kurtosis:                       3.009   Cond. No.                         1.00\n",
      "==============================================================================\n",
      "\n",
      "Notes:\n",
      "[1] R² is computed without centering (uncentered) since the model does not contain a constant.\n",
      "[2] Standard Errors assume that the covariance matrix of the errors is correctly specified.\n"
     ]
    }
   ],
   "source": [
    "#X_train = sm.add_constant(compiled_results_noise[compiled_results_noise.workflow==\"curatorC1.csv\"][[\"noise\"]].values, prepend=False)\n",
    "X_train = compiled_results_noise[compiled_results_noise.workflow==\"curatorC1.csv\"][[\"noise\"]].values\n",
    "y_train = compiled_results_noise[compiled_results_noise.workflow==\"curatorC1.csv\"][\"delta_rmse\"].values\n",
    "# Fit and summarize OLS model\n",
    "mod = sm.OLS(y_train, X_train)\n",
    "res = mod.fit()\n",
    "print(res.summary())"
   ]
  },
  {
   "cell_type": "code",
   "execution_count": null,
   "metadata": {
    "colab": {
     "base_uri": "https://localhost:8080/"
    },
    "id": "yYh8aQgTQngj",
    "outputId": "3dfeee00-b970-4805-9e6f-5725a90323f6"
   },
   "outputs": [
    {
     "name": "stdout",
     "output_type": "stream",
     "text": [
      "                                 OLS Regression Results                                \n",
      "=======================================================================================\n",
      "Dep. Variable:                      y   R-squared (uncentered):                   0.825\n",
      "Model:                            OLS   Adj. R-squared (uncentered):              0.823\n",
      "Method:                 Least Squares   F-statistic:                              373.3\n",
      "Date:                Sun, 04 Jun 2023   Prob (F-statistic):                    1.14e-31\n",
      "Time:                        15:03:38   Log-Likelihood:                         -137.33\n",
      "No. Observations:                  80   AIC:                                      276.7\n",
      "Df Residuals:                      79   BIC:                                      279.0\n",
      "Df Model:                           1                                                  \n",
      "Covariance Type:            nonrobust                                                  \n",
      "==============================================================================\n",
      "                 coef    std err          t      P>|t|      [0.025      0.975]\n",
      "------------------------------------------------------------------------------\n",
      "x1             0.1160      0.006     19.322      0.000       0.104       0.128\n",
      "==============================================================================\n",
      "Omnibus:                        2.700   Durbin-Watson:                   1.775\n",
      "Prob(Omnibus):                  0.259   Jarque-Bera (JB):                2.139\n",
      "Skew:                          -0.391   Prob(JB):                        0.343\n",
      "Kurtosis:                       3.175   Cond. No.                         1.00\n",
      "==============================================================================\n",
      "\n",
      "Notes:\n",
      "[1] R² is computed without centering (uncentered) since the model does not contain a constant.\n",
      "[2] Standard Errors assume that the covariance matrix of the errors is correctly specified.\n"
     ]
    }
   ],
   "source": [
    "#X_train = sm.add_constant(compiled_results_noise[compiled_results_noise.workflow==\"curatorC2.csv\"][[\"noise\"]].values, prepend=False)\n",
    "X_train = compiled_results_noise[compiled_results_noise.workflow==\"curatorC2.csv\"][[\"noise\"]].values\n",
    "y_train = compiled_results_noise[compiled_results_noise.workflow==\"curatorC2.csv\"][\"delta_rmse\"].values\n",
    "# Fit and summarize OLS model\n",
    "mod = sm.OLS(y_train, X_train)\n",
    "res = mod.fit()\n",
    "print(res.summary())"
   ]
  },
  {
   "cell_type": "code",
   "execution_count": null,
   "metadata": {
    "colab": {
     "base_uri": "https://localhost:8080/"
    },
    "id": "-sB7wlWKQs9l",
    "outputId": "6e36b928-a1d6-4a34-9da0-6e5ddc705312"
   },
   "outputs": [
    {
     "name": "stdout",
     "output_type": "stream",
     "text": [
      "                                 OLS Regression Results                                \n",
      "=======================================================================================\n",
      "Dep. Variable:                      y   R-squared (uncentered):                   0.765\n",
      "Model:                            OLS   Adj. R-squared (uncentered):              0.762\n",
      "Method:                 Least Squares   F-statistic:                              257.0\n",
      "Date:                Sun, 04 Jun 2023   Prob (F-statistic):                    1.50e-26\n",
      "Time:                        15:03:38   Log-Likelihood:                         -122.58\n",
      "No. Observations:                  80   AIC:                                      247.2\n",
      "Df Residuals:                      79   BIC:                                      249.5\n",
      "Df Model:                           1                                                  \n",
      "Covariance Type:            nonrobust                                                  \n",
      "==============================================================================\n",
      "                 coef    std err          t      P>|t|      [0.025      0.975]\n",
      "------------------------------------------------------------------------------\n",
      "x1             0.0800      0.005     16.030      0.000       0.070       0.090\n",
      "==============================================================================\n",
      "Omnibus:                        0.240   Durbin-Watson:                   1.441\n",
      "Prob(Omnibus):                  0.887   Jarque-Bera (JB):                0.173\n",
      "Skew:                          -0.110   Prob(JB):                        0.917\n",
      "Kurtosis:                       2.941   Cond. No.                         1.00\n",
      "==============================================================================\n",
      "\n",
      "Notes:\n",
      "[1] R² is computed without centering (uncentered) since the model does not contain a constant.\n",
      "[2] Standard Errors assume that the covariance matrix of the errors is correctly specified.\n"
     ]
    }
   ],
   "source": [
    "#X_train = sm.add_constant(compiled_results_noise[compiled_results_noise.workflow==\"curatorC3.csv\"][[\"noise\"]].values, prepend=False)\n",
    "X_train = compiled_results_noise[compiled_results_noise.workflow==\"curatorC3.csv\"][[\"noise\"]].values\n",
    "y_train = compiled_results_noise[compiled_results_noise.workflow==\"curatorC3.csv\"][\"delta_rmse\"].values\n",
    "# Fit and summarize OLS model\n",
    "mod = sm.OLS(y_train, X_train)\n",
    "res = mod.fit()\n",
    "print(res.summary())"
   ]
  },
  {
   "cell_type": "code",
   "execution_count": null,
   "metadata": {
    "colab": {
     "base_uri": "https://localhost:8080/"
    },
    "id": "T41u-HXMQ1Wb",
    "outputId": "de2b264f-42ad-412b-ef40-0678bc90c158"
   },
   "outputs": [
    {
     "name": "stdout",
     "output_type": "stream",
     "text": [
      "                                 OLS Regression Results                                \n",
      "=======================================================================================\n",
      "Dep. Variable:                      y   R-squared (uncentered):                   0.666\n",
      "Model:                            OLS   Adj. R-squared (uncentered):              0.662\n",
      "Method:                 Least Squares   F-statistic:                              157.6\n",
      "Date:                Sun, 04 Jun 2023   Prob (F-statistic):                    1.67e-20\n",
      "Time:                        15:03:42   Log-Likelihood:                         -100.14\n",
      "No. Observations:                  80   AIC:                                      202.3\n",
      "Df Residuals:                      79   BIC:                                      204.7\n",
      "Df Model:                           1                                                  \n",
      "Covariance Type:            nonrobust                                                  \n",
      "==============================================================================\n",
      "                 coef    std err          t      P>|t|      [0.025      0.975]\n",
      "------------------------------------------------------------------------------\n",
      "x1             0.0473      0.004     12.553      0.000       0.040       0.055\n",
      "==============================================================================\n",
      "Omnibus:                        0.245   Durbin-Watson:                   0.821\n",
      "Prob(Omnibus):                  0.885   Jarque-Bera (JB):                0.027\n",
      "Skew:                           0.030   Prob(JB):                        0.987\n",
      "Kurtosis:                       3.066   Cond. No.                         1.00\n",
      "==============================================================================\n",
      "\n",
      "Notes:\n",
      "[1] R² is computed without centering (uncentered) since the model does not contain a constant.\n",
      "[2] Standard Errors assume that the covariance matrix of the errors is correctly specified.\n"
     ]
    }
   ],
   "source": [
    "#X_train = sm.add_constant(compiled_results_noise[compiled_results_noise.workflow==\"curatorMerge.csv\"][[\"noise\"]].values, prepend=False)\n",
    "X_train = compiled_results_noise[compiled_results_noise.workflow==\"curatorMerge.csv\"][[\"noise\"]].values\n",
    "y_train = compiled_results_noise[compiled_results_noise.workflow==\"curatorMerge.csv\"][\"delta_rmse\"].values\n",
    "# Fit and summarize OLS model\n",
    "mod = sm.OLS(y_train, X_train)\n",
    "res = mod.fit()\n",
    "print(res.summary())"
   ]
  },
  {
   "cell_type": "code",
   "execution_count": null,
   "metadata": {
    "colab": {
     "base_uri": "https://localhost:8080/",
     "height": 143
    },
    "id": "vbw4jPYG750l",
    "outputId": "0255a8fe-1161-4fd3-8fbb-1836b42e046c"
   },
   "outputs": [
    {
     "data": {
      "text/html": [
       "\n",
       "  <div id=\"df-6a6dd709-8d61-4a73-9eec-f933135314db\">\n",
       "    <div class=\"colab-df-container\">\n",
       "      <div>\n",
       "<style scoped>\n",
       "    .dataframe tbody tr th:only-of-type {\n",
       "        vertical-align: middle;\n",
       "    }\n",
       "\n",
       "    .dataframe tbody tr th {\n",
       "        vertical-align: top;\n",
       "    }\n",
       "\n",
       "    .dataframe thead th {\n",
       "        text-align: right;\n",
       "    }\n",
       "</style>\n",
       "<table border=\"1\" class=\"dataframe\">\n",
       "  <thead>\n",
       "    <tr style=\"text-align: right;\">\n",
       "      <th></th>\n",
       "      <th>accuracy</th>\n",
       "      <th>completeness</th>\n",
       "      <th>delta_rmse</th>\n",
       "    </tr>\n",
       "  </thead>\n",
       "  <tbody>\n",
       "    <tr>\n",
       "      <th>accuracy</th>\n",
       "      <td>1.000000</td>\n",
       "      <td>0.794181</td>\n",
       "      <td>-0.446795</td>\n",
       "    </tr>\n",
       "    <tr>\n",
       "      <th>completeness</th>\n",
       "      <td>0.794181</td>\n",
       "      <td>1.000000</td>\n",
       "      <td>-0.671788</td>\n",
       "    </tr>\n",
       "    <tr>\n",
       "      <th>delta_rmse</th>\n",
       "      <td>-0.446795</td>\n",
       "      <td>-0.671788</td>\n",
       "      <td>1.000000</td>\n",
       "    </tr>\n",
       "  </tbody>\n",
       "</table>\n",
       "</div>\n",
       "      <button class=\"colab-df-convert\" onclick=\"convertToInteractive('df-6a6dd709-8d61-4a73-9eec-f933135314db')\"\n",
       "              title=\"Convert this dataframe to an interactive table.\"\n",
       "              style=\"display:none;\">\n",
       "        \n",
       "  <svg xmlns=\"http://www.w3.org/2000/svg\" height=\"24px\"viewBox=\"0 0 24 24\"\n",
       "       width=\"24px\">\n",
       "    <path d=\"M0 0h24v24H0V0z\" fill=\"none\"/>\n",
       "    <path d=\"M18.56 5.44l.94 2.06.94-2.06 2.06-.94-2.06-.94-.94-2.06-.94 2.06-2.06.94zm-11 1L8.5 8.5l.94-2.06 2.06-.94-2.06-.94L8.5 2.5l-.94 2.06-2.06.94zm10 10l.94 2.06.94-2.06 2.06-.94-2.06-.94-.94-2.06-.94 2.06-2.06.94z\"/><path d=\"M17.41 7.96l-1.37-1.37c-.4-.4-.92-.59-1.43-.59-.52 0-1.04.2-1.43.59L10.3 9.45l-7.72 7.72c-.78.78-.78 2.05 0 2.83L4 21.41c.39.39.9.59 1.41.59.51 0 1.02-.2 1.41-.59l7.78-7.78 2.81-2.81c.8-.78.8-2.07 0-2.86zM5.41 20L4 18.59l7.72-7.72 1.47 1.35L5.41 20z\"/>\n",
       "  </svg>\n",
       "      </button>\n",
       "      \n",
       "  <style>\n",
       "    .colab-df-container {\n",
       "      display:flex;\n",
       "      flex-wrap:wrap;\n",
       "      gap: 12px;\n",
       "    }\n",
       "\n",
       "    .colab-df-convert {\n",
       "      background-color: #E8F0FE;\n",
       "      border: none;\n",
       "      border-radius: 50%;\n",
       "      cursor: pointer;\n",
       "      display: none;\n",
       "      fill: #1967D2;\n",
       "      height: 32px;\n",
       "      padding: 0 0 0 0;\n",
       "      width: 32px;\n",
       "    }\n",
       "\n",
       "    .colab-df-convert:hover {\n",
       "      background-color: #E2EBFA;\n",
       "      box-shadow: 0px 1px 2px rgba(60, 64, 67, 0.3), 0px 1px 3px 1px rgba(60, 64, 67, 0.15);\n",
       "      fill: #174EA6;\n",
       "    }\n",
       "\n",
       "    [theme=dark] .colab-df-convert {\n",
       "      background-color: #3B4455;\n",
       "      fill: #D2E3FC;\n",
       "    }\n",
       "\n",
       "    [theme=dark] .colab-df-convert:hover {\n",
       "      background-color: #434B5C;\n",
       "      box-shadow: 0px 1px 3px 1px rgba(0, 0, 0, 0.15);\n",
       "      filter: drop-shadow(0px 1px 2px rgba(0, 0, 0, 0.3));\n",
       "      fill: #FFFFFF;\n",
       "    }\n",
       "  </style>\n",
       "\n",
       "      <script>\n",
       "        const buttonEl =\n",
       "          document.querySelector('#df-6a6dd709-8d61-4a73-9eec-f933135314db button.colab-df-convert');\n",
       "        buttonEl.style.display =\n",
       "          google.colab.kernel.accessAllowed ? 'block' : 'none';\n",
       "\n",
       "        async function convertToInteractive(key) {\n",
       "          const element = document.querySelector('#df-6a6dd709-8d61-4a73-9eec-f933135314db');\n",
       "          const dataTable =\n",
       "            await google.colab.kernel.invokeFunction('convertToInteractive',\n",
       "                                                     [key], {});\n",
       "          if (!dataTable) return;\n",
       "\n",
       "          const docLinkHtml = 'Like what you see? Visit the ' +\n",
       "            '<a target=\"_blank\" href=https://colab.research.google.com/notebooks/data_table.ipynb>data table notebook</a>'\n",
       "            + ' to learn more about interactive tables.';\n",
       "          element.innerHTML = '';\n",
       "          dataTable['output_type'] = 'display_data';\n",
       "          await google.colab.output.renderOutput(dataTable, element);\n",
       "          const docLink = document.createElement('div');\n",
       "          docLink.innerHTML = docLinkHtml;\n",
       "          element.appendChild(docLink);\n",
       "        }\n",
       "      </script>\n",
       "    </div>\n",
       "  </div>\n",
       "  "
      ],
      "text/plain": [
       "              accuracy  completeness  delta_rmse\n",
       "accuracy      1.000000      0.794181   -0.446795\n",
       "completeness  0.794181      1.000000   -0.671788\n",
       "delta_rmse   -0.446795     -0.671788    1.000000"
      ]
     },
     "execution_count": 32,
     "metadata": {},
     "output_type": "execute_result"
    }
   ],
   "source": [
    "compiled_results_noise[[\"accuracy\",\"completeness\",\"delta_rmse\"]].corr()"
   ]
  },
  {
   "cell_type": "code",
   "execution_count": null,
   "metadata": {
    "id": "uTAlCw5wX3fX"
   },
   "outputs": [],
   "source": [
    "compiled_results_noise[\"accuracy_normal\"] = compiled_results_noise[\"accuracy\"]/compiled_results_noise[\"completeness\"]"
   ]
  },
  {
   "cell_type": "code",
   "execution_count": null,
   "metadata": {
    "colab": {
     "base_uri": "https://localhost:8080/"
    },
    "id": "POL874mmP-Uj",
    "outputId": "41614e1b-7382-45fa-8fd9-bcb4f00ffe4b"
   },
   "outputs": [
    {
     "data": {
      "text/plain": [
       "array([[0.07363184, 0.93093093],\n",
       "       [0.15323383, 0.21103896],\n",
       "       [0.36185738, 0.28658723],\n",
       "       [0.20232172, 0.16530055],\n",
       "       [0.47064677, 0.54486728],\n",
       "       [0.10878939, 0.41514228],\n",
       "       [0.62056385, 0.27944058],\n",
       "       [0.26036484, 0.21740977],\n",
       "       [1.        , 0.87860697],\n",
       "       [1.        , 0.6854063 ],\n",
       "       [1.        , 0.75975677],\n",
       "       [1.        , 0.79955777],\n",
       "       [1.        , 0.957822  ],\n",
       "       [1.        , 0.91796573],\n",
       "       [1.        , 0.72150359],\n",
       "       [1.        , 0.83919292],\n",
       "       [0.54859038, 0.99939541],\n",
       "       [0.63615257, 0.99930483],\n",
       "       [0.80729685, 0.99952068],\n",
       "       [0.68855721, 0.99967887],\n",
       "       [0.86865672, 0.99974545],\n",
       "       [0.93266998, 0.99994073],\n",
       "       [0.57810945, 0.99980876],\n",
       "       [0.74792703, 0.99970436],\n",
       "       [0.35190713, 0.55937795],\n",
       "       [0.45704809, 0.23850992],\n",
       "       [0.69021559, 0.29056543],\n",
       "       [0.52935323, 0.18462824],\n",
       "       [0.78606965, 0.27151899],\n",
       "       [0.88723051, 0.26928349],\n",
       "       [0.39502488, 0.21396586],\n",
       "       [0.6079602 , 0.23358793],\n",
       "       [0.53499171, 0.26875387],\n",
       "       [0.63913765, 0.20480886],\n",
       "       [0.80331675, 0.29087531],\n",
       "       [0.68723051, 0.19313063],\n",
       "       [0.86500829, 0.26795757],\n",
       "       [0.93034826, 0.26684492],\n",
       "       [0.59004975, 0.3803635 ],\n",
       "       [0.74295191, 0.22991071],\n",
       "       [0.84543947, 0.99941153],\n",
       "       [0.88391376, 0.99931207],\n",
       "       [0.94394693, 0.99953151],\n",
       "       [0.90580431, 0.99963383],\n",
       "       [0.96218905, 0.99977019],\n",
       "       [0.98208955, 0.99988743],\n",
       "       [0.86036484, 0.999743  ],\n",
       "       [0.92205638, 0.99976019],\n",
       "       [0.07419675, 0.27008929],\n",
       "       [0.1473998 , 0.49325843],\n",
       "       [0.35508447, 0.97294776],\n",
       "       [0.19344154, 0.96347032],\n",
       "       [0.46936072, 0.46389085],\n",
       "       [0.60119245, 0.20009183],\n",
       "       [0.26697582, 0.29445823],\n",
       "       [0.10599536, 0.94427083],\n",
       "       [1.        , 0.76035111],\n",
       "       [1.        , 0.68493983],\n",
       "       [1.        , 0.87827095],\n",
       "       [1.        , 0.79860881],\n",
       "       [1.        , 0.72374959],\n",
       "       [1.        , 0.91818483],\n",
       "       [1.        , 0.95815391],\n",
       "       [1.        , 0.83498951],\n",
       "       [0.54024511, 0.99948907],\n",
       "       [0.63332229, 0.99991283],\n",
       "       [0.8068897 , 0.99979475],\n",
       "       [0.86783703, 0.99987277],\n",
       "       [0.69228221, 0.99992026],\n",
       "       [0.92878437, 0.99958393],\n",
       "       [0.58065585, 0.99971477],\n",
       "       [0.75057966, 0.99977935],\n",
       "       [0.35044717, 0.17958412],\n",
       "       [0.45842994, 0.27697495],\n",
       "       [0.68830739, 0.29643888],\n",
       "       [0.53461411, 0.45539033],\n",
       "       [0.78602186, 0.39731704],\n",
       "       [0.88406757, 0.21649806],\n",
       "       [0.39913879, 0.39004149],\n",
       "       [0.61709175, 0.24011451],\n",
       "       [0.53593905, 0.18180882],\n",
       "       [0.63696588, 0.28029121],\n",
       "       [0.80026499, 0.3031181 ],\n",
       "       [0.69095727, 0.45525727],\n",
       "       [0.86485591, 0.39805949],\n",
       "       [0.93309043, 0.21843569],\n",
       "       [0.5886055 , 0.25558057],\n",
       "       [0.73733024, 0.30083857],\n",
       "       [0.84266313, 0.99941038],\n",
       "       [0.88241139, 0.99968719],\n",
       "       [0.94170255, 0.99982413],\n",
       "       [0.90062935, 0.99981611],\n",
       "       [0.96190792, 0.99982782],\n",
       "       [0.97747599, 0.99960465],\n",
       "       [0.85922491, 0.99980725],\n",
       "       [0.93143425, 0.99970365],\n",
       "       [0.07376778, 0.92675635],\n",
       "       [0.36453854, 0.28599516],\n",
       "       [0.15150513, 0.67066958],\n",
       "       [0.62355276, 0.44420866],\n",
       "       [0.47998677, 0.2626924 ],\n",
       "       [0.20310949, 0.88897937],\n",
       "       [0.26761495, 0.56880923],\n",
       "       [0.10850149, 0.27184959],\n",
       "       [1.        , 0.68761716],\n",
       "       [1.        , 0.87760503],\n",
       "       [1.        , 0.76287353],\n",
       "       [1.        , 0.79837909],\n",
       "       [1.        , 0.91691476],\n",
       "       [1.        , 0.95876061],\n",
       "       [1.        , 0.72218547],\n",
       "       [1.        , 0.83653104],\n",
       "       [0.53721469, 0.99979475],\n",
       "       [0.63380748, 0.99982603],\n",
       "       [0.80449884, 0.99972588],\n",
       "       [0.69368177, 0.99976156],\n",
       "       [0.86602713, 0.99993634],\n",
       "       [0.93119418, 1.        ],\n",
       "       [0.75256368, 0.99978022],\n",
       "       [0.58187231, 0.99952625],\n",
       "       [0.34402911, 0.36298077],\n",
       "       [0.46675488, 0.49244035],\n",
       "       [0.68640423, 0.28216867],\n",
       "       [0.53423751, 0.39587203],\n",
       "       [0.78001985, 0.25791631],\n",
       "       [0.88521336, 0.42046587],\n",
       "       [0.39960304, 0.29304636],\n",
       "       [0.60800529, 0.29733406],\n",
       "       [0.54217665, 0.19178361],\n",
       "       [0.63711545, 0.49428868],\n",
       "       [0.80416804, 0.2783491 ],\n",
       "       [0.69235858, 0.40523969],\n",
       "       [0.87098908, 0.25496898],\n",
       "       [0.93218657, 0.42228531],\n",
       "       [0.58716507, 0.28694836],\n",
       "       [0.7383394 , 0.30167264],\n",
       "       [0.84220973, 0.99954176],\n",
       "       [0.88190539, 0.99974994],\n",
       "       [0.93946411, 0.99970657],\n",
       "       [0.90373801, 0.99963397],\n",
       "       [0.95765796, 0.99994243],\n",
       "       [0.97915978, 0.99994369],\n",
       "       [0.85808799, 0.99955024],\n",
       "       [0.92788621, 0.99970291],\n",
       "       [0.07370518, 0.27102102],\n",
       "       [0.21447543, 0.17363261],\n",
       "       [0.14508632, 0.34134249],\n",
       "       [0.35491368, 0.2090739 ],\n",
       "       [0.63678619, 0.96289538],\n",
       "       [0.46812749, 0.86229314],\n",
       "       [0.26792829, 0.96654275],\n",
       "       [0.10956175, 0.17070707],\n",
       "       [1.        , 0.75968349],\n",
       "       [1.        , 0.87688136],\n",
       "       [1.        , 0.68675299],\n",
       "       [1.        , 0.7999668 ],\n",
       "       [1.        , 0.95932935],\n",
       "       [1.        , 0.91749668],\n",
       "       [1.        , 0.72454626],\n",
       "       [1.        , 0.83670872],\n",
       "       [0.53486056, 0.99968963],\n",
       "       [0.63313413, 0.9999126 ],\n",
       "       [0.80710491, 0.99986288],\n",
       "       [0.68426295, 0.9995148 ],\n",
       "       [0.86620186, 0.99980836],\n",
       "       [0.93260292, 1.        ],\n",
       "       [0.5876494 , 0.99981168],\n",
       "       [0.7440239 , 0.99992563],\n",
       "       [0.33200531, 0.44333333],\n",
       "       [0.45916335, 0.21583514],\n",
       "       [0.68924303, 0.21307001],\n",
       "       [0.52357238, 0.177658  ],\n",
       "       [0.7812085 , 0.58627284],\n",
       "       [0.88977424, 0.60914179],\n",
       "       [0.40305445, 0.34843493],\n",
       "       [0.60225764, 0.23511577],\n",
       "       [0.53685259, 0.25510204],\n",
       "       [0.63711819, 0.21756123],\n",
       "       [0.79548473, 0.21396772],\n",
       "       [0.69555113, 0.18385044],\n",
       "       [0.86454183, 0.37896825],\n",
       "       [0.93227092, 0.60921178],\n",
       "       [0.58499336, 0.34912978],\n",
       "       [0.74568393, 0.2227664 ],\n",
       "       [0.84063745, 0.99960506],\n",
       "       [0.87981408, 0.99981132],\n",
       "       [0.94687915, 0.99988312],\n",
       "       [0.89442231, 0.99944321],\n",
       "       [0.96082337, 0.99982723],\n",
       "       [0.97941567, 0.9999435 ],\n",
       "       [0.86686587, 0.9998085 ],\n",
       "       [0.9189907 , 0.99993979],\n",
       "       [0.07102742, 0.23333333],\n",
       "       [0.18896597, 0.81293706],\n",
       "       [0.34423522, 0.16426743],\n",
       "       [0.1456888 , 0.33862434],\n",
       "       [0.61116617, 0.73432432],\n",
       "       [0.47670961, 0.57461307],\n",
       "       [0.25900231, 0.69579082],\n",
       "       [0.10505451, 0.94234801],\n",
       "       [1.        , 0.68362515],\n",
       "       [1.        , 0.76010351],\n",
       "       [1.        , 0.8749587 ],\n",
       "       [1.        , 0.95743861],\n",
       "       [1.        , 0.91768528],\n",
       "       [1.        , 0.79627794],\n",
       "       [1.        , 0.83746283],\n",
       "       [1.        , 0.71968946],\n",
       "       [0.6366039 , 0.99982702],\n",
       "       [0.53551371, 0.99958873],\n",
       "       [0.68780971, 0.9998399 ],\n",
       "       [0.80244466, 0.99993138],\n",
       "       [0.92732078, 1.        ],\n",
       "       [0.86851668, 0.9999366 ],\n",
       "       [0.59729105, 0.9994469 ],\n",
       "       [0.74661381, 0.99992625],\n",
       "       [0.3435745 , 0.25560897],\n",
       "       [0.46349521, 0.33713471],\n",
       "       [0.68582755, 0.21523764],\n",
       "       [0.52857615, 0.236875  ],\n",
       "       [0.78427486, 0.29275484],\n",
       "       [0.88007929, 0.69732232],\n",
       "       [0.39973571, 0.51584022],\n",
       "       [0.60786257, 0.47898551],\n",
       "       [0.54839775, 0.25542169],\n",
       "       [0.64519326, 0.24893327],\n",
       "       [0.80178394, 0.22002472],\n",
       "       [0.69078295, 0.2494022 ],\n",
       "       [0.86290056, 0.29932363],\n",
       "       [0.93095474, 0.70250769],\n",
       "       [0.56491576, 0.47612086],\n",
       "       [0.74165841, 0.4874536 ],\n",
       "       [0.83548067, 0.99973639],\n",
       "       [0.87380244, 0.99968494],\n",
       "       [0.9378923 , 0.99994129],\n",
       "       [0.90254377, 0.99963397],\n",
       "       [0.96200859, 0.99994277],\n",
       "       [0.97621407, 1.        ],\n",
       "       [0.87677569, 0.99962321],\n",
       "       [0.92005286, 0.99982047],\n",
       "       [0.07147606, 0.34418605],\n",
       "       [0.15226064, 0.70160116],\n",
       "       [0.20844415, 0.9569378 ],\n",
       "       [0.36336436, 0.37023483],\n",
       "       [0.61868351, 0.19639979],\n",
       "       [0.48171543, 0.30814355],\n",
       "       [0.26861702, 0.45193894],\n",
       "       [0.09773936, 0.23072562],\n",
       "       [1.        , 0.75947473],\n",
       "       [1.        , 0.68423094],\n",
       "       [1.        , 0.95772385],\n",
       "       [1.        , 0.87727172],\n",
       "       [1.        , 0.79670878],\n",
       "       [1.        , 0.91771941],\n",
       "       [1.        , 0.83538342],\n",
       "       [1.        , 0.72174202],\n",
       "       [0.63730053, 0.99973918],\n",
       "       [0.53490691, 0.99968925],\n",
       "       [0.80485372, 0.99979347],\n",
       "       [0.86569149, 0.999936  ],\n",
       "       [0.69448138, 0.99936174],\n",
       "       [0.9325133 , 0.99988116],\n",
       "       [0.74534574, 0.99992566],\n",
       "       [0.58277926, 0.9996197 ],\n",
       "       [0.33577128, 0.19224422],\n",
       "       [0.45179521, 0.36975717],\n",
       "       [0.6875    , 0.19447131],\n",
       "       [0.52958777, 0.26522285],\n",
       "       [0.78224734, 0.18621618],\n",
       "       [0.88796543, 0.20747535],\n",
       "       [0.4012633 , 0.2412317 ],\n",
       "       [0.60106383, 0.21285029],\n",
       "       [0.53856383, 0.18899177],\n",
       "       [0.63863032, 0.33610967],\n",
       "       [0.80086436, 0.19579355],\n",
       "       [0.69148936, 0.23469551],\n",
       "       [0.86735372, 0.18845024],\n",
       "       [0.93085106, 0.20732143],\n",
       "       [0.59275266, 0.23967097],\n",
       "       [0.74833777, 0.21257219],\n",
       "       [0.83909574, 0.99966984],\n",
       "       [0.88231383, 0.99962321],\n",
       "       [0.94414894, 0.99982394],\n",
       "       [0.90325798, 0.99944792],\n",
       "       [0.96077128, 0.99994233],\n",
       "       [0.98071809, 0.99988701],\n",
       "       [0.86170213, 0.9995499 ],\n",
       "       [0.91821809, 0.99993966],\n",
       "       [0.15157546, 0.31363968],\n",
       "       [0.35190713, 0.44454917],\n",
       "       [0.07860697, 0.19831224],\n",
       "       [0.19237148, 0.46436782],\n",
       "       [0.48026534, 0.35600829],\n",
       "       [0.62288557, 0.49387646],\n",
       "       [0.10116086, 0.14972678],\n",
       "       [0.27031509, 0.28445808],\n",
       "       [1.        , 0.68573798],\n",
       "       [1.        , 0.80066335],\n",
       "       [1.        , 0.87628524],\n",
       "       [1.        , 0.76080708],\n",
       "       [1.        , 0.95820896],\n",
       "       [1.        , 0.72327253],\n",
       "       [1.        , 0.91807629],\n",
       "       [1.        , 0.83957988],\n",
       "       [0.53996683, 0.99969287],\n",
       "       [0.80298507, 0.99979347],\n",
       "       [0.64013267, 0.99939551],\n",
       "       [0.68988391, 0.99951923],\n",
       "       [0.93233831, 0.99994071],\n",
       "       [0.85837479, 0.9998712 ],\n",
       "       [0.58905473, 0.99953078],\n",
       "       [0.74461028, 0.99948033],\n",
       "       [0.33930348, 0.26441838],\n",
       "       [0.46235489, 0.25801052],\n",
       "       [0.68557214, 0.4340429 ],\n",
       "       [0.52769486, 0.20783574],\n",
       "       [0.77147595, 0.3070364 ],\n",
       "       [0.88689884, 0.83289703],\n",
       "       [0.41028192, 0.17744543],\n",
       "       [0.60961857, 0.45801596],\n",
       "       [0.54129353, 0.25868056],\n",
       "       [0.63648425, 0.1697933 ],\n",
       "       [0.80762852, 0.43935661],\n",
       "       [0.68822554, 0.21606426],\n",
       "       [0.87296849, 0.31104357],\n",
       "       [0.92968491, 0.83493876],\n",
       "       [0.58474295, 0.17422953],\n",
       "       [0.74427861, 0.31892454],\n",
       "       [0.84311774, 0.99954104],\n",
       "       [0.88424544, 0.99949987],\n",
       "       [0.93797678, 0.99970533],\n",
       "       [0.90315091, 0.99963276],\n",
       "       [0.95290216, 0.99982597],\n",
       "       [0.9800995 , 0.9999436 ],\n",
       "       [0.86401327, 0.99942418],\n",
       "       [0.92139303, 0.99958003],\n",
       "       [0.14384921, 0.37241379],\n",
       "       [0.07771164, 0.18510638],\n",
       "       [0.20601852, 0.19930444],\n",
       "       [0.36177249, 0.28199269],\n",
       "       [0.62533069, 0.99250837],\n",
       "       [0.10582011, 0.734375  ],\n",
       "       [0.47189153, 0.33450128],\n",
       "       [0.27678571, 0.5567503 ],\n",
       "       [1.        , 0.68242945],\n",
       "       [1.        , 0.79778439],\n",
       "       [1.        , 0.8776455 ],\n",
       "       [1.        , 0.75992063],\n",
       "       [1.        , 0.91710758],\n",
       "       [1.        , 0.95866402],\n",
       "       [1.        , 0.72056878],\n",
       "       [1.        , 0.83630952],\n",
       "       [0.63425926, 0.99939173],\n",
       "       [0.54034392, 0.999388  ],\n",
       "       [0.8042328 , 0.99979441],\n",
       "       [0.68716931, 0.99975938],\n",
       "       [0.86375661, 0.99987238],\n",
       "       [0.57572751, 0.99971281],\n",
       "       [0.92625661, 0.99988099],\n",
       "       [0.75033069, 0.99970618],\n",
       "       [0.34589947, 0.99952199],\n",
       "       [0.46230159, 0.36099189],\n",
       "       [0.68386243, 0.28030303],\n",
       "       [0.5244709 , 0.20155528],\n",
       "       [0.7771164 , 0.33333333],\n",
       "       [0.88128307, 0.92470294],\n",
       "       [0.39550265, 0.31702899],\n",
       "       [0.61044974, 0.26444565],\n",
       "       [0.53141534, 0.2303464 ],\n",
       "       [0.6412037 , 0.36255802],\n",
       "       [0.80092593, 0.27614919],\n",
       "       [0.69179894, 0.20267686],\n",
       "       [0.86375661, 0.33218479],\n",
       "       [0.93287037, 0.92549923],\n",
       "       [0.59126984, 0.23862789],\n",
       "       [0.73974868, 0.25920131],\n",
       "       [0.84391534, 0.99928161],\n",
       "       [0.8776455 , 0.99949761],\n",
       "       [0.93915344, 0.99976526],\n",
       "       [0.90277778, 0.99981685],\n",
       "       [0.95767196, 0.9998849 ],\n",
       "       [0.9755291 , 0.99988701],\n",
       "       [0.85251323, 0.99967675],\n",
       "       [0.92294974, 0.99976114],\n",
       "       [0.14758438, 0.22496263],\n",
       "       [0.36234282, 0.53363775],\n",
       "       [0.07743216, 0.66737892],\n",
       "       [0.20913302, 0.70015823],\n",
       "       [0.47650563, 0.18391204],\n",
       "       [0.6187955 , 0.43172906],\n",
       "       [0.10754467, 0.26461538],\n",
       "       [0.25678359, 0.53371993],\n",
       "       [1.        , 0.87690271],\n",
       "       [1.        , 0.68591441],\n",
       "       [1.        , 0.75943084],\n",
       "       [1.        , 0.95830576],\n",
       "       [1.        , 0.79980146],\n",
       "       [1.        , 0.91727333],\n",
       "       [1.        , 0.71994264],\n",
       "       [1.        , 0.83735936],\n",
       "       [0.53904699, 0.99959075],\n",
       "       [0.63997353, 0.99956911],\n",
       "       [0.80079418, 0.99993113],\n",
       "       [0.92786234, 0.99988112],\n",
       "       [0.86664461, 0.99980909],\n",
       "       [0.68994044, 0.99984013],\n",
       "       [0.58371939, 0.99981104],\n",
       "       [0.74090007, 0.99985112],\n",
       "       [0.35208471, 0.32174185],\n",
       "       [0.46095301, 0.24228284],\n",
       "       [0.68663137, 0.37911647],\n",
       "       [0.52911979, 0.41192412],\n",
       "       [0.78391794, 0.19178275],\n",
       "       [0.88318994, 0.40726864],\n",
       "       [0.39973527, 0.26752208],\n",
       "       [0.59993382, 0.43206472],\n",
       "       [0.54665784, 0.19935432],\n",
       "       [0.62772998, 0.24661747],\n",
       "       [0.80575778, 0.21957563],\n",
       "       [0.69391132, 0.39190908],\n",
       "       [0.86532098, 0.19241555],\n",
       "       [0.93282594, 0.41031098],\n",
       "       [0.58735936, 0.26338028],\n",
       "       [0.75512905, 0.42163307],\n",
       "       [0.83951026, 0.99960583],\n",
       "       [0.88947717, 0.99962798],\n",
       "       [0.93778954, 0.99994119],\n",
       "       [0.89741893, 0.99987709],\n",
       "       [0.96095301, 0.99982782],\n",
       "       [0.97749835, 0.99988716],\n",
       "       [0.8663137 , 0.99974535],\n",
       "       [0.91363336, 0.99987927],\n",
       "       [0.07972213, 0.29598893],\n",
       "       [0.35560701, 0.97333333],\n",
       "       [0.14621237, 0.51696833],\n",
       "       [0.46113133, 0.98338116],\n",
       "       [0.2146874 , 0.27067283],\n",
       "       [0.10883229, 0.87943262],\n",
       "       [0.61462124, 0.99147829],\n",
       "       [0.25835263, 0.58365344],\n",
       "       [1.        , 0.68326166],\n",
       "       [1.        , 0.75686404],\n",
       "       [1.        , 0.80008821],\n",
       "       [1.        , 0.87777043],\n",
       "       [1.        , 0.95771309],\n",
       "       [1.        , 0.91548131],\n",
       "       [1.        , 0.722406  ],\n",
       "       [1.        , 0.8369721 ],\n",
       "       [0.63314588, 0.99982584],\n",
       "       [0.53357592, 0.99969002],\n",
       "       [0.80119087, 1.        ],\n",
       "       [0.69500496, 0.99968269],\n",
       "       [0.93086338, 0.99994077],\n",
       "       [0.86536553, 1.        ],\n",
       "       [0.57922593, 0.9994289 ],\n",
       "       [0.74330136, 1.        ],\n",
       "       [0.33575918, 0.55073892],\n",
       "       [0.45650017, 0.3089372 ],\n",
       "       [0.68739663, 0.6340231 ],\n",
       "       [0.53225273, 0.28299151],\n",
       "       [0.78200463, 0.69881557],\n",
       "       [0.88620576, 0.55493343],\n",
       "       [0.38835594, 0.20741056],\n",
       "       [0.60271254, 0.55076839],\n",
       "       [0.53787628, 0.25348503],\n",
       "       [0.64737016, 0.30054505],\n",
       "       [0.80251406, 0.26298434],\n",
       "       [0.69467416, 0.28095238],\n",
       "       [0.86271915, 0.69491309],\n",
       "       [0.92954019, 0.55735469],\n",
       "       [0.58881905, 0.20720974],\n",
       "       [0.74859411, 0.54617764],\n",
       "       [0.84254052, 0.99967282],\n",
       "       [0.87429706, 0.99987388],\n",
       "       [0.94177969, 1.        ],\n",
       "       [0.9043996 , 0.99963424],\n",
       "       [0.96030433, 0.99994259],\n",
       "       [0.98015217, 0.99994375],\n",
       "       [0.8570956 , 0.99935675],\n",
       "       [0.91862388, 0.99993998]])"
      ]
     },
     "execution_count": 89,
     "metadata": {},
     "output_type": "execute_result"
    }
   ],
   "source": [
    "compiled_results_noise[[\"completeness\",\"accuracy_normal\"]].values"
   ]
  },
  {
   "cell_type": "code",
   "execution_count": null,
   "metadata": {
    "colab": {
     "base_uri": "https://localhost:8080/"
    },
    "id": "LvtF-tkWQEE0",
    "outputId": "6fdd25d6-78eb-4568-8b19-5480f790407c"
   },
   "outputs": [
    {
     "data": {
      "text/plain": [
       "array([[ 2.00267886e+01],\n",
       "       [ 6.02786472e+00],\n",
       "       [ 3.91918217e+00],\n",
       "       [ 5.02965623e+00],\n",
       "       [ 3.03257926e+00],\n",
       "       [ 1.04088510e+01],\n",
       "       [ 1.44185898e+00],\n",
       "       [ 7.42362266e+00],\n",
       "       [ 4.45804669e-01],\n",
       "       [ 2.22025887e+00],\n",
       "       [ 1.93964081e+00],\n",
       "       [ 3.77752788e+00],\n",
       "       [ 4.64779114e-01],\n",
       "       [ 5.29295734e-01],\n",
       "       [ 2.34557476e+00],\n",
       "       [ 5.32583812e-02],\n",
       "       [ 1.71025176e+00],\n",
       "       [ 3.16088767e+00],\n",
       "       [ 5.76168681e-01],\n",
       "       [ 9.56234771e-01],\n",
       "       [ 5.14926267e-01],\n",
       "       [-6.59403360e-01],\n",
       "       [ 2.12370867e+00],\n",
       "       [-6.05109808e-01],\n",
       "       [ 3.25312031e+00],\n",
       "       [ 3.46162270e+00],\n",
       "       [ 8.86368772e-01],\n",
       "       [ 1.00158588e+00],\n",
       "       [ 1.56954855e+00],\n",
       "       [-2.82779849e-01],\n",
       "       [ 2.64062822e+00],\n",
       "       [ 3.74130908e-01],\n",
       "       [ 1.86818416e+00],\n",
       "       [ 1.33892360e+00],\n",
       "       [ 9.91956692e-01],\n",
       "       [ 8.53187370e-02],\n",
       "       [ 1.00075046e+00],\n",
       "       [ 6.63368869e-01],\n",
       "       [ 1.88113033e+00],\n",
       "       [ 9.43368427e-02],\n",
       "       [-2.45399352e-01],\n",
       "       [ 5.02960240e-01],\n",
       "       [ 2.01229772e-01],\n",
       "       [ 2.50874295e-01],\n",
       "       [-2.23333073e-01],\n",
       "       [-1.11345656e-02],\n",
       "       [ 3.68364587e-01],\n",
       "       [-2.08908139e-01],\n",
       "       [ 1.84758120e+01],\n",
       "       [ 8.54957324e+00],\n",
       "       [ 7.02265987e+00],\n",
       "       [ 1.16534870e+01],\n",
       "       [ 5.30563874e+00],\n",
       "       [ 4.91703908e+00],\n",
       "       [ 9.66206130e+00],\n",
       "       [ 2.16953385e+01],\n",
       "       [ 3.48211279e-01],\n",
       "       [ 1.35343593e+00],\n",
       "       [ 3.25169999e+00],\n",
       "       [ 4.05266432e+00],\n",
       "       [ 5.20304953e+00],\n",
       "       [ 2.21579467e+00],\n",
       "       [ 7.21232674e-01],\n",
       "       [ 1.89692281e+00],\n",
       "       [ 9.82222962e-01],\n",
       "       [ 7.06149181e-01],\n",
       "       [ 1.55064338e+00],\n",
       "       [ 2.82169844e+00],\n",
       "       [ 4.01291057e-01],\n",
       "       [-5.31998420e-01],\n",
       "       [ 3.51563143e+00],\n",
       "       [ 1.44917855e+00],\n",
       "       [ 3.31687970e+00],\n",
       "       [ 1.37148856e+00],\n",
       "       [ 1.85090973e+00],\n",
       "       [ 5.15198861e+00],\n",
       "       [ 1.78792573e+00],\n",
       "       [ 8.06867031e-02],\n",
       "       [ 5.88305109e+00],\n",
       "       [ 9.14281391e-01],\n",
       "       [ 1.93696843e+00],\n",
       "       [ 1.88949079e+00],\n",
       "       [ 3.01295091e+00],\n",
       "       [ 2.26544273e+00],\n",
       "       [ 1.57016803e+00],\n",
       "       [ 1.22235776e+00],\n",
       "       [ 5.65728705e+00],\n",
       "       [ 1.59395188e+00],\n",
       "       [ 7.86176083e-01],\n",
       "       [ 9.86020939e-01],\n",
       "       [ 1.70984081e+00],\n",
       "       [ 1.27810447e+00],\n",
       "       [ 1.67511031e+00],\n",
       "       [ 1.18418243e+00],\n",
       "       [ 1.62505499e+00],\n",
       "       [ 1.77567306e+00],\n",
       "       [ 1.95492270e+01],\n",
       "       [ 2.84511318e+00],\n",
       "       [ 2.21934323e+01],\n",
       "       [ 3.18738611e+00],\n",
       "       [ 3.97845194e+00],\n",
       "       [ 7.86344737e+00],\n",
       "       [ 8.42735915e+00],\n",
       "       [ 9.21323135e+00],\n",
       "       [ 2.68337762e+00],\n",
       "       [ 8.09365767e-01],\n",
       "       [ 2.66222219e+00],\n",
       "       [ 2.40389441e+00],\n",
       "       [ 1.46065988e+00],\n",
       "       [ 6.54075714e-01],\n",
       "       [ 1.90619262e+00],\n",
       "       [ 1.35437522e+00],\n",
       "       [ 1.47570006e+00],\n",
       "       [ 2.78593555e+00],\n",
       "       [ 1.15426654e+00],\n",
       "       [ 3.45092115e+00],\n",
       "       [ 1.99071318e+00],\n",
       "       [ 8.02295564e-01],\n",
       "       [ 2.69662546e+00],\n",
       "       [ 4.56791966e-01],\n",
       "       [ 3.81736749e+00],\n",
       "       [ 3.10835290e+00],\n",
       "       [ 8.89619648e-01],\n",
       "       [ 3.72610017e+00],\n",
       "       [ 2.15978709e+00],\n",
       "       [ 9.33776833e-01],\n",
       "       [ 9.99502654e-01],\n",
       "       [ 4.41411606e+00],\n",
       "       [ 2.92305453e+00],\n",
       "       [ 2.48397978e+00],\n",
       "       [ 5.57102613e-01],\n",
       "       [ 4.92390051e-01],\n",
       "       [ 1.47186640e+00],\n",
       "       [ 5.82625479e-01],\n",
       "       [ 1.74513741e+00],\n",
       "       [ 2.02947847e+00],\n",
       "       [ 9.75191698e-01],\n",
       "       [ 4.86860684e-01],\n",
       "       [ 7.55029860e-01],\n",
       "       [ 1.06054849e+00],\n",
       "       [ 6.70102994e-01],\n",
       "       [ 1.11172860e-01],\n",
       "       [ 5.85029738e-01],\n",
       "       [ 7.59161690e-01],\n",
       "       [ 2.33665091e+01],\n",
       "       [ 7.57512576e+00],\n",
       "       [ 9.13750818e+00],\n",
       "       [ 5.41548396e+00],\n",
       "       [ 4.23916546e+00],\n",
       "       [ 7.13462930e+00],\n",
       "       [ 7.09051892e+00],\n",
       "       [ 1.63778601e+01],\n",
       "       [ 3.34479871e+00],\n",
       "       [ 4.43625683e+00],\n",
       "       [ 2.32295064e+00],\n",
       "       [ 2.20253009e+00],\n",
       "       [ 1.61425649e+00],\n",
       "       [ 1.77321745e+00],\n",
       "       [ 3.81623849e+00],\n",
       "       [ 4.45693663e+00],\n",
       "       [ 5.46632721e+00],\n",
       "       [ 2.74531307e+00],\n",
       "       [ 2.39839560e+00],\n",
       "       [ 1.65220938e+00],\n",
       "       [ 1.37455754e+00],\n",
       "       [ 1.33259542e+00],\n",
       "       [ 3.55745770e+00],\n",
       "       [ 1.37808391e+00],\n",
       "       [ 6.22175390e+00],\n",
       "       [ 6.39703785e+00],\n",
       "       [ 2.58168757e+00],\n",
       "       [ 3.12103289e+00],\n",
       "       [ 1.81060699e+00],\n",
       "       [ 1.77861269e+00],\n",
       "       [ 3.86662184e+00],\n",
       "       [ 2.30662107e+00],\n",
       "       [ 3.48990700e+00],\n",
       "       [ 4.30861319e+00],\n",
       "       [ 1.79760951e+00],\n",
       "       [ 4.04141472e+00],\n",
       "       [ 1.68156573e+00],\n",
       "       [ 1.42927521e+00],\n",
       "       [ 3.20089542e+00],\n",
       "       [ 2.26432552e+00],\n",
       "       [ 1.94282087e+00],\n",
       "       [ 1.99866582e+00],\n",
       "       [ 1.63654536e+00],\n",
       "       [ 1.97581478e+00],\n",
       "       [ 1.64596590e+00],\n",
       "       [ 1.05255497e+00],\n",
       "       [ 2.44839198e+00],\n",
       "       [ 1.17523502e+00],\n",
       "       [ 1.16690544e+01],\n",
       "       [ 1.86559738e+01],\n",
       "       [ 2.82638767e+00],\n",
       "       [ 1.02283936e+01],\n",
       "       [ 1.90188434e+00],\n",
       "       [ 3.59380977e+00],\n",
       "       [ 4.29886961e+00],\n",
       "       [ 1.03880846e+01],\n",
       "       [ 3.56033469e+00],\n",
       "       [ 3.31511067e+00],\n",
       "       [ 2.47745064e+00],\n",
       "       [ 1.05683832e+00],\n",
       "       [ 1.07644106e+00],\n",
       "       [ 2.79529305e+00],\n",
       "       [ 1.31850143e+00],\n",
       "       [ 3.18316212e+00],\n",
       "       [ 1.17627113e+00],\n",
       "       [ 2.28923555e+00],\n",
       "       [ 2.75420797e+00],\n",
       "       [ 1.00112638e+00],\n",
       "       [ 1.21063103e+00],\n",
       "       [ 9.93306393e-01],\n",
       "       [ 3.55589575e+00],\n",
       "       [ 1.79162698e+00],\n",
       "       [ 4.54839415e+00],\n",
       "       [ 3.66565644e+00],\n",
       "       [ 1.63162239e+00],\n",
       "       [ 2.89805980e+00],\n",
       "       [ 1.26173251e+00],\n",
       "       [-1.45434643e-01],\n",
       "       [ 3.95032133e+00],\n",
       "       [ 2.72912641e+00],\n",
       "       [ 1.21332098e+00],\n",
       "       [ 2.33063191e+00],\n",
       "       [ 1.14968754e+00],\n",
       "       [ 1.01579896e+00],\n",
       "       [ 1.20770107e+00],\n",
       "       [-1.40229597e-02],\n",
       "       [ 3.66028493e+00],\n",
       "       [ 1.21408350e+00],\n",
       "       [ 1.76348356e+00],\n",
       "       [ 9.85990924e-01],\n",
       "       [ 6.47666343e-01],\n",
       "       [ 1.72517455e+00],\n",
       "       [ 7.22964307e-01],\n",
       "       [ 9.30466322e-01],\n",
       "       [ 1.53386431e+00],\n",
       "       [ 1.25929067e+00],\n",
       "       [ 1.57192411e+01],\n",
       "       [ 8.08405800e+00],\n",
       "       [ 8.36162400e+00],\n",
       "       [ 5.31764890e+00],\n",
       "       [ 5.22221275e+00],\n",
       "       [ 6.56869916e+00],\n",
       "       [ 5.64111612e+00],\n",
       "       [ 1.46476692e+01],\n",
       "       [ 3.85191011e+00],\n",
       "       [ 4.28636902e+00],\n",
       "       [ 2.35976665e+00],\n",
       "       [ 1.66862858e+00],\n",
       "       [ 4.17769072e+00],\n",
       "       [ 3.24992053e+00],\n",
       "       [ 3.96175266e+00],\n",
       "       [ 3.79535645e+00],\n",
       "       [ 2.21867027e+00],\n",
       "       [ 4.64172630e+00],\n",
       "       [ 2.65904815e+00],\n",
       "       [ 3.30991614e+00],\n",
       "       [ 3.05462702e+00],\n",
       "       [ 2.20801434e+00],\n",
       "       [ 3.43875417e+00],\n",
       "       [ 2.50063220e+00],\n",
       "       [ 6.86758965e+00],\n",
       "       [ 2.49649475e+00],\n",
       "       [ 3.97753422e+00],\n",
       "       [ 4.51003714e+00],\n",
       "       [ 3.56532847e+00],\n",
       "       [ 2.11599460e+00],\n",
       "       [ 3.88946716e+00],\n",
       "       [ 4.00757008e+00],\n",
       "       [ 4.10437664e+00],\n",
       "       [ 3.64390976e+00],\n",
       "       [ 2.91468235e+00],\n",
       "       [ 3.68639638e+00],\n",
       "       [ 2.13981385e+00],\n",
       "       [ 2.33227067e+00],\n",
       "       [ 2.99097595e+00],\n",
       "       [ 2.71821957e+00],\n",
       "       [ 2.66172960e+00],\n",
       "       [ 2.60779659e+00],\n",
       "       [ 2.24079052e+00],\n",
       "       [ 2.74670723e+00],\n",
       "       [ 2.80294455e+00],\n",
       "       [ 2.15066829e+00],\n",
       "       [ 2.26681238e+00],\n",
       "       [ 2.79059779e+00],\n",
       "       [ 1.12966936e+01],\n",
       "       [ 5.89307332e+00],\n",
       "       [ 1.68794443e+01],\n",
       "       [ 6.34840613e+00],\n",
       "       [ 3.72650347e+00],\n",
       "       [ 2.65717665e+00],\n",
       "       [ 1.17615217e+01],\n",
       "       [ 4.85590237e+00],\n",
       "       [ 4.32596812e+00],\n",
       "       [ 1.58620152e+00],\n",
       "       [ 2.60238492e+00],\n",
       "       [ 4.53116317e+00],\n",
       "       [ 7.18215445e-01],\n",
       "       [ 3.42111346e+00],\n",
       "       [ 2.09320944e+00],\n",
       "       [ 3.35768344e+00],\n",
       "       [ 3.17883649e-01],\n",
       "       [ 2.76720349e+00],\n",
       "       [ 1.35861427e+00],\n",
       "       [ 1.87961310e-01],\n",
       "       [ 1.84433048e+00],\n",
       "       [ 1.71306162e+00],\n",
       "       [ 3.69342676e+00],\n",
       "       [ 2.40204126e+00],\n",
       "       [ 2.95684582e+00],\n",
       "       [ 1.27940108e+00],\n",
       "       [ 4.09737133e+00],\n",
       "       [-1.01578588e+00],\n",
       "       [ 1.98705775e+00],\n",
       "       [ 1.57577396e+00],\n",
       "       [ 1.67127227e+00],\n",
       "       [ 1.51917889e+00],\n",
       "       [ 2.76175630e+00],\n",
       "       [ 2.74057575e+00],\n",
       "       [ 2.13457163e+00],\n",
       "       [ 4.23189573e-01],\n",
       "       [ 1.09717451e+00],\n",
       "       [ 1.42522663e+00],\n",
       "       [ 7.78041573e-02],\n",
       "       [-5.81016976e-01],\n",
       "       [ 1.20000890e+00],\n",
       "       [ 1.07719753e+00],\n",
       "       [ 1.45128303e+00],\n",
       "       [ 1.36535137e+00],\n",
       "       [ 1.54253374e+00],\n",
       "       [ 1.58423465e+00],\n",
       "       [ 2.55587569e+00],\n",
       "       [ 2.60988300e+00],\n",
       "       [ 7.70785403e+00],\n",
       "       [ 1.99231697e+01],\n",
       "       [ 1.98415695e+01],\n",
       "       [ 5.92392143e+00],\n",
       "       [ 4.14017274e+00],\n",
       "       [ 1.06843696e+01],\n",
       "       [ 3.16097256e+00],\n",
       "       [ 6.66912108e+00],\n",
       "       [ 3.46554528e+00],\n",
       "       [ 1.69499113e+00],\n",
       "       [ 1.65561833e+00],\n",
       "       [ 3.52192497e+00],\n",
       "       [ 1.66270259e+00],\n",
       "       [ 6.21001012e-01],\n",
       "       [ 1.87043460e+00],\n",
       "       [ 2.07606070e+00],\n",
       "       [ 2.59564274e+00],\n",
       "       [ 4.27819415e+00],\n",
       "       [ 1.24994139e+00],\n",
       "       [ 4.96547402e-01],\n",
       "       [ 4.95880641e-01],\n",
       "       [ 2.01011801e+00],\n",
       "       [ 7.32379232e-01],\n",
       "       [ 3.53509459e-01],\n",
       "       [ 5.06828904e+00],\n",
       "       [ 3.62145089e+00],\n",
       "       [ 1.46811075e+00],\n",
       "       [ 2.27851639e+00],\n",
       "       [ 1.20468118e-01],\n",
       "       [ 1.18793605e+00],\n",
       "       [ 3.59195467e+00],\n",
       "       [ 1.47708021e+00],\n",
       "       [ 2.49525151e+00],\n",
       "       [ 2.04933442e+00],\n",
       "       [ 1.51778029e+00],\n",
       "       [ 1.06978241e+00],\n",
       "       [ 6.50199183e-02],\n",
       "       [ 3.86765710e-01],\n",
       "       [ 2.01203480e+00],\n",
       "       [ 2.35807890e+00],\n",
       "       [ 6.82684048e-01],\n",
       "       [ 8.65845128e-01],\n",
       "       [ 5.95122192e-01],\n",
       "       [ 1.03739100e+00],\n",
       "       [ 1.40748383e-01],\n",
       "       [ 4.97777726e-01],\n",
       "       [ 1.84812567e+00],\n",
       "       [ 9.18361196e-01],\n",
       "       [ 1.54543849e+01],\n",
       "       [ 7.63198345e+00],\n",
       "       [ 2.18936635e+01],\n",
       "       [ 1.77998669e+01],\n",
       "       [ 6.36801936e+00],\n",
       "       [ 4.45189911e+00],\n",
       "       [ 1.35315823e+01],\n",
       "       [ 1.01006999e+01],\n",
       "       [ 1.87072113e+00],\n",
       "       [ 4.49455128e+00],\n",
       "       [ 5.02475258e+00],\n",
       "       [ 6.62470759e-01],\n",
       "       [ 6.15559703e+00],\n",
       "       [ 1.53830930e+00],\n",
       "       [ 5.00901493e+00],\n",
       "       [ 3.66577112e+00],\n",
       "       [ 2.94313261e+00],\n",
       "       [ 2.19735684e+00],\n",
       "       [ 1.51832804e+00],\n",
       "       [ 1.26324291e+00],\n",
       "       [ 1.54674877e+00],\n",
       "       [ 3.12309552e+00],\n",
       "       [ 2.45690314e+00],\n",
       "       [ 2.15126430e+00],\n",
       "       [ 5.05350611e+00],\n",
       "       [ 3.18877013e+00],\n",
       "       [ 3.18180173e+00],\n",
       "       [ 3.96343560e+00],\n",
       "       [ 1.51089753e+00],\n",
       "       [ 1.53709104e+00],\n",
       "       [ 3.98046006e+00],\n",
       "       [ 3.20967376e+00],\n",
       "       [ 3.79372727e+00],\n",
       "       [ 2.22331830e+00],\n",
       "       [ 2.13847313e+00],\n",
       "       [ 1.50862192e+00],\n",
       "       [ 1.14354635e+00],\n",
       "       [ 9.95775880e-01],\n",
       "       [ 2.63125030e+00],\n",
       "       [ 1.74801513e+00],\n",
       "       [ 1.12653636e+00],\n",
       "       [ 1.21278577e+00],\n",
       "       [ 2.91386792e-01],\n",
       "       [ 1.47255479e+00],\n",
       "       [ 7.14438480e-01],\n",
       "       [ 1.23024589e+00],\n",
       "       [ 1.16785381e+00],\n",
       "       [ 8.87499761e-01],\n",
       "       [ 4.37717331e+01],\n",
       "       [ 8.31113498e+00],\n",
       "       [ 2.20306435e+01],\n",
       "       [ 6.02945088e+00],\n",
       "       [ 1.06730022e+01],\n",
       "       [ 3.23422542e+01],\n",
       "       [ 6.28336655e+00],\n",
       "       [ 6.75036656e+00],\n",
       "       [ 5.41673444e+00],\n",
       "       [ 3.29861928e+00],\n",
       "       [ 1.84038880e+00],\n",
       "       [ 2.14615011e+00],\n",
       "       [ 1.06517155e+00],\n",
       "       [ 1.33239945e+00],\n",
       "       [ 3.85455662e+00],\n",
       "       [ 4.11135190e+00],\n",
       "       [ 3.88837740e+00],\n",
       "       [ 6.68448147e+00],\n",
       "       [ 1.58466558e+00],\n",
       "       [ 2.38687594e+00],\n",
       "       [ 1.28360081e+00],\n",
       "       [ 1.41829127e+00],\n",
       "       [ 2.15095744e+00],\n",
       "       [ 2.76843045e+00],\n",
       "       [ 5.79454268e+00],\n",
       "       [ 4.48438779e+00],\n",
       "       [ 3.14052351e+00],\n",
       "       [ 3.71749132e+00],\n",
       "       [ 2.63098373e+00],\n",
       "       [ 1.43195967e+00],\n",
       "       [ 3.99814456e+00],\n",
       "       [ 4.77414098e+00],\n",
       "       [ 5.23812142e+00],\n",
       "       [ 2.69865140e+00],\n",
       "       [ 3.71109568e+00],\n",
       "       [ 2.21839254e+00],\n",
       "       [ 2.67942349e+00],\n",
       "       [ 1.01324431e+00],\n",
       "       [ 1.46199937e+00],\n",
       "       [ 2.53950841e+00],\n",
       "       [ 2.44723723e+00],\n",
       "       [ 1.53231988e+00],\n",
       "       [ 8.55770891e-01],\n",
       "       [ 1.32806807e+00],\n",
       "       [ 9.81832975e-01],\n",
       "       [ 9.15293574e-01],\n",
       "       [ 2.13815412e+00],\n",
       "       [ 1.36515249e+00]])"
      ]
     },
     "execution_count": 90,
     "metadata": {},
     "output_type": "execute_result"
    }
   ],
   "source": [
    "compiled_results_noise[[\"delta_rmse\"]].values"
   ]
  },
  {
   "cell_type": "code",
   "execution_count": null,
   "metadata": {
    "colab": {
     "base_uri": "https://localhost:8080/"
    },
    "id": "q5HGXBzsPcaT",
    "outputId": "43ba22a2-fc18-4cf0-8378-a10ac25eb200"
   },
   "outputs": [
    {
     "name": "stdout",
     "output_type": "stream",
     "text": [
      "                            OLS Regression Results                            \n",
      "==============================================================================\n",
      "Dep. Variable:                      y   R-squared:                       0.448\n",
      "Model:                            OLS   Adj. R-squared:                  0.439\n",
      "Method:                 Least Squares   F-statistic:                     47.15\n",
      "Date:                Wed, 31 May 2023   Prob (F-statistic):           4.91e-09\n",
      "Time:                        19:33:46   Log-Likelihood:                -189.47\n",
      "No. Observations:                  60   AIC:                             382.9\n",
      "Df Residuals:                      58   BIC:                             387.1\n",
      "Df Model:                           1                                         \n",
      "Covariance Type:            nonrobust                                         \n",
      "==============================================================================\n",
      "                 coef    std err          t      P>|t|      [0.025      0.975]\n",
      "------------------------------------------------------------------------------\n",
      "x1           -16.8590      2.455     -6.867      0.000     -21.774     -11.944\n",
      "const         15.4821      1.557      9.945      0.000      12.366      18.598\n",
      "==============================================================================\n",
      "Omnibus:                       53.091   Durbin-Watson:                   1.390\n",
      "Prob(Omnibus):                  0.000   Jarque-Bera (JB):              297.991\n",
      "Skew:                           2.391   Prob(JB):                     1.96e-65\n",
      "Kurtosis:                      12.815   Cond. No.                         4.38\n",
      "==============================================================================\n",
      "\n",
      "Notes:\n",
      "[1] Standard Errors assume that the covariance matrix of the errors is correctly specified.\n"
     ]
    }
   ],
   "source": [
    "X_train = sm.add_constant(compiled_results_noise[compiled_results_noise.noise==40][[\"completeness\"]].values, prepend=False)\n",
    "y_train = compiled_results_noise[compiled_results_noise.noise==40][\"delta_rmse\"].values\n",
    "# Fit and summarize OLS model\n",
    "mod = sm.OLS(y_train, X_train)\n",
    "res = mod.fit()\n",
    "print(res.summary())"
   ]
  },
  {
   "cell_type": "code",
   "execution_count": null,
   "metadata": {
    "colab": {
     "base_uri": "https://localhost:8080/"
    },
    "id": "tmwKrNF7R8nl",
    "outputId": "35aff627-4a6c-4bc9-d60c-08e47deafdee"
   },
   "outputs": [
    {
     "name": "stdout",
     "output_type": "stream",
     "text": [
      "                            OLS Regression Results                            \n",
      "==============================================================================\n",
      "Dep. Variable:                      y   R-squared:                       0.053\n",
      "Model:                            OLS   Adj. R-squared:                  0.036\n",
      "Method:                 Least Squares   F-statistic:                     3.214\n",
      "Date:                Wed, 31 May 2023   Prob (F-statistic):             0.0782\n",
      "Time:                        19:33:58   Log-Likelihood:                -205.70\n",
      "No. Observations:                  60   AIC:                             415.4\n",
      "Df Residuals:                      58   BIC:                             419.6\n",
      "Df Model:                           1                                         \n",
      "Covariance Type:            nonrobust                                         \n",
      "==============================================================================\n",
      "                 coef    std err          t      P>|t|      [0.025      0.975]\n",
      "------------------------------------------------------------------------------\n",
      "x1            -5.3341      2.975     -1.793      0.078     -11.290       0.622\n",
      "const          7.6246      1.296      5.885      0.000       5.031      10.218\n",
      "==============================================================================\n",
      "Omnibus:                       50.677   Durbin-Watson:                   2.213\n",
      "Prob(Omnibus):                  0.000   Jarque-Bera (JB):              213.838\n",
      "Skew:                           2.427   Prob(JB):                     3.68e-47\n",
      "Kurtosis:                      10.872   Cond. No.                         3.31\n",
      "==============================================================================\n",
      "\n",
      "Notes:\n",
      "[1] Standard Errors assume that the covariance matrix of the errors is correctly specified.\n"
     ]
    }
   ],
   "source": [
    "X_train = sm.add_constant(compiled_results_noise[compiled_results_noise.noise==40][[\"accuracy\"]].values, prepend=False)\n",
    "y_train = compiled_results_noise[compiled_results_noise.noise==40][\"delta_rmse\"].values\n",
    "# Fit and summarize OLS model\n",
    "mod = sm.OLS(y_train, X_train)\n",
    "res = mod.fit()\n",
    "print(res.summary())"
   ]
  },
  {
   "cell_type": "code",
   "execution_count": null,
   "metadata": {
    "colab": {
     "base_uri": "https://localhost:8080/"
    },
    "id": "cufnZDWOYK5m",
    "outputId": "0d72ec09-4bec-422d-dcc1-69e5475319c0"
   },
   "outputs": [
    {
     "name": "stdout",
     "output_type": "stream",
     "text": [
      "                            OLS Regression Results                            \n",
      "==============================================================================\n",
      "Dep. Variable:                      y   R-squared:                       0.053\n",
      "Model:                            OLS   Adj. R-squared:                  0.036\n",
      "Method:                 Least Squares   F-statistic:                     3.214\n",
      "Date:                Wed, 31 May 2023   Prob (F-statistic):             0.0782\n",
      "Time:                        19:34:33   Log-Likelihood:                -205.70\n",
      "No. Observations:                  60   AIC:                             415.4\n",
      "Df Residuals:                      58   BIC:                             419.6\n",
      "Df Model:                           1                                         \n",
      "Covariance Type:            nonrobust                                         \n",
      "==============================================================================\n",
      "                 coef    std err          t      P>|t|      [0.025      0.975]\n",
      "------------------------------------------------------------------------------\n",
      "x1            -5.3341      2.975     -1.793      0.078     -11.290       0.622\n",
      "const          7.6246      1.296      5.885      0.000       5.031      10.218\n",
      "==============================================================================\n",
      "Omnibus:                       50.677   Durbin-Watson:                   2.213\n",
      "Prob(Omnibus):                  0.000   Jarque-Bera (JB):              213.838\n",
      "Skew:                           2.427   Prob(JB):                     3.68e-47\n",
      "Kurtosis:                      10.872   Cond. No.                         3.31\n",
      "==============================================================================\n",
      "\n",
      "Notes:\n",
      "[1] Standard Errors assume that the covariance matrix of the errors is correctly specified.\n"
     ]
    }
   ],
   "source": [
    "X_train = sm.add_constant(compiled_results_noise[compiled_results_noise.noise==40][[\"accuracy_normal\"]].values, prepend=False)\n",
    "y_train = compiled_results_noise[compiled_results_noise.noise==40][\"delta_rmse\"].values\n",
    "# Fit and summarize OLS model\n",
    "mod = sm.OLS(y_train, X_train)\n",
    "res = mod.fit()\n",
    "print(res.summary())"
   ]
  },
  {
   "cell_type": "code",
   "execution_count": null,
   "metadata": {
    "colab": {
     "base_uri": "https://localhost:8080/"
    },
    "id": "ktIY8BwbTDpd",
    "outputId": "13b912b0-38df-49ae-c734-1abe577493a8"
   },
   "outputs": [
    {
     "name": "stdout",
     "output_type": "stream",
     "text": [
      "                            OLS Regression Results                            \n",
      "==============================================================================\n",
      "Dep. Variable:                      y   R-squared:                       0.472\n",
      "Model:                            OLS   Adj. R-squared:                  0.469\n",
      "Method:                 Least Squares   F-statistic:                     212.9\n",
      "Date:                Wed, 31 May 2023   Prob (F-statistic):           8.19e-67\n",
      "Time:                        19:39:37   Log-Likelihood:                -1240.9\n",
      "No. Observations:                 480   AIC:                             2488.\n",
      "Df Residuals:                     477   BIC:                             2500.\n",
      "Df Model:                           2                                         \n",
      "Covariance Type:            nonrobust                                         \n",
      "==============================================================================\n",
      "                 coef    std err          t      P>|t|      [0.025      0.975]\n",
      "------------------------------------------------------------------------------\n",
      "x1           -14.2873      0.912    -15.672      0.000     -16.079     -12.496\n",
      "x2             3.0655      0.715      4.288      0.000       1.661       4.470\n",
      "const         11.9552      0.442     27.033      0.000      11.086      12.824\n",
      "==============================================================================\n",
      "Omnibus:                      426.866   Durbin-Watson:                   1.631\n",
      "Prob(Omnibus):                  0.000   Jarque-Bera (JB):            16306.240\n",
      "Skew:                           3.662   Prob(JB):                         0.00\n",
      "Kurtosis:                      30.598   Cond. No.                         10.5\n",
      "==============================================================================\n",
      "\n",
      "Notes:\n",
      "[1] Standard Errors assume that the covariance matrix of the errors is correctly specified.\n"
     ]
    }
   ],
   "source": [
    "#X_train = sm.add_constant(compiled_results_noise[compiled_results_noise.noise==40][[\"completeness\",\"accuracy\"]].values, prepend=False)\n",
    "#y_train = compiled_results_noise[compiled_results_noise.noise==40][\"delta_rmse\"].values\n",
    "X_train = sm.add_constant(compiled_results_noise[[\"completeness\",\"accuracy\"]].values, prepend=False)\n",
    "y_train = compiled_results_noise[\"delta_rmse\"].values\n",
    "\n",
    "# Fit and summarize OLS model\n",
    "mod = sm.OLS(y_train, X_train)\n",
    "res = mod.fit()\n",
    "print(res.summary())"
   ]
  },
  {
   "cell_type": "code",
   "execution_count": null,
   "metadata": {
    "id": "raWxcyhYXZFH"
   },
   "outputs": [],
   "source": [
    "from sklearn.tree import DecisionTreeRegressor\n",
    "from sklearn import tree\n",
    "from matplotlib import pyplot as plt"
   ]
  },
  {
   "cell_type": "code",
   "execution_count": null,
   "metadata": {
    "colab": {
     "base_uri": "https://localhost:8080/",
     "height": 807
    },
    "id": "_uvZsHzdXYnR",
    "outputId": "10a3e7f9-e409-4b21-c48e-ce0a59aeb9db"
   },
   "outputs": [
    {
     "data": {
      "image/png": "[encoded data removed]",
      "text/plain": [
       "<Figure size 1000x1000 with 1 Axes>"
      ]
     },
     "metadata": {},
     "output_type": "display_data"
    }
   ],
   "source": [
    "regr = DecisionTreeRegressor(max_depth=3, random_state=77)\n",
    "model = regr.fit(X_train, y_train)\n",
    "fig = plt.figure(figsize=(10,10))\n",
    "_ = tree.plot_tree(regr, feature_names=[\"completeness\",\"accuracy\"], filled=True)"
   ]
  },
  {
   "cell_type": "code",
   "execution_count": null,
   "metadata": {
    "colab": {
     "base_uri": "https://localhost:8080/"
    },
    "id": "rC2OjvHnPcX4",
    "outputId": "26a92bcc-c0ea-43a9-ee8d-01c1c030aadf"
   },
   "outputs": [
    {
     "data": {
      "text/plain": [
       "(480, 2)"
      ]
     },
     "execution_count": 104,
     "metadata": {},
     "output_type": "execute_result"
    }
   ],
   "source": [
    "compiled_results_noise[[\"completeness\",\"accuracy\"]].values.shape"
   ]
  },
  {
   "cell_type": "code",
   "execution_count": null,
   "metadata": {
    "colab": {
     "base_uri": "https://localhost:8080/"
    },
    "id": "ZI0b2bhwPcUv",
    "outputId": "ff8cbbc7-4e33-4288-b453-c6eac17e07a9"
   },
   "outputs": [
    {
     "data": {
      "text/plain": [
       "(480,)"
      ]
     },
     "execution_count": 105,
     "metadata": {},
     "output_type": "execute_result"
    }
   ],
   "source": [
    "compiled_results_noise[\"delta_rmse\"].values.flatten().shape"
   ]
  },
  {
   "cell_type": "code",
   "execution_count": null,
   "metadata": {
    "colab": {
     "base_uri": "https://localhost:8080/",
     "height": 200
    },
    "id": "lM-yytKWPtWT",
    "outputId": "a6844777-36ff-4a95-f9ed-343df5741345"
   },
   "outputs": [
    {
     "ename": "NameError",
     "evalue": "ignored",
     "output_type": "error",
     "traceback": [
      "\u001b[0;31m---------------------------------------------------------------------------\u001b[0m",
      "\u001b[0;31mNameError\u001b[0m                                 Traceback (most recent call last)",
      "\u001b[0;32m<ipython-input-3-b05f68ff226a>\u001b[0m in \u001b[0;36m<cell line: 1>\u001b[0;34m()\u001b[0m\n\u001b[0;32m----> 1\u001b[0;31m \u001b[0mccpd\u001b[0m \u001b[0;34m=\u001b[0m \u001b[0mcompiled_results_noise\u001b[0m\u001b[0;34m.\u001b[0m\u001b[0mgroupby\u001b[0m\u001b[0;34m(\u001b[0m\u001b[0;34m[\u001b[0m\u001b[0;34m\"workflow\"\u001b[0m\u001b[0;34m,\u001b[0m\u001b[0;34m\"noise\"\u001b[0m\u001b[0;34m]\u001b[0m\u001b[0;34m)\u001b[0m\u001b[0;34m.\u001b[0m\u001b[0mmean\u001b[0m\u001b[0;34m(\u001b[0m\u001b[0;34m)\u001b[0m\u001b[0;34m.\u001b[0m\u001b[0mreset_index\u001b[0m\u001b[0;34m(\u001b[0m\u001b[0;34m)\u001b[0m\u001b[0;34m\u001b[0m\u001b[0;34m\u001b[0m\u001b[0m\n\u001b[0m\u001b[1;32m      2\u001b[0m \u001b[0;31m#ccpd[[\"workflow\",\"noise\",\"delta_rmse\"]].plot(x=\"noise\",y=\"delta_rmse\")\u001b[0m\u001b[0;34m\u001b[0m\u001b[0;34m\u001b[0m\u001b[0m\n\u001b[1;32m      3\u001b[0m \u001b[0mccpd\u001b[0m\u001b[0;34m.\u001b[0m\u001b[0mloc\u001b[0m\u001b[0;34m[\u001b[0m\u001b[0;34m:\u001b[0m\u001b[0;34m,\u001b[0m\u001b[0;34m\"noise\"\u001b[0m\u001b[0;34m]\u001b[0m \u001b[0;34m=\u001b[0m \u001b[0mccpd\u001b[0m\u001b[0;34m.\u001b[0m\u001b[0mnoise\u001b[0m\u001b[0;34m.\u001b[0m\u001b[0mastype\u001b[0m\u001b[0;34m(\u001b[0m\u001b[0mint\u001b[0m\u001b[0;34m)\u001b[0m\u001b[0;34m\u001b[0m\u001b[0;34m\u001b[0m\u001b[0m\n",
      "\u001b[0;31mNameError\u001b[0m: name 'compiled_results_noise' is not defined"
     ]
    }
   ],
   "source": [
    "ccpd = compiled_results_noise.groupby([\"workflow\",\"noise\"]).mean().reset_index()\n",
    "#ccpd[[\"workflow\",\"noise\",\"delta_rmse\"]].plot(x=\"noise\",y=\"delta_rmse\")\n",
    "ccpd.loc[:,\"noise\"] = ccpd.noise.astype(int)"
   ]
  },
  {
   "cell_type": "code",
   "execution_count": null,
   "metadata": {
    "colab": {
     "base_uri": "https://localhost:8080/",
     "height": 332
    },
    "id": "7HorG1EwSO7h",
    "outputId": "ccef337b-1410-4f08-f001-ed38aa68bb66"
   },
   "outputs": [
    {
     "data": {
      "text/html": [
       "\n",
       "  <div id=\"df-ae44fff6-8a02-47c4-ba2a-b6745fbbff26\">\n",
       "    <div class=\"colab-df-container\">\n",
       "      <div>\n",
       "<style scoped>\n",
       "    .dataframe tbody tr th:only-of-type {\n",
       "        vertical-align: middle;\n",
       "    }\n",
       "\n",
       "    .dataframe tbody tr th {\n",
       "        vertical-align: top;\n",
       "    }\n",
       "\n",
       "    .dataframe thead th {\n",
       "        text-align: right;\n",
       "    }\n",
       "</style>\n",
       "<table border=\"1\" class=\"dataframe\">\n",
       "  <thead>\n",
       "    <tr style=\"text-align: right;\">\n",
       "      <th></th>\n",
       "      <th>Baseline-Removal</th>\n",
       "      <th>Baseline-Average</th>\n",
       "      <th>WC1</th>\n",
       "      <th>WC2</th>\n",
       "      <th>WC3</th>\n",
       "      <th>WM</th>\n",
       "    </tr>\n",
       "    <tr>\n",
       "      <th>noise</th>\n",
       "      <th></th>\n",
       "      <th></th>\n",
       "      <th></th>\n",
       "      <th></th>\n",
       "      <th></th>\n",
       "      <th></th>\n",
       "    </tr>\n",
       "  </thead>\n",
       "  <tbody>\n",
       "    <tr>\n",
       "      <th>5</th>\n",
       "      <td>3.844216</td>\n",
       "      <td>0.993781</td>\n",
       "      <td>0.948569</td>\n",
       "      <td>1.021362</td>\n",
       "      <td>1.003689</td>\n",
       "      <td>0.964546</td>\n",
       "    </tr>\n",
       "    <tr>\n",
       "      <th>10</th>\n",
       "      <td>4.889875</td>\n",
       "      <td>1.693195</td>\n",
       "      <td>1.617910</td>\n",
       "      <td>1.840434</td>\n",
       "      <td>1.405703</td>\n",
       "      <td>1.067331</td>\n",
       "    </tr>\n",
       "    <tr>\n",
       "      <th>15</th>\n",
       "      <td>5.510659</td>\n",
       "      <td>2.136408</td>\n",
       "      <td>1.645979</td>\n",
       "      <td>2.370555</td>\n",
       "      <td>1.992591</td>\n",
       "      <td>1.038467</td>\n",
       "    </tr>\n",
       "    <tr>\n",
       "      <th>20</th>\n",
       "      <td>7.091964</td>\n",
       "      <td>2.625261</td>\n",
       "      <td>1.782440</td>\n",
       "      <td>2.572592</td>\n",
       "      <td>1.597898</td>\n",
       "      <td>1.333195</td>\n",
       "    </tr>\n",
       "    <tr>\n",
       "      <th>25</th>\n",
       "      <td>11.380216</td>\n",
       "      <td>3.068678</td>\n",
       "      <td>1.846397</td>\n",
       "      <td>2.935246</td>\n",
       "      <td>1.680675</td>\n",
       "      <td>1.424059</td>\n",
       "    </tr>\n",
       "    <tr>\n",
       "      <th>30</th>\n",
       "      <td>12.071041</td>\n",
       "      <td>3.183835</td>\n",
       "      <td>2.283322</td>\n",
       "      <td>3.307466</td>\n",
       "      <td>2.570743</td>\n",
       "      <td>1.225644</td>\n",
       "    </tr>\n",
       "    <tr>\n",
       "      <th>35</th>\n",
       "      <td>15.105076</td>\n",
       "      <td>3.440469</td>\n",
       "      <td>2.602152</td>\n",
       "      <td>3.447142</td>\n",
       "      <td>2.531880</td>\n",
       "      <td>1.653753</td>\n",
       "    </tr>\n",
       "    <tr>\n",
       "      <th>40</th>\n",
       "      <td>21.127464</td>\n",
       "      <td>3.412953</td>\n",
       "      <td>3.078916</td>\n",
       "      <td>4.689829</td>\n",
       "      <td>2.982467</td>\n",
       "      <td>1.334047</td>\n",
       "    </tr>\n",
       "  </tbody>\n",
       "</table>\n",
       "</div>\n",
       "      <button class=\"colab-df-convert\" onclick=\"convertToInteractive('df-ae44fff6-8a02-47c4-ba2a-b6745fbbff26')\"\n",
       "              title=\"Convert this dataframe to an interactive table.\"\n",
       "              style=\"display:none;\">\n",
       "        \n",
       "  <svg xmlns=\"http://www.w3.org/2000/svg\" height=\"24px\"viewBox=\"0 0 24 24\"\n",
       "       width=\"24px\">\n",
       "    <path d=\"M0 0h24v24H0V0z\" fill=\"none\"/>\n",
       "    <path d=\"M18.56 5.44l.94 2.06.94-2.06 2.06-.94-2.06-.94-.94-2.06-.94 2.06-2.06.94zm-11 1L8.5 8.5l.94-2.06 2.06-.94-2.06-.94L8.5 2.5l-.94 2.06-2.06.94zm10 10l.94 2.06.94-2.06 2.06-.94-2.06-.94-.94-2.06-.94 2.06-2.06.94z\"/><path d=\"M17.41 7.96l-1.37-1.37c-.4-.4-.92-.59-1.43-.59-.52 0-1.04.2-1.43.59L10.3 9.45l-7.72 7.72c-.78.78-.78 2.05 0 2.83L4 21.41c.39.39.9.59 1.41.59.51 0 1.02-.2 1.41-.59l7.78-7.78 2.81-2.81c.8-.78.8-2.07 0-2.86zM5.41 20L4 18.59l7.72-7.72 1.47 1.35L5.41 20z\"/>\n",
       "  </svg>\n",
       "      </button>\n",
       "      \n",
       "  <style>\n",
       "    .colab-df-container {\n",
       "      display:flex;\n",
       "      flex-wrap:wrap;\n",
       "      gap: 12px;\n",
       "    }\n",
       "\n",
       "    .colab-df-convert {\n",
       "      background-color: #E8F0FE;\n",
       "      border: none;\n",
       "      border-radius: 50%;\n",
       "      cursor: pointer;\n",
       "      display: none;\n",
       "      fill: #1967D2;\n",
       "      height: 32px;\n",
       "      padding: 0 0 0 0;\n",
       "      width: 32px;\n",
       "    }\n",
       "\n",
       "    .colab-df-convert:hover {\n",
       "      background-color: #E2EBFA;\n",
       "      box-shadow: 0px 1px 2px rgba(60, 64, 67, 0.3), 0px 1px 3px 1px rgba(60, 64, 67, 0.15);\n",
       "      fill: #174EA6;\n",
       "    }\n",
       "\n",
       "    [theme=dark] .colab-df-convert {\n",
       "      background-color: #3B4455;\n",
       "      fill: #D2E3FC;\n",
       "    }\n",
       "\n",
       "    [theme=dark] .colab-df-convert:hover {\n",
       "      background-color: #434B5C;\n",
       "      box-shadow: 0px 1px 3px 1px rgba(0, 0, 0, 0.15);\n",
       "      filter: drop-shadow(0px 1px 2px rgba(0, 0, 0, 0.3));\n",
       "      fill: #FFFFFF;\n",
       "    }\n",
       "  </style>\n",
       "\n",
       "      <script>\n",
       "        const buttonEl =\n",
       "          document.querySelector('#df-ae44fff6-8a02-47c4-ba2a-b6745fbbff26 button.colab-df-convert');\n",
       "        buttonEl.style.display =\n",
       "          google.colab.kernel.accessAllowed ? 'block' : 'none';\n",
       "\n",
       "        async function convertToInteractive(key) {\n",
       "          const element = document.querySelector('#df-ae44fff6-8a02-47c4-ba2a-b6745fbbff26');\n",
       "          const dataTable =\n",
       "            await google.colab.kernel.invokeFunction('convertToInteractive',\n",
       "                                                     [key], {});\n",
       "          if (!dataTable) return;\n",
       "\n",
       "          const docLinkHtml = 'Like what you see? Visit the ' +\n",
       "            '<a target=\"_blank\" href=https://colab.research.google.com/notebooks/data_table.ipynb>data table notebook</a>'\n",
       "            + ' to learn more about interactive tables.';\n",
       "          element.innerHTML = '';\n",
       "          dataTable['output_type'] = 'display_data';\n",
       "          await google.colab.output.renderOutput(dataTable, element);\n",
       "          const docLink = document.createElement('div');\n",
       "          docLink.innerHTML = docLinkHtml;\n",
       "          element.appendChild(docLink);\n",
       "        }\n",
       "      </script>\n",
       "    </div>\n",
       "  </div>\n",
       "  "
      ],
      "text/plain": [
       "       Baseline-Removal  Baseline-Average       WC1       WC2       WC3  \\\n",
       "noise                                                                     \n",
       "5              3.844216          0.993781  0.948569  1.021362  1.003689   \n",
       "10             4.889875          1.693195  1.617910  1.840434  1.405703   \n",
       "15             5.510659          2.136408  1.645979  2.370555  1.992591   \n",
       "20             7.091964          2.625261  1.782440  2.572592  1.597898   \n",
       "25            11.380216          3.068678  1.846397  2.935246  1.680675   \n",
       "30            12.071041          3.183835  2.283322  3.307466  2.570743   \n",
       "35            15.105076          3.440469  2.602152  3.447142  2.531880   \n",
       "40            21.127464          3.412953  3.078916  4.689829  2.982467   \n",
       "\n",
       "             WM  \n",
       "noise            \n",
       "5      0.964546  \n",
       "10     1.067331  \n",
       "15     1.038467  \n",
       "20     1.333195  \n",
       "25     1.424059  \n",
       "30     1.225644  \n",
       "35     1.653753  \n",
       "40     1.334047  "
      ]
     },
     "execution_count": 19,
     "metadata": {},
     "output_type": "execute_result"
    }
   ],
   "source": [
    "ccpd_pivot = ccpd.pivot(index='noise', columns=\"workflow\", values='delta_rmse')\n",
    "ccpd_pivot.columns = [\"Baseline-Removal\",\"Baseline-Average\",\"WC1\",\"WC2\",\"WC3\",\"WM\"]\n",
    "ccpd_pivot"
   ]
  },
  {
   "cell_type": "code",
   "execution_count": null,
   "metadata": {
    "id": "VnnNdU3ne3iL"
   },
   "outputs": [],
   "source": [
    "#compiled_results_pd.to_csv(\"compiled_results_split_all.csv\",index=False)"
   ]
  }
 ],
 "metadata": {
  "colab": {
   "provenance": []
  },
  "kernelspec": {
   "display_name": "Python 3 (ipykernel)",
   "language": "python",
   "name": "python3"
  },
  "language_info": {
   "codemirror_mode": {
    "name": "ipython",
    "version": 3
   },
   "file_extension": ".py",
   "mimetype": "text/x-python",
   "name": "python",
   "nbconvert_exporter": "python",
   "pygments_lexer": "ipython3",
   "version": "3.9.15"
  }
 },
 "nbformat": 4,
 "nbformat_minor": 1
}
